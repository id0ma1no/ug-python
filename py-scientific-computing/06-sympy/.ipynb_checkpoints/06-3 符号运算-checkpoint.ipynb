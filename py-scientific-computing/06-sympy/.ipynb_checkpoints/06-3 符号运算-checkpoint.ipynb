{
 "cells": [
  {
   "cell_type": "code",
   "execution_count": 1,
   "metadata": {},
   "outputs": [
    {
     "name": "stdout",
     "output_type": "stream",
     "text": [
      "^^^^^^^^^^^^^^^^^^^^^^^^^^^^^^^^^^^^^^^^^^^^^^!kk0:起始>^^^^^^^^^^^^^^^^^^^^^^^^^^^^^^^^^^^^^^^^^^^^^^\n"
     ]
    }
   ],
   "source": [
    "kk 0"
   ]
  },
  {
   "cell_type": "markdown",
   "metadata": {},
   "source": [
    "## 符号运算"
   ]
  },
  {
   "cell_type": "code",
   "execution_count": 2,
   "metadata": {},
   "outputs": [],
   "source": [
    "from sympy import *\n",
    "init_printing()"
   ]
  },
  {
   "cell_type": "code",
   "execution_count": 3,
   "metadata": {},
   "outputs": [],
   "source": [
    "x, y, z = symbols(\"x, y, z\")\n",
    "a, b = symbols(\"a, b\")\n",
    "f = Function(\"f\")"
   ]
  },
  {
   "cell_type": "markdown",
   "metadata": {},
   "source": [
    "### 表达式变换和化简"
   ]
  },
  {
   "cell_type": "markdown",
   "metadata": {},
   "source": [
    "simplify(): 对数学表达式进行化简"
   ]
  },
  {
   "cell_type": "code",
   "execution_count": 4,
   "metadata": {},
   "outputs": [
    {
     "data": {
      "image/png": "[encoded data removed]",
      "text/latex": [
       "$$2 x + 3$$"
      ],
      "text/plain": [
       "2⋅x + 3"
      ]
     },
     "execution_count": 4,
     "metadata": {},
     "output_type": "execute_result"
    }
   ],
   "source": [
    "simplify((x + 2) ** 2 - (x + 1) ** 2)"
   ]
  },
  {
   "cell_type": "markdown",
   "metadata": {},
   "source": [
    "radsimp(): 对表达式的分母进行有理化"
   ]
  },
  {
   "cell_type": "code",
   "execution_count": 5,
   "metadata": {},
   "outputs": [
    {
     "data": {
      "image/png": "[encoded data removed]",
      "text/latex": [
       "$$\\frac{1}{3} \\left(- \\sqrt{5} + 2 \\sqrt{2}\\right)$$"
      ],
      "text/plain": [
       "-√5 + 2⋅√2\n",
       "──────────\n",
       "    3     "
      ]
     },
     "execution_count": 5,
     "metadata": {},
     "output_type": "execute_result"
    }
   ],
   "source": [
    "radsimp(1 / (sqrt(5) + 2 * sqrt(2)))"
   ]
  },
  {
   "cell_type": "code",
   "execution_count": 6,
   "metadata": {},
   "outputs": [
    {
     "data": {
      "image/png": "[encoded data removed]",
      "text/latex": [
       "$$\\frac{- \\sqrt{x} y + x \\sqrt{y}}{x y \\left(x - y\\right)}$$"
      ],
      "text/plain": [
       "-√x⋅y + x⋅√y\n",
       "────────────\n",
       "x⋅y⋅(x - y) "
      ]
     },
     "execution_count": 6,
     "metadata": {},
     "output_type": "execute_result"
    }
   ],
   "source": [
    "radsimp(1 / (y * sqrt(x) + x * sqrt(y)))"
   ]
  },
  {
   "cell_type": "markdown",
   "metadata": {},
   "source": [
    " ratsimp(): 分母通分运算"
   ]
  },
  {
   "cell_type": "code",
   "execution_count": 7,
   "metadata": {},
   "outputs": [
    {
     "data": {
      "image/png": "[encoded data removed]",
      "text/latex": [
       "$$\\frac{2 y^{2}}{x^{2} - y^{2}} + 1$$"
      ],
      "text/plain": [
       "     2     \n",
       "  2⋅y      \n",
       "─────── + 1\n",
       " 2    2    \n",
       "x  - y     "
      ]
     },
     "execution_count": 7,
     "metadata": {},
     "output_type": "execute_result"
    }
   ],
   "source": [
    "ratsimp(x / (x + y) + y / (x - y))"
   ]
  },
  {
   "cell_type": "markdown",
   "metadata": {},
   "source": [
    "fraction(): 包含分子与分母的元组"
   ]
  },
  {
   "cell_type": "code",
   "execution_count": 8,
   "metadata": {},
   "outputs": [
    {
     "data": {
      "image/png": "[encoded data removed]",
      "text/latex": [
       "$$\\left ( x + y, \\quad x y\\right )$$"
      ],
      "text/plain": [
       "(x + y, x⋅y)"
      ]
     },
     "execution_count": 8,
     "metadata": {},
     "output_type": "execute_result"
    }
   ],
   "source": [
    "fraction(ratsimp(1 / x + 1 / y))"
   ]
  },
  {
   "cell_type": "code",
   "execution_count": 9,
   "metadata": {},
   "outputs": [
    {
     "data": {
      "image/png": "[encoded data removed]",
      "text/latex": [
       "$$\\left ( \\frac{1}{y} + \\frac{1}{x}, \\quad 1\\right )$$"
      ],
      "text/plain": [
       "⎛1   1   ⎞\n",
       "⎜─ + ─, 1⎟\n",
       "⎝y   x   ⎠"
      ]
     },
     "execution_count": 9,
     "metadata": {},
     "output_type": "execute_result"
    }
   ],
   "source": [
    "# fraction默认情况下不会对表达式进行通分运算\n",
    "fraction(1 / x + 1 / y)"
   ]
  },
  {
   "cell_type": "markdown",
   "metadata": {},
   "source": [
    "cancel(): 对分子分母进行约分运算"
   ]
  },
  {
   "cell_type": "code",
   "execution_count": 10,
   "metadata": {},
   "outputs": [
    {
     "data": {
      "image/png": "[encoded data removed]",
      "text/latex": [
       "$$x - 1$$"
      ],
      "text/plain": [
       "x - 1"
      ]
     },
     "execution_count": 10,
     "metadata": {},
     "output_type": "execute_result"
    }
   ],
   "source": [
    "cancel((x ** 2 - 1) / (1 + x))"
   ]
  },
  {
   "cell_type": "markdown",
   "metadata": {},
   "source": [
    "apart(): 部分分式分解"
   ]
  },
  {
   "cell_type": "code",
   "execution_count": 11,
   "metadata": {},
   "outputs": [
    {
     "data": {
      "image/png": "[encoded data removed]",
      "text/latex": [
       "$$- \\frac{s - 1}{2 \\left(s^{2} + 1\\right)} + \\frac{1}{2 \\left(s + 1\\right)}$$"
      ],
      "text/plain": [
       "    s - 1          1    \n",
       "- ────────── + ─────────\n",
       "    ⎛ 2    ⎞   2⋅(s + 1)\n",
       "  2⋅⎝s  + 1⎠            "
      ]
     },
     "execution_count": 11,
     "metadata": {},
     "output_type": "execute_result"
    }
   ],
   "source": [
    "s = symbols(\"s\")\n",
    "trans_func = 1/(s**3 + s**2 + s + 1)\n",
    "apart(trans_func)"
   ]
  },
  {
   "cell_type": "markdown",
   "metadata": {},
   "source": [
    "trigsimp(): 三角函数化简, `method`参数可以选择化简算法"
   ]
  },
  {
   "cell_type": "code",
   "execution_count": 12,
   "metadata": {},
   "outputs": [
    {
     "data": {
      "image/png": "[encoded data removed]",
      "text/latex": [
       "$$\\sin{\\left (2 x \\right )} + 1$$"
      ],
      "text/plain": [
       "sin(2⋅x) + 1"
      ]
     },
     "execution_count": 12,
     "metadata": {},
     "output_type": "execute_result"
    }
   ],
   "source": [
    "trigsimp(sin(x) ** 2 + 2 * sin(x) * cos(x) + cos(x) ** 2)"
   ]
  },
  {
   "cell_type": "markdown",
   "metadata": {},
   "source": [
    "expand_trig(): 展开三角函数表达式"
   ]
  },
  {
   "cell_type": "code",
   "execution_count": 13,
   "metadata": {},
   "outputs": [
    {
     "data": {
      "image/png": "[encoded data removed]",
      "text/latex": [
       "$$\\left(2 \\cos^{2}{\\left (x \\right )} - 1\\right) \\sin{\\left (y \\right )} + 2 \\sin{\\left (x \\right )} \\cos{\\left (x \\right )} \\cos{\\left (y \\right )}$$"
      ],
      "text/plain": [
       "⎛     2       ⎞                                \n",
       "⎝2⋅cos (x) - 1⎠⋅sin(y) + 2⋅sin(x)⋅cos(x)⋅cos(y)"
      ]
     },
     "execution_count": 13,
     "metadata": {},
     "output_type": "execute_result"
    }
   ],
   "source": [
    "expand_trig(sin(2 * x + y))"
   ]
  },
  {
   "cell_type": "markdown",
   "metadata": {},
   "source": [
    "**expand()**包含的二级函数:  \n",
    "expand_complex(),  expand_func(),  expand_log(),  expand_mul(),  expand_multinomial(),  expand_power_base(),  expand_power_exp(),  expand_trig(),  hyperexpand()"
   ]
  },
  {
   "cell_type": "code",
   "execution_count": 14,
   "metadata": {
    "scrolled": true
   },
   "outputs": [
    {
     "data": {
      "text/markdown": [
       "| 标志          | 表达式                | 结果                                                  | 说明               |\n",
       "|:--------------|:----------------------|:------------------------------------------------------|:-------------------|\n",
       "| `mul`         | `expand(x*(y + z))`   | $x y + x z$                                           | 分解因式           |\n",
       "| `log`         | `expand(log(x*y**2))` | $\\log{\\left (x \\right )} + 2 \\log{\\left (y \\right )}$ | 对数函数分解       |\n",
       "| `multinomial` | `expand((x + y)**2)`  | $x^{2} + 2 x y + y^{2}$                               | 多项式标准化       |\n",
       "| `power_base`  | `expand(x**2*y**2)`   | $x^{2} y^{2}$                                         | 将幂函数按底数分解 |\n",
       "| `power_exp`   | `expand(exp(x + y))`  | $e^{x} e^{y}$                                         | 将幂函数按指数分解 |"
      ]
     },
     "metadata": {},
     "output_type": "display_data"
    }
   ],
   "source": [
    "# expand()的标志参数一: 默认为正\n",
    "from sympy import *\n",
    "from tabulate import tabulate\n",
    "from IPython.display import Markdown, display_markdown\n",
    "x,y,z = symbols(\"x y z\",positive = True)\n",
    "\n",
    "flags = [\"mul\", \"log\", \"multinomial\", \"power_base\", \"power_exp\"]\n",
    "expressions = [x*(y+z), log(x*y**2), (x+y)**2, (x*y)**2, exp(x+y)]\n",
    "infos =[\"分解因式\", \"对数函数分解\", \n",
    "        \"多项式标准化\", \"将幂函数按底数分解\", \"将幂函数按指数分解\"]\n",
    "table = []\n",
    "for flag, expression, info in zip(flags, expressions, infos):\n",
    "    table.append([\"`{}`\".format(flag), \"`expand({})`\".format(expression), \"${}$\".format(latex(expand(expression))), info])\n",
    "table_md = tabulate(table, [\"标志\", \"表达式\", \"结果\", \"说明\"], \"pipe\") #pipe: markdown形式\n",
    "display_markdown(Markdown(table_md)) "
   ]
  },
  {
   "cell_type": "code",
   "execution_count": 15,
   "metadata": {},
   "outputs": [
    {
     "data": {
      "image/png": "[encoded data removed]",
      "text/latex": [
       "$$x \\left(\\log{\\left (y \\right )} + \\log{\\left (z \\right )}\\right)$$"
      ],
      "text/plain": [
       "x⋅(log(y) + log(z))"
      ]
     },
     "execution_count": 15,
     "metadata": {},
     "output_type": "execute_result"
    }
   ],
   "source": [
    "# 不展开特定类型的表达式\n",
    "x, y, z = symbols(\"x,y,z\", positive=True)\n",
    "expand(x * log(y * z), mul=0)"
   ]
  },
  {
   "cell_type": "code",
   "execution_count": 16,
   "metadata": {},
   "outputs": [
    {
     "data": {
      "text/markdown": [
       "| 标志      | 表达式                 | 结果                          | 说明                     |\n",
       "|:----------|:-----------------------|:------------------------------|:-------------------------|\n",
       "| `complex` | `expand(x*y)`          | $x y$                         | 展开复数                 |\n",
       "| `func`    | `expand(gamma(x + 1))` | $\\Gamma{\\left(x + 1 \\right)}$ | 对一些特殊的函数进行展开 |\n",
       "| `trig`    | `expand(sin(x + y))`   | $\\sin{\\left (x + y \\right )}$ | 三角函数展开             |"
      ]
     },
     "metadata": {},
     "output_type": "display_data"
    }
   ],
   "source": [
    "# expand()的标志参数二: 默认为False\n",
    "from tabulate import tabulate\n",
    "from IPython.display import Markdown\n",
    "flags = [\"complex\", \"func\", \"trig\"]\n",
    "expressions = [x * y, gamma(1 + x), sin(x + y)]\n",
    "infos =[\"展开复数\", \"对一些特殊的函数进行展开\", \"三角函数展开\"]\n",
    "table = []\n",
    "for flag, expression, info in zip(flags, expressions, infos):\n",
    "    table.append([\"`{}`\".format(flag), \n",
    "                  \"`expand({})`\".format(expression), \n",
    "                  \"${}$\".format(latex(expand(expression))),\n",
    "                 info])\n",
    "\n",
    "display_markdown(Markdown(tabulate(table, [\"标志\", \"表达式\", \"结果\", \"说明\"], \"pipe\")))"
   ]
  },
  {
   "cell_type": "code",
   "execution_count": 17,
   "metadata": {},
   "outputs": [
    {
     "data": {
      "image/png": "[encoded data removed]",
      "text/latex": [
       "$$\\Re{\\left(x\\right)} \\Re{\\left(y\\right)} + i \\Re{\\left(x\\right)} \\Im{y} + i \\Re{\\left(y\\right)} \\Im{x} - \\Im{x} \\Im{y}$$"
      ],
      "text/plain": [
       "re(x)⋅re(y) + ⅈ⋅re(x)⋅im(y) + ⅈ⋅re(y)⋅im(x) - im(x)⋅im(y)"
      ]
     },
     "execution_count": 17,
     "metadata": {},
     "output_type": "execute_result"
    }
   ],
   "source": [
    "# complex=True: 展开复数的实部和虚部\n",
    "x, y = symbols(\"x,y\", complex=True)\n",
    "expand(x * y, complex=True)"
   ]
  },
  {
   "cell_type": "code",
   "execution_count": 18,
   "metadata": {},
   "outputs": [
    {
     "data": {
      "image/png": "[encoded data removed]",
      "text/latex": [
       "$$x \\Gamma{\\left(x \\right)}$$"
      ],
      "text/plain": [
       "x⋅Γ(x)"
      ]
     },
     "execution_count": 18,
     "metadata": {},
     "output_type": "execute_result"
    }
   ],
   "source": [
    "# func=True: 对一些特殊函数进行展开\n",
    "expand(gamma(1 + x), func=True)"
   ]
  },
  {
   "cell_type": "code",
   "execution_count": 19,
   "metadata": {},
   "outputs": [
    {
     "data": {
      "image/png": "[encoded data removed]",
      "text/latex": [
       "$$\\sin{\\left (x \\right )} \\cos{\\left (y \\right )} + \\sin{\\left (y \\right )} \\cos{\\left (x \\right )}$$"
      ],
      "text/plain": [
       "sin(x)⋅cos(y) + sin(y)⋅cos(x)"
      ]
     },
     "execution_count": 19,
     "metadata": {},
     "output_type": "execute_result"
    }
   ],
   "source": [
    "# trig=True: 展开三角函数\n",
    "expand(sin(x + y), trig=True)"
   ]
  },
  {
   "cell_type": "markdown",
   "metadata": {},
   "source": [
    "factor(): 对多项式表达式进行因式分解"
   ]
  },
  {
   "cell_type": "code",
   "execution_count": 20,
   "metadata": {},
   "outputs": [
    {
     "data": {
      "image/png": "[encoded data removed]",
      "text/latex": [
       "$$\\left(3 x - 2 y\\right) \\left(5 x - 1\\right)$$"
      ],
      "text/plain": [
       "(3⋅x - 2⋅y)⋅(5⋅x - 1)"
      ]
     },
     "execution_count": 20,
     "metadata": {},
     "output_type": "execute_result"
    }
   ],
   "source": [
    "factor(15 * x ** 2 + 2 * y - 3 * x - 10 * x * y)"
   ]
  },
  {
   "cell_type": "markdown",
   "metadata": {},
   "source": [
    "collect(): 合并同类项"
   ]
  },
  {
   "cell_type": "code",
   "execution_count": 21,
   "metadata": {},
   "outputs": [
    {
     "data": {
      "image/png": "[encoded data removed]",
      "text/latex": [
       "$$a^{3} x^{3} + x^{2} \\left(3 a^{2} + b^{2}\\right) + x \\left(3 a + 2 b\\right) + 2$$"
      ],
      "text/plain": [
       " 3  3    2 ⎛   2    2⎞                    \n",
       "a ⋅x  + x ⋅⎝3⋅a  + b ⎠ + x⋅(3⋅a + 2⋅b) + 2"
      ]
     },
     "execution_count": 21,
     "metadata": {},
     "output_type": "execute_result"
    }
   ],
   "source": [
    "eq = (1 + a * x) ** 3 + (1 + b * x) ** 2\n",
    "eq2 = expand(eq)\n",
    "collect(eq2, x)"
   ]
  },
  {
   "cell_type": "code",
   "execution_count": 22,
   "metadata": {},
   "outputs": [
    {
     "name": "stdout",
     "output_type": "stream",
     "text": [
      "p[S(1)]    p[x*1]      p[x**2]     p[x**3]\n",
      "-------  ---------  -------------  -------\n",
      "2        3*a + 2*b  3*a**2 + b**2  a**3   \n"
     ]
    }
   ],
   "source": [
    "# evaluate为False时返回一个字典: {x的幂: 系数}, 常数的键为S(1)\n",
    "p = collect(eq2, x, evaluate=False)\n",
    "%C p[S(1)]; p[x*1]; p[x**2]; p[x**3]"
   ]
  },
  {
   "cell_type": "code",
   "execution_count": 23,
   "metadata": {},
   "outputs": [
    {
     "name": "stdout",
     "output_type": "stream",
     "text": [
      "eq2.coeff(x, 0)  eq2.coeff(x, 2)\n",
      "---------------  ---------------\n",
      "2                3*a**2 + b**2  \n"
     ]
    }
   ],
   "source": [
    "# 通过coeff()方法获取系数\n",
    "%C eq2.coeff(x, 0); eq2.coeff(x, 2)"
   ]
  },
  {
   "cell_type": "code",
   "execution_count": 24,
   "metadata": {},
   "outputs": [
    {
     "data": {
      "image/png": "[encoded data removed]",
      "text/latex": [
       "$$\\left(a + b\\right) \\sin{\\left (2 x \\right )}$$"
      ],
      "text/plain": [
       "(a + b)⋅sin(2⋅x)"
      ]
     },
     "execution_count": 24,
     "metadata": {},
     "output_type": "execute_result"
    }
   ],
   "source": [
    "# 以sin(2x)为焦点合并同类项\n",
    "collect(a * sin(2 * x) + b * sin(2 * x), sin(2 * x))"
   ]
  },
  {
   "cell_type": "markdown",
   "metadata": {},
   "source": [
    "### 方程"
   ]
  },
  {
   "cell_type": "markdown",
   "metadata": {},
   "source": [
    "sympy中的表达式本身就是就是一个值为0的方程, 如果值不为0, 需要用Eq创建;  \n",
    "使用 solve()求一元二次方程的符号解(单变量方程的解): 一个方程可由多个解, 使用列表保存;"
   ]
  },
  {
   "cell_type": "code",
   "execution_count": 25,
   "metadata": {},
   "outputs": [
    {
     "data": {
      "image/png": "[encoded data removed]",
      "text/latex": [
       "$$\\left [ \\frac{1}{2 a} \\left(- b + \\sqrt{- 4 a c + b^{2}}\\right), \\quad - \\frac{1}{2 a} \\left(b + \\sqrt{- 4 a c + b^{2}}\\right)\\right ]$$"
      ],
      "text/plain": [
       "⎡        _____________   ⎛       _____________⎞ ⎤\n",
       "⎢       ╱           2    ⎜      ╱           2 ⎟ ⎥\n",
       "⎢-b + ╲╱  -4⋅a⋅c + b    -⎝b + ╲╱  -4⋅a⋅c + b  ⎠ ⎥\n",
       "⎢─────────────────────, ────────────────────────⎥\n",
       "⎣         2⋅a                     2⋅a           ⎦"
      ]
     },
     "execution_count": 25,
     "metadata": {},
     "output_type": "execute_result"
    }
   ],
   "source": [
    "a, b, c = symbols(\"a,b,c\")\n",
    "solve(a * x ** 2 + b * x + c, x)"
   ]
  },
  {
   "cell_type": "code",
   "execution_count": 26,
   "metadata": {},
   "outputs": [
    {
     "data": {
      "image/png": "[encoded data removed]",
      "text/latex": [
       "$$\\left [ \\left ( - \\frac{\\sqrt{3} i}{3}, \\quad - \\frac{2 i}{3} \\sqrt{3}\\right ), \\quad \\left ( \\frac{\\sqrt{3} i}{3}, \\quad \\frac{2 i}{3} \\sqrt{3}\\right )\\right ]$$"
      ],
      "text/plain": [
       "⎡⎛-√3⋅ⅈ   -2⋅√3⋅ⅈ ⎞  ⎛√3⋅ⅈ  2⋅√3⋅ⅈ⎞⎤\n",
       "⎢⎜──────, ────────⎟, ⎜────, ──────⎟⎥\n",
       "⎣⎝  3        3    ⎠  ⎝ 3      3   ⎠⎦"
      ]
     },
     "execution_count": 26,
     "metadata": {},
     "output_type": "execute_result"
    }
   ],
   "source": [
    "# solve可一次求解多个方程, 返回一个嵌套列表\n",
    "solve((x ** 2 + x * y + 1, y ** 2 + x * y + 2), x, y)"
   ]
  },
  {
   "cell_type": "markdown",
   "metadata": {},
   "source": [
    "root(): 可求单变量方程的根, 返回解及其多重性(multiplicities)"
   ]
  },
  {
   "cell_type": "code",
   "execution_count": 27,
   "metadata": {},
   "outputs": [
    {
     "data": {
      "image/png": "[encoded data removed]",
      "text/latex": [
       "$$\\left \\{ 1 : 1, \\quad 1 + \\sqrt{2} : 1, \\quad - \\sqrt{2} + 1 : 1\\right \\}$$"
      ],
      "text/plain": [
       "{1: 1, 1 + √2: 1, -√2 + 1: 1}"
      ]
     },
     "execution_count": 27,
     "metadata": {},
     "output_type": "execute_result"
    }
   ],
   "source": [
    "roots(x**3 - 3*x**2 + x + 1)"
   ]
  },
  {
   "cell_type": "markdown",
   "metadata": {},
   "source": [
    "### 微分"
   ]
  },
  {
   "cell_type": "markdown",
   "metadata": {},
   "source": [
    "Derivative(): 导函数类, 接收表达式和自变量, 返回一个导函数对象"
   ]
  },
  {
   "cell_type": "code",
   "execution_count": 28,
   "metadata": {},
   "outputs": [
    {
     "data": {
      "image/png": "[encoded data removed]",
      "text/latex": [
       "$$\\frac{d}{d x} \\sin{\\left (x \\right )}$$"
      ],
      "text/plain": [
       "d         \n",
       "──(sin(x))\n",
       "dx        "
      ]
     },
     "execution_count": 28,
     "metadata": {},
     "output_type": "execute_result"
    }
   ],
   "source": [
    "t = Derivative(sin(x), x)\n",
    "t"
   ]
  },
  {
   "cell_type": "code",
   "execution_count": 29,
   "metadata": {},
   "outputs": [
    {
     "data": {
      "image/png": "[encoded data removed]",
      "text/latex": [
       "$$\\cos{\\left (x \\right )}$$"
      ],
      "text/plain": [
       "cos(x)"
      ]
     },
     "execution_count": 29,
     "metadata": {},
     "output_type": "execute_result"
    }
   ],
   "source": [
    "# 导函数对象的doit()方法计算导函数的倒数(do it)\n",
    "t.doit()"
   ]
  },
  {
   "cell_type": "markdown",
   "metadata": {},
   "source": [
    "直接调用diff()函数或表达式的diff()方法也可以计算导数"
   ]
  },
  {
   "cell_type": "code",
   "execution_count": 30,
   "metadata": {},
   "outputs": [
    {
     "data": {
      "image/png": "[encoded data removed]",
      "text/latex": [
       "$$2 \\cos{\\left (2 x \\right )}$$"
      ],
      "text/plain": [
       "2⋅cos(2⋅x)"
      ]
     },
     "execution_count": 30,
     "metadata": {},
     "output_type": "execute_result"
    }
   ],
   "source": [
    "diff(sin(2*x), x)"
   ]
  },
  {
   "cell_type": "markdown",
   "metadata": {},
   "source": [
    "Derivative对象可以表示自定义的数学函数的导数"
   ]
  },
  {
   "cell_type": "code",
   "execution_count": 31,
   "metadata": {},
   "outputs": [
    {
     "data": {
      "image/png": "[encoded data removed]",
      "text/latex": [
       "$$\\frac{d}{d x} f{\\left (x \\right )}$$"
      ],
      "text/plain": [
       "d       \n",
       "──(f(x))\n",
       "dx      "
      ]
     },
     "execution_count": 31,
     "metadata": {},
     "output_type": "execute_result"
    }
   ],
   "source": [
    "Derivative(f(x), x)"
   ]
  },
  {
   "cell_type": "markdown",
   "metadata": {},
   "source": [
    "高阶导数"
   ]
  },
  {
   "cell_type": "code",
   "execution_count": 32,
   "metadata": {},
   "outputs": [
    {
     "data": {
      "image/png": "[encoded data removed]",
      "text/latex": [
       "$$\\frac{d^{3}}{d x^{3}}  f{\\left (x \\right )}$$"
      ],
      "text/plain": [
       "  3      \n",
       " d       \n",
       "───(f(x))\n",
       "  3      \n",
       "dx       "
      ]
     },
     "execution_count": 32,
     "metadata": {},
     "output_type": "execute_result"
    }
   ],
   "source": [
    "Derivative(f(x), x, x, x) # 也可以写作Derivative(f(x), x, 3)"
   ]
  },
  {
   "cell_type": "markdown",
   "metadata": {},
   "source": [
    "使用不同的自变量参数创建偏导数函数"
   ]
  },
  {
   "cell_type": "code",
   "execution_count": 33,
   "metadata": {},
   "outputs": [
    {
     "data": {
      "image/png": "[encoded data removed]",
      "text/latex": [
       "$$\\frac{\\partial^{5}}{\\partial x^{2}\\partial y^{3}}  f{\\left (x,y \\right )}$$"
      ],
      "text/plain": [
       "    5           \n",
       "   ∂            \n",
       "───────(f(x, y))\n",
       "  3   2         \n",
       "∂y  ∂x          "
      ]
     },
     "execution_count": 33,
     "metadata": {},
     "output_type": "execute_result"
    }
   ],
   "source": [
    "Derivative(f(x, y), x, 2, y, 3)"
   ]
  },
  {
   "cell_type": "markdown",
   "metadata": {},
   "source": [
    "diff函数的参数和 Derivative的参数相同"
   ]
  },
  {
   "cell_type": "code",
   "execution_count": 34,
   "metadata": {},
   "outputs": [
    {
     "data": {
      "image/png": "[encoded data removed]",
      "text/latex": [
       "$$x \\left(x^{2} y^{2} \\cos{\\left (x y \\right )} + 6 x y \\sin{\\left (x y \\right )} - 6 \\cos{\\left (x y \\right )}\\right)$$"
      ],
      "text/plain": [
       "  ⎛ 2  2                                       ⎞\n",
       "x⋅⎝x ⋅y ⋅cos(x⋅y) + 6⋅x⋅y⋅sin(x⋅y) - 6⋅cos(x⋅y)⎠"
      ]
     },
     "execution_count": 34,
     "metadata": {},
     "output_type": "execute_result"
    }
   ],
   "source": [
    "diff(sin(x * y), x, 2, y, 3)"
   ]
  },
  {
   "cell_type": "markdown",
   "metadata": {},
   "source": [
    "### 微分方程"
   ]
  },
  {
   "cell_type": "markdown",
   "metadata": {},
   "source": [
    "dsolve()对微分方程进行符号求解:  \n",
    "* 它的第一个参数是带未知函数的表达式;  \n",
    "* 第二个参数是带求解的未知函数;"
   ]
  },
  {
   "cell_type": "code",
   "execution_count": 35,
   "metadata": {},
   "outputs": [
    {
     "data": {
      "image/png": "[encoded data removed]",
      "text/latex": [
       "$$f{\\left (x \\right )} = C_{1} e^{x}$$"
      ],
      "text/plain": [
       "           x\n",
       "f(x) = C₁⋅ℯ "
      ]
     },
     "execution_count": 35,
     "metadata": {},
     "output_type": "execute_result"
    }
   ],
   "source": [
    "x=symbols('x')\n",
    "f=symbols('f', cls=Function)\n",
    "dsolve(Derivative(f(x), x) - f(x), f(x))"
   ]
  },
  {
   "cell_type": "markdown",
   "metadata": {},
   "source": [
    "不同的微分方程需要使用不同的解法, classify_ode()可以查看指定微分方程可选的解法列表;"
   ]
  },
  {
   "cell_type": "code",
   "execution_count": 36,
   "metadata": {},
   "outputs": [
    {
     "data": {
      "image/png": "[encoded data removed]",
      "text/latex": [
       "$$f{\\left (x \\right )} + \\frac{d}{d x} f{\\left (x \\right )} = \\left(- \\sin{\\left (x \\right )} + \\cos{\\left (x \\right )}\\right) f^{2}{\\left (x \\right )}$$"
      ],
      "text/plain": [
       "       d                              2   \n",
       "f(x) + ──(f(x)) = (-sin(x) + cos(x))⋅f (x)\n",
       "       dx                                 "
      ]
     },
     "execution_count": 36,
     "metadata": {},
     "output_type": "execute_result"
    }
   ],
   "source": [
    "eq = Eq(f(x).diff(x) + f(x), (cos(x) - sin(x)) * f(x)**2)\n",
    "eq"
   ]
  },
  {
   "cell_type": "code",
   "execution_count": 37,
   "metadata": {},
   "outputs": [
    {
     "data": {
      "text/plain": [
       "('1st_power_series', 'lie_group')"
      ]
     },
     "execution_count": 37,
     "metadata": {},
     "output_type": "execute_result"
    }
   ],
   "source": [
    "classify_ode(eq, f(x))"
   ]
  },
  {
   "cell_type": "markdown",
   "metadata": {},
   "source": [
    "使用dsolve()的的hint参数指定求解微分方程的算法"
   ]
  },
  {
   "cell_type": "code",
   "execution_count": 38,
   "metadata": {},
   "outputs": [
    {
     "data": {
      "image/png": "[encoded data removed]",
      "text/latex": [
       "$$f{\\left (x \\right )} = C_{1} - \\frac{C_{1} x^{2}}{2} - \\frac{C_{1} x^{3}}{6} + \\frac{C_{1} x^{4}}{4} + \\frac{C_{1} x^{5}}{120} \\left(- C_{1} \\left(C_{1} - 3\\right) - C_{1} \\left(C_{1} + 1\\right) + 4 C_{1} + 12\\right) + \\mathcal{O}\\left(x^{6}\\right)$$"
      ],
      "text/plain": [
       "                2       3       4       5                                     \n",
       "            C₁⋅x    C₁⋅x    C₁⋅x    C₁⋅x ⋅(-C₁⋅(C₁ - 3) - C₁⋅(C₁ + 1) + 4⋅C₁ +\n",
       "f(x) = C₁ - ───── - ───── + ───── + ──────────────────────────────────────────\n",
       "              2       6       4                          120                  \n",
       "\n",
       "            \n",
       " 12)    ⎛ 6⎞\n",
       "──── + O⎝x ⎠\n",
       "            "
      ]
     },
     "execution_count": 38,
     "metadata": {},
     "output_type": "execute_result"
    }
   ],
   "source": [
    "dsolve(eq, f(x), hint='default')"
   ]
  },
  {
   "cell_type": "code",
   "execution_count": 39,
   "metadata": {},
   "outputs": [
    {
     "data": {
      "image/png": "[encoded data removed]",
      "text/latex": [
       "$$f{\\left (x \\right )} = \\frac{1}{C_{1} e^{x} - \\sin{\\left (x \\right )}}$$"
      ],
      "text/plain": [
       "             1       \n",
       "f(x) = ──────────────\n",
       "           x         \n",
       "       C₁⋅ℯ  - sin(x)"
      ]
     },
     "execution_count": 39,
     "metadata": {},
     "output_type": "execute_result"
    }
   ],
   "source": [
    "dsolve(eq, f(x), hint=\"lie_group\")"
   ]
  },
  {
   "cell_type": "code",
   "execution_count": 40,
   "metadata": {},
   "outputs": [
    {
     "data": {
      "text/plain": [
       "{'lie_group': Eq(f(x), 1/(C1*exp(x) - sin(x))),\n",
       " '1st_power_series': Eq(f(x), C1 - C1*x**2/2 - C1*x**3/6 + C1*x**4/4 + C1*x**5*(-C1*(C1 - 3) - C1*(C1 + 1) + 4*C1 + 12)/120 + O(x**6)),\n",
       " 'best': Eq(f(x), 1/(C1*exp(x) - sin(x))),\n",
       " 'best_hint': 'lie_group',\n",
       " 'default': '1st_power_series',\n",
       " 'order': 1}"
      ]
     },
     "execution_count": 40,
     "metadata": {},
     "output_type": "execute_result"
    }
   ],
   "source": [
    "dsolve(eq, f(x), hint=\"all\") #尝试 classify_ode返回的所有解法"
   ]
  },
  {
   "cell_type": "markdown",
   "metadata": {},
   "source": [
    "查看系统支持的所有解法"
   ]
  },
  {
   "cell_type": "code",
   "execution_count": 41,
   "metadata": {},
   "outputs": [
    {
     "data": {
      "text/plain": [
       "('separable', '1st_exact', '1st_linear', 'Bernoulli', 'Riccati_special_minus2')"
      ]
     },
     "execution_count": 41,
     "metadata": {},
     "output_type": "execute_result"
    }
   ],
   "source": [
    "sym.ode.allhints[:5]"
   ]
  },
  {
   "cell_type": "markdown",
   "metadata": {},
   "source": [
    "### 积分"
   ]
  },
  {
   "cell_type": "markdown",
   "metadata": {},
   "source": [
    "integrate()既可以计算定积分(definite integration)也可以计算不定积分(indefinite):  \n",
    "不定积分: integrate(f,x), $\\int f{\\left (x \\right )}\\, dx$. 定积分: integrate(f,(x,a,b)), $\\int_a^b f{\\left (x \\right )}\\, dx$.  \n",
    "双重不定积分: integrate(f,x,y);  双重定积分: integrate(f,(x,a,b),(y,c,d));  "
   ]
  },
  {
   "cell_type": "code",
   "execution_count": 42,
   "metadata": {},
   "outputs": [
    {
     "data": {
      "image/png": "[encoded data removed]",
      "text/latex": [
       "$$\\int x \\sin{\\left (x \\right )}\\, dx$$"
      ],
      "text/plain": [
       "⌠            \n",
       "⎮ x⋅sin(x) dx\n",
       "⌡            "
      ]
     },
     "execution_count": 42,
     "metadata": {},
     "output_type": "execute_result"
    }
   ],
   "source": [
    "e = Integral(x*sin(x), x)\n",
    "e    "
   ]
  },
  {
   "cell_type": "code",
   "execution_count": 43,
   "metadata": {},
   "outputs": [
    {
     "data": {
      "image/png": "[encoded data removed]",
      "text/latex": [
       "$$- x \\cos{\\left (x \\right )} + \\sin{\\left (x \\right )}$$"
      ],
      "text/plain": [
       "-x⋅cos(x) + sin(x)"
      ]
     },
     "execution_count": 43,
     "metadata": {},
     "output_type": "execute_result"
    }
   ],
   "source": [
    "e.doit()"
   ]
  },
  {
   "cell_type": "markdown",
   "metadata": {},
   "source": [
    "无法进行符号计算时, 转为数值计算"
   ]
  },
  {
   "cell_type": "code",
   "execution_count": 44,
   "metadata": {},
   "outputs": [
    {
     "data": {
      "image/png": "[encoded data removed]",
      "text/latex": [
       "$$\\operatorname{Si}{\\left (1 \\right )}$$"
      ],
      "text/plain": [
       "Si(1)"
      ]
     },
     "execution_count": 44,
     "metadata": {},
     "output_type": "execute_result"
    }
   ],
   "source": [
    "e2 = Integral(sin(x)/x, (x, 0, 1))\n",
    "e2.doit()"
   ]
  },
  {
   "cell_type": "code",
   "execution_count": 45,
   "metadata": {},
   "outputs": [
    {
     "name": "stdout",
     "output_type": "stream",
     "text": [
      " 1): 0.946083070367183,     2): 0.94608,    \n"
     ]
    }
   ],
   "source": [
    "%P e2.evalf(); e2.evalf(5) # 可以指定精度"
   ]
  },
  {
   "cell_type": "markdown",
   "metadata": {},
   "source": [
    "sympy进行数值积分的问题, 无法正确处理无穷积分"
   ]
  },
  {
   "cell_type": "code",
   "execution_count": 46,
   "metadata": {},
   "outputs": [
    {
     "data": {
      "image/png": "[encoded data removed]",
      "text/latex": [
       "$$-4.0$$"
      ],
      "text/plain": [
       "-0.e+0"
      ]
     },
     "execution_count": 46,
     "metadata": {},
     "output_type": "execute_result"
    }
   ],
   "source": [
    "e3 = Integral(sin(x)/x, (x, 0, oo))\n",
    "e3.evalf()"
   ]
  },
  {
   "cell_type": "code",
   "execution_count": 47,
   "metadata": {},
   "outputs": [
    {
     "data": {
      "image/png": "[encoded data removed]",
      "text/latex": [
       "$$\\frac{\\pi}{2}$$"
      ],
      "text/plain": [
       "π\n",
       "─\n",
       "2"
      ]
     },
     "execution_count": 47,
     "metadata": {},
     "output_type": "execute_result"
    }
   ],
   "source": [
    "e3.doit()"
   ]
  },
  {
   "cell_type": "code",
   "execution_count": 48,
   "metadata": {},
   "outputs": [
    {
     "name": "stdout",
     "output_type": "stream",
     "text": [
      "$$$$$$$$$$$$$$$$$$$$$$$$$$$$$$$$$$$$$$$$$$$$$$!kk2:终止>$$$$$$$$$$$$$$$$$$$$$$$$$$$$$$$$$$$$$$$$$$$$$$\n"
     ]
    }
   ],
   "source": [
    "kk 2"
   ]
  }
 ],
 "metadata": {
  "kernelspec": {
   "display_name": "Python 3",
   "language": "python",
   "name": "python3"
  },
  "language_info": {
   "codemirror_mode": {
    "name": "ipython",
    "version": 3
   },
   "file_extension": ".py",
   "mimetype": "text/x-python",
   "name": "python",
   "nbconvert_exporter": "python",
   "pygments_lexer": "ipython3",
   "version": "3.6.5"
  },
  "toc": {
   "base_numbering": "6.3",
   "nav_menu": {},
   "number_sections": true,
   "sideBar": true,
   "skip_h1_title": false,
   "title_cell": "Table of Contents",
   "title_sidebar": "Contents",
   "toc_cell": false,
   "toc_position": {},
   "toc_section_display": true,
   "toc_window_display": false
  }
 },
 "nbformat": 4,
 "nbformat_minor": 1
}

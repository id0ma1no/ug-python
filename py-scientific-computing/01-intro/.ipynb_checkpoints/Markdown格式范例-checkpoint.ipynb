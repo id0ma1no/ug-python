{
 "cells": [
  {
   "cell_type": "markdown",
   "metadata": {},
   "source": [
    "# Markdown扫盲教程"
   ]
  },
  {
   "cell_type": "markdown",
   "metadata": {},
   "source": [
    "## 插入列表"
   ]
  },
  {
   "cell_type": "markdown",
   "metadata": {},
   "source": [
    "**无序列表**\n",
    "\n",
    "* 无序列表第一行\n",
    "* 无序列表第二行"
   ]
  },
  {
   "cell_type": "markdown",
   "metadata": {},
   "source": [
    "**有序列表**\n",
    "\n",
    "1. 有序列表第一行\n",
    "2. 有序列表第二行\n",
    "3. 有序列表第三行"
   ]
  },
  {
   "cell_type": "markdown",
   "metadata": {},
   "source": [
    "## 插入表格"
   ]
  },
  {
   "cell_type": "markdown",
   "metadata": {},
   "source": [
    "| 列1 | 列2 | 列3 |\n",
    "|-----|:---:|----:|\n",
    "|1|22|333|\n",
    "|44444|55555|666666|"
   ]
  },
  {
   "cell_type": "markdown",
   "metadata": {},
   "source": [
    "## 数学公式"
   ]
  },
  {
   "cell_type": "markdown",
   "metadata": {},
   "source": [
    "辅助 [在线LaTex](https://www.codecogs.com/latex/eqneditor.php), 插入公式: $e^{i\\pi}+1 = 0$; "
   ]
  },
  {
   "cell_type": "markdown",
   "metadata": {},
   "source": [
    "使用**sympy**模块插入公式:  "
   ]
  },
  {
   "cell_type": "code",
   "execution_count": 9,
   "metadata": {},
   "outputs": [
    {
     "data": {
      "text/latex": [
       "$$\\int \\sin{\\left (x \\right )}\\, dx$$"
      ],
      "text/plain": [
       "<IPython.core.display.Latex object>"
      ]
     },
     "metadata": {},
     "output_type": "display_data"
    }
   ],
   "source": [
    "from sympy import *\n",
    "x,y,z = symbols(\"x y z\")\n",
    "expr_string = \"Integral(sin(x))\"\n",
    "expr2latex(expr_string,1)"
   ]
  },
  {
   "cell_type": "markdown",
   "metadata": {},
   "source": [
    "## 插入图片"
   ]
  },
  {
   "cell_type": "markdown",
   "metadata": {},
   "source": [
    "插入本地照片: `![cat](cat.jpg)`\n",
    "\n",
    "插入网络照片: `![cat](https://github.com/y2sinx/fun/blob/master/cat.jpg?raw=true)`\n",
    "\n",
    "插入照片时修改大小, 添加标题:\n",
    "\n",
    "<center>\n",
    "<img src=\"https://github.com/y2sinx/fun/blob/master/cat.jpg?raw=true\" width=\"25%\" height=\"25%\" />\n",
    "Figure 1. Cat\n",
    "</center>"
   ]
  },
  {
   "cell_type": "markdown",
   "metadata": {},
   "source": [
    "## 插入外部链接"
   ]
  },
  {
   "cell_type": "markdown",
   "metadata": {},
   "source": [
    "[百度](https://www.baidu.com)"
   ]
  },
  {
   "cell_type": "markdown",
   "metadata": {},
   "source": [
    "<span id=\"mao\">  <font color=#8B0000 size=6>猫</font>   </span> "
   ]
  },
  {
   "cell_type": "markdown",
   "metadata": {},
   "source": [
    "## 设置页内锚点, 实现页内跳转"
   ]
  },
  {
   "cell_type": "markdown",
   "metadata": {},
   "source": [
    "1. 设置锚点: ``<span id=\"mao\"> 猫 </span> ``  \n",
    "1. markdown语法: [跳转到猫字](#mao);"
   ]
  },
  {
   "cell_type": "markdown",
   "metadata": {},
   "source": [
    "## 设置文本块的颜色"
   ]
  },
  {
   "cell_type": "markdown",
   "metadata": {},
   "source": [
    "<font color=#8B0000 size=6> color的可选值: </font>    \n",
    "* Red, Green, Blue, Gray, Brown, Purple;\n",
    "* DarkRed, LightRed, DeepPink;\n",
    "* Cyan, Gold, Orange, Chocolate,\n",
    "* DarkRed: #8B0000"
   ]
  },
  {
   "cell_type": "markdown",
   "metadata": {},
   "source": [
    "## 换行, 缩进, 引用"
   ]
  },
  {
   "cell_type": "markdown",
   "metadata": {},
   "source": [
    "换行:   \n",
    "* 两个空格+enter;  \n",
    "* html的换行标签:<br\\>; <br>...\n",
    "\n",
    "> 我是引用"
   ]
  },
  {
   "cell_type": "markdown",
   "metadata": {},
   "source": [
    "## 粗体斜体分割线"
   ]
  },
  {
   "cell_type": "markdown",
   "metadata": {},
   "source": [
    "**粗体** *斜体* "
   ]
  },
  {
   "cell_type": "markdown",
   "metadata": {},
   "source": [
    "*** \n",
    "分割线\n",
    "***"
   ]
  },
  {
   "cell_type": "markdown",
   "metadata": {},
   "source": [
    "## 代码块"
   ]
  },
  {
   "cell_type": "markdown",
   "metadata": {},
   "source": [
    "单个backstick表示阴影: `阴影`;  \n",
    "使用三个backstick表示代码块:  \n",
    "``` def pretty(obj):\n",
    "    import numpy as np\n",
    "    if isinstance(obj, np.ndarray):\n",
    "        return np.array2string(obj, separator=\", \")\n",
    "    else:\n",
    "        return _pretty(obj)```"
   ]
  },
  {
   "cell_type": "code",
   "execution_count": null,
   "metadata": {},
   "outputs": [],
   "source": []
  },
  {
   "cell_type": "code",
   "execution_count": null,
   "metadata": {},
   "outputs": [],
   "source": []
  }
 ],
 "metadata": {
  "kernelspec": {
   "display_name": "Python 3",
   "language": "python",
   "name": "python3"
  },
  "language_info": {
   "codemirror_mode": {
    "name": "ipython",
    "version": 3
   },
   "file_extension": ".py",
   "mimetype": "text/x-python",
   "name": "python",
   "nbconvert_exporter": "python",
   "pygments_lexer": "ipython3",
   "version": "3.6.5"
  },
  "toc": {
   "base_numbering": 1,
   "nav_menu": {},
   "number_sections": true,
   "sideBar": true,
   "skip_h1_title": true,
   "title_cell": "Table of Contents",
   "title_sidebar": "Contents",
   "toc_cell": false,
   "toc_position": {
    "height": "calc(100% - 180px)",
    "left": "10px",
    "top": "150px",
    "width": "163px"
   },
   "toc_section_display": true,
   "toc_window_display": true
  }
 },
 "nbformat": 4,
 "nbformat_minor": 1
}

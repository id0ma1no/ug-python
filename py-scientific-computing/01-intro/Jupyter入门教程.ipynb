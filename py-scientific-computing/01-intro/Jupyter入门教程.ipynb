{
 "cells": [
  {
   "cell_type": "markdown",
   "metadata": {},
   "source": [
    "# Jupyter入门教程"
   ]
  },
  {
   "cell_type": "markdown",
   "metadata": {},
   "source": [
    "**IPython**是Python的一种解释器, 类似于一个shell, **Jupyter Notebook**是建立在Ipython上的一种交互式的Python编程环境;"
   ]
  },
  {
   "cell_type": "markdown",
   "metadata": {},
   "source": [
    "[jupyter官网](http://jupyter.org/index.html);  \n",
    "* [The Jupyter Notebook 官方文档](https://jupyter-notebook.readthedocs.io/en/stable/index.html),  \n",
    "* [IPython Documentation](https://ipython.readthedocs.io/en/stable/);    \n",
    "* [nbviewer](http://nbviewer.ipython.org/): 可以查看所有git库中的notebook资源:     \n",
    "* [A gallery of interesting IPython Notebooks](https://github.com/jupyter/jupyter/wiki/A-gallery-of-interesting-Jupyter-Notebooks);  "
   ]
  },
  {
   "cell_type": "markdown",
   "metadata": {},
   "source": [
    "## 基本操作"
   ]
  },
  {
   "cell_type": "markdown",
   "metadata": {},
   "source": [
    "在cmd键入`jupyter notebook`, 会自动打开jupyter-nb的浏览器界面: `http://127.0.0.1:8888`;  "
   ]
  },
  {
   "cell_type": "markdown",
   "metadata": {},
   "source": [
    "### 配置文件"
   ]
  },
  {
   "cell_type": "markdown",
   "metadata": {},
   "source": [
    "#### jupyter配置文件"
   ]
  },
  {
   "cell_type": "markdown",
   "metadata": {},
   "source": [
    "jupyter配置文件: **jupyter_notebook_config.py**;  \n",
    "`jupyter notebook --generate-config`, 默认保存在`C:\\Users\\yourname\\.jupyter\\`;  "
   ]
  },
  {
   "cell_type": "code",
   "execution_count": 1,
   "metadata": {},
   "outputs": [],
   "source": [
    "%%disabled 配置文件中的常用选项\n",
    "## The directory to use for notebooks and kernels.\n",
    "c.NotebookApp.notebook_dir = u\"C:\\Git\"\n",
    "## Whether to open in a browser after starting.\n",
    "c.NotebookApp.open_browser = True\n",
    "## The port the notebook server will listen on.\n",
    "c.NotebookApp.port = 8889\n",
    "## 设置浏览器界面的密码\n",
    "c.NotebookApp.password = u'sha1:37a740833632...'"
   ]
  },
  {
   "cell_type": "markdown",
   "metadata": {},
   "source": [
    "可以使用下述命令创建hash密码:"
   ]
  },
  {
   "cell_type": "code",
   "execution_count": 2,
   "metadata": {},
   "outputs": [],
   "source": [
    "%%disabled\n",
    "from notebook.auth import passwd\n",
    "passwd()"
   ]
  },
  {
   "cell_type": "markdown",
   "metadata": {},
   "source": [
    "#### ipython的配置文件"
   ]
  },
  {
   "cell_type": "markdown",
   "metadata": {},
   "source": [
    "**ipython配置文件**: ipython_config.py&ipython_kernel_config.py;   \n",
    "`ipython profile create`, 默认保存在`C:\\Users\\yourname\\.ipython\\profile_default`目录下;"
   ]
  },
  {
   "cell_type": "markdown",
   "metadata": {},
   "source": [
    "**一次性导入工作中经常使用的模块**:   \n",
    "* 命令写入myimport.py文件, 并保存在ipython的启动目录;  \n",
    "* ipython启动目录: `C:\\Users\\yourname\\.ipython\\profile_default\\startup`;  \n",
    "* 启动目录下的`.py`文件会在打开ipython进程后第一时间执行;"
   ]
  },
  {
   "cell_type": "code",
   "execution_count": 3,
   "metadata": {},
   "outputs": [],
   "source": [
    "%%disabled  myimport.py\n",
    "import numpy as np  \n",
    "from ibr.br import"
   ]
  },
  {
   "cell_type": "markdown",
   "metadata": {},
   "source": [
    "注意:   \n",
    "如果模块并没有导入的话, 很有可能是因为`myimport.py`中存在语法错误;  \n",
    "例如ibr.br文件中含有语法错误,导致其无法正确导入;"
   ]
  },
  {
   "cell_type": "markdown",
   "metadata": {},
   "source": [
    "### 单元操作"
   ]
  },
  {
   "cell_type": "markdown",
   "metadata": {},
   "source": [
    "单元样式:    \n",
    "* Code: 既可编辑代码, 又可执行代码, `y`;    \n",
    "* Markdown: 编辑标记文本,`m`;"
   ]
  },
  {
   "cell_type": "markdown",
   "metadata": {},
   "source": [
    "工具栏功能: \n",
    "* 自动存档(`Ctrl+s`)和恢复功能: File -> Revert to Checkpoint(时间点);\n",
    "* Interrupt(`ii`): 程序进入死循环时中断程序运行;\n",
    "* Restart(`00`): 重启运算核;\n",
    "* Cell -> Run All(`Shift+R`): 执行所有单元中的代码;"
   ]
  },
  {
   "cell_type": "markdown",
   "metadata": {},
   "source": [
    "自定义快捷键:\n",
    "* help -> Edit Keyboard Shortcuts;  \n",
    "* 快捷键类型: 组合键(Key Combinations): `Ctrl-A`; 序列键(Key Sequences): `d,d`"
   ]
  },
  {
   "cell_type": "markdown",
   "metadata": {},
   "source": [
    "**自定义的一些快捷键(shortcuts)**\n",
    "\n",
    ">|功能|快捷键|说明|\n",
    "|:|:|:|\n",
    "|restart kernel and run all cells | 9,9 | 重启运算核并且执行所有的cell |\n",
    "|toggle cell output collapsed | O  | 切换是否隐藏输出 |\n",
    "|toggle cell output scrolled | Shift-O | 切换输出格式是否可以滚动 |\n",
    "|clear cell output | Ctrl-L | 清除单元的输出 |\n",
    "|clear all cells output | Shift-L | 清除所有单元的输出 |\n",
    "|toggle menubar | Shift-E | 切换是否显示菜单栏 |\n",
    "|toggle codefolding | Shift-F | 切换是否折叠代码块 |\n",
    "|scroll notebook down | Space | 向下浏览视图 |\n",
    "|scroll notebook up | Shift-Space |向上浏览视图 |\n",
    "|scroll cell top | Ctrl-0 | 将单前cell置于视图顶部|\n",
    "|scroll cell center | Ctrl-9 | 将当前cell置于视图中部 |\n",
    "|trust notebook | Ctrl-1 | 信任该文档 |\n",
    "|find and replace | Ctrl+H | 在当前单元格内进行查找和替换 |\n",
    "|increase code font size | Alt-= | 增加代码cell的字体大小 |\n",
    "|decrease code font size | Alt-minus |减小代码cell的字体大小 |"
   ]
  },
  {
   "cell_type": "markdown",
   "metadata": {},
   "source": [
    "### 添加扩展"
   ]
  },
  {
   "cell_type": "markdown",
   "metadata": {},
   "source": [
    "#### MathJax"
   ]
  },
  {
   "cell_type": "markdown",
   "metadata": {},
   "source": [
    "MathJax可以在文档内编写LaTex数学公式: $ e^{i\\pi} + 1 = 0 $"
   ]
  },
  {
   "cell_type": "markdown",
   "metadata": {},
   "source": [
    "#### nbextention"
   ]
  },
  {
   "cell_type": "markdown",
   "metadata": {},
   "source": [
    "[nbextention](https://jupyter-contrib-nbextensions.readthedocs.io/en/latest/)的安装步骤:  \n",
    "\n",
    "1. 安装Python包:  \n",
    "    * `pip install jupyter_contrib_nbextensions`\n",
    "    * `pip install jupyter_nbextensions_configurator`\n",
    "\n",
    "2. 安装javascript和css文件:  \n",
    "    * 运行:`jupyter contrib nbextension install --user`;  \n",
    "    * 该命令会复制nbextensions的javascript和css文件到jupyter的搜索路径, 然后修改jupyter的配置文件;\n",
    "\n",
    "3. Enabling/Disabling extensions:  \n",
    "    * `jupyter nbextension enable codefolding/main`"
   ]
  },
  {
   "cell_type": "markdown",
   "metadata": {},
   "source": [
    "## 魔法命令(ipython)"
   ]
  },
  {
   "cell_type": "markdown",
   "metadata": {},
   "source": [
    "### 内嵌魔法命令"
   ]
  },
  {
   "cell_type": "markdown",
   "metadata": {},
   "source": [
    "** `%automagic 1`: 不使用`%`也可调用魔法命令;  **"
   ]
  },
  {
   "cell_type": "code",
   "execution_count": 4,
   "metadata": {},
   "outputs": [
    {
     "name": "stdout",
     "output_type": "stream",
     "text": [
      "\n",
      "Automagic is ON, % prefix IS NOT needed for line magics.\n"
     ]
    }
   ],
   "source": [
    "%automagic True"
   ]
  },
  {
   "cell_type": "markdown",
   "metadata": {},
   "source": [
    "** %matplotlib: 更改plt的图片模式, 内嵌模式?图形界面;  **"
   ]
  },
  {
   "cell_type": "code",
   "execution_count": 5,
   "metadata": {},
   "outputs": [],
   "source": [
    "%matplotlib inline"
   ]
  },
  {
   "cell_type": "code",
   "execution_count": 6,
   "metadata": {},
   "outputs": [
    {
     "data": {
      "image/png": "[encoded data removed]",
      "text/plain": [
       "<Figure size 72x72 with 1 Axes>"
      ]
     },
     "metadata": {},
     "output_type": "display_data"
    }
   ],
   "source": [
    "# inline的默认格式是png\n",
    "plt.figure(figsize=(1,1))\n",
    "plt.plot(range(3),range(3),'ro')\n",
    "plt.show()"
   ]
  },
  {
   "cell_type": "code",
   "execution_count": 7,
   "metadata": {},
   "outputs": [
    {
     "data": {
      "image/svg+xml": [
       "<?xml version=\"1.0\" encoding=\"utf-8\" standalone=\"no\"?>\r\n",
       "<!DOCTYPE svg PUBLIC \"-//W3C//DTD SVG 1.1//EN\"\r\n",
       "  \"http://www.w3.org/Graphics/SVG/1.1/DTD/svg11.dtd\">\r\n",
       "<!-- Created with matplotlib (http://matplotlib.org/) -->\r\n",
       "<svg height=\"88.938125pt\" version=\"1.1\" viewBox=\"0 0 87.0625 88.938125\" width=\"87.0625pt\" xmlns=\"http://www.w3.org/2000/svg\" xmlns:xlink=\"http://www.w3.org/1999/xlink\">\r\n",
       " <defs>\r\n",
       "  <style type=\"text/css\">\r\n",
       "*{stroke-linecap:butt;stroke-linejoin:round;}\r\n",
       "  </style>\r\n",
       " </defs>\r\n",
       " <g id=\"figure_1\">\r\n",
       "  <g id=\"patch_1\">\r\n",
       "   <path d=\"M 0 88.938125 \r\n",
       "L 87.0625 88.938125 \r\n",
       "L 87.0625 0 \r\n",
       "L 0 0 \r\n",
       "z\r\n",
       "\" style=\"fill:none;\"/>\r\n",
       "  </g>\r\n",
       "  <g id=\"axes_1\">\r\n",
       "   <g id=\"patch_2\">\r\n",
       "    <path d=\"M 20.5625 65.06 \r\n",
       "L 76.3625 65.06 \r\n",
       "L 76.3625 10.7 \r\n",
       "L 20.5625 10.7 \r\n",
       "z\r\n",
       "\" style=\"fill:#ffffff;\"/>\r\n",
       "   </g>\r\n",
       "   <g id=\"matplotlib.axis_1\">\r\n",
       "    <g id=\"xtick_1\">\r\n",
       "     <g id=\"line2d_1\">\r\n",
       "      <defs>\r\n",
       "       <path d=\"M 0 0 \r\n",
       "L 0 3.5 \r\n",
       "\" id=\"mc8a46151c3\" style=\"stroke:#000000;stroke-width:0.8;\"/>\r\n",
       "      </defs>\r\n",
       "      <g>\r\n",
       "       <use style=\"stroke:#000000;stroke-width:0.8;\" x=\"23.098864\" xlink:href=\"#mc8a46151c3\" y=\"65.06\"/>\r\n",
       "      </g>\r\n",
       "     </g>\r\n",
       "     <g id=\"text_1\">\r\n",
       "      <!-- 0 -->\r\n",
       "      <defs>\r\n",
       "       <path d=\"M 31.78125 66.40625 \r\n",
       "Q 24.171875 66.40625 20.328125 58.90625 \r\n",
       "Q 16.5 51.421875 16.5 36.375 \r\n",
       "Q 16.5 21.390625 20.328125 13.890625 \r\n",
       "Q 24.171875 6.390625 31.78125 6.390625 \r\n",
       "Q 39.453125 6.390625 43.28125 13.890625 \r\n",
       "Q 47.125 21.390625 47.125 36.375 \r\n",
       "Q 47.125 51.421875 43.28125 58.90625 \r\n",
       "Q 39.453125 66.40625 31.78125 66.40625 \r\n",
       "z\r\n",
       "M 31.78125 74.21875 \r\n",
       "Q 44.046875 74.21875 50.515625 64.515625 \r\n",
       "Q 56.984375 54.828125 56.984375 36.375 \r\n",
       "Q 56.984375 17.96875 50.515625 8.265625 \r\n",
       "Q 44.046875 -1.421875 31.78125 -1.421875 \r\n",
       "Q 19.53125 -1.421875 13.0625 8.265625 \r\n",
       "Q 6.59375 17.96875 6.59375 36.375 \r\n",
       "Q 6.59375 54.828125 13.0625 64.515625 \r\n",
       "Q 19.53125 74.21875 31.78125 74.21875 \r\n",
       "z\r\n",
       "\" id=\"DejaVuSans-30\"/>\r\n",
       "      </defs>\r\n",
       "      <g transform=\"translate(19.917614 79.658438)scale(0.1 -0.1)\">\r\n",
       "       <use xlink:href=\"#DejaVuSans-30\"/>\r\n",
       "      </g>\r\n",
       "     </g>\r\n",
       "    </g>\r\n",
       "    <g id=\"xtick_2\">\r\n",
       "     <g id=\"line2d_2\">\r\n",
       "      <g>\r\n",
       "       <use style=\"stroke:#000000;stroke-width:0.8;\" x=\"73.826136\" xlink:href=\"#mc8a46151c3\" y=\"65.06\"/>\r\n",
       "      </g>\r\n",
       "     </g>\r\n",
       "     <g id=\"text_2\">\r\n",
       "      <!-- 2 -->\r\n",
       "      <defs>\r\n",
       "       <path d=\"M 19.1875 8.296875 \r\n",
       "L 53.609375 8.296875 \r\n",
       "L 53.609375 0 \r\n",
       "L 7.328125 0 \r\n",
       "L 7.328125 8.296875 \r\n",
       "Q 12.9375 14.109375 22.625 23.890625 \r\n",
       "Q 32.328125 33.6875 34.8125 36.53125 \r\n",
       "Q 39.546875 41.84375 41.421875 45.53125 \r\n",
       "Q 43.3125 49.21875 43.3125 52.78125 \r\n",
       "Q 43.3125 58.59375 39.234375 62.25 \r\n",
       "Q 35.15625 65.921875 28.609375 65.921875 \r\n",
       "Q 23.96875 65.921875 18.8125 64.3125 \r\n",
       "Q 13.671875 62.703125 7.8125 59.421875 \r\n",
       "L 7.8125 69.390625 \r\n",
       "Q 13.765625 71.78125 18.9375 73 \r\n",
       "Q 24.125 74.21875 28.421875 74.21875 \r\n",
       "Q 39.75 74.21875 46.484375 68.546875 \r\n",
       "Q 53.21875 62.890625 53.21875 53.421875 \r\n",
       "Q 53.21875 48.921875 51.53125 44.890625 \r\n",
       "Q 49.859375 40.875 45.40625 35.40625 \r\n",
       "Q 44.1875 33.984375 37.640625 27.21875 \r\n",
       "Q 31.109375 20.453125 19.1875 8.296875 \r\n",
       "z\r\n",
       "\" id=\"DejaVuSans-32\"/>\r\n",
       "      </defs>\r\n",
       "      <g transform=\"translate(70.644886 79.658438)scale(0.1 -0.1)\">\r\n",
       "       <use xlink:href=\"#DejaVuSans-32\"/>\r\n",
       "      </g>\r\n",
       "     </g>\r\n",
       "    </g>\r\n",
       "   </g>\r\n",
       "   <g id=\"matplotlib.axis_2\">\r\n",
       "    <g id=\"ytick_1\">\r\n",
       "     <g id=\"line2d_3\">\r\n",
       "      <defs>\r\n",
       "       <path d=\"M 0 0 \r\n",
       "L -3.5 0 \r\n",
       "\" id=\"m6622add4ed\" style=\"stroke:#000000;stroke-width:0.8;\"/>\r\n",
       "      </defs>\r\n",
       "      <g>\r\n",
       "       <use style=\"stroke:#000000;stroke-width:0.8;\" x=\"20.5625\" xlink:href=\"#m6622add4ed\" y=\"62.589091\"/>\r\n",
       "      </g>\r\n",
       "     </g>\r\n",
       "     <g id=\"text_3\">\r\n",
       "      <!-- 0 -->\r\n",
       "      <g transform=\"translate(7.2 66.38831)scale(0.1 -0.1)\">\r\n",
       "       <use xlink:href=\"#DejaVuSans-30\"/>\r\n",
       "      </g>\r\n",
       "     </g>\r\n",
       "    </g>\r\n",
       "    <g id=\"ytick_2\">\r\n",
       "     <g id=\"line2d_4\">\r\n",
       "      <g>\r\n",
       "       <use style=\"stroke:#000000;stroke-width:0.8;\" x=\"20.5625\" xlink:href=\"#m6622add4ed\" y=\"13.170909\"/>\r\n",
       "      </g>\r\n",
       "     </g>\r\n",
       "     <g id=\"text_4\">\r\n",
       "      <!-- 2 -->\r\n",
       "      <g transform=\"translate(7.2 16.970128)scale(0.1 -0.1)\">\r\n",
       "       <use xlink:href=\"#DejaVuSans-32\"/>\r\n",
       "      </g>\r\n",
       "     </g>\r\n",
       "    </g>\r\n",
       "   </g>\r\n",
       "   <g id=\"line2d_5\">\r\n",
       "    <defs>\r\n",
       "     <path d=\"M 0 3 \r\n",
       "C 0.795609 3 1.55874 2.683901 2.12132 2.12132 \r\n",
       "C 2.683901 1.55874 3 0.795609 3 0 \r\n",
       "C 3 -0.795609 2.683901 -1.55874 2.12132 -2.12132 \r\n",
       "C 1.55874 -2.683901 0.795609 -3 0 -3 \r\n",
       "C -0.795609 -3 -1.55874 -2.683901 -2.12132 -2.12132 \r\n",
       "C -2.683901 -1.55874 -3 -0.795609 -3 0 \r\n",
       "C -3 0.795609 -2.683901 1.55874 -2.12132 2.12132 \r\n",
       "C -1.55874 2.683901 -0.795609 3 0 3 \r\n",
       "z\r\n",
       "\" id=\"m5a59cd1f44\" style=\"stroke:#ff0000;\"/>\r\n",
       "    </defs>\r\n",
       "    <g clip-path=\"url(#p0a6b122623)\">\r\n",
       "     <use style=\"fill:#ff0000;stroke:#ff0000;\" x=\"23.098864\" xlink:href=\"#m5a59cd1f44\" y=\"62.589091\"/>\r\n",
       "     <use style=\"fill:#ff0000;stroke:#ff0000;\" x=\"48.4625\" xlink:href=\"#m5a59cd1f44\" y=\"37.88\"/>\r\n",
       "     <use style=\"fill:#ff0000;stroke:#ff0000;\" x=\"73.826136\" xlink:href=\"#m5a59cd1f44\" y=\"13.170909\"/>\r\n",
       "    </g>\r\n",
       "   </g>\r\n",
       "   <g id=\"patch_3\">\r\n",
       "    <path d=\"M 20.5625 65.06 \r\n",
       "L 20.5625 10.7 \r\n",
       "\" style=\"fill:none;stroke:#000000;stroke-linecap:square;stroke-linejoin:miter;stroke-width:0.8;\"/>\r\n",
       "   </g>\r\n",
       "   <g id=\"patch_4\">\r\n",
       "    <path d=\"M 76.3625 65.06 \r\n",
       "L 76.3625 10.7 \r\n",
       "\" style=\"fill:none;stroke:#000000;stroke-linecap:square;stroke-linejoin:miter;stroke-width:0.8;\"/>\r\n",
       "   </g>\r\n",
       "   <g id=\"patch_5\">\r\n",
       "    <path d=\"M 20.5625 65.06 \r\n",
       "L 76.3625 65.06 \r\n",
       "\" style=\"fill:none;stroke:#000000;stroke-linecap:square;stroke-linejoin:miter;stroke-width:0.8;\"/>\r\n",
       "   </g>\r\n",
       "   <g id=\"patch_6\">\r\n",
       "    <path d=\"M 20.5625 10.7 \r\n",
       "L 76.3625 10.7 \r\n",
       "\" style=\"fill:none;stroke:#000000;stroke-linecap:square;stroke-linejoin:miter;stroke-width:0.8;\"/>\r\n",
       "   </g>\r\n",
       "  </g>\r\n",
       " </g>\r\n",
       " <defs>\r\n",
       "  <clipPath id=\"p0a6b122623\">\r\n",
       "   <rect height=\"54.36\" width=\"55.8\" x=\"20.5625\" y=\"10.7\"/>\r\n",
       "  </clipPath>\r\n",
       " </defs>\r\n",
       "</svg>\r\n"
      ],
      "text/plain": [
       "<Figure size 72x72 with 1 Axes>"
      ]
     },
     "metadata": {},
     "output_type": "display_data"
    }
   ],
   "source": [
    "# 如果png格式不清时改为svg格式\n",
    "from IPython.display import set_matplotlib_formats\n",
    "set_matplotlib_formats('svg')\n",
    "fig = plt.figure(figsize=(1,1))\n",
    "plt.plot(range(3),range(3),'ro')\n",
    "plt.show()"
   ]
  },
  {
   "cell_type": "code",
   "execution_count": 8,
   "metadata": {},
   "outputs": [],
   "source": [
    "# config命令也可修改内嵌图片的显示格式\n",
    "%config InlineBackend.figure_format=\"svg\" "
   ]
  },
  {
   "cell_type": "code",
   "execution_count": 9,
   "metadata": {},
   "outputs": [],
   "source": [
    "# ``bbox_inches``为None的话会导致图片边界残缺, 默认为'tight'\n",
    "%config InlineBackend.print_figure_kwargs = {'bbox_inches':None}"
   ]
  },
  {
   "cell_type": "code",
   "execution_count": 10,
   "metadata": {},
   "outputs": [
    {
     "data": {
      "image/svg+xml": [
       "<?xml version=\"1.0\" encoding=\"utf-8\" standalone=\"no\"?>\r\n",
       "<!DOCTYPE svg PUBLIC \"-//W3C//DTD SVG 1.1//EN\"\r\n",
       "  \"http://www.w3.org/Graphics/SVG/1.1/DTD/svg11.dtd\">\r\n",
       "<!-- Created with matplotlib (http://matplotlib.org/) -->\r\n",
       "<svg height=\"72pt\" version=\"1.1\" viewBox=\"0 0 72 72\" width=\"72pt\" xmlns=\"http://www.w3.org/2000/svg\" xmlns:xlink=\"http://www.w3.org/1999/xlink\">\r\n",
       " <defs>\r\n",
       "  <style type=\"text/css\">\r\n",
       "*{stroke-linecap:butt;stroke-linejoin:round;}\r\n",
       "  </style>\r\n",
       " </defs>\r\n",
       " <g id=\"figure_1\">\r\n",
       "  <g id=\"patch_1\">\r\n",
       "   <path d=\"M 0 72 \r\n",
       "L 72 72 \r\n",
       "L 72 0 \r\n",
       "L 0 0 \r\n",
       "z\r\n",
       "\" style=\"fill:none;\"/>\r\n",
       "  </g>\r\n",
       "  <g id=\"axes_1\">\r\n",
       "   <g id=\"patch_2\">\r\n",
       "    <path d=\"M 9 63 \r\n",
       "L 64.8 63 \r\n",
       "L 64.8 8.64 \r\n",
       "L 9 8.64 \r\n",
       "z\r\n",
       "\" style=\"fill:#ffffff;\"/>\r\n",
       "   </g>\r\n",
       "   <g id=\"matplotlib.axis_1\">\r\n",
       "    <g id=\"xtick_1\">\r\n",
       "     <g id=\"line2d_1\">\r\n",
       "      <defs>\r\n",
       "       <path d=\"M 0 0 \r\n",
       "L 0 3.5 \r\n",
       "\" id=\"m4ec3bb6ab6\" style=\"stroke:#000000;stroke-width:0.8;\"/>\r\n",
       "      </defs>\r\n",
       "      <g>\r\n",
       "       <use style=\"stroke:#000000;stroke-width:0.8;\" x=\"11.536364\" xlink:href=\"#m4ec3bb6ab6\" y=\"63\"/>\r\n",
       "      </g>\r\n",
       "     </g>\r\n",
       "     <g id=\"text_1\">\r\n",
       "      <!-- 0 -->\r\n",
       "      <defs>\r\n",
       "       <path d=\"M 31.78125 66.40625 \r\n",
       "Q 24.171875 66.40625 20.328125 58.90625 \r\n",
       "Q 16.5 51.421875 16.5 36.375 \r\n",
       "Q 16.5 21.390625 20.328125 13.890625 \r\n",
       "Q 24.171875 6.390625 31.78125 6.390625 \r\n",
       "Q 39.453125 6.390625 43.28125 13.890625 \r\n",
       "Q 47.125 21.390625 47.125 36.375 \r\n",
       "Q 47.125 51.421875 43.28125 58.90625 \r\n",
       "Q 39.453125 66.40625 31.78125 66.40625 \r\n",
       "z\r\n",
       "M 31.78125 74.21875 \r\n",
       "Q 44.046875 74.21875 50.515625 64.515625 \r\n",
       "Q 56.984375 54.828125 56.984375 36.375 \r\n",
       "Q 56.984375 17.96875 50.515625 8.265625 \r\n",
       "Q 44.046875 -1.421875 31.78125 -1.421875 \r\n",
       "Q 19.53125 -1.421875 13.0625 8.265625 \r\n",
       "Q 6.59375 17.96875 6.59375 36.375 \r\n",
       "Q 6.59375 54.828125 13.0625 64.515625 \r\n",
       "Q 19.53125 74.21875 31.78125 74.21875 \r\n",
       "z\r\n",
       "\" id=\"DejaVuSans-30\"/>\r\n",
       "      </defs>\r\n",
       "      <g transform=\"translate(8.355114 77.598438)scale(0.1 -0.1)\">\r\n",
       "       <use xlink:href=\"#DejaVuSans-30\"/>\r\n",
       "      </g>\r\n",
       "     </g>\r\n",
       "    </g>\r\n",
       "    <g id=\"xtick_2\">\r\n",
       "     <g id=\"line2d_2\">\r\n",
       "      <g>\r\n",
       "       <use style=\"stroke:#000000;stroke-width:0.8;\" x=\"62.263636\" xlink:href=\"#m4ec3bb6ab6\" y=\"63\"/>\r\n",
       "      </g>\r\n",
       "     </g>\r\n",
       "     <g id=\"text_2\">\r\n",
       "      <!-- 2 -->\r\n",
       "      <defs>\r\n",
       "       <path d=\"M 19.1875 8.296875 \r\n",
       "L 53.609375 8.296875 \r\n",
       "L 53.609375 0 \r\n",
       "L 7.328125 0 \r\n",
       "L 7.328125 8.296875 \r\n",
       "Q 12.9375 14.109375 22.625 23.890625 \r\n",
       "Q 32.328125 33.6875 34.8125 36.53125 \r\n",
       "Q 39.546875 41.84375 41.421875 45.53125 \r\n",
       "Q 43.3125 49.21875 43.3125 52.78125 \r\n",
       "Q 43.3125 58.59375 39.234375 62.25 \r\n",
       "Q 35.15625 65.921875 28.609375 65.921875 \r\n",
       "Q 23.96875 65.921875 18.8125 64.3125 \r\n",
       "Q 13.671875 62.703125 7.8125 59.421875 \r\n",
       "L 7.8125 69.390625 \r\n",
       "Q 13.765625 71.78125 18.9375 73 \r\n",
       "Q 24.125 74.21875 28.421875 74.21875 \r\n",
       "Q 39.75 74.21875 46.484375 68.546875 \r\n",
       "Q 53.21875 62.890625 53.21875 53.421875 \r\n",
       "Q 53.21875 48.921875 51.53125 44.890625 \r\n",
       "Q 49.859375 40.875 45.40625 35.40625 \r\n",
       "Q 44.1875 33.984375 37.640625 27.21875 \r\n",
       "Q 31.109375 20.453125 19.1875 8.296875 \r\n",
       "z\r\n",
       "\" id=\"DejaVuSans-32\"/>\r\n",
       "      </defs>\r\n",
       "      <g transform=\"translate(59.082386 77.598438)scale(0.1 -0.1)\">\r\n",
       "       <use xlink:href=\"#DejaVuSans-32\"/>\r\n",
       "      </g>\r\n",
       "     </g>\r\n",
       "    </g>\r\n",
       "   </g>\r\n",
       "   <g id=\"matplotlib.axis_2\">\r\n",
       "    <g id=\"ytick_1\">\r\n",
       "     <g id=\"line2d_3\">\r\n",
       "      <defs>\r\n",
       "       <path d=\"M 0 0 \r\n",
       "L -3.5 0 \r\n",
       "\" id=\"m940970e189\" style=\"stroke:#000000;stroke-width:0.8;\"/>\r\n",
       "      </defs>\r\n",
       "      <g>\r\n",
       "       <use style=\"stroke:#000000;stroke-width:0.8;\" x=\"9\" xlink:href=\"#m940970e189\" y=\"60.529091\"/>\r\n",
       "      </g>\r\n",
       "     </g>\r\n",
       "     <g id=\"text_3\">\r\n",
       "      <!-- 0 -->\r\n",
       "      <g transform=\"translate(-4.3625 64.32831)scale(0.1 -0.1)\">\r\n",
       "       <use xlink:href=\"#DejaVuSans-30\"/>\r\n",
       "      </g>\r\n",
       "     </g>\r\n",
       "    </g>\r\n",
       "    <g id=\"ytick_2\">\r\n",
       "     <g id=\"line2d_4\">\r\n",
       "      <g>\r\n",
       "       <use style=\"stroke:#000000;stroke-width:0.8;\" x=\"9\" xlink:href=\"#m940970e189\" y=\"11.110909\"/>\r\n",
       "      </g>\r\n",
       "     </g>\r\n",
       "     <g id=\"text_4\">\r\n",
       "      <!-- 2 -->\r\n",
       "      <g transform=\"translate(-4.3625 14.910128)scale(0.1 -0.1)\">\r\n",
       "       <use xlink:href=\"#DejaVuSans-32\"/>\r\n",
       "      </g>\r\n",
       "     </g>\r\n",
       "    </g>\r\n",
       "   </g>\r\n",
       "   <g id=\"line2d_5\">\r\n",
       "    <defs>\r\n",
       "     <path d=\"M 0 3 \r\n",
       "C 0.795609 3 1.55874 2.683901 2.12132 2.12132 \r\n",
       "C 2.683901 1.55874 3 0.795609 3 0 \r\n",
       "C 3 -0.795609 2.683901 -1.55874 2.12132 -2.12132 \r\n",
       "C 1.55874 -2.683901 0.795609 -3 0 -3 \r\n",
       "C -0.795609 -3 -1.55874 -2.683901 -2.12132 -2.12132 \r\n",
       "C -2.683901 -1.55874 -3 -0.795609 -3 0 \r\n",
       "C -3 0.795609 -2.683901 1.55874 -2.12132 2.12132 \r\n",
       "C -1.55874 2.683901 -0.795609 3 0 3 \r\n",
       "z\r\n",
       "\" id=\"mc6974f041e\" style=\"stroke:#ff0000;\"/>\r\n",
       "    </defs>\r\n",
       "    <g clip-path=\"url(#p9cca55b0a6)\">\r\n",
       "     <use style=\"fill:#ff0000;stroke:#ff0000;\" x=\"11.536364\" xlink:href=\"#mc6974f041e\" y=\"60.529091\"/>\r\n",
       "     <use style=\"fill:#ff0000;stroke:#ff0000;\" x=\"36.9\" xlink:href=\"#mc6974f041e\" y=\"35.82\"/>\r\n",
       "     <use style=\"fill:#ff0000;stroke:#ff0000;\" x=\"62.263636\" xlink:href=\"#mc6974f041e\" y=\"11.110909\"/>\r\n",
       "    </g>\r\n",
       "   </g>\r\n",
       "   <g id=\"patch_3\">\r\n",
       "    <path d=\"M 9 63 \r\n",
       "L 9 8.64 \r\n",
       "\" style=\"fill:none;stroke:#000000;stroke-linecap:square;stroke-linejoin:miter;stroke-width:0.8;\"/>\r\n",
       "   </g>\r\n",
       "   <g id=\"patch_4\">\r\n",
       "    <path d=\"M 64.8 63 \r\n",
       "L 64.8 8.64 \r\n",
       "\" style=\"fill:none;stroke:#000000;stroke-linecap:square;stroke-linejoin:miter;stroke-width:0.8;\"/>\r\n",
       "   </g>\r\n",
       "   <g id=\"patch_5\">\r\n",
       "    <path d=\"M 9 63 \r\n",
       "L 64.8 63 \r\n",
       "\" style=\"fill:none;stroke:#000000;stroke-linecap:square;stroke-linejoin:miter;stroke-width:0.8;\"/>\r\n",
       "   </g>\r\n",
       "   <g id=\"patch_6\">\r\n",
       "    <path d=\"M 9 8.64 \r\n",
       "L 64.8 8.64 \r\n",
       "\" style=\"fill:none;stroke:#000000;stroke-linecap:square;stroke-linejoin:miter;stroke-width:0.8;\"/>\r\n",
       "   </g>\r\n",
       "  </g>\r\n",
       " </g>\r\n",
       " <defs>\r\n",
       "  <clipPath id=\"p9cca55b0a6\">\r\n",
       "   <rect height=\"54.36\" width=\"55.8\" x=\"9\" y=\"8.64\"/>\r\n",
       "  </clipPath>\r\n",
       " </defs>\r\n",
       "</svg>\r\n"
      ],
      "text/plain": [
       "<Figure size 72x72 with 1 Axes>"
      ]
     },
     "metadata": {},
     "output_type": "display_data"
    }
   ],
   "source": [
    "fig = plt.figure(figsize=(1,1))\n",
    "plt.plot(range(3),range(3),'ro')\n",
    "plt.show()"
   ]
  },
  {
   "cell_type": "markdown",
   "metadata": {},
   "source": [
    "** `%precision 3`: 将变量f的值截取到小数点后3位输出, 但对print(f)的输出无影响;  **"
   ]
  },
  {
   "cell_type": "code",
   "execution_count": 11,
   "metadata": {},
   "outputs": [
    {
     "data": {
      "text/plain": [
       "3.142"
      ]
     },
     "execution_count": 11,
     "metadata": {},
     "output_type": "execute_result"
    }
   ],
   "source": [
    "%precision 3\n",
    "pi = np.pi\n",
    "pi"
   ]
  },
  {
   "cell_type": "code",
   "execution_count": 12,
   "metadata": {},
   "outputs": [
    {
     "name": "stdout",
     "output_type": "stream",
     "text": [
      "3.141592653589793\n"
     ]
    }
   ],
   "source": [
    "print(pi)"
   ]
  },
  {
   "cell_type": "markdown",
   "metadata": {},
   "source": [
    "** %%writefile: 将cell内的内容保存到文件;**\n",
    "* `%%file`是`%%writefile`的别名;\n",
    "* ``writefile``会覆盖源文件, 最好将其改为若`原文件存在, 则放弃创建`的版本, [%cell2file](#jump);"
   ]
  },
  {
   "cell_type": "code",
   "execution_count": 13,
   "metadata": {},
   "outputs": [
    {
     "name": "stdout",
     "output_type": "stream",
     "text": [
      "Overwriting data/hello-world.py\n"
     ]
    }
   ],
   "source": [
    "%%file data/hello-world.py\n",
    "print(\"Hello World!\")"
   ]
  },
  {
   "cell_type": "markdown",
   "metadata": {},
   "source": [
    "**  %load  向cell内载入文件;  **\n",
    "* 载入文件之后, 魔法命令行自动变为注释; "
   ]
  },
  {
   "cell_type": "code",
   "execution_count": 14,
   "metadata": {},
   "outputs": [
    {
     "name": "stdout",
     "output_type": "stream",
     "text": [
      "Hello World!\n"
     ]
    }
   ],
   "source": [
    "# %load data/hello-world.py\n",
    "print(\"Hello World!\")"
   ]
  },
  {
   "cell_type": "markdown",
   "metadata": {},
   "source": [
    "**  `%less fns`:  使用less显示文件内容;  **"
   ]
  },
  {
   "cell_type": "code",
   "execution_count": 15,
   "metadata": {},
   "outputs": [],
   "source": [
    "%%disabled\n",
    "%less data/hello-world.py"
   ]
  },
  {
   "cell_type": "markdown",
   "metadata": {},
   "source": [
    "** %pwd, %ls, %cd, %copy **"
   ]
  },
  {
   "cell_type": "code",
   "execution_count": 16,
   "metadata": {},
   "outputs": [
    {
     "data": {
      "text/plain": [
       "'Y:\\\\Git\\\\ug-python\\\\py-scientific-computing\\\\01-intro'"
      ]
     },
     "execution_count": 16,
     "metadata": {},
     "output_type": "execute_result"
    }
   ],
   "source": [
    "%pwd "
   ]
  },
  {
   "cell_type": "code",
   "execution_count": 17,
   "metadata": {},
   "outputs": [],
   "source": [
    "# %ls "
   ]
  },
  {
   "cell_type": "code",
   "execution_count": 18,
   "metadata": {},
   "outputs": [
    {
     "name": "stdout",
     "output_type": "stream",
     "text": [
      "Y:\\Git\n"
     ]
    }
   ],
   "source": [
    "# 反斜杠, 不适用引号\n",
    "%cd Y:\\Git"
   ]
  },
  {
   "cell_type": "code",
   "execution_count": 19,
   "metadata": {},
   "outputs": [
    {
     "name": "stdout",
     "output_type": "stream",
     "text": [
      "Y:\\Git\\ug-python\\py-scientific-computing\\01-intro\\data\n"
     ]
    }
   ],
   "source": [
    "# 相对于Y:\\Git往后Tab出次级目录, 正斜杆\n",
    "%cd Y:ug-python/py-scientific-computing/01-intro/data/"
   ]
  },
  {
   "cell_type": "code",
   "execution_count": 20,
   "metadata": {},
   "outputs": [
    {
     "name": "stdout",
     "output_type": "stream",
     "text": [
      "已复制         1 个文件。\n"
     ]
    }
   ],
   "source": [
    "%copy hello-world.py hello-world2.py"
   ]
  },
  {
   "cell_type": "code",
   "execution_count": 21,
   "metadata": {},
   "outputs": [
    {
     "name": "stdout",
     "output_type": "stream",
     "text": [
      "Hello World!\n"
     ]
    },
    {
     "data": {
      "text/plain": [
       "<Figure size 432x288 with 0 Axes>"
      ]
     },
     "metadata": {},
     "output_type": "display_data"
    }
   ],
   "source": [
    "%run hello-world.py"
   ]
  },
  {
   "cell_type": "code",
   "execution_count": 22,
   "metadata": {},
   "outputs": [
    {
     "name": "stdout",
     "output_type": "stream",
     "text": [
      "Y:\\Git\\ug-python\\py-scientific-computing\\01-intro\n"
     ]
    }
   ],
   "source": [
    "cd .."
   ]
  },
  {
   "cell_type": "markdown",
   "metadata": {},
   "source": [
    "** %%script: 在notebook中嵌入其他脚本语言代码, bash, sh, perl, ruby,等;  ** "
   ]
  },
  {
   "cell_type": "markdown",
   "metadata": {},
   "source": [
    "* `%%bash`是`%%script bash`的别名;  \n",
    "* `%%sh`是`%%script sh`的别名, bash和sh不同的脚本语言么?"
   ]
  },
  {
   "cell_type": "markdown",
   "metadata": {},
   "source": [
    "whos, xdel, reset"
   ]
  },
  {
   "cell_type": "code",
   "execution_count": 23,
   "metadata": {},
   "outputs": [
    {
     "data": {
      "text/plain": [
       "(3.142, 6.283)"
      ]
     },
     "execution_count": 23,
     "metadata": {},
     "output_type": "execute_result"
    }
   ],
   "source": [
    "pi = np.pi\n",
    "pi2 = np.pi*2\n",
    "pi, pi2"
   ]
  },
  {
   "cell_type": "code",
   "execution_count": 24,
   "metadata": {},
   "outputs": [
    {
     "name": "stdout",
     "output_type": "stream",
     "text": [
      "Variable                 Type        Data/Info\n",
      "----------------------------------------------\n",
      "fig                      Figure      Figure(72x72)\n",
      "pi                       float       3.141592653589793\n",
      "pi2                      float       6.283185307179586\n",
      "set_matplotlib_formats   function    <function set_matplotlib_<...>ts at 0x00000249347EC378>\n"
     ]
    }
   ],
   "source": [
    "whos"
   ]
  },
  {
   "cell_type": "code",
   "execution_count": 25,
   "metadata": {},
   "outputs": [],
   "source": [
    "%xdel pi2\n",
    "# %reset 清除所有的空间变量"
   ]
  },
  {
   "cell_type": "code",
   "execution_count": 26,
   "metadata": {},
   "outputs": [
    {
     "name": "stdout",
     "output_type": "stream",
     "text": [
      "Variable                 Type        Data/Info\n",
      "----------------------------------------------\n",
      "fig                      Figure      Figure(72x72)\n",
      "pi                       float       3.141592653589793\n",
      "set_matplotlib_formats   function    <function set_matplotlib_<...>ts at 0x00000249347EC378>\n"
     ]
    }
   ],
   "source": [
    "whos "
   ]
  },
  {
   "cell_type": "markdown",
   "metadata": {},
   "source": [
    "** %quickref: ipython的快速上手指南和魔法命令简介; **"
   ]
  },
  {
   "cell_type": "code",
   "execution_count": 27,
   "metadata": {},
   "outputs": [],
   "source": [
    "# %quickref"
   ]
  },
  {
   "cell_type": "markdown",
   "metadata": {},
   "source": [
    "* 对于当前环境中的对象, 可以在其后面添加问号查看其说明信息, 添加两个问号可以查看其详细的说明信息;  \n",
    "* 在调用函数时, 可以按[shift+tab]组合键显示函数的调用参数和说明文档, 按一次组合键显示基本信息, 两次显示详细信息, 三次延时停留信息框, 四次则将信息显示在下方的滑动窗口中;"
   ]
  },
  {
   "cell_type": "code",
   "execution_count": 29,
   "metadata": {},
   "outputs": [
    {
     "name": "stdout",
     "output_type": "stream",
     "text": [
      ">>>>>>>>>>>>>>>>>>>>>>>>>>>>>>>>>>>>>>>>>>>>>>>>>>!kk1>进行>>>>>>>>>>>>>>>>>>>>>>>>>>>>>>>>>>>>>>>>>>>>>>>>>>>>>\n"
     ]
    }
   ],
   "source": [
    "kk 1"
   ]
  },
  {
   "cell_type": "markdown",
   "metadata": {},
   "source": [
    "### 性能分析"
   ]
  },
  {
   "cell_type": "markdown",
   "metadata": {},
   "source": [
    "%timeit调用timeit模块对单行语句重复执行多次, 计算出其执行时间;"
   ]
  },
  {
   "cell_type": "code",
   "execution_count": null,
   "metadata": {
    "group_control": {
     "group": 0
    }
   },
   "outputs": [],
   "source": [
    "a = [1,2,3]\n",
    "%timeit a[1] = 10"
   ]
  },
  {
   "cell_type": "markdown",
   "metadata": {},
   "source": [
    "%%timeit则用于测试整个单元中代码的执行时间;"
   ]
  },
  {
   "cell_type": "code",
   "execution_count": null,
   "metadata": {
    "group_control": {
     "group": 0
    }
   },
   "outputs": [],
   "source": [
    "%%timeit\n",
    "a = []\n",
    "for i in range(10):\n",
    "    a.append(i)"
   ]
  },
  {
   "cell_type": "markdown",
   "metadata": {},
   "source": [
    "timeit命令会重复执行代码多次, 而time则只执行一次代码;"
   ]
  },
  {
   "cell_type": "code",
   "execution_count": null,
   "metadata": {
    "group_control": {
     "group": 0
    }
   },
   "outputs": [],
   "source": [
    "%%time\n",
    "a = []\n",
    "for i in range(100000):\n",
    "    a.append(i)"
   ]
  },
  {
   "cell_type": "markdown",
   "metadata": {},
   "source": [
    "time和timeit命令都将信息使用print输出, 如果希望用程序分析这些信息, 可以使用%%capture命令, 将单元格的输出保存为一个对象;"
   ]
  },
  {
   "cell_type": "code",
   "execution_count": null,
   "metadata": {},
   "outputs": [],
   "source": [
    "%%capture time_results\n",
    "import random\n",
    "for n in [1000, 5000, 10000, 50000, 100000, 500000]:\n",
    "    print( \"n={0}\".format(n) )\n",
    "    alist = list(range(n) )\n",
    "    %time random.shuffle(alist)"
   ]
  },
  {
   "cell_type": "markdown",
   "metadata": {},
   "source": [
    "time_results.stdout属性中保存通过标准输出管道中的输出信息:"
   ]
  },
  {
   "cell_type": "code",
   "execution_count": null,
   "metadata": {},
   "outputs": [],
   "source": [
    "print(time_results.stdout)"
   ]
  },
  {
   "cell_type": "markdown",
   "metadata": {},
   "source": [
    "%timeit命令-o参数, 返回表示运行时间信息的对象;"
   ]
  },
  {
   "cell_type": "code",
   "execution_count": null,
   "metadata": {
    "group_control": {
     "group": 0
    }
   },
   "outputs": [],
   "source": [
    "timeit_results = []\n",
    "for n in [5000, 10000, 20000, 40000, 80000, 160000, 320000]:\n",
    "    alist = [random.random() for i in range(n)]\n",
    "    res = %timeit -o sorted(alist)\n",
    "    timeit_results.append((n, res))"
   ]
  },
  {
   "cell_type": "markdown",
   "metadata": {},
   "source": [
    "`ref:fig-next`显示了排序的耗时结果。横坐标为对数坐标轴，表示数组的长度；纵坐标为平均每个元素所需的排序时间。可以看出每个元素所需的平均排序时间与数组的长度的对数成正比，因此可以计算出排序函数`sorted()`的时间复杂度为：$O(n \\log{n})$。"
   ]
  },
  {
   "cell_type": "code",
   "execution_count": null,
   "metadata": {
    "group_control": {
     "group": 0
    }
   },
   "outputs": [],
   "source": [
    "#sorted()函数的时间复杂度\n",
    "array_lengths = np.array([res[0] for res in timeit_results])\n",
    "exec_times = np.array([res[1].best for res in timeit_results])\n",
    "pl.semilogx(array_lengths, exec_times / array_lengths, \"-o\")\n",
    "pl.xlabel(u\"array_lengths\")\n",
    "pl.ylabel(u\"exec_times\");"
   ]
  },
  {
   "cell_type": "markdown",
   "metadata": {},
   "source": [
    "%%prun命令调用profile模块, 对单元中的代码进行性能剖析;"
   ]
  },
  {
   "cell_type": "code",
   "execution_count": null,
   "metadata": {
    "group_control": {
     "group": 0
    }
   },
   "outputs": [],
   "source": [
    "%%prun\n",
    "def fib(n):\n",
    "    if n < 2:\n",
    "        return 1\n",
    "    else:\n",
    "        return fib(n-1) + fib(n-2)\n",
    "    \n",
    "def fib_fast(n, a=1, b=1):\n",
    "    if n == 1:\n",
    "        return b\n",
    "    else:\n",
    "        return fib_fast(n-1, b, a+b)\n",
    "\n",
    "fib(20)\n",
    "fib_fast(20)"
   ]
  },
  {
   "cell_type": "markdown",
   "metadata": {},
   "source": [
    "#### 代码调试"
   ]
  },
  {
   "cell_type": "markdown",
   "metadata": {},
   "source": [
    "%debug:\n",
    "* 在执行代码之前设置断点进行调试    \n",
    "* 在代码抛出异常之后查看调用堆栈。"
   ]
  },
  {
   "cell_type": "code",
   "execution_count": null,
   "metadata": {
    "group_control": {
     "group": 0
    }
   },
   "outputs": [],
   "source": [
    "import math\n",
    "\n",
    "def sinc(x):\n",
    "    return math.sin(x) / x\n",
    "\n",
    "[sinc(x) for x in range(5)]"
   ]
  },
  {
   "cell_type": "markdown",
   "metadata": {},
   "source": [
    "上面的程序抛出了`ZeroDivisionError`异常，下面用`%debug`查看调用堆栈。在调试模式下可以使用`pdb`模块提供的调试命令，例如用`p x`显示变量`x`的值。"
   ]
  },
  {
   "cell_type": "markdown",
   "metadata": {},
   "source": [
    "### 自定义魔法命令 "
   ]
  },
  {
   "cell_type": "markdown",
   "metadata": {},
   "source": [
    "#### <span id=\"jump\"> %cell2file </span>"
   ]
  },
  {
   "cell_type": "markdown",
   "metadata": {},
   "source": [
    "(force=False,ext='clc')"
   ]
  },
  {
   "cell_type": "markdown",
   "metadata": {},
   "source": [
    "将下面程序写入文件或包, 并且放在Python的可搜索的路径下:"
   ]
  },
  {
   "cell_type": "code",
   "execution_count": null,
   "metadata": {},
   "outputs": [],
   "source": [
    "from IPython.core.magic import Magics, magics_class, line_magic, cell_magic, line_cell_magic\n",
    "@magics_class\n",
    "class BrMagics(Magics):\n",
    "\n",
    "    @cell_magic\n",
    "    def ap(self,line):\n",
    "        pass\n",
    "\n",
    "get_ipython().register_magics(BrMagics)\n"
   ]
  },
  {
   "cell_type": "markdown",
   "metadata": {},
   "source": [
    "## Notebook的显示系统"
   ]
  },
  {
   "cell_type": "markdown",
   "metadata": {},
   "source": [
    "### display模块"
   ]
  },
  {
   "cell_type": "markdown",
   "metadata": {},
   "source": [
    "由于Notebook采用浏览器作为界面，因此除了可以显示文本之外，还可以显示图像、动画、HTML等多种形式的数据。有关显示方面的功能均在`IPython.display`模块中定义。其中提供了如下的对象用于显示各种格式的数据：\n",
    "\n",
    "|    类名       |                       说明                        |\n",
    "|:------------:|:-------------------------------------------------|\n",
    "|   `Audio`    | 将二进制数据、文件或者网址显示为播放声音的控件           |\n",
    "|   `FileLink` | 将文件路径显示为一个超链接 |\n",
    "|   `FileLinks` | 将文件夹路径显示为一组超链接 |\n",
    "|   `HTML`    | 将字符串、文件或者网址显示为HTML |\n",
    "|   `Image`   | 将表示图像的二进制字符串、文件或者网址显示为图像 |\n",
    "|   `Javascript` | 将字符串作为Javascript代码在浏览器中运行 |\n",
    "|   `Latex` | 将字符串作为LaTeX代码显示，主要用于显示数学公式 |\n",
    "|   `SVG`  | 将字符串、文件或网址显示为SVG图形 |"
   ]
  },
  {
   "cell_type": "markdown",
   "metadata": {},
   "source": [
    "`Image`对象可以用于显示图像;    \n",
    "* `url`, 指定获取图像的网址;    \n",
    "* `embed`=`True`, 将图像嵌入到Notebook之中, 以后无需联网也可查看;"
   ]
  },
  {
   "cell_type": "code",
   "execution_count": null,
   "metadata": {},
   "outputs": [],
   "source": [
    "logourl = \"https://www.python.org/static/community_logos/python-logo-master-v3-TM.png\"\n",
    "display.Image(url=logourl, embed=True)"
   ]
  },
  {
   "cell_type": "markdown",
   "metadata": {},
   "source": [
    "as_png()使用matplotlib中的imsave()将数组转换成PNG图像数据:"
   ]
  },
  {
   "cell_type": "code",
   "execution_count": null,
   "metadata": {},
   "outputs": [],
   "source": [
    "def as_png(img, **kw):\n",
    "    \"将数组转换成PNG格式的字符串数据\"\n",
    "    import io\n",
    "    from matplotlib import image\n",
    "    from IPython import display\n",
    "    buf = io.BytesIO()\n",
    "    image.imsave(buf, img, **kw)\n",
    "    return buf.getvalue()"
   ]
  },
  {
   "cell_type": "markdown",
   "metadata": {},
   "source": [
    "下面的程序通过公式$\\sin(x^{2} + 2 \\cdot y^{2} + x \\cdot y)$生成二维数组z，并调用as_png()将其转换为字符串png，并查看该字符串的头10个字节。最后使用display.Image()将该字符串以PNG格式显示;"
   ]
  },
  {
   "cell_type": "code",
   "execution_count": null,
   "metadata": {},
   "outputs": [],
   "source": [
    "import numpy as np\n",
    "y, x = np.mgrid[-3:3:200j, -6:6:400j]\n",
    "z = np.sin(x**2 + 2*y**2 + x*y)\n",
    "png = as_png(z, cmap=\"Blues\", vmin=-2, vmax=2)\n",
    "print( repr(png[:10]) )\n",
    "display.Image(png)"
   ]
  },
  {
   "cell_type": "markdown",
   "metadata": {},
   "source": [
    "### 自定义对象的显示格式"
   ]
  },
  {
   "cell_type": "markdown",
   "metadata": {},
   "source": [
    "有两种方式可以自定义对象在Notebook中的显示格式：\n",
    "\n",
    "1. 给类添加相应的显示方法。\n",
    "2. 为类注册相应的显示函数。"
   ]
  },
  {
   "cell_type": "markdown",
   "metadata": {},
   "source": [
    "**当我们自己编写类的代码时，使用第一种方法最为便捷。**"
   ]
  },
  {
   "cell_type": "markdown",
   "metadata": {},
   "source": [
    "和Python的`__str__()`方法类似，只需要定义`_repr_*_()`等方法即可，这里的`*`可以是`html`、`svg`、`javascript`、`latex`、`png`等格式的名称。\n",
    "\n",
    "在下面的例子中，`Color`类中定义了两个`IPython`用的显示方法：`_repr_html_()`和`_repr_png_()`，它们分别使用HTML和PNG图像显示颜色信息。"
   ]
  },
  {
   "cell_type": "code",
   "execution_count": null,
   "metadata": {},
   "outputs": [],
   "source": [
    "class Color(object):\n",
    "    \n",
    "    def __init__(self, r, g, b):\n",
    "        self.rgb = r, g, b\n",
    "        \n",
    "    def html_color(self):\n",
    "        return '#{:02x}{:02x}{:02x}'.format(*self.rgb)\n",
    "    \n",
    "    def invert(self):\n",
    "        r, g, b = self.rgb\n",
    "        return Color(255-r, 255-g, 255-b)\n",
    "    \n",
    "    def _repr_html_(self):\n",
    "        color = self.html_color()\n",
    "        inv_color = self.invert().html_color()\n",
    "        template = '<span style=\"background-color:{c};color:{ic};padding:5px;\">{c}</span>'\n",
    "        return template.format(c=color, ic=inv_color)\n",
    "    \n",
    "    def _repr_png_(self):\n",
    "        img = np.empty((50, 50, 3), dtype=np.uint8)\n",
    "        img[:,:,:] = self.rgb\n",
    "        return as_png(img)"
   ]
  },
  {
   "cell_type": "markdown",
   "metadata": {},
   "source": [
    "下面创建`Color`对象，并直接查看它，IPython会自动选择最合适的显示格式。由于Notebook是基于HTML的，HTML格式的优先级别最高，因此查看`Color`对象时，`_repr_html_()`方法将被调用："
   ]
  },
  {
   "cell_type": "code",
   "execution_count": null,
   "metadata": {},
   "outputs": [],
   "source": [
    "#%hide_output\n",
    "c = Color(255, 10, 10)\n",
    "c"
   ]
  },
  {
   "cell_type": "markdown",
   "metadata": {},
   "source": [
    "为了使用其它格式显示对象，可以调用`display.display_*()`函数，这里调用`display_png()`将`Color`对象转换成一个PNG图像显示："
   ]
  },
  {
   "cell_type": "code",
   "execution_count": null,
   "metadata": {},
   "outputs": [],
   "source": [
    "#%nofig\n",
    "display.display_png(c)"
   ]
  },
  {
   "cell_type": "markdown",
   "metadata": {},
   "source": [
    "每种输出格式都对应一个`Formatter`对象，它们被保存在`DisplayFormatter`对象的`formatters`字典中，下面是获取该字典中PNG格式所对应的`Formatter`对象："
   ]
  },
  {
   "cell_type": "code",
   "execution_count": null,
   "metadata": {},
   "outputs": [],
   "source": [
    "shell = get_ipython()\n",
    "png_formatter = shell.display_formatter.formatters[u'image/png']"
   ]
  },
  {
   "cell_type": "markdown",
   "metadata": {},
   "source": [
    "调用`Formatter.for_type_by_name()`可以为该输出格式添加指定的格式显示函数，其前两个参数分别为模块名和类名。由于使用字符串指定类，因此添加格式显示函数时不需要载入目标类。下面的代码为NumPy的数组添加显示函数`as_png()`。"
   ]
  },
  {
   "cell_type": "code",
   "execution_count": null,
   "metadata": {},
   "outputs": [],
   "source": [
    "png_formatter.for_type_by_name(\"numpy\", \"ndarray\", as_png)"
   ]
  },
  {
   "cell_type": "markdown",
   "metadata": {},
   "source": [
    "下面查看前面创建的数组`z`，它将以图像的形式呈现:"
   ]
  },
  {
   "cell_type": "code",
   "execution_count": null,
   "metadata": {},
   "outputs": [],
   "source": [
    "z"
   ]
  },
  {
   "cell_type": "code",
   "execution_count": null,
   "metadata": {},
   "outputs": [],
   "source": [
    "zbr = np.random.randint(0,255,(100,200) )\n",
    "# 此后所有的numpy数组都将以图像的形式显示\n",
    "zbr"
   ]
  },
  {
   "cell_type": "markdown",
   "metadata": {},
   "source": [
    "如果目标类已经被载入时，可以使用`for_type()`方法为其添加格式显示函数。下面的代码将表示分数的`Fraction`类使用LaTeX的数学公式显示："
   ]
  },
  {
   "cell_type": "code",
   "execution_count": null,
   "metadata": {},
   "outputs": [],
   "source": [
    "from fractions import Fraction\n",
    "latex_formatter = shell.display_formatter.formatters[u\"text/latex\"]\n",
    "\n",
    "def fraction_formatter(obj):\n",
    "    return '$$\\\\frac{%d}{%d}$$' % (obj.numerator, obj.denominator)"
   ]
  },
  {
   "cell_type": "code",
   "execution_count": null,
   "metadata": {},
   "outputs": [],
   "source": [
    "latex_formatter.for_type(Fraction, fraction_formatter)"
   ]
  },
  {
   "cell_type": "code",
   "execution_count": null,
   "metadata": {},
   "outputs": [],
   "source": [
    "Fraction(3, 4) ** 4 / 3"
   ]
  },
  {
   "cell_type": "markdown",
   "metadata": {},
   "source": [
    "## 添加其他的运算核, Matlab, R, C, Fortran"
   ]
  },
  {
   "cell_type": "code",
   "execution_count": null,
   "metadata": {},
   "outputs": [],
   "source": []
  },
  {
   "cell_type": "code",
   "execution_count": null,
   "metadata": {},
   "outputs": [],
   "source": []
  }
 ],
 "metadata": {
  "kernelspec": {
   "display_name": "Python 3",
   "language": "python",
   "name": "python3"
  },
  "language_info": {
   "codemirror_mode": {
    "name": "ipython",
    "version": 3
   },
   "file_extension": ".py",
   "mimetype": "text/x-python",
   "name": "python",
   "nbconvert_exporter": "python",
   "pygments_lexer": "ipython3",
   "version": "3.6.5"
  },
  "toc": {
   "base_numbering": "1",
   "nav_menu": {},
   "number_sections": true,
   "sideBar": true,
   "skip_h1_title": true,
   "title_cell": "Table of Contents",
   "title_sidebar": "Contents",
   "toc_cell": false,
   "toc_position": {
    "height": "calc(100% - 180px)",
    "left": "10px",
    "top": "150px",
    "width": "165px"
   },
   "toc_section_display": true,
   "toc_window_display": false
  }
 },
 "nbformat": 4,
 "nbformat_minor": 1
}

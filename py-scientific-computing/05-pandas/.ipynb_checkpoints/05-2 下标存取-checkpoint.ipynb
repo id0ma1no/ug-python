{
 "cells": [
  {
   "cell_type": "code",
   "execution_count": 4,
   "metadata": {
    "collapsed": false
   },
   "outputs": [],
   "source": [
    "\n",
    "import pandas as pd\n",
    "import numpy as np\n",
    "pd.set_option(\"display.show_dimensions\", False)\n",
    "pd.set_option(\"display.float_format\", \"{:4.2g}\".format)"
   ]
  },
  {
   "cell_type": "markdown",
   "metadata": {},
   "source": [
    "## 下标存取"
   ]
  },
  {
   "cell_type": "markdown",
   "metadata": {},
   "source": [
    "DataFrame对象的各种存取方法"
   ]
  },
  {
   "cell_type": "markdown",
   "metadata": {},
   "source": [
    "| 方法                 | 说明                 |\n",
    "|:-----------------------------|:-----------------------------|\n",
    "|[col_label]     | 单个标签做下标, 返回Series对象  |\n",
    "|[col_labels]     |标签列表做下标, 返回DataFrame对象  |\n",
    "|[row_slice]     | 整数切片或标签切片, 返回指定范围内的行  |\n",
    "|[row_bool_array]  | 选择布尔数组中True对应的行 |\n",
    "|:|:|\n",
    "|at(index_label,col_label)  | 返回行标签和列标签对应的单个值 |\n",
    "|iat(index,col)  |返回行编号和列编号对应的单个值  |\n",
    "|get_value(raw_label,col_label)|选择行标签和列标签所对应的单个值|\n",
    "|get(col_label,default)| 访问列标签所对应的值,可以访问不存在的列 |\n",
    "|lookup(row_labels,col_labels)|标签列表做参,返回每对标签对应的值|\n",
    "|:|:|\n",
    "|ix(index,col)  | 既可以使用整数下标也可以使用切片下标|\n",
    "|:|:|\n",
    "|loc(index,col)  |单个标签,标签列表,标签数组,布尔数组,标签切片 |\n",
    "|iloc(index,col) |单个整数值,整数列表,整数数组,布尔数组,整数切片 |\n",
    "|:|:  |\n",
    "|head()  | 获取头部n行数据  |\n",
    "|tail()  | 获得尾部n行数据 |\n",
    "|query() | 通过表达式选择满足条件的行 |\n"
   ]
  },
  {
   "cell_type": "code",
   "execution_count": 9,
   "metadata": {
    "collapsed": false
   },
   "outputs": [
    {
     "data": {
      "text/html": [
       "<div>\n",
       "<table border=\"1\" class=\"dataframe\">\n",
       "  <thead>\n",
       "    <tr style=\"text-align: right;\">\n",
       "      <th></th>\n",
       "      <th>c1</th>\n",
       "      <th>c2</th>\n",
       "      <th>c3</th>\n",
       "    </tr>\n",
       "  </thead>\n",
       "  <tbody>\n",
       "    <tr>\n",
       "      <th>r1</th>\n",
       "      <td>6</td>\n",
       "      <td>3</td>\n",
       "      <td>7</td>\n",
       "    </tr>\n",
       "    <tr>\n",
       "      <th>r2</th>\n",
       "      <td>4</td>\n",
       "      <td>6</td>\n",
       "      <td>9</td>\n",
       "    </tr>\n",
       "    <tr>\n",
       "      <th>r3</th>\n",
       "      <td>2</td>\n",
       "      <td>6</td>\n",
       "      <td>7</td>\n",
       "    </tr>\n",
       "    <tr>\n",
       "      <th>r4</th>\n",
       "      <td>4</td>\n",
       "      <td>3</td>\n",
       "      <td>7</td>\n",
       "    </tr>\n",
       "    <tr>\n",
       "      <th>r5</th>\n",
       "      <td>7</td>\n",
       "      <td>2</td>\n",
       "      <td>5</td>\n",
       "    </tr>\n",
       "  </tbody>\n",
       "</table>\n",
       "</div>"
      ],
      "text/plain": [
       "    c1  c2  c3\n",
       "r1   6   3   7\n",
       "r2   4   6   9\n",
       "r3   2   6   7\n",
       "r4   4   3   7\n",
       "r5   7   2   5"
      ]
     },
     "execution_count": 9,
     "metadata": {},
     "output_type": "execute_result"
    }
   ],
   "source": [
    "np.random.seed(42)\n",
    "df = pd.DataFrame(np.random.randint(0, 10, (5, 3)), \n",
    "                  index=[\"r1\", \"r2\", \"r3\", \"r4\", \"r5\"], \n",
    "                  columns=[\"c1\", \"c2\", \"c3\"])\n",
    "df"
   ]
  },
  {
   "cell_type": "markdown",
   "metadata": {},
   "source": [
    "### `[]`操作符"
   ]
  },
  {
   "cell_type": "markdown",
   "metadata": {},
   "source": [
    "整数切片不包括尾部, 标签切片包含尾部"
   ]
  },
  {
   "cell_type": "code",
   "execution_count": 10,
   "metadata": {
    "collapsed": false
   },
   "outputs": [
    {
     "name": "stdout",
     "output_type": "stream",
     "text": [
      "   df[2:4]         df[\"r2\":\"r4\"] \n",
      "--------------     --------------\n",
      "    c1  c2  c3         c1  c2  c3\n",
      "r3   2   6   7     r2   4   6   9\n",
      "r4   4   3   7     r3   2   6   7\n",
      "                   r4   4   3   7\n"
     ]
    }
   ],
   "source": [
    "%C 5 df[2:4]; df[\"r2\":\"r4\"]"
   ]
  },
  {
   "cell_type": "markdown",
   "metadata": {},
   "source": [
    "布尔数组 和 DataFrame布尔数组, 布尔数组做下标只能获得True所对应的值"
   ]
  },
  {
   "cell_type": "code",
   "execution_count": 13,
   "metadata": {
    "collapsed": false
   },
   "outputs": [
    {
     "name": "stdout",
     "output_type": "stream",
     "text": [
      "      df.c1 > 4                   df > 2        \n",
      "---------------------     ----------------------\n",
      "r1     True                      c1     c2    c3\n",
      "r2    False               r1   True   True  True\n",
      "r3    False               r2   True   True  True\n",
      "r4    False               r3  False   True  True\n",
      "r5     True               r4   True   True  True\n",
      "Name: c1, dtype: bool     r5   True  False  True\n"
     ]
    }
   ],
   "source": [
    "%C 5 df.c1 > 4; df > 2"
   ]
  },
  {
   "cell_type": "code",
   "execution_count": 14,
   "metadata": {
    "collapsed": false
   },
   "outputs": [
    {
     "name": "stdout",
     "output_type": "stream",
     "text": [
      "df[df.c1 > 4]         df[df > 2]   \n",
      "--------------     ----------------\n",
      "    c1  c2  c3          c1   c2  c3\n",
      "r1   6   3   7     r1    6    3   7\n",
      "r5   7   2   5     r2    4    6   9\n",
      "                   r3  nan    6   7\n",
      "                   r4    4    3   7\n",
      "                   r5    7  nan   5\n"
     ]
    }
   ],
   "source": [
    "%C 5 df[df.c1 > 4]; df[df > 2]"
   ]
  },
  {
   "cell_type": "markdown",
   "metadata": {},
   "source": [
    "### `.loc[]`和`.iloc[]`存取器"
   ]
  },
  {
   "cell_type": "markdown",
   "metadata": {},
   "source": [
    "单个标签对做loc()的参数"
   ]
  },
  {
   "cell_type": "code",
   "execution_count": 16,
   "metadata": {
    "collapsed": false
   },
   "outputs": [
    {
     "name": "stdout",
     "output_type": "stream",
     "text": [
      "     df.loc[\"r2\"]          df.loc[\"r2\",\"c2\"]\n",
      "----------------------     -----------------\n",
      "c1    4                    6                \n",
      "c2    6                                     \n",
      "c3    9                                     \n",
      "Name: r2, dtype: int32                      \n"
     ]
    }
   ],
   "source": [
    "%C 5 df.loc[\"r2\"]; df.loc[\"r2\",\"c2\"]"
   ]
  },
  {
   "cell_type": "markdown",
   "metadata": {},
   "source": [
    "标签列表做loc()的参数"
   ]
  },
  {
   "cell_type": "code",
   "execution_count": 18,
   "metadata": {
    "collapsed": false
   },
   "outputs": [
    {
     "name": "stdout",
     "output_type": "stream",
     "text": [
      "df.loc[[\"r2\",\"r3\"]]     df.loc[[\"r2\",\"r3\"],[\"c1\",\"c2\"]]\n",
      "-------------------     -------------------------------\n",
      "    c1  c2  c3              c1  c2                     \n",
      "r2   4   6   9          r2   4   6                     \n",
      "r3   2   6   7          r3   2   6                     \n"
     ]
    }
   ],
   "source": [
    "%C 5 df.loc[[\"r2\",\"r3\"]]; df.loc[[\"r2\",\"r3\"],[\"c1\",\"c2\"]]"
   ]
  },
  {
   "cell_type": "markdown",
   "metadata": {},
   "source": [
    "标签切片, 标签列表, 布尔数组混合做loc()的参数"
   ]
  },
  {
   "cell_type": "code",
   "execution_count": 21,
   "metadata": {
    "collapsed": false
   },
   "outputs": [
    {
     "name": "stdout",
     "output_type": "stream",
     "text": [
      "df.loc[\"r2\":\"r4\", [\"c2\",\"c3\"]]     df.loc[df.c1>2, [\"c1\",\"c2\"]]\n",
      "------------------------------     ----------------------------\n",
      "    c2  c3                             c1  c2                  \n",
      "r2   6   9                         r1   6   3                  \n",
      "r3   6   7                         r2   4   6                  \n",
      "r4   3   7                         r4   4   3                  \n",
      "                                   r5   7   2                  \n"
     ]
    }
   ],
   "source": [
    "%C 5 df.loc[\"r2\":\"r4\", [\"c2\",\"c3\"]]; df.loc[df.c1>2, [\"c1\",\"c2\"]]"
   ]
  },
  {
   "cell_type": "markdown",
   "metadata": {},
   "source": [
    "单个整数值, 整数列表, 整数数组, 布尔数组 做 .iloc()的参数"
   ]
  },
  {
   "cell_type": "code",
   "execution_count": 28,
   "metadata": {
    "collapsed": false
   },
   "outputs": [
    {
     "data": {
      "text/plain": [
       "c1    2\n",
       "c2    6\n",
       "c3    7\n",
       "Name: r3, dtype: int32"
      ]
     },
     "execution_count": 28,
     "metadata": {},
     "output_type": "execute_result"
    }
   ],
   "source": [
    "df.iloc[2] #2默认代表列 下面的整数数组省略了列数组"
   ]
  },
  {
   "cell_type": "code",
   "execution_count": 29,
   "metadata": {
    "collapsed": false
   },
   "outputs": [
    {
     "name": "stdout",
     "output_type": "stream",
     "text": [
      "df.iloc[[2,4]]     df.iloc[[1,3]]     df.iloc[[1,3],[0,2]]\n",
      "--------------     --------------     --------------------\n",
      "    c1  c2  c3         c1  c2  c3         c1  c3          \n",
      "r3   2   6   7     r2   4   6   9     r2   4   9          \n",
      "r5   7   2   5     r4   4   3   7     r4   4   7          \n"
     ]
    }
   ],
   "source": [
    "%C 5 df.iloc[[2,4]]; df.iloc[[1,3]]; df.iloc[[1,3],[0,2]]"
   ]
  },
  {
   "cell_type": "code",
   "execution_count": 30,
   "metadata": {
    "collapsed": false
   },
   "outputs": [
    {
     "name": "stdout",
     "output_type": "stream",
     "text": [
      "df.iloc[2:4, [0,2]]     df.iloc[df.c1.values>2, [0,1]]\n",
      "-------------------     ------------------------------\n",
      "    c1  c3                  c1  c2                    \n",
      "r3   2   7              r1   6   3                    \n",
      "r4   4   7              r2   4   6                    \n",
      "                        r4   4   3                    \n",
      "                        r5   7   2                    \n"
     ]
    }
   ],
   "source": [
    "%C 5 df.iloc[2:4, [0,2]]; df.iloc[df.c1.values>2, [0,1]]"
   ]
  },
  {
   "cell_type": "markdown",
   "metadata": {},
   "source": [
    "ix()中的参数既可以是整数也可以是标签"
   ]
  },
  {
   "cell_type": "code",
   "execution_count": 32,
   "metadata": {
    "collapsed": false
   },
   "outputs": [
    {
     "name": "stdout",
     "output_type": "stream",
     "text": [
      "df.ix[2:4, [\"c1\", \"c3\"]]     df.ix[\"r1\":\"r3\", [0, 2]]\n",
      "------------------------     ------------------------\n",
      "    c1  c3                       c1  c3              \n",
      "r3   2   7                   r1   6   7              \n",
      "r4   4   7                   r2   4   9              \n",
      "                             r3   2   7              \n"
     ]
    }
   ],
   "source": [
    "%C 5 df.ix[2:4, [\"c1\", \"c3\"]]; df.ix[\"r1\":\"r3\", [0, 2]]"
   ]
  },
  {
   "cell_type": "markdown",
   "metadata": {},
   "source": [
    "### 获取单个值"
   ]
  },
  {
   "cell_type": "code",
   "execution_count": 35,
   "metadata": {
    "collapsed": false
   },
   "outputs": [
    {
     "data": {
      "text/html": [
       "<div>\n",
       "<table border=\"1\" class=\"dataframe\">\n",
       "  <thead>\n",
       "    <tr style=\"text-align: right;\">\n",
       "      <th></th>\n",
       "      <th>c1</th>\n",
       "      <th>c2</th>\n",
       "      <th>c3</th>\n",
       "    </tr>\n",
       "  </thead>\n",
       "  <tbody>\n",
       "    <tr>\n",
       "      <th>r1</th>\n",
       "      <td>6</td>\n",
       "      <td>3</td>\n",
       "      <td>7</td>\n",
       "    </tr>\n",
       "    <tr>\n",
       "      <th>r2</th>\n",
       "      <td>4</td>\n",
       "      <td>6</td>\n",
       "      <td>9</td>\n",
       "    </tr>\n",
       "    <tr>\n",
       "      <th>r3</th>\n",
       "      <td>2</td>\n",
       "      <td>6</td>\n",
       "      <td>7</td>\n",
       "    </tr>\n",
       "    <tr>\n",
       "      <th>r4</th>\n",
       "      <td>4</td>\n",
       "      <td>3</td>\n",
       "      <td>7</td>\n",
       "    </tr>\n",
       "    <tr>\n",
       "      <th>r5</th>\n",
       "      <td>7</td>\n",
       "      <td>2</td>\n",
       "      <td>5</td>\n",
       "    </tr>\n",
       "  </tbody>\n",
       "</table>\n",
       "</div>"
      ],
      "text/plain": [
       "    c1  c2  c3\n",
       "r1   6   3   7\n",
       "r2   4   6   9\n",
       "r3   2   6   7\n",
       "r4   4   3   7\n",
       "r5   7   2   5"
      ]
     },
     "execution_count": 35,
     "metadata": {},
     "output_type": "execute_result"
    }
   ],
   "source": [
    "np.random.seed(42)\n",
    "df = pd.DataFrame(np.random.randint(0, 10, (5, 3)), \n",
    "                  index=[\"r1\", \"r2\", \"r3\", \"r4\", \"r5\"], \n",
    "                  columns=[\"c1\", \"c2\", \"c3\"])\n",
    "df"
   ]
  },
  {
   "cell_type": "markdown",
   "metadata": {},
   "source": [
    "at()和get_value()可以获得单个元素的值"
   ]
  },
  {
   "cell_type": "code",
   "execution_count": 39,
   "metadata": {
    "collapsed": false
   },
   "outputs": [
    {
     "name": "stdout",
     "output_type": "stream",
     "text": [
      "df.at[\"r1\", \"c1\"]   df.iat[0,1]   df.get_value(\"r1\", \"c3\")\n",
      "-----------------   -----------   ------------------------\n",
      "6                   3             7                       \n"
     ]
    }
   ],
   "source": [
    "%C 3 df.at[\"r1\", \"c1\"]; df.iat[0,1]; df.get_value(\"r1\", \"c3\")"
   ]
  },
  {
   "cell_type": "markdown",
   "metadata": {},
   "source": [
    "lookup()可以获得多个标签对对应的值"
   ]
  },
  {
   "cell_type": "code",
   "execution_count": 41,
   "metadata": {
    "collapsed": false
   },
   "outputs": [
    {
     "data": {
      "text/plain": [
       "array([6, 3, 7])"
      ]
     },
     "execution_count": 41,
     "metadata": {},
     "output_type": "execute_result"
    }
   ],
   "source": [
    "df.lookup([\"r1\", \"r1\", \"r1\"], [\"c1\", \"c2\", \"c3\"])"
   ]
  },
  {
   "cell_type": "markdown",
   "metadata": {},
   "source": [
    "### 多级标签的存取"
   ]
  },
  {
   "cell_type": "markdown",
   "metadata": {},
   "source": [
    "**loc[]和at[]下标**(*不是函数loc(),at()*)可以指定多级索引中每级索引上的标签"
   ]
  },
  {
   "cell_type": "code",
   "execution_count": 59,
   "metadata": {
    "collapsed": false
   },
   "outputs": [
    {
     "data": {
      "text/html": [
       "<div>\n",
       "<table border=\"1\" class=\"dataframe\">\n",
       "  <thead>\n",
       "    <tr style=\"text-align: right;\">\n",
       "      <th></th>\n",
       "      <th></th>\n",
       "      <th>pH</th>\n",
       "      <th>Dens</th>\n",
       "      <th>Ca</th>\n",
       "      <th>Conduc</th>\n",
       "      <th>Date</th>\n",
       "      <th>Name</th>\n",
       "    </tr>\n",
       "    <tr>\n",
       "      <th>Depth</th>\n",
       "      <th>Contour</th>\n",
       "      <th></th>\n",
       "      <th></th>\n",
       "      <th></th>\n",
       "      <th></th>\n",
       "      <th></th>\n",
       "      <th></th>\n",
       "    </tr>\n",
       "  </thead>\n",
       "  <tbody>\n",
       "    <tr>\n",
       "      <th rowspan=\"3\" valign=\"top\">0-10</th>\n",
       "      <th>Depression</th>\n",
       "      <td>5.4</td>\n",
       "      <td>0.98</td>\n",
       "      <td>11</td>\n",
       "      <td>1.5</td>\n",
       "      <td>2015-05-26</td>\n",
       "      <td>Lois</td>\n",
       "    </tr>\n",
       "    <tr>\n",
       "      <th>Slope</th>\n",
       "      <td>5.5</td>\n",
       "      <td>1.1</td>\n",
       "      <td>12</td>\n",
       "      <td>2</td>\n",
       "      <td>2015-04-30</td>\n",
       "      <td>Roy</td>\n",
       "    </tr>\n",
       "    <tr>\n",
       "      <th>Top</th>\n",
       "      <td>5.3</td>\n",
       "      <td>1</td>\n",
       "      <td>13</td>\n",
       "      <td>1.4</td>\n",
       "      <td>2015-05-21</td>\n",
       "      <td>Roy</td>\n",
       "    </tr>\n",
       "    <tr>\n",
       "      <th rowspan=\"3\" valign=\"top\">10-30</th>\n",
       "      <th>Depression</th>\n",
       "      <td>4.9</td>\n",
       "      <td>1.4</td>\n",
       "      <td>7.5</td>\n",
       "      <td>5.5</td>\n",
       "      <td>2015-03-21</td>\n",
       "      <td>Lois</td>\n",
       "    </tr>\n",
       "    <tr>\n",
       "      <th>Slope</th>\n",
       "      <td>5.3</td>\n",
       "      <td>1.3</td>\n",
       "      <td>9.5</td>\n",
       "      <td>4.9</td>\n",
       "      <td>2015-02-06</td>\n",
       "      <td>Diana</td>\n",
       "    </tr>\n",
       "    <tr>\n",
       "      <th>Top</th>\n",
       "      <td>4.8</td>\n",
       "      <td>1.3</td>\n",
       "      <td>10</td>\n",
       "      <td>3.6</td>\n",
       "      <td>2015-04-11</td>\n",
       "      <td>Diana</td>\n",
       "    </tr>\n",
       "  </tbody>\n",
       "</table>\n",
       "</div>"
      ],
      "text/plain": [
       "                   pH  Dens   Ca  Conduc       Date   Name\n",
       "Depth Contour                                             \n",
       "0-10  Depression  5.4  0.98   11     1.5 2015-05-26   Lois\n",
       "      Slope       5.5   1.1   12       2 2015-04-30    Roy\n",
       "      Top         5.3     1   13     1.4 2015-05-21    Roy\n",
       "10-30 Depression  4.9   1.4  7.5     5.5 2015-03-21   Lois\n",
       "      Slope       5.3   1.3  9.5     4.9 2015-02-06  Diana\n",
       "      Top         4.8   1.3   10     3.6 2015-04-11  Diana"
      ]
     },
     "execution_count": 59,
     "metadata": {},
     "output_type": "execute_result"
    }
   ],
   "source": [
    "soil_df = pd.read_csv(\"data/Soils-simple.csv\", \n",
    "                      index_col=[0, 1], parse_dates=[\"Date\"])\n",
    "soil_df"
   ]
  },
  {
   "cell_type": "markdown",
   "metadata": {},
   "source": [
    "某个一级索引的所用二级索引"
   ]
  },
  {
   "cell_type": "code",
   "execution_count": 45,
   "metadata": {
    "collapsed": false
   },
   "outputs": [
    {
     "name": "stdout",
     "output_type": "stream",
     "text": [
      "soil_df.loc[\"10-30\", [\"pH\", \"Ca\"]]\n",
      "----------------------------------\n",
      "             pH   Ca              \n",
      "Contour                           \n",
      "Depression  4.9  7.5              \n",
      "Slope       5.3  9.5              \n",
      "Top         4.8   10              \n"
     ]
    }
   ],
   "source": [
    "%C soil_df.loc[\"10-30\", [\"pH\", \"Ca\"]]"
   ]
  },
  {
   "cell_type": "markdown",
   "metadata": {},
   "source": [
    "    >行的二级索引如果要做loc[]的下标, 必须包含一级索引的下标, 并且要用np.s_函数把一级索引和二级行索引一并转化为下标"
   ]
  },
  {
   "cell_type": "markdown",
   "metadata": {},
   "source": [
    "所有一级索引中的某个的二级索引"
   ]
  },
  {
   "cell_type": "code",
   "execution_count": 49,
   "metadata": {
    "collapsed": false
   },
   "outputs": [
    {
     "name": "stdout",
     "output_type": "stream",
     "text": [
      "soil_df.loc[np.s_[:, \"Top\"], [\"pH\", \"Ca\"]]\n",
      "------------------------------------------\n",
      "                pH   Ca                   \n",
      "Depth Contour                             \n",
      "0-10  Top      5.3   13                   \n",
      "10-30 Top      4.8   10                   \n"
     ]
    }
   ],
   "source": [
    "%C soil_df.loc[np.s_[:, \"Top\"], [\"pH\", \"Ca\"]]"
   ]
  },
  {
   "cell_type": "markdown",
   "metadata": {},
   "source": [
    "某个一级索引中的某个二级索引"
   ]
  },
  {
   "cell_type": "code",
   "execution_count": 51,
   "metadata": {
    "collapsed": false
   },
   "outputs": [
    {
     "name": "stdout",
     "output_type": "stream",
     "text": [
      "soil_df.loc[np.s_[\"10-30\", \"Top\"], [\"pH\", \"Ca\"]]\n",
      "------------------------------------------------\n",
      "pH    4.8                                       \n",
      "Ca     10                                       \n",
      "Name: (10-30, Top), dtype: object               \n"
     ]
    }
   ],
   "source": [
    "%C soil_df.loc[np.s_[\"10-30\", \"Top\"], [\"pH\", \"Ca\"]]"
   ]
  },
  {
   "cell_type": "markdown",
   "metadata": {},
   "source": [
    "### `query()`方法"
   ]
  },
  {
   "cell_type": "markdown",
   "metadata": {},
   "source": [
    "使用过滤条件获得布尔数组"
   ]
  },
  {
   "cell_type": "code",
   "execution_count": 65,
   "metadata": {
    "collapsed": false
   },
   "outputs": [
    {
     "data": {
      "text/plain": [
       "Depth  Contour   \n",
       "0-10   Depression    False\n",
       "       Slope          True\n",
       "       Top            True\n",
       "10-30  Depression    False\n",
       "       Slope         False\n",
       "       Top           False\n",
       "dtype: bool"
      ]
     },
     "execution_count": 65,
     "metadata": {},
     "output_type": "execute_result"
    }
   ],
   "source": [
    "( soil_df.pH > 5 ) & ( soil_df.Ca > 11 )"
   ]
  },
  {
   "cell_type": "code",
   "execution_count": 66,
   "metadata": {
    "collapsed": false
   },
   "outputs": [
    {
     "data": {
      "text/html": [
       "<div>\n",
       "<table border=\"1\" class=\"dataframe\">\n",
       "  <thead>\n",
       "    <tr style=\"text-align: right;\">\n",
       "      <th></th>\n",
       "      <th></th>\n",
       "      <th>pH</th>\n",
       "      <th>Dens</th>\n",
       "      <th>Ca</th>\n",
       "      <th>Conduc</th>\n",
       "      <th>Date</th>\n",
       "      <th>Name</th>\n",
       "    </tr>\n",
       "    <tr>\n",
       "      <th>Depth</th>\n",
       "      <th>Contour</th>\n",
       "      <th></th>\n",
       "      <th></th>\n",
       "      <th></th>\n",
       "      <th></th>\n",
       "      <th></th>\n",
       "      <th></th>\n",
       "    </tr>\n",
       "  </thead>\n",
       "  <tbody>\n",
       "    <tr>\n",
       "      <th rowspan=\"2\" valign=\"top\">0-10</th>\n",
       "      <th>Slope</th>\n",
       "      <td>5.5</td>\n",
       "      <td>1.1</td>\n",
       "      <td>12</td>\n",
       "      <td>2</td>\n",
       "      <td>2015-04-30</td>\n",
       "      <td>Roy</td>\n",
       "    </tr>\n",
       "    <tr>\n",
       "      <th>Top</th>\n",
       "      <td>5.3</td>\n",
       "      <td>1</td>\n",
       "      <td>13</td>\n",
       "      <td>1.4</td>\n",
       "      <td>2015-05-21</td>\n",
       "      <td>Roy</td>\n",
       "    </tr>\n",
       "  </tbody>\n",
       "</table>\n",
       "</div>"
      ],
      "text/plain": [
       "                pH  Dens   Ca  Conduc       Date Name\n",
       "Depth Contour                                        \n",
       "0-10  Slope    5.5   1.1   12       2 2015-04-30  Roy\n",
       "      Top      5.3     1   13     1.4 2015-05-21  Roy"
      ]
     },
     "execution_count": 66,
     "metadata": {},
     "output_type": "execute_result"
    }
   ],
   "source": [
    "soil_df[ ( soil_df.pH > 5 ) & ( soil_df.Ca > 11 ) ]"
   ]
  },
  {
   "cell_type": "markdown",
   "metadata": {},
   "source": [
    "query()的参数是一个运算表达式字符串"
   ]
  },
  {
   "cell_type": "code",
   "execution_count": 53,
   "metadata": {
    "collapsed": false
   },
   "outputs": [
    {
     "data": {
      "text/html": [
       "<div>\n",
       "<table border=\"1\" class=\"dataframe\">\n",
       "  <thead>\n",
       "    <tr style=\"text-align: right;\">\n",
       "      <th></th>\n",
       "      <th></th>\n",
       "      <th>pH</th>\n",
       "      <th>Dens</th>\n",
       "      <th>Ca</th>\n",
       "      <th>Conduc</th>\n",
       "      <th>Date</th>\n",
       "      <th>Name</th>\n",
       "    </tr>\n",
       "    <tr>\n",
       "      <th>Depth</th>\n",
       "      <th>Contour</th>\n",
       "      <th></th>\n",
       "      <th></th>\n",
       "      <th></th>\n",
       "      <th></th>\n",
       "      <th></th>\n",
       "      <th></th>\n",
       "    </tr>\n",
       "  </thead>\n",
       "  <tbody>\n",
       "    <tr>\n",
       "      <th>0-10</th>\n",
       "      <th>Depression</th>\n",
       "      <td>5.4</td>\n",
       "      <td>0.98</td>\n",
       "      <td>11</td>\n",
       "      <td>1.5</td>\n",
       "      <td>2015-05-26</td>\n",
       "      <td>Lois</td>\n",
       "    </tr>\n",
       "    <tr>\n",
       "      <th>10-30</th>\n",
       "      <th>Slope</th>\n",
       "      <td>5.3</td>\n",
       "      <td>1.3</td>\n",
       "      <td>9.5</td>\n",
       "      <td>4.9</td>\n",
       "      <td>2015-02-06</td>\n",
       "      <td>Diana</td>\n",
       "    </tr>\n",
       "  </tbody>\n",
       "</table>\n",
       "</div>"
      ],
      "text/plain": [
       "                   pH  Dens   Ca  Conduc       Date   Name\n",
       "Depth Contour                                             \n",
       "0-10  Depression  5.4  0.98   11     1.5 2015-05-26   Lois\n",
       "10-30 Slope       5.3   1.3  9.5     4.9 2015-02-06  Diana"
      ]
     },
     "execution_count": 53,
     "metadata": {},
     "output_type": "execute_result"
    }
   ],
   "source": [
    "soil_df.query(\"pH > 5 and Ca < 11\")"
   ]
  },
  {
   "cell_type": "markdown",
   "metadata": {},
   "source": [
    "表达式中如果含有其他全局变量或局部变量的值, 可以在变量名之前添加@"
   ]
  },
  {
   "cell_type": "code",
   "execution_count": 55,
   "metadata": {
    "collapsed": false
   },
   "outputs": [
    {
     "data": {
      "text/html": [
       "<div>\n",
       "<table border=\"1\" class=\"dataframe\">\n",
       "  <thead>\n",
       "    <tr style=\"text-align: right;\">\n",
       "      <th></th>\n",
       "      <th></th>\n",
       "      <th>pH</th>\n",
       "      <th>Dens</th>\n",
       "      <th>Ca</th>\n",
       "      <th>Conduc</th>\n",
       "      <th>Date</th>\n",
       "      <th>Name</th>\n",
       "    </tr>\n",
       "    <tr>\n",
       "      <th>Depth</th>\n",
       "      <th>Contour</th>\n",
       "      <th></th>\n",
       "      <th></th>\n",
       "      <th></th>\n",
       "      <th></th>\n",
       "      <th></th>\n",
       "      <th></th>\n",
       "    </tr>\n",
       "  </thead>\n",
       "  <tbody>\n",
       "    <tr>\n",
       "      <th>0-10</th>\n",
       "      <th>Depression</th>\n",
       "      <td>5.4</td>\n",
       "      <td>0.98</td>\n",
       "      <td>11</td>\n",
       "      <td>1.5</td>\n",
       "      <td>2015-05-26</td>\n",
       "      <td>Lois</td>\n",
       "    </tr>\n",
       "    <tr>\n",
       "      <th>10-30</th>\n",
       "      <th>Slope</th>\n",
       "      <td>5.3</td>\n",
       "      <td>1.3</td>\n",
       "      <td>9.5</td>\n",
       "      <td>4.9</td>\n",
       "      <td>2015-02-06</td>\n",
       "      <td>Diana</td>\n",
       "    </tr>\n",
       "  </tbody>\n",
       "</table>\n",
       "</div>"
      ],
      "text/plain": [
       "                   pH  Dens   Ca  Conduc       Date   Name\n",
       "Depth Contour                                             \n",
       "0-10  Depression  5.4  0.98   11     1.5 2015-05-26   Lois\n",
       "10-30 Slope       5.3   1.3  9.5     4.9 2015-02-06  Diana"
      ]
     },
     "execution_count": 55,
     "metadata": {},
     "output_type": "execute_result"
    }
   ],
   "source": [
    "#%hide_output\n",
    "pH_low = 5\n",
    "Ca_hi = 11\n",
    "soil_df.query(\"pH > @pH_low and Ca < @Ca_hi\")"
   ]
  },
  {
   "cell_type": "code",
   "execution_count": null,
   "metadata": {
    "collapsed": true
   },
   "outputs": [],
   "source": []
  }
 ],
 "metadata": {
  "kernelspec": {
   "display_name": "Python 2",
   "language": "python",
   "name": "python2"
  },
  "language_info": {
   "codemirror_mode": {
    "name": "ipython",
    "version": 2
   },
   "file_extension": ".py",
   "mimetype": "text/x-python",
   "name": "python",
   "nbconvert_exporter": "python",
   "pygments_lexer": "ipython2",
   "version": "2.7.9"
  }
 },
 "nbformat": 4,
 "nbformat_minor": 0
}

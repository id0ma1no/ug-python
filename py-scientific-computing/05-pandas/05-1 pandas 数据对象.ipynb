{
 "cells": [
  {
   "cell_type": "code",
   "execution_count": 140,
   "metadata": {
    "collapsed": false,
    "group_control": {
     "group": 0
    }
   },
   "outputs": [],
   "source": [
    "import pandas as pd\n",
    "import numpy as np\n",
    "pd.set_option(\"display.show_dimensions\", False)\n",
    "pd.set_option(\"display.float_format\", \"{:4.3g}\".format)"
   ]
  },
  {
   "cell_type": "markdown",
   "metadata": {},
   "source": [
    "# Pandas-方便的数据分析库"
   ]
  },
  {
   "cell_type": "code",
   "execution_count": 2,
   "metadata": {
    "collapsed": false,
    "group_control": {
     "group": 0
    }
   },
   "outputs": [
    {
     "data": {
      "text/plain": [
       "'0.16.2'"
      ]
     },
     "execution_count": 2,
     "metadata": {},
     "output_type": "execute_result"
    }
   ],
   "source": [
    "import pandas as pd\n",
    "pd.__version__"
   ]
  },
  {
   "cell_type": "markdown",
   "metadata": {},
   "source": [
    "## Pandas中的数据对象"
   ]
  },
  {
   "cell_type": "markdown",
   "metadata": {},
   "source": [
    "### `Series`对象"
   ]
  },
  {
   "cell_type": "markdown",
   "metadata": {},
   "source": [
    "Series 对象同时拥有数组和字典的功能"
   ]
  },
  {
   "cell_type": "code",
   "execution_count": 38,
   "metadata": {
    "collapsed": false,
    "group_control": {
     "group": 0
    }
   },
   "outputs": [
    {
     "name": "stdout",
     "output_type": "stream",
     "text": [
      "　索引: Index([u'a', u'b', u'c', u'd', u'e'], dtype='object')\n",
      "值数组: [1 2 3 4 5]\n"
     ]
    },
    {
     "data": {
      "text/plain": [
       "a    1\n",
       "b    2\n",
       "c    3\n",
       "d    4\n",
       "e    5\n",
       "dtype: int64"
      ]
     },
     "execution_count": 38,
     "metadata": {},
     "output_type": "execute_result"
    }
   ],
   "source": [
    "s = pd.Series([1, 2, 3, 4, 5], index=[\"a\", \"b\", \"c\", \"d\", \"e\"])\n",
    "print u\"　索引:\", s.index\n",
    "print u\"值数组:\", s.values\n",
    "s"
   ]
  },
  {
   "cell_type": "code",
   "execution_count": 4,
   "metadata": {
    "collapsed": false,
    "group_control": {
     "group": 0
    }
   },
   "outputs": [
    {
     "name": "stdout",
     "output_type": "stream",
     "text": [
      "位置下标   s[2]: 3\n",
      "标签下标 s['d']: 4\n"
     ]
    }
   ],
   "source": [
    "print u\"位置下标   s[2]:\", s[2]\n",
    "print u\"标签下标 s['d']:\", s['d']"
   ]
  },
  {
   "cell_type": "code",
   "execution_count": 5,
   "metadata": {
    "collapsed": false,
    "group_control": {
     "group": 0
    }
   },
   "outputs": [
    {
     "name": "stdout",
     "output_type": "stream",
     "text": [
      "   s[1:3]         s['b':'d'] \n",
      "------------     ------------\n",
      "b    2           b    2      \n",
      "c    3           c    3      \n",
      "dtype: int64     d    4      \n",
      "                 dtype: int64\n"
     ]
    }
   ],
   "source": [
    "%C 5 s[1:3]; s['b':'d']"
   ]
  },
  {
   "cell_type": "code",
   "execution_count": 6,
   "metadata": {
    "collapsed": false,
    "group_control": {
     "group": 0
    }
   },
   "outputs": [
    {
     "name": "stdout",
     "output_type": "stream",
     "text": [
      " s[[1,3,2]]      s[['b','d','c']]  # 位置列表和标签列表\n",
      "------------     -----------------------------\n",
      "b    2           b    2                       \n",
      "d    4           d    4                       \n",
      "c    3           c    3                       \n",
      "dtype: int64     dtype: int64                 \n"
     ]
    }
   ],
   "source": [
    "%C 5 s[[1,3,2]]; s[['b','d','c']]  # 位置列表和标签列表"
   ]
  },
  {
   "cell_type": "code",
   "execution_count": 7,
   "metadata": {
    "collapsed": false,
    "group_control": {
     "group": 0
    }
   },
   "outputs": [
    {
     "data": {
      "text/plain": [
       "[('a', 1), ('b', 2), ('c', 3), ('d', 4), ('e', 5)]"
      ]
     },
     "execution_count": 7,
     "metadata": {},
     "output_type": "execute_result"
    }
   ],
   "source": [
    "list(s.iteritems()) "
   ]
  },
  {
   "cell_type": "code",
   "execution_count": 11,
   "metadata": {
    "collapsed": false
   },
   "outputs": [
    {
     "name": "stdout",
     "output_type": "stream",
     "text": [
      "     s                s2               s+s2     \n",
      "------------     ------------     --------------\n",
      "a    1           b    20          a    nan      \n",
      "b    2           c    30          b     22      \n",
      "c    3           d    40          c     33      \n",
      "d    4           e    50          d     44      \n",
      "e    5           f    60          e     55      \n",
      "dtype: int64     dtype: int64     f    nan      \n",
      "                                  dtype: float64\n"
     ]
    }
   ],
   "source": [
    "s2 = pd.Series([20,30,40,50,60], index=[\"b\",\"c\",\"d\",\"e\",\"f\"])\n",
    "%C 5 s; s2; s+s2"
   ]
  },
  {
   "cell_type": "markdown",
   "metadata": {},
   "source": [
    "### `DataFrame`对象"
   ]
  },
  {
   "cell_type": "markdown",
   "metadata": {},
   "source": [
    "#### `DataFrame`的各个组成元素"
   ]
  },
  {
   "cell_type": "markdown",
   "metadata": {},
   "source": [
    "从文件创建DataFrame对象"
   ]
  },
  {
   "cell_type": "code",
   "execution_count": 22,
   "metadata": {
    "collapsed": false,
    "group_control": {
     "group": 0
    }
   },
   "outputs": [],
   "source": [
    "df_soil = pd.read_csv(\"data/Soils-simple.csv\", index_col=[0, 1], parse_dates=[\"Date\"])\n",
    "df_soil.columns.name = \"Measures\""
   ]
  },
  {
   "cell_type": "code",
   "execution_count": 37,
   "metadata": {
    "collapsed": false
   },
   "outputs": [
    {
     "data": {
      "text/html": [
       "<div>\n",
       "<table border=\"1\" class=\"dataframe\">\n",
       "  <thead>\n",
       "    <tr style=\"text-align: right;\">\n",
       "      <th></th>\n",
       "      <th>Measures</th>\n",
       "      <th>pH</th>\n",
       "      <th>Dens</th>\n",
       "      <th>Ca</th>\n",
       "      <th>Conduc</th>\n",
       "      <th>Date</th>\n",
       "      <th>Name</th>\n",
       "    </tr>\n",
       "    <tr>\n",
       "      <th>Depth</th>\n",
       "      <th>Contour</th>\n",
       "      <th></th>\n",
       "      <th></th>\n",
       "      <th></th>\n",
       "      <th></th>\n",
       "      <th></th>\n",
       "      <th></th>\n",
       "    </tr>\n",
       "  </thead>\n",
       "  <tbody>\n",
       "    <tr>\n",
       "      <th rowspan=\"3\" valign=\"top\">0-10</th>\n",
       "      <th>Depression</th>\n",
       "      <td>5.4</td>\n",
       "      <td>0.98</td>\n",
       "      <td>11</td>\n",
       "      <td>1.5</td>\n",
       "      <td>2015-05-26</td>\n",
       "      <td>Lois</td>\n",
       "    </tr>\n",
       "    <tr>\n",
       "      <th>Slope</th>\n",
       "      <td>5.5</td>\n",
       "      <td>1.1</td>\n",
       "      <td>12</td>\n",
       "      <td>2</td>\n",
       "      <td>2015-04-30</td>\n",
       "      <td>Roy</td>\n",
       "    </tr>\n",
       "    <tr>\n",
       "      <th>Top</th>\n",
       "      <td>5.3</td>\n",
       "      <td>1</td>\n",
       "      <td>13</td>\n",
       "      <td>1.4</td>\n",
       "      <td>2015-05-21</td>\n",
       "      <td>Roy</td>\n",
       "    </tr>\n",
       "    <tr>\n",
       "      <th rowspan=\"3\" valign=\"top\">10-30</th>\n",
       "      <th>Depression</th>\n",
       "      <td>4.9</td>\n",
       "      <td>1.4</td>\n",
       "      <td>7.5</td>\n",
       "      <td>5.5</td>\n",
       "      <td>2015-03-21</td>\n",
       "      <td>Lois</td>\n",
       "    </tr>\n",
       "    <tr>\n",
       "      <th>Slope</th>\n",
       "      <td>5.3</td>\n",
       "      <td>1.3</td>\n",
       "      <td>9.5</td>\n",
       "      <td>4.9</td>\n",
       "      <td>2015-02-06</td>\n",
       "      <td>Diana</td>\n",
       "    </tr>\n",
       "    <tr>\n",
       "      <th>Top</th>\n",
       "      <td>4.8</td>\n",
       "      <td>1.3</td>\n",
       "      <td>10</td>\n",
       "      <td>3.6</td>\n",
       "      <td>2015-04-11</td>\n",
       "      <td>Diana</td>\n",
       "    </tr>\n",
       "  </tbody>\n",
       "</table>\n",
       "</div>"
      ],
      "text/plain": [
       "Measures           pH  Dens   Ca  Conduc       Date   Name\n",
       "Depth Contour                                             \n",
       "0-10  Depression  5.4  0.98   11     1.5 2015-05-26   Lois\n",
       "      Slope       5.5   1.1   12       2 2015-04-30    Roy\n",
       "      Top         5.3     1   13     1.4 2015-05-21    Roy\n",
       "10-30 Depression  4.9   1.4  7.5     5.5 2015-03-21   Lois\n",
       "      Slope       5.3   1.3  9.5     4.9 2015-02-06  Diana\n",
       "      Top         4.8   1.3   10     3.6 2015-04-11  Diana"
      ]
     },
     "execution_count": 37,
     "metadata": {},
     "output_type": "execute_result"
    }
   ],
   "source": [
    "df_soil"
   ]
  },
  {
   "cell_type": "markdown",
   "metadata": {},
   "source": [
    "DataFrame 对象的类型, 也就是每一列的类型"
   ]
  },
  {
   "cell_type": "code",
   "execution_count": 88,
   "metadata": {
    "collapsed": false,
    "group_control": {
     "group": 0
    }
   },
   "outputs": [
    {
     "data": {
      "text/plain": [
       "Measures\n",
       "pH               float64\n",
       "Dens             float64\n",
       "Ca               float64\n",
       "Conduc           float64\n",
       "Date      datetime64[ns]\n",
       "Name              object\n",
       "dtype: object"
      ]
     },
     "execution_count": 88,
     "metadata": {},
     "output_type": "execute_result"
    }
   ],
   "source": [
    "df_soil.dtypes # 列名就是索引， PH 既是列名又是索引，它属于索引对象Index中的元素"
   ]
  },
  {
   "cell_type": "markdown",
   "metadata": {},
   "source": [
    "DataFrame 对象有shape属性"
   ]
  },
  {
   "cell_type": "code",
   "execution_count": 24,
   "metadata": {
    "collapsed": false,
    "group_control": {
     "group": 0
    }
   },
   "outputs": [
    {
     "data": {
      "text/plain": [
       "(6, 6)"
      ]
     },
     "execution_count": 24,
     "metadata": {},
     "output_type": "execute_result"
    }
   ],
   "source": [
    "df_soil.shape"
   ]
  },
  {
   "cell_type": "markdown",
   "metadata": {},
   "source": [
    "DataFrame的index属性保存行索引, columns属性保存列索引"
   ]
  },
  {
   "cell_type": "code",
   "execution_count": 28,
   "metadata": {
    "collapsed": false,
    "group_control": {
     "group": 0
    }
   },
   "outputs": [
    {
     "name": "stdout",
     "output_type": "stream",
     "text": [
      "Index([u'pH', u'Dens', u'Ca', u'Conduc', u'Date', u'Name'], dtype='object', name=u'Measures')\n",
      "Measures\n"
     ]
    }
   ],
   "source": [
    "# 区分DataFrame的列和列名\n",
    "print df_soil.columns\n",
    "print df_soil.columns.name"
   ]
  },
  {
   "cell_type": "code",
   "execution_count": 29,
   "metadata": {
    "collapsed": false,
    "group_control": {
     "group": 0
    }
   },
   "outputs": [
    {
     "name": "stdout",
     "output_type": "stream",
     "text": [
      "MultiIndex(levels=[[u'0-10', u'10-30'], [u'Depression', u'Slope', u'Top']],\n",
      "           labels=[[0, 0, 0, 1, 1, 1], [0, 1, 2, 0, 1, 2]],\n",
      "           names=[u'Depth', u'Contour'])\n",
      "[u'Depth', u'Contour']\n"
     ]
    }
   ],
   "source": [
    "print df_soil.index# level: 两级行索引 labels: 及其对应的整数表示\n",
    "print df_soil.index.names # 行索引名"
   ]
  },
  {
   "cell_type": "markdown",
   "metadata": {},
   "source": [
    "[]: 通过列索引标签获得指定的列"
   ]
  },
  {
   "cell_type": "code",
   "execution_count": 35,
   "metadata": {
    "collapsed": false
   },
   "outputs": [
    {
     "data": {
      "text/plain": [
       "Depth  Contour   \n",
       "0-10   Depression    5.4\n",
       "       Slope         5.5\n",
       "       Top           5.3\n",
       "10-30  Depression    4.9\n",
       "       Slope         5.3\n",
       "       Top           4.8\n",
       "Name: pH, dtype: float64"
      ]
     },
     "execution_count": 35,
     "metadata": {},
     "output_type": "execute_result"
    }
   ],
   "source": [
    "df_soil[\"pH\"]"
   ]
  },
  {
   "cell_type": "code",
   "execution_count": 36,
   "metadata": {
    "collapsed": false,
    "group_control": {
     "group": 0
    }
   },
   "outputs": [
    {
     "data": {
      "text/html": [
       "<div>\n",
       "<table border=\"1\" class=\"dataframe\">\n",
       "  <thead>\n",
       "    <tr style=\"text-align: right;\">\n",
       "      <th></th>\n",
       "      <th>Measures</th>\n",
       "      <th>Dens</th>\n",
       "      <th>Ca</th>\n",
       "    </tr>\n",
       "    <tr>\n",
       "      <th>Depth</th>\n",
       "      <th>Contour</th>\n",
       "      <th></th>\n",
       "      <th></th>\n",
       "    </tr>\n",
       "  </thead>\n",
       "  <tbody>\n",
       "    <tr>\n",
       "      <th rowspan=\"3\" valign=\"top\">0-10</th>\n",
       "      <th>Depression</th>\n",
       "      <td>0.98</td>\n",
       "      <td>11</td>\n",
       "    </tr>\n",
       "    <tr>\n",
       "      <th>Slope</th>\n",
       "      <td>1.1</td>\n",
       "      <td>12</td>\n",
       "    </tr>\n",
       "    <tr>\n",
       "      <th>Top</th>\n",
       "      <td>1</td>\n",
       "      <td>13</td>\n",
       "    </tr>\n",
       "    <tr>\n",
       "      <th rowspan=\"3\" valign=\"top\">10-30</th>\n",
       "      <th>Depression</th>\n",
       "      <td>1.4</td>\n",
       "      <td>7.5</td>\n",
       "    </tr>\n",
       "    <tr>\n",
       "      <th>Slope</th>\n",
       "      <td>1.3</td>\n",
       "      <td>9.5</td>\n",
       "    </tr>\n",
       "    <tr>\n",
       "      <th>Top</th>\n",
       "      <td>1.3</td>\n",
       "      <td>10</td>\n",
       "    </tr>\n",
       "  </tbody>\n",
       "</table>\n",
       "</div>"
      ],
      "text/plain": [
       "Measures          Dens   Ca\n",
       "Depth Contour              \n",
       "0-10  Depression  0.98   11\n",
       "      Slope        1.1   12\n",
       "      Top            1   13\n",
       "10-30 Depression   1.4  7.5\n",
       "      Slope        1.3  9.5\n",
       "      Top          1.3   10"
      ]
     },
     "execution_count": 36,
     "metadata": {},
     "output_type": "execute_result"
    }
   ],
   "source": [
    " df_soil[[\"Dens\", \"Ca\"]]"
   ]
  },
  {
   "cell_type": "markdown",
   "metadata": {},
   "source": [
    ".loc[]: 通过行索引标签获得指定的行"
   ]
  },
  {
   "cell_type": "code",
   "execution_count": 33,
   "metadata": {
    "collapsed": false
   },
   "outputs": [
    {
     "data": {
      "text/plain": [
       "Measures\n",
       "pH                        5.3\n",
       "Dens                        1\n",
       "Ca                         13\n",
       "Conduc                    1.4\n",
       "Date      2015-05-21 00:00:00\n",
       "Name                      Roy\n",
       "Name: (0-10, Top), dtype: object"
      ]
     },
     "execution_count": 33,
     "metadata": {},
     "output_type": "execute_result"
    }
   ],
   "source": [
    "df_soil.loc[\"0-10\", \"Top\"]"
   ]
  },
  {
   "cell_type": "code",
   "execution_count": 34,
   "metadata": {
    "collapsed": false,
    "group_control": {
     "group": 0
    }
   },
   "outputs": [
    {
     "data": {
      "text/html": [
       "<div>\n",
       "<table border=\"1\" class=\"dataframe\">\n",
       "  <thead>\n",
       "    <tr style=\"text-align: right;\">\n",
       "      <th>Measures</th>\n",
       "      <th>pH</th>\n",
       "      <th>Dens</th>\n",
       "      <th>Ca</th>\n",
       "      <th>Conduc</th>\n",
       "      <th>Date</th>\n",
       "      <th>Name</th>\n",
       "    </tr>\n",
       "    <tr>\n",
       "      <th>Contour</th>\n",
       "      <th></th>\n",
       "      <th></th>\n",
       "      <th></th>\n",
       "      <th></th>\n",
       "      <th></th>\n",
       "      <th></th>\n",
       "    </tr>\n",
       "  </thead>\n",
       "  <tbody>\n",
       "    <tr>\n",
       "      <th>Depression</th>\n",
       "      <td>4.9</td>\n",
       "      <td>1.4</td>\n",
       "      <td>7.5</td>\n",
       "      <td>5.5</td>\n",
       "      <td>2015-03-21</td>\n",
       "      <td>Lois</td>\n",
       "    </tr>\n",
       "    <tr>\n",
       "      <th>Slope</th>\n",
       "      <td>5.3</td>\n",
       "      <td>1.3</td>\n",
       "      <td>9.5</td>\n",
       "      <td>4.9</td>\n",
       "      <td>2015-02-06</td>\n",
       "      <td>Diana</td>\n",
       "    </tr>\n",
       "    <tr>\n",
       "      <th>Top</th>\n",
       "      <td>4.8</td>\n",
       "      <td>1.3</td>\n",
       "      <td>10</td>\n",
       "      <td>3.6</td>\n",
       "      <td>2015-04-11</td>\n",
       "      <td>Diana</td>\n",
       "    </tr>\n",
       "  </tbody>\n",
       "</table>\n",
       "</div>"
      ],
      "text/plain": [
       "Measures     pH  Dens   Ca  Conduc       Date   Name\n",
       "Contour                                             \n",
       "Depression  4.9   1.4  7.5     5.5 2015-03-21   Lois\n",
       "Slope       5.3   1.3  9.5     4.9 2015-02-06  Diana\n",
       "Top         4.8   1.3   10     3.6 2015-04-11  Diana"
      ]
     },
     "execution_count": 34,
     "metadata": {},
     "output_type": "execute_result"
    }
   ],
   "source": [
    "df_soil.loc[\"10-30\"]"
   ]
  },
  {
   "cell_type": "code",
   "execution_count": 65,
   "metadata": {
    "collapsed": false,
    "group_control": {
     "group": 0
    }
   },
   "outputs": [
    {
     "data": {
      "text/plain": [
       "dtype('O')"
      ]
     },
     "execution_count": 65,
     "metadata": {},
     "output_type": "execute_result"
    }
   ],
   "source": [
    "df_soil.values.dtype"
   ]
  },
  {
   "cell_type": "markdown",
   "metadata": {},
   "source": [
    "#### 将内存中的数据转换为`DataFrame`对象"
   ]
  },
  {
   "cell_type": "markdown",
   "metadata": {},
   "source": [
    "二维数组(或者能转化为二维数组的列表)做DataFrame的值, index和columns指定行列索引\n",
    "\n",
    "字典的键做 DataFrame对象的列索引, 字典的值做DataFrame的值, index指定行索引\n",
    "\n",
    "由dtype定义的元组列表, 做结构数组的框架, 做DataFrame的框架, 其他的元组列表做DataFrame的值"
   ]
  },
  {
   "cell_type": "code",
   "execution_count": 40,
   "metadata": {
    "collapsed": false,
    "group_control": {
     "group": 0
    }
   },
   "outputs": [
    {
     "name": "stdout",
     "output_type": "stream",
     "text": [
      "  df1          df2              df3      \n",
      "-------      -------      ---------------\n",
      "   a  b         a  b          name  count\n",
      "A  9  4      A  1  5      0  item1      1\n",
      "B  9  4      B  2  6      1  item2      2\n",
      "C  4  4      C  3  7      2  item3      3\n",
      "D  0  6      D  4  8      3  item4      4\n"
     ]
    }
   ],
   "source": [
    "df1 = pd.DataFrame(np.random.randint(0, 10, (4, 2)), #\n",
    "                   index=[\"A\", \"B\", \"C\", \"D\"], \n",
    "                   columns=[\"a\", \"b\"])\n",
    "\n",
    "df2 = pd.DataFrame({\"a\":[1, 2, 3, 4], \"b\":[5, 6, 7, 8]},  #\n",
    "                   index=[\"A\", \"B\", \"C\", \"D\"])\n",
    "\n",
    "arr = np.array([(\"item1\", 1), (\"item2\", 2), (\"item3\", 3), (\"item4\", 4)], \n",
    "               dtype=[(\"name\", \"10S\"), (\"count\", int)])\n",
    "\n",
    "df3 = pd.DataFrame(arr) #\n",
    "\n",
    "%C 6 df1; df2; df3"
   ]
  },
  {
   "cell_type": "markdown",
   "metadata": {},
   "source": [
    "from_dict()将字典转化为数据表对象"
   ]
  },
  {
   "cell_type": "code",
   "execution_count": 51,
   "metadata": {
    "collapsed": true
   },
   "outputs": [],
   "source": [
    "dict1 = {\"a\":[1, 2, 3], \"b\":[4, 5, 6]}\n",
    "# 字典的键默认做数据表的列索引(df1的形式), 行索引用整数表示\n",
    "# 无无指定的索引用整数表示行号或者列号\n",
    "\n",
    "df1 = pd.DataFrame.from_dict(dict1, orient=\"columns\")\n",
    "df2 = pd.DataFrame.from_dict(dict1, orient=\"index\")"
   ]
  },
  {
   "cell_type": "code",
   "execution_count": 52,
   "metadata": {
    "collapsed": false
   },
   "outputs": [
    {
     "data": {
      "text/html": [
       "<div>\n",
       "<table border=\"1\" class=\"dataframe\">\n",
       "  <thead>\n",
       "    <tr style=\"text-align: right;\">\n",
       "      <th></th>\n",
       "      <th>a</th>\n",
       "      <th>b</th>\n",
       "    </tr>\n",
       "  </thead>\n",
       "  <tbody>\n",
       "    <tr>\n",
       "      <th>0</th>\n",
       "      <td>1</td>\n",
       "      <td>4</td>\n",
       "    </tr>\n",
       "    <tr>\n",
       "      <th>1</th>\n",
       "      <td>2</td>\n",
       "      <td>5</td>\n",
       "    </tr>\n",
       "    <tr>\n",
       "      <th>2</th>\n",
       "      <td>3</td>\n",
       "      <td>6</td>\n",
       "    </tr>\n",
       "  </tbody>\n",
       "</table>\n",
       "</div>"
      ],
      "text/plain": [
       "   a  b\n",
       "0  1  4\n",
       "1  2  5\n",
       "2  3  6"
      ]
     },
     "execution_count": 52,
     "metadata": {},
     "output_type": "execute_result"
    }
   ],
   "source": [
    "df1"
   ]
  },
  {
   "cell_type": "code",
   "execution_count": 53,
   "metadata": {
    "collapsed": false
   },
   "outputs": [
    {
     "data": {
      "text/html": [
       "<div>\n",
       "<table border=\"1\" class=\"dataframe\">\n",
       "  <thead>\n",
       "    <tr style=\"text-align: right;\">\n",
       "      <th></th>\n",
       "      <th>0</th>\n",
       "      <th>1</th>\n",
       "      <th>2</th>\n",
       "    </tr>\n",
       "  </thead>\n",
       "  <tbody>\n",
       "    <tr>\n",
       "      <th>a</th>\n",
       "      <td>1</td>\n",
       "      <td>2</td>\n",
       "      <td>3</td>\n",
       "    </tr>\n",
       "    <tr>\n",
       "      <th>b</th>\n",
       "      <td>4</td>\n",
       "      <td>5</td>\n",
       "      <td>6</td>\n",
       "    </tr>\n",
       "  </tbody>\n",
       "</table>\n",
       "</div>"
      ],
      "text/plain": [
       "   0  1  2\n",
       "a  1  2  3\n",
       "b  4  5  6"
      ]
     },
     "execution_count": 53,
     "metadata": {},
     "output_type": "execute_result"
    }
   ],
   "source": [
    "df2"
   ]
  },
  {
   "cell_type": "code",
   "execution_count": 55,
   "metadata": {
    "collapsed": true
   },
   "outputs": [],
   "source": [
    "# 从嵌套字典创建数据表\n",
    "dict2 = {\"a\":{\"A\":1, \"B\":2}, \"b\":{\"A\":3, \"C\":4}}\n",
    "df3 = pd.DataFrame.from_dict(dict2, orient=\"columns\")\n",
    "df4 = pd.DataFrame.from_dict(dict2, orient=\"index\")"
   ]
  },
  {
   "cell_type": "code",
   "execution_count": 56,
   "metadata": {
    "collapsed": false
   },
   "outputs": [
    {
     "data": {
      "text/html": [
       "<div>\n",
       "<table border=\"1\" class=\"dataframe\">\n",
       "  <thead>\n",
       "    <tr style=\"text-align: right;\">\n",
       "      <th></th>\n",
       "      <th>a</th>\n",
       "      <th>b</th>\n",
       "    </tr>\n",
       "  </thead>\n",
       "  <tbody>\n",
       "    <tr>\n",
       "      <th>A</th>\n",
       "      <td>1</td>\n",
       "      <td>3</td>\n",
       "    </tr>\n",
       "    <tr>\n",
       "      <th>B</th>\n",
       "      <td>2</td>\n",
       "      <td>nan</td>\n",
       "    </tr>\n",
       "    <tr>\n",
       "      <th>C</th>\n",
       "      <td>nan</td>\n",
       "      <td>4</td>\n",
       "    </tr>\n",
       "  </tbody>\n",
       "</table>\n",
       "</div>"
      ],
      "text/plain": [
       "     a    b\n",
       "A    1    3\n",
       "B    2  nan\n",
       "C  nan    4"
      ]
     },
     "execution_count": 56,
     "metadata": {},
     "output_type": "execute_result"
    }
   ],
   "source": [
    "df3"
   ]
  },
  {
   "cell_type": "code",
   "execution_count": 57,
   "metadata": {
    "collapsed": false,
    "group_control": {
     "group": 0
    }
   },
   "outputs": [
    {
     "data": {
      "text/html": [
       "<div>\n",
       "<table border=\"1\" class=\"dataframe\">\n",
       "  <thead>\n",
       "    <tr style=\"text-align: right;\">\n",
       "      <th></th>\n",
       "      <th>A</th>\n",
       "      <th>B</th>\n",
       "      <th>C</th>\n",
       "    </tr>\n",
       "  </thead>\n",
       "  <tbody>\n",
       "    <tr>\n",
       "      <th>a</th>\n",
       "      <td>1</td>\n",
       "      <td>2</td>\n",
       "      <td>nan</td>\n",
       "    </tr>\n",
       "    <tr>\n",
       "      <th>b</th>\n",
       "      <td>3</td>\n",
       "      <td>nan</td>\n",
       "      <td>4</td>\n",
       "    </tr>\n",
       "  </tbody>\n",
       "</table>\n",
       "</div>"
      ],
      "text/plain": [
       "   A    B    C\n",
       "a  1    2  nan\n",
       "b  3  nan    4"
      ]
     },
     "execution_count": 57,
     "metadata": {},
     "output_type": "execute_result"
    }
   ],
   "source": [
    "df4"
   ]
  },
  {
   "cell_type": "markdown",
   "metadata": {},
   "source": [
    "从键值序列创建数据表"
   ]
  },
  {
   "cell_type": "code",
   "execution_count": 58,
   "metadata": {
    "collapsed": false,
    "group_control": {
     "group": 0
    }
   },
   "outputs": [
    {
     "name": "stdout",
     "output_type": "stream",
     "text": [
      "   df1            df2  \n",
      "----------      -------\n",
      "   A  B  C         a  b\n",
      "a  1  2  3      0  1  4\n",
      "b  4  5  6      1  2  5\n",
      "                2  3  6\n"
     ]
    }
   ],
   "source": [
    "dict1 = {\"a\":[1, 2, 3], \"b\":[4, 5, 6]}\n",
    "items = dict1.items()\n",
    "\n",
    "df1 = pd.DataFrame.from_items(items, orient=\"index\", columns=[\"A\", \"B\", \"C\"])\n",
    "df2 = pd.DataFrame.from_items(items, orient=\"columns\")\n",
    "\n",
    "%C 6 df1; df2"
   ]
  },
  {
   "cell_type": "markdown",
   "metadata": {},
   "source": [
    "#### 将`DataFrame`对象转换为其它格式的数据"
   ]
  },
  {
   "cell_type": "code",
   "execution_count": 59,
   "metadata": {
    "collapsed": false
   },
   "outputs": [
    {
     "data": {
      "text/html": [
       "<div>\n",
       "<table border=\"1\" class=\"dataframe\">\n",
       "  <thead>\n",
       "    <tr style=\"text-align: right;\">\n",
       "      <th></th>\n",
       "      <th>a</th>\n",
       "      <th>b</th>\n",
       "    </tr>\n",
       "  </thead>\n",
       "  <tbody>\n",
       "    <tr>\n",
       "      <th>0</th>\n",
       "      <td>1</td>\n",
       "      <td>4</td>\n",
       "    </tr>\n",
       "    <tr>\n",
       "      <th>1</th>\n",
       "      <td>2</td>\n",
       "      <td>5</td>\n",
       "    </tr>\n",
       "    <tr>\n",
       "      <th>2</th>\n",
       "      <td>3</td>\n",
       "      <td>6</td>\n",
       "    </tr>\n",
       "  </tbody>\n",
       "</table>\n",
       "</div>"
      ],
      "text/plain": [
       "   a  b\n",
       "0  1  4\n",
       "1  2  5\n",
       "2  3  6"
      ]
     },
     "execution_count": 59,
     "metadata": {},
     "output_type": "execute_result"
    }
   ],
   "source": [
    "df2"
   ]
  },
  {
   "cell_type": "markdown",
   "metadata": {},
   "source": [
    "DataFrame 对象转化为字典"
   ]
  },
  {
   "cell_type": "code",
   "execution_count": 70,
   "metadata": {
    "collapsed": false,
    "group_control": {
     "group": 0
    }
   },
   "outputs": [
    {
     "name": "stdout",
     "output_type": "stream",
     "text": [
      "[{'a': 1, 'b': 4}, {'a': 2, 'b': 5}, {'a': 3, 'b': 6}]\n",
      "{'a': [1, 2, 3], 'b': [4, 5, 6]}\n",
      "{'a': {0: 1, 1: 2, 2: 3}, 'b': {0: 4, 1: 5, 2: 6}}\n"
     ]
    }
   ],
   "source": [
    "print df2.to_dict(orient=\"records\") #字典列表\n",
    "print df2.to_dict(orient=\"list\") #列表字典\n",
    "print df2.to_dict(orient=\"dict\") #嵌套字典"
   ]
  },
  {
   "cell_type": "markdown",
   "metadata": {},
   "source": [
    "DataFrame对象转化为结构数组"
   ]
  },
  {
   "cell_type": "code",
   "execution_count": 62,
   "metadata": {
    "collapsed": false,
    "group_control": {
     "group": 0
    }
   },
   "outputs": [
    {
     "name": "stdout",
     "output_type": "stream",
     "text": [
      "[(0L, 1L, 4L) (1L, 2L, 5L) (2L, 3L, 6L)]\n",
      "[(1L, 4L) (2L, 5L) (3L, 6L)]\n"
     ]
    }
   ],
   "source": [
    "print df2.to_records()\n",
    "# 默认包含行索引\n",
    "\n",
    "print df2.to_records(index=False)"
   ]
  },
  {
   "cell_type": "markdown",
   "metadata": {},
   "source": [
    "DataFrame对象与文件的相互转化"
   ]
  },
  {
   "cell_type": "code",
   "execution_count": null,
   "metadata": {
    "collapsed": true
   },
   "outputs": [],
   "source": []
  },
  {
   "cell_type": "markdown",
   "metadata": {},
   "source": [
    "### `Index`对象"
   ]
  },
  {
   "cell_type": "code",
   "execution_count": 64,
   "metadata": {
    "collapsed": false
   },
   "outputs": [
    {
     "data": {
      "text/html": [
       "<div>\n",
       "<table border=\"1\" class=\"dataframe\">\n",
       "  <thead>\n",
       "    <tr style=\"text-align: right;\">\n",
       "      <th></th>\n",
       "      <th>Measures</th>\n",
       "      <th>pH</th>\n",
       "      <th>Dens</th>\n",
       "      <th>Ca</th>\n",
       "      <th>Conduc</th>\n",
       "      <th>Date</th>\n",
       "      <th>Name</th>\n",
       "    </tr>\n",
       "    <tr>\n",
       "      <th>Depth</th>\n",
       "      <th>Contour</th>\n",
       "      <th></th>\n",
       "      <th></th>\n",
       "      <th></th>\n",
       "      <th></th>\n",
       "      <th></th>\n",
       "      <th></th>\n",
       "    </tr>\n",
       "  </thead>\n",
       "  <tbody>\n",
       "    <tr>\n",
       "      <th rowspan=\"3\" valign=\"top\">0-10</th>\n",
       "      <th>Depression</th>\n",
       "      <td>5.4</td>\n",
       "      <td>0.98</td>\n",
       "      <td>11</td>\n",
       "      <td>1.5</td>\n",
       "      <td>2015-05-26</td>\n",
       "      <td>Lois</td>\n",
       "    </tr>\n",
       "    <tr>\n",
       "      <th>Slope</th>\n",
       "      <td>5.5</td>\n",
       "      <td>1.1</td>\n",
       "      <td>12</td>\n",
       "      <td>2</td>\n",
       "      <td>2015-04-30</td>\n",
       "      <td>Roy</td>\n",
       "    </tr>\n",
       "    <tr>\n",
       "      <th>Top</th>\n",
       "      <td>5.3</td>\n",
       "      <td>1</td>\n",
       "      <td>13</td>\n",
       "      <td>1.4</td>\n",
       "      <td>2015-05-21</td>\n",
       "      <td>Roy</td>\n",
       "    </tr>\n",
       "    <tr>\n",
       "      <th rowspan=\"3\" valign=\"top\">10-30</th>\n",
       "      <th>Depression</th>\n",
       "      <td>4.9</td>\n",
       "      <td>1.4</td>\n",
       "      <td>7.5</td>\n",
       "      <td>5.5</td>\n",
       "      <td>2015-03-21</td>\n",
       "      <td>Lois</td>\n",
       "    </tr>\n",
       "    <tr>\n",
       "      <th>Slope</th>\n",
       "      <td>5.3</td>\n",
       "      <td>1.3</td>\n",
       "      <td>9.5</td>\n",
       "      <td>4.9</td>\n",
       "      <td>2015-02-06</td>\n",
       "      <td>Diana</td>\n",
       "    </tr>\n",
       "    <tr>\n",
       "      <th>Top</th>\n",
       "      <td>4.8</td>\n",
       "      <td>1.3</td>\n",
       "      <td>10</td>\n",
       "      <td>3.6</td>\n",
       "      <td>2015-04-11</td>\n",
       "      <td>Diana</td>\n",
       "    </tr>\n",
       "  </tbody>\n",
       "</table>\n",
       "</div>"
      ],
      "text/plain": [
       "Measures           pH  Dens   Ca  Conduc       Date   Name\n",
       "Depth Contour                                             \n",
       "0-10  Depression  5.4  0.98   11     1.5 2015-05-26   Lois\n",
       "      Slope       5.5   1.1   12       2 2015-04-30    Roy\n",
       "      Top         5.3     1   13     1.4 2015-05-21    Roy\n",
       "10-30 Depression  4.9   1.4  7.5     5.5 2015-03-21   Lois\n",
       "      Slope       5.3   1.3  9.5     4.9 2015-02-06  Diana\n",
       "      Top         4.8   1.3   10     3.6 2015-04-11  Diana"
      ]
     },
     "execution_count": 64,
     "metadata": {},
     "output_type": "execute_result"
    }
   ],
   "source": [
    "df_soil = pd.read_csv(\"data/Soils-simple.csv\", index_col=[0, 1], parse_dates=[\"Date\"])\n",
    "df_soil.columns.name = \"Measures\"\n",
    "df_soil"
   ]
  },
  {
   "cell_type": "markdown",
   "metadata": {},
   "source": [
    "通过变量名创建index对象"
   ]
  },
  {
   "cell_type": "code",
   "execution_count": 75,
   "metadata": {
    "collapsed": false
   },
   "outputs": [
    {
     "data": {
      "text/plain": [
       "Index([u'pH', u'Dens', u'Ca', u'Conduc', u'Date', u'Name'], dtype='object', name=u'Measures')"
      ]
     },
     "execution_count": 75,
     "metadata": {},
     "output_type": "execute_result"
    }
   ],
   "source": [
    "index = df_soil.columns # 创建index对象\n",
    "index # Iindex 保存索引标签"
   ]
  },
  {
   "cell_type": "code",
   "execution_count": 67,
   "metadata": {
    "collapsed": false,
    "group_control": {
     "group": 0
    }
   },
   "outputs": [
    {
     "data": {
      "text/plain": [
       "array(['pH', 'Dens', 'Ca', 'Conduc', 'Date', 'Name'], dtype=object)"
      ]
     },
     "execution_count": 67,
     "metadata": {},
     "output_type": "execute_result"
    }
   ],
   "source": [
    "index.values # value属性获取保存标签的数组, 字符串使用object类型的数组保存"
   ]
  },
  {
   "cell_type": "code",
   "execution_count": 72,
   "metadata": {
    "collapsed": false,
    "group_control": {
     "group": 0
    }
   },
   "outputs": [
    {
     "name": "stdout",
     "output_type": "stream",
     "text": [
      "Index([u'Dens', u'Conduc'], dtype='object', name=u'Measures')\n",
      "Index([u'Dens', u'Conduc', u'Name'], dtype='object', name=u'Measures')\n"
     ]
    }
   ],
   "source": [
    "print index[[1, 3]]\n",
    "# print index[index > 'c']\n",
    "print index[1::2]"
   ]
  },
  {
   "cell_type": "markdown",
   "metadata": {},
   "source": [
    "将数组中的值映射到其位置, 查找指定值的缩引"
   ]
  },
  {
   "cell_type": "code",
   "execution_count": 76,
   "metadata": {
    "collapsed": false,
    "group_control": {
     "group": 0
    }
   },
   "outputs": [
    {
     "name": "stdout",
     "output_type": "stream",
     "text": [
      "2\n",
      "[ 1  3 -1]\n"
     ]
    }
   ],
   "source": [
    "print index.get_loc('Ca') # 查找单个值的索引\n",
    "print index.get_indexer(['Dens', 'Conduc', 'nothing']) # 查找多个值的索引"
   ]
  },
  {
   "cell_type": "markdown",
   "metadata": {},
   "source": [
    "直接调用Index()创建Index对象"
   ]
  },
  {
   "cell_type": "code",
   "execution_count": 84,
   "metadata": {
    "collapsed": false
   },
   "outputs": [
    {
     "data": {
      "text/plain": [
       "Index([u'A', u'B', u'C', u'D', u'E'], dtype='object', name=u'level')"
      ]
     },
     "execution_count": 84,
     "metadata": {},
     "output_type": "execute_result"
    }
   ],
   "source": [
    "index = pd.Index([\"A\", \"B\", \"C\", \"D\", \"E\"], name=\"level\")\n",
    "# 每一 列名（索引）， 所有列名（索引）， 列名就是索引\n",
    "index"
   ]
  },
  {
   "cell_type": "code",
   "execution_count": null,
   "metadata": {
    "collapsed": true
   },
   "outputs": [],
   "source": [
    "Index对象是不可变对象， 多个数据对象的索引可以是同一个Index对象"
   ]
  },
  {
   "cell_type": "code",
   "execution_count": 85,
   "metadata": {
    "collapsed": false
   },
   "outputs": [
    {
     "data": {
      "text/plain": [
       "level\n",
       "A    1\n",
       "B    2\n",
       "C    3\n",
       "D    4\n",
       "E    5\n",
       "dtype: int64"
      ]
     },
     "execution_count": 85,
     "metadata": {},
     "output_type": "execute_result"
    }
   ],
   "source": [
    "s1 = pd.Series([1, 2, 3, 4, 5], index=index)\n",
    "s1"
   ]
  },
  {
   "cell_type": "code",
   "execution_count": 86,
   "metadata": {
    "collapsed": false
   },
   "outputs": [
    {
     "data": {
      "text/html": [
       "<div>\n",
       "<table border=\"1\" class=\"dataframe\">\n",
       "  <thead>\n",
       "    <tr style=\"text-align: right;\">\n",
       "      <th></th>\n",
       "      <th>a</th>\n",
       "      <th>b</th>\n",
       "    </tr>\n",
       "    <tr>\n",
       "      <th>level</th>\n",
       "      <th></th>\n",
       "      <th></th>\n",
       "    </tr>\n",
       "  </thead>\n",
       "  <tbody>\n",
       "    <tr>\n",
       "      <th>A</th>\n",
       "      <td>1</td>\n",
       "      <td>6</td>\n",
       "    </tr>\n",
       "    <tr>\n",
       "      <th>B</th>\n",
       "      <td>2</td>\n",
       "      <td>7</td>\n",
       "    </tr>\n",
       "    <tr>\n",
       "      <th>C</th>\n",
       "      <td>3</td>\n",
       "      <td>8</td>\n",
       "    </tr>\n",
       "    <tr>\n",
       "      <th>D</th>\n",
       "      <td>4</td>\n",
       "      <td>9</td>\n",
       "    </tr>\n",
       "    <tr>\n",
       "      <th>E</th>\n",
       "      <td>5</td>\n",
       "      <td>10</td>\n",
       "    </tr>\n",
       "  </tbody>\n",
       "</table>\n",
       "</div>"
      ],
      "text/plain": [
       "       a   b\n",
       "level       \n",
       "A      1   6\n",
       "B      2   7\n",
       "C      3   8\n",
       "D      4   9\n",
       "E      5  10"
      ]
     },
     "execution_count": 86,
     "metadata": {},
     "output_type": "execute_result"
    }
   ],
   "source": [
    "df1 = pd.DataFrame({\"a\":[1, 2, 3, 4, 5], \"b\":[6, 7, 8, 9, 10]}, index=index)\n",
    "df1"
   ]
  },
  {
   "cell_type": "code",
   "execution_count": 76,
   "metadata": {
    "collapsed": false,
    "group_control": {
     "group": 0
    }
   },
   "outputs": [
    {
     "name": "stdout",
     "output_type": "stream",
     "text": [
      "True\n"
     ]
    }
   ],
   "source": []
  },
  {
   "cell_type": "markdown",
   "metadata": {},
   "source": [
    "### `MultiIndex`对象"
   ]
  },
  {
   "cell_type": "markdown",
   "metadata": {},
   "source": [
    "DataFram的列索引是一个Index对象, 行索引是一个MultiIndex对象"
   ]
  },
  {
   "cell_type": "code",
   "execution_count": 135,
   "metadata": {
    "collapsed": false
   },
   "outputs": [
    {
     "data": {
      "text/html": [
       "<div>\n",
       "<table border=\"1\" class=\"dataframe\">\n",
       "  <thead>\n",
       "    <tr style=\"text-align: right;\">\n",
       "      <th></th>\n",
       "      <th>Measures</th>\n",
       "      <th>pH</th>\n",
       "      <th>Dens</th>\n",
       "      <th>Ca</th>\n",
       "      <th>Conduc</th>\n",
       "      <th>Date</th>\n",
       "      <th>Name</th>\n",
       "    </tr>\n",
       "    <tr>\n",
       "      <th>Depth</th>\n",
       "      <th>Contour</th>\n",
       "      <th></th>\n",
       "      <th></th>\n",
       "      <th></th>\n",
       "      <th></th>\n",
       "      <th></th>\n",
       "      <th></th>\n",
       "    </tr>\n",
       "  </thead>\n",
       "  <tbody>\n",
       "    <tr>\n",
       "      <th rowspan=\"3\" valign=\"top\">0-10</th>\n",
       "      <th>Depression</th>\n",
       "      <td>5.35</td>\n",
       "      <td>0.978</td>\n",
       "      <td>10.7</td>\n",
       "      <td>1.47</td>\n",
       "      <td>2015-05-26</td>\n",
       "      <td>Lois</td>\n",
       "    </tr>\n",
       "    <tr>\n",
       "      <th>Slope</th>\n",
       "      <td>5.51</td>\n",
       "      <td>1.05</td>\n",
       "      <td>12.2</td>\n",
       "      <td>2.05</td>\n",
       "      <td>2015-04-30</td>\n",
       "      <td>Roy</td>\n",
       "    </tr>\n",
       "    <tr>\n",
       "      <th>Top</th>\n",
       "      <td>5.33</td>\n",
       "      <td>1</td>\n",
       "      <td>13.4</td>\n",
       "      <td>1.37</td>\n",
       "      <td>2015-05-21</td>\n",
       "      <td>Roy</td>\n",
       "    </tr>\n",
       "    <tr>\n",
       "      <th rowspan=\"3\" valign=\"top\">10-30</th>\n",
       "      <th>Depression</th>\n",
       "      <td>4.88</td>\n",
       "      <td>1.36</td>\n",
       "      <td>7.55</td>\n",
       "      <td>5.48</td>\n",
       "      <td>2015-03-21</td>\n",
       "      <td>Lois</td>\n",
       "    </tr>\n",
       "    <tr>\n",
       "      <th>Slope</th>\n",
       "      <td>5.28</td>\n",
       "      <td>1.35</td>\n",
       "      <td>9.52</td>\n",
       "      <td>4.91</td>\n",
       "      <td>2015-02-06</td>\n",
       "      <td>Diana</td>\n",
       "    </tr>\n",
       "    <tr>\n",
       "      <th>Top</th>\n",
       "      <td>4.85</td>\n",
       "      <td>1.33</td>\n",
       "      <td>10.2</td>\n",
       "      <td>3.58</td>\n",
       "      <td>2015-04-11</td>\n",
       "      <td>Diana</td>\n",
       "    </tr>\n",
       "  </tbody>\n",
       "</table>\n",
       "</div>"
      ],
      "text/plain": [
       "Measures           pH  Dens   Ca  Conduc       Date   Name\n",
       "Depth Contour                                             \n",
       "0-10  Depression 5.35 0.978 10.7    1.47 2015-05-26   Lois\n",
       "      Slope      5.51  1.05 12.2    2.05 2015-04-30    Roy\n",
       "      Top        5.33     1 13.4    1.37 2015-05-21    Roy\n",
       "10-30 Depression 4.88  1.36 7.55    5.48 2015-03-21   Lois\n",
       "      Slope      5.28  1.35 9.52    4.91 2015-02-06  Diana\n",
       "      Top        4.85  1.33 10.2    3.58 2015-04-11  Diana"
      ]
     },
     "execution_count": 135,
     "metadata": {},
     "output_type": "execute_result"
    }
   ],
   "source": [
    "df_soil = pd.read_csv(\"data/Soils-simple.csv\", index_col=[0, 1], parse_dates=[\"Date\"])\n",
    "df_soil.columns.name = \"Measures\"\n",
    "df_soil"
   ]
  },
  {
   "cell_type": "code",
   "execution_count": 92,
   "metadata": {
    "collapsed": false
   },
   "outputs": [
    {
     "data": {
      "text/plain": [
       "MultiIndex(levels=[[u'0-10', u'10-30'], [u'Depression', u'Slope', u'Top']],\n",
       "           labels=[[0, 0, 0, 1, 1, 1], [0, 1, 2, 0, 1, 2]],\n",
       "           names=[u'Depth', u'Contour'])"
      ]
     },
     "execution_count": 92,
     "metadata": {},
     "output_type": "execute_result"
    }
   ],
   "source": [
    "mindex = df_soil.index\n",
    "mindex # 行索引是MultimateIndex对象"
   ]
  },
  {
   "cell_type": "markdown",
   "metadata": {},
   "source": [
    "获取行标签索引对应的数值索引"
   ]
  },
  {
   "cell_type": "code",
   "execution_count": 94,
   "metadata": {
    "collapsed": false,
    "group_control": {
     "group": 0
    }
   },
   "outputs": [
    {
     "name": "stdout",
     "output_type": "stream",
     "text": [
      "('0-10', 'Slope')\n",
      "1\n",
      "[ 5  0 -1]\n"
     ]
    }
   ],
   "source": [
    "print mindex[1]\n",
    "print mindex.get_loc((\"0-10\", \"Slope\"))\n",
    "print mindex.get_indexer([(\"10-30\", \"Top\"), (\"0-10\", \"Depression\"), \"nothing\"])"
   ]
  },
  {
   "cell_type": "code",
   "execution_count": 96,
   "metadata": {
    "collapsed": false,
    "group_control": {
     "group": 0
    }
   },
   "outputs": [
    {
     "name": "stdout",
     "output_type": "stream",
     "text": [
      "Index([u'0-10', u'10-30'], dtype='object', name=u'Depth')\n",
      "Index([u'Depression', u'Slope', u'Top'], dtype='object', name=u'Contour')\n"
     ]
    }
   ],
   "source": [
    "# 行标签用levels序列保存\n",
    "print mindex.levels[0]\n",
    "print mindex.levels[1]"
   ]
  },
  {
   "cell_type": "code",
   "execution_count": 97,
   "metadata": {
    "collapsed": false,
    "group_control": {
     "group": 0
    }
   },
   "outputs": [
    {
     "name": "stdout",
     "output_type": "stream",
     "text": [
      "FrozenNDArray([0, 0, 0, 1, 1, 1], dtype='int8')\n",
      "FrozenNDArray([0, 1, 2, 0, 1, 2], dtype='int8')\n"
     ]
    }
   ],
   "source": [
    "# 行对应的数值下标用labels保存\n",
    "print mindex.labels[0]\n",
    "print mindex.labels[1]"
   ]
  },
  {
   "cell_type": "code",
   "execution_count": 98,
   "metadata": {
    "collapsed": false,
    "group_control": {
     "group": 0
    }
   },
   "outputs": [
    {
     "data": {
      "text/plain": [
       "[('0-10', 'Depression'),\n",
       " ('0-10', 'Slope'),\n",
       " ('0-10', 'Top'),\n",
       " ('10-30', 'Depression'),\n",
       " ('10-30', 'Slope'),\n",
       " ('10-30', 'Top')]"
      ]
     },
     "execution_count": 98,
     "metadata": {},
     "output_type": "execute_result"
    }
   ],
   "source": [
    "level0, level1 = mindex.levels\n",
    "label0, label1 = mindex.labels\n",
    "zip(level0[label0], level1[label1])\n",
    "# level0[label0] 在字符串序列中选取六个值"
   ]
  },
  {
   "cell_type": "markdown",
   "metadata": {},
   "source": [
    "从元组序列创建 MultiIndex对象"
   ]
  },
  {
   "cell_type": "code",
   "execution_count": 100,
   "metadata": {
    "collapsed": false,
    "group_control": {
     "group": 0
    }
   },
   "outputs": [
    {
     "data": {
      "text/plain": [
       "MultiIndex(levels=[[u'A', u'B'], [u'x', u'y']],\n",
       "           labels=[[0, 0, 1, 1], [0, 1, 0, 1]],\n",
       "           names=[u'class1', u'class2'])"
      ]
     },
     "execution_count": 100,
     "metadata": {},
     "output_type": "execute_result"
    }
   ],
   "source": [
    "pd.Index([(\"A\", \"x\"), (\"A\", \"y\"), (\"B\", \"x\"), (\"B\", \"y\")], \n",
    "          name=[\"class1\", \"class2\"])"
   ]
  },
  {
   "cell_type": "markdown",
   "metadata": {},
   "source": [
    "从多个数组创建MultiIndex对象"
   ]
  },
  {
   "cell_type": "code",
   "execution_count": 83,
   "metadata": {
    "collapsed": false,
    "group_control": {
     "group": 0
    }
   },
   "outputs": [
    {
     "data": {
      "text/plain": [
       "MultiIndex(levels=[[u'A', u'B'], [u'x', u'y']],\n",
       "           labels=[[0, 0, 1, 1], [0, 1, 0, 1]],\n",
       "           names=[u'class1', u'class2'])"
      ]
     },
     "execution_count": 83,
     "metadata": {},
     "output_type": "execute_result"
    }
   ],
   "source": [
    "class1 = [\"A\", \"A\", \"B\", \"B\"]\n",
    "class2 = [\"x\", \"y\", \"x\", \"y\"]\n",
    "pd.MultiIndex.from_arrays([class1, class2], names=[\"class1\", \"class2\"])"
   ]
  },
  {
   "cell_type": "markdown",
   "metadata": {},
   "source": [
    "从多个集合的笛卡尔积创建MultiIndex对象"
   ]
  },
  {
   "cell_type": "code",
   "execution_count": 104,
   "metadata": {
    "collapsed": false,
    "group_control": {
     "group": 0
    }
   },
   "outputs": [
    {
     "name": "stdout",
     "output_type": "stream",
     "text": [
      "MultiIndex(levels=[[u'A', u'B', u'C'], [u'x', u'y']],\n",
      "           labels=[[0, 0, 1, 1, 2, 2], [0, 1, 0, 1, 0, 1]],\n",
      "           names=[u'class1', u'class2'])\n"
     ]
    },
    {
     "data": {
      "text/html": [
       "<div>\n",
       "<table border=\"1\" class=\"dataframe\">\n",
       "  <thead>\n",
       "    <tr>\n",
       "      <th></th>\n",
       "      <th>class1</th>\n",
       "      <th colspan=\"2\" halign=\"left\">A</th>\n",
       "      <th colspan=\"2\" halign=\"left\">B</th>\n",
       "      <th colspan=\"2\" halign=\"left\">C</th>\n",
       "    </tr>\n",
       "    <tr>\n",
       "      <th></th>\n",
       "      <th>class2</th>\n",
       "      <th>x</th>\n",
       "      <th>y</th>\n",
       "      <th>x</th>\n",
       "      <th>y</th>\n",
       "      <th>x</th>\n",
       "      <th>y</th>\n",
       "    </tr>\n",
       "    <tr>\n",
       "      <th>class1</th>\n",
       "      <th>class2</th>\n",
       "      <th></th>\n",
       "      <th></th>\n",
       "      <th></th>\n",
       "      <th></th>\n",
       "      <th></th>\n",
       "      <th></th>\n",
       "    </tr>\n",
       "  </thead>\n",
       "  <tbody>\n",
       "    <tr>\n",
       "      <th rowspan=\"2\" valign=\"top\">A</th>\n",
       "      <th>x</th>\n",
       "      <td>8</td>\n",
       "      <td>1</td>\n",
       "      <td>5</td>\n",
       "      <td>5</td>\n",
       "      <td>2</td>\n",
       "      <td>2</td>\n",
       "    </tr>\n",
       "    <tr>\n",
       "      <th>y</th>\n",
       "      <td>1</td>\n",
       "      <td>7</td>\n",
       "      <td>1</td>\n",
       "      <td>7</td>\n",
       "      <td>4</td>\n",
       "      <td>7</td>\n",
       "    </tr>\n",
       "    <tr>\n",
       "      <th rowspan=\"2\" valign=\"top\">B</th>\n",
       "      <th>x</th>\n",
       "      <td>0</td>\n",
       "      <td>4</td>\n",
       "      <td>6</td>\n",
       "      <td>0</td>\n",
       "      <td>6</td>\n",
       "      <td>2</td>\n",
       "    </tr>\n",
       "    <tr>\n",
       "      <th>y</th>\n",
       "      <td>0</td>\n",
       "      <td>5</td>\n",
       "      <td>9</td>\n",
       "      <td>1</td>\n",
       "      <td>4</td>\n",
       "      <td>7</td>\n",
       "    </tr>\n",
       "    <tr>\n",
       "      <th rowspan=\"2\" valign=\"top\">C</th>\n",
       "      <th>x</th>\n",
       "      <td>0</td>\n",
       "      <td>6</td>\n",
       "      <td>4</td>\n",
       "      <td>0</td>\n",
       "      <td>0</td>\n",
       "      <td>6</td>\n",
       "    </tr>\n",
       "    <tr>\n",
       "      <th>y</th>\n",
       "      <td>9</td>\n",
       "      <td>5</td>\n",
       "      <td>7</td>\n",
       "      <td>4</td>\n",
       "      <td>1</td>\n",
       "      <td>0</td>\n",
       "    </tr>\n",
       "  </tbody>\n",
       "</table>\n",
       "</div>"
      ],
      "text/plain": [
       "class1         A     B     C   \n",
       "class2         x  y  x  y  x  y\n",
       "class1 class2                  \n",
       "A      x       8  1  5  5  2  2\n",
       "       y       1  7  1  7  4  7\n",
       "B      x       0  4  6  0  6  2\n",
       "       y       0  5  9  1  4  7\n",
       "C      x       0  6  4  0  0  6\n",
       "       y       9  5  7  4  1  0"
      ]
     },
     "execution_count": 104,
     "metadata": {},
     "output_type": "execute_result"
    }
   ],
   "source": [
    "midx = pd.MultiIndex.from_product([[\"A\", \"B\", \"C\"], [\"x\", \"y\"]], \n",
    "                           names=[\"class1\", \"class2\"])\n",
    "print midx\n",
    "\n",
    "df1 = pd.DataFrame(np.random.randint(0, 10, (6, 6)), columns=midx, index=midx)\n",
    "df1\n",
    "# 行索引和列索引都可以是多级索引对象"
   ]
  },
  {
   "cell_type": "markdown",
   "metadata": {},
   "source": [
    "### 常用的函数参数"
   ]
  },
  {
   "cell_type": "markdown",
   "metadata": {},
   "source": [
    "| 参数名     | 常用值         | 说明        |\n",
    "| :----------  | :--------       | :--------------|\n",
    "| axis      |  0, 1          |  指定对应的轴    |\n",
    "| index      | 序列          |  指定行索引|\n",
    "| columns    |  序列          |  指定列索引|\n",
    "| inplace    |  布尔值         | 是否原地更新, 若为否返回新对象|\n",
    "| level      | 整数或索引的级别名 | 指定运算对应的级别|\n",
    "|:|:|:|\n",
    "| fill_value  |  数值          |  指定NaN的替代值|\n",
    "| skipna     | 布尔值         | 运算是否跳过NaN|\n",
    "| dropna     | 布尔值         | 是否删除包含NaN的行|\n",
    "|:|:|:|\n",
    "| numeric_only | 布尔值         | 是非只针对数值进行运算|\n",
    "| func      |  可调用函数      |  指定回调函数|\n",
    "| encoding    | utf8           | 指定文本编码|\n"
   ]
  },
  {
   "cell_type": "code",
   "execution_count": 136,
   "metadata": {
    "collapsed": false
   },
   "outputs": [
    {
     "data": {
      "text/html": [
       "<div>\n",
       "<table border=\"1\" class=\"dataframe\">\n",
       "  <thead>\n",
       "    <tr style=\"text-align: right;\">\n",
       "      <th></th>\n",
       "      <th>Measures</th>\n",
       "      <th>pH</th>\n",
       "      <th>Dens</th>\n",
       "      <th>Ca</th>\n",
       "      <th>Conduc</th>\n",
       "      <th>Date</th>\n",
       "      <th>Name</th>\n",
       "    </tr>\n",
       "    <tr>\n",
       "      <th>Depth</th>\n",
       "      <th>Contour</th>\n",
       "      <th></th>\n",
       "      <th></th>\n",
       "      <th></th>\n",
       "      <th></th>\n",
       "      <th></th>\n",
       "      <th></th>\n",
       "    </tr>\n",
       "  </thead>\n",
       "  <tbody>\n",
       "    <tr>\n",
       "      <th rowspan=\"3\" valign=\"top\">0-10</th>\n",
       "      <th>Depression</th>\n",
       "      <td>5.35</td>\n",
       "      <td>0.978</td>\n",
       "      <td>10.7</td>\n",
       "      <td>1.47</td>\n",
       "      <td>2015-05-26</td>\n",
       "      <td>Lois</td>\n",
       "    </tr>\n",
       "    <tr>\n",
       "      <th>Slope</th>\n",
       "      <td>5.51</td>\n",
       "      <td>1.05</td>\n",
       "      <td>12.2</td>\n",
       "      <td>2.05</td>\n",
       "      <td>2015-04-30</td>\n",
       "      <td>Roy</td>\n",
       "    </tr>\n",
       "    <tr>\n",
       "      <th>Top</th>\n",
       "      <td>5.33</td>\n",
       "      <td>1</td>\n",
       "      <td>13.4</td>\n",
       "      <td>1.37</td>\n",
       "      <td>2015-05-21</td>\n",
       "      <td>Roy</td>\n",
       "    </tr>\n",
       "    <tr>\n",
       "      <th rowspan=\"3\" valign=\"top\">10-30</th>\n",
       "      <th>Depression</th>\n",
       "      <td>4.88</td>\n",
       "      <td>1.36</td>\n",
       "      <td>7.55</td>\n",
       "      <td>5.48</td>\n",
       "      <td>2015-03-21</td>\n",
       "      <td>Lois</td>\n",
       "    </tr>\n",
       "    <tr>\n",
       "      <th>Slope</th>\n",
       "      <td>5.28</td>\n",
       "      <td>1.35</td>\n",
       "      <td>9.52</td>\n",
       "      <td>4.91</td>\n",
       "      <td>2015-02-06</td>\n",
       "      <td>Diana</td>\n",
       "    </tr>\n",
       "    <tr>\n",
       "      <th>Top</th>\n",
       "      <td>4.85</td>\n",
       "      <td>1.33</td>\n",
       "      <td>10.2</td>\n",
       "      <td>3.58</td>\n",
       "      <td>2015-04-11</td>\n",
       "      <td>Diana</td>\n",
       "    </tr>\n",
       "  </tbody>\n",
       "</table>\n",
       "</div>"
      ],
      "text/plain": [
       "Measures           pH  Dens   Ca  Conduc       Date   Name\n",
       "Depth Contour                                             \n",
       "0-10  Depression 5.35 0.978 10.7    1.47 2015-05-26   Lois\n",
       "      Slope      5.51  1.05 12.2    2.05 2015-04-30    Roy\n",
       "      Top        5.33     1 13.4    1.37 2015-05-21    Roy\n",
       "10-30 Depression 4.88  1.36 7.55    5.48 2015-03-21   Lois\n",
       "      Slope      5.28  1.35 9.52    4.91 2015-02-06  Diana\n",
       "      Top        4.85  1.33 10.2    3.58 2015-04-11  Diana"
      ]
     },
     "execution_count": 136,
     "metadata": {},
     "output_type": "execute_result"
    }
   ],
   "source": [
    "df_soil = pd.read_csv(\"data/Soils-simple.csv\", index_col=[0, 1], parse_dates=[\"Date\"])\n",
    "df_soil.columns.name = \"Measures\"\n",
    "df_soil"
   ]
  },
  {
   "cell_type": "code",
   "execution_count": 137,
   "metadata": {
    "collapsed": false
   },
   "outputs": [
    {
     "name": "stdout",
     "output_type": "stream",
     "text": [
      "df_soil.mean()            df_soil.mean(axis=1)  \n",
      "--------------          ------------------------\n",
      "Measures                Depth  Contour          \n",
      "pH        5.2           0-10   Depression   4.62\n",
      "Dens     1.18                  Slope        5.21\n",
      "Ca       10.6                  Top          5.27\n",
      "Conduc   3.14           10-30  Depression   4.82\n",
      "dtype: float64                 Slope        5.26\n",
      "                               Top             5\n",
      "                        dtype: float64          \n"
     ]
    }
   ],
   "source": [
    "%C 10 df_soil.mean(); df_soil.mean(axis=1)"
   ]
  },
  {
   "cell_type": "code",
   "execution_count": 139,
   "metadata": {
    "collapsed": false
   },
   "outputs": [
    {
     "data": {
      "text/plain": [
       "5.199999999999999"
      ]
     },
     "execution_count": 139,
     "metadata": {},
     "output_type": "execute_result"
    }
   ],
   "source": [
    "# mean_PH:\n",
    "(5.35 + 5.51 + 5.33 + 4.88 + 5.28 + 4.85)/6 "
   ]
  },
  {
   "cell_type": "code",
   "execution_count": 141,
   "metadata": {
    "collapsed": false
   },
   "outputs": [
    {
     "data": {
      "text/html": [
       "<div>\n",
       "<table border=\"1\" class=\"dataframe\">\n",
       "  <thead>\n",
       "    <tr style=\"text-align: right;\">\n",
       "      <th>Measures</th>\n",
       "      <th>pH</th>\n",
       "      <th>Dens</th>\n",
       "      <th>Ca</th>\n",
       "      <th>Conduc</th>\n",
       "    </tr>\n",
       "    <tr>\n",
       "      <th>Contour</th>\n",
       "      <th></th>\n",
       "      <th></th>\n",
       "      <th></th>\n",
       "      <th></th>\n",
       "    </tr>\n",
       "  </thead>\n",
       "  <tbody>\n",
       "    <tr>\n",
       "      <th>Depression</th>\n",
       "      <td>5.12</td>\n",
       "      <td>1.17</td>\n",
       "      <td>9.12</td>\n",
       "      <td>3.48</td>\n",
       "    </tr>\n",
       "    <tr>\n",
       "      <th>Slope</th>\n",
       "      <td>5.4</td>\n",
       "      <td>1.2</td>\n",
       "      <td>10.9</td>\n",
       "      <td>3.48</td>\n",
       "    </tr>\n",
       "    <tr>\n",
       "      <th>Top</th>\n",
       "      <td>5.09</td>\n",
       "      <td>1.17</td>\n",
       "      <td>11.8</td>\n",
       "      <td>2.48</td>\n",
       "    </tr>\n",
       "  </tbody>\n",
       "</table>\n",
       "</div>"
      ],
      "text/plain": [
       "Measures     pH  Dens   Ca  Conduc\n",
       "Contour                           \n",
       "Depression 5.12  1.17 9.12    3.48\n",
       "Slope       5.4   1.2 10.9    3.48\n",
       "Top        5.09  1.17 11.8    2.48"
      ]
     },
     "execution_count": 141,
     "metadata": {},
     "output_type": "execute_result"
    }
   ],
   "source": [
    "df_soil.mean(level=1)"
   ]
  },
  {
   "cell_type": "code",
   "execution_count": 143,
   "metadata": {
    "collapsed": false
   },
   "outputs": [
    {
     "data": {
      "text/plain": [
       "5.115"
      ]
     },
     "execution_count": 143,
     "metadata": {},
     "output_type": "execute_result"
    }
   ],
   "source": [
    "# Depression_PH\n",
    "(5.35+4.88)/2"
   ]
  },
  {
   "cell_type": "markdown",
   "metadata": {},
   "source": [
    "### `DataFrame`的内部结构"
   ]
  },
  {
   "cell_type": "code",
   "execution_count": 144,
   "metadata": {
    "collapsed": false,
    "group_control": {
     "group": 0
    }
   },
   "outputs": [
    {
     "data": {
      "image/svg+xml": [
       "dot.exe not found"
      ]
     },
     "metadata": {},
     "output_type": "display_data"
    }
   ],
   "source": [
    "# #%fig=DataFrame对象的内部结构\n",
    "# from scpy2.common import GraphvizDataFrame\n",
    "# %dot GraphvizDataFrame.graphviz(df_soil)"
   ]
  },
  {
   "cell_type": "code",
   "execution_count": null,
   "metadata": {
    "collapsed": true
   },
   "outputs": [],
   "source": [
    "from scpy2.common import GraphvizDataFrame\n",
    "df_to_dot = GraphvizDataFrame.graphviz(df_soil)\n",
    "f = open('df.dot','w')\n",
    "print >> f, df_to_dot\n",
    "f.close()"
   ]
  },
  {
   "cell_type": "code",
   "execution_count": 147,
   "metadata": {
    "collapsed": false
   },
   "outputs": [
    {
     "data": {
      "image/svg+xml": [
       "<?xml version=\"1.0\" encoding=\"UTF-8\" standalone=\"no\"?>\r\n",
       "<!DOCTYPE svg PUBLIC \"-//W3C//DTD SVG 1.1//EN\"\r\n",
       " \"http://www.w3.org/Graphics/SVG/1.1/DTD/svg11.dtd\">\r\n",
       "<!-- Generated by graphviz version 2.38.0 (20140413.2041)\r\n",
       " -->\r\n",
       "<!-- Title: structs Pages: 1 -->\r\n",
       "<svg width=\"719pt\" height=\"764pt\"\r\n",
       " viewBox=\"0.00 0.00 719.00 764.00\" xmlns=\"http://www.w3.org/2000/svg\" xmlns:xlink=\"http://www.w3.org/1999/xlink\">\r\n",
       "<g id=\"graph0\" class=\"graph\" transform=\"scale(1 1) rotate(0) translate(4 760)\">\r\n",
       "<title>structs</title>\r\n",
       "<polygon fill=\"white\" stroke=\"none\" points=\"-4,4 -4,-760 715,-760 715,4 -4,4\"/>\r\n",
       "<!-- obj_177464944 -->\r\n",
       "<g id=\"node1\" class=\"node\"><title>obj_177464944</title>\r\n",
       "<polygon fill=\"white\" stroke=\"black\" points=\"0,-202.5 0,-238.5 77,-238.5 77,-202.5 0,-202.5\"/>\r\n",
       "<text text-anchor=\"middle\" x=\"38.5\" y=\"-216.8\" font-family=\"Times New Roman,serif\" font-size=\"14.00\">DataFrame</text>\r\n",
       "</g>\r\n",
       "<!-- obj_177464976 -->\r\n",
       "<g id=\"node2\" class=\"node\"><title>obj_177464976</title>\r\n",
       "<polygon fill=\"white\" stroke=\"black\" points=\"157.5,-579.5 157.5,-615.5 234.5,-615.5 234.5,-579.5 157.5,-579.5\"/>\r\n",
       "<text text-anchor=\"middle\" x=\"196\" y=\"-593.8\" font-family=\"Times New Roman,serif\" font-size=\"14.00\">MultiIndex</text>\r\n",
       "</g>\r\n",
       "<!-- obj_177464944&#45;&gt;obj_177464976 -->\r\n",
       "<g id=\"edge15\" class=\"edge\"><title>obj_177464944&#45;&gt;obj_177464976</title>\r\n",
       "<path fill=\"none\" stroke=\"black\" stroke-width=\"0.5\" d=\"M47.0001,-238.683C72.147,-299.651 153.579,-497.077 183.68,-570.055\"/>\r\n",
       "<polygon fill=\"black\" stroke=\"black\" stroke-width=\"0.5\" points=\"180.526,-571.589 187.575,-579.499 186.998,-568.92 180.526,-571.589\"/>\r\n",
       "<text text-anchor=\"middle\" x=\"112\" y=\"-435.5\" font-family=\"Times New Roman,serif\" font-size=\"10.00\">index</text>\r\n",
       "</g>\r\n",
       "<!-- obj_177463920 -->\r\n",
       "<g id=\"node17\" class=\"node\"><title>obj_177463920</title>\r\n",
       "<polygon fill=\"white\" stroke=\"black\" points=\"169,-280.5 169,-316.5 223,-316.5 223,-280.5 169,-280.5\"/>\r\n",
       "<text text-anchor=\"middle\" x=\"196\" y=\"-294.8\" font-family=\"Times New Roman,serif\" font-size=\"14.00\">Index</text>\r\n",
       "</g>\r\n",
       "<!-- obj_177464944&#45;&gt;obj_177463920 -->\r\n",
       "<g id=\"edge16\" class=\"edge\"><title>obj_177464944&#45;&gt;obj_177463920</title>\r\n",
       "<path fill=\"none\" stroke=\"black\" stroke-width=\"0.5\" d=\"M75.3167,-238.593C81.8628,-241.894 88.6349,-245.303 95,-248.5 116.465,-259.281 140.545,-271.322 159.696,-280.887\"/>\r\n",
       "<polygon fill=\"black\" stroke=\"black\" stroke-width=\"0.5\" points=\"158.158,-284.031 168.669,-285.367 161.285,-277.768 158.158,-284.031\"/>\r\n",
       "<text text-anchor=\"middle\" x=\"112\" y=\"-268.5\" font-family=\"Times New Roman,serif\" font-size=\"10.00\">columns</text>\r\n",
       "</g>\r\n",
       "<!-- obj_179092400 -->\r\n",
       "<g id=\"node18\" class=\"node\"><title>obj_179092400</title>\r\n",
       "<polygon fill=\"white\" stroke=\"black\" points=\"166.5,-225.5 166.5,-261.5 225.5,-261.5 225.5,-225.5 166.5,-225.5\"/>\r\n",
       "<text text-anchor=\"middle\" x=\"196\" y=\"-239.8\" font-family=\"Times New Roman,serif\" font-size=\"14.00\">ndarray</text>\r\n",
       "</g>\r\n",
       "<!-- obj_177464944&#45;&gt;obj_179092400 -->\r\n",
       "<g id=\"edge17\" class=\"edge\"><title>obj_177464944&#45;&gt;obj_179092400</title>\r\n",
       "<path fill=\"none\" stroke=\"black\" stroke-width=\"0.5\" stroke-dasharray=\"5,2\" d=\"M77.1422,-226.068C101.209,-229.627 132.335,-234.231 156.556,-237.814\"/>\r\n",
       "<polygon fill=\"black\" stroke=\"black\" stroke-width=\"0.5\" points=\"156.069,-241.28 166.473,-239.281 157.093,-234.355 156.069,-241.28\"/>\r\n",
       "<text text-anchor=\"middle\" x=\"112\" y=\"-236.5\" font-family=\"Times New Roman,serif\" font-size=\"10.00\">values</text>\r\n",
       "</g>\r\n",
       "<!-- obj_176815408 -->\r\n",
       "<g id=\"node19\" class=\"node\"><title>obj_176815408</title>\r\n",
       "<polygon fill=\"white\" stroke=\"black\" points=\"147,-170.5 147,-206.5 245,-206.5 245,-170.5 147,-170.5\"/>\r\n",
       "<text text-anchor=\"middle\" x=\"196\" y=\"-184.8\" font-family=\"Times New Roman,serif\" font-size=\"14.00\">BlockManager</text>\r\n",
       "</g>\r\n",
       "<!-- obj_177464944&#45;&gt;obj_176815408 -->\r\n",
       "<g id=\"edge29\" class=\"edge\"><title>obj_177464944&#45;&gt;obj_176815408</title>\r\n",
       "<path fill=\"none\" stroke=\"black\" stroke-width=\"0.5\" d=\"M77.1422,-212.754C95.0583,-209.067 116.887,-204.575 136.867,-200.463\"/>\r\n",
       "<polygon fill=\"black\" stroke=\"black\" stroke-width=\"0.5\" points=\"137.718,-203.861 146.807,-198.417 136.307,-197.005 137.718,-203.861\"/>\r\n",
       "<text text-anchor=\"middle\" x=\"112\" y=\"-211.5\" font-family=\"Times New Roman,serif\" font-size=\"10.00\">_data</text>\r\n",
       "</g>\r\n",
       "<!-- obj_179167072 -->\r\n",
       "<g id=\"node31\" class=\"node\"><title>obj_179167072</title>\r\n",
       "<polygon fill=\"gray\" stroke=\"black\" points=\"147,-71 147,-140 245,-140 245,-71 147,-71\"/>\r\n",
       "<text text-anchor=\"middle\" x=\"196\" y=\"-124.8\" font-family=\"Times New Roman,serif\" font-size=\"14.00\">object</text>\r\n",
       "<polyline fill=\"none\" stroke=\"black\" points=\"147,-117 245,-117 \"/>\r\n",
       "<text text-anchor=\"middle\" x=\"196\" y=\"-101.8\" font-family=\"Times New Roman,serif\" font-size=\"14.00\">datetime64[ns]</text>\r\n",
       "<polyline fill=\"none\" stroke=\"black\" points=\"147,-94 245,-94 \"/>\r\n",
       "<text text-anchor=\"middle\" x=\"196\" y=\"-78.8\" font-family=\"Times New Roman,serif\" font-size=\"14.00\">float64</text>\r\n",
       "</g>\r\n",
       "<!-- obj_177464944&#45;&gt;obj_179167072 -->\r\n",
       "<g id=\"edge33\" class=\"edge\"><title>obj_177464944&#45;&gt;obj_179167072</title>\r\n",
       "<path fill=\"none\" stroke=\"black\" stroke-width=\"0.5\" stroke-dasharray=\"5,2\" d=\"M64.1394,-202.278C84.4628,-187.248 114.06,-165.359 139.968,-146.199\"/>\r\n",
       "<polygon fill=\"black\" stroke=\"black\" stroke-width=\"0.5\" points=\"142.275,-148.846 148.234,-140.086 138.112,-143.218 142.275,-148.846\"/>\r\n",
       "<text text-anchor=\"middle\" x=\"112\" y=\"-180.5\" font-family=\"Times New Roman,serif\" font-size=\"10.00\">blocks</text>\r\n",
       "</g>\r\n",
       "<!-- obj_179452224 -->\r\n",
       "<g id=\"node35\" class=\"node\"><title>obj_179452224</title>\r\n",
       "<polygon fill=\"gray\" stroke=\"black\" points=\"169,-5.5 169,-51.5 223,-51.5 223,-5.5 169,-5.5\"/>\r\n",
       "<text text-anchor=\"middle\" x=\"196\" y=\"-36.3\" font-family=\"Times New Roman,serif\" font-size=\"14.00\">6</text>\r\n",
       "<polyline fill=\"none\" stroke=\"black\" points=\"169,-28.5 223,-28.5 \"/>\r\n",
       "<text text-anchor=\"middle\" x=\"196\" y=\"-13.3\" font-family=\"Times New Roman,serif\" font-size=\"14.00\">6</text>\r\n",
       "</g>\r\n",
       "<!-- obj_177464944&#45;&gt;obj_179452224 -->\r\n",
       "<g id=\"edge34\" class=\"edge\"><title>obj_177464944&#45;&gt;obj_179452224</title>\r\n",
       "<path fill=\"none\" stroke=\"black\" stroke-width=\"0.5\" stroke-dasharray=\"5,2\" d=\"M48.8855,-202.217C65.5841,-170.873 102.877,-105.968 147,-61.5 151.007,-57.4621 155.57,-53.6054 160.252,-50.0452\"/>\r\n",
       "<polygon fill=\"black\" stroke=\"black\" stroke-width=\"0.5\" points=\"162.623,-52.652 168.713,-43.9822 158.546,-46.962 162.623,-52.652\"/>\r\n",
       "<text text-anchor=\"middle\" x=\"112\" y=\"-126.5\" font-family=\"Times New Roman,serif\" font-size=\"10.00\">shape</text>\r\n",
       "</g>\r\n",
       "<!-- obj_177434040 -->\r\n",
       "<g id=\"node3\" class=\"node\"><title>obj_177434040</title>\r\n",
       "<polygon fill=\"white\" stroke=\"black\" points=\"330.5,-719.5 330.5,-755.5 389.5,-755.5 389.5,-719.5 330.5,-719.5\"/>\r\n",
       "<text text-anchor=\"middle\" x=\"360\" y=\"-733.8\" font-family=\"Times New Roman,serif\" font-size=\"14.00\">ndarray</text>\r\n",
       "</g>\r\n",
       "<!-- obj_177464976&#45;&gt;obj_177434040 -->\r\n",
       "<g id=\"edge1\" class=\"edge\"><title>obj_177464976&#45;&gt;obj_177434040</title>\r\n",
       "<path fill=\"none\" stroke=\"black\" stroke-width=\"0.5\" stroke-dasharray=\"5,2\" d=\"M213.262,-615.728C234.847,-639.303 274.817,-680.851 314,-710.5 316.463,-712.364 319.064,-714.208 321.721,-716.004\"/>\r\n",
       "<polygon fill=\"black\" stroke=\"black\" stroke-width=\"0.5\" points=\"320.008,-719.064 330.308,-721.547 323.804,-713.183 320.008,-719.064\"/>\r\n",
       "<text text-anchor=\"middle\" x=\"279.5\" y=\"-696.5\" font-family=\"Times New Roman,serif\" font-size=\"10.00\">values</text>\r\n",
       "</g>\r\n",
       "<!-- obj_179096048 -->\r\n",
       "<g id=\"node4\" class=\"node\"><title>obj_179096048</title>\r\n",
       "<polygon fill=\"gray\" stroke=\"black\" points=\"333,-664.5 333,-700.5 387,-700.5 387,-664.5 333,-664.5\"/>\r\n",
       "<text text-anchor=\"middle\" x=\"360\" y=\"-678.8\" font-family=\"Times New Roman,serif\" font-size=\"14.00\">6</text>\r\n",
       "</g>\r\n",
       "<!-- obj_177464976&#45;&gt;obj_179096048 -->\r\n",
       "<g id=\"edge2\" class=\"edge\"><title>obj_177464976&#45;&gt;obj_179096048</title>\r\n",
       "<path fill=\"none\" stroke=\"black\" stroke-width=\"0.5\" stroke-dasharray=\"5,2\" d=\"M231.356,-615.526C258.643,-629.843 296.642,-649.781 324.076,-664.176\"/>\r\n",
       "<polygon fill=\"black\" stroke=\"black\" stroke-width=\"0.5\" points=\"322.462,-667.282 332.944,-668.829 325.715,-661.083 322.462,-667.282\"/>\r\n",
       "<text text-anchor=\"middle\" x=\"279.5\" y=\"-650.5\" font-family=\"Times New Roman,serif\" font-size=\"10.00\">shape</text>\r\n",
       "</g>\r\n",
       "<!-- obj_177905968 -->\r\n",
       "<g id=\"node5\" class=\"node\"><title>obj_177905968</title>\r\n",
       "<polygon fill=\"white\" stroke=\"black\" points=\"314,-609.5 314,-645.5 406,-645.5 406,-609.5 314,-609.5\"/>\r\n",
       "<text text-anchor=\"middle\" x=\"360\" y=\"-623.8\" font-family=\"Times New Roman,serif\" font-size=\"14.00\">ObjectEngine</text>\r\n",
       "</g>\r\n",
       "<!-- obj_177464976&#45;&gt;obj_177905968 -->\r\n",
       "<g id=\"edge3\" class=\"edge\"><title>obj_177464976&#45;&gt;obj_177905968</title>\r\n",
       "<path fill=\"none\" stroke=\"black\" stroke-width=\"0.5\" d=\"M234.573,-604.458C255.173,-608.273 281.092,-613.073 303.935,-617.303\"/>\r\n",
       "<polygon fill=\"black\" stroke=\"black\" stroke-width=\"0.5\" points=\"303.377,-620.759 313.847,-619.138 304.652,-613.876 303.377,-620.759\"/>\r\n",
       "<text text-anchor=\"middle\" x=\"279.5\" y=\"-618.5\" font-family=\"Times New Roman,serif\" font-size=\"10.00\">_engine</text>\r\n",
       "</g>\r\n",
       "<!-- obj_177903008 -->\r\n",
       "<g id=\"node6\" class=\"node\"><title>obj_177903008</title>\r\n",
       "<polygon fill=\"gray\" stroke=\"black\" points=\"333,-544.5 333,-590.5 387,-590.5 387,-544.5 333,-544.5\"/>\r\n",
       "<text text-anchor=\"middle\" x=\"360\" y=\"-575.3\" font-family=\"Times New Roman,serif\" font-size=\"14.00\">*</text>\r\n",
       "<polyline fill=\"none\" stroke=\"black\" points=\"333,-567.5 387,-567.5 \"/>\r\n",
       "<text text-anchor=\"middle\" x=\"360\" y=\"-552.3\" font-family=\"Times New Roman,serif\" font-size=\"14.00\">*</text>\r\n",
       "</g>\r\n",
       "<!-- obj_177464976&#45;&gt;obj_177903008 -->\r\n",
       "<g id=\"edge6\" class=\"edge\"><title>obj_177464976&#45;&gt;obj_177903008</title>\r\n",
       "<path fill=\"none\" stroke=\"black\" stroke-width=\"0.5\" stroke-dasharray=\"5,2\" d=\"M234.573,-590.542C261.143,-585.622 296.565,-579.062 322.819,-574.2\"/>\r\n",
       "<polygon fill=\"black\" stroke=\"black\" stroke-width=\"0.5\" points=\"323.551,-577.624 332.747,-572.362 322.277,-570.741 323.551,-577.624\"/>\r\n",
       "<text text-anchor=\"middle\" x=\"279.5\" y=\"-588.5\" font-family=\"Times New Roman,serif\" font-size=\"10.00\">labels</text>\r\n",
       "</g>\r\n",
       "<!-- obj_177375632 -->\r\n",
       "<g id=\"node9\" class=\"node\"><title>obj_177375632</title>\r\n",
       "<polygon fill=\"gray\" stroke=\"black\" points=\"333,-472.5 333,-518.5 387,-518.5 387,-472.5 333,-472.5\"/>\r\n",
       "<text text-anchor=\"middle\" x=\"360\" y=\"-503.3\" font-family=\"Times New Roman,serif\" font-size=\"14.00\">*</text>\r\n",
       "<polyline fill=\"none\" stroke=\"black\" points=\"333,-495.5 387,-495.5 \"/>\r\n",
       "<text text-anchor=\"middle\" x=\"360\" y=\"-480.3\" font-family=\"Times New Roman,serif\" font-size=\"14.00\">*</text>\r\n",
       "</g>\r\n",
       "<!-- obj_177464976&#45;&gt;obj_177375632 -->\r\n",
       "<g id=\"edge14\" class=\"edge\"><title>obj_177464976&#45;&gt;obj_177375632</title>\r\n",
       "<path fill=\"none\" stroke=\"black\" stroke-width=\"0.5\" stroke-dasharray=\"5,2\" d=\"M225.589,-579.499C253.084,-562.188 294.697,-535.987 324.126,-517.458\"/>\r\n",
       "<polygon fill=\"black\" stroke=\"black\" stroke-width=\"0.5\" points=\"326.241,-520.262 332.838,-511.972 322.511,-514.339 326.241,-520.262\"/>\r\n",
       "<text text-anchor=\"middle\" x=\"279.5\" y=\"-559.5\" font-family=\"Times New Roman,serif\" font-size=\"10.00\">levels</text>\r\n",
       "</g>\r\n",
       "<!-- obj_176989296 -->\r\n",
       "<g id=\"node7\" class=\"node\"><title>obj_176989296</title>\r\n",
       "<polygon fill=\"white\" stroke=\"black\" points=\"443,-599.5 443,-635.5 550,-635.5 550,-599.5 443,-599.5\"/>\r\n",
       "<text text-anchor=\"middle\" x=\"496.5\" y=\"-613.8\" font-family=\"Times New Roman,serif\" font-size=\"14.00\">FrozenNDArray</text>\r\n",
       "</g>\r\n",
       "<!-- obj_177903008&#45;&gt;obj_176989296 -->\r\n",
       "<g id=\"edge4\" class=\"edge\"><title>obj_177903008:f0&#45;&gt;obj_176989296</title>\r\n",
       "<path fill=\"none\" stroke=\"black\" stroke-width=\"0.5\" d=\"M388,-579.5C410.455,-579.5 434.117,-586.961 453.508,-595.272\"/>\r\n",
       "<polygon fill=\"black\" stroke=\"black\" stroke-width=\"0.5\" points=\"452.105,-598.478 462.66,-599.39 454.977,-592.095 452.105,-598.478\"/>\r\n",
       "</g>\r\n",
       "<!-- obj_176990256 -->\r\n",
       "<g id=\"node8\" class=\"node\"><title>obj_176990256</title>\r\n",
       "<polygon fill=\"white\" stroke=\"black\" points=\"443,-544.5 443,-580.5 550,-580.5 550,-544.5 443,-544.5\"/>\r\n",
       "<text text-anchor=\"middle\" x=\"496.5\" y=\"-558.8\" font-family=\"Times New Roman,serif\" font-size=\"14.00\">FrozenNDArray</text>\r\n",
       "</g>\r\n",
       "<!-- obj_177903008&#45;&gt;obj_176990256 -->\r\n",
       "<g id=\"edge5\" class=\"edge\"><title>obj_177903008:f1&#45;&gt;obj_176990256</title>\r\n",
       "<path fill=\"none\" stroke=\"black\" stroke-width=\"0.5\" d=\"M388,-555.5C402.512,-555.5 418.103,-556.143 432.785,-557.039\"/>\r\n",
       "<polygon fill=\"black\" stroke=\"black\" stroke-width=\"0.5\" points=\"432.573,-560.533 442.781,-557.696 433.032,-553.548 432.573,-560.533\"/>\r\n",
       "</g>\r\n",
       "<!-- obj_177427856 -->\r\n",
       "<g id=\"node10\" class=\"node\"><title>obj_177427856</title>\r\n",
       "<polygon fill=\"white\" stroke=\"black\" points=\"469.5,-489.5 469.5,-525.5 523.5,-525.5 523.5,-489.5 469.5,-489.5\"/>\r\n",
       "<text text-anchor=\"middle\" x=\"496.5\" y=\"-503.8\" font-family=\"Times New Roman,serif\" font-size=\"14.00\">Index</text>\r\n",
       "</g>\r\n",
       "<!-- obj_177375632&#45;&gt;obj_177427856 -->\r\n",
       "<g id=\"edge12\" class=\"edge\"><title>obj_177375632:f0&#45;&gt;obj_177427856</title>\r\n",
       "<path fill=\"none\" stroke=\"black\" stroke-width=\"0.5\" d=\"M388,-507.5C411.789,-507.5 438.539,-507.5 459.404,-507.5\"/>\r\n",
       "<polygon fill=\"black\" stroke=\"black\" stroke-width=\"0.5\" points=\"459.433,-511 469.433,-507.5 459.433,-504 459.433,-511\"/>\r\n",
       "</g>\r\n",
       "<!-- obj_177464400 -->\r\n",
       "<g id=\"node16\" class=\"node\"><title>obj_177464400</title>\r\n",
       "<polygon fill=\"white\" stroke=\"black\" points=\"469.5,-434.5 469.5,-470.5 523.5,-470.5 523.5,-434.5 469.5,-434.5\"/>\r\n",
       "<text text-anchor=\"middle\" x=\"496.5\" y=\"-448.8\" font-family=\"Times New Roman,serif\" font-size=\"14.00\">Index</text>\r\n",
       "</g>\r\n",
       "<!-- obj_177375632&#45;&gt;obj_177464400 -->\r\n",
       "<g id=\"edge13\" class=\"edge\"><title>obj_177375632:f1&#45;&gt;obj_177464400</title>\r\n",
       "<path fill=\"none\" stroke=\"black\" stroke-width=\"0.5\" d=\"M388,-483.5C412.538,-483.5 439.036,-475.951 459.584,-468.304\"/>\r\n",
       "<polygon fill=\"black\" stroke=\"black\" stroke-width=\"0.5\" points=\"461.111,-471.465 469.159,-464.574 458.57,-464.942 461.111,-471.465\"/>\r\n",
       "</g>\r\n",
       "<!-- obj_179116176 -->\r\n",
       "<g id=\"node11\" class=\"node\"><title>obj_179116176</title>\r\n",
       "<polygon fill=\"white\" stroke=\"black\" points=\"635.5,-627.5 635.5,-663.5 694.5,-663.5 694.5,-627.5 635.5,-627.5\"/>\r\n",
       "<text text-anchor=\"middle\" x=\"665\" y=\"-641.8\" font-family=\"Times New Roman,serif\" font-size=\"14.00\">ndarray</text>\r\n",
       "</g>\r\n",
       "<!-- obj_177427856&#45;&gt;obj_179116176 -->\r\n",
       "<g id=\"edge7\" class=\"edge\"><title>obj_177427856&#45;&gt;obj_179116176</title>\r\n",
       "<path fill=\"none\" stroke=\"black\" stroke-width=\"0.5\" stroke-dasharray=\"5,2\" d=\"M523.555,-516.7C532.814,-520.977 542.732,-526.843 550,-534.5 563.421,-548.64 556.255,-558.94 568,-574.5 585.862,-598.164 595.018,-600.068 619,-617.5 621.451,-619.282 624.017,-621.069 626.627,-622.83\"/>\r\n",
       "<polygon fill=\"black\" stroke=\"black\" stroke-width=\"0.5\" points=\"624.743,-625.78 635.027,-628.329 628.577,-619.924 624.743,-625.78\"/>\r\n",
       "<text text-anchor=\"middle\" x=\"584.5\" y=\"-608.5\" font-family=\"Times New Roman,serif\" font-size=\"10.00\">values</text>\r\n",
       "</g>\r\n",
       "<!-- obj_177464224 -->\r\n",
       "<g id=\"node12\" class=\"node\"><title>obj_177464224</title>\r\n",
       "<polygon fill=\"white\" stroke=\"black\" points=\"637,-572.5 637,-608.5 693,-608.5 693,-572.5 637,-572.5\"/>\r\n",
       "<text text-anchor=\"middle\" x=\"665\" y=\"-586.8\" font-family=\"Times New Roman,serif\" font-size=\"14.00\">&#39;Depth&#39;</text>\r\n",
       "</g>\r\n",
       "<!-- obj_177427856&#45;&gt;obj_177464224 -->\r\n",
       "<g id=\"edge8\" class=\"edge\"><title>obj_177427856&#45;&gt;obj_177464224</title>\r\n",
       "<path fill=\"none\" stroke=\"black\" stroke-width=\"0.5\" d=\"M523.516,-520.469C551.448,-534.393 596.043,-556.624 627.483,-572.297\"/>\r\n",
       "<polygon fill=\"black\" stroke=\"black\" stroke-width=\"0.5\" points=\"626.274,-575.605 636.785,-576.934 629.397,-569.34 626.274,-575.605\"/>\r\n",
       "<text text-anchor=\"middle\" x=\"584.5\" y=\"-562.5\" font-family=\"Times New Roman,serif\" font-size=\"10.00\">name</text>\r\n",
       "</g>\r\n",
       "<!-- obj_176862536 -->\r\n",
       "<g id=\"node13\" class=\"node\"><title>obj_176862536</title>\r\n",
       "<polygon fill=\"white\" stroke=\"black\" points=\"635.5,-517.5 635.5,-553.5 694.5,-553.5 694.5,-517.5 635.5,-517.5\"/>\r\n",
       "<text text-anchor=\"middle\" x=\"665\" y=\"-531.8\" font-family=\"Times New Roman,serif\" font-size=\"14.00\">ndarray</text>\r\n",
       "</g>\r\n",
       "<!-- obj_177427856&#45;&gt;obj_176862536 -->\r\n",
       "<g id=\"edge9\" class=\"edge\"><title>obj_177427856&#45;&gt;obj_176862536</title>\r\n",
       "<path fill=\"none\" stroke=\"black\" stroke-width=\"0.5\" d=\"M523.516,-511.875C550.797,-516.463 593.971,-523.723 625.262,-528.985\"/>\r\n",
       "<polygon fill=\"black\" stroke=\"black\" stroke-width=\"0.5\" points=\"624.936,-532.48 635.378,-530.687 626.097,-525.577 624.936,-532.48\"/>\r\n",
       "<text text-anchor=\"middle\" x=\"584.5\" y=\"-528.5\" font-family=\"Times New Roman,serif\" font-size=\"10.00\">_data</text>\r\n",
       "</g>\r\n",
       "<!-- obj_179096304 -->\r\n",
       "<g id=\"node14\" class=\"node\"><title>obj_179096304</title>\r\n",
       "<polygon fill=\"gray\" stroke=\"black\" points=\"638,-462.5 638,-498.5 692,-498.5 692,-462.5 638,-462.5\"/>\r\n",
       "<text text-anchor=\"middle\" x=\"665\" y=\"-476.8\" font-family=\"Times New Roman,serif\" font-size=\"14.00\">2</text>\r\n",
       "</g>\r\n",
       "<!-- obj_177427856&#45;&gt;obj_179096304 -->\r\n",
       "<g id=\"edge10\" class=\"edge\"><title>obj_177427856&#45;&gt;obj_179096304</title>\r\n",
       "<path fill=\"none\" stroke=\"black\" stroke-width=\"0.5\" stroke-dasharray=\"5,2\" d=\"M523.516,-503.281C551.536,-498.737 596.324,-491.475 627.78,-486.374\"/>\r\n",
       "<polygon fill=\"black\" stroke=\"black\" stroke-width=\"0.5\" points=\"628.582,-489.789 637.893,-484.734 627.462,-482.88 628.582,-489.789\"/>\r\n",
       "<text text-anchor=\"middle\" x=\"584.5\" y=\"-499.5\" font-family=\"Times New Roman,serif\" font-size=\"10.00\">shape</text>\r\n",
       "</g>\r\n",
       "<!-- obj_177905712 -->\r\n",
       "<g id=\"node15\" class=\"node\"><title>obj_177905712</title>\r\n",
       "<polygon fill=\"white\" stroke=\"black\" points=\"619,-407.5 619,-443.5 711,-443.5 711,-407.5 619,-407.5\"/>\r\n",
       "<text text-anchor=\"middle\" x=\"665\" y=\"-421.8\" font-family=\"Times New Roman,serif\" font-size=\"14.00\">ObjectEngine</text>\r\n",
       "</g>\r\n",
       "<!-- obj_177427856&#45;&gt;obj_177905712 -->\r\n",
       "<g id=\"edge11\" class=\"edge\"><title>obj_177427856&#45;&gt;obj_177905712</title>\r\n",
       "<path fill=\"none\" stroke=\"black\" stroke-width=\"0.5\" d=\"M523.516,-494.688C548.796,-482.237 587.724,-463.065 618.197,-448.058\"/>\r\n",
       "<polygon fill=\"black\" stroke=\"black\" stroke-width=\"0.5\" points=\"619.933,-451.104 627.358,-443.546 616.84,-444.824 619.933,-451.104\"/>\r\n",
       "<text text-anchor=\"middle\" x=\"584.5\" y=\"-474.5\" font-family=\"Times New Roman,serif\" font-size=\"10.00\">_engine</text>\r\n",
       "</g>\r\n",
       "<!-- obj_176863872 -->\r\n",
       "<g id=\"node20\" class=\"node\"><title>obj_176863872</title>\r\n",
       "<polygon fill=\"gray\" stroke=\"black\" points=\"333,-231 333,-300 387,-300 387,-231 333,-231\"/>\r\n",
       "<text text-anchor=\"middle\" x=\"360\" y=\"-284.8\" font-family=\"Times New Roman,serif\" font-size=\"14.00\">*</text>\r\n",
       "<polyline fill=\"none\" stroke=\"black\" points=\"333,-277 387,-277 \"/>\r\n",
       "<text text-anchor=\"middle\" x=\"360\" y=\"-261.8\" font-family=\"Times New Roman,serif\" font-size=\"14.00\">*</text>\r\n",
       "<polyline fill=\"none\" stroke=\"black\" points=\"333,-254 387,-254 \"/>\r\n",
       "<text text-anchor=\"middle\" x=\"360\" y=\"-238.8\" font-family=\"Times New Roman,serif\" font-size=\"14.00\">*</text>\r\n",
       "</g>\r\n",
       "<!-- obj_176815408&#45;&gt;obj_176863872 -->\r\n",
       "<g id=\"edge27\" class=\"edge\"><title>obj_176815408&#45;&gt;obj_176863872</title>\r\n",
       "<path fill=\"none\" stroke=\"black\" stroke-width=\"0.5\" d=\"M234.982,-206.553C261.802,-219.301 297.486,-236.262 323.689,-248.717\"/>\r\n",
       "<polygon fill=\"black\" stroke=\"black\" stroke-width=\"0.5\" points=\"322.346,-251.953 332.881,-253.085 325.351,-245.631 322.346,-251.953\"/>\r\n",
       "<text text-anchor=\"middle\" x=\"279.5\" y=\"-237.5\" font-family=\"Times New Roman,serif\" font-size=\"10.00\">blocks</text>\r\n",
       "</g>\r\n",
       "<!-- obj_179092456 -->\r\n",
       "<g id=\"node30\" class=\"node\"><title>obj_179092456</title>\r\n",
       "<polygon fill=\"gray\" stroke=\"black\" points=\"333,-165.5 333,-211.5 387,-211.5 387,-165.5 333,-165.5\"/>\r\n",
       "<text text-anchor=\"middle\" x=\"360\" y=\"-196.3\" font-family=\"Times New Roman,serif\" font-size=\"14.00\">6</text>\r\n",
       "<polyline fill=\"none\" stroke=\"black\" points=\"333,-188.5 387,-188.5 \"/>\r\n",
       "<text text-anchor=\"middle\" x=\"360\" y=\"-173.3\" font-family=\"Times New Roman,serif\" font-size=\"14.00\">6</text>\r\n",
       "</g>\r\n",
       "<!-- obj_176815408&#45;&gt;obj_179092456 -->\r\n",
       "<g id=\"edge28\" class=\"edge\"><title>obj_176815408&#45;&gt;obj_179092456</title>\r\n",
       "<path fill=\"none\" stroke=\"black\" stroke-width=\"0.5\" stroke-dasharray=\"5,2\" d=\"M245.167,-188.5C269.966,-188.5 299.707,-188.5 322.57,-188.5\"/>\r\n",
       "<polygon fill=\"black\" stroke=\"black\" stroke-width=\"0.5\" points=\"322.868,-192 332.868,-188.5 322.868,-185 322.868,-192\"/>\r\n",
       "<text text-anchor=\"middle\" x=\"279.5\" y=\"-191.5\" font-family=\"Times New Roman,serif\" font-size=\"10.00\">shape</text>\r\n",
       "</g>\r\n",
       "<!-- obj_177901664 -->\r\n",
       "<g id=\"node21\" class=\"node\"><title>obj_177901664</title>\r\n",
       "<polygon fill=\"white\" stroke=\"black\" points=\"457.5,-292.5 457.5,-328.5 535.5,-328.5 535.5,-292.5 457.5,-292.5\"/>\r\n",
       "<text text-anchor=\"middle\" x=\"496.5\" y=\"-306.8\" font-family=\"Times New Roman,serif\" font-size=\"14.00\">FloatBlock</text>\r\n",
       "</g>\r\n",
       "<!-- obj_176863872&#45;&gt;obj_177901664 -->\r\n",
       "<g id=\"edge20\" class=\"edge\"><title>obj_176863872:f0&#45;&gt;obj_177901664</title>\r\n",
       "<path fill=\"none\" stroke=\"black\" stroke-width=\"0.5\" d=\"M388,-288.5C407.61,-288.5 428.83,-292.057 447.196,-296.311\"/>\r\n",
       "<polygon fill=\"black\" stroke=\"black\" stroke-width=\"0.5\" points=\"446.531,-299.751 457.077,-298.727 448.194,-292.952 446.531,-299.751\"/>\r\n",
       "</g>\r\n",
       "<!-- obj_177902288 -->\r\n",
       "<g id=\"node24\" class=\"node\"><title>obj_177902288</title>\r\n",
       "<polygon fill=\"white\" stroke=\"black\" points=\"447.5,-232.5 447.5,-268.5 545.5,-268.5 545.5,-232.5 447.5,-232.5\"/>\r\n",
       "<text text-anchor=\"middle\" x=\"496.5\" y=\"-246.8\" font-family=\"Times New Roman,serif\" font-size=\"14.00\">DatetimeBlock</text>\r\n",
       "</g>\r\n",
       "<!-- obj_176863872&#45;&gt;obj_177902288 -->\r\n",
       "<g id=\"edge23\" class=\"edge\"><title>obj_176863872:f1&#45;&gt;obj_177902288</title>\r\n",
       "<path fill=\"none\" stroke=\"black\" stroke-width=\"0.5\" d=\"M388,-265.5C403.999,-265.5 421.21,-263.85 437.069,-261.645\"/>\r\n",
       "<polygon fill=\"black\" stroke=\"black\" stroke-width=\"0.5\" points=\"437.894,-265.061 447.27,-260.127 436.863,-258.137 437.894,-265.061\"/>\r\n",
       "</g>\r\n",
       "<!-- obj_177902624 -->\r\n",
       "<g id=\"node27\" class=\"node\"><title>obj_177902624</title>\r\n",
       "<polygon fill=\"white\" stroke=\"black\" points=\"453,-112.5 453,-148.5 540,-148.5 540,-112.5 453,-112.5\"/>\r\n",
       "<text text-anchor=\"middle\" x=\"496.5\" y=\"-126.8\" font-family=\"Times New Roman,serif\" font-size=\"14.00\">ObjectBlock</text>\r\n",
       "</g>\r\n",
       "<!-- obj_176863872&#45;&gt;obj_177902624 -->\r\n",
       "<g id=\"edge26\" class=\"edge\"><title>obj_176863872:f2&#45;&gt;obj_177902624</title>\r\n",
       "<path fill=\"none\" stroke=\"black\" stroke-width=\"0.5\" d=\"M388,-242.5C434.608,-242.5 467.301,-191.393 483.611,-158.226\"/>\r\n",
       "<polygon fill=\"black\" stroke=\"black\" stroke-width=\"0.5\" points=\"486.864,-159.533 487.96,-148.995 480.532,-156.549 486.864,-159.533\"/>\r\n",
       "</g>\r\n",
       "<!-- obj_176863096 -->\r\n",
       "<g id=\"node22\" class=\"node\"><title>obj_176863096</title>\r\n",
       "<polygon fill=\"white\" stroke=\"black\" points=\"635.5,-352.5 635.5,-388.5 694.5,-388.5 694.5,-352.5 635.5,-352.5\"/>\r\n",
       "<text text-anchor=\"middle\" x=\"665\" y=\"-366.8\" font-family=\"Times New Roman,serif\" font-size=\"14.00\">ndarray</text>\r\n",
       "</g>\r\n",
       "<!-- obj_177901664&#45;&gt;obj_176863096 -->\r\n",
       "<g id=\"edge18\" class=\"edge\"><title>obj_177901664&#45;&gt;obj_176863096</title>\r\n",
       "<path fill=\"none\" stroke=\"black\" stroke-width=\"0.5\" d=\"M535.698,-324.265C562.719,-334.002 598.8,-347.005 625.817,-356.741\"/>\r\n",
       "<polygon fill=\"black\" stroke=\"black\" stroke-width=\"0.5\" points=\"624.733,-360.07 635.327,-360.167 627.106,-353.485 624.733,-360.07\"/>\r\n",
       "<text text-anchor=\"middle\" x=\"584.5\" y=\"-351.5\" font-family=\"Times New Roman,serif\" font-size=\"10.00\">values</text>\r\n",
       "</g>\r\n",
       "<!-- obj_179364048 -->\r\n",
       "<g id=\"node23\" class=\"node\"><title>obj_179364048</title>\r\n",
       "<polygon fill=\"gray\" stroke=\"black\" points=\"638,-287.5 638,-333.5 692,-333.5 692,-287.5 638,-287.5\"/>\r\n",
       "<text text-anchor=\"middle\" x=\"665\" y=\"-318.3\" font-family=\"Times New Roman,serif\" font-size=\"14.00\">4</text>\r\n",
       "<polyline fill=\"none\" stroke=\"black\" points=\"638,-310.5 692,-310.5 \"/>\r\n",
       "<text text-anchor=\"middle\" x=\"665\" y=\"-295.3\" font-family=\"Times New Roman,serif\" font-size=\"14.00\">6</text>\r\n",
       "</g>\r\n",
       "<!-- obj_177901664&#45;&gt;obj_179364048 -->\r\n",
       "<g id=\"edge19\" class=\"edge\"><title>obj_177901664&#45;&gt;obj_179364048</title>\r\n",
       "<path fill=\"none\" stroke=\"black\" stroke-width=\"0.5\" stroke-dasharray=\"5,2\" d=\"M535.698,-310.5C563.329,-310.5 600.436,-310.5 627.635,-310.5\"/>\r\n",
       "<polygon fill=\"black\" stroke=\"black\" stroke-width=\"0.5\" points=\"627.897,-314 637.897,-310.5 627.897,-307 627.897,-314\"/>\r\n",
       "<text text-anchor=\"middle\" x=\"584.5\" y=\"-313.5\" font-family=\"Times New Roman,serif\" font-size=\"10.00\">shape</text>\r\n",
       "</g>\r\n",
       "<!-- obj_177241208 -->\r\n",
       "<g id=\"node25\" class=\"node\"><title>obj_177241208</title>\r\n",
       "<polygon fill=\"white\" stroke=\"black\" points=\"635.5,-232.5 635.5,-268.5 694.5,-268.5 694.5,-232.5 635.5,-232.5\"/>\r\n",
       "<text text-anchor=\"middle\" x=\"665\" y=\"-246.8\" font-family=\"Times New Roman,serif\" font-size=\"14.00\">ndarray</text>\r\n",
       "</g>\r\n",
       "<!-- obj_177902288&#45;&gt;obj_177241208 -->\r\n",
       "<g id=\"edge21\" class=\"edge\"><title>obj_177902288&#45;&gt;obj_177241208</title>\r\n",
       "<path fill=\"none\" stroke=\"black\" stroke-width=\"0.5\" d=\"M545.659,-250.5C570.925,-250.5 601.469,-250.5 625.197,-250.5\"/>\r\n",
       "<polygon fill=\"black\" stroke=\"black\" stroke-width=\"0.5\" points=\"625.244,-254 635.244,-250.5 625.244,-247 625.244,-254\"/>\r\n",
       "<text text-anchor=\"middle\" x=\"584.5\" y=\"-253.5\" font-family=\"Times New Roman,serif\" font-size=\"10.00\">values</text>\r\n",
       "</g>\r\n",
       "<!-- obj_179091896 -->\r\n",
       "<g id=\"node26\" class=\"node\"><title>obj_179091896</title>\r\n",
       "<polygon fill=\"gray\" stroke=\"black\" points=\"638,-167.5 638,-213.5 692,-213.5 692,-167.5 638,-167.5\"/>\r\n",
       "<text text-anchor=\"middle\" x=\"665\" y=\"-198.3\" font-family=\"Times New Roman,serif\" font-size=\"14.00\">1</text>\r\n",
       "<polyline fill=\"none\" stroke=\"black\" points=\"638,-190.5 692,-190.5 \"/>\r\n",
       "<text text-anchor=\"middle\" x=\"665\" y=\"-175.3\" font-family=\"Times New Roman,serif\" font-size=\"14.00\">6</text>\r\n",
       "</g>\r\n",
       "<!-- obj_177902288&#45;&gt;obj_179091896 -->\r\n",
       "<g id=\"edge22\" class=\"edge\"><title>obj_177902288&#45;&gt;obj_179091896</title>\r\n",
       "<path fill=\"none\" stroke=\"black\" stroke-width=\"0.5\" stroke-dasharray=\"5,2\" d=\"M545.659,-233.146C571.995,-223.655 604.067,-212.097 628.176,-203.409\"/>\r\n",
       "<polygon fill=\"black\" stroke=\"black\" stroke-width=\"0.5\" points=\"629.431,-206.678 637.652,-199.995 627.058,-200.092 629.431,-206.678\"/>\r\n",
       "<text text-anchor=\"middle\" x=\"584.5\" y=\"-227.5\" font-family=\"Times New Roman,serif\" font-size=\"10.00\">shape</text>\r\n",
       "</g>\r\n",
       "<!-- obj_177241048 -->\r\n",
       "<g id=\"node28\" class=\"node\"><title>obj_177241048</title>\r\n",
       "<polygon fill=\"white\" stroke=\"black\" points=\"635.5,-112.5 635.5,-148.5 694.5,-148.5 694.5,-112.5 635.5,-112.5\"/>\r\n",
       "<text text-anchor=\"middle\" x=\"665\" y=\"-126.8\" font-family=\"Times New Roman,serif\" font-size=\"14.00\">ndarray</text>\r\n",
       "</g>\r\n",
       "<!-- obj_177902624&#45;&gt;obj_177241048 -->\r\n",
       "<g id=\"edge24\" class=\"edge\"><title>obj_177902624&#45;&gt;obj_177241048</title>\r\n",
       "<path fill=\"none\" stroke=\"black\" stroke-width=\"0.5\" d=\"M540.378,-130.5C566.63,-130.5 599.95,-130.5 625.381,-130.5\"/>\r\n",
       "<polygon fill=\"black\" stroke=\"black\" stroke-width=\"0.5\" points=\"625.404,-134 635.404,-130.5 625.404,-127 625.404,-134\"/>\r\n",
       "<text text-anchor=\"middle\" x=\"584.5\" y=\"-133.5\" font-family=\"Times New Roman,serif\" font-size=\"10.00\">values</text>\r\n",
       "</g>\r\n",
       "<!-- obj_179092376 -->\r\n",
       "<g id=\"node29\" class=\"node\"><title>obj_179092376</title>\r\n",
       "<polygon fill=\"gray\" stroke=\"black\" points=\"638,-47.5 638,-93.5 692,-93.5 692,-47.5 638,-47.5\"/>\r\n",
       "<text text-anchor=\"middle\" x=\"665\" y=\"-78.3\" font-family=\"Times New Roman,serif\" font-size=\"14.00\">1</text>\r\n",
       "<polyline fill=\"none\" stroke=\"black\" points=\"638,-70.5 692,-70.5 \"/>\r\n",
       "<text text-anchor=\"middle\" x=\"665\" y=\"-55.3\" font-family=\"Times New Roman,serif\" font-size=\"14.00\">6</text>\r\n",
       "</g>\r\n",
       "<!-- obj_177902624&#45;&gt;obj_179092376 -->\r\n",
       "<g id=\"edge25\" class=\"edge\"><title>obj_177902624&#45;&gt;obj_179092376</title>\r\n",
       "<path fill=\"none\" stroke=\"black\" stroke-width=\"0.5\" stroke-dasharray=\"5,2\" d=\"M540.378,-115.049C567.598,-105.24 602.415,-92.6928 628.159,-83.4156\"/>\r\n",
       "<polygon fill=\"black\" stroke=\"black\" stroke-width=\"0.5\" points=\"629.672,-86.591 637.893,-79.908 627.298,-80.0055 629.672,-86.591\"/>\r\n",
       "<text text-anchor=\"middle\" x=\"584.5\" y=\"-107.5\" font-family=\"Times New Roman,serif\" font-size=\"10.00\">shape</text>\r\n",
       "</g>\r\n",
       "<!-- obj_179602800 -->\r\n",
       "<g id=\"node32\" class=\"node\"><title>obj_179602800</title>\r\n",
       "<polygon fill=\"white\" stroke=\"black\" points=\"321.5,-110.5 321.5,-146.5 398.5,-146.5 398.5,-110.5 321.5,-110.5\"/>\r\n",
       "<text text-anchor=\"middle\" x=\"360\" y=\"-124.8\" font-family=\"Times New Roman,serif\" font-size=\"14.00\">DataFrame</text>\r\n",
       "</g>\r\n",
       "<!-- obj_179167072&#45;&gt;obj_179602800 -->\r\n",
       "<g id=\"edge30\" class=\"edge\"><title>obj_179167072:fobject&#45;&gt;obj_179602800</title>\r\n",
       "<path fill=\"none\" stroke=\"black\" stroke-width=\"0.5\" d=\"M245,-128.5C266.757,-128.5 290.849,-128.5 311.259,-128.5\"/>\r\n",
       "<polygon fill=\"black\" stroke=\"black\" stroke-width=\"0.5\" points=\"311.26,-132 321.259,-128.5 311.259,-125 311.26,-132\"/>\r\n",
       "</g>\r\n",
       "<!-- obj_179601968 -->\r\n",
       "<g id=\"node33\" class=\"node\"><title>obj_179601968</title>\r\n",
       "<polygon fill=\"white\" stroke=\"black\" points=\"321.5,-55.5 321.5,-91.5 398.5,-91.5 398.5,-55.5 321.5,-55.5\"/>\r\n",
       "<text text-anchor=\"middle\" x=\"360\" y=\"-69.8\" font-family=\"Times New Roman,serif\" font-size=\"14.00\">DataFrame</text>\r\n",
       "</g>\r\n",
       "<!-- obj_179167072&#45;&gt;obj_179601968 -->\r\n",
       "<g id=\"edge31\" class=\"edge\"><title>obj_179167072:fdatetime64ns&#45;&gt;obj_179601968</title>\r\n",
       "<path fill=\"none\" stroke=\"black\" stroke-width=\"0.5\" d=\"M245.348,-95.8121C266.365,-91.6861 290.779,-86.8931 311.58,-82.8094\"/>\r\n",
       "<polygon fill=\"black\" stroke=\"black\" stroke-width=\"0.5\" points=\"312.333,-86.2286 321.471,-80.8676 310.984,-79.3597 312.333,-86.2286\"/>\r\n",
       "</g>\r\n",
       "<!-- obj_179602672 -->\r\n",
       "<g id=\"node34\" class=\"node\"><title>obj_179602672</title>\r\n",
       "<polygon fill=\"white\" stroke=\"black\" points=\"321.5,-0.5 321.5,-36.5 398.5,-36.5 398.5,-0.5 321.5,-0.5\"/>\r\n",
       "<text text-anchor=\"middle\" x=\"360\" y=\"-14.8\" font-family=\"Times New Roman,serif\" font-size=\"14.00\">DataFrame</text>\r\n",
       "</g>\r\n",
       "<!-- obj_179167072&#45;&gt;obj_179602672 -->\r\n",
       "<g id=\"edge32\" class=\"edge\"><title>obj_179167072:ffloat64&#45;&gt;obj_179602672</title>\r\n",
       "<path fill=\"none\" stroke=\"black\" stroke-width=\"0.5\" d=\"M245,-82.5C249.287,-82.5 288.221,-60.208 319.413,-41.9366\"/>\r\n",
       "<polygon fill=\"black\" stroke=\"black\" stroke-width=\"0.5\" points=\"321.533,-44.7508 328.383,-36.6686 317.988,-38.7148 321.533,-44.7508\"/>\r\n",
       "</g>\r\n",
       "</g>\r\n",
       "</svg>\r\n"
      ],
      "text/plain": [
       "<graphviz.files.Source at 0xab48af0>"
      ]
     },
     "execution_count": 147,
     "metadata": {},
     "output_type": "execute_result"
    }
   ],
   "source": [
    "import graphviz\n",
    "with open(\"df.dot\") as f:\n",
    "    dot_graph = f.read()\n",
    "graphviz.Source(dot_graph, format=\"svg\")\n"
   ]
  },
  {
   "cell_type": "code",
   "execution_count": 92,
   "metadata": {
    "collapsed": false,
    "group_control": {
     "group": 0
    }
   },
   "outputs": [
    {
     "data": {
      "text/plain": [
       "4"
      ]
     },
     "execution_count": 92,
     "metadata": {},
     "output_type": "execute_result"
    }
   ],
   "source": [
    "df_soil.columns._engine.mapping.get_item(\"Date\")"
   ]
  },
  {
   "cell_type": "code",
   "execution_count": 93,
   "metadata": {
    "collapsed": false,
    "group_control": {
     "group": 0
    }
   },
   "outputs": [
    {
     "data": {
      "text/plain": [
       "True"
      ]
     },
     "execution_count": 93,
     "metadata": {},
     "output_type": "execute_result"
    }
   ],
   "source": [
    "s = df_soil[\"Dens\"]\n",
    "s.values.base is df_soil._data.blocks[0].values"
   ]
  },
  {
   "cell_type": "code",
   "execution_count": 94,
   "metadata": {
    "collapsed": false,
    "group_control": {
     "group": 0
    }
   },
   "outputs": [
    {
     "name": "stdout",
     "output_type": "stream",
     "text": [
      "None\n"
     ]
    }
   ],
   "source": [
    "print df_soil[[\"Dens\"]]._data.blocks[0].values.base"
   ]
  },
  {
   "cell_type": "code",
   "execution_count": 98,
   "metadata": {
    "collapsed": false,
    "group_control": {
     "group": 0
    }
   },
   "outputs": [
    {
     "data": {
      "text/plain": [
       "True"
      ]
     },
     "execution_count": 98,
     "metadata": {},
     "output_type": "execute_result"
    }
   ],
   "source": [
    "df_float = df_soil[['pH', 'Dens', 'Ca', 'Conduc']]\n",
    "df_float.values.base is df_float._data.blocks[0].values"
   ]
  },
  {
   "cell_type": "code",
   "execution_count": 99,
   "metadata": {
    "collapsed": false,
    "group_control": {
     "group": 0
    }
   },
   "outputs": [
    {
     "data": {
      "text/plain": [
       "True"
      ]
     },
     "execution_count": 99,
     "metadata": {},
     "output_type": "execute_result"
    }
   ],
   "source": [
    "df_float.loc[\"0-10\", \"Top\"].values.base is df_float._data.blocks[0].values"
   ]
  },
  {
   "cell_type": "code",
   "execution_count": 100,
   "metadata": {
    "collapsed": false,
    "group_control": {
     "group": 0
    }
   },
   "outputs": [
    {
     "data": {
      "text/plain": [
       "dtype('O')"
      ]
     },
     "execution_count": 100,
     "metadata": {},
     "output_type": "execute_result"
    }
   ],
   "source": [
    "df_soil.values.dtype"
   ]
  }
 ],
 "metadata": {
  "kernelspec": {
   "display_name": "Python 2",
   "language": "python",
   "name": "python2"
  },
  "language_info": {
   "codemirror_mode": {
    "name": "ipython",
    "version": 2
   },
   "file_extension": ".py",
   "mimetype": "text/x-python",
   "name": "python",
   "nbconvert_exporter": "python",
   "pygments_lexer": "ipython2",
   "version": "2.7.9"
  }
 },
 "nbformat": 4,
 "nbformat_minor": 0
}

{
 "cells": [
  {
   "cell_type": "code",
   "execution_count": 4,
   "metadata": {},
   "outputs": [
    {
     "name": "stdout",
     "output_type": "stream",
     "text": [
      "^^^^^^^^^^^^^^^^^^^^^^^^^^^^^^^^^^^^^^^^^^^^^^!kk0:起始>^^^^^^^^^^^^^^^^^^^^^^^^^^^^^^^^^^^^^^^^^^^^^^\n"
     ]
    }
   ],
   "source": [
    "%kk 0"
   ]
  },
  {
   "cell_type": "code",
   "execution_count": 5,
   "metadata": {},
   "outputs": [],
   "source": [
    "from sympy import *\n",
    "init_printing(use_latex=1)"
   ]
  },
  {
   "cell_type": "markdown",
   "metadata": {},
   "source": [
    "## 数学表达式"
   ]
  },
  {
   "cell_type": "markdown",
   "metadata": {},
   "source": [
    "### 符号对象"
   ]
  },
  {
   "cell_type": "markdown",
   "metadata": {},
   "source": [
    "创建符号对象的方式: var(), symbols(), Symbol()"
   ]
  },
  {
   "cell_type": "markdown",
   "metadata": {},
   "source": [
    "var()在创建符号对象的同时, 创建了同名的Python对象"
   ]
  },
  {
   "cell_type": "code",
   "execution_count": 6,
   "metadata": {},
   "outputs": [
    {
     "data": {
      "image/png": "[encoded data removed]",
      "text/latex": [
       "$$\\left ( x_{0}, \\quad y_{0}, \\quad x_{1}, \\quad y_{1}\\right )$$"
      ],
      "text/plain": [
       "(x₀, y₀, x₁, y₁)"
      ]
     },
     "execution_count": 6,
     "metadata": {},
     "output_type": "execute_result"
    }
   ],
   "source": [
    "var(\"x0,y0,x1,y1\")"
   ]
  },
  {
   "cell_type": "code",
   "execution_count": 7,
   "metadata": {},
   "outputs": [
    {
     "name": "stdout",
     "output_type": "stream",
     "text": [
      "        type(x0)          x0.name\n",
      "------------------------  -------\n",
      "sympy.core.symbol.Symbol  'x0'   \n"
     ]
    }
   ],
   "source": [
    "%C type(x0); x0.name"
   ]
  },
  {
   "cell_type": "markdown",
   "metadata": {},
   "source": [
    "自定义符号对象的变量名"
   ]
  },
  {
   "cell_type": "code",
   "execution_count": 8,
   "metadata": {},
   "outputs": [
    {
     "data": {
      "text/plain": [
       "sympy.core.symbol.Symbol"
      ]
     },
     "execution_count": 8,
     "metadata": {},
     "output_type": "execute_result"
    }
   ],
   "source": [
    "x1, y1 = symbols(\"x1, y1\")\n",
    "type(x1)"
   ]
  },
  {
   "cell_type": "markdown",
   "metadata": {},
   "source": [
    "使用Symbol类直接创建符号对象"
   ]
  },
  {
   "cell_type": "code",
   "execution_count": 9,
   "metadata": {},
   "outputs": [
    {
     "data": {
      "image/png": "[encoded data removed]",
      "text/latex": [
       "$$x_{2}$$"
      ],
      "text/plain": [
       "x₂"
      ]
     },
     "execution_count": 9,
     "metadata": {},
     "output_type": "execute_result"
    }
   ],
   "source": [
    "x2 = Symbol(\"x2\")\n",
    "x2"
   ]
  },
  {
   "cell_type": "markdown",
   "metadata": {},
   "source": [
    "如果符号对象的名字是希腊字母的英文名, LaTex表达式的符号对象就会显示为希腊字母"
   ]
  },
  {
   "cell_type": "code",
   "execution_count": 10,
   "metadata": {},
   "outputs": [
    {
     "data": {
      "image/png": "[encoded data removed]",
      "text/latex": [
       "$$\\sin{\\left (\\alpha \\right )} + \\sin{\\left (\\beta \\right )}$$"
      ],
      "text/plain": [
       "sin(α) + sin(β)"
      ]
     },
     "execution_count": 10,
     "metadata": {},
     "output_type": "execute_result"
    }
   ],
   "source": [
    "a, b = symbols(\"alpha, beta\")\n",
    "sin(a) + sin(b)"
   ]
  },
  {
   "cell_type": "markdown",
   "metadata": {},
   "source": [
    "指定符号对象的假设条件"
   ]
  },
  {
   "cell_type": "code",
   "execution_count": 11,
   "metadata": {},
   "outputs": [
    {
     "data": {
      "image/png": "[encoded data removed]",
      "text/latex": [
       "$$\\left ( m, \\quad n\\right )$$"
      ],
      "text/plain": [
       "(m, n)"
      ]
     },
     "execution_count": 11,
     "metadata": {},
     "output_type": "execute_result"
    }
   ],
   "source": [
    "#创建整数对象\n",
    "m, n = symbols(\"m, n\", integer=True) \n",
    "m, n"
   ]
  },
  {
   "cell_type": "code",
   "execution_count": 12,
   "metadata": {},
   "outputs": [
    {
     "data": {
      "image/png": "[encoded data removed]",
      "text/latex": [
       "$$x$$"
      ],
      "text/plain": [
       "x"
      ]
     },
     "execution_count": 12,
     "metadata": {},
     "output_type": "execute_result"
    }
   ],
   "source": [
    "# 创建正数对象\n",
    "x = symbols('x',positive=True) \n",
    "# x = Symbol(\"x\", positive=True)\n",
    "x"
   ]
  },
  {
   "cell_type": "code",
   "execution_count": 13,
   "metadata": {},
   "outputs": [
    {
     "data": {
      "image/png": "[encoded data removed]",
      "text/latex": [
       "$$\\left ( c_{0}, \\quad c_{1}, \\quad c_{2}\\right )$$"
      ],
      "text/plain": [
       "(c₀, c₁, c₂)"
      ]
     },
     "execution_count": 13,
     "metadata": {},
     "output_type": "execute_result"
    }
   ],
   "source": [
    "# 创建可迭代的符号对象\n",
    "c = symbols('c0,c1,c2', seq=True) \n",
    "c"
   ]
  },
  {
   "cell_type": "code",
   "execution_count": 14,
   "metadata": {},
   "outputs": [
    {
     "data": {
      "image/png": "[encoded data removed]",
      "text/latex": [
       "$$f$$"
      ],
      "text/plain": [
       "f"
      ]
     },
     "execution_count": 14,
     "metadata": {},
     "output_type": "execute_result"
    }
   ],
   "source": [
    "# 创建符号函数\n",
    "f = symbols('f',clf=Function)\n",
    "f"
   ]
  },
  {
   "cell_type": "code",
   "execution_count": 15,
   "metadata": {},
   "outputs": [
    {
     "name": "stdout",
     "output_type": "stream",
     "text": [
      ">>>>>>>>>>>>>>>>>>>>>>>>>>>>>>>>>>>>>>>>>>>>>>!kk1:活动>>>>>>>>>>>>>>>>>>>>>>>>>>>>>>>>>>>>>>>>>>>>>>>\n"
     ]
    }
   ],
   "source": [
    "kk 1"
   ]
  },
  {
   "cell_type": "markdown",
   "metadata": {},
   "source": [
    "符号对象的假设条件有哪些: `is_+小写字母`"
   ]
  },
  {
   "cell_type": "code",
   "execution_count": 16,
   "metadata": {},
   "outputs": [
    {
     "name": "stdout",
     "output_type": "stream",
     "text": [
      "is_algebraic   |is_algebraic_expr |is_antihermitian |is_commutative |is_comparable        |is_complex        |\n",
      "is_composite   |is_constant       |is_even          |is_finite      |is_hermitian         |is_hypergeometric |\n",
      "is_imaginary   |is_infinite       |is_integer       |is_irrational  |is_negative          |is_noninteger     |\n",
      "is_nonnegative |is_nonpositive    |is_nonzero       |is_number      |is_odd               |is_polar          |\n",
      "is_polynomial  |is_positive       |is_prime         |is_rational    |is_rational_function |is_real           |\n",
      "is_symbol      |is_transcendental |is_zero          |\n"
     ]
    }
   ],
   "source": [
    "%col 6 dir2(x,patterns=['is_[a-z]*'])"
   ]
  },
  {
   "cell_type": "markdown",
   "metadata": {},
   "source": [
    "符号对象所属的类型有哪些: `is_+大写字母`"
   ]
  },
  {
   "cell_type": "code",
   "execution_count": 17,
   "metadata": {
    "scrolled": false
   },
   "outputs": [
    {
     "name": "stdout",
     "output_type": "stream",
     "text": [
      "is_Add      |is_AlgebraicNumber |is_Atom     |is_Boolean      |is_Derivative |is_Dummy     |\n",
      "is_Equality |is_Float           |is_Function |is_Indexed      |is_Integer    |is_Matrix    |\n",
      "is_Mul      |is_Not             |is_Number   |is_NumberSymbol |is_Order      |is_Piecewise |\n",
      "is_Point    |is_Poly            |is_Pow      |is_Rational     |is_Relational |is_Symbol    |\n",
      "is_Vector   |is_Wild            |\n"
     ]
    }
   ],
   "source": [
    "col 6 dir2(x,patterns=['is_[A-Z]*'])"
   ]
  },
  {
   "cell_type": "code",
   "execution_count": 18,
   "metadata": {},
   "outputs": [
    {
     "name": "stdout",
     "output_type": "stream",
     "text": [
      "x.is_Symbol  x.is_positive  x.is_imaginary  x.is_complex\n",
      "-----------  -------------  --------------  ------------\n",
      "True         True           False           True        \n"
     ]
    }
   ],
   "source": [
    "%C x.is_Symbol; x.is_positive; x.is_imaginary; x.is_complex "
   ]
  },
  {
   "cell_type": "markdown",
   "metadata": {},
   "source": [
    "查看某个对象的所有的假设条件"
   ]
  },
  {
   "cell_type": "code",
   "execution_count": 19,
   "metadata": {},
   "outputs": [
    {
     "data": {
      "text/plain": [
       "{'positive': True,\n",
       " 'zero': False,\n",
       " 'nonnegative': True,\n",
       " 'complex': True,\n",
       " 'commutative': True,\n",
       " 'nonpositive': False,\n",
       " 'hermitian': True,\n",
       " 'real': True,\n",
       " 'nonzero': True,\n",
       " 'imaginary': False,\n",
       " 'negative': False}"
      ]
     },
     "execution_count": 19,
     "metadata": {},
     "output_type": "execute_result"
    }
   ],
   "source": [
    "x.assumptions0"
   ]
  },
  {
   "cell_type": "markdown",
   "metadata": {},
   "source": [
    "Sympy中的所有对象的基类(超类,父类)都是Basic"
   ]
  },
  {
   "cell_type": "code",
   "execution_count": 20,
   "metadata": {},
   "outputs": [
    {
     "data": {
      "text/plain": [
       "[sympy.core.symbol.Symbol,\n",
       " sympy.core.expr.AtomicExpr,\n",
       " sympy.core.basic.Atom,\n",
       " sympy.core.expr.Expr,\n",
       " sympy.logic.boolalg.Boolean,\n",
       " sympy.core.basic.Basic,\n",
       " sympy.core.evalf.EvalfMixin,\n",
       " object]"
      ]
     },
     "execution_count": 20,
     "metadata": {},
     "output_type": "execute_result"
    }
   ],
   "source": [
    "Symbol.mro()"
   ]
  },
  {
   "cell_type": "markdown",
   "metadata": {},
   "source": [
    "### 数值"
   ]
  },
  {
   "cell_type": "markdown",
   "metadata": {},
   "source": [
    "**S对象**: 将Python中的数值对象转换为SymPy符号对象;"
   ]
  },
  {
   "cell_type": "code",
   "execution_count": 21,
   "metadata": {},
   "outputs": [
    {
     "name": "stdout",
     "output_type": "stream",
     "text": [
      "    1/2 + 1/3       S(1)/2 + 1/S(3)\n",
      "------------------  ---------------\n",
      "0.8333333333333333  5/6            \n"
     ]
    }
   ],
   "source": [
    "%C 1/2 + 1/3; S(1)/2 + 1/S(3) "
   ]
  },
  {
   "cell_type": "markdown",
   "metadata": {},
   "source": [
    "有理数(Rational)对象"
   ]
  },
  {
   "cell_type": "code",
   "execution_count": 22,
   "metadata": {},
   "outputs": [
    {
     "data": {
      "text/plain": [
       "sympy.core.numbers.Rational"
      ]
     },
     "execution_count": 22,
     "metadata": {},
     "output_type": "execute_result"
    }
   ],
   "source": [
    "type(S(5)/6)"
   ]
  },
  {
   "cell_type": "code",
   "execution_count": 23,
   "metadata": {},
   "outputs": [
    {
     "data": {
      "image/png": "[encoded data removed]",
      "text/latex": [
       "$$\\frac{1}{2}$$"
      ],
      "text/plain": [
       "1/2"
      ]
     },
     "execution_count": 23,
     "metadata": {},
     "output_type": "execute_result"
    }
   ],
   "source": [
    "Rational(5, 10) # 有理数会自动进行约分处理"
   ]
  },
  {
   "cell_type": "markdown",
   "metadata": {},
   "source": [
    "N(): 查看符号浮点数(Float)对象的实际数值"
   ]
  },
  {
   "cell_type": "code",
   "execution_count": 24,
   "metadata": {},
   "outputs": [
    {
     "name": "stdout",
     "output_type": "stream",
     "text": [
      "N(0.1, 60): 0.100000000000000005551115123125782702118158340454101562500000,    \n",
      "N(10000.1, 60): 10000.1000000000003637978807091712951660156250000000000000000,    \n"
     ]
    }
   ],
   "source": [
    "%P N(0.1, 60);;N(10000.1, 60)"
   ]
  },
  {
   "cell_type": "code",
   "execution_count": 25,
   "metadata": {},
   "outputs": [
    {
     "data": {
      "image/png": "[encoded data removed]",
      "text/latex": [
       "$$0.1000000000000000055511151231257827021181583404541015625$$"
      ],
      "text/plain": [
       "0.100000000000000005551115123125782702118158340454101562500000"
      ]
     },
     "execution_count": 25,
     "metadata": {},
     "output_type": "execute_result"
    }
   ],
   "source": [
    "#用浮点数(0.1)创建Real对象时, Real对象的精度和浮点数相同\n",
    "N(Float(0.1, 60), 60)"
   ]
  },
  {
   "cell_type": "code",
   "execution_count": 26,
   "metadata": {},
   "outputs": [
    {
     "data": {
      "image/png": "[encoded data removed]",
      "text/latex": [
       "$$0.1$$"
      ],
      "text/plain": [
       "0.100000000000000000000000000000000000000000000000000000000000"
      ]
     },
     "execution_count": 26,
     "metadata": {},
     "output_type": "execute_result"
    }
   ],
   "source": [
    "#使用字符串创建Real对象, Real对象具有'完全精度'\n",
    "N(Float(\"0.1\", 60), 60) "
   ]
  },
  {
   "cell_type": "code",
   "execution_count": 27,
   "metadata": {},
   "outputs": [
    {
     "data": {
      "image/png": "[encoded data removed]",
      "text/latex": [
       "$$0.099999999999999999999999999999999999999999999999999999999999996111$$"
      ],
      "text/plain": [
       "0.099999999999999999999999999999999999999999999999999999999999996111"
      ]
     },
     "execution_count": 27,
     "metadata": {},
     "output_type": "execute_result"
    }
   ],
   "source": [
    "#精度再高，也不是完全精确的\n",
    "N(Float(\"0.1\", 60), 65) "
   ]
  },
  {
   "cell_type": "markdown",
   "metadata": {},
   "source": [
    "N()还可以将数值算式按照指定精度转化为Float对象"
   ]
  },
  {
   "cell_type": "code",
   "execution_count": 28,
   "metadata": {},
   "outputs": [
    {
     "data": {
      "image/png": "[encoded data removed]",
      "text/latex": [
       "$$3.141592653589793115997963468544185161590576171875$$"
      ],
      "text/plain": [
       "3.1415926535897931159979634685441851615905761718750"
      ]
     },
     "execution_count": 28,
     "metadata": {},
     "output_type": "execute_result"
    }
   ],
   "source": [
    "N(np.pi, 50)"
   ]
  },
  {
   "cell_type": "code",
   "execution_count": 29,
   "metadata": {},
   "outputs": [
    {
     "data": {
      "image/png": "[encoded data removed]",
      "text/latex": [
       "$$1.4142135623730949234300169337075203657150268554688$$"
      ],
      "text/plain": [
       "1.4142135623730949234300169337075203657150268554688"
      ]
     },
     "execution_count": 29,
     "metadata": {},
     "output_type": "execute_result"
    }
   ],
   "source": [
    "N(np.sqrt(2), 50)"
   ]
  },
  {
   "cell_type": "markdown",
   "metadata": {},
   "source": [
    "### 运算符和函数"
   ]
  },
  {
   "cell_type": "markdown",
   "metadata": {},
   "source": [
    "Sympy中重新定义了所有的数学运算符和数学函数:  \n",
    "加法(Add), 乘法(Mul), 指数运算(Pow), 正弦函数(sin类);"
   ]
  },
  {
   "cell_type": "markdown",
   "metadata": {},
   "source": [
    "使用Sympy中的\"重定义类\"创建数学表达式(任意复杂的):"
   ]
  },
  {
   "cell_type": "code",
   "execution_count": 30,
   "metadata": {},
   "outputs": [
    {
     "data": {
      "image/png": "[encoded data removed]",
      "text/latex": [
       "$$x + y + z$$"
      ],
      "text/plain": [
       "x + y + z"
      ]
     },
     "execution_count": 30,
     "metadata": {},
     "output_type": "execute_result"
    }
   ],
   "source": [
    "var(\"x, y, z\")\n",
    "Add(x, y, z)"
   ]
  },
  {
   "cell_type": "code",
   "execution_count": 31,
   "metadata": {},
   "outputs": [
    {
     "data": {
      "image/png": "[encoded data removed]",
      "text/latex": [
       "$$x y z + x^{y} + \\sin{\\left (z \\right )}$$"
      ],
      "text/plain": [
       "         y         \n",
       "x⋅y⋅z + x  + sin(z)"
      ]
     },
     "execution_count": 31,
     "metadata": {},
     "output_type": "execute_result"
    }
   ],
   "source": [
    "Add(Mul(x, y, z), Pow(x, y), sin(z))"
   ]
  },
  {
   "cell_type": "markdown",
   "metadata": {},
   "source": [
    "可以使用与Python表达式相同的方式创建符号表达式:   \n",
    "因为, Basic类中重新定义了`__add__()`等操作相关的魔法命令;"
   ]
  },
  {
   "cell_type": "code",
   "execution_count": 32,
   "metadata": {},
   "outputs": [
    {
     "data": {
      "image/png": "[encoded data removed]",
      "text/latex": [
       "$$x y z + x^{y} + \\sin{\\left (z \\right )}$$"
      ],
      "text/plain": [
       "         y         \n",
       "x⋅y⋅z + x  + sin(z)"
      ]
     },
     "execution_count": 32,
     "metadata": {},
     "output_type": "execute_result"
    }
   ],
   "source": [
    "x*y*z + x**y + sin(z)"
   ]
  },
  {
   "cell_type": "markdown",
   "metadata": {},
   "source": [
    "latex()函数可以同时处理以上两种字符串形式"
   ]
  },
  {
   "cell_type": "code",
   "execution_count": 33,
   "metadata": {},
   "outputs": [
    {
     "data": {
      "text/plain": [
       "'x y z + x^{y} + \\\\sin{\\\\left (z \\\\right )}'"
      ]
     },
     "execution_count": 33,
     "metadata": {},
     "output_type": "execute_result"
    }
   ],
   "source": [
    "latex(Add(Mul(x, y, z), Pow(x, y), sin(z)))"
   ]
  },
  {
   "cell_type": "code",
   "execution_count": 34,
   "metadata": {},
   "outputs": [
    {
     "data": {
      "text/plain": [
       "'x y z + x^{y} + \\\\sin{\\\\left (z \\\\right )}'"
      ]
     },
     "execution_count": 34,
     "metadata": {},
     "output_type": "execute_result"
    }
   ],
   "source": [
    "latex(x*y*z + x**y + sin(z))"
   ]
  },
  {
   "cell_type": "markdown",
   "metadata": {},
   "source": [
    "观察Sympy表达式:  \n",
    "* func属性可以查看符号对象所属的类;\n",
    "* args属性可以查看所属类的参数;"
   ]
  },
  {
   "cell_type": "markdown",
   "metadata": {},
   "source": [
    "查看表达式的层次结构: 除法被当成指数运算"
   ]
  },
  {
   "cell_type": "code",
   "execution_count": 35,
   "metadata": {
    "scrolled": true
   },
   "outputs": [
    {
     "data": {
      "image/png": "[encoded data removed]",
      "text/latex": [
       "$$\\frac{x y \\sqrt{x^{2} - y^{2}}}{x + y}$$"
      ],
      "text/plain": [
       "       _________\n",
       "      ╱  2    2 \n",
       "x⋅y⋅╲╱  x  - y  \n",
       "────────────────\n",
       "     x + y      "
      ]
     },
     "execution_count": 35,
     "metadata": {},
     "output_type": "execute_result"
    }
   ],
   "source": [
    "from sympy.printing.dot import dotprint\n",
    "symstr = x * y * sqrt(x ** 2 - y ** 2) / (x + y)\n",
    "symstr"
   ]
  },
  {
   "cell_type": "code",
   "execution_count": 36,
   "metadata": {},
   "outputs": [
    {
     "data": {
      "image/svg+xml": [
       "<?xml version=\"1.0\" encoding=\"UTF-8\" standalone=\"no\"?>\r\n",
       "<!DOCTYPE svg PUBLIC \"-//W3C//DTD SVG 1.1//EN\"\r\n",
       " \"http://www.w3.org/Graphics/SVG/1.1/DTD/svg11.dtd\">\r\n",
       "<!-- Generated by graphviz version 2.38.0 (20140413.2041)\r\n",
       " -->\r\n",
       "<!-- Title: %3 Pages: 1 -->\r\n",
       "<svg width=\"440pt\" height=\"404pt\"\r\n",
       " viewBox=\"0.00 0.00 440.00 404.00\" xmlns=\"http://www.w3.org/2000/svg\" xmlns:xlink=\"http://www.w3.org/1999/xlink\">\r\n",
       "<g id=\"graph0\" class=\"graph\" transform=\"scale(1 1) rotate(0) translate(4 400)\">\r\n",
       "<title>%3</title>\r\n",
       "<polygon fill=\"white\" stroke=\"none\" points=\"-4,4 -4,-400 436,-400 436,4 -4,4\"/>\r\n",
       "<!-- Mul(Symbol(x), Symbol(y), Pow(Add(Symbol(x), Symbol(y)), NegativeOne()), Pow(Add(Pow(Symbol(x), Integer(2)), Mul(NegativeOne(), Pow(Symbol(y), Integer(2)))), Half()))_() -->\r\n",
       "<g id=\"node1\" class=\"node\"><title>Mul(Symbol(x), Symbol(y), Pow(Add(Symbol(x), Symbol(y)), NegativeOne()), Pow(Add(Pow(Symbol(x), Integer(2)), Mul(NegativeOne(), Pow(Symbol(y), Integer(2)))), Half()))_()</title>\r\n",
       "<ellipse fill=\"none\" stroke=\"black\" cx=\"135\" cy=\"-378\" rx=\"27\" ry=\"18\"/>\r\n",
       "<text text-anchor=\"middle\" x=\"135\" y=\"-374.3\" font-family=\"Times New Roman,serif\" font-size=\"14.00\">Mul</text>\r\n",
       "</g>\r\n",
       "<!-- Symbol(x)_(0,) -->\r\n",
       "<g id=\"node2\" class=\"node\"><title>Symbol(x)_(0,)</title>\r\n",
       "<ellipse fill=\"none\" stroke=\"black\" cx=\"27\" cy=\"-306\" rx=\"27\" ry=\"18\"/>\r\n",
       "<text text-anchor=\"middle\" x=\"27\" y=\"-302.3\" font-family=\"Times New Roman,serif\" font-size=\"14.00\">x</text>\r\n",
       "</g>\r\n",
       "<!-- Mul(Symbol(x), Symbol(y), Pow(Add(Symbol(x), Symbol(y)), NegativeOne()), Pow(Add(Pow(Symbol(x), Integer(2)), Mul(NegativeOne(), Pow(Symbol(y), Integer(2)))), Half()))_()&#45;&gt;Symbol(x)_(0,) -->\r\n",
       "<g id=\"edge1\" class=\"edge\"><title>Mul(Symbol(x), Symbol(y), Pow(Add(Symbol(x), Symbol(y)), NegativeOne()), Pow(Add(Pow(Symbol(x), Integer(2)), Mul(NegativeOne(), Pow(Symbol(y), Integer(2)))), Half()))_()&#45;&gt;Symbol(x)_(0,)</title>\r\n",
       "<path fill=\"none\" stroke=\"black\" d=\"M116.188,-364.807C98.9979,-353.665 73.3816,-337.062 54.0067,-324.504\"/>\r\n",
       "<polygon fill=\"black\" stroke=\"black\" points=\"55.8918,-321.555 45.5966,-319.053 52.0845,-327.429 55.8918,-321.555\"/>\r\n",
       "</g>\r\n",
       "<!-- Symbol(y)_(1,) -->\r\n",
       "<g id=\"node3\" class=\"node\"><title>Symbol(y)_(1,)</title>\r\n",
       "<ellipse fill=\"none\" stroke=\"black\" cx=\"99\" cy=\"-306\" rx=\"27\" ry=\"18\"/>\r\n",
       "<text text-anchor=\"middle\" x=\"99\" y=\"-302.3\" font-family=\"Times New Roman,serif\" font-size=\"14.00\">y</text>\r\n",
       "</g>\r\n",
       "<!-- Mul(Symbol(x), Symbol(y), Pow(Add(Symbol(x), Symbol(y)), NegativeOne()), Pow(Add(Pow(Symbol(x), Integer(2)), Mul(NegativeOne(), Pow(Symbol(y), Integer(2)))), Half()))_()&#45;&gt;Symbol(y)_(1,) -->\r\n",
       "<g id=\"edge2\" class=\"edge\"><title>Mul(Symbol(x), Symbol(y), Pow(Add(Symbol(x), Symbol(y)), NegativeOne()), Pow(Add(Pow(Symbol(x), Integer(2)), Mul(NegativeOne(), Pow(Symbol(y), Integer(2)))), Half()))_()&#45;&gt;Symbol(y)_(1,)</title>\r\n",
       "<path fill=\"none\" stroke=\"black\" d=\"M126.65,-360.765C122.288,-352.283 116.853,-341.714 111.959,-332.197\"/>\r\n",
       "<polygon fill=\"black\" stroke=\"black\" points=\"114.99,-330.439 107.304,-323.147 108.765,-333.641 114.99,-330.439\"/>\r\n",
       "</g>\r\n",
       "<!-- Pow(Add(Symbol(x), Symbol(y)), NegativeOne())_(2,) -->\r\n",
       "<g id=\"node4\" class=\"node\"><title>Pow(Add(Symbol(x), Symbol(y)), NegativeOne())_(2,)</title>\r\n",
       "<ellipse fill=\"none\" stroke=\"black\" cx=\"171\" cy=\"-306\" rx=\"27.0966\" ry=\"18\"/>\r\n",
       "<text text-anchor=\"middle\" x=\"171\" y=\"-302.3\" font-family=\"Times New Roman,serif\" font-size=\"14.00\">Pow</text>\r\n",
       "</g>\r\n",
       "<!-- Mul(Symbol(x), Symbol(y), Pow(Add(Symbol(x), Symbol(y)), NegativeOne()), Pow(Add(Pow(Symbol(x), Integer(2)), Mul(NegativeOne(), Pow(Symbol(y), Integer(2)))), Half()))_()&#45;&gt;Pow(Add(Symbol(x), Symbol(y)), NegativeOne())_(2,) -->\r\n",
       "<g id=\"edge3\" class=\"edge\"><title>Mul(Symbol(x), Symbol(y), Pow(Add(Symbol(x), Symbol(y)), NegativeOne()), Pow(Add(Pow(Symbol(x), Integer(2)), Mul(NegativeOne(), Pow(Symbol(y), Integer(2)))), Half()))_()&#45;&gt;Pow(Add(Symbol(x), Symbol(y)), NegativeOne())_(2,)</title>\r\n",
       "<path fill=\"none\" stroke=\"black\" d=\"M143.35,-360.765C147.712,-352.283 153.147,-341.714 158.041,-332.197\"/>\r\n",
       "<polygon fill=\"black\" stroke=\"black\" points=\"161.235,-333.641 162.696,-323.147 155.01,-330.439 161.235,-333.641\"/>\r\n",
       "</g>\r\n",
       "<!-- Pow(Add(Pow(Symbol(x), Integer(2)), Mul(NegativeOne(), Pow(Symbol(y), Integer(2)))), Half())_(3,) -->\r\n",
       "<g id=\"node9\" class=\"node\"><title>Pow(Add(Pow(Symbol(x), Integer(2)), Mul(NegativeOne(), Pow(Symbol(y), Integer(2)))), Half())_(3,)</title>\r\n",
       "<ellipse fill=\"none\" stroke=\"black\" cx=\"244\" cy=\"-306\" rx=\"27.0966\" ry=\"18\"/>\r\n",
       "<text text-anchor=\"middle\" x=\"244\" y=\"-302.3\" font-family=\"Times New Roman,serif\" font-size=\"14.00\">Pow</text>\r\n",
       "</g>\r\n",
       "<!-- Mul(Symbol(x), Symbol(y), Pow(Add(Symbol(x), Symbol(y)), NegativeOne()), Pow(Add(Pow(Symbol(x), Integer(2)), Mul(NegativeOne(), Pow(Symbol(y), Integer(2)))), Half()))_()&#45;&gt;Pow(Add(Pow(Symbol(x), Integer(2)), Mul(NegativeOne(), Pow(Symbol(y), Integer(2)))), Half())_(3,) -->\r\n",
       "<g id=\"edge4\" class=\"edge\"><title>Mul(Symbol(x), Symbol(y), Pow(Add(Symbol(x), Symbol(y)), NegativeOne()), Pow(Add(Pow(Symbol(x), Integer(2)), Mul(NegativeOne(), Pow(Symbol(y), Integer(2)))), Half()))_()&#45;&gt;Pow(Add(Pow(Symbol(x), Integer(2)), Mul(NegativeOne(), Pow(Symbol(y), Integer(2)))), Half())_(3,)</title>\r\n",
       "<path fill=\"none\" stroke=\"black\" d=\"M153.986,-364.807C171.23,-353.733 196.874,-337.264 216.385,-324.735\"/>\r\n",
       "<polygon fill=\"black\" stroke=\"black\" points=\"218.342,-327.637 224.865,-319.288 214.56,-321.747 218.342,-327.637\"/>\r\n",
       "</g>\r\n",
       "<!-- Add(Symbol(x), Symbol(y))_(2, 0) -->\r\n",
       "<g id=\"node5\" class=\"node\"><title>Add(Symbol(x), Symbol(y))_(2, 0)</title>\r\n",
       "<ellipse fill=\"none\" stroke=\"black\" cx=\"99\" cy=\"-234\" rx=\"27\" ry=\"18\"/>\r\n",
       "<text text-anchor=\"middle\" x=\"99\" y=\"-230.3\" font-family=\"Times New Roman,serif\" font-size=\"14.00\">Add</text>\r\n",
       "</g>\r\n",
       "<!-- Pow(Add(Symbol(x), Symbol(y)), NegativeOne())_(2,)&#45;&gt;Add(Symbol(x), Symbol(y))_(2, 0) -->\r\n",
       "<g id=\"edge5\" class=\"edge\"><title>Pow(Add(Symbol(x), Symbol(y)), NegativeOne())_(2,)&#45;&gt;Add(Symbol(x), Symbol(y))_(2, 0)</title>\r\n",
       "<path fill=\"none\" stroke=\"black\" d=\"M156.082,-290.496C146.042,-280.735 132.624,-267.69 121.32,-256.7\"/>\r\n",
       "<polygon fill=\"black\" stroke=\"black\" points=\"123.509,-253.947 113.899,-249.485 118.63,-258.966 123.509,-253.947\"/>\r\n",
       "</g>\r\n",
       "<!-- NegativeOne()_(2, 1) -->\r\n",
       "<g id=\"node8\" class=\"node\"><title>NegativeOne()_(2, 1)</title>\r\n",
       "<ellipse fill=\"none\" stroke=\"black\" cx=\"171\" cy=\"-234\" rx=\"27\" ry=\"18\"/>\r\n",
       "<text text-anchor=\"middle\" x=\"171\" y=\"-230.3\" font-family=\"Times New Roman,serif\" font-size=\"14.00\">&#45;1</text>\r\n",
       "</g>\r\n",
       "<!-- Pow(Add(Symbol(x), Symbol(y)), NegativeOne())_(2,)&#45;&gt;NegativeOne()_(2, 1) -->\r\n",
       "<g id=\"edge6\" class=\"edge\"><title>Pow(Add(Symbol(x), Symbol(y)), NegativeOne())_(2,)&#45;&gt;NegativeOne()_(2, 1)</title>\r\n",
       "<path fill=\"none\" stroke=\"black\" d=\"M171,-287.697C171,-279.983 171,-270.712 171,-262.112\"/>\r\n",
       "<polygon fill=\"black\" stroke=\"black\" points=\"174.5,-262.104 171,-252.104 167.5,-262.104 174.5,-262.104\"/>\r\n",
       "</g>\r\n",
       "<!-- Symbol(x)_(2, 0, 0) -->\r\n",
       "<g id=\"node6\" class=\"node\"><title>Symbol(x)_(2, 0, 0)</title>\r\n",
       "<ellipse fill=\"none\" stroke=\"black\" cx=\"45\" cy=\"-162\" rx=\"27\" ry=\"18\"/>\r\n",
       "<text text-anchor=\"middle\" x=\"45\" y=\"-158.3\" font-family=\"Times New Roman,serif\" font-size=\"14.00\">x</text>\r\n",
       "</g>\r\n",
       "<!-- Add(Symbol(x), Symbol(y))_(2, 0)&#45;&gt;Symbol(x)_(2, 0, 0) -->\r\n",
       "<g id=\"edge7\" class=\"edge\"><title>Add(Symbol(x), Symbol(y))_(2, 0)&#45;&gt;Symbol(x)_(2, 0, 0)</title>\r\n",
       "<path fill=\"none\" stroke=\"black\" d=\"M87.0156,-217.465C80.0245,-208.402 71.0638,-196.786 63.2149,-186.612\"/>\r\n",
       "<polygon fill=\"black\" stroke=\"black\" points=\"65.8302,-184.272 56.9508,-178.492 60.2877,-188.548 65.8302,-184.272\"/>\r\n",
       "</g>\r\n",
       "<!-- Symbol(y)_(2, 0, 1) -->\r\n",
       "<g id=\"node7\" class=\"node\"><title>Symbol(y)_(2, 0, 1)</title>\r\n",
       "<ellipse fill=\"none\" stroke=\"black\" cx=\"117\" cy=\"-162\" rx=\"27\" ry=\"18\"/>\r\n",
       "<text text-anchor=\"middle\" x=\"117\" y=\"-158.3\" font-family=\"Times New Roman,serif\" font-size=\"14.00\">y</text>\r\n",
       "</g>\r\n",
       "<!-- Add(Symbol(x), Symbol(y))_(2, 0)&#45;&gt;Symbol(y)_(2, 0, 1) -->\r\n",
       "<g id=\"edge8\" class=\"edge\"><title>Add(Symbol(x), Symbol(y))_(2, 0)&#45;&gt;Symbol(y)_(2, 0, 1)</title>\r\n",
       "<path fill=\"none\" stroke=\"black\" d=\"M103.357,-216.055C105.391,-208.145 107.861,-198.54 110.137,-189.688\"/>\r\n",
       "<polygon fill=\"black\" stroke=\"black\" points=\"113.582,-190.346 112.683,-179.789 106.803,-188.602 113.582,-190.346\"/>\r\n",
       "</g>\r\n",
       "<!-- Add(Pow(Symbol(x), Integer(2)), Mul(NegativeOne(), Pow(Symbol(y), Integer(2))))_(3, 0) -->\r\n",
       "<g id=\"node10\" class=\"node\"><title>Add(Pow(Symbol(x), Integer(2)), Mul(NegativeOne(), Pow(Symbol(y), Integer(2))))_(3, 0)</title>\r\n",
       "<ellipse fill=\"none\" stroke=\"black\" cx=\"243\" cy=\"-234\" rx=\"27\" ry=\"18\"/>\r\n",
       "<text text-anchor=\"middle\" x=\"243\" y=\"-230.3\" font-family=\"Times New Roman,serif\" font-size=\"14.00\">Add</text>\r\n",
       "</g>\r\n",
       "<!-- Pow(Add(Pow(Symbol(x), Integer(2)), Mul(NegativeOne(), Pow(Symbol(y), Integer(2)))), Half())_(3,)&#45;&gt;Add(Pow(Symbol(x), Integer(2)), Mul(NegativeOne(), Pow(Symbol(y), Integer(2))))_(3, 0) -->\r\n",
       "<g id=\"edge9\" class=\"edge\"><title>Pow(Add(Pow(Symbol(x), Integer(2)), Mul(NegativeOne(), Pow(Symbol(y), Integer(2)))), Half())_(3,)&#45;&gt;Add(Pow(Symbol(x), Integer(2)), Mul(NegativeOne(), Pow(Symbol(y), Integer(2))))_(3, 0)</title>\r\n",
       "<path fill=\"none\" stroke=\"black\" d=\"M243.753,-287.697C243.643,-279.983 243.51,-270.712 243.387,-262.112\"/>\r\n",
       "<polygon fill=\"black\" stroke=\"black\" points=\"246.887,-262.053 243.244,-252.104 239.888,-262.153 246.887,-262.053\"/>\r\n",
       "</g>\r\n",
       "<!-- Half()_(3, 1) -->\r\n",
       "<g id=\"node19\" class=\"node\"><title>Half()_(3, 1)</title>\r\n",
       "<ellipse fill=\"none\" stroke=\"black\" cx=\"315\" cy=\"-234\" rx=\"27\" ry=\"18\"/>\r\n",
       "<text text-anchor=\"middle\" x=\"315\" y=\"-230.3\" font-family=\"Times New Roman,serif\" font-size=\"14.00\">1/2</text>\r\n",
       "</g>\r\n",
       "<!-- Pow(Add(Pow(Symbol(x), Integer(2)), Mul(NegativeOne(), Pow(Symbol(y), Integer(2)))), Half())_(3,)&#45;&gt;Half()_(3, 1) -->\r\n",
       "<g id=\"edge10\" class=\"edge\"><title>Pow(Add(Pow(Symbol(x), Integer(2)), Mul(NegativeOne(), Pow(Symbol(y), Integer(2)))), Half())_(3,)&#45;&gt;Half()_(3, 1)</title>\r\n",
       "<path fill=\"none\" stroke=\"black\" d=\"M258.711,-290.496C268.612,-280.735 281.843,-267.69 292.99,-256.7\"/>\r\n",
       "<polygon fill=\"black\" stroke=\"black\" points=\"295.644,-258.999 300.308,-249.485 290.729,-254.014 295.644,-258.999\"/>\r\n",
       "</g>\r\n",
       "<!-- Pow(Symbol(x), Integer(2))_(3, 0, 0) -->\r\n",
       "<g id=\"node11\" class=\"node\"><title>Pow(Symbol(x), Integer(2))_(3, 0, 0)</title>\r\n",
       "<ellipse fill=\"none\" stroke=\"black\" cx=\"225\" cy=\"-162\" rx=\"27.0966\" ry=\"18\"/>\r\n",
       "<text text-anchor=\"middle\" x=\"225\" y=\"-158.3\" font-family=\"Times New Roman,serif\" font-size=\"14.00\">Pow</text>\r\n",
       "</g>\r\n",
       "<!-- Add(Pow(Symbol(x), Integer(2)), Mul(NegativeOne(), Pow(Symbol(y), Integer(2))))_(3, 0)&#45;&gt;Pow(Symbol(x), Integer(2))_(3, 0, 0) -->\r\n",
       "<g id=\"edge11\" class=\"edge\"><title>Add(Pow(Symbol(x), Integer(2)), Mul(NegativeOne(), Pow(Symbol(y), Integer(2))))_(3, 0)&#45;&gt;Pow(Symbol(x), Integer(2))_(3, 0, 0)</title>\r\n",
       "<path fill=\"none\" stroke=\"black\" d=\"M238.643,-216.055C236.609,-208.145 234.139,-198.54 231.863,-189.688\"/>\r\n",
       "<polygon fill=\"black\" stroke=\"black\" points=\"235.197,-188.602 229.317,-179.789 228.418,-190.346 235.197,-188.602\"/>\r\n",
       "</g>\r\n",
       "<!-- Mul(NegativeOne(), Pow(Symbol(y), Integer(2)))_(3, 0, 1) -->\r\n",
       "<g id=\"node14\" class=\"node\"><title>Mul(NegativeOne(), Pow(Symbol(y), Integer(2)))_(3, 0, 1)</title>\r\n",
       "<ellipse fill=\"none\" stroke=\"black\" cx=\"297\" cy=\"-162\" rx=\"27\" ry=\"18\"/>\r\n",
       "<text text-anchor=\"middle\" x=\"297\" y=\"-158.3\" font-family=\"Times New Roman,serif\" font-size=\"14.00\">Mul</text>\r\n",
       "</g>\r\n",
       "<!-- Add(Pow(Symbol(x), Integer(2)), Mul(NegativeOne(), Pow(Symbol(y), Integer(2))))_(3, 0)&#45;&gt;Mul(NegativeOne(), Pow(Symbol(y), Integer(2)))_(3, 0, 1) -->\r\n",
       "<g id=\"edge12\" class=\"edge\"><title>Add(Pow(Symbol(x), Integer(2)), Mul(NegativeOne(), Pow(Symbol(y), Integer(2))))_(3, 0)&#45;&gt;Mul(NegativeOne(), Pow(Symbol(y), Integer(2)))_(3, 0, 1)</title>\r\n",
       "<path fill=\"none\" stroke=\"black\" d=\"M254.984,-217.465C261.976,-208.402 270.936,-196.786 278.785,-186.612\"/>\r\n",
       "<polygon fill=\"black\" stroke=\"black\" points=\"281.712,-188.548 285.049,-178.492 276.17,-184.272 281.712,-188.548\"/>\r\n",
       "</g>\r\n",
       "<!-- Symbol(x)_(3, 0, 0, 0) -->\r\n",
       "<g id=\"node12\" class=\"node\"><title>Symbol(x)_(3, 0, 0, 0)</title>\r\n",
       "<ellipse fill=\"none\" stroke=\"black\" cx=\"153\" cy=\"-90\" rx=\"27\" ry=\"18\"/>\r\n",
       "<text text-anchor=\"middle\" x=\"153\" y=\"-86.3\" font-family=\"Times New Roman,serif\" font-size=\"14.00\">x</text>\r\n",
       "</g>\r\n",
       "<!-- Pow(Symbol(x), Integer(2))_(3, 0, 0)&#45;&gt;Symbol(x)_(3, 0, 0, 0) -->\r\n",
       "<g id=\"edge13\" class=\"edge\"><title>Pow(Symbol(x), Integer(2))_(3, 0, 0)&#45;&gt;Symbol(x)_(3, 0, 0, 0)</title>\r\n",
       "<path fill=\"none\" stroke=\"black\" d=\"M210.082,-146.496C200.042,-136.735 186.624,-123.69 175.32,-112.7\"/>\r\n",
       "<polygon fill=\"black\" stroke=\"black\" points=\"177.509,-109.947 167.899,-105.485 172.63,-114.966 177.509,-109.947\"/>\r\n",
       "</g>\r\n",
       "<!-- Integer(2)_(3, 0, 0, 1) -->\r\n",
       "<g id=\"node13\" class=\"node\"><title>Integer(2)_(3, 0, 0, 1)</title>\r\n",
       "<ellipse fill=\"none\" stroke=\"black\" cx=\"225\" cy=\"-90\" rx=\"27\" ry=\"18\"/>\r\n",
       "<text text-anchor=\"middle\" x=\"225\" y=\"-86.3\" font-family=\"Times New Roman,serif\" font-size=\"14.00\">2</text>\r\n",
       "</g>\r\n",
       "<!-- Pow(Symbol(x), Integer(2))_(3, 0, 0)&#45;&gt;Integer(2)_(3, 0, 0, 1) -->\r\n",
       "<g id=\"edge14\" class=\"edge\"><title>Pow(Symbol(x), Integer(2))_(3, 0, 0)&#45;&gt;Integer(2)_(3, 0, 0, 1)</title>\r\n",
       "<path fill=\"none\" stroke=\"black\" d=\"M225,-143.697C225,-135.983 225,-126.712 225,-118.112\"/>\r\n",
       "<polygon fill=\"black\" stroke=\"black\" points=\"228.5,-118.104 225,-108.104 221.5,-118.104 228.5,-118.104\"/>\r\n",
       "</g>\r\n",
       "<!-- NegativeOne()_(3, 0, 1, 0) -->\r\n",
       "<g id=\"node15\" class=\"node\"><title>NegativeOne()_(3, 0, 1, 0)</title>\r\n",
       "<ellipse fill=\"none\" stroke=\"black\" cx=\"297\" cy=\"-90\" rx=\"27\" ry=\"18\"/>\r\n",
       "<text text-anchor=\"middle\" x=\"297\" y=\"-86.3\" font-family=\"Times New Roman,serif\" font-size=\"14.00\">&#45;1</text>\r\n",
       "</g>\r\n",
       "<!-- Mul(NegativeOne(), Pow(Symbol(y), Integer(2)))_(3, 0, 1)&#45;&gt;NegativeOne()_(3, 0, 1, 0) -->\r\n",
       "<g id=\"edge15\" class=\"edge\"><title>Mul(NegativeOne(), Pow(Symbol(y), Integer(2)))_(3, 0, 1)&#45;&gt;NegativeOne()_(3, 0, 1, 0)</title>\r\n",
       "<path fill=\"none\" stroke=\"black\" d=\"M297,-143.697C297,-135.983 297,-126.712 297,-118.112\"/>\r\n",
       "<polygon fill=\"black\" stroke=\"black\" points=\"300.5,-118.104 297,-108.104 293.5,-118.104 300.5,-118.104\"/>\r\n",
       "</g>\r\n",
       "<!-- Pow(Symbol(y), Integer(2))_(3, 0, 1, 1) -->\r\n",
       "<g id=\"node16\" class=\"node\"><title>Pow(Symbol(y), Integer(2))_(3, 0, 1, 1)</title>\r\n",
       "<ellipse fill=\"none\" stroke=\"black\" cx=\"369\" cy=\"-90\" rx=\"27.0966\" ry=\"18\"/>\r\n",
       "<text text-anchor=\"middle\" x=\"369\" y=\"-86.3\" font-family=\"Times New Roman,serif\" font-size=\"14.00\">Pow</text>\r\n",
       "</g>\r\n",
       "<!-- Mul(NegativeOne(), Pow(Symbol(y), Integer(2)))_(3, 0, 1)&#45;&gt;Pow(Symbol(y), Integer(2))_(3, 0, 1, 1) -->\r\n",
       "<g id=\"edge16\" class=\"edge\"><title>Mul(NegativeOne(), Pow(Symbol(y), Integer(2)))_(3, 0, 1)&#45;&gt;Pow(Symbol(y), Integer(2))_(3, 0, 1, 1)</title>\r\n",
       "<path fill=\"none\" stroke=\"black\" d=\"M311.57,-146.834C321.75,-136.938 335.524,-123.546 347.031,-112.359\"/>\r\n",
       "<polygon fill=\"black\" stroke=\"black\" points=\"349.474,-114.865 354.204,-105.385 344.595,-109.846 349.474,-114.865\"/>\r\n",
       "</g>\r\n",
       "<!-- Symbol(y)_(3, 0, 1, 1, 0) -->\r\n",
       "<g id=\"node17\" class=\"node\"><title>Symbol(y)_(3, 0, 1, 1, 0)</title>\r\n",
       "<ellipse fill=\"none\" stroke=\"black\" cx=\"333\" cy=\"-18\" rx=\"27\" ry=\"18\"/>\r\n",
       "<text text-anchor=\"middle\" x=\"333\" y=\"-14.3\" font-family=\"Times New Roman,serif\" font-size=\"14.00\">y</text>\r\n",
       "</g>\r\n",
       "<!-- Pow(Symbol(y), Integer(2))_(3, 0, 1, 1)&#45;&gt;Symbol(y)_(3, 0, 1, 1, 0) -->\r\n",
       "<g id=\"edge17\" class=\"edge\"><title>Pow(Symbol(y), Integer(2))_(3, 0, 1, 1)&#45;&gt;Symbol(y)_(3, 0, 1, 1, 0)</title>\r\n",
       "<path fill=\"none\" stroke=\"black\" d=\"M360.65,-72.7646C356.288,-64.2831 350.853,-53.7144 345.959,-44.1974\"/>\r\n",
       "<polygon fill=\"black\" stroke=\"black\" points=\"348.99,-42.4395 341.304,-35.1473 342.765,-45.6409 348.99,-42.4395\"/>\r\n",
       "</g>\r\n",
       "<!-- Integer(2)_(3, 0, 1, 1, 1) -->\r\n",
       "<g id=\"node18\" class=\"node\"><title>Integer(2)_(3, 0, 1, 1, 1)</title>\r\n",
       "<ellipse fill=\"none\" stroke=\"black\" cx=\"405\" cy=\"-18\" rx=\"27\" ry=\"18\"/>\r\n",
       "<text text-anchor=\"middle\" x=\"405\" y=\"-14.3\" font-family=\"Times New Roman,serif\" font-size=\"14.00\">2</text>\r\n",
       "</g>\r\n",
       "<!-- Pow(Symbol(y), Integer(2))_(3, 0, 1, 1)&#45;&gt;Integer(2)_(3, 0, 1, 1, 1) -->\r\n",
       "<g id=\"edge18\" class=\"edge\"><title>Pow(Symbol(y), Integer(2))_(3, 0, 1, 1)&#45;&gt;Integer(2)_(3, 0, 1, 1, 1)</title>\r\n",
       "<path fill=\"none\" stroke=\"black\" d=\"M377.35,-72.7646C381.712,-64.2831 387.147,-53.7144 392.041,-44.1974\"/>\r\n",
       "<polygon fill=\"black\" stroke=\"black\" points=\"395.235,-45.6409 396.696,-35.1473 389.01,-42.4395 395.235,-45.6409\"/>\r\n",
       "</g>\r\n",
       "</g>\r\n",
       "</svg>\r\n"
      ],
      "text/plain": [
       "<graphviz.files.Source at 0x167b75997b8>"
      ]
     },
     "execution_count": 36,
     "metadata": {},
     "output_type": "execute_result"
    }
   ],
   "source": [
    "# 将表达式打印为dot字符串保存, 然后绘制dot图\n",
    "print(dotprint(symstr),file=open('data/expression-tree.dot','w'))\n",
    "dot2graph('data/expression-tree.dot')"
   ]
  },
  {
   "cell_type": "markdown",
   "metadata": {},
   "source": [
    "Function自定义符号函数, 而不是创建函数符号对象"
   ]
  },
  {
   "cell_type": "code",
   "execution_count": 37,
   "metadata": {
    "scrolled": true
   },
   "outputs": [
    {
     "name": "stdout",
     "output_type": "stream",
     "text": [
      "               type(f)                      type(f_symbol)     \n",
      "-------------------------------------  ------------------------\n",
      "sympy.core.function.UndefinedFunction  sympy.core.symbol.Symbol\n"
     ]
    }
   ],
   "source": [
    "f = Function(\"f\") # f仍然是一个类\n",
    "f_symbol = symbols(\"f2\",clf=Function) #符号对象\n",
    "%C type(f); type(f_symbol)"
   ]
  },
  {
   "cell_type": "markdown",
   "metadata": {},
   "source": [
    "使用f创建一个表达式时, 就相当于创建它的一个实例"
   ]
  },
  {
   "cell_type": "code",
   "execution_count": 38,
   "metadata": {},
   "outputs": [
    {
     "data": {
      "image/png": "[encoded data removed]",
      "text/latex": [
       "$$f{\\left (x,y \\right )}$$"
      ],
      "text/plain": [
       "f(x, y)"
      ]
     },
     "execution_count": 38,
     "metadata": {},
     "output_type": "execute_result"
    }
   ],
   "source": [
    "t = f(x, y)\n",
    "t"
   ]
  },
  {
   "cell_type": "code",
   "execution_count": 39,
   "metadata": {},
   "outputs": [
    {
     "name": "stdout",
     "output_type": "stream",
     "text": [
      "type(t)  t.func  t.args\n",
      "-------  ------  ------\n",
      "f        f       (x, y)\n"
     ]
    }
   ],
   "source": [
    "%C type(t); t.func; t.args"
   ]
  },
  {
   "cell_type": "code",
   "execution_count": 40,
   "metadata": {},
   "outputs": [
    {
     "data": {
      "image/png": "[encoded data removed]",
      "text/latex": [
       "$$f^{2}{\\left (x,y \\right )} + f{\\left (x,y \\right )}$$"
      ],
      "text/plain": [
       " 2                \n",
       "f (x, y) + f(x, y)"
      ]
     },
     "execution_count": 40,
     "metadata": {},
     "output_type": "execute_result"
    }
   ],
   "source": [
    "t + t * t"
   ]
  },
  {
   "cell_type": "markdown",
   "metadata": {},
   "source": [
    "### 通配符"
   ]
  },
  {
   "cell_type": "markdown",
   "metadata": {},
   "source": [
    "使用Wild()创建通配符(通配符模板), 传递给表达式的match方法;  \n",
    "match()方法返回一个字典: {通配符: 子表达式};"
   ]
  },
  {
   "cell_type": "code",
   "execution_count": 55,
   "metadata": {},
   "outputs": [
    {
     "data": {
      "image/png": "[encoded data removed]",
      "text/latex": [
       "$$\\left \\{ a : 3 x, \\quad b : x + y\\right \\}$$"
      ],
      "text/plain": [
       "{a: 3⋅x, b: x + y}"
      ]
     },
     "execution_count": 55,
     "metadata": {},
     "output_type": "execute_result"
    }
   ],
   "source": [
    "x, y = symbols(\"x, y\")\n",
    "a, b = Wild(\"a\"),Wild(\"b\")\n",
    "(3 * x * (x + y)**2).match(a * b**2)"
   ]
  },
  {
   "cell_type": "markdown",
   "metadata": {},
   "source": [
    "表达式的find()方法: 在表达式的树状结构中搜索所有与模板匹配的子树"
   ]
  },
  {
   "cell_type": "code",
   "execution_count": 42,
   "metadata": {},
   "outputs": [
    {
     "data": {
      "image/png": "[encoded data removed]",
      "text/latex": [
       "$$x^{3} + 3 x^{2} y + 3 x y^{2} + y^{3}$$"
      ],
      "text/plain": [
       " 3      2          2    3\n",
       "x  + 3⋅x ⋅y + 3⋅x⋅y  + y "
      ]
     },
     "execution_count": 42,
     "metadata": {},
     "output_type": "execute_result"
    }
   ],
   "source": [
    "expr = expand((x + y)**3)\n",
    "expr"
   ]
  },
  {
   "cell_type": "code",
   "execution_count": 43,
   "metadata": {},
   "outputs": [],
   "source": [
    "%%disabled\n",
    "print(dotprint(expr),file=open('data/expression-tree2.dot','w'))\n",
    "dot2graph('data/expression-tree2.dot')"
   ]
  },
  {
   "cell_type": "markdown",
   "metadata": {},
   "source": [
    "为什么会搜索到这么多输出项"
   ]
  },
  {
   "cell_type": "code",
   "execution_count": 45,
   "metadata": {},
   "outputs": [
    {
     "data": {
      "image/png": "[encoded data removed]",
      "text/latex": [
       "$$\\left\\{2, 3, x, x^{2}, x^{3}, y, y^{2}, y^{3}, 3 x y^{2}, 3 x^{2} y, x^{3} + 3 x^{2} y + 3 x y^{2} + y^{3}\\right\\}$$"
      ],
      "text/plain": [
       "   ⎛⎡          2   3      2   3       2     2     3      2          2    3⎤⎞\n",
       "set⎝⎣2, 3, x, x , x , y, y , y , 3⋅x⋅y , 3⋅x ⋅y, x  + 3⋅x ⋅y + 3⋅x⋅y  + y ⎦⎠"
      ]
     },
     "execution_count": 45,
     "metadata": {},
     "output_type": "execute_result"
    }
   ],
   "source": [
    "expr.find(a * b**2)"
   ]
  },
  {
   "cell_type": "code",
   "execution_count": 46,
   "metadata": {},
   "outputs": [],
   "source": [
    "# 查看上述搜索项是如何满足搜索条件的\n",
    "def find_match(expr, pattern):\n",
    "    return [e.match(pattern) for e in expr.find(pattern)]"
   ]
  },
  {
   "cell_type": "code",
   "execution_count": 47,
   "metadata": {},
   "outputs": [
    {
     "data": {
      "image/png": "[encoded data removed]",
      "text/latex": [
       "$$\\left [ \\left \\{ a : 1, \\quad b : \\sqrt{2}\\right \\}, \\quad \\left \\{ a : 1, \\quad b : \\sqrt{3}\\right \\}, \\quad \\left \\{ a : 3 y, \\quad b : x\\right \\}, \\quad \\left \\{ a : 1, \\quad b : x\\right \\}, \\quad \\left \\{ a : 1, \\quad b : \\sqrt{y}\\right \\}, \\quad \\left \\{ a : 1, \\quad b : x^{\\frac{3}{2}}\\right \\}, \\quad \\left \\{ a : 1, \\quad b : y\\right \\}, \\quad \\left \\{ a : 1, \\quad b : \\sqrt{x^{3} + 3 x^{2} y + 3 x y^{2} + y^{3}}\\right \\}, \\quad \\left \\{ a : 1, \\quad b : \\sqrt{x}\\right \\}, \\quad \\left \\{ a : 1, \\quad b : y^{\\frac{3}{2}}\\right \\}, \\quad \\left \\{ a : 3 x, \\quad b : y\\right \\}\\right ]$$"
      ],
      "text/plain": [
       "⎡                                                                             \n",
       "⎢                                                                           ⎧ \n",
       "⎢{a: 1, b: √2}, {a: 1, b: √3}, {a: 3⋅y, b: x}, {a: 1, b: x}, {a: 1, b: √y}, ⎨a\n",
       "⎣                                                                           ⎩ \n",
       "\n",
       "                             ⎧            ___________________________⎫        \n",
       "         3/2⎫                ⎨           ╱  3      2          2    3 ⎬        \n",
       ": 1, b: x   ⎬, {a: 1, b: y}, ⎩a: 1, b: ╲╱  x  + 3⋅x ⋅y + 3⋅x⋅y  + y  ⎭, {a: 1,\n",
       "            ⎭                                                                 \n",
       "\n",
       "                                        ⎤\n",
       "         ⎧          3/2⎫                ⎥\n",
       " b: √x}, ⎨a: 1, b: y   ⎬, {a: 3⋅x, b: y}⎥\n",
       "         ⎩             ⎭                ⎦"
      ]
     },
     "execution_count": 47,
     "metadata": {},
     "output_type": "execute_result"
    }
   ],
   "source": [
    "find_match(expr,a*b**2)"
   ]
  },
  {
   "cell_type": "code",
   "execution_count": 186,
   "metadata": {},
   "outputs": [
    {
     "name": "stdout",
     "output_type": "stream",
     "text": [
      "**********************************************!kk4:异常>**********************************************\n"
     ]
    }
   ],
   "source": [
    "kk 4"
   ]
  },
  {
   "cell_type": "code",
   "execution_count": 48,
   "metadata": {},
   "outputs": [],
   "source": [
    "def tabulate_it(rows, cols, func, label_fmt=\"**{}**\", row_label=True):\n",
    "    from tabulate import tabulate\n",
    "    result = []\n",
    "\n",
    "    fmt = label_fmt.format\n",
    "\n",
    "    for row in rows:\n",
    "        res_row = [fmt(row)] if row_label else []\n",
    "        result.append(res_row)\n",
    "        for col in cols:\n",
    "            res_row.append(func(row, col))\n",
    "    return tabulate(result, [fmt(col) for col in cols], \"pipe\", numalign='left',stralign='left')"
   ]
  },
  {
   "cell_type": "code",
   "execution_count": 62,
   "metadata": {},
   "outputs": [],
   "source": [
    "# 打印匹配表\n",
    "def display_match_table(expr, pattern):\n",
    "    from IPython.display import display_markdown, Markdown\n",
    "    \n",
    "    def f(row, col):\n",
    "        if col == \"表达式\":\n",
    "            return \"${}$\".format(latex(row[0]))\n",
    "        else:\n",
    "            return \"${}$\".format(latex(row[1]))\n",
    "\n",
    "    c1 = expr.find(pattern)\n",
    "    c2 = find_match(expr, pattern)\n",
    "    display_markdown(\n",
    "        Markdown(tabulate_it(zip(c1, c2), \n",
    "                 [\"表达式\",\"匹配结果\"], f, row_label=False)))   "
   ]
  },
  {
   "cell_type": "code",
   "execution_count": 63,
   "metadata": {},
   "outputs": [
    {
     "data": {
      "text/markdown": [
       "| **表达式**                              | **匹配结果**                                                                      |\n",
       "|:----------------------------------------|:----------------------------------------------------------------------------------|\n",
       "| $2$                                     | $\\left \\{ a : 1, \\quad b : \\sqrt{2}\\right \\}$                                     |\n",
       "| $3$                                     | $\\left \\{ a : 1, \\quad b : \\sqrt{3}\\right \\}$                                     |\n",
       "| $3 x^{2} y$                             | $\\left \\{ a : 3 y, \\quad b : x\\right \\}$                                          |\n",
       "| $x^{2}$                                 | $\\left \\{ a : 1, \\quad b : x\\right \\}$                                            |\n",
       "| $y$                                     | $\\left \\{ a : 1, \\quad b : \\sqrt{y}\\right \\}$                                     |\n",
       "| $x^{3}$                                 | $\\left \\{ a : 1, \\quad b : x^{\\frac{3}{2}}\\right \\}$                              |\n",
       "| $y^{2}$                                 | $\\left \\{ a : 1, \\quad b : y\\right \\}$                                            |\n",
       "| $x^{3} + 3 x^{2} y + 3 x y^{2} + y^{3}$ | $\\left \\{ a : 1, \\quad b : \\sqrt{x^{3} + 3 x^{2} y + 3 x y^{2} + y^{3}}\\right \\}$ |\n",
       "| $x$                                     | $\\left \\{ a : 1, \\quad b : \\sqrt{x}\\right \\}$                                     |\n",
       "| $y^{3}$                                 | $\\left \\{ a : 1, \\quad b : y^{\\frac{3}{2}}\\right \\}$                              |\n",
       "| $3 x y^{2}$                             | $\\left \\{ a : 3 x, \\quad b : y\\right \\}$                                          |"
      ]
     },
     "metadata": {},
     "output_type": "display_data"
    }
   ],
   "source": [
    "display_match_table(expr, a*b**2)"
   ]
  },
  {
   "cell_type": "code",
   "execution_count": 64,
   "metadata": {},
   "outputs": [
    {
     "data": {
      "image/png": "[encoded data removed]",
      "text/latex": [
       "$$\\left [ \\left \\{ a : y, \\quad b : y\\right \\}, \\quad \\left \\{ a : 3 x, \\quad b : y\\right \\}, \\quad \\left \\{ a : 3 y, \\quad b : x\\right \\}, \\quad \\left \\{ a : x, \\quad b : x\\right \\}\\right ]$$"
      ],
      "text/plain": [
       "[{a: y, b: y}, {a: 3⋅x, b: y}, {a: 3⋅y, b: x}, {a: x, b: x}]"
      ]
     },
     "execution_count": 64,
     "metadata": {},
     "output_type": "execute_result"
    }
   ],
   "source": [
    "a = Wild(\"a\", exclude=[1])\n",
    "b = Wild(\"b\", exclude=[1, Pow])\n",
    "find_match(expr, a * b**2)"
   ]
  },
  {
   "cell_type": "markdown",
   "metadata": {},
   "source": [
    "表达式替换"
   ]
  },
  {
   "cell_type": "code",
   "execution_count": 65,
   "metadata": {},
   "outputs": [
    {
     "data": {
      "image/png": "[encoded data removed]",
      "text/latex": [
       "$$4 x^{2} + 4 y^{2} + \\left(x + 3 y\\right)^{2} + \\left(3 x + y\\right)^{2}$$"
      ],
      "text/plain": [
       "   2      2            2            2\n",
       "4⋅x  + 4⋅y  + (x + 3⋅y)  + (3⋅x + y) "
      ]
     },
     "execution_count": 65,
     "metadata": {},
     "output_type": "execute_result"
    }
   ],
   "source": [
    "expr.replace(a * b**2, (a + b)**2)"
   ]
  },
  {
   "cell_type": "code",
   "execution_count": 66,
   "metadata": {},
   "outputs": [],
   "source": [
    "expr = sqrt(x) / sin(y**2) + abs(exp(x) * x)"
   ]
  },
  {
   "cell_type": "code",
   "execution_count": 67,
   "metadata": {},
   "outputs": [
    {
     "data": {
      "text/markdown": [
       "| **表达式**   | **匹配结果**   |\n",
       "||"
      ]
     },
     "metadata": {},
     "output_type": "display_data"
    }
   ],
   "source": [
    "display_match_table(expr, f)"
   ]
  },
  {
   "cell_type": "code",
   "execution_count": 68,
   "metadata": {},
   "outputs": [
    {
     "data": {
      "image/png": "[encoded data removed]",
      "text/latex": [
       "$$\\left [ \\right ]$$"
      ],
      "text/plain": [
       "[]"
      ]
     },
     "execution_count": 68,
     "metadata": {},
     "output_type": "execute_result"
    }
   ],
   "source": [
    "find_match(expr, f)"
   ]
  },
  {
   "cell_type": "code",
   "execution_count": 69,
   "metadata": {},
   "outputs": [
    {
     "name": "stdout",
     "output_type": "stream",
     "text": [
      "$$$$$$$$$$$$$$$$$$$$$$$$$$$$$$$$$$$$$$$$$$$$$$!kk2:终止>$$$$$$$$$$$$$$$$$$$$$$$$$$$$$$$$$$$$$$$$$$$$$$\n"
     ]
    }
   ],
   "source": [
    "kk 2"
   ]
  },
  {
   "cell_type": "code",
   "execution_count": null,
   "metadata": {},
   "outputs": [],
   "source": []
  }
 ],
 "metadata": {
  "kernelspec": {
   "display_name": "Python 3",
   "language": "python",
   "name": "python3"
  },
  "language_info": {
   "codemirror_mode": {
    "name": "ipython",
    "version": 3
   },
   "file_extension": ".py",
   "mimetype": "text/x-python",
   "name": "python",
   "nbconvert_exporter": "python",
   "pygments_lexer": "ipython3",
   "version": "3.6.5"
  },
  "toc": {
   "base_numbering": "6.2",
   "nav_menu": {},
   "number_sections": true,
   "sideBar": true,
   "skip_h1_title": false,
   "title_cell": "Table of Contents",
   "title_sidebar": "Contents",
   "toc_cell": false,
   "toc_position": {},
   "toc_section_display": true,
   "toc_window_display": false
  }
 },
 "nbformat": 4,
 "nbformat_minor": 1
}

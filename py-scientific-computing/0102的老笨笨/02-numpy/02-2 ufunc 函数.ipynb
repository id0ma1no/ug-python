{
 "cells": [
  {
   "cell_type": "code",
   "execution_count": 99,
   "metadata": {
    "collapsed": true
   },
   "outputs": [],
   "source": [
    "import numpy as np"
   ]
  },
  {
   "cell_type": "markdown",
   "metadata": {},
   "source": [
    "## ufunc函数"
   ]
  },
  {
   "cell_type": "markdown",
   "metadata": {},
   "source": [
    "ufunc 是 universal function 的缩写, 万能函数"
   ]
  },
  {
   "cell_type": "code",
   "execution_count": 100,
   "metadata": {
    "collapsed": false
   },
   "outputs": [
    {
     "data": {
      "text/plain": [
       "array([  0.00000000e+00,   6.42787610e-01,   9.84807753e-01,\n",
       "         8.66025404e-01,   3.42020143e-01,  -3.42020143e-01,\n",
       "        -8.66025404e-01,  -9.84807753e-01,  -6.42787610e-01,\n",
       "        -2.44929360e-16])"
      ]
     },
     "execution_count": 100,
     "metadata": {},
     "output_type": "execute_result"
    }
   ],
   "source": [
    "x = np.linspace(0, 2*np.pi, 10)\n",
    "y = np.sin(x)\n",
    "y"
   ]
  },
  {
   "cell_type": "markdown",
   "metadata": {},
   "source": [
    "out参数可以指定输出数组"
   ]
  },
  {
   "cell_type": "code",
   "execution_count": 101,
   "metadata": {
    "collapsed": false
   },
   "outputs": [
    {
     "data": {
      "text/plain": [
       "True"
      ]
     },
     "execution_count": 101,
     "metadata": {},
     "output_type": "execute_result"
    }
   ],
   "source": [
    "t = np.sin(x, out=x)\n",
    "t is x"
   ]
  },
  {
   "cell_type": "markdown",
   "metadata": {},
   "source": [
    "对于数组的计算, math.sin() 比 math.sin()快, 对于单个数值的计算,math.sin()却比math.sin() 快 "
   ]
  },
  {
   "cell_type": "code",
   "execution_count": 102,
   "metadata": {
    "collapsed": false
   },
   "outputs": [
    {
     "name": "stdout",
     "output_type": "stream",
     "text": [
      "Wall time: 218 ms\n",
      "Wall time: 16 ms\n",
      "Wall time: 1.11 s\n"
     ]
    }
   ],
   "source": [
    "import math\n",
    "\n",
    "x = [i * 0.001 for i in xrange(1000000)]\n",
    "\n",
    "def sin_math(x):\n",
    "    for i, t in enumerate(x):\n",
    "        x[i] = math.sin(t)\n",
    "\n",
    "def sin_numpy(x):\n",
    "    np.sin(x, x)\n",
    "\n",
    "def sin_numpy_loop(x):\n",
    "    for i, t in enumerate(x):\n",
    "        x[i] = np.sin(t)\n",
    "\n",
    "xl = x[:]\n",
    "%time sin_math(x)\n",
    "\n",
    "xa = np.array(x)\n",
    "%time sin_numpy(xa)\n",
    "\n",
    "xl = x[:]\n",
    "%time sin_numpy_loop(x)"
   ]
  },
  {
   "cell_type": "code",
   "execution_count": 103,
   "metadata": {
    "collapsed": false
   },
   "outputs": [
    {
     "name": "stdout",
     "output_type": "stream",
     "text": [
      "type(math.sin(0.5))  type(np.sin(0.5))\n",
      "-------------------  -----------------\n",
      "float                numpy.float64    \n"
     ]
    }
   ],
   "source": [
    "%C type(math.sin(0.5)); type(np.sin(0.5))"
   ]
  },
  {
   "cell_type": "markdown",
   "metadata": {},
   "source": [
    "item()方法获取数组中的单个元素, 将其转化成标准的Python数值类型"
   ]
  },
  {
   "cell_type": "code",
   "execution_count": 104,
   "metadata": {
    "collapsed": false
   },
   "outputs": [
    {
     "name": "stdout",
     "output_type": "stream",
     "text": [
      "a:\n",
      "[[ 0.  1.  2.]\n",
      " [ 3.  4.  5.]] \n",
      " \n",
      "5.0 <type 'float'> <type 'numpy.float64'>\n"
     ]
    }
   ],
   "source": [
    "a = np.arange(6.0).reshape(2, 3)\n",
    "print \"a:\\n{} \\n \".format(a)\n",
    "print a.item(1, 2), type(a.item(1, 2)), type(a[1, 2])"
   ]
  },
  {
   "cell_type": "markdown",
   "metadata": {},
   "source": [
    "### 四则运算"
   ]
  },
  {
   "cell_type": "markdown",
   "metadata": {},
   "source": [
    "numpy 提供了许多ufunc函数: \n",
    "\n",
    "add,subtract,multiply,\n",
    "\n",
    "divide,true_divede,floor_divede,\n",
    "\n",
    "negative,power,\n",
    "\n",
    "remainder,mod"
   ]
  },
  {
   "cell_type": "code",
   "execution_count": 105,
   "metadata": {
    "collapsed": false
   },
   "outputs": [
    {
     "name": "stdout",
     "output_type": "stream",
     "text": [
      "     a             b      \n",
      "------------  ------------\n",
      "[0, 1, 2, 3]  [1, 2, 3, 4]\n"
     ]
    },
    {
     "data": {
      "text/plain": [
       "array([1, 3, 5, 7])"
      ]
     },
     "execution_count": 105,
     "metadata": {},
     "output_type": "execute_result"
    }
   ],
   "source": [
    "a = np.arange(0, 4)\n",
    "b = np.arange(1, 5)\n",
    "%C a; b\n",
    "np.add(a, b)"
   ]
  },
  {
   "cell_type": "code",
   "execution_count": 106,
   "metadata": {
    "collapsed": false
   },
   "outputs": [
    {
     "data": {
      "text/plain": [
       "array([1, 3, 5, 7])"
      ]
     },
     "execution_count": 106,
     "metadata": {},
     "output_type": "execute_result"
    }
   ],
   "source": [
    "# 第三个参数省略了关键字out\n",
    "np.add(a, b, a)\n",
    "a"
   ]
  },
  {
   "cell_type": "markdown",
   "metadata": {},
   "source": [
    "### 比较和布尔运算"
   ]
  },
  {
   "cell_type": "markdown",
   "metadata": {},
   "source": [
    "比较运算符参与的运算,将返回布尔数组, 比较运算符对应的ufunc函数有哪些: equal, not_equal, less, less_equal, greater, greater_equal"
   ]
  },
  {
   "cell_type": "code",
   "execution_count": 107,
   "metadata": {
    "collapsed": false
   },
   "outputs": [
    {
     "data": {
      "text/plain": [
       "array([ True, False, False], dtype=bool)"
      ]
     },
     "execution_count": 107,
     "metadata": {},
     "output_type": "execute_result"
    }
   ],
   "source": [
    "np.array([1, 2, 3]) < np.array([3, 2, 1])"
   ]
  },
  {
   "cell_type": "markdown",
   "metadata": {},
   "source": [
    "python 中的布尔运算用关键字 and, or, not 表示, 但是数组中的布尔运算只能通过相应的ufunc函数进行, 这些函数名都已logical_开头"
   ]
  },
  {
   "cell_type": "code",
   "execution_count": 108,
   "metadata": {
    "collapsed": false
   },
   "outputs": [
    {
     "name": "stdout",
     "output_type": "stream",
     "text": [
      "       a                b       \n",
      "---------------  ---------------\n",
      "[0, 1, 2, 3, 4]  [4, 3, 2, 1, 0]\n"
     ]
    }
   ],
   "source": [
    "a = np.arange(5)\n",
    "b = np.arange(4, -1, -1)\n",
    "%C a; b"
   ]
  },
  {
   "cell_type": "code",
   "execution_count": 109,
   "metadata": {
    "collapsed": false
   },
   "outputs": [
    {
     "name": "stdout",
     "output_type": "stream",
     "text": [
      "[False False  True False False]\n",
      "[False False False  True  True]\n",
      "[False False  True  True  True]\n"
     ]
    }
   ],
   "source": [
    "print a == b\n",
    "print a > b\n",
    "print np.logical_or(a == b, a > b)  # 和 a>=b 相同"
   ]
  },
  {
   "cell_type": "code",
   "execution_count": 110,
   "metadata": {
    "collapsed": false
   },
   "outputs": [
    {
     "ename": "ValueError",
     "evalue": "The truth value of an array with more than one element is ambiguous. Use a.any() or a.all()",
     "output_type": "error",
     "traceback": [
      "\u001b[1;31m---------------------------------------------------------------------------\u001b[0m",
      "\u001b[1;31mValueError\u001b[0m                                Traceback (most recent call last)",
      "\u001b[1;32m<ipython-input-110-32e11b68382a>\u001b[0m in \u001b[0;36m<module>\u001b[1;34m()\u001b[0m\n\u001b[0;32m      1\u001b[0m \u001b[1;31m# 对两个布尔数组使用 and, or, not 进行布尔运算, 将抛出ValueError异常\u001b[0m\u001b[1;33m\u001b[0m\u001b[1;33m\u001b[0m\u001b[0m\n\u001b[1;32m----> 2\u001b[1;33m \u001b[0ma\u001b[0m \u001b[1;33m==\u001b[0m \u001b[0mb\u001b[0m \u001b[1;32mand\u001b[0m \u001b[0ma\u001b[0m \u001b[1;33m>\u001b[0m \u001b[0mb\u001b[0m\u001b[1;33m\u001b[0m\u001b[0m\n\u001b[0m",
      "\u001b[1;31mValueError\u001b[0m: The truth value of an array with more than one element is ambiguous. Use a.any() or a.all()"
     ]
    }
   ],
   "source": [
    "# 对两个布尔数组使用 and, or, not 进行布尔运算, 将抛出ValueError异常\n",
    "a == b and a > b"
   ]
  },
  {
   "cell_type": "code",
   "execution_count": 111,
   "metadata": {
    "collapsed": false
   },
   "outputs": [
    {
     "name": "stdout",
     "output_type": "stream",
     "text": [
      "np.any(a == b)  np.any(a > b)  np.any(a == b) and np.any(a > b)\n",
      "--------------  -------------  --------------------------------\n",
      "True            True           True                            \n"
     ]
    }
   ],
   "source": [
    "%C np.any(a == b);np.any(a > b); np.any(a == b) and np.any(a > b)"
   ]
  },
  {
   "cell_type": "markdown",
   "metadata": {},
   "source": [
    "以bitwise_开头的函数都是位运算函数"
   ]
  },
  {
   "cell_type": "code",
   "execution_count": 112,
   "metadata": {
    "collapsed": false
   },
   "outputs": [
    {
     "name": "stdout",
     "output_type": "stream",
     "text": [
      "[False False  True False False]\n",
      "[False False False  True  True]\n"
     ]
    }
   ],
   "source": [
    "print a == b\n",
    "print a > b"
   ]
  },
  {
   "cell_type": "code",
   "execution_count": 113,
   "metadata": {
    "collapsed": false
   },
   "outputs": [
    {
     "name": "stdout",
     "output_type": "stream",
     "text": [
      "[False False  True False False]\n",
      "[False False False  True  True]\n"
     ]
    },
    {
     "data": {
      "text/plain": [
       "array([False, False,  True,  True,  True], dtype=bool)"
      ]
     },
     "execution_count": 113,
     "metadata": {},
     "output_type": "execute_result"
    }
   ],
   "source": [
    "print a == b\n",
    "print a > b\n",
    "(a == b) | (a > b)"
   ]
  },
  {
   "cell_type": "code",
   "execution_count": 114,
   "metadata": {
    "collapsed": false
   },
   "outputs": [
    {
     "data": {
      "text/plain": [
       "array([-1, -2, -3, -4, -5])"
      ]
     },
     "execution_count": 114,
     "metadata": {},
     "output_type": "execute_result"
    }
   ],
   "source": [
    "~ np.arange(5)"
   ]
  },
  {
   "cell_type": "markdown",
   "metadata": {},
   "source": [
    "### 自定义ufunc函数"
   ]
  },
  {
   "cell_type": "markdown",
   "metadata": {},
   "source": [
    "frompyfunc() 将 标量函数 (普通函数)转化成 (万能函数)矢量函数"
   ]
  },
  {
   "cell_type": "code",
   "execution_count": 115,
   "metadata": {
    "collapsed": true
   },
   "outputs": [],
   "source": [
    "def triangle_wave(x, c, c0, hc):\n",
    "    x = x - int(x) # 三角波的周期为1，因此只取x坐标的小数部分进行计算\n",
    "    if x >= c: r = 0.0\n",
    "    elif x < c0: r = x / c0 * hc\n",
    "    else: r = (c-x) / (c-c0) * hc\n",
    "    return r"
   ]
  },
  {
   "cell_type": "code",
   "execution_count": 116,
   "metadata": {
    "collapsed": false
   },
   "outputs": [
    {
     "data": {
      "text/plain": [
       "array([0.0, 0.0024999991666669165, 0.004999993333341332, ..., 0.0, 0.0, 0.0], dtype=object)"
      ]
     },
     "execution_count": 116,
     "metadata": {},
     "output_type": "execute_result"
    }
   ],
   "source": [
    "triangle_ufunc1 = np.frompyfunc(triangle_wave, 4, 1)\n",
    "# 4 是输入参数的个数, 1 是输出值的个数\n",
    "y2 = triangle_ufunc1(x, 0.6, 0.4, 1.0)\n",
    "y2"
   ]
  },
  {
   "cell_type": "code",
   "execution_count": 117,
   "metadata": {
    "collapsed": false
   },
   "outputs": [
    {
     "name": "stdout",
     "output_type": "stream",
     "text": [
      " y2.dtype   y2.astype(np.float).dtype\n",
      "----------  -------------------------\n",
      "dtype('O')  dtype('float64')         \n"
     ]
    }
   ],
   "source": [
    "# triangle_ufunc1()所返回数组的元素类型是object\n",
    "%C y2.dtype; y2.astype(np.float).dtype"
   ]
  },
  {
   "cell_type": "markdown",
   "metadata": {},
   "source": [
    "列表推导式实现类似于ufunc函数的功能"
   ]
  },
  {
   "cell_type": "code",
   "execution_count": 118,
   "metadata": {
    "collapsed": true
   },
   "outputs": [],
   "source": [
    "x = np.linspace(0, 2, 1000)\n",
    "y1 = np.array([triangle_wave(t, 0.6, 0.4, 1.0) for t in x])"
   ]
  },
  {
   "cell_type": "markdown",
   "metadata": {},
   "source": [
    "vectorize()也可实现frompyfunc的功能, 且提供调节数组类型的关键字参数otypes"
   ]
  },
  {
   "cell_type": "code",
   "execution_count": 119,
   "metadata": {
    "collapsed": true
   },
   "outputs": [],
   "source": [
    "triangle_ufunc2 = np.vectorize(triangle_wave, otypes=[np.float])\n",
    "y3 = triangle_ufunc2(x, 0.6, 0.4, 1.0)"
   ]
  },
  {
   "cell_type": "code",
   "execution_count": 120,
   "metadata": {
    "collapsed": false
   },
   "outputs": [
    {
     "name": "stdout",
     "output_type": "stream",
     "text": [
      "np.all(y1 == y2)  np.all(y2 == y3)\n",
      "----------------  ----------------\n",
      "False             False           \n"
     ]
    }
   ],
   "source": [
    "%C np.all(y1 == y2); np.all(y2 == y3)"
   ]
  },
  {
   "cell_type": "markdown",
   "metadata": {},
   "source": [
    "### 广播"
   ]
  },
  {
   "cell_type": "markdown",
   "metadata": {},
   "source": [
    "unfunc函数处理多个数组时会要求数组的形状相同, 形状不同时要进行广播处理"
   ]
  },
  {
   "cell_type": "markdown",
   "metadata": {},
   "source": [
    ">首先要同维, 维数少的前面加 1 \n",
    "\n",
    ">其次要同度, 每个维数选最大的度\n",
    "\n",
    ">可以按行按列扩展维度"
   ]
  },
  {
   "cell_type": "code",
   "execution_count": 121,
   "metadata": {
    "collapsed": false
   },
   "outputs": [
    {
     "name": "stdout",
     "output_type": "stream",
     "text": [
      "  a     a.shape\n",
      "------  -------\n",
      "[[ 0],  (6, 1) \n",
      " [10],         \n",
      " [20],         \n",
      " [30],         \n",
      " [40],         \n",
      " [50]]         \n"
     ]
    }
   ],
   "source": [
    "a = np.arange(0, 60, 10).reshape(-1, 1)\n",
    "%C a; a.shape"
   ]
  },
  {
   "cell_type": "code",
   "execution_count": 122,
   "metadata": {
    "collapsed": false
   },
   "outputs": [
    {
     "name": "stdout",
     "output_type": "stream",
     "text": [
      "       b         b.shape\n",
      "---------------  -------\n",
      "[0, 1, 2, 3, 4]  (5,)   \n"
     ]
    }
   ],
   "source": [
    "b = np.arange(0, 5)\n",
    "%C b; b.shape"
   ]
  },
  {
   "cell_type": "code",
   "execution_count": 123,
   "metadata": {
    "collapsed": false
   },
   "outputs": [
    {
     "name": "stdout",
     "output_type": "stream",
     "text": [
      "          c             c.shape\n",
      "----------------------  -------\n",
      "[[ 0,  1,  2,  3,  4],  (6, 5) \n",
      " [10, 11, 12, 13, 14],         \n",
      " [20, 21, 22, 23, 24],         \n",
      " [30, 31, 32, 33, 34],         \n",
      " [40, 41, 42, 43, 44],         \n",
      " [50, 51, 52, 53, 54]]         \n"
     ]
    }
   ],
   "source": [
    "c = a + b\n",
    "%C c; c.shape"
   ]
  },
  {
   "cell_type": "code",
   "execution_count": 124,
   "metadata": {
    "collapsed": false
   },
   "outputs": [
    {
     "name": "stdout",
     "output_type": "stream",
     "text": [
      "       b         b.shape\n",
      "---------------  -------\n",
      "[0, 1, 2, 3, 4]  (5,)   \n"
     ]
    }
   ],
   "source": [
    "# 广播运算并不会隐性的改变数组的维度\n",
    "%C b; b.shape"
   ]
  },
  {
   "cell_type": "code",
   "execution_count": 125,
   "metadata": {
    "collapsed": false
   },
   "outputs": [
    {
     "name": "stdout",
     "output_type": "stream",
     "text": [
      "       b_15               b_re      \n",
      "-----------------  -----------------\n",
      "[[0, 1, 2, 3, 4]]  [[0, 1, 2, 3, 4],\n",
      "                    [0, 1, 2, 3, 4],\n",
      "                    [0, 1, 2, 3, 4],\n",
      "                    [0, 1, 2, 3, 4],\n",
      "                    [0, 1, 2, 3, 4],\n",
      "                    [0, 1, 2, 3, 4]]\n"
     ]
    }
   ],
   "source": [
    "# repeat()方法沿着指定的轴复制该轴的第一个元素\n",
    "b_15 = b[None, :]\n",
    "b_re = b_15.repeat(6, axis=0)\n",
    "%C b_15; b_re"
   ]
  },
  {
   "cell_type": "markdown",
   "metadata": {},
   "source": [
    "ogrid[]对象可以将切片转化为可广播的二维数组, 也即曲面的二维轴"
   ]
  },
  {
   "cell_type": "code",
   "execution_count": 126,
   "metadata": {
    "collapsed": false
   },
   "outputs": [
    {
     "name": "stdout",
     "output_type": "stream",
     "text": [
      "  x            y        \n",
      "-----  -----------------\n",
      "[[0],  [[0, 1, 2, 3, 4]]\n",
      " [1],                   \n",
      " [2],                   \n",
      " [3],                   \n",
      " [4]]                   \n"
     ]
    }
   ],
   "source": [
    "x, y = np.ogrid[:5, :5]\n",
    "%C x; y"
   ]
  },
  {
   "cell_type": "markdown",
   "metadata": {},
   "source": [
    "mgrid[]对象将切片转化为可广播的二维数组, 也即曲面的平面坐标"
   ]
  },
  {
   "cell_type": "code",
   "execution_count": 127,
   "metadata": {
    "collapsed": false
   },
   "outputs": [
    {
     "name": "stdout",
     "output_type": "stream",
     "text": [
      "        x                  y        \n",
      "-----------------  -----------------\n",
      "[[0, 0, 0, 0, 0],  [[0, 1, 2, 3, 4],\n",
      " [1, 1, 1, 1, 1],   [0, 1, 2, 3, 4],\n",
      " [2, 2, 2, 2, 2],   [0, 1, 2, 3, 4],\n",
      " [3, 3, 3, 3, 3],   [0, 1, 2, 3, 4],\n",
      " [4, 4, 4, 4, 4]]   [0, 1, 2, 3, 4]]\n"
     ]
    }
   ],
   "source": [
    "x, y = np.mgrid[:5, :5]\n",
    "%C x; y"
   ]
  },
  {
   "cell_type": "markdown",
   "metadata": {},
   "source": [
    "ogrid[]对象下标含有j时, j前的数字表示始终值之间的个数, 类似于linspace()的参数形式"
   ]
  },
  {
   "cell_type": "code",
   "execution_count": 128,
   "metadata": {
    "collapsed": false
   },
   "outputs": [
    {
     "name": "stdout",
     "output_type": "stream",
     "text": [
      "       x                  y          \n",
      "---------------  --------------------\n",
      "[[ 0.        ],  [[ 0. ,  0.5,  1. ]]\n",
      " [ 0.33333333],                      \n",
      " [ 0.66666667],                      \n",
      " [ 1.        ]]                      \n"
     ]
    }
   ],
   "source": [
    "x, y = np.ogrid[:1:4j, :1:3j]\n",
    "%C x; y   "
   ]
  },
  {
   "cell_type": "code",
   "execution_count": 157,
   "metadata": {
    "collapsed": false
   },
   "outputs": [],
   "source": [
    "from mpl_toolkits.mplot3d.axes3d import Axes3D\n",
    "import pylab as pl\n",
    "\n",
    "x, y = np.ogrid[-1:1:21j, -1:1:21j]\n",
    "z = x**2 + y**2 \n",
    "\n",
    "fig = pl.figure(figsize=(15, 5))\n",
    "ax = fig.add_subplot(1, 2, 1, projection='3d')\n",
    "surf = ax.plot_surface(x, y, z, rstride=1, cstride=1, \\\n",
    "                       cmap=\"coolwarm\", linewidth=0.2)\n",
    "pl.show()"
   ]
  },
  {
   "cell_type": "markdown",
   "metadata": {},
   "source": [
    "数组支持特殊的下表对象 None"
   ]
  },
  {
   "cell_type": "code",
   "execution_count": 131,
   "metadata": {
    "collapsed": false
   },
   "outputs": [
    {
     "name": "stdout",
     "output_type": "stream",
     "text": [
      "  a[None, :]    a[:, None]\n",
      "--------------  ----------\n",
      "[[0, 1, 2, 3]]  [[0],     \n",
      "                 [1],     \n",
      "                 [2],     \n",
      "                 [3]]     \n"
     ]
    }
   ],
   "source": [
    "# a[None, :] == a.reshape(1, -1);  a[:, None] == a.reshape(-1, 1)\n",
    "a = np.arange(4)\n",
    "%C a[None, :]; a[:, None]"
   ]
  },
  {
   "cell_type": "code",
   "execution_count": 132,
   "metadata": {
    "collapsed": false
   },
   "outputs": [
    {
     "data": {
      "text/plain": [
       "array([[ 2,  3,  6, 12],\n",
       "       [ 3,  4,  7, 13],\n",
       "       [ 8,  9, 12, 18]])"
      ]
     },
     "execution_count": 132,
     "metadata": {},
     "output_type": "execute_result"
    }
   ],
   "source": [
    "x = np.array([0, 1, 4, 10])    \n",
    "y = np.array([2, 3, 8])   \n",
    "x[None, :] + y[:, None]"
   ]
  },
  {
   "cell_type": "markdown",
   "metadata": {},
   "source": [
    "np.ix_() 可以将一维数组转化成可广播的二维数组"
   ]
  },
  {
   "cell_type": "code",
   "execution_count": 133,
   "metadata": {
    "collapsed": false
   },
   "outputs": [
    {
     "name": "stdout",
     "output_type": "stream",
     "text": [
      "        gx            gy        gx + gy      \n",
      "------------------  -----  ------------------\n",
      "[[ 0,  1,  4, 10]]  [[2],  [[ 2,  3,  6, 12],\n",
      "                     [3],   [ 3,  4,  7, 13],\n",
      "                     [8]]   [ 8,  9, 12, 18]]\n"
     ]
    }
   ],
   "source": [
    "gy, gx = np.ix_(y, x) \n",
    "%C gx; gy; gx + gy"
   ]
  },
  {
   "cell_type": "markdown",
   "metadata": {},
   "source": [
    "np.broadcast_arrays 返回可广播数组广播后的数组"
   ]
  },
  {
   "cell_type": "code",
   "execution_count": 134,
   "metadata": {
    "collapsed": false
   },
   "outputs": [
    {
     "name": "stdout",
     "output_type": "stream",
     "text": [
      "      gx_bc             gy_bc     \n",
      "------------------  --------------\n",
      "[[ 0,  1,  4, 10],  [[2, 2, 2, 2],\n",
      " [ 0,  1,  4, 10],   [3, 3, 3, 3],\n",
      " [ 0,  1,  4, 10]]   [8, 8, 8, 8]]\n"
     ]
    }
   ],
   "source": [
    "gx_bc, gy_bc = np.broadcast_arrays(gx, gy)\n",
    "%C gx_bc; gy_bc"
   ]
  },
  {
   "cell_type": "markdown",
   "metadata": {},
   "source": [
    "### ufunc的方法"
   ]
  },
  {
   "cell_type": "markdown",
   "metadata": {},
   "source": [
    "ufunc 方法只对 两个输入一个输出的ufunc函数有效"
   ]
  },
  {
   "cell_type": "markdown",
   "metadata": {},
   "source": [
    "reduce()会对参数序列中的元素进行累积"
   ]
  },
  {
   "cell_type": "code",
   "execution_count": 135,
   "metadata": {
    "collapsed": false
   },
   "outputs": [
    {
     "name": "stdout",
     "output_type": "stream",
     "text": [
      "r1     r2   \n",
      "--  --------\n",
      "6   [ 6, 15]\n"
     ]
    }
   ],
   "source": [
    "r1 = np.add.reduce([1, 2, 3])  # 1 + 2 + 3\n",
    "r2 = np.add.reduce([[1, 2, 3], [4, 5, 6]], axis=1)  # (1+2+3),(4+5+6)\n",
    "%C r1; r2"
   ]
  },
  {
   "cell_type": "markdown",
   "metadata": {},
   "source": [
    "accumulate()方法和reduce方法类似, 只是他返回的结果数组和输入数组形状相同,保存所有中间计算结果"
   ]
  },
  {
   "cell_type": "markdown",
   "metadata": {},
   "source": [
    "a1 = np.add.accumulate([1, 2, 3])\n",
    "a2 = np.add.accumulate([[1, 2, 3], [4, 5, 6]], axis=1)\n",
    "%C a1; a2"
   ]
  },
  {
   "cell_type": "markdown",
   "metadata": {},
   "source": [
    " reduceeat() 方法计算 多组 reduce() 的结果, indices 参数可以指定一系列的起始位置和终止位置, indice是的每个元素都会计算一个值, 最后的计算结果和indices参数的长度相同"
   ]
  },
  {
   "cell_type": "markdown",
   "metadata": {},
   "source": [
    "根据indices计算reduce()的reduce的参数: 正序取区间, 逆序取本身, 最后一个输出元素是所欲元素的值"
   ]
  },
  {
   "cell_type": "code",
   "execution_count": 136,
   "metadata": {
    "collapsed": false
   },
   "outputs": [
    {
     "data": {
      "text/plain": [
       "array([ 1,  2,  3,  3,  6,  4, 10])"
      ]
     },
     "execution_count": 136,
     "metadata": {},
     "output_type": "execute_result"
    }
   ],
   "source": [
    "a = np.array([1, 2, 3, 4])\n",
    "result = np.add.reduceat(a, indices=[0, 1, 0, 2, 0, 3, 0])\n",
    "result"
   ]
  },
  {
   "cell_type": "markdown",
   "metadata": {},
   "source": [
    "np.multiply.outer()方法计算列向量和行向量的外积,\n",
    "\n",
    "np.multiply.outer() 方法计算列向量和行向量的外和"
   ]
  },
  {
   "cell_type": "code",
   "execution_count": 137,
   "metadata": {
    "collapsed": false
   },
   "outputs": [
    {
     "data": {
      "text/plain": [
       "array([[ 2,  3,  4],\n",
       "       [ 4,  6,  8],\n",
       "       [ 6,  9, 12],\n",
       "       [ 8, 12, 16],\n",
       "       [10, 15, 20]])"
      ]
     },
     "execution_count": 137,
     "metadata": {},
     "output_type": "execute_result"
    }
   ],
   "source": [
    "np.multiply.outer([1, 2, 3, 4, 5], [2, 3, 4])"
   ]
  },
  {
   "cell_type": "code",
   "execution_count": 138,
   "metadata": {
    "collapsed": false
   },
   "outputs": [
    {
     "data": {
      "text/plain": [
       "array([[3, 4, 5],\n",
       "       [4, 5, 6],\n",
       "       [5, 6, 7],\n",
       "       [6, 7, 8],\n",
       "       [7, 8, 9]])"
      ]
     },
     "execution_count": 138,
     "metadata": {},
     "output_type": "execute_result"
    }
   ],
   "source": [
    "np.add.outer([1, 2, 3, 4, 5], [2, 3, 4])"
   ]
  }
 ],
 "metadata": {
  "kernelspec": {
   "display_name": "Python 2",
   "language": "python",
   "name": "python2"
  },
  "language_info": {
   "codemirror_mode": {
    "name": "ipython",
    "version": 2
   },
   "file_extension": ".py",
   "mimetype": "text/x-python",
   "name": "python",
   "nbconvert_exporter": "python",
   "pygments_lexer": "ipython2",
   "version": "2.7.9"
  },
  "toc": {
   "base_numbering": 1,
   "nav_menu": {},
   "number_sections": true,
   "sideBar": true,
   "skip_h1_title": false,
   "title_cell": "Table of Contents",
   "title_sidebar": "Contents",
   "toc_cell": false,
   "toc_position": {},
   "toc_section_display": true,
   "toc_window_display": false
  }
 },
 "nbformat": 4,
 "nbformat_minor": 1
}

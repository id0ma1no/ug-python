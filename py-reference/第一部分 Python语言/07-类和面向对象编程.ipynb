{
 "cells": [
  {
   "cell_type": "code",
   "execution_count": 2,
   "metadata": {},
   "outputs": [],
   "source": [
    "KK0=\"文档起始位\"\n",
    "KK1=\"文档活动位\"\n",
    "KK2=\"文档终止位\""
   ]
  },
  {
   "cell_type": "markdown",
   "metadata": {},
   "source": [
    "# 类和面向对象编程"
   ]
  },
  {
   "cell_type": "code",
   "execution_count": 3,
   "metadata": {},
   "outputs": [],
   "source": [
    "import brtoz.brmagic"
   ]
  },
  {
   "cell_type": "markdown",
   "metadata": {},
   "source": [
    "## class语句"
   ]
  },
  {
   "cell_type": "markdown",
   "metadata": {},
   "source": [
    "类中的`方法`, `变量`, `属性`统称为**类成员**;    \n",
    "类(class) 是方法(method), 类变量(class variable), 和属性(property)的集合;  \n",
    "@类是设计对象的一种蓝图, 框架, 类本身自带命名空间;  "
   ]
  },
  {
   "cell_type": "markdown",
   "metadata": {},
   "source": [
    "类的创建:   \n",
    "self表示**类的实例**;  \n",
    "类中定义的函数称为**实例方法**, 实例方法对类实例进行操作;"
   ]
  },
  {
   "cell_type": "code",
   "execution_count": 4,
   "metadata": {},
   "outputs": [],
   "source": [
    "class Account(object):\n",
    "    num_accounts = 0\n",
    "    def __init__(self, name, balance):  #balance金额\n",
    "        self.name = name\n",
    "        self.balance = balance\n",
    "        Account.num_accounts += 1       #self.num_accounts += 1      \n",
    "    def __del__(self):\n",
    "        Account.num_accounts -= 1\n",
    "    def deposit(self, amt):             #存款\n",
    "        self.balance = self.balance + amt\n",
    "    def withdraw(self, amt):            #取款\n",
    "        self.balance = self.balance - amt\n",
    "    def inquiry(self):                  #查询余额\n",
    "        return self.balance"
   ]
  },
  {
   "cell_type": "markdown",
   "metadata": {},
   "source": [
    "访问类中的成员就是访问**类命名空间**中的变量;    "
   ]
  },
  {
   "cell_type": "code",
   "execution_count": 5,
   "metadata": {},
   "outputs": [],
   "source": [
    "%%pass\n",
    "Account.num_accounts                 # 用户数\n",
    "Account.__init__                     # 执行类的初始化\n",
    "Account.__del__                      # 删除用户的函数\n",
    "Account.deposit                      # 存款函数\n",
    "Account.withdraw                     # 取款函数\n",
    "Account.inquiry                      # 查询函数"
   ]
  },
  {
   "cell_type": "markdown",
   "metadata": {},
   "source": [
    "## 类实例"
   ]
  },
  {
   "cell_type": "markdown",
   "metadata": {},
   "source": [
    "通过类创建的对象叫做**类实例**;    \n",
    "创建类实例时, 类型名所带的参数其实都是方法`__init__`()中的参数;"
   ]
  },
  {
   "cell_type": "markdown",
   "metadata": {},
   "source": [
    "类实例化的过程就是执行类的初始化过程:     \n",
    "`self.name = name`: 将`name`参数放入类对象的命名空间;    \n",
    "`Account.num_accounts += 1`: 每执行一次实例化过程, 让类变量`num_accounts`的值就增加1;"
   ]
  },
  {
   "cell_type": "markdown",
   "metadata": {},
   "source": [
    "类的实例化"
   ]
  },
  {
   "cell_type": "code",
   "execution_count": 6,
   "metadata": {},
   "outputs": [],
   "source": [
    "a = Account('ura', 100)\n",
    "b = Account('urb', 100)"
   ]
  },
  {
   "cell_type": "markdown",
   "metadata": {},
   "source": [
    "参与属性访问的属性既可以来自于`实例`也可以来自`实例所属的类`;   \n",
    "**属性访问的查找顺序**: 先在实例中查找该属性, 实例中没有的话再在其所属的类中查找;"
   ]
  },
  {
   "cell_type": "code",
   "execution_count": 7,
   "metadata": {},
   "outputs": [
    {
     "data": {
      "text/plain": [
       "200"
      ]
     },
     "execution_count": 7,
     "metadata": {},
     "output_type": "execute_result"
    }
   ],
   "source": [
    "a.deposit(100)\n",
    "a.inquiry()"
   ]
  },
  {
   "cell_type": "code",
   "execution_count": 8,
   "metadata": {},
   "outputs": [
    {
     "data": {
      "text/plain": [
       "0"
      ]
     },
     "execution_count": 8,
     "metadata": {},
     "output_type": "execute_result"
    }
   ],
   "source": [
    "b.withdraw(100)\n",
    "b.inquiry()"
   ]
  },
  {
   "cell_type": "markdown",
   "metadata": {},
   "source": [
    "## 作用域规则"
   ]
  },
  {
   "cell_type": "markdown",
   "metadata": {},
   "source": [
    "**可以通过slef或类名引用类的上下文成员**, 而不能直接使用成员名;"
   ]
  },
  {
   "cell_type": "code",
   "execution_count": 9,
   "metadata": {},
   "outputs": [],
   "source": [
    "class Foo(object):\n",
    "    def bar(self):\n",
    "        print('bar')\n",
    "    def spam(self):\n",
    "        try:\n",
    "            bar(self)  #NameError: name 'bar' is not defined\n",
    "        except NameError as e:\n",
    "            print(\"NameError: \", e)\n",
    "    def spam2(self):\n",
    "        self.bar() #correct Foo.bar(self) #also crrect"
   ]
  },
  {
   "cell_type": "code",
   "execution_count": 10,
   "metadata": {},
   "outputs": [],
   "source": [
    "foo = Foo()"
   ]
  },
  {
   "cell_type": "code",
   "execution_count": 11,
   "metadata": {},
   "outputs": [
    {
     "name": "stdout",
     "output_type": "stream",
     "text": [
      "NameError:  name 'bar' is not defined\n"
     ]
    }
   ],
   "source": [
    "foo.spam()"
   ]
  },
  {
   "cell_type": "code",
   "execution_count": 12,
   "metadata": {},
   "outputs": [
    {
     "name": "stdout",
     "output_type": "stream",
     "text": [
      "bar\n"
     ]
    }
   ],
   "source": [
    "foo.spam2()"
   ]
  },
  {
   "cell_type": "markdown",
   "metadata": {},
   "source": [
    "## 继承"
   ]
  },
  {
   "cell_type": "markdown",
   "metadata": {},
   "source": [
    "继承: 原始类相新类传递`蓝图`的过程;   \n",
    "原始类: `基类, 超类, 父类`;   新类: `派生类, 子类`;  \n",
    "派生类可以重新定义超类的属性并添加自己的属性;"
   ]
  },
  {
   "cell_type": "markdown",
   "metadata": {},
   "source": [
    "加强版的Account类"
   ]
  },
  {
   "cell_type": "code",
   "execution_count": 13,
   "metadata": {},
   "outputs": [],
   "source": [
    "import random\n",
    "class EvilAccount(Account):\n",
    "    def inquiry(self): #有四分之一的概率\n",
    "        if random.randint(0,4)==1: #虚假剩余额, 高估自己的剩余额\n",
    "            return self.balance * 1.10\n",
    "        else:\n",
    "            return self.balance"
   ]
  },
  {
   "cell_type": "code",
   "execution_count": 14,
   "metadata": {},
   "outputs": [
    {
     "data": {
      "text/plain": [
       "200"
      ]
     },
     "execution_count": 14,
     "metadata": {},
     "output_type": "execute_result"
    }
   ],
   "source": [
    "c = EvilAccount(\"urc\", 100)\n",
    "c.deposit(100)\n",
    "c.inquiry() #大部分情况输出200, 少部分情况输出220"
   ]
  },
  {
   "cell_type": "markdown",
   "metadata": {},
   "source": [
    "有了继承, **属性访问的查找顺序**也会增添新的`路径`:    \n",
    "先在实例中查找该属性, 实例中没有的话再在其所属的类中查找, 如果所属的类中也没有该属性, 继续查找该类的超类, 超类的超类, 一直查找到根object为止;"
   ]
  },
  {
   "cell_type": "markdown",
   "metadata": {},
   "source": [
    "子类可以定义自己的`__init__`函数, 从而向实例添加新属性"
   ]
  },
  {
   "cell_type": "code",
   "execution_count": 15,
   "metadata": {},
   "outputs": [],
   "source": [
    "class EvilAccount(Account):\n",
    "    def __init__(self,name,balance,evilfactor):\n",
    "        Account.__init__(self,name,balance) #初始化Account, 可以不带父类的参数\n",
    "        self.evilfactor = evilfactor\n",
    "    def inquiry(self):\n",
    "        if random.randint(0,4)==1: #虚假存款, 高估自己的存款\n",
    "            return self.balance * evilfactor #也可以使用self.evilfactor\n",
    "        else:\n",
    "            return self.balance"
   ]
  },
  {
   "cell_type": "markdown",
   "metadata": {},
   "source": [
    "> 派生类定义`__init__`时不会自动调用该父类的`__init__`方法;  \n",
    "派生类调用父类的`__init__`方法;  \n",
    "* 带参数调用: `Account.__init__(self,name,balance)`\n",
    "* 如果不知道基类是否定义了`__init__`, 可以在不提供任何参数的情况下调用它: `Account.__init__`();  "
   ]
  },
  {
   "cell_type": "markdown",
   "metadata": {},
   "source": [
    "派生类将重新实现方法, 但是还想调用原始的方法;   \n",
    "在新类中可以显示的调用父类中的原始方法, 将self作为第一个参数传递即可;  "
   ]
  },
  {
   "cell_type": "code",
   "execution_count": 16,
   "metadata": {},
   "outputs": [],
   "source": [
    "class MoreEvilAccount(EvilAccount):\n",
    "    def deposit(self,amount):\n",
    "        self.withdraw(5.00)   #手续费\n",
    "        EvilAccount.deposit(self.amount) #现在进行存款"
   ]
  },
  {
   "cell_type": "markdown",
   "metadata": {},
   "source": [
    "注意: EvilAccount其实并没有定义 deposit, 只是继承了 Account 的 deposit, 为了更明确的表名 deposit 的来源, 可以使用 **super()函数**: 希望调用以前的实现, 而不管它是在哪个基类中定义的;"
   ]
  },
  {
   "cell_type": "code",
   "execution_count": 17,
   "metadata": {},
   "outputs": [],
   "source": [
    "# 将上例改为\n",
    "class MoreEvilAccount(EvilAccount):\n",
    "    def deposit(self,amount):\n",
    "        self.withdraw(5.00)   \n",
    "        super().deposit(amount) #Python3可简写, 表名 deposit 可以来源该于该类的任何父类\n",
    "        #super(MoreEvilAccount, self).deposit(amount) "
   ]
  },
  {
   "cell_type": "markdown",
   "metadata": {},
   "source": [
    "python支持多重继承, 因此`class KK(c1,c2,..,cn):`这种写法成立;"
   ]
  },
  {
   "cell_type": "code",
   "execution_count": 18,
   "metadata": {},
   "outputs": [],
   "source": [
    "class DepositCharge(object):\n",
    "    fee=5.00\n",
    "    def deposit_fee(self):\n",
    "        self.withdraw(self.fee)\n",
    "\n",
    "class WithdrawCharge(object):\n",
    "    fee=2.50\n",
    "    def withdraw_fee(self):\n",
    "        self.withdraw(self.fee)\n",
    "\n",
    "# 使用多重继承\n",
    "class MostEvilAccount(EvilAccount, DepositCharge, WithdrawCharge):\n",
    "    def deposit(self,amt):\n",
    "        self.deposit_fee()\n",
    "        super(MostEvilAccount,self).deposit(amt)\n",
    "    def withdraw(self,amt):\n",
    "        self.withdraw_fee()\n",
    "        super(MostEvilAccount,self),withdraw(amt)        "
   ]
  },
  {
   "cell_type": "markdown",
   "metadata": {},
   "source": [
    "使用多重继承之后, 属性的解析将变得非常复杂, 因为可以使用很多搜索路径来绑定属性;"
   ]
  },
  {
   "cell_type": "code",
   "execution_count": 19,
   "metadata": {},
   "outputs": [],
   "source": [
    "%%pass 运行导致程序终止?\n",
    "d = MostEvilAccount(\"urd\", 100, 1.10)\n",
    "d.deposit_fee()"
   ]
  },
  {
   "cell_type": "markdown",
   "metadata": {},
   "source": [
    "基类的排列顺序"
   ]
  },
  {
   "cell_type": "code",
   "execution_count": 20,
   "metadata": {},
   "outputs": [
    {
     "data": {
      "text/plain": [
       "(__main__.MostEvilAccount,\n",
       " __main__.EvilAccount,\n",
       " __main__.Account,\n",
       " __main__.DepositCharge,\n",
       " __main__.WithdrawCharge,\n",
       " object)"
      ]
     },
     "execution_count": 20,
     "metadata": {},
     "output_type": "execute_result"
    }
   ],
   "source": [
    "MostEvilAccount.__mro__"
   ]
  },
  {
   "cell_type": "markdown",
   "metadata": {},
   "source": [
    "类的层次结构"
   ]
  },
  {
   "cell_type": "code",
   "execution_count": 24,
   "metadata": {},
   "outputs": [
    {
     "name": "stdout",
     "output_type": "stream",
     "text": [
      "无法创建一致的方法解析顺序\n"
     ]
    }
   ],
   "source": [
    "try:\n",
    "    class X(object): pass #先定义X, 先检查类X\n",
    "    class Y(X): pass      #Y继承于X, Y更特殊, 先检查Y\n",
    "    class Z(X,Y): pass\n",
    "except TypeError as e:\n",
    "    print(\"无法创建一致的方法解析顺序\")"
   ]
  },
  {
   "cell_type": "markdown",
   "metadata": {},
   "source": [
    "## 多态动态绑定和鸭子类型"
   ]
  },
  {
   "cell_type": "markdown",
   "metadata": {},
   "source": [
    "**动态绑定**(在继承背景下, 也被称为**多态性**): 可以在不考虑实例类型的情况下使用实例;  \n",
    "**鸭子类型**: 看起来像, 叫起来像, 走起路来像的东西就是鸭子, 而不管它是不是真正的鸭子;  "
   ]
  },
  {
   "cell_type": "markdown",
   "metadata": {},
   "source": [
    "如何实现多态性:  \n",
    "* 继承;\n",
    "* 外观和行为像, 但是没有继承关系, 保持`程序组件的松散耦合`;"
   ]
  },
  {
   "cell_type": "markdown",
   "metadata": {},
   "source": [
    "## 静态方法和类方法"
   ]
  },
  {
   "cell_type": "markdown",
   "metadata": {},
   "source": [
    "在类定义中, 所有函数的操作对象都假定为调用它的实例(实例本身总是作为第一个参数传递到其所召唤的方法中); 在类命名空间中还存在其他的方法, 不需要调用实例本身;  \n",
    "**静态方法**: 位于类命名空间中的普通函数, 它不会对任何实例类型进行操作;  \n",
    "**类方法**: 类方法是操作类本身的方法;"
   ]
  },
  {
   "cell_type": "markdown",
   "metadata": {},
   "source": [
    "`@staticmethod`装饰器用于定义静态方法"
   ]
  },
  {
   "cell_type": "code",
   "execution_count": 26,
   "metadata": {},
   "outputs": [],
   "source": [
    "class Foo(object):\n",
    "    @staticmethod\n",
    "    def add(x,y):\n",
    "        return x + y"
   ]
  },
  {
   "cell_type": "markdown",
   "metadata": {},
   "source": [
    "要调用静态方法, 就像调用普通函数一样简单, 但是要添加所在类的类名作为前缀;"
   ]
  },
  {
   "cell_type": "code",
   "execution_count": 28,
   "metadata": {},
   "outputs": [
    {
     "data": {
      "text/plain": [
       "7"
      ]
     },
     "execution_count": 28,
     "metadata": {},
     "output_type": "execute_result"
    }
   ],
   "source": [
    "Foo.add(3,4)"
   ]
  },
  {
   "cell_type": "markdown",
   "metadata": {},
   "source": [
    "`@classmethod`装饰器用于定义类方法, 类方法用`cls`表示类本身;"
   ]
  },
  {
   "cell_type": "code",
   "execution_count": 29,
   "metadata": {},
   "outputs": [],
   "source": [
    "class Times(object):\n",
    "    factor = 1\n",
    "    @classmethod\n",
    "    def mul(cls,x):\n",
    "        return cls.factor*x\n",
    "class TwoTimes(Times):\n",
    "    factor = 2"
   ]
  },
  {
   "cell_type": "code",
   "execution_count": 31,
   "metadata": {},
   "outputs": [
    {
     "data": {
      "text/plain": [
       "8"
      ]
     },
     "execution_count": 31,
     "metadata": {},
     "output_type": "execute_result"
    }
   ],
   "source": [
    "TwoTimes.mul(4) # 类TwoTimes调用mul, cls表示的就是类TwoTimes"
   ]
  },
  {
   "cell_type": "markdown",
   "metadata": {},
   "source": [
    "类方法的用途: "
   ]
  },
  {
   "cell_type": "code",
   "execution_count": null,
   "metadata": {},
   "outputs": [],
   "source": []
  },
  {
   "cell_type": "markdown",
   "metadata": {},
   "source": [
    "## 特性"
   ]
  },
  {
   "cell_type": "markdown",
   "metadata": {},
   "source": [
    "**特性**是对类变量信息的一种二次处理(综合或者概括), 可以使属性的指向性更加清晰和明确;"
   ]
  },
  {
   "cell_type": "code",
   "execution_count": 40,
   "metadata": {},
   "outputs": [],
   "source": [
    "import math\n",
    "class Circle(object):\n",
    "    def __init__(self,radius):\n",
    "        self.radius = radius\n",
    "    #定义Circle的一些附加特性\n",
    "    @property\n",
    "    def area(self):\n",
    "        return round(math.pi * self.radius**2, 3)\n",
    "    @property\n",
    "    def perimeter(self):\n",
    "        return round(2*math.pi * self.radius, 3)    "
   ]
  },
  {
   "cell_type": "code",
   "execution_count": 45,
   "metadata": {},
   "outputs": [
    {
     "name": "stdout",
     "output_type": "stream",
     "text": [
      "c.radius  c.area  c.perimeter\n",
      "--------  ------  -----------\n",
      "1         3.142   6.283      \n"
     ]
    }
   ],
   "source": [
    "c = Circle(1) #area是特性, 调用时不接`()`\n",
    "%C c.radius; c.area; c.perimeter"
   ]
  },
  {
   "cell_type": "code",
   "execution_count": 44,
   "metadata": {
    "scrolled": true
   },
   "outputs": [
    {
     "name": "stdout",
     "output_type": "stream",
     "text": [
      "c.radius  c.area  c.perimeter\n",
      "--------  ------  -----------\n",
      "1         3.142   6.283      \n",
      "can't set attribute\n"
     ]
    }
   ],
   "source": [
    "try:\n",
    "    c.area = 1\n",
    "except AttributeError as e:\n",
    "    print(e)"
   ]
  },
  {
   "cell_type": "markdown",
   "metadata": {},
   "source": [
    "方法本身是被隐性的作为一类特性处理的, f.spam返回一个**绑定方法**对象"
   ]
  },
  {
   "cell_type": "code",
   "execution_count": 50,
   "metadata": {},
   "outputs": [],
   "source": [
    "class Foo(object):\n",
    "    def __init__(self, name):\n",
    "        self.name = name\n",
    "    def spam(self, x):\n",
    "        print(self.name, x)"
   ]
  },
  {
   "cell_type": "code",
   "execution_count": 51,
   "metadata": {},
   "outputs": [],
   "source": [
    "f = Foo('urkk')"
   ]
  },
  {
   "cell_type": "code",
   "execution_count": 53,
   "metadata": {},
   "outputs": [
    {
     "data": {
      "text/plain": [
       "<bound method Foo.spam of <__main__.Foo object at 0x00000000054D78D0>>"
      ]
     },
     "execution_count": 53,
     "metadata": {},
     "output_type": "execute_result"
    }
   ],
   "source": [
    "f.spam"
   ]
  },
  {
   "cell_type": "markdown",
   "metadata": {},
   "source": [
    "特性可以截取操作权, 以设置和删除属性;   \n",
    "向特性附加setter和deleter方法;"
   ]
  },
  {
   "cell_type": "code",
   "execution_count": 4,
   "metadata": {},
   "outputs": [
    {
     "data": {
      "text/plain": [
       "'文档活动位'"
      ]
     },
     "execution_count": 4,
     "metadata": {},
     "output_type": "execute_result"
    }
   ],
   "source": [
    "KK1"
   ]
  },
  {
   "cell_type": "code",
   "execution_count": 74,
   "metadata": {},
   "outputs": [],
   "source": [
    "class Foo(object):\n",
    "    def __init__(self ,name):\n",
    "        self.__name = name\n",
    "    @property\n",
    "    def name(self):\n",
    "        return self.__name\n",
    "    @name.setter\n",
    "    def name(self,value):\n",
    "        if not isinstance(value,str):\n",
    "            raise TypeError(\"Must be a string!\")\n",
    "        self.__name = value\n",
    "    @name.deleter\n",
    "    def name(self):\n",
    "        raise TypeError(\"Can't delete name\")"
   ]
  },
  {
   "cell_type": "code",
   "execution_count": 75,
   "metadata": {},
   "outputs": [
    {
     "data": {
      "text/plain": [
       "'urkk'"
      ]
     },
     "execution_count": 75,
     "metadata": {},
     "output_type": "execute_result"
    }
   ],
   "source": [
    "f = Foo('urkk')\n",
    "f.name"
   ]
  },
  {
   "cell_type": "code",
   "execution_count": 76,
   "metadata": {},
   "outputs": [
    {
     "data": {
      "text/plain": [
       "'urkk2'"
      ]
     },
     "execution_count": 76,
     "metadata": {},
     "output_type": "execute_result"
    }
   ],
   "source": [
    "f.name = \"urkk2\"\n",
    "f.name"
   ]
  },
  {
   "cell_type": "code",
   "execution_count": 79,
   "metadata": {},
   "outputs": [
    {
     "name": "stdout",
     "output_type": "stream",
     "text": [
      "TypeError: Can't delete name\n"
     ]
    }
   ],
   "source": [
    "try:\n",
    "    del f.name \n",
    "except TypeError as e:\n",
    "    print(\"TypeError:\", e)"
   ]
  },
  {
   "cell_type": "markdown",
   "metadata": {},
   "source": [
    "## 描述符"
   ]
  },
  {
   "cell_type": "markdown",
   "metadata": {},
   "source": []
  },
  {
   "cell_type": "code",
   "execution_count": null,
   "metadata": {},
   "outputs": [],
   "source": []
  },
  {
   "cell_type": "markdown",
   "metadata": {},
   "source": []
  },
  {
   "cell_type": "code",
   "execution_count": null,
   "metadata": {},
   "outputs": [],
   "source": []
  },
  {
   "cell_type": "markdown",
   "metadata": {},
   "source": [
    "## 数据封装和私有属性"
   ]
  },
  {
   "cell_type": "markdown",
   "metadata": {},
   "source": []
  },
  {
   "cell_type": "code",
   "execution_count": null,
   "metadata": {},
   "outputs": [],
   "source": []
  },
  {
   "cell_type": "markdown",
   "metadata": {},
   "source": []
  },
  {
   "cell_type": "code",
   "execution_count": null,
   "metadata": {},
   "outputs": [],
   "source": []
  },
  {
   "cell_type": "markdown",
   "metadata": {},
   "source": [
    "## 对象内存管理"
   ]
  },
  {
   "cell_type": "markdown",
   "metadata": {},
   "source": []
  },
  {
   "cell_type": "code",
   "execution_count": null,
   "metadata": {},
   "outputs": [],
   "source": []
  },
  {
   "cell_type": "markdown",
   "metadata": {},
   "source": []
  },
  {
   "cell_type": "code",
   "execution_count": null,
   "metadata": {},
   "outputs": [],
   "source": []
  },
  {
   "cell_type": "markdown",
   "metadata": {},
   "source": [
    "## 对象表示和属性绑定"
   ]
  },
  {
   "cell_type": "markdown",
   "metadata": {},
   "source": []
  },
  {
   "cell_type": "code",
   "execution_count": null,
   "metadata": {},
   "outputs": [],
   "source": []
  },
  {
   "cell_type": "markdown",
   "metadata": {},
   "source": []
  },
  {
   "cell_type": "code",
   "execution_count": null,
   "metadata": {},
   "outputs": [],
   "source": []
  },
  {
   "cell_type": "markdown",
   "metadata": {},
   "source": [
    "## `__slots__`"
   ]
  },
  {
   "cell_type": "markdown",
   "metadata": {},
   "source": []
  },
  {
   "cell_type": "code",
   "execution_count": null,
   "metadata": {},
   "outputs": [],
   "source": []
  },
  {
   "cell_type": "markdown",
   "metadata": {},
   "source": []
  },
  {
   "cell_type": "code",
   "execution_count": null,
   "metadata": {},
   "outputs": [],
   "source": []
  },
  {
   "cell_type": "markdown",
   "metadata": {},
   "source": [
    "## 运算符重载和"
   ]
  },
  {
   "cell_type": "markdown",
   "metadata": {},
   "source": []
  },
  {
   "cell_type": "code",
   "execution_count": null,
   "metadata": {},
   "outputs": [],
   "source": []
  },
  {
   "cell_type": "markdown",
   "metadata": {},
   "source": []
  },
  {
   "cell_type": "code",
   "execution_count": null,
   "metadata": {},
   "outputs": [],
   "source": []
  },
  {
   "cell_type": "markdown",
   "metadata": {},
   "source": [
    "## 类型和类成员属性"
   ]
  },
  {
   "cell_type": "markdown",
   "metadata": {},
   "source": []
  },
  {
   "cell_type": "code",
   "execution_count": null,
   "metadata": {},
   "outputs": [],
   "source": []
  },
  {
   "cell_type": "markdown",
   "metadata": {},
   "source": []
  },
  {
   "cell_type": "code",
   "execution_count": null,
   "metadata": {},
   "outputs": [],
   "source": []
  },
  {
   "cell_type": "markdown",
   "metadata": {},
   "source": [
    "## 抽象基类"
   ]
  },
  {
   "cell_type": "markdown",
   "metadata": {},
   "source": []
  },
  {
   "cell_type": "code",
   "execution_count": null,
   "metadata": {},
   "outputs": [],
   "source": []
  },
  {
   "cell_type": "markdown",
   "metadata": {},
   "source": []
  },
  {
   "cell_type": "code",
   "execution_count": null,
   "metadata": {},
   "outputs": [],
   "source": []
  },
  {
   "cell_type": "markdown",
   "metadata": {},
   "source": [
    "## 原类"
   ]
  },
  {
   "cell_type": "markdown",
   "metadata": {},
   "source": []
  },
  {
   "cell_type": "code",
   "execution_count": null,
   "metadata": {},
   "outputs": [],
   "source": []
  },
  {
   "cell_type": "markdown",
   "metadata": {},
   "source": []
  },
  {
   "cell_type": "code",
   "execution_count": null,
   "metadata": {},
   "outputs": [],
   "source": []
  },
  {
   "cell_type": "markdown",
   "metadata": {},
   "source": [
    "## 类型装饰"
   ]
  },
  {
   "cell_type": "markdown",
   "metadata": {},
   "source": []
  },
  {
   "cell_type": "code",
   "execution_count": null,
   "metadata": {},
   "outputs": [],
   "source": []
  },
  {
   "cell_type": "markdown",
   "metadata": {},
   "source": []
  },
  {
   "cell_type": "code",
   "execution_count": null,
   "metadata": {},
   "outputs": [],
   "source": []
  }
 ],
 "metadata": {
  "kernelspec": {
   "display_name": "Python 3",
   "language": "python",
   "name": "python3"
  },
  "language_info": {
   "codemirror_mode": {
    "name": "ipython",
    "version": 3
   },
   "file_extension": ".py",
   "mimetype": "text/x-python",
   "name": "python",
   "nbconvert_exporter": "python",
   "pygments_lexer": "ipython3",
   "version": "3.6.5"
  },
  "toc": {
   "base_numbering": "7",
   "nav_menu": {},
   "number_sections": true,
   "sideBar": true,
   "skip_h1_title": false,
   "title_cell": "Table of Contents",
   "title_sidebar": "Contents",
   "toc_cell": false,
   "toc_position": {
    "height": "calc(100% - 180px)",
    "left": "10px",
    "top": "150px",
    "width": "165.667px"
   },
   "toc_section_display": true,
   "toc_window_display": false
  }
 },
 "nbformat": 4,
 "nbformat_minor": 2
}

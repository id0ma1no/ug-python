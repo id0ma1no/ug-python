{
 "cells": [
  {
   "cell_type": "markdown",
   "metadata": {},
   "source": [
    "## 递归"
   ]
  },
  {
   "cell_type": "markdown",
   "metadata": {},
   "source": [
    "定义递归函数"
   ]
  },
  {
   "cell_type": "code",
   "execution_count": 1,
   "metadata": {},
   "outputs": [],
   "source": [
    "def fractorial(n):\n",
    "    if n<=1: return 1\n",
    "    else: return n*fractorial(n-1)"
   ]
  },
  {
   "cell_type": "markdown",
   "metadata": {},
   "source": [
    "递归函数调用的最大深度"
   ]
  },
  {
   "cell_type": "code",
   "execution_count": 3,
   "metadata": {},
   "outputs": [],
   "source": [
    "def dir2(obj, piece=None, exclued_upper=True, max_length=None):\n",
    "    \"\"\"以更友好的方式列出对象所包含的方法; piece为方法应含有的子串;\"\"\"\n",
    "    ans = [i for i in dir(obj) if i[0] != \"_\"]\n",
    "    if exclued_upper!=True:\n",
    "        ans = [i for i in ans if i[0].islower()]\n",
    "    if piece!=None:\n",
    "        ans = [i for i in ans if i.find(piece)!=-1]\n",
    "    if max_length!=None:\n",
    "        ans = [i for i in ans if len(i) <= max_length]\n",
    "    ##上述过程类似于一个管道, 满足参数条件就要执行一次清除##\n",
    "    if len(ans) == 0:\n",
    "        print(\">> Nothing was found. >>>\")\n",
    "    else: return ans\n",
    "    "
   ]
  },
  {
   "cell_type": "code",
   "execution_count": 9,
   "metadata": {},
   "outputs": [
    {
     "data": {
      "text/plain": [
       "['SVG', 'readstring', 'smile']"
      ]
     },
     "execution_count": 9,
     "metadata": {},
     "output_type": "execute_result"
    }
   ],
   "source": [
    "dir2(ibr.wrk)"
   ]
  },
  {
   "cell_type": "code",
   "execution_count": 2,
   "metadata": {},
   "outputs": [],
   "source": [
    "import ibr"
   ]
  },
  {
   "cell_type": "code",
   "execution_count": 4,
   "metadata": {},
   "outputs": [],
   "source": [
    "from ibr import kk1"
   ]
  }
 ],
 "metadata": {
  "kernelspec": {
   "display_name": "Python 3",
   "language": "python",
   "name": "python3"
  },
  "language_info": {
   "codemirror_mode": {
    "name": "ipython",
    "version": 3
   },
   "file_extension": ".py",
   "mimetype": "text/x-python",
   "name": "python",
   "nbconvert_exporter": "python",
   "pygments_lexer": "ipython3",
   "version": "3.6.5"
  },
  "toc": {
   "base_numbering": 1,
   "nav_menu": {},
   "number_sections": true,
   "sideBar": true,
   "skip_h1_title": true,
   "title_cell": "Table of Contents",
   "title_sidebar": "Contents",
   "toc_cell": false,
   "toc_position": {
    "height": "calc(100% - 180px)",
    "left": "10px",
    "top": "150px",
    "width": "200.2px"
   },
   "toc_section_display": true,
   "toc_window_display": false
  }
 },
 "nbformat": 4,
 "nbformat_minor": 2
}

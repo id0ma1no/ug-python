{
 "cells": [
  {
   "cell_type": "markdown",
   "metadata": {},
   "source": [
    "# 递归"
   ]
  },
  {
   "cell_type": "markdown",
   "metadata": {},
   "source": [
    "## 说明性例子"
   ]
  },
  {
   "cell_type": "markdown",
   "metadata": {},
   "source": [
    "### 阶乘函数的递归形式"
   ]
  },
  {
   "cell_type": "code",
   "execution_count": 21,
   "metadata": {},
   "outputs": [],
   "source": [
    "def factorial(n):\n",
    "    if n == 0:\n",
    "        return 1\n",
    "    else:\n",
    "        return n * factorial(n-1)"
   ]
  },
  {
   "cell_type": "markdown",
   "metadata": {},
   "source": [
    "### 绘制英式标尺"
   ]
  },
  {
   "cell_type": "code",
   "execution_count": 22,
   "metadata": {},
   "outputs": [],
   "source": [
    "def draw_line(tick_length, tick_label=''):\n",
    "    \"\"\"Draw one line with given tick length (followed by optional label).\"\"\"\n",
    "    line = '-' * tick_length\n",
    "    if tick_label:\n",
    "        line += ' ' + tick_label\n",
    "    print(line)"
   ]
  },
  {
   "cell_type": "code",
   "execution_count": 23,
   "metadata": {},
   "outputs": [
    {
     "name": "stdout",
     "output_type": "stream",
     "text": [
      "----- 5\n"
     ]
    }
   ],
   "source": [
    "draw_line(5,\"5\")"
   ]
  },
  {
   "cell_type": "code",
   "execution_count": 24,
   "metadata": {},
   "outputs": [],
   "source": [
    "def draw_interval(center_length):\n",
    "    \"\"\"Draw tick interval based upon a central tick length.\"\"\"\n",
    "    if center_length > 0:                     # stop when length drops to 0\n",
    "        draw_interval(center_length - 1)      # recursively draw top ticks\n",
    "        draw_line(center_length)              # draw center tick\n",
    "        draw_interval(center_length - 1)      # recursively draw bottom ticks"
   ]
  },
  {
   "cell_type": "code",
   "execution_count": 25,
   "metadata": {},
   "outputs": [
    {
     "name": "stdout",
     "output_type": "stream",
     "text": [
      "-\n",
      "--\n",
      "-\n",
      "---\n",
      "-\n",
      "--\n",
      "-\n"
     ]
    }
   ],
   "source": [
    "draw_interval(center_length=3)"
   ]
  },
  {
   "cell_type": "code",
   "execution_count": 26,
   "metadata": {},
   "outputs": [
    {
     "name": "stdout",
     "output_type": "stream",
     "text": [
      "---- 0\n",
      "-\n",
      "--\n",
      "-\n",
      "---\n",
      "-\n",
      "--\n",
      "-\n",
      "---- 1\n",
      "-\n",
      "--\n",
      "-\n",
      "---\n",
      "-\n",
      "--\n",
      "-\n",
      "---- 2\n",
      "##############################\n",
      "----- 0\n",
      "-\n",
      "--\n",
      "-\n",
      "---\n",
      "-\n",
      "--\n",
      "-\n",
      "----\n",
      "-\n",
      "--\n",
      "-\n",
      "---\n",
      "-\n",
      "--\n",
      "-\n",
      "----- 1\n",
      "##############################\n",
      "--- 0\n",
      "-\n",
      "--\n",
      "-\n",
      "--- 1\n",
      "-\n",
      "--\n",
      "-\n",
      "--- 2\n",
      "-\n",
      "--\n",
      "-\n",
      "--- 3\n"
     ]
    }
   ],
   "source": [
    "def draw_ruler(num_inches, major_length):\n",
    "    \"\"\"Draw English ruler with given number of inches and major tick length.\"\"\"\n",
    "    draw_line(major_length, '0')              # draw inch 0 line\n",
    "    for j in range(1, 1 + num_inches):\n",
    "        draw_interval(major_length - 1)       # draw interior ticks for inch\n",
    "        draw_line(major_length, str(j))       # draw inch j line and label\n",
    "if __name__ == '__main__':\n",
    "    draw_ruler(2,4)\n",
    "    print('#'*30)\n",
    "    draw_ruler(1,5)\n",
    "    print('#'*30)\n",
    "    draw_ruler(3,3)"
   ]
  },
  {
   "cell_type": "markdown",
   "metadata": {},
   "source": [
    "### 二分查找算法的实现"
   ]
  },
  {
   "cell_type": "code",
   "execution_count": 27,
   "metadata": {},
   "outputs": [],
   "source": [
    "def binary_search(data, target, low, high):\n",
    "    \"\"\"Return True if target is found in indicated portion of a Python list.\n",
    "\n",
    "    The search only considers the portion from data[low] to data[high] inclusive.\n",
    "    \"\"\"\n",
    "    if low > high:\n",
    "        return False                    # interval is empty; no match\n",
    "    else:\n",
    "        mid = (low + high) // 2\n",
    "    if target == data[mid]:         # found a match\n",
    "        return True\n",
    "    elif target < data[mid]:\n",
    "        # recur on the portion left of the middle\n",
    "        return binary_search(data, target, low, mid - 1)\n",
    "    else:\n",
    "        # recur on the portion right of the middle\n",
    "        return binary_search(data, target, mid + 1, high)"
   ]
  },
  {
   "cell_type": "code",
   "execution_count": 28,
   "metadata": {},
   "outputs": [
    {
     "data": {
      "text/plain": [
       "False"
      ]
     },
     "execution_count": 28,
     "metadata": {},
     "output_type": "execute_result"
    }
   ],
   "source": [
    "binary_search( range(100),100,0,99 )"
   ]
  },
  {
   "cell_type": "markdown",
   "metadata": {},
   "source": [
    "### 文件系统"
   ]
  },
  {
   "cell_type": "code",
   "execution_count": null,
   "metadata": {},
   "outputs": [],
   "source": []
  },
  {
   "cell_type": "code",
   "execution_count": null,
   "metadata": {},
   "outputs": [],
   "source": []
  }
 ],
 "metadata": {
  "kernelspec": {
   "display_name": "Python 3",
   "language": "python",
   "name": "python3"
  },
  "language_info": {
   "codemirror_mode": {
    "name": "ipython",
    "version": 3
   },
   "file_extension": ".py",
   "mimetype": "text/x-python",
   "name": "python",
   "nbconvert_exporter": "python",
   "pygments_lexer": "ipython3",
   "version": "3.6.5"
  },
  "toc": {
   "base_numbering": "4",
   "nav_menu": {},
   "number_sections": true,
   "sideBar": true,
   "skip_h1_title": false,
   "title_cell": "Table of Contents",
   "title_sidebar": "Contents",
   "toc_cell": false,
   "toc_position": {},
   "toc_section_display": true,
   "toc_window_display": false
  }
 },
 "nbformat": 4,
 "nbformat_minor": 2
}

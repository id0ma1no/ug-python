{
 "cells": [
  {
   "cell_type": "code",
   "execution_count": 2,
   "metadata": {
    "collapsed": true,
    "group_control": {
     "group": 0
    }
   },
   "outputs": [],
   "source": [
    "import pandas as pd\n",
    "import numpy as np\n",
    "pd.set_option(\"display.show_dimensions\", False)\n",
    "pd.set_option(\"display.float_format\", \"{:4.2g}\".format)"
   ]
  },
  {
   "cell_type": "markdown",
   "metadata": {},
   "source": [
    "### 与`NaN`相关的函数"
   ]
  },
  {
   "cell_type": "markdown",
   "metadata": {},
   "source": [
    "元素类型为T,F的DataFrame对象叫做布尔类型的DataFrame对象"
   ]
  },
  {
   "cell_type": "code",
   "execution_count": 3,
   "metadata": {
    "collapsed": false,
    "scrolled": true
   },
   "outputs": [
    {
     "name": "stdout",
     "output_type": "stream",
     "text": [
      "  df_int             df_int > 2      \n",
      "----------     ----------------------\n",
      "   A  B  C            A      B      C\n",
      "0  0  3  2     0  False   True  False\n",
      "1  0  1  3     1  False  False   True\n",
      "2  9  7  5     2   True   True   True\n",
      "3  8  3  3     3   True   True   True\n",
      "4  2  6  0     4  False   True  False\n",
      "5  4  6  9     5   True   True   True\n",
      "6  3  8  4     6   True   True   True\n",
      "7  7  6  1     7   True   True  False\n",
      "8  5  2  1     8   True  False  False\n",
      "9  5  3  2     9   True   True  False\n"
     ]
    }
   ],
   "source": [
    "np.random.seed(41)\n",
    "df_int = pd.DataFrame(np.random.randint(0, 10, (10, 3)), \n",
    "                      columns=list(\"ABC\"))\n",
    "%C 5 df_int; df_int > 2"
   ]
  },
  {
   "cell_type": "code",
   "execution_count": 4,
   "metadata": {
    "collapsed": false
   },
   "outputs": [
    {
     "data": {
      "text/html": [
       "<div>\n",
       "<table border=\"1\" class=\"dataframe\">\n",
       "  <thead>\n",
       "    <tr style=\"text-align: right;\">\n",
       "      <th></th>\n",
       "      <th>A</th>\n",
       "      <th>B</th>\n",
       "      <th>C</th>\n",
       "    </tr>\n",
       "  </thead>\n",
       "  <tbody>\n",
       "    <tr>\n",
       "      <th>0</th>\n",
       "      <td>10</td>\n",
       "      <td>3</td>\n",
       "      <td>nan</td>\n",
       "    </tr>\n",
       "    <tr>\n",
       "      <th>1</th>\n",
       "      <td>10</td>\n",
       "      <td>nan</td>\n",
       "      <td>3</td>\n",
       "    </tr>\n",
       "    <tr>\n",
       "      <th>2</th>\n",
       "      <td>19</td>\n",
       "      <td>7</td>\n",
       "      <td>5</td>\n",
       "    </tr>\n",
       "    <tr>\n",
       "      <th>3</th>\n",
       "      <td>18</td>\n",
       "      <td>3</td>\n",
       "      <td>3</td>\n",
       "    </tr>\n",
       "    <tr>\n",
       "      <th>4</th>\n",
       "      <td>12</td>\n",
       "      <td>6</td>\n",
       "      <td>nan</td>\n",
       "    </tr>\n",
       "    <tr>\n",
       "      <th>5</th>\n",
       "      <td>14</td>\n",
       "      <td>6</td>\n",
       "      <td>9</td>\n",
       "    </tr>\n",
       "    <tr>\n",
       "      <th>6</th>\n",
       "      <td>13</td>\n",
       "      <td>8</td>\n",
       "      <td>4</td>\n",
       "    </tr>\n",
       "    <tr>\n",
       "      <th>7</th>\n",
       "      <td>17</td>\n",
       "      <td>6</td>\n",
       "      <td>nan</td>\n",
       "    </tr>\n",
       "    <tr>\n",
       "      <th>8</th>\n",
       "      <td>15</td>\n",
       "      <td>nan</td>\n",
       "      <td>nan</td>\n",
       "    </tr>\n",
       "    <tr>\n",
       "      <th>9</th>\n",
       "      <td>15</td>\n",
       "      <td>3</td>\n",
       "      <td>nan</td>\n",
       "    </tr>\n",
       "  </tbody>\n",
       "</table>\n",
       "</div>"
      ],
      "text/plain": [
       "    A    B    C\n",
       "0  10    3  nan\n",
       "1  10  nan    3\n",
       "2  19    7    5\n",
       "3  18    3    3\n",
       "4  12    6  nan\n",
       "5  14    6    9\n",
       "6  13    8    4\n",
       "7  17    6  nan\n",
       "8  15  nan  nan\n",
       "9  15    3  nan"
      ]
     },
     "execution_count": 4,
     "metadata": {},
     "output_type": "execute_result"
    }
   ],
   "source": [
    "df_int[\"A\"] += 10\n",
    "df_nan = df_int.where(df_int > 2) # where 函数将所有的FALSE转化成NaN\n",
    "df_nan"
   ]
  },
  {
   "cell_type": "code",
   "execution_count": 5,
   "metadata": {
    "collapsed": false
   },
   "outputs": [
    {
     "name": "stdout",
     "output_type": "stream",
     "text": [
      "df_int.dtypes  df_nan.dtypes\n",
      "-------------  -------------\n",
      "A    int32     A      int32 \n",
      "B    int32     B    float64 \n",
      "C    int32     C    float64 \n",
      "dtype: object  dtype: object\n"
     ]
    }
   ],
   "source": [
    "%C df_int.dtypes; df_nan.dtypes\n",
    "#   B C 列含有NaN, 原整数类型变为浮点类型"
   ]
  },
  {
   "cell_type": "markdown",
   "metadata": {},
   "source": [
    "ianull(), notnull()用于判断DataFrame对象的每个元素是否为NaN"
   ]
  },
  {
   "cell_type": "code",
   "execution_count": 6,
   "metadata": {
    "collapsed": false
   },
   "outputs": [
    {
     "name": "stdout",
     "output_type": "stream",
     "text": [
      "   df_nan.isnull()           df_nan.notnull()  \n",
      "----------------------    ---------------------\n",
      "       A      B      C          A      B      C\n",
      "0  False  False   True    0  True   True  False\n",
      "1  False   True  False    1  True  False   True\n",
      "2  False  False  False    2  True   True   True\n",
      "3  False  False  False    3  True   True   True\n",
      "4  False  False   True    4  True   True  False\n",
      "5  False  False  False    5  True   True   True\n",
      "6  False  False  False    6  True   True   True\n",
      "7  False  False   True    7  True   True  False\n",
      "8  False   True   True    8  True  False  False\n",
      "9  False  False   True    9  True   True  False\n"
     ]
    }
   ],
   "source": [
    "%C 4 df_nan.isnull(); df_nan.notnull()"
   ]
  },
  {
   "cell_type": "markdown",
   "metadata": {},
   "source": [
    "count()函数返回每行或每列非NaN元素的个数"
   ]
  },
  {
   "cell_type": "code",
   "execution_count": 7,
   "metadata": {
    "collapsed": false
   },
   "outputs": [
    {
     "name": "stdout",
     "output_type": "stream",
     "text": [
      "df_nan.count()    df_nan.count(axis=1)\n",
      "--------------    --------------------\n",
      "A    10           0    2              \n",
      "B     8           1    2              \n",
      "C     5           2    3              \n",
      "dtype: int64      3    3              \n",
      "                  4    2              \n",
      "                  5    3              \n",
      "                  6    3              \n",
      "                  7    2              \n",
      "                  8    1              \n",
      "                  9    2              \n",
      "                  dtype: int64        \n"
     ]
    }
   ],
   "source": [
    "%C 4 df_nan.count(); df_nan.count(axis=1)"
   ]
  },
  {
   "cell_type": "markdown",
   "metadata": {},
   "source": [
    "dropna()删除包含NaN的行或列"
   ]
  },
  {
   "cell_type": "code",
   "execution_count": 8,
   "metadata": {
    "collapsed": false
   },
   "outputs": [
    {
     "data": {
      "text/html": [
       "<div>\n",
       "<table border=\"1\" class=\"dataframe\">\n",
       "  <thead>\n",
       "    <tr style=\"text-align: right;\">\n",
       "      <th></th>\n",
       "      <th>A</th>\n",
       "      <th>B</th>\n",
       "      <th>C</th>\n",
       "    </tr>\n",
       "  </thead>\n",
       "  <tbody>\n",
       "    <tr>\n",
       "      <th>0</th>\n",
       "      <td>10</td>\n",
       "      <td>3</td>\n",
       "      <td>nan</td>\n",
       "    </tr>\n",
       "    <tr>\n",
       "      <th>1</th>\n",
       "      <td>10</td>\n",
       "      <td>nan</td>\n",
       "      <td>3</td>\n",
       "    </tr>\n",
       "    <tr>\n",
       "      <th>2</th>\n",
       "      <td>19</td>\n",
       "      <td>7</td>\n",
       "      <td>5</td>\n",
       "    </tr>\n",
       "    <tr>\n",
       "      <th>3</th>\n",
       "      <td>18</td>\n",
       "      <td>3</td>\n",
       "      <td>3</td>\n",
       "    </tr>\n",
       "    <tr>\n",
       "      <th>4</th>\n",
       "      <td>12</td>\n",
       "      <td>6</td>\n",
       "      <td>nan</td>\n",
       "    </tr>\n",
       "    <tr>\n",
       "      <th>5</th>\n",
       "      <td>14</td>\n",
       "      <td>6</td>\n",
       "      <td>9</td>\n",
       "    </tr>\n",
       "    <tr>\n",
       "      <th>6</th>\n",
       "      <td>13</td>\n",
       "      <td>8</td>\n",
       "      <td>4</td>\n",
       "    </tr>\n",
       "    <tr>\n",
       "      <th>7</th>\n",
       "      <td>17</td>\n",
       "      <td>6</td>\n",
       "      <td>nan</td>\n",
       "    </tr>\n",
       "    <tr>\n",
       "      <th>8</th>\n",
       "      <td>15</td>\n",
       "      <td>nan</td>\n",
       "      <td>nan</td>\n",
       "    </tr>\n",
       "    <tr>\n",
       "      <th>9</th>\n",
       "      <td>15</td>\n",
       "      <td>3</td>\n",
       "      <td>nan</td>\n",
       "    </tr>\n",
       "  </tbody>\n",
       "</table>\n",
       "</div>"
      ],
      "text/plain": [
       "    A    B    C\n",
       "0  10    3  nan\n",
       "1  10  nan    3\n",
       "2  19    7    5\n",
       "3  18    3    3\n",
       "4  12    6  nan\n",
       "5  14    6    9\n",
       "6  13    8    4\n",
       "7  17    6  nan\n",
       "8  15  nan  nan\n",
       "9  15    3  nan"
      ]
     },
     "execution_count": 8,
     "metadata": {},
     "output_type": "execute_result"
    }
   ],
   "source": [
    "df_nan"
   ]
  },
  {
   "cell_type": "code",
   "execution_count": 9,
   "metadata": {
    "collapsed": false
   },
   "outputs": [
    {
     "data": {
      "text/html": [
       "<div>\n",
       "<table border=\"1\" class=\"dataframe\">\n",
       "  <thead>\n",
       "    <tr style=\"text-align: right;\">\n",
       "      <th></th>\n",
       "      <th>A</th>\n",
       "      <th>B</th>\n",
       "      <th>C</th>\n",
       "    </tr>\n",
       "  </thead>\n",
       "  <tbody>\n",
       "    <tr>\n",
       "      <th>2</th>\n",
       "      <td>19</td>\n",
       "      <td>7</td>\n",
       "      <td>5</td>\n",
       "    </tr>\n",
       "    <tr>\n",
       "      <th>3</th>\n",
       "      <td>18</td>\n",
       "      <td>3</td>\n",
       "      <td>3</td>\n",
       "    </tr>\n",
       "    <tr>\n",
       "      <th>5</th>\n",
       "      <td>14</td>\n",
       "      <td>6</td>\n",
       "      <td>9</td>\n",
       "    </tr>\n",
       "    <tr>\n",
       "      <th>6</th>\n",
       "      <td>13</td>\n",
       "      <td>8</td>\n",
       "      <td>4</td>\n",
       "    </tr>\n",
       "  </tbody>\n",
       "</table>\n",
       "</div>"
      ],
      "text/plain": [
       "    A    B    C\n",
       "2  19    7    5\n",
       "3  18    3    3\n",
       "5  14    6    9\n",
       "6  13    8    4"
      ]
     },
     "execution_count": 9,
     "metadata": {},
     "output_type": "execute_result"
    }
   ],
   "source": [
    "df_nan.dropna() "
   ]
  },
  {
   "cell_type": "code",
   "execution_count": 10,
   "metadata": {
    "collapsed": false
   },
   "outputs": [
    {
     "data": {
      "text/html": [
       "<div>\n",
       "<table border=\"1\" class=\"dataframe\">\n",
       "  <thead>\n",
       "    <tr style=\"text-align: right;\">\n",
       "      <th></th>\n",
       "      <th>A</th>\n",
       "      <th>B</th>\n",
       "      <th>C</th>\n",
       "    </tr>\n",
       "  </thead>\n",
       "  <tbody>\n",
       "    <tr>\n",
       "      <th>0</th>\n",
       "      <td>10</td>\n",
       "      <td>3</td>\n",
       "      <td>nan</td>\n",
       "    </tr>\n",
       "    <tr>\n",
       "      <th>1</th>\n",
       "      <td>10</td>\n",
       "      <td>nan</td>\n",
       "      <td>3</td>\n",
       "    </tr>\n",
       "    <tr>\n",
       "      <th>2</th>\n",
       "      <td>19</td>\n",
       "      <td>7</td>\n",
       "      <td>5</td>\n",
       "    </tr>\n",
       "    <tr>\n",
       "      <th>3</th>\n",
       "      <td>18</td>\n",
       "      <td>3</td>\n",
       "      <td>3</td>\n",
       "    </tr>\n",
       "    <tr>\n",
       "      <th>4</th>\n",
       "      <td>12</td>\n",
       "      <td>6</td>\n",
       "      <td>nan</td>\n",
       "    </tr>\n",
       "    <tr>\n",
       "      <th>5</th>\n",
       "      <td>14</td>\n",
       "      <td>6</td>\n",
       "      <td>9</td>\n",
       "    </tr>\n",
       "    <tr>\n",
       "      <th>6</th>\n",
       "      <td>13</td>\n",
       "      <td>8</td>\n",
       "      <td>4</td>\n",
       "    </tr>\n",
       "    <tr>\n",
       "      <th>7</th>\n",
       "      <td>17</td>\n",
       "      <td>6</td>\n",
       "      <td>nan</td>\n",
       "    </tr>\n",
       "    <tr>\n",
       "      <th>9</th>\n",
       "      <td>15</td>\n",
       "      <td>3</td>\n",
       "      <td>nan</td>\n",
       "    </tr>\n",
       "  </tbody>\n",
       "</table>\n",
       "</div>"
      ],
      "text/plain": [
       "    A    B    C\n",
       "0  10    3  nan\n",
       "1  10  nan    3\n",
       "2  19    7    5\n",
       "3  18    3    3\n",
       "4  12    6  nan\n",
       "5  14    6    9\n",
       "6  13    8    4\n",
       "7  17    6  nan\n",
       "9  15    3  nan"
      ]
     },
     "execution_count": 10,
     "metadata": {},
     "output_type": "execute_result"
    }
   ],
   "source": [
    "df_nan.dropna(thresh=2)\n",
    "# 删除所有NaN个数大于或等于该阈值的行"
   ]
  },
  {
   "cell_type": "markdown",
   "metadata": {},
   "source": [
    "使用NaN前后的数据进行填充NaN"
   ]
  },
  {
   "cell_type": "code",
   "execution_count": 11,
   "metadata": {
    "collapsed": false
   },
   "outputs": [
    {
     "name": "stdout",
     "output_type": "stream",
     "text": [
      " df_nan.ffill()      df_nan.bfill()\n",
      "---------------     ---------------\n",
      "    A    B    C         A    B    C\n",
      "0  10    3  nan     0  10    3    3\n",
      "1  10    3    3     1  10    7    3\n",
      "2  19    7    5     2  19    7    5\n",
      "3  18    3    3     3  18    3    3\n",
      "4  12    6    3     4  12    6    9\n",
      "5  14    6    9     5  14    6    9\n",
      "6  13    8    4     6  13    8    4\n",
      "7  17    6    4     7  17    6  nan\n",
      "8  15    6    4     8  15    3  nan\n",
      "9  15    3    4     9  15    3  nan\n"
     ]
    }
   ],
   "source": [
    "%C 5 df_nan.ffill(); df_nan.bfill()"
   ]
  },
  {
   "cell_type": "markdown",
   "metadata": {},
   "source": [
    " 插值填充"
   ]
  },
  {
   "cell_type": "code",
   "execution_count": 12,
   "metadata": {
    "collapsed": false
   },
   "outputs": [
    {
     "data": {
      "text/html": [
       "<div>\n",
       "<table border=\"1\" class=\"dataframe\">\n",
       "  <thead>\n",
       "    <tr style=\"text-align: right;\">\n",
       "      <th></th>\n",
       "      <th>A</th>\n",
       "      <th>B</th>\n",
       "      <th>C</th>\n",
       "    </tr>\n",
       "  </thead>\n",
       "  <tbody>\n",
       "    <tr>\n",
       "      <th>0</th>\n",
       "      <td>10</td>\n",
       "      <td>3</td>\n",
       "      <td>nan</td>\n",
       "    </tr>\n",
       "    <tr>\n",
       "      <th>1</th>\n",
       "      <td>10</td>\n",
       "      <td>5</td>\n",
       "      <td>3</td>\n",
       "    </tr>\n",
       "    <tr>\n",
       "      <th>2</th>\n",
       "      <td>19</td>\n",
       "      <td>7</td>\n",
       "      <td>5</td>\n",
       "    </tr>\n",
       "    <tr>\n",
       "      <th>3</th>\n",
       "      <td>18</td>\n",
       "      <td>3</td>\n",
       "      <td>3</td>\n",
       "    </tr>\n",
       "    <tr>\n",
       "      <th>4</th>\n",
       "      <td>12</td>\n",
       "      <td>6</td>\n",
       "      <td>6</td>\n",
       "    </tr>\n",
       "    <tr>\n",
       "      <th>5</th>\n",
       "      <td>14</td>\n",
       "      <td>6</td>\n",
       "      <td>9</td>\n",
       "    </tr>\n",
       "    <tr>\n",
       "      <th>6</th>\n",
       "      <td>13</td>\n",
       "      <td>8</td>\n",
       "      <td>4</td>\n",
       "    </tr>\n",
       "    <tr>\n",
       "      <th>7</th>\n",
       "      <td>17</td>\n",
       "      <td>6</td>\n",
       "      <td>4</td>\n",
       "    </tr>\n",
       "    <tr>\n",
       "      <th>8</th>\n",
       "      <td>15</td>\n",
       "      <td>4.5</td>\n",
       "      <td>4</td>\n",
       "    </tr>\n",
       "    <tr>\n",
       "      <th>9</th>\n",
       "      <td>15</td>\n",
       "      <td>3</td>\n",
       "      <td>4</td>\n",
       "    </tr>\n",
       "  </tbody>\n",
       "</table>\n",
       "</div>"
      ],
      "text/plain": [
       "    A    B    C\n",
       "0  10    3  nan\n",
       "1  10    5    3\n",
       "2  19    7    5\n",
       "3  18    3    3\n",
       "4  12    6    6\n",
       "5  14    6    9\n",
       "6  13    8    4\n",
       "7  17    6    4\n",
       "8  15  4.5    4\n",
       "9  15    3    4"
      ]
     },
     "execution_count": 12,
     "metadata": {},
     "output_type": "execute_result"
    }
   ],
   "source": [
    "df_nan.interpolate()#等间距"
   ]
  },
  {
   "cell_type": "code",
   "execution_count": 13,
   "metadata": {
    "collapsed": false
   },
   "outputs": [
    {
     "data": {
      "text/plain": [
       "0      3\n",
       "8    nan\n",
       "9      7\n",
       "dtype: float64"
      ]
     },
     "execution_count": 13,
     "metadata": {},
     "output_type": "execute_result"
    }
   ],
   "source": [
    "s = pd.Series([3, np.NaN, 7], index=[0, 8, 9])\n",
    "s"
   ]
  },
  {
   "cell_type": "code",
   "execution_count": 14,
   "metadata": {
    "collapsed": false
   },
   "outputs": [
    {
     "name": "stdout",
     "output_type": "stream",
     "text": [
      "s.interpolate()  s.interpolate(method=\"index\")\n",
      "---------------  -----------------------------\n",
      "0      3         0      3                     \n",
      "8      5         8    6.6                     \n",
      "9      7         9      7                     \n",
      "dtype: float64   dtype: float64               \n"
     ]
    }
   ],
   "source": [
    "%C s.interpolate(); s.interpolate(method=\"index\")\n",
    "# method参数指定插值方法\n",
    "# 根据index的大小确定 NaN值 与前后值的接近程度"
   ]
  },
  {
   "cell_type": "markdown",
   "metadata": {},
   "source": [
    "使用字典参数对不同列的 NaN 填充不同的值"
   ]
  },
  {
   "cell_type": "code",
   "execution_count": 15,
   "metadata": {
    "collapsed": false
   },
   "outputs": [
    {
     "name": "stdout",
     "output_type": "stream",
     "text": [
      "    A    B    C\n",
      "0  10    3   -1\n",
      "1  10   -9    3\n",
      "2  19    7    5\n",
      "3  18    3    3\n",
      "4  12    6   -1\n",
      "5  14    6    9\n",
      "6  13    8    4\n",
      "7  17    6   -1\n",
      "8  15   -9   -1\n",
      "9  15    3   -1\n"
     ]
    }
   ],
   "source": [
    "print df_nan.fillna({\"B\":-9, \"C\":-1})"
   ]
  },
  {
   "cell_type": "code",
   "execution_count": 28,
   "metadata": {
    "collapsed": false
   },
   "outputs": [
    {
     "data": {
      "text/html": [
       "<div>\n",
       "<table border=\"1\" class=\"dataframe\">\n",
       "  <thead>\n",
       "    <tr style=\"text-align: right;\">\n",
       "      <th></th>\n",
       "      <th>A</th>\n",
       "      <th>B</th>\n",
       "      <th>C</th>\n",
       "    </tr>\n",
       "  </thead>\n",
       "  <tbody>\n",
       "    <tr>\n",
       "      <th>0</th>\n",
       "      <td>10</td>\n",
       "      <td>3</td>\n",
       "      <td>nan</td>\n",
       "    </tr>\n",
       "    <tr>\n",
       "      <th>1</th>\n",
       "      <td>10</td>\n",
       "      <td>nan</td>\n",
       "      <td>3</td>\n",
       "    </tr>\n",
       "    <tr>\n",
       "      <th>2</th>\n",
       "      <td>19</td>\n",
       "      <td>7</td>\n",
       "      <td>5</td>\n",
       "    </tr>\n",
       "    <tr>\n",
       "      <th>3</th>\n",
       "      <td>18</td>\n",
       "      <td>3</td>\n",
       "      <td>3</td>\n",
       "    </tr>\n",
       "    <tr>\n",
       "      <th>4</th>\n",
       "      <td>12</td>\n",
       "      <td>6</td>\n",
       "      <td>nan</td>\n",
       "    </tr>\n",
       "    <tr>\n",
       "      <th>5</th>\n",
       "      <td>14</td>\n",
       "      <td>6</td>\n",
       "      <td>9</td>\n",
       "    </tr>\n",
       "    <tr>\n",
       "      <th>6</th>\n",
       "      <td>13</td>\n",
       "      <td>8</td>\n",
       "      <td>4</td>\n",
       "    </tr>\n",
       "    <tr>\n",
       "      <th>7</th>\n",
       "      <td>17</td>\n",
       "      <td>6</td>\n",
       "      <td>nan</td>\n",
       "    </tr>\n",
       "    <tr>\n",
       "      <th>8</th>\n",
       "      <td>15</td>\n",
       "      <td>nan</td>\n",
       "      <td>nan</td>\n",
       "    </tr>\n",
       "    <tr>\n",
       "      <th>9</th>\n",
       "      <td>15</td>\n",
       "      <td>3</td>\n",
       "      <td>nan</td>\n",
       "    </tr>\n",
       "  </tbody>\n",
       "</table>\n",
       "</div>"
      ],
      "text/plain": [
       "    A    B    C\n",
       "0  10    3  nan\n",
       "1  10  nan    3\n",
       "2  19    7    5\n",
       "3  18    3    3\n",
       "4  12    6  nan\n",
       "5  14    6    9\n",
       "6  13    8    4\n",
       "7  17    6  nan\n",
       "8  15  nan  nan\n",
       "9  15    3  nan"
      ]
     },
     "execution_count": 28,
     "metadata": {},
     "output_type": "execute_result"
    }
   ],
   "source": [
    "df_nan"
   ]
  },
  {
   "cell_type": "markdown",
   "metadata": {},
   "source": [
    "聚合方法的skipna参数默认为True,表示忽略NaN元素;若为False, 则包含NaN的行或列的运算结果为NaN"
   ]
  },
  {
   "cell_type": "code",
   "execution_count": 32,
   "metadata": {
    "collapsed": false
   },
   "outputs": [
    {
     "name": "stdout",
     "output_type": "stream",
     "text": [
      " df_nan.sum()   df_nan.sum(skipna=False)\n",
      "--------------  ------------------------\n",
      "A   1.4e+02     A   1.4e+02             \n",
      "B        42     B       nan             \n",
      "C        24     C       nan             \n",
      "dtype: float64  dtype: float64          \n"
     ]
    }
   ],
   "source": [
    "%C df_nan.sum(); df_nan.sum(skipna=False)\n",
    "#  忽略NaN元素  不跳过NaN时包含NaN的行或者列的运算结果为NaN"
   ]
  },
  {
   "cell_type": "markdown",
   "metadata": {},
   "source": [
    "忽略含有NaN的行"
   ]
  },
  {
   "cell_type": "code",
   "execution_count": 34,
   "metadata": {
    "collapsed": false
   },
   "outputs": [
    {
     "data": {
      "text/plain": [
       "A     64\n",
       "B     24\n",
       "C     21\n",
       "dtype: float64"
      ]
     },
     "execution_count": 34,
     "metadata": {},
     "output_type": "execute_result"
    }
   ],
   "source": [
    "df_nan.dropna().sum()\n",
    "#  dropana先删除含有NaN的整行"
   ]
  },
  {
   "cell_type": "markdown",
   "metadata": {},
   "source": [
    "df.combine_first(other) 使用另一个数据表填充df中的NaN元素."
   ]
  },
  {
   "cell_type": "code",
   "execution_count": 36,
   "metadata": {
    "collapsed": false
   },
   "outputs": [
    {
     "data": {
      "text/html": [
       "<div>\n",
       "<table border=\"1\" class=\"dataframe\">\n",
       "  <thead>\n",
       "    <tr style=\"text-align: right;\">\n",
       "      <th></th>\n",
       "      <th>B</th>\n",
       "      <th>C</th>\n",
       "    </tr>\n",
       "  </thead>\n",
       "  <tbody>\n",
       "    <tr>\n",
       "      <th>1</th>\n",
       "      <td>0</td>\n",
       "      <td>8</td>\n",
       "    </tr>\n",
       "    <tr>\n",
       "      <th>2</th>\n",
       "      <td>2</td>\n",
       "      <td>0</td>\n",
       "    </tr>\n",
       "    <tr>\n",
       "      <th>8</th>\n",
       "      <td>4</td>\n",
       "      <td>7</td>\n",
       "    </tr>\n",
       "    <tr>\n",
       "      <th>9</th>\n",
       "      <td>3</td>\n",
       "      <td>4</td>\n",
       "    </tr>\n",
       "  </tbody>\n",
       "</table>\n",
       "</div>"
      ],
      "text/plain": [
       "   B  C\n",
       "1  0  8\n",
       "2  2  0\n",
       "8  4  7\n",
       "9  3  4"
      ]
     },
     "execution_count": 36,
     "metadata": {},
     "output_type": "execute_result"
    }
   ],
   "source": [
    "df_other = pd.DataFrame(np.random.randint(0, 10, (4, 2)), \n",
    "                        columns=[\"B\", \"C\"], \n",
    "                        index=[1, 2, 8, 9])\n",
    "df_other"
   ]
  },
  {
   "cell_type": "code",
   "execution_count": 38,
   "metadata": {
    "collapsed": false
   },
   "outputs": [
    {
     "name": "stdout",
     "output_type": "stream",
     "text": [
      "     df_nan          df_nan.combine_first(df_other)\n",
      "---------------      ------------------------------\n",
      "    A    B    C          A    B    C               \n",
      "0  10    3  nan      0  10    3  nan               \n",
      "1  10  nan    3      1  10    0    3               \n",
      "2  19    7    5      2  19    7    5               \n",
      "3  18    3    3      3  18    3    3               \n",
      "4  12    6  nan      4  12    6  nan               \n",
      "5  14    6    9      5  14    6    9               \n",
      "6  13    8    4      6  13    8    4               \n",
      "7  17    6  nan      7  17    6  nan               \n",
      "8  15  nan  nan      8  15    4    7               \n",
      "9  15    3  nan      9  15    3    4               \n"
     ]
    }
   ],
   "source": [
    "%C 6 df_nan; df_nan.combine_first(df_other)"
   ]
  },
  {
   "cell_type": "markdown",
   "metadata": {},
   "source": [
    "### 改变DataFrame的形状"
   ]
  },
  {
   "cell_type": "markdown",
   "metadata": {},
   "source": [
    "| 函数名     | 功能               |\n",
    "| :------------| :------------------------------------|\n",
    "| concat     | 拼接多块数据       |\n",
    "| set_index   | 设置索引          |\n",
    "| stack      | 将列索引转化为行索引  |\n",
    "| reorder_levels| 设置索引级别的顺序   |\n",
    "| sort_index   | 对索引排序         |\n",
    "| melt       | 透视表的逆变换       |\n",
    "|:|:|\n",
    "| drop       | 删除行或列         |\n",
    "| reset_index  | 将行索引转换为列     |\n",
    "| unstack     | 将行索引转换为列索引 |\n",
    "| swaplevel   | 交换索引中两个级别的顺序  |\n",
    "| pivot      | 创建透视表           |\n",
    "| assign     | 返回添加新列之后的数据   |\n",
    "\n",
    "\n",
    "\n",
    "\n",
    "\n",
    "\n",
    "\n"
   ]
  },
  {
   "cell_type": "code",
   "execution_count": 43,
   "metadata": {
    "collapsed": false
   },
   "outputs": [
    {
     "data": {
      "text/html": [
       "<div>\n",
       "<table border=\"1\" class=\"dataframe\">\n",
       "  <thead>\n",
       "    <tr style=\"text-align: right;\">\n",
       "      <th></th>\n",
       "      <th>Depth</th>\n",
       "      <th>Contour</th>\n",
       "      <th>Group</th>\n",
       "      <th>pH</th>\n",
       "      <th>N</th>\n",
       "    </tr>\n",
       "  </thead>\n",
       "  <tbody>\n",
       "    <tr>\n",
       "      <th>1</th>\n",
       "      <td>0-10</td>\n",
       "      <td>Top</td>\n",
       "      <td>1</td>\n",
       "      <td>5.4</td>\n",
       "      <td>0.19</td>\n",
       "    </tr>\n",
       "    <tr>\n",
       "      <th>2</th>\n",
       "      <td>0-10</td>\n",
       "      <td>Top</td>\n",
       "      <td>1</td>\n",
       "      <td>5.7</td>\n",
       "      <td>0.17</td>\n",
       "    </tr>\n",
       "    <tr>\n",
       "      <th>3</th>\n",
       "      <td>0-10</td>\n",
       "      <td>Top</td>\n",
       "      <td>1</td>\n",
       "      <td>5.1</td>\n",
       "      <td>0.26</td>\n",
       "    </tr>\n",
       "    <tr>\n",
       "      <th>4</th>\n",
       "      <td>0-10</td>\n",
       "      <td>Top</td>\n",
       "      <td>1</td>\n",
       "      <td>5.1</td>\n",
       "      <td>0.17</td>\n",
       "    </tr>\n",
       "    <tr>\n",
       "      <th>5</th>\n",
       "      <td>10-30</td>\n",
       "      <td>Top</td>\n",
       "      <td>2</td>\n",
       "      <td>5.1</td>\n",
       "      <td>0.16</td>\n",
       "    </tr>\n",
       "  </tbody>\n",
       "</table>\n",
       "</div>"
      ],
      "text/plain": [
       "   Depth Contour  Group   pH    N\n",
       "1   0-10     Top      1  5.4 0.19\n",
       "2   0-10     Top      1  5.7 0.17\n",
       "3   0-10     Top      1  5.1 0.26\n",
       "4   0-10     Top      1  5.1 0.17\n",
       "5  10-30     Top      2  5.1 0.16"
      ]
     },
     "execution_count": 43,
     "metadata": {},
     "output_type": "execute_result"
    }
   ],
   "source": [
    "soils = pd.read_csv(\"Soils.csv\", index_col=0)[[\"Depth\", \"Contour\",\\\n",
    "                                               \"Group\", \"pH\", \"N\"]]\n",
    "soils.head()"
   ]
  },
  {
   "cell_type": "code",
   "execution_count": 44,
   "metadata": {
    "collapsed": false
   },
   "outputs": [
    {
     "data": {
      "text/html": [
       "<div>\n",
       "<table border=\"1\" class=\"dataframe\">\n",
       "  <thead>\n",
       "    <tr style=\"text-align: right;\">\n",
       "      <th></th>\n",
       "      <th></th>\n",
       "      <th>Group</th>\n",
       "      <th>pH</th>\n",
       "      <th>N</th>\n",
       "    </tr>\n",
       "    <tr>\n",
       "      <th>Depth</th>\n",
       "      <th>Contour</th>\n",
       "      <th></th>\n",
       "      <th></th>\n",
       "      <th></th>\n",
       "    </tr>\n",
       "  </thead>\n",
       "  <tbody>\n",
       "    <tr>\n",
       "      <th rowspan=\"3\" valign=\"top\">0-10</th>\n",
       "      <th>Depression</th>\n",
       "      <td>9</td>\n",
       "      <td>5.4</td>\n",
       "      <td>0.18</td>\n",
       "    </tr>\n",
       "    <tr>\n",
       "      <th>Slope</th>\n",
       "      <td>5</td>\n",
       "      <td>5.5</td>\n",
       "      <td>0.22</td>\n",
       "    </tr>\n",
       "    <tr>\n",
       "      <th>Top</th>\n",
       "      <td>1</td>\n",
       "      <td>5.3</td>\n",
       "      <td>0.2</td>\n",
       "    </tr>\n",
       "    <tr>\n",
       "      <th rowspan=\"2\" valign=\"top\">10-30</th>\n",
       "      <th>Depression</th>\n",
       "      <td>10</td>\n",
       "      <td>4.9</td>\n",
       "      <td>0.08</td>\n",
       "    </tr>\n",
       "    <tr>\n",
       "      <th>Slope</th>\n",
       "      <td>6</td>\n",
       "      <td>5.3</td>\n",
       "      <td>0.1</td>\n",
       "    </tr>\n",
       "  </tbody>\n",
       "</table>\n",
       "</div>"
      ],
      "text/plain": [
       "                  Group   pH    N\n",
       "Depth Contour                    \n",
       "0-10  Depression      9  5.4 0.18\n",
       "      Slope           5  5.5 0.22\n",
       "      Top             1  5.3  0.2\n",
       "10-30 Depression     10  4.9 0.08\n",
       "      Slope           6  5.3  0.1"
      ]
     },
     "execution_count": 44,
     "metadata": {},
     "output_type": "execute_result"
    }
   ],
   "source": [
    "soils_mean = soils.groupby([\"Depth\", \"Contour\"]).mean()\n",
    "soils_mean.head() # 行索引是多级索引"
   ]
  },
  {
   "cell_type": "markdown",
   "metadata": {},
   "source": [
    "#### 添加删除列或行"
   ]
  },
  {
   "cell_type": "markdown",
   "metadata": {},
   "source": [
    "DataFrame[colname] = values 添加新列"
   ]
  },
  {
   "cell_type": "code",
   "execution_count": 49,
   "metadata": {
    "collapsed": false
   },
   "outputs": [
    {
     "data": {
      "text/html": [
       "<div>\n",
       "<table border=\"1\" class=\"dataframe\">\n",
       "  <thead>\n",
       "    <tr style=\"text-align: right;\">\n",
       "      <th></th>\n",
       "      <th>Depth</th>\n",
       "      <th>Contour</th>\n",
       "      <th>Group</th>\n",
       "      <th>pH</th>\n",
       "      <th>N</th>\n",
       "      <th>N_percent</th>\n",
       "    </tr>\n",
       "  </thead>\n",
       "  <tbody>\n",
       "    <tr>\n",
       "      <th>1</th>\n",
       "      <td>0-10</td>\n",
       "      <td>Top</td>\n",
       "      <td>1</td>\n",
       "      <td>5.4</td>\n",
       "      <td>0.19</td>\n",
       "      <td>19</td>\n",
       "    </tr>\n",
       "    <tr>\n",
       "      <th>2</th>\n",
       "      <td>0-10</td>\n",
       "      <td>Top</td>\n",
       "      <td>1</td>\n",
       "      <td>5.7</td>\n",
       "      <td>0.17</td>\n",
       "      <td>16</td>\n",
       "    </tr>\n",
       "    <tr>\n",
       "      <th>3</th>\n",
       "      <td>0-10</td>\n",
       "      <td>Top</td>\n",
       "      <td>1</td>\n",
       "      <td>5.1</td>\n",
       "      <td>0.26</td>\n",
       "      <td>26</td>\n",
       "    </tr>\n",
       "    <tr>\n",
       "      <th>4</th>\n",
       "      <td>0-10</td>\n",
       "      <td>Top</td>\n",
       "      <td>1</td>\n",
       "      <td>5.1</td>\n",
       "      <td>0.17</td>\n",
       "      <td>17</td>\n",
       "    </tr>\n",
       "    <tr>\n",
       "      <th>5</th>\n",
       "      <td>10-30</td>\n",
       "      <td>Top</td>\n",
       "      <td>2</td>\n",
       "      <td>5.1</td>\n",
       "      <td>0.16</td>\n",
       "      <td>16</td>\n",
       "    </tr>\n",
       "  </tbody>\n",
       "</table>\n",
       "</div>"
      ],
      "text/plain": [
       "   Depth Contour  Group   pH    N  N_percent\n",
       "1   0-10     Top      1  5.4 0.19         19\n",
       "2   0-10     Top      1  5.7 0.17         16\n",
       "3   0-10     Top      1  5.1 0.26         26\n",
       "4   0-10     Top      1  5.1 0.17         17\n",
       "5  10-30     Top      2  5.1 0.16         16"
      ]
     },
     "execution_count": 49,
     "metadata": {},
     "output_type": "execute_result"
    }
   ],
   "source": [
    "soils[\"N_percent\"] = soils.eval(\"N * 100\") # eval是对列求值的函数\n",
    "soils.head()"
   ]
  },
  {
   "cell_type": "markdown",
   "metadata": {},
   "source": [
    "assign()添加由关键字参数指定的列, 返回新的DataFrame对象, 元数据的内容不变"
   ]
  },
  {
   "cell_type": "code",
   "execution_count": 50,
   "metadata": {
    "collapsed": false
   },
   "outputs": [
    {
     "name": "stdout",
     "output_type": "stream",
     "text": [
      "   Depth Contour  Group   pH    N  N_percent  pH2\n",
      "1   0-10     Top      1  5.4 0.19         19  6.4\n",
      "2   0-10     Top      1  5.7 0.17         16  6.7\n",
      "3   0-10     Top      1  5.1 0.26         26  6.1\n",
      "4   0-10     Top      1  5.1 0.17         17  6.1\n",
      "5  10-30     Top      2  5.1 0.16         16  6.1\n"
     ]
    }
   ],
   "source": [
    "print soils.assign(pH2 = soils.pH + 1).head() \n"
   ]
  },
  {
   "cell_type": "markdown",
   "metadata": {},
   "source": [
    "*append()方法用于添加行"
   ]
  },
  {
   "cell_type": "code",
   "execution_count": 20,
   "metadata": {
    "collapsed": true
   },
   "outputs": [],
   "source": [
    "def random_dataframe(n):\n",
    "    columns = [\"A\", \"B\", \"C\"]\n",
    "    for i in range(n):\n",
    "        nrow = np.random.randint(10, 20)\n",
    "        yield pd.DataFrame(np.random.randint(0, 100, size=(nrow, 3)), columns=columns)\n",
    "\n",
    "df_list = list(random_dataframe(1000))"
   ]
  },
  {
   "cell_type": "code",
   "execution_count": 21,
   "metadata": {
    "collapsed": false
   },
   "outputs": [
    {
     "name": "stdout",
     "output_type": "stream",
     "text": [
      "Wall time: 910 ms\n"
     ]
    }
   ],
   "source": [
    "%%time\n",
    "df_res1 = pd.DataFrame([])\n",
    "for df in df_list:\n",
    "    df_res1 = df_res1.append(df)"
   ]
  },
  {
   "cell_type": "code",
   "execution_count": null,
   "metadata": {
    "collapsed": true
   },
   "outputs": [],
   "source": [
    "%%time\n",
    "df_res2 = pd.concat(df_list, axis=0)\n",
    "df_res3 = pd.concat(df_list, axis=0, keys=range(len(df_list)))\n",
    "df_res3.loc[30].equals(df_list[30])"
   ]
  },
  {
   "cell_type": "markdown",
   "metadata": {},
   "source": [
    "drop()函数删除指定标签对应的行或列"
   ]
  },
  {
   "cell_type": "code",
   "execution_count": 56,
   "metadata": {
    "collapsed": false
   },
   "outputs": [
    {
     "name": "stdout",
     "output_type": "stream",
     "text": [
      "   Depth Contour   pH  N_percent\n",
      "1   0-10     Top  5.4         19\n",
      "2   0-10     Top  5.7         16\n",
      "3   0-10     Top  5.1         26\n",
      "4   0-10     Top  5.1         17\n",
      "5  10-30     Top  5.1         16\n"
     ]
    }
   ],
   "source": [
    "print soils.drop([\"N\", \"Group\"], axis=1).head()"
   ]
  },
  {
   "cell_type": "markdown",
   "metadata": {},
   "source": [
    "#### 行索引与列之间相互转换"
   ]
  },
  {
   "cell_type": "markdown",
   "metadata": {},
   "source": [
    ">行索引与列之间相互转换不应改变对应标签的值"
   ]
  },
  {
   "cell_type": "code",
   "execution_count": 57,
   "metadata": {
    "collapsed": false
   },
   "outputs": [
    {
     "data": {
      "text/html": [
       "<div>\n",
       "<table border=\"1\" class=\"dataframe\">\n",
       "  <thead>\n",
       "    <tr style=\"text-align: right;\">\n",
       "      <th></th>\n",
       "      <th></th>\n",
       "      <th>Group</th>\n",
       "      <th>pH</th>\n",
       "      <th>N</th>\n",
       "    </tr>\n",
       "    <tr>\n",
       "      <th>Depth</th>\n",
       "      <th>Contour</th>\n",
       "      <th></th>\n",
       "      <th></th>\n",
       "      <th></th>\n",
       "    </tr>\n",
       "  </thead>\n",
       "  <tbody>\n",
       "    <tr>\n",
       "      <th rowspan=\"3\" valign=\"top\">0-10</th>\n",
       "      <th>Depression</th>\n",
       "      <td>9</td>\n",
       "      <td>5.4</td>\n",
       "      <td>0.18</td>\n",
       "    </tr>\n",
       "    <tr>\n",
       "      <th>Slope</th>\n",
       "      <td>5</td>\n",
       "      <td>5.5</td>\n",
       "      <td>0.22</td>\n",
       "    </tr>\n",
       "    <tr>\n",
       "      <th>Top</th>\n",
       "      <td>1</td>\n",
       "      <td>5.3</td>\n",
       "      <td>0.2</td>\n",
       "    </tr>\n",
       "    <tr>\n",
       "      <th rowspan=\"3\" valign=\"top\">10-30</th>\n",
       "      <th>Depression</th>\n",
       "      <td>10</td>\n",
       "      <td>4.9</td>\n",
       "      <td>0.08</td>\n",
       "    </tr>\n",
       "    <tr>\n",
       "      <th>Slope</th>\n",
       "      <td>6</td>\n",
       "      <td>5.3</td>\n",
       "      <td>0.1</td>\n",
       "    </tr>\n",
       "    <tr>\n",
       "      <th>Top</th>\n",
       "      <td>2</td>\n",
       "      <td>4.8</td>\n",
       "      <td>0.12</td>\n",
       "    </tr>\n",
       "    <tr>\n",
       "      <th rowspan=\"3\" valign=\"top\">30-60</th>\n",
       "      <th>Depression</th>\n",
       "      <td>11</td>\n",
       "      <td>4.4</td>\n",
       "      <td>0.051</td>\n",
       "    </tr>\n",
       "    <tr>\n",
       "      <th>Slope</th>\n",
       "      <td>7</td>\n",
       "      <td>4.3</td>\n",
       "      <td>0.061</td>\n",
       "    </tr>\n",
       "    <tr>\n",
       "      <th>Top</th>\n",
       "      <td>3</td>\n",
       "      <td>4.2</td>\n",
       "      <td>0.08</td>\n",
       "    </tr>\n",
       "    <tr>\n",
       "      <th rowspan=\"3\" valign=\"top\">60-90</th>\n",
       "      <th>Depression</th>\n",
       "      <td>12</td>\n",
       "      <td>4.2</td>\n",
       "      <td>0.04</td>\n",
       "    </tr>\n",
       "    <tr>\n",
       "      <th>Slope</th>\n",
       "      <td>8</td>\n",
       "      <td>3.9</td>\n",
       "      <td>0.043</td>\n",
       "    </tr>\n",
       "    <tr>\n",
       "      <th>Top</th>\n",
       "      <td>4</td>\n",
       "      <td>3.9</td>\n",
       "      <td>0.058</td>\n",
       "    </tr>\n",
       "  </tbody>\n",
       "</table>\n",
       "</div>"
      ],
      "text/plain": [
       "                  Group   pH     N\n",
       "Depth Contour                     \n",
       "0-10  Depression      9  5.4  0.18\n",
       "      Slope           5  5.5  0.22\n",
       "      Top             1  5.3   0.2\n",
       "10-30 Depression     10  4.9  0.08\n",
       "      Slope           6  5.3   0.1\n",
       "      Top             2  4.8  0.12\n",
       "30-60 Depression     11  4.4 0.051\n",
       "      Slope           7  4.3 0.061\n",
       "      Top             3  4.2  0.08\n",
       "60-90 Depression     12  4.2  0.04\n",
       "      Slope           8  3.9 0.043\n",
       "      Top             4  3.9 0.058"
      ]
     },
     "execution_count": 57,
     "metadata": {},
     "output_type": "execute_result"
    }
   ],
   "source": [
    "soils_mean"
   ]
  },
  {
   "cell_type": "markdown",
   "metadata": {},
   "source": [
    "reset_index 将行索引转化为列"
   ]
  },
  {
   "cell_type": "code",
   "execution_count": 58,
   "metadata": {
    "collapsed": false
   },
   "outputs": [
    {
     "name": "stdout",
     "output_type": "stream",
     "text": [
      "          Contour  Group   pH    N\n",
      "Depth                             \n",
      "0-10   Depression      9  5.4 0.18\n",
      "0-10        Slope      5  5.5 0.22\n",
      "0-10          Top      1  5.3  0.2\n",
      "10-30  Depression     10  4.9 0.08\n",
      "10-30       Slope      6  5.3  0.1\n"
     ]
    }
   ],
   "source": [
    "print soils_mean.reset_index(level=\"Contour\").head()"
   ]
  },
  {
   "cell_type": "markdown",
   "metadata": {},
   "source": [
    "set_index 将列转化为行索引"
   ]
  },
  {
   "cell_type": "code",
   "execution_count": 61,
   "metadata": {
    "collapsed": false
   },
   "outputs": [
    {
     "name": "stdout",
     "output_type": "stream",
     "text": [
      "                         pH    N\n",
      "Depth Contour    Group          \n",
      "0-10  Depression 9      5.4 0.18\n",
      "      Slope      5      5.5 0.22\n",
      "      Top        1      5.3  0.2\n",
      "10-30 Depression 10     4.9 0.08\n",
      "      Slope      6      5.3  0.1\n"
     ]
    }
   ],
   "source": [
    "print soils_mean.set_index(\"Group\", append=True).head() \n",
    "# 保存先前的行索引"
   ]
  },
  {
   "cell_type": "markdown",
   "metadata": {},
   "source": [
    "#### 行和列的索引相互转换"
   ]
  },
  {
   "cell_type": "code",
   "execution_count": 64,
   "metadata": {
    "collapsed": false
   },
   "outputs": [
    {
     "data": {
      "text/html": [
       "<div>\n",
       "<table border=\"1\" class=\"dataframe\">\n",
       "  <thead>\n",
       "    <tr style=\"text-align: right;\">\n",
       "      <th></th>\n",
       "      <th></th>\n",
       "      <th>Group</th>\n",
       "      <th>pH</th>\n",
       "      <th>N</th>\n",
       "    </tr>\n",
       "    <tr>\n",
       "      <th>Depth</th>\n",
       "      <th>Contour</th>\n",
       "      <th></th>\n",
       "      <th></th>\n",
       "      <th></th>\n",
       "    </tr>\n",
       "  </thead>\n",
       "  <tbody>\n",
       "    <tr>\n",
       "      <th rowspan=\"3\" valign=\"top\">0-10</th>\n",
       "      <th>Depression</th>\n",
       "      <td>9</td>\n",
       "      <td>5.4</td>\n",
       "      <td>0.18</td>\n",
       "    </tr>\n",
       "    <tr>\n",
       "      <th>Slope</th>\n",
       "      <td>5</td>\n",
       "      <td>5.5</td>\n",
       "      <td>0.22</td>\n",
       "    </tr>\n",
       "    <tr>\n",
       "      <th>Top</th>\n",
       "      <td>1</td>\n",
       "      <td>5.3</td>\n",
       "      <td>0.2</td>\n",
       "    </tr>\n",
       "    <tr>\n",
       "      <th rowspan=\"3\" valign=\"top\">10-30</th>\n",
       "      <th>Depression</th>\n",
       "      <td>10</td>\n",
       "      <td>4.9</td>\n",
       "      <td>0.08</td>\n",
       "    </tr>\n",
       "    <tr>\n",
       "      <th>Slope</th>\n",
       "      <td>6</td>\n",
       "      <td>5.3</td>\n",
       "      <td>0.1</td>\n",
       "    </tr>\n",
       "    <tr>\n",
       "      <th>Top</th>\n",
       "      <td>2</td>\n",
       "      <td>4.8</td>\n",
       "      <td>0.12</td>\n",
       "    </tr>\n",
       "    <tr>\n",
       "      <th rowspan=\"3\" valign=\"top\">30-60</th>\n",
       "      <th>Depression</th>\n",
       "      <td>11</td>\n",
       "      <td>4.4</td>\n",
       "      <td>0.051</td>\n",
       "    </tr>\n",
       "    <tr>\n",
       "      <th>Slope</th>\n",
       "      <td>7</td>\n",
       "      <td>4.3</td>\n",
       "      <td>0.061</td>\n",
       "    </tr>\n",
       "    <tr>\n",
       "      <th>Top</th>\n",
       "      <td>3</td>\n",
       "      <td>4.2</td>\n",
       "      <td>0.08</td>\n",
       "    </tr>\n",
       "    <tr>\n",
       "      <th rowspan=\"3\" valign=\"top\">60-90</th>\n",
       "      <th>Depression</th>\n",
       "      <td>12</td>\n",
       "      <td>4.2</td>\n",
       "      <td>0.04</td>\n",
       "    </tr>\n",
       "    <tr>\n",
       "      <th>Slope</th>\n",
       "      <td>8</td>\n",
       "      <td>3.9</td>\n",
       "      <td>0.043</td>\n",
       "    </tr>\n",
       "    <tr>\n",
       "      <th>Top</th>\n",
       "      <td>4</td>\n",
       "      <td>3.9</td>\n",
       "      <td>0.058</td>\n",
       "    </tr>\n",
       "  </tbody>\n",
       "</table>\n",
       "</div>"
      ],
      "text/plain": [
       "                  Group   pH     N\n",
       "Depth Contour                     \n",
       "0-10  Depression      9  5.4  0.18\n",
       "      Slope           5  5.5  0.22\n",
       "      Top             1  5.3   0.2\n",
       "10-30 Depression     10  4.9  0.08\n",
       "      Slope           6  5.3   0.1\n",
       "      Top             2  4.8  0.12\n",
       "30-60 Depression     11  4.4 0.051\n",
       "      Slope           7  4.3 0.061\n",
       "      Top             3  4.2  0.08\n",
       "60-90 Depression     12  4.2  0.04\n",
       "      Slope           8  3.9 0.043\n",
       "      Top             4  3.9 0.058"
      ]
     },
     "execution_count": 64,
     "metadata": {},
     "output_type": "execute_result"
    }
   ],
   "source": [
    "soils_mean"
   ]
  },
  {
   "cell_type": "markdown",
   "metadata": {},
   "source": [
    "stack()列索引转化为行索引, unstack()将行索引转化为列索引"
   ]
  },
  {
   "cell_type": "code",
   "execution_count": 62,
   "metadata": {
    "collapsed": false
   },
   "outputs": [
    {
     "name": "stdout",
     "output_type": "stream",
     "text": [
      "             Group                   pH           \n",
      "Contour Depression Slope Top Depression Slope  Top\n",
      "Depth                                             \n",
      "0-10             9     5   1        5.4   5.5  5.3\n",
      "10-30           10     6   2        4.9   5.3  4.8\n",
      "30-60           11     7   3        4.4   4.3  4.2\n",
      "60-90           12     8   4        4.2   3.9  3.9\n"
     ]
    }
   ],
   "source": [
    "print soils_mean.unstack(1)[[\"Group\", \"pH\"]].head()"
   ]
  },
  {
   "cell_type": "markdown",
   "metadata": {},
   "source": [
    "所有的索引转换到同一个轴上, 将得到一个Series对象"
   ]
  },
  {
   "cell_type": "code",
   "execution_count": 66,
   "metadata": {
    "collapsed": false
   },
   "outputs": [
    {
     "name": "stdout",
     "output_type": "stream",
     "text": [
      "Depth  Contour          \n",
      "0-10   Depression  Group      9\n",
      "                   pH       5.4\n",
      "                   N       0.18\n",
      "       Slope       Group      5\n",
      "                   pH       5.5\n",
      "                   N       0.22\n",
      "       Top         Group      1\n",
      "                   pH       5.3\n",
      "                   N        0.2\n",
      "10-30  Depression  Group     10\n",
      "dtype: float64\n"
     ]
    }
   ],
   "source": [
    "print soils_mean.stack().head(10)"
   ]
  },
  {
   "cell_type": "markdown",
   "metadata": {},
   "source": [
    "#### 交换索引的等级"
   ]
  },
  {
   "cell_type": "markdown",
   "metadata": {},
   "source": [
    "reorder_level()和swaplevel()交换指定轴的索引级别"
   ]
  },
  {
   "cell_type": "code",
   "execution_count": 68,
   "metadata": {
    "collapsed": false
   },
   "outputs": [
    {
     "data": {
      "text/html": [
       "<div>\n",
       "<table border=\"1\" class=\"dataframe\">\n",
       "  <thead>\n",
       "    <tr style=\"text-align: right;\">\n",
       "      <th></th>\n",
       "      <th></th>\n",
       "      <th>Group</th>\n",
       "      <th>pH</th>\n",
       "      <th>N</th>\n",
       "    </tr>\n",
       "    <tr>\n",
       "      <th>Depth</th>\n",
       "      <th>Contour</th>\n",
       "      <th></th>\n",
       "      <th></th>\n",
       "      <th></th>\n",
       "    </tr>\n",
       "  </thead>\n",
       "  <tbody>\n",
       "    <tr>\n",
       "      <th rowspan=\"3\" valign=\"top\">0-10</th>\n",
       "      <th>Depression</th>\n",
       "      <td>9</td>\n",
       "      <td>5.4</td>\n",
       "      <td>0.18</td>\n",
       "    </tr>\n",
       "    <tr>\n",
       "      <th>Slope</th>\n",
       "      <td>5</td>\n",
       "      <td>5.5</td>\n",
       "      <td>0.22</td>\n",
       "    </tr>\n",
       "    <tr>\n",
       "      <th>Top</th>\n",
       "      <td>1</td>\n",
       "      <td>5.3</td>\n",
       "      <td>0.2</td>\n",
       "    </tr>\n",
       "    <tr>\n",
       "      <th rowspan=\"3\" valign=\"top\">10-30</th>\n",
       "      <th>Depression</th>\n",
       "      <td>10</td>\n",
       "      <td>4.9</td>\n",
       "      <td>0.08</td>\n",
       "    </tr>\n",
       "    <tr>\n",
       "      <th>Slope</th>\n",
       "      <td>6</td>\n",
       "      <td>5.3</td>\n",
       "      <td>0.1</td>\n",
       "    </tr>\n",
       "    <tr>\n",
       "      <th>Top</th>\n",
       "      <td>2</td>\n",
       "      <td>4.8</td>\n",
       "      <td>0.12</td>\n",
       "    </tr>\n",
       "    <tr>\n",
       "      <th rowspan=\"3\" valign=\"top\">30-60</th>\n",
       "      <th>Depression</th>\n",
       "      <td>11</td>\n",
       "      <td>4.4</td>\n",
       "      <td>0.051</td>\n",
       "    </tr>\n",
       "    <tr>\n",
       "      <th>Slope</th>\n",
       "      <td>7</td>\n",
       "      <td>4.3</td>\n",
       "      <td>0.061</td>\n",
       "    </tr>\n",
       "    <tr>\n",
       "      <th>Top</th>\n",
       "      <td>3</td>\n",
       "      <td>4.2</td>\n",
       "      <td>0.08</td>\n",
       "    </tr>\n",
       "    <tr>\n",
       "      <th rowspan=\"3\" valign=\"top\">60-90</th>\n",
       "      <th>Depression</th>\n",
       "      <td>12</td>\n",
       "      <td>4.2</td>\n",
       "      <td>0.04</td>\n",
       "    </tr>\n",
       "    <tr>\n",
       "      <th>Slope</th>\n",
       "      <td>8</td>\n",
       "      <td>3.9</td>\n",
       "      <td>0.043</td>\n",
       "    </tr>\n",
       "    <tr>\n",
       "      <th>Top</th>\n",
       "      <td>4</td>\n",
       "      <td>3.9</td>\n",
       "      <td>0.058</td>\n",
       "    </tr>\n",
       "  </tbody>\n",
       "</table>\n",
       "</div>"
      ],
      "text/plain": [
       "                  Group   pH     N\n",
       "Depth Contour                     \n",
       "0-10  Depression      9  5.4  0.18\n",
       "      Slope           5  5.5  0.22\n",
       "      Top             1  5.3   0.2\n",
       "10-30 Depression     10  4.9  0.08\n",
       "      Slope           6  5.3   0.1\n",
       "      Top             2  4.8  0.12\n",
       "30-60 Depression     11  4.4 0.051\n",
       "      Slope           7  4.3 0.061\n",
       "      Top             3  4.2  0.08\n",
       "60-90 Depression     12  4.2  0.04\n",
       "      Slope           8  3.9 0.043\n",
       "      Top             4  3.9 0.058"
      ]
     },
     "execution_count": 68,
     "metadata": {},
     "output_type": "execute_result"
    }
   ],
   "source": [
    "soils_mean"
   ]
  },
  {
   "cell_type": "code",
   "execution_count": 69,
   "metadata": {
    "collapsed": false
   },
   "outputs": [
    {
     "name": "stdout",
     "output_type": "stream",
     "text": [
      "                  Group   pH     N\n",
      "Contour    Depth                  \n",
      "Depression 0-10       9  5.4  0.18\n",
      "           10-30     10  4.9  0.08\n",
      "           30-60     11  4.4 0.051\n",
      "           60-90     12  4.2  0.04\n",
      "Slope      0-10       5  5.5  0.22\n",
      "           10-30      6  5.3   0.1\n",
      "           30-60      7  4.3 0.061\n",
      "           60-90      8  3.9 0.043\n",
      "Top        0-10       1  5.3   0.2\n",
      "           10-30      2  4.8  0.12\n",
      "           30-60      3  4.2  0.08\n",
      "           60-90      4  3.9 0.058\n"
     ]
    }
   ],
   "source": [
    "print soils_mean.swaplevel(0, 1).sort_index()"
   ]
  },
  {
   "cell_type": "markdown",
   "metadata": {},
   "source": [
    ">关于索引控制DataFrame形状的小节:\n",
    "* DataFrame的形状改变但是原始标签对对应的值不变\n",
    "* 所有交换索引的方法返回一个新的数据表, 不会对原始数据表产生影响"
   ]
  },
  {
   "cell_type": "markdown",
   "metadata": {},
   "source": [
    "#### 透视表"
   ]
  },
  {
   "cell_type": "markdown",
   "metadata": {},
   "source": [
    "pivot()可以将DataFrame中的三列数据分别作为行索引, 列索引和元素值, 将这三列数据转化为二维表格"
   ]
  },
  {
   "cell_type": "code",
   "execution_count": 73,
   "metadata": {
    "collapsed": false
   },
   "outputs": [
    {
     "data": {
      "text/html": [
       "<div>\n",
       "<table border=\"1\" class=\"dataframe\">\n",
       "  <thead>\n",
       "    <tr style=\"text-align: right;\">\n",
       "      <th></th>\n",
       "      <th></th>\n",
       "      <th>Group</th>\n",
       "      <th>pH</th>\n",
       "      <th>N</th>\n",
       "    </tr>\n",
       "    <tr>\n",
       "      <th>Depth</th>\n",
       "      <th>Contour</th>\n",
       "      <th></th>\n",
       "      <th></th>\n",
       "      <th></th>\n",
       "    </tr>\n",
       "  </thead>\n",
       "  <tbody>\n",
       "    <tr>\n",
       "      <th rowspan=\"3\" valign=\"top\">0-10</th>\n",
       "      <th>Depression</th>\n",
       "      <td>9</td>\n",
       "      <td>5.4</td>\n",
       "      <td>0.18</td>\n",
       "    </tr>\n",
       "    <tr>\n",
       "      <th>Slope</th>\n",
       "      <td>5</td>\n",
       "      <td>5.5</td>\n",
       "      <td>0.22</td>\n",
       "    </tr>\n",
       "    <tr>\n",
       "      <th>Top</th>\n",
       "      <td>1</td>\n",
       "      <td>5.3</td>\n",
       "      <td>0.2</td>\n",
       "    </tr>\n",
       "    <tr>\n",
       "      <th rowspan=\"3\" valign=\"top\">10-30</th>\n",
       "      <th>Depression</th>\n",
       "      <td>10</td>\n",
       "      <td>4.9</td>\n",
       "      <td>0.08</td>\n",
       "    </tr>\n",
       "    <tr>\n",
       "      <th>Slope</th>\n",
       "      <td>6</td>\n",
       "      <td>5.3</td>\n",
       "      <td>0.1</td>\n",
       "    </tr>\n",
       "    <tr>\n",
       "      <th>Top</th>\n",
       "      <td>2</td>\n",
       "      <td>4.8</td>\n",
       "      <td>0.12</td>\n",
       "    </tr>\n",
       "    <tr>\n",
       "      <th rowspan=\"3\" valign=\"top\">30-60</th>\n",
       "      <th>Depression</th>\n",
       "      <td>11</td>\n",
       "      <td>4.4</td>\n",
       "      <td>0.051</td>\n",
       "    </tr>\n",
       "    <tr>\n",
       "      <th>Slope</th>\n",
       "      <td>7</td>\n",
       "      <td>4.3</td>\n",
       "      <td>0.061</td>\n",
       "    </tr>\n",
       "    <tr>\n",
       "      <th>Top</th>\n",
       "      <td>3</td>\n",
       "      <td>4.2</td>\n",
       "      <td>0.08</td>\n",
       "    </tr>\n",
       "    <tr>\n",
       "      <th rowspan=\"3\" valign=\"top\">60-90</th>\n",
       "      <th>Depression</th>\n",
       "      <td>12</td>\n",
       "      <td>4.2</td>\n",
       "      <td>0.04</td>\n",
       "    </tr>\n",
       "    <tr>\n",
       "      <th>Slope</th>\n",
       "      <td>8</td>\n",
       "      <td>3.9</td>\n",
       "      <td>0.043</td>\n",
       "    </tr>\n",
       "    <tr>\n",
       "      <th>Top</th>\n",
       "      <td>4</td>\n",
       "      <td>3.9</td>\n",
       "      <td>0.058</td>\n",
       "    </tr>\n",
       "  </tbody>\n",
       "</table>\n",
       "</div>"
      ],
      "text/plain": [
       "                  Group   pH     N\n",
       "Depth Contour                     \n",
       "0-10  Depression      9  5.4  0.18\n",
       "      Slope           5  5.5  0.22\n",
       "      Top             1  5.3   0.2\n",
       "10-30 Depression     10  4.9  0.08\n",
       "      Slope           6  5.3   0.1\n",
       "      Top             2  4.8  0.12\n",
       "30-60 Depression     11  4.4 0.051\n",
       "      Slope           7  4.3 0.061\n",
       "      Top             3  4.2  0.08\n",
       "60-90 Depression     12  4.2  0.04\n",
       "      Slope           8  3.9 0.043\n",
       "      Top             4  3.9 0.058"
      ]
     },
     "execution_count": 73,
     "metadata": {},
     "output_type": "execute_result"
    }
   ],
   "source": [
    "soils_mean"
   ]
  },
  {
   "cell_type": "code",
   "execution_count": 72,
   "metadata": {
    "collapsed": false
   },
   "outputs": [
    {
     "data": {
      "text/html": [
       "<div>\n",
       "<table border=\"1\" class=\"dataframe\">\n",
       "  <thead>\n",
       "    <tr style=\"text-align: right;\">\n",
       "      <th></th>\n",
       "      <th>Depth</th>\n",
       "      <th>Contour</th>\n",
       "      <th>pH</th>\n",
       "      <th>N</th>\n",
       "    </tr>\n",
       "  </thead>\n",
       "  <tbody>\n",
       "    <tr>\n",
       "      <th>0</th>\n",
       "      <td>0-10</td>\n",
       "      <td>Depression</td>\n",
       "      <td>5.4</td>\n",
       "      <td>0.18</td>\n",
       "    </tr>\n",
       "    <tr>\n",
       "      <th>1</th>\n",
       "      <td>0-10</td>\n",
       "      <td>Slope</td>\n",
       "      <td>5.5</td>\n",
       "      <td>0.22</td>\n",
       "    </tr>\n",
       "    <tr>\n",
       "      <th>2</th>\n",
       "      <td>0-10</td>\n",
       "      <td>Top</td>\n",
       "      <td>5.3</td>\n",
       "      <td>0.2</td>\n",
       "    </tr>\n",
       "    <tr>\n",
       "      <th>3</th>\n",
       "      <td>10-30</td>\n",
       "      <td>Depression</td>\n",
       "      <td>4.9</td>\n",
       "      <td>0.08</td>\n",
       "    </tr>\n",
       "    <tr>\n",
       "      <th>4</th>\n",
       "      <td>10-30</td>\n",
       "      <td>Slope</td>\n",
       "      <td>5.3</td>\n",
       "      <td>0.1</td>\n",
       "    </tr>\n",
       "    <tr>\n",
       "      <th>5</th>\n",
       "      <td>10-30</td>\n",
       "      <td>Top</td>\n",
       "      <td>4.8</td>\n",
       "      <td>0.12</td>\n",
       "    </tr>\n",
       "    <tr>\n",
       "      <th>6</th>\n",
       "      <td>30-60</td>\n",
       "      <td>Depression</td>\n",
       "      <td>4.4</td>\n",
       "      <td>0.051</td>\n",
       "    </tr>\n",
       "    <tr>\n",
       "      <th>7</th>\n",
       "      <td>30-60</td>\n",
       "      <td>Slope</td>\n",
       "      <td>4.3</td>\n",
       "      <td>0.061</td>\n",
       "    </tr>\n",
       "    <tr>\n",
       "      <th>8</th>\n",
       "      <td>30-60</td>\n",
       "      <td>Top</td>\n",
       "      <td>4.2</td>\n",
       "      <td>0.08</td>\n",
       "    </tr>\n",
       "    <tr>\n",
       "      <th>9</th>\n",
       "      <td>60-90</td>\n",
       "      <td>Depression</td>\n",
       "      <td>4.2</td>\n",
       "      <td>0.04</td>\n",
       "    </tr>\n",
       "    <tr>\n",
       "      <th>10</th>\n",
       "      <td>60-90</td>\n",
       "      <td>Slope</td>\n",
       "      <td>3.9</td>\n",
       "      <td>0.043</td>\n",
       "    </tr>\n",
       "    <tr>\n",
       "      <th>11</th>\n",
       "      <td>60-90</td>\n",
       "      <td>Top</td>\n",
       "      <td>3.9</td>\n",
       "      <td>0.058</td>\n",
       "    </tr>\n",
       "  </tbody>\n",
       "</table>\n",
       "</div>"
      ],
      "text/plain": [
       "    Depth     Contour   pH     N\n",
       "0    0-10  Depression  5.4  0.18\n",
       "1    0-10       Slope  5.5  0.22\n",
       "2    0-10         Top  5.3   0.2\n",
       "3   10-30  Depression  4.9  0.08\n",
       "4   10-30       Slope  5.3   0.1\n",
       "5   10-30         Top  4.8  0.12\n",
       "6   30-60  Depression  4.4 0.051\n",
       "7   30-60       Slope  4.3 0.061\n",
       "8   30-60         Top  4.2  0.08\n",
       "9   60-90  Depression  4.2  0.04\n",
       "10  60-90       Slope  3.9 0.043\n",
       "11  60-90         Top  3.9 0.058"
      ]
     },
     "execution_count": 72,
     "metadata": {},
     "output_type": "execute_result"
    }
   ],
   "source": [
    "df = soils_mean.reset_index()[[\"Depth\", \"Contour\", \"pH\", \"N\"]]\n",
    "df"
   ]
  },
  {
   "cell_type": "code",
   "execution_count": 74,
   "metadata": {
    "collapsed": false
   },
   "outputs": [
    {
     "data": {
      "text/html": [
       "<div>\n",
       "<table border=\"1\" class=\"dataframe\">\n",
       "  <thead>\n",
       "    <tr style=\"text-align: right;\">\n",
       "      <th>Contour</th>\n",
       "      <th>Depression</th>\n",
       "      <th>Slope</th>\n",
       "      <th>Top</th>\n",
       "    </tr>\n",
       "    <tr>\n",
       "      <th>Depth</th>\n",
       "      <th></th>\n",
       "      <th></th>\n",
       "      <th></th>\n",
       "    </tr>\n",
       "  </thead>\n",
       "  <tbody>\n",
       "    <tr>\n",
       "      <th>0-10</th>\n",
       "      <td>5.4</td>\n",
       "      <td>5.5</td>\n",
       "      <td>5.3</td>\n",
       "    </tr>\n",
       "    <tr>\n",
       "      <th>10-30</th>\n",
       "      <td>4.9</td>\n",
       "      <td>5.3</td>\n",
       "      <td>4.8</td>\n",
       "    </tr>\n",
       "    <tr>\n",
       "      <th>30-60</th>\n",
       "      <td>4.4</td>\n",
       "      <td>4.3</td>\n",
       "      <td>4.2</td>\n",
       "    </tr>\n",
       "    <tr>\n",
       "      <th>60-90</th>\n",
       "      <td>4.2</td>\n",
       "      <td>3.9</td>\n",
       "      <td>3.9</td>\n",
       "    </tr>\n",
       "  </tbody>\n",
       "</table>\n",
       "</div>"
      ],
      "text/plain": [
       "Contour  Depression  Slope  Top\n",
       "Depth                          \n",
       "0-10            5.4    5.5  5.3\n",
       "10-30           4.9    5.3  4.8\n",
       "30-60           4.4    4.3  4.2\n",
       "60-90           4.2    3.9  3.9"
      ]
     },
     "execution_count": 74,
     "metadata": {},
     "output_type": "execute_result"
    }
   ],
   "source": [
    "df_pivot_pH = df.pivot(\"Depth\", \"Contour\", \"pH\")\n",
    "df_pivot_pH"
   ]
  },
  {
   "cell_type": "markdown",
   "metadata": {},
   "source": [
    "pivot()的三个参数index, columns, values 只支持指定一列数据, 如不指定values参数\n",
    "就将剩余的列都当做元素的值, 得到多级索引"
   ]
  },
  {
   "cell_type": "code",
   "execution_count": 76,
   "metadata": {
    "collapsed": false
   },
   "outputs": [
    {
     "data": {
      "text/html": [
       "<div>\n",
       "<table border=\"1\" class=\"dataframe\">\n",
       "  <thead>\n",
       "    <tr>\n",
       "      <th></th>\n",
       "      <th colspan=\"3\" halign=\"left\">pH</th>\n",
       "      <th colspan=\"3\" halign=\"left\">N</th>\n",
       "    </tr>\n",
       "    <tr>\n",
       "      <th>Contour</th>\n",
       "      <th>Depression</th>\n",
       "      <th>Slope</th>\n",
       "      <th>Top</th>\n",
       "      <th>Depression</th>\n",
       "      <th>Slope</th>\n",
       "      <th>Top</th>\n",
       "    </tr>\n",
       "    <tr>\n",
       "      <th>Depth</th>\n",
       "      <th></th>\n",
       "      <th></th>\n",
       "      <th></th>\n",
       "      <th></th>\n",
       "      <th></th>\n",
       "      <th></th>\n",
       "    </tr>\n",
       "  </thead>\n",
       "  <tbody>\n",
       "    <tr>\n",
       "      <th>0-10</th>\n",
       "      <td>5.4</td>\n",
       "      <td>5.5</td>\n",
       "      <td>5.3</td>\n",
       "      <td>0.18</td>\n",
       "      <td>0.22</td>\n",
       "      <td>0.2</td>\n",
       "    </tr>\n",
       "    <tr>\n",
       "      <th>10-30</th>\n",
       "      <td>4.9</td>\n",
       "      <td>5.3</td>\n",
       "      <td>4.8</td>\n",
       "      <td>0.08</td>\n",
       "      <td>0.1</td>\n",
       "      <td>0.12</td>\n",
       "    </tr>\n",
       "    <tr>\n",
       "      <th>30-60</th>\n",
       "      <td>4.4</td>\n",
       "      <td>4.3</td>\n",
       "      <td>4.2</td>\n",
       "      <td>0.051</td>\n",
       "      <td>0.061</td>\n",
       "      <td>0.08</td>\n",
       "    </tr>\n",
       "    <tr>\n",
       "      <th>60-90</th>\n",
       "      <td>4.2</td>\n",
       "      <td>3.9</td>\n",
       "      <td>3.9</td>\n",
       "      <td>0.04</td>\n",
       "      <td>0.043</td>\n",
       "      <td>0.058</td>\n",
       "    </tr>\n",
       "  </tbody>\n",
       "</table>\n",
       "</div>"
      ],
      "text/plain": [
       "                pH                     N            \n",
       "Contour Depression Slope  Top Depression Slope   Top\n",
       "Depth                                               \n",
       "0-10           5.4   5.5  5.3       0.18  0.22   0.2\n",
       "10-30          4.9   5.3  4.8       0.08   0.1  0.12\n",
       "30-60          4.4   4.3  4.2      0.051 0.061  0.08\n",
       "60-90          4.2   3.9  3.9       0.04 0.043 0.058"
      ]
     },
     "execution_count": 76,
     "metadata": {},
     "output_type": "execute_result"
    }
   ],
   "source": [
    "df.pivot(\"Depth\", \"Contour\")"
   ]
  },
  {
   "cell_type": "code",
   "execution_count": null,
   "metadata": {
    "collapsed": true
   },
   "outputs": [],
   "source": [
    "melt()可以看做pivot()的逆变换"
   ]
  },
  {
   "cell_type": "code",
   "execution_count": 77,
   "metadata": {
    "collapsed": false
   },
   "outputs": [
    {
     "data": {
      "text/html": [
       "<div>\n",
       "<table border=\"1\" class=\"dataframe\">\n",
       "  <thead>\n",
       "    <tr style=\"text-align: right;\">\n",
       "      <th>Contour</th>\n",
       "      <th>Depression</th>\n",
       "      <th>Slope</th>\n",
       "      <th>Top</th>\n",
       "    </tr>\n",
       "    <tr>\n",
       "      <th>Depth</th>\n",
       "      <th></th>\n",
       "      <th></th>\n",
       "      <th></th>\n",
       "    </tr>\n",
       "  </thead>\n",
       "  <tbody>\n",
       "    <tr>\n",
       "      <th>0-10</th>\n",
       "      <td>5.4</td>\n",
       "      <td>5.5</td>\n",
       "      <td>5.3</td>\n",
       "    </tr>\n",
       "    <tr>\n",
       "      <th>10-30</th>\n",
       "      <td>4.9</td>\n",
       "      <td>5.3</td>\n",
       "      <td>4.8</td>\n",
       "    </tr>\n",
       "    <tr>\n",
       "      <th>30-60</th>\n",
       "      <td>4.4</td>\n",
       "      <td>4.3</td>\n",
       "      <td>4.2</td>\n",
       "    </tr>\n",
       "    <tr>\n",
       "      <th>60-90</th>\n",
       "      <td>4.2</td>\n",
       "      <td>3.9</td>\n",
       "      <td>3.9</td>\n",
       "    </tr>\n",
       "  </tbody>\n",
       "</table>\n",
       "</div>"
      ],
      "text/plain": [
       "Contour  Depression  Slope  Top\n",
       "Depth                          \n",
       "0-10            5.4    5.5  5.3\n",
       "10-30           4.9    5.3  4.8\n",
       "30-60           4.4    4.3  4.2\n",
       "60-90           4.2    3.9  3.9"
      ]
     },
     "execution_count": 77,
     "metadata": {},
     "output_type": "execute_result"
    }
   ],
   "source": [
    "df_pivot_pH"
   ]
  },
  {
   "cell_type": "code",
   "execution_count": 78,
   "metadata": {
    "collapsed": false
   },
   "outputs": [
    {
     "data": {
      "text/html": [
       "<div>\n",
       "<table border=\"1\" class=\"dataframe\">\n",
       "  <thead>\n",
       "    <tr style=\"text-align: right;\">\n",
       "      <th>Contour</th>\n",
       "      <th>Depth</th>\n",
       "      <th>Depression</th>\n",
       "      <th>Slope</th>\n",
       "      <th>Top</th>\n",
       "    </tr>\n",
       "  </thead>\n",
       "  <tbody>\n",
       "    <tr>\n",
       "      <th>0</th>\n",
       "      <td>0-10</td>\n",
       "      <td>5.4</td>\n",
       "      <td>5.5</td>\n",
       "      <td>5.3</td>\n",
       "    </tr>\n",
       "    <tr>\n",
       "      <th>1</th>\n",
       "      <td>10-30</td>\n",
       "      <td>4.9</td>\n",
       "      <td>5.3</td>\n",
       "      <td>4.8</td>\n",
       "    </tr>\n",
       "    <tr>\n",
       "      <th>2</th>\n",
       "      <td>30-60</td>\n",
       "      <td>4.4</td>\n",
       "      <td>4.3</td>\n",
       "      <td>4.2</td>\n",
       "    </tr>\n",
       "    <tr>\n",
       "      <th>3</th>\n",
       "      <td>60-90</td>\n",
       "      <td>4.2</td>\n",
       "      <td>3.9</td>\n",
       "      <td>3.9</td>\n",
       "    </tr>\n",
       "  </tbody>\n",
       "</table>\n",
       "</div>"
      ],
      "text/plain": [
       "Contour  Depth  Depression  Slope  Top\n",
       "0         0-10         5.4    5.5  5.3\n",
       "1        10-30         4.9    5.3  4.8\n",
       "2        30-60         4.4    4.3  4.2\n",
       "3        60-90         4.2    3.9  3.9"
      ]
     },
     "execution_count": 78,
     "metadata": {},
     "output_type": "execute_result"
    }
   ],
   "source": [
    "df_before_melt = df_pivot_pH.reset_index()\n",
    "df_before_melt"
   ]
  },
  {
   "cell_type": "code",
   "execution_count": 79,
   "metadata": {
    "collapsed": false
   },
   "outputs": [
    {
     "data": {
      "text/html": [
       "<div>\n",
       "<table border=\"1\" class=\"dataframe\">\n",
       "  <thead>\n",
       "    <tr style=\"text-align: right;\">\n",
       "      <th></th>\n",
       "      <th>Depth</th>\n",
       "      <th>Contour</th>\n",
       "      <th>pH</th>\n",
       "    </tr>\n",
       "  </thead>\n",
       "  <tbody>\n",
       "    <tr>\n",
       "      <th>0</th>\n",
       "      <td>0-10</td>\n",
       "      <td>Depression</td>\n",
       "      <td>5.4</td>\n",
       "    </tr>\n",
       "    <tr>\n",
       "      <th>1</th>\n",
       "      <td>10-30</td>\n",
       "      <td>Depression</td>\n",
       "      <td>4.9</td>\n",
       "    </tr>\n",
       "    <tr>\n",
       "      <th>2</th>\n",
       "      <td>30-60</td>\n",
       "      <td>Depression</td>\n",
       "      <td>4.4</td>\n",
       "    </tr>\n",
       "    <tr>\n",
       "      <th>3</th>\n",
       "      <td>60-90</td>\n",
       "      <td>Depression</td>\n",
       "      <td>4.2</td>\n",
       "    </tr>\n",
       "    <tr>\n",
       "      <th>4</th>\n",
       "      <td>0-10</td>\n",
       "      <td>Slope</td>\n",
       "      <td>5.5</td>\n",
       "    </tr>\n",
       "    <tr>\n",
       "      <th>5</th>\n",
       "      <td>10-30</td>\n",
       "      <td>Slope</td>\n",
       "      <td>5.3</td>\n",
       "    </tr>\n",
       "    <tr>\n",
       "      <th>6</th>\n",
       "      <td>30-60</td>\n",
       "      <td>Slope</td>\n",
       "      <td>4.3</td>\n",
       "    </tr>\n",
       "    <tr>\n",
       "      <th>7</th>\n",
       "      <td>60-90</td>\n",
       "      <td>Slope</td>\n",
       "      <td>3.9</td>\n",
       "    </tr>\n",
       "    <tr>\n",
       "      <th>8</th>\n",
       "      <td>0-10</td>\n",
       "      <td>Top</td>\n",
       "      <td>5.3</td>\n",
       "    </tr>\n",
       "    <tr>\n",
       "      <th>9</th>\n",
       "      <td>10-30</td>\n",
       "      <td>Top</td>\n",
       "      <td>4.8</td>\n",
       "    </tr>\n",
       "    <tr>\n",
       "      <th>10</th>\n",
       "      <td>30-60</td>\n",
       "      <td>Top</td>\n",
       "      <td>4.2</td>\n",
       "    </tr>\n",
       "    <tr>\n",
       "      <th>11</th>\n",
       "      <td>60-90</td>\n",
       "      <td>Top</td>\n",
       "      <td>3.9</td>\n",
       "    </tr>\n",
       "  </tbody>\n",
       "</table>\n",
       "</div>"
      ],
      "text/plain": [
       "    Depth     Contour   pH\n",
       "0    0-10  Depression  5.4\n",
       "1   10-30  Depression  4.9\n",
       "2   30-60  Depression  4.4\n",
       "3   60-90  Depression  4.2\n",
       "4    0-10       Slope  5.5\n",
       "5   10-30       Slope  5.3\n",
       "6   30-60       Slope  4.3\n",
       "7   60-90       Slope  3.9\n",
       "8    0-10         Top  5.3\n",
       "9   10-30         Top  4.8\n",
       "10  30-60         Top  4.2\n",
       "11  60-90         Top  3.9"
      ]
     },
     "execution_count": 79,
     "metadata": {},
     "output_type": "execute_result"
    }
   ],
   "source": [
    "df_after_melt = pd.melt(df_before_melt, id_vars=\"Depth\", value_name=\"pH\")\n",
    "df_after_melt"
   ]
  },
  {
   "cell_type": "code",
   "execution_count": null,
   "metadata": {
    "collapsed": false
   },
   "outputs": [],
   "source": []
  }
 ],
 "metadata": {
  "kernelspec": {
   "display_name": "Python 2",
   "language": "python",
   "name": "python2"
  },
  "language_info": {
   "codemirror_mode": {
    "name": "ipython",
    "version": 2
   },
   "file_extension": ".py",
   "mimetype": "text/x-python",
   "name": "python",
   "nbconvert_exporter": "python",
   "pygments_lexer": "ipython2",
   "version": "2.7.9"
  }
 },
 "nbformat": 4,
 "nbformat_minor": 0
}

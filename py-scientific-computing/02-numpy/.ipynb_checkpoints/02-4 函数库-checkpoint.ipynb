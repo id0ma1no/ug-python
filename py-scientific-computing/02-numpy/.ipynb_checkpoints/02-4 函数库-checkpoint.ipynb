{
 "cells": [
  {
   "cell_type": "code",
   "execution_count": 320,
   "metadata": {},
   "outputs": [
    {
     "name": "stdout",
     "output_type": "stream",
     "text": [
      "^^^^^^^^^^^^^^^^^^^^^^^^^^^^^^^^^^^^^^^^^^^^!kk0:start>^^^^^^^^^^^^^^^^^^^^^^^^^^^^^^^^^^^^^^^^^^^^^\n"
     ]
    }
   ],
   "source": [
    "kk 0"
   ]
  },
  {
   "cell_type": "code",
   "execution_count": 321,
   "metadata": {},
   "outputs": [],
   "source": [
    "%precision 2\n",
    "from numpy import random as nr"
   ]
  },
  {
   "cell_type": "markdown",
   "metadata": {},
   "source": [
    "## 庞大的函数库"
   ]
  },
  {
   "cell_type": "markdown",
   "metadata": {},
   "source": [
    "### 随机数"
   ]
  },
  {
   "cell_type": "markdown",
   "metadata": {},
   "source": [
    "随机数"
   ]
  },
  {
   "cell_type": "code",
   "execution_count": 322,
   "metadata": {},
   "outputs": [
    {
     "name": "stdout",
     "output_type": "stream",
     "text": [
      "         r1                      r2                 r3    \n",
      "--------------------  -----------------------  -----------\n",
      "[[0.03, 0.38, 0.81],  [[-0.11, -0.06,  0.26],  [[7, 6, 9],\n",
      " [0.99, 0.15, 0.59],   [ 0.3 ,  1.52,  0.31],   [9, 1, 5],\n",
      " [0.38, 0.97, 0.84],   [-0.31, -1.6 , -1.37],   [5, 2, 1],\n",
      " [0.84, 0.47, 0.41]]   [ 0.54,  1.06,  1.54]]   [0, 5, 4]]\n"
     ]
    }
   ],
   "source": [
    "r1 = nr.rand(4, 3)   #0-1之间的随机数\n",
    "r2 = nr.randn(4, 3)  #符合标准正态分布的随机数\n",
    "r3 = nr.randint(0, 10, (4,3)) #指定范围内的随机证书\n",
    "%C r1; r2; r3"
   ]
  },
  {
   "cell_type": "markdown",
   "metadata": {},
   "source": [
    "随机分布"
   ]
  },
  {
   "cell_type": "code",
   "execution_count": 323,
   "metadata": {},
   "outputs": [
    {
     "name": "stdout",
     "output_type": "stream",
     "text": [
      "            r1                         r2                 r3    \n",
      "--------------------------  -----------------------  -----------\n",
      "[[ 94.37, 125.39, 113.97],  [[10.91, 17.26, 15.47],  [[0, 0, 2],\n",
      " [ 96.1 , 111.5 , 105.25],   [14.51, 19.11, 12.98],   [2, 2, 1],\n",
      " [102.33, 108.03, 100.54],   [15.24, 16.98, 17.96],   [3, 2, 2],\n",
      " [102.4 , 108.23, 120.53]]   [14.59, 18.42, 17.69]]   [0, 2, 1]]\n"
     ]
    }
   ],
   "source": [
    "r1 = nr.normal(100, 10, (4, 3)) #符合正态分布的随机数\n",
    "r2 = nr.uniform(10, 20, (4, 3)) #符合均匀分布的随机数\n",
    "r3 = nr.poisson(2.0, (4, 3))    #符合泊松分布的随机数\n",
    "%C r1; r2; r3"
   ]
  },
  {
   "cell_type": "markdown",
   "metadata": {},
   "source": [
    "随机排序"
   ]
  },
  {
   "cell_type": "code",
   "execution_count": 324,
   "metadata": {},
   "outputs": [
    {
     "name": "stdout",
     "output_type": "stream",
     "text": [
      " 1: [1 6 5 8 4 2 7 0 3 9],     2: [30 20 40  1 10],    \n"
     ]
    }
   ],
   "source": [
    "a = np.array([1, 10, 20, 30, 40])\n",
    "%P nr.permutation(10); nr.permutation(a)#返回新的数组"
   ]
  },
  {
   "cell_type": "code",
   "execution_count": 325,
   "metadata": {},
   "outputs": [
    {
     "data": {
      "text/plain": [
       "array([10,  1, 40, 30, 20])"
      ]
     },
     "execution_count": 325,
     "metadata": {},
     "output_type": "execute_result"
    }
   ],
   "source": [
    "nr.shuffle(a) #对原始数组进行排序\n",
    "a"
   ]
  },
  {
   "cell_type": "markdown",
   "metadata": {},
   "source": [
    "可重复抽样"
   ]
  },
  {
   "cell_type": "code",
   "execution_count": 326,
   "metadata": {},
   "outputs": [
    {
     "name": "stdout",
     "output_type": "stream",
     "text": [
      "          c1                         c2                         c3          \n",
      "----------------------     ----------------------     ----------------------\n",
      "[[ 2., 14., 13., 10.],     [[15.,  7., 17.,  4.],     [[15., 17., 15., 15.],\n",
      " [14., 12., 17.,  5.],      [10.,  2.,  1., 14.],      [15., 12., 11., 18.],\n",
      " [ 2., 18., 14.,  4.]]      [12.,  3.,  0.,  8.]]      [15., 10., 14., 11.]]\n"
     ]
    }
   ],
   "source": [
    "a = np.arange(20, dtype=float)\n",
    "c1 = nr.choice(a, size=(3, 4))\n",
    "c2 = nr.choice(a, size=(3, 4), replace=False) #不可重复选取\n",
    "c3 = nr.choice(a, size=(3, 4), p=a / np.sum(a)) # 数字越大抽取的概率越大\n",
    "%C 5 c1; c2; c3"
   ]
  },
  {
   "cell_type": "markdown",
   "metadata": {},
   "source": [
    "随机数种子: 种子相同产生的随机数相同"
   ]
  },
  {
   "cell_type": "code",
   "execution_count": 327,
   "metadata": {},
   "outputs": [
    {
     "name": "stdout",
     "output_type": "stream",
     "text": [
      "     r1            r2            r3            r4     \n",
      "------------  ------------  ------------  ------------\n",
      "[32, 52, 21]  [20, 69, 69]  [51, 92, 14]  [51, 92, 14]\n"
     ]
    }
   ],
   "source": [
    "r1 = nr.randint(0, 100, 3)\n",
    "r2 = nr.randint(0, 100, 3)\n",
    "nr.seed(42)\n",
    "r3 = nr.randint(0, 100, 3)\n",
    "nr.seed(42)\n",
    "r4 = nr.randint(0, 100, 3)\n",
    "%C r1; r2; r3; r4"
   ]
  },
  {
   "cell_type": "markdown",
   "metadata": {},
   "source": [
    "### 求和、平均值、方差"
   ]
  },
  {
   "cell_type": "markdown",
   "metadata": {},
   "source": [
    "**sum()**"
   ]
  },
  {
   "cell_type": "code",
   "execution_count": 328,
   "metadata": {},
   "outputs": [
    {
     "name": "stdout",
     "output_type": "stream",
     "text": [
      "     a          np.sum(a)     np.sum(a, axis=1)     np.sum(a, axis=0)\n",
      "-----------     ---------     -----------------     -----------------\n",
      "[[6, 3, 7],     35            [16, 19]              [10,  9, 16]     \n",
      " [4, 6, 9]]                                                          \n"
     ]
    }
   ],
   "source": [
    "nr.seed(42)\n",
    "a = nr.randint(0,10,size=(2,3))\n",
    "%C 5 a; np.sum(a); np.sum(a, axis=1); np.sum(a, axis=0)"
   ]
  },
  {
   "cell_type": "code",
   "execution_count": 329,
   "metadata": {},
   "outputs": [
    {
     "name": "stdout",
     "output_type": "stream",
     "text": [
      "       f             np.sum(f, axis=(0, 2))     sum([6, 3, 7, 4]+[7, 2, 5, 4])\n",
      "----------------     ----------------------     ------------------------------\n",
      "[[[6, 3, 7, 4],      [38, 37, 39]               38                            \n",
      "  [6, 9, 2, 6],                                                               \n",
      "  [7, 4, 3, 7]],                                                              \n",
      "                                                                              \n",
      " [[7, 2, 5, 4],                                                               \n",
      "  [1, 7, 5, 1],                                                               \n",
      "  [4, 0, 9, 5]]]                                                              \n"
     ]
    }
   ],
   "source": [
    "nr.seed(42)\n",
    "f = nr.randint(0,10,(2,3,4))\n",
    "%C 5 f; np.sum(f, axis=(0, 2)); sum([6, 3, 7, 4]+[7, 2, 5, 4])"
   ]
  },
  {
   "cell_type": "code",
   "execution_count": 330,
   "metadata": {},
   "outputs": [
    {
     "name": "stdout",
     "output_type": "stream",
     "text": [
      "     a       np.sum(a, 1, keepdims=False)  np.sum(a, 1, keepdims=True)\n",
      "-----------  ----------------------------  ---------------------------\n",
      "[[6, 3, 7],  [16, 19]                      [[16],                     \n",
      " [4, 6, 9]]                                 [19]]                     \n"
     ]
    }
   ],
   "source": [
    "# keepdims参数设置是否保持原数组的维数\n",
    "%C a; np.sum(a, 1, keepdims=False); np.sum(a, 1, keepdims=True)"
   ]
  },
  {
   "cell_type": "code",
   "execution_count": 331,
   "metadata": {},
   "outputs": [
    {
     "name": "stdout",
     "output_type": "stream",
     "text": [
      "           pa            pa.sum(1, keepdims=True)\n",
      "-----------------------  ------------------------\n",
      "[[37.5 , 18.75, 43.75],  [[100.],                \n",
      " [21.05, 31.58, 47.37]]   [100.]]                \n"
     ]
    }
   ],
   "source": [
    "# keepdims设置为True时, sum()得到的结果可以和原始数组进行广播运算\n",
    "pa = a / np.sum(a, 1, dtype=float, keepdims=True) * 100\n",
    "%C pa; pa.sum(1, keepdims=True)"
   ]
  },
  {
   "cell_type": "code",
   "execution_count": 332,
   "metadata": {},
   "outputs": [
    {
     "name": "stdout",
     "output_type": "stream",
     "text": [
      "np.sum(b)  np.sum(b,dtype=np.double)\n",
      "---------  -------------------------\n",
      "1099999.2  1100000.023841858        \n"
     ]
    }
   ],
   "source": [
    "#  sum()求和时注意查看结果的精度\n",
    "b = np.full(1000000, 1.1, dtype=np.float32) # 创建一个很大的单精度浮点数数组\n",
    "%C np.sum(b); np.sum(b,dtype=np.double)"
   ]
  },
  {
   "cell_type": "markdown",
   "metadata": {},
   "source": [
    "**mean()**"
   ]
  },
  {
   "cell_type": "code",
   "execution_count": 333,
   "metadata": {},
   "outputs": [
    {
     "data": {
      "text/plain": [
       "array([5.33, 6.33])"
      ]
     },
     "execution_count": 333,
     "metadata": {},
     "output_type": "execute_result"
    }
   ],
   "source": [
    "np.mean(a,axis=1) # 默认双精度"
   ]
  },
  {
   "cell_type": "markdown",
   "metadata": {},
   "source": [
    "**average()**: 有一个权重参数"
   ]
  },
  {
   "cell_type": "code",
   "execution_count": 334,
   "metadata": {},
   "outputs": [
    {
     "name": "stdout",
     "output_type": "stream",
     "text": [
      " 1: 78.615,     2: 78.615,    \n"
     ]
    }
   ],
   "source": [
    "score = np.array([83, 72, 79])\n",
    "number = np.array([20, 15, 30])\n",
    "%P np.average(score, weights=number); np.sum(score * number) / np.sum(number, dtype=float)"
   ]
  },
  {
   "cell_type": "markdown",
   "metadata": {},
   "source": [
    "**std()**: 计算数组的标准差;  \n",
    "**var()**: 计算数组的方差;  "
   ]
  },
  {
   "cell_type": "markdown",
   "metadata": {},
   "source": [
    "`偏样本方差`(ddot=0): $\\large s_n^2 = \\frac{1}{n} \\Sigma_{i=1}^n(y_i-\\bar{y})^2$.   \n",
    "`无偏样本方差`(ddot=1): $\\large s_n^2 = \\frac{1}{n-1} \\Sigma_{i=1}^n(y_i-\\bar{y})^2$.  \n",
    "因为n个数据点的信息量 = (n-1)个数据点的信息量+均值的信息量, 因此, $y_1到y_n$只有(n-1)个信息量;"
   ]
  },
  {
   "cell_type": "code",
   "execution_count": 335,
   "metadata": {
    "scrolled": true
   },
   "outputs": [
    {
     "name": "stdout",
     "output_type": "stream",
     "text": [
      " 1: 3.603,     2: 4.004,    \n"
     ]
    }
   ],
   "source": [
    "a = nr.normal(0, 2.0, (100000, 10)) \n",
    "v1 = np.var(a, axis=1, ddof=0)\n",
    "v2 = np.var(a, axis=1, ddof=1)\n",
    "%P np.mean(v1); np.mean(v2)"
   ]
  },
  {
   "cell_type": "markdown",
   "metadata": {},
   "source": [
    "* 无偏样本方差 == 总体方差, 偏样本方差 == 正态分布随机变量的最大似然估计;  \n",
    "* 最大似然估计: 找到一组参数(期望, 方差), 使得所有样本一起发生时概率最大;"
   ]
  },
  {
   "cell_type": "code",
   "execution_count": 336,
   "metadata": {},
   "outputs": [],
   "source": [
    "def normal_pdf(mean, var, x):\n",
    "# 计算正态分布的概率密度的函数\"\n",
    "    return 1 / np.sqrt(2 * np.pi * var) * np.exp(-(x - mean) ** 2 / (2 * var))\n",
    "nr.seed(42)\n",
    "# 产生一组数据并计算平均值和方差\n",
    "data = nr.normal(0, 2.0, size=10)                         \n",
    "mean, var = np.mean(data), np.var(data)                   \n",
    "# 产生一组方差值,调参\n",
    "var_range = np.linspace(max(var - 4, 0.1), var + 4, 100)  \n",
    "# 计算每个数据点的概率密度(0.896,var) \n",
    "# mean长度为10,var_range为100,如果加了[:,None], 可广播\n",
    "p = normal_pdf(mean, var_range[:, None], data) \n",
    "# 计算每一行的值, 即所有数据点的概率密度总和\n",
    "pp = np.product(p, axis=1)"
   ]
  },
  {
   "cell_type": "code",
   "execution_count": 337,
   "metadata": {},
   "outputs": [
    {
     "name": "stdout",
     "output_type": "stream",
     "text": [
      " 1: 0.896,     2: 1.882,     3: (100, 1),     4: (100, 10),    \n"
     ]
    }
   ],
   "source": [
    "%P mean; var; var_range[:, None].shape; p.shape"
   ]
  },
  {
   "cell_type": "markdown",
   "metadata": {},
   "source": [
    "偏样本方差位于似然估计曲线(概率-方差曲线)的最大值处"
   ]
  },
  {
   "cell_type": "code",
   "execution_count": 338,
   "metadata": {},
   "outputs": [
    {
     "data": {
      "image/png": "[encoded data removed]",
      "text/plain": [
       "<Figure size 432x288 with 1 Axes>"
      ]
     },
     "metadata": {},
     "output_type": "display_data"
    }
   ],
   "source": [
    "plt.plot(var_range, pp, 'b-')\n",
    "plt.vlines(var, 0, 3e-8, linestyles=':', colors='r')\n",
    "plt.xlim(0,6)\n",
    "plt.ylim(0,3e-8)\n",
    "plt.show()"
   ]
  },
  {
   "cell_type": "markdown",
   "metadata": {},
   "source": [
    "### 大小与排序"
   ]
  },
  {
   "cell_type": "markdown",
   "metadata": {},
   "source": [
    "* min(), max() 都有axis, out, keepdims 等参数;\n",
    "* minimum(), maximum(): 二元最小值和二元最大值, 用于比较两个数组对应下标处的元素大小, 数组维度不同时需要广播;\n",
    "* ptp()计算最大值和最小值之间的差值;"
   ]
  },
  {
   "cell_type": "code",
   "execution_count": 339,
   "metadata": {},
   "outputs": [
    {
     "name": "stdout",
     "output_type": "stream",
     "text": [
      "      A                  B            np.maximum(A,B)\n",
      "--------------     --------------     ---------------\n",
      "[[1, 3, 5, 7],     [[2, 2, 2, 2],     [[2, 3, 5, 7], \n",
      " [1, 3, 5, 7],      [4, 4, 4, 4],      [4, 4, 5, 7], \n",
      " [1, 3, 5, 7]]      [6, 6, 6, 6]]      [6, 6, 6, 7]] \n"
     ]
    }
   ],
   "source": [
    "a = np.array([1, 3, 5, 7])\n",
    "b = np.array([2, 4, 6])[:,None]\n",
    "A, B = np.broadcast_arrays(a,b)\n",
    "%C 5 A; B; np.maximum(A,B)"
   ]
  },
  {
   "cell_type": "markdown",
   "metadata": {},
   "source": [
    "* **数组平坦化**: 将数组转化为列表, 并且列表的元素仍然是列表"
   ]
  },
  {
   "cell_type": "code",
   "execution_count": 340,
   "metadata": {},
   "outputs": [
    {
     "name": "stdout",
     "output_type": "stream",
     "text": [
      "     a2              a2.tolist()                         list(a2)              \n",
      "-----------     ----------------------     ------------------------------------\n",
      "[[0, 1, 2],     [[0, 1, 2], [3, 4, 5]]     [array([0, 1, 2]), array([3, 4, 5])]\n",
      " [3, 4, 5]]                                                                    \n"
     ]
    }
   ],
   "source": [
    "a2 = np.arange(6).reshape(2,3) \n",
    "%C 5 a2; a2.tolist(); list(a2)"
   ]
  },
  {
   "cell_type": "markdown",
   "metadata": {},
   "source": [
    "argmax() 和 argmin() 计算最大值和最小值的下标"
   ]
  },
  {
   "cell_type": "code",
   "execution_count": 341,
   "metadata": {},
   "outputs": [
    {
     "name": "stdout",
     "output_type": "stream",
     "text": [
      "        a             np.max(a)     max_pos\n",
      "-----------------     ---------     -------\n",
      "[[6, 3, 7, 4, 6],     9             5      \n",
      " [9, 2, 6, 7, 4],                          \n",
      " [3, 7, 7, 2, 5],                          \n",
      " [4, 1, 7, 5, 1]]                          \n"
     ]
    }
   ],
   "source": [
    "# 不指定 axis,返回平坦化之后的下标\n",
    "nr.seed(42)\n",
    "a = np.random.randint(0, 10, size=(4, 5))\n",
    "max_pos = np.argmax(a)\n",
    "%C 5 a; np.max(a); max_pos"
   ]
  },
  {
   "cell_type": "code",
   "execution_count": 342,
   "metadata": {},
   "outputs": [
    {
     "name": "stdout",
     "output_type": "stream",
     "text": [
      " idx    a[idx]\n",
      "------  ------\n",
      "(1, 0)  9     \n"
     ]
    }
   ],
   "source": [
    "# unravel_index()将平坦化下标转化为多维数组的下标: \n",
    "# 第一个参数是一位数组的下标, 第二个参数是多维数组的形状\n",
    "idx = np.unravel_index(max_pos, a.shape)\n",
    "%C idx; a[idx]"
   ]
  },
  {
   "cell_type": "code",
   "execution_count": 343,
   "metadata": {},
   "outputs": [
    {
     "name": "stdout",
     "output_type": "stream",
     "text": [
      "        a          rowmax[:,None]  a_rowmax[:,None]\n",
      "-----------------  --------------  ----------------\n",
      "[[6, 3, 7, 4, 6],  [[2],           [[7],           \n",
      " [9, 2, 6, 7, 4],   [0],            [9],           \n",
      " [3, 7, 7, 2, 5],   [1],            [7],           \n",
      " [4, 1, 7, 5, 1]]   [2]]            [7]]           \n"
     ]
    }
   ],
   "source": [
    "# 根据`行最值下标`取出`行最值`\n",
    "rowmax = np.argmax(a, axis=1) # 计算行最值下标(列刻度)\n",
    "a_rowmax=a[np.arange(a.shape[0]),rowmax] #行刻度-列刻度\n",
    "%C a; rowmax[:,None]; a_rowmax[:,None]"
   ]
  },
  {
   "cell_type": "markdown",
   "metadata": {},
   "source": [
    "1. sort()函数返回新的数组;\n",
    "1. sort()方法进行原位排序;  \n",
    "    * axis=-1(default), 沿着最后轴排序;\n",
    "    * axis=None, 排序之前先进行平坦化;\n",
    "    * 排序相关的函数和方法可以通过kind参数指定排序算法;  \n",
    "    * 对于结构数组还可以通过oeder参数指定排序所使用的字段;"
   ]
  },
  {
   "cell_type": "code",
   "execution_count": 344,
   "metadata": {},
   "outputs": [
    {
     "name": "stdout",
     "output_type": "stream",
     "text": [
      "    np.sort(a)        np.sort(a, axis=0)                        np.sort(a, axis=None)                    \n",
      "-----------------     ------------------     ------------------------------------------------------------\n",
      "[[3, 4, 6, 6, 7],     [[3, 1, 6, 2, 1],      [1, 1, 2, 2, 3, 3, 4, 4, 4, 5, 5, 6, 6, 6, 7, 7, 7, 7, 7, 9]\n",
      " [2, 4, 6, 7, 9],      [4, 2, 7, 4, 4],                                                                  \n",
      " [2, 3, 5, 7, 7],      [6, 3, 7, 5, 5],                                                                  \n",
      " [1, 1, 4, 5, 7]]      [9, 7, 7, 7, 6]]                                                                  \n"
     ]
    }
   ],
   "source": [
    "%C 5 np.sort(a); np.sort(a, axis=0); np.sort(a, axis=None) "
   ]
  },
  {
   "cell_type": "markdown",
   "metadata": {},
   "source": [
    "argsort(): 返回数组元素被排序之前的下标(简称排序下)"
   ]
  },
  {
   "cell_type": "code",
   "execution_count": 345,
   "metadata": {},
   "outputs": [
    {
     "name": "stdout",
     "output_type": "stream",
     "text": [
      "        a             np.sort(a,axis=0)         sort_axis0   \n",
      "-----------------     -----------------     -----------------\n",
      "[[6, 3, 7, 4, 6],     [[3, 1, 6, 2, 1],     [[2, 3, 1, 2, 3],\n",
      " [9, 2, 6, 7, 4],      [4, 2, 7, 4, 4],      [3, 1, 0, 0, 1],\n",
      " [3, 7, 7, 2, 5],      [6, 3, 7, 5, 5],      [0, 0, 2, 3, 2],\n",
      " [4, 1, 7, 5, 1]]      [9, 7, 7, 7, 6]]      [1, 2, 3, 1, 0]]\n",
      "\n",
      "      ' '*15          np.sort(a,axis=1)         sort_axis1   \n",
      "-----------------     -----------------     -----------------\n",
      "'               '     [[3, 4, 6, 6, 7],     [[1, 3, 0, 4, 2],\n",
      "                       [2, 4, 6, 7, 9],      [1, 4, 2, 3, 0],\n",
      "                       [2, 3, 5, 7, 7],      [3, 0, 4, 1, 2],\n",
      "                       [1, 1, 4, 5, 7]]      [1, 4, 0, 3, 2]]\n"
     ]
    }
   ],
   "source": [
    "sort_axis0 = np.argsort(a, axis=0)\n",
    "sort_axis1 = np.argsort(a, axis=1)\n",
    "%C 5 a; np.sort(a,axis=0); sort_axis0;; \\\n",
    "                        ' '*15; np.sort(a,axis=1); sort_axis1"
   ]
  },
  {
   "cell_type": "markdown",
   "metadata": {},
   "source": [
    "用排序下标计算排序数组: \n",
    "* 可以实现对两个相互关联的数组进行排序, 从数组a产生排序下标数组, 然后使用它对数组b进行排序;  \n",
    "\n",
    "如何创建轴刻度:  \n",
    "* 给定一个数组, 它的轴刻度是固定的;  \n",
    "* 轴刻度的形式与数组的形状有关, 不同轴刻度的形状是不同的;"
   ]
  },
  {
   "cell_type": "code",
   "execution_count": 346,
   "metadata": {},
   "outputs": [
    {
     "name": "stdout",
     "output_type": "stream",
     "text": [
      "axis0           axis1           a[sort_axis0, axis1]     a[axis0, sort_axis1]\n",
      "-----     -----------------     --------------------     --------------------\n",
      "[[0],     [[0, 1, 2, 3, 4]]     [[3, 1, 6, 2, 1],        [[3, 4, 6, 6, 7],   \n",
      " [1],                            [4, 2, 7, 4, 4],         [2, 4, 6, 7, 9],   \n",
      " [2],                            [6, 3, 7, 5, 5],         [2, 3, 5, 7, 7],   \n",
      " [3]]                            [9, 7, 7, 7, 6]]         [1, 1, 4, 5, 7]]   \n"
     ]
    }
   ],
   "source": [
    "axis0, axis1 = np.ogrid[:a.shape[0], :a.shape[1]]\n",
    "%C 5 axis0; axis1; a[sort_axis0, axis1]; a[axis0, sort_axis1]"
   ]
  },
  {
   "cell_type": "markdown",
   "metadata": {},
   "source": [
    "lexsort()函数: 类似于Excel的多列排序, lexsort()返回排序下标;"
   ]
  },
  {
   "cell_type": "code",
   "execution_count": 347,
   "metadata": {},
   "outputs": [
    {
     "name": "stdout",
     "output_type": "stream",
     "text": [
      " sample_feature                  param_ary                                param_ary[::-1]              \n",
      "---------------  ------------------------------------------  ------------------------------------------\n",
      "[['zhang', 37],  [['zhang', 'wang', 'li', 'wang', 'zhang'],  [[37, 33, 32, 31, 36],                    \n",
      " ['wang', 33],    [37, 33, 32, 31, 36]]                       ['zhang', 'wang', 'li', 'wang', 'zhang']]\n",
      " ['li', 32],                                                                                           \n",
      " ['wang', 31],                                                                                         \n",
      " ['zhang', 36]]                                                                                        \n"
     ]
    }
   ],
   "source": [
    "names = [\"zhang\", \"wang\", \"li\", \"wang\", \"zhang\"]\n",
    "ages = [37, 33, 32, 31, 36]\n",
    "\n",
    "# 数据点-特征矩阵; 参数数组的形状为(k,N), 与数据点-特征矩阵互为转置, k是特征的个数, N是数据点的个数;\n",
    "sample_feature = np.array(list(zip(names,ages)),dtype=np.object)\n",
    "param_ary = sample_feature.T\n",
    "\n",
    "# `param_ary[::-1]`: 将二维数组中所有的行倒序排列;\n",
    "%C sample_feature; param_ary; param_ary[::-1] "
   ]
  },
  {
   "cell_type": "code",
   "execution_count": 348,
   "metadata": {},
   "outputs": [
    {
     "name": "stdout",
     "output_type": "stream",
     "text": [
      "      idx           sample_feature[idx]\n",
      "---------------     -------------------\n",
      "[2, 3, 1, 4, 0]     [['li', 32],       \n",
      "                     ['wang', 31],     \n",
      "                     ['wang', 33],     \n",
      "                     ['zhang', 36],    \n",
      "                     ['zhang', 37]]    \n"
     ]
    }
   ],
   "source": [
    "# 最后的列为主键, 主键相同时再按其他的键进行排序\n",
    "idx = np.lexsort( param_ary[::-1]) #先对name排序, name相同时再按年龄排序\n",
    "%C 5 idx; sample_feature[idx]"
   ]
  },
  {
   "cell_type": "markdown",
   "metadata": {},
   "source": [
    "想要找出排序之后的前k个元素, 如果a的长度很大, 使用`np.sort(a)[k]`, 会严重降低程序的运行速度;  \n",
    "* **partition()** 和 **argpartition()**: \n",
    "* 首先对数组进行分割, 然后每个部分单独调用sort(或其他的排序算法);  \n",
    "* 为什么分割后排序时间会减少: 改变了时间复杂度;"
   ]
  },
  {
   "cell_type": "markdown",
   "metadata": {},
   "source": [
    "sorted函数的时间复杂度为(ch-01)：$O(n \\log{n})$  "
   ]
  },
  {
   "cell_type": "code",
   "execution_count": 349,
   "metadata": {},
   "outputs": [
    {
     "data": {
      "text/plain": [
       "0.8"
      ]
     },
     "execution_count": 349,
     "metadata": {},
     "output_type": "execute_result"
    }
   ],
   "source": [
    "num, part = 1e5, 10\n",
    "t1 = num * np.log(num) #单次排序的时间\n",
    "t2 = part * (num/part) * np.log(num/part) # 将其分成part部分后的排序时间\n",
    "t2/t1"
   ]
  },
  {
   "cell_type": "code",
   "execution_count": 350,
   "metadata": {},
   "outputs": [
    {
     "name": "stdout",
     "output_type": "stream",
     "text": [
      "      np.sort(r)[:5]         np.partition(r, 5)[:5] \n",
      "-------------------------  -------------------------\n",
      "[ 14,  14,  37,  86, 102]  [ 14,  14,  37,  86, 102]\n"
     ]
    }
   ],
   "source": [
    "nr.seed(0)\n",
    "r = np.random.randint(10, 1000000, 100000)\n",
    "%C np.sort(r)[:5]; np.partition(r, 5)[:5] "
   ]
  },
  {
   "cell_type": "code",
   "execution_count": 351,
   "metadata": {},
   "outputs": [],
   "source": [
    "%%disabled\n",
    "\n",
    "%timeit np.sort(r)[:5]\n",
    "%timeit np.sort(np.partition(r, 5)[:5])\n",
    "\n",
    ">>> 5.56 ms ± 62.8 µs per loop (mean ± std. dev. of 7 runs, 100 loops each)\n",
    ">>> 934 µs ± 18.4 µs per loop (mean ± std. dev. of 7 runs, 1000 loops each)"
   ]
  },
  {
   "cell_type": "markdown",
   "metadata": {},
   "source": [
    "median(): 获得数组的中位数,当数组的长度是偶数时, 返回两个值的平均值"
   ]
  },
  {
   "cell_type": "code",
   "execution_count": 352,
   "metadata": {},
   "outputs": [
    {
     "name": "stdout",
     "output_type": "stream",
     "text": [
      "        a                      a_median0              a_median1\n",
      "-----------------     ---------------------------     ---------\n",
      "[[6, 3, 7, 4, 6],     [[5. , 2.5, 7. , 4.5, 4.5]]     [[6.],   \n",
      " [9, 2, 6, 7, 4],                                      [6.],   \n",
      " [3, 7, 7, 2, 5],                                      [5.],   \n",
      " [4, 1, 7, 5, 1]]                                      [4.]]   \n"
     ]
    }
   ],
   "source": [
    "a_median0 = np.median(a, axis=0,keepdims=True)\n",
    "a_median1 = np.median(a, axis=1, keepdims=True)\n",
    "%C 5 a; a_median0; a_median1"
   ]
  },
  {
   "cell_type": "markdown",
   "metadata": {},
   "source": [
    "percentile(): 计算百分位数, 将数值从小到大排列, 计算处于 p% 位置上的数值 "
   ]
  },
  {
   "cell_type": "code",
   "execution_count": 353,
   "metadata": {},
   "outputs": [
    {
     "data": {
      "text/plain": [
       "array([1.  , 2.  , 2.97])"
      ]
     },
     "execution_count": 353,
     "metadata": {},
     "output_type": "execute_result"
    }
   ],
   "source": [
    "r = np.abs(np.random.randn(100000))\n",
    "np.percentile(r, [68.3, 95.4, 99.7]) # 正态随机分布的 1,2,3 倍标准差范围内的数据所占的百分比"
   ]
  },
  {
   "cell_type": "markdown",
   "metadata": {},
   "source": [
    "searchsorted(a, v), 将数组 v 中的元素带到 a 中进行二分搜索, 函数返回要插入的位置, 默认从最左边插入, 可由side参数调节"
   ]
  },
  {
   "cell_type": "code",
   "execution_count": 354,
   "metadata": {},
   "outputs": [
    {
     "name": "stdout",
     "output_type": "stream",
     "text": [
      "np.searchsorted(a, v)  np.searchsorted(a, v, side=\"right\")\n",
      "---------------------  -----------------------------------\n",
      "[0, 2, 6, 3]           [0, 2, 6, 5]                       \n"
     ]
    }
   ],
   "source": [
    "a = [2, 4, 8, 16, 16, 32]\n",
    "v = [1, 5, 33, 16]\n",
    "%C np.searchsorted(a, v); np.searchsorted(a, v, side=\"right\")"
   ]
  },
  {
   "cell_type": "markdown",
   "metadata": {},
   "source": [
    "有两个一维数组 x, y, 找到 y 中的每个元素在 x 中的下标, 如果元素不存在, 将下标设置为-1"
   ]
  },
  {
   "cell_type": "code",
   "execution_count": 355,
   "metadata": {},
   "outputs": [
    {
     "name": "stdout",
     "output_type": "stream",
     "text": [
      "get_index_searchsorted(x, y)  get_index_dict(x,y) \n",
      "----------------------------  --------------------\n",
      "[-1,  3,  1,  7, -1,  6]      [-1, 3, 1, 7, -1, 6]\n"
     ]
    }
   ],
   "source": [
    "x = np.array([3, 5, 7, 1, 9, 8, 6, 10])\n",
    "y = np.array([2, 1, 5, 10, 100, 6])\n",
    "# 使用二分法实现\n",
    "def get_index_searchsorted(x, y):  \n",
    "    \"\"\"\"使用searchsorted()计算序列y中的元素在序列x中的下标\"\"\"\n",
    "    index = np.argsort(x)  # x的排序下标 [3, 0, 1, 6, 2, 5, 4, 7]\n",
    "    sorted_x = x[index]    # 排好序的x: 1~10\n",
    "    sorted_index = np.searchsorted(sorted_x, y)  # y中元素可插入x(已排序)中的地址 [1, 0, 2, 7, 8, 3]\n",
    "    \n",
    "    yindex = np.take(index, sorted_index, mode=\"clip\") # 沿着指定轴的索引获取元素, 提供下标越界处理\n",
    "    mask = x[yindex] != y  # mask == [True, False, False, False,  True, False]\n",
    "    yindex[mask] = -1    \n",
    "    return yindex\n",
    "# 使用字典的方式实现\n",
    "def get_index_dict(x,y):\n",
    "    \"\"\"\"使用字典计算序列y中的元素在序列x中的下标\"\"\"\n",
    "    val_idx = {val:idx for idx,val in enumerate(x)}\n",
    "    yindex = [val_idx.get(v,-1) for v in y]\n",
    "    return yindex\n",
    "%C get_index_searchsorted(x, y); get_index_dict(x,y)"
   ]
  },
  {
   "cell_type": "code",
   "execution_count": 356,
   "metadata": {
    "scrolled": true
   },
   "outputs": [
    {
     "name": "stdout",
     "output_type": "stream",
     "text": [
      ">>>>>>>>>>>>>>>>>>>>>>>>>>>>>>>>>>>>>>>>>>>>!kk1:active>>>>>>>>>>>>>>>>>>>>>>>>>>>>>>>>>>>>>>>>>>>>>\n"
     ]
    }
   ],
   "source": [
    "kk 1"
   ]
  },
  {
   "cell_type": "markdown",
   "metadata": {},
   "source": [
    "### 统计函数"
   ]
  },
  {
   "cell_type": "markdown",
   "metadata": {},
   "source": [
    "unique()返回参数数组中所有不同的值, 并按顺序排列"
   ]
  },
  {
   "cell_type": "code",
   "execution_count": 357,
   "metadata": {},
   "outputs": [
    {
     "name": "stdout",
     "output_type": "stream",
     "text": [
      "              a                         a_unique                index                 a[index]     \n",
      "------------------------------     ------------------     ------------------     ------------------\n",
      "[6, 3, 4, 6, 2, 7, 4, 4, 6, 1]     [1, 2, 3, 4, 6, 7]     [9, 4, 1, 2, 0, 5]     [1, 2, 3, 4, 6, 7]\n"
     ]
    }
   ],
   "source": [
    "nr.seed(42)\n",
    "a = np.random.randint(0, 8, 10)\n",
    "a_unique, index = np.unique(a, return_index=True) # 一并返回结果数组在原始数组中的下标\n",
    "%C 5 a; a_unique; index; a[index]"
   ]
  },
  {
   "cell_type": "markdown",
   "metadata": {},
   "source": [
    "bincount(): 统计数组下标在数组元素中出现的次数;  \n",
    "* 整数数字0,1,2,可以做下标, 可以做事物类别的标记, 也可以做数组中的元素;\n",
    "* bincount接收一个数组参数, 同时接收了该数组的下标序列作为参数;\n",
    "\n",
    "weights(线性系数,归一化因子):  \n",
    "* 结果是一个数字, 而计算这个数字的量叫做`统计度量`;\n",
    "* `weights=None`: weights=[1]*len(a), 出现一个下标元素, 统计度量都加1; \n",
    "* `weights=[0.1,5,..]`: 给数组中的每个元素一个权重, 但出现一个下标元素, 统计度量可能加0.1,也可能加5;"
   ]
  },
  {
   "cell_type": "code",
   "execution_count": 358,
   "metadata": {},
   "outputs": [
    {
     "name": "stdout",
     "output_type": "stream",
     "text": [
      "np.bincount(x)     np.bincount(x, w)     np.bincount(x, w) / np.bincount(x)\n",
      "--------------     -----------------     ----------------------------------\n",
      "[2, 3, 2]          [1.3, 1.6, 0.6]       [0.65, 0.53, 0.3 ]                \n"
     ]
    }
   ],
   "source": [
    "x = np.array([0  ,   1,   2,   2,   1,   1,   0])\n",
    "w = np.array([0.1, 0.3, 0.2, 0.4, 0.5, 0.8, 1.2]) \n",
    "%C 5 np.bincount(x); np.bincount(x, w); np.bincount(x, w) / np.bincount(x)"
   ]
  },
  {
   "cell_type": "markdown",
   "metadata": {},
   "source": [
    "**histgram(a, bins, range=None, weights=None, density=Fslse)**: 对一维数组进行直方图统计;   \n",
    "1. 输入参数:  \n",
    "    * bins: 将一维数组a分成多少个统计区间; 在`分间`之前需要对原始数据进行排序;   \n",
    "    * range: 默认值为(a.min(),a.max()), 可以再此区间任意取一个统计范围;\n",
    "    * density: \n",
    "        * 默认False, 使用区间中元素的个数作为统计度量单位;\n",
    "        * True: 使用区间的概率密度作为统计度量单位;\n",
    "    * weights: 有效性因子, 对结果进行修正;\n",
    "1. 返回两个一维数组:\n",
    "    * hist: 与每个区间一一对应的一个数字, 用于度量统计结果(个数或者概率密度)\n",
    "    * bin_edges: 区间的端点, 长度比hist多1;"
   ]
  },
  {
   "cell_type": "code",
   "execution_count": 359,
   "metadata": {},
   "outputs": [
    {
     "name": "stdout",
     "output_type": "stream",
     "text": [
      "                           a_sort                           \n",
      "------------------------------------------------------------\n",
      "[0.02, 0.06, 0.16, 0.18, 0.21, 0.6 , 0.71, 0.83, 0.87, 0.97]\n",
      "\n",
      "         bins1              hist1           bins2            hist2  \n",
      "------------------------  ---------  --------------------  ---------\n",
      "[0.  , 0.33, 0.67, 1.  ]  [5, 1, 4]  [0. , 0.4, 0.8, 1. ]  [5, 2, 3]\n"
     ]
    }
   ],
   "source": [
    "a = np.random.rand(10)\n",
    "a_sort = np.sort(a)\n",
    "hist1, bins1 = np.histogram(a, bins=3, range=(0, 1)) #等区间\n",
    "hist2, bins2 = np.histogram(a, bins=[0, 0.4, 0.8, 1.0]) #设置不等区间\n",
    "%C a_sort;; bins1; hist1; bins2; hist2"
   ]
  },
  {
   "cell_type": "markdown",
   "metadata": {},
   "source": [
    "#### 示例"
   ]
  },
  {
   "cell_type": "markdown",
   "metadata": {},
   "source": [
    "`data/height.csv`保存了一系列的年龄身高数据;  \n",
    "这是一个二维数组, 如何使用histogram进行一维直方图统计? 对年龄做直方图统计, 身高做权重因子;"
   ]
  },
  {
   "cell_type": "markdown",
   "metadata": {},
   "source": [
    "观察数据点-特征矩阵的结构"
   ]
  },
  {
   "cell_type": "code",
   "execution_count": 360,
   "metadata": {},
   "outputs": [
    {
     "name": "stdout",
     "output_type": "stream",
     "text": [
      "d.shape      np.min(d[:, 0])     np.max(d[:, 0])     np.min(d[:, 1])     np.max(d[:, 1])\n",
      "--------     ---------------     ---------------     ---------------     ---------------\n",
      "(100, 2)     7.1                 19.9                121.8               178.8          \n"
     ]
    }
   ],
   "source": [
    "d = np.loadtxt(\"data/height.csv\", delimiter=\",\")\n",
    "%C 5 d.shape; np.min(d[:, 0]); np.max(d[:, 0]); np.min(d[:, 1]); np.max(d[:, 1])"
   ]
  },
  {
   "cell_type": "markdown",
   "metadata": {},
   "source": [
    "身高做年龄数组的权重，指定权重参数后, histgram()不在返回区间的个数和, 而是返回经权重度量的`个数和`, 这里返回每个年龄区间身高的总和;  \n",
    "* cnts是每个年龄段的人数;  \n",
    "* sums时每个年龄段的人的身高总和;\n",
    "* sums / cnts: 每个年龄段的平均身高;"
   ]
  },
  {
   "cell_type": "code",
   "execution_count": 361,
   "metadata": {},
   "outputs": [
    {
     "name": "stdout",
     "output_type": "stream",
     "text": [
      "                        cnts                        \n",
      "----------------------------------------------------\n",
      "[10,  6,  7,  9,  5, 10,  9,  3, 11,  6,  4, 12,  8]\n",
      "\n",
      "                                  sums                                  \n",
      "------------------------------------------------------------------------\n",
      "[1259.6,  792.4,  964.8, 1294.2,  740.7, 1534.4, 1459.4,  500.6, 1901.2,\n",
      " 1039.8,  701.1, 2090.3, 1400.6]                                        \n",
      "\n",
      "                              sums / cnts                               \n",
      "------------------------------------------------------------------------\n",
      "[125.96, 132.07, 137.83, 143.8 , 148.14, 153.44, 162.16, 166.87, 172.84,\n",
      " 173.3 , 175.28, 174.19, 175.07]                                        \n"
     ]
    }
   ],
   "source": [
    "cnts = np.histogram(d[:, 0], bins=range(7, 21))[0]\n",
    "sums = np.histogram(d[:, 0], bins=range(7, 21), weights=d[:, 1])[0]\n",
    "%C cnts;; sums;; sums / cnts"
   ]
  },
  {
   "cell_type": "markdown",
   "metadata": {},
   "source": [
    "### 分段函数"
   ]
  },
  {
   "cell_type": "markdown",
   "metadata": {},
   "source": [
    "Python的判断表达式: `x = y if condition else z`;  "
   ]
  },
  {
   "cell_type": "code",
   "execution_count": 362,
   "metadata": {},
   "outputs": [
    {
     "name": "stdout",
     "output_type": "stream",
     "text": [
      " 1: 1.000,     2: 0.000,    \n"
     ]
    }
   ],
   "source": [
    "y,z = 1,0\n",
    "%P y if y == 1 else z;   y if y != 1 else z"
   ]
  },
  {
   "cell_type": "code",
   "execution_count": 363,
   "metadata": {},
   "outputs": [
    {
     "name": "stdout",
     "output_type": "stream",
     "text": [
      ">>>>>>>>>>>>>>>>>>>>>>>>>>>>>>>>>>>>>>>>>>>>!kk1:active>>>>>>>>>>>>>>>>>>>>>>>>>>>>>>>>>>>>>>>>>>>>>\n"
     ]
    }
   ],
   "source": [
    "kk 1"
   ]
  },
  {
   "cell_type": "markdown",
   "metadata": {},
   "source": [
    "np.where(x,y,z)具有与判断表达式类似的功能;  \n",
    "如果x,y,z的形状不同, 需要进行广播;"
   ]
  },
  {
   "cell_type": "code",
   "execution_count": 364,
   "metadata": {},
   "outputs": [
    {
     "data": {
      "text/plain": [
       "array([0, 1, 2, 3, 4, 4, 3, 2, 1, 0])"
      ]
     },
     "execution_count": 364,
     "metadata": {},
     "output_type": "execute_result"
    }
   ],
   "source": [
    "x = np.arange(10) \n",
    "np.where(x < 5, x, 9-x)"
   ]
  },
  {
   "cell_type": "markdown",
   "metadata": {},
   "source": [
    "where()计算P61的三角波形"
   ]
  },
  {
   "cell_type": "code",
   "execution_count": 365,
   "metadata": {},
   "outputs": [],
   "source": [
    "def triangle_wave1(x, c, c0, hc):\n",
    "    x = x - x.astype(np.int) # 三角波的周期为1，因此只取x坐标的小数部分进行计算\n",
    "    return np.where(x >= c, 0, np.where(x < c0, x / c0 * hc,(c - x) / (c - c0) * hc))"
   ]
  },
  {
   "cell_type": "markdown",
   "metadata": {},
   "source": [
    "**select(condlist, choicelist, default)**:   \n",
    "* 嵌套层数>=两个的时候使用; \n",
    "* condilist是自变量列表, choicelist是段函数列表, 两者一一对应."
   ]
  },
  {
   "cell_type": "code",
   "execution_count": 366,
   "metadata": {},
   "outputs": [],
   "source": [
    "def triangle_wave2(x, c, c0, hc):\n",
    "    x = x - x.astype(np.int)\n",
    "    return np.select([x >= c, x < c0 , True            ], \n",
    "                     [0     , x/c0*hc, (c-x)/(c-c0)*hc])"
   ]
  },
  {
   "cell_type": "markdown",
   "metadata": {},
   "source": [
    "**piecewise(x,condlist, funclist)**:  \n",
    "* 调用 where()函数和select()函数时将会发生大量的内存分配和释放;  \n",
    "* 因此当输入数组 x 很大时, 用 piecewise()函数计算分段函数值;  "
   ]
  },
  {
   "cell_type": "code",
   "execution_count": 367,
   "metadata": {},
   "outputs": [],
   "source": [
    "def triangle_wave3(x, c, c0, hc):\n",
    "    x = x - x.astype(np.int)\n",
    "    return np.piecewise(x, [x >= c, x < c0], #condlist 的长度可以比funclist的长度少1 \n",
    "        [0,  # x>=c \n",
    "        lambda x: x / c0 * hc, # x<c0\n",
    "        lambda x: (c - x) / (c - c0) * hc])  # else"
   ]
  },
  {
   "cell_type": "code",
   "execution_count": 368,
   "metadata": {},
   "outputs": [
    {
     "data": {
      "text/plain": [
       "(True, True)"
      ]
     },
     "execution_count": 368,
     "metadata": {},
     "output_type": "execute_result"
    }
   ],
   "source": [
    "x = np.linspace(0, 2, 10000) \n",
    "y1 = triangle_wave1(x, 0.6, 0.4, 1.0)\n",
    "y2 = triangle_wave2(x, 0.6, 0.4, 1.0)\n",
    "y3 = triangle_wave3(x, 0.6, 0.4, 1.0)\n",
    "np.all(y1 == y2), np.all(y1 == y3)"
   ]
  },
  {
   "cell_type": "code",
   "execution_count": 369,
   "metadata": {},
   "outputs": [],
   "source": [
    "%%disabled\n",
    "\n",
    "%timeit triangle_wave1(x, 0.6, 0.4, 1.0)\n",
    "%timeit triangle_wave2(x, 0.6, 0.4, 1.0)\n",
    "%timeit triangle_wave3(x, 0.6, 0.4, 1.0)\n",
    "\n",
    ">>>66 µs ± 214 ns per loop (mean ± std. dev. of 7 runs, 10000 loops each)\n",
    "...132 µs ± 732 ns per loop (mean ± std. dev. of 7 runs, 10000 loops each)\n",
    "...96.3 µs ± 187 ns per loop (mean ± std. dev. of 7 runs, 10000 loops each)"
   ]
  },
  {
   "cell_type": "markdown",
   "metadata": {},
   "source": [
    "### 多维数组的操作"
   ]
  },
  {
   "cell_type": "markdown",
   "metadata": {},
   "source": [
    "#### 使用concatenate连接数组"
   ]
  },
  {
   "cell_type": "markdown",
   "metadata": {},
   "source": [
    "**concatenate()**:   \n",
    "* 将带拼接的数组表示成一个序列的形式, 作为它的第一个参数;  \n",
    "* axis: 待拼接轴或拼接方向, 默认为x轴;\n",
    "* 可拼接条件: 对所有数组而言, 除了待拼接轴的形状不同外, 其他轴的形状必须相同;  \n",
    "* 可反应操作: 沿着哪个轴拼接, 就按哪个轴平移;"
   ]
  },
  {
   "cell_type": "code",
   "execution_count": 370,
   "metadata": {},
   "outputs": [
    {
     "name": "stdout",
     "output_type": "stream",
     "text": [
      "     a             a14         a41        b             b14         b41 \n",
      "------------  --------------  -----  ------------  --------------  -----\n",
      "[1, 2, 3, 4]  [[1, 2, 3, 4]]  [[1],  [5, 6, 7, 8]  [[5, 6, 7, 8]]  [[5],\n",
      "                               [2],                                 [6],\n",
      "                               [3],                                 [7],\n",
      "                               [4]]                                 [8]]\n"
     ]
    }
   ],
   "source": [
    "a = np.arange(1,5); b = np.arange(5,9)\n",
    "a14 = a[None,:]; a41 = a[:,None]\n",
    "b14 = b[None,:]; b41 = b[:,None]\n",
    "%C a; a14; a41; b; b14; b41"
   ]
  },
  {
   "cell_type": "markdown",
   "metadata": {},
   "source": [
    "数组的串联和并联:  \n",
    "1. 将数组进行串联处理: 点对点连接;   \n",
    "2. 将数组进行并联处理: 线对线堆叠;  \n",
    "3. 可以将其看做是一根筷子在二维平面进行平移的结果: 筷式平移只有五种基本形式;"
   ]
  },
  {
   "cell_type": "code",
   "execution_count": 371,
   "metadata": {},
   "outputs": [
    {
     "name": "stdout",
     "output_type": "stream",
     "text": [
      "np.concatenate((a,b),axis=0)     np.concatenate((a14,b14),axis=1)     np.concatenate((a41,b41),axis=0)\n",
      "----------------------------     --------------------------------     --------------------------------\n",
      "[1, 2, 3, 4, 5, 6, 7, 8]         [[1, 2, 3, 4, 5, 6, 7, 8]]           [[1],                           \n",
      "                                                                       [2],                           \n",
      "                                                                       [3],                           \n",
      "                                                                       [4],                           \n",
      "                                                                       [5],                           \n",
      "                                                                       [6],                           \n",
      "                                                                       [7],                           \n",
      "                                                                       [8]]                           \n",
      "\n",
      "           ' '*25               np.concatenate((a14,b14),axis=0)     np.concatenate((a41,b41),axis=1)\n",
      "---------------------------     --------------------------------     --------------------------------\n",
      "'                         '     [[1, 2, 3, 4],                       [[1, 5],                        \n",
      "                                 [5, 6, 7, 8]]                        [2, 6],                        \n",
      "                                                                      [3, 7],                        \n",
      "                                                                      [4, 8]]                        \n"
     ]
    }
   ],
   "source": [
    "%C 5 np.concatenate((a,b),axis=0); np.concatenate((a14,b14),axis=1); np.concatenate((a41,b41),axis=0);;\\\n",
    "     ' '*25; np.concatenate((a14,b14),axis=0); np.concatenate((a41,b41),axis=1)"
   ]
  },
  {
   "cell_type": "markdown",
   "metadata": {},
   "source": [
    "vstack(): 沿着垂直方向堆叠数组;   \n",
    "hstack(): 沿着水平方向堆叠数组;   \n",
    "* 可反应操作: 用一支笔近似表示数组的宽窄, 然后让笔沿着v方向或者h方向平移;\n",
    "* 可拼接条件: 在平移方向上, 两只笔的长度应该相同;"
   ]
  },
  {
   "cell_type": "markdown",
   "metadata": {},
   "source": [
    "> 1. np.vstack:    \n",
    "    * This is equivalent to concatenation along the first axis after 1-D arrays of shape `(N,)` have been reshaped to `(1,N)`.\n",
    "    * 将二维数组沿着第一轴拼接, 如果是一维数组(N,), 先将一维数组变为二维数组(1,N);    \n",
    "2. np.hstack:     \n",
    "    * This is equivalent to concatenation along the second axis, except for 1-D arrays where it concatenates along the first axis.    \n",
    "    * 将二维数组沿着第二轴拼接, 如果是一维数组则沿着第一轴拼接;   "
   ]
  },
  {
   "cell_type": "code",
   "execution_count": 372,
   "metadata": {},
   "outputs": [
    {
     "name": "stdout",
     "output_type": "stream",
     "text": [
      "    np.hstack((a,b))            np.hstack((a14,b14))        np.vstack((a41,b41))\n",
      "------------------------     --------------------------     --------------------\n",
      "[1, 2, 3, 4, 5, 6, 7, 8]     [[1, 2, 3, 4, 5, 6, 7, 8]]     [[1],               \n",
      "                                                             [2],               \n",
      "                                                             [3],               \n",
      "                                                             [4],               \n",
      "                                                             [5],               \n",
      "                                                             [6],               \n",
      "                                                             [7],               \n",
      "                                                             [8]]               \n",
      "\n",
      "np.vstack((a14,b14))     np.hstack((a41,b41))     np.hstack((np.hstack((a41,b41)),b41))\n",
      "--------------------     --------------------     -------------------------------------\n",
      "[[1, 2, 3, 4],           [[1, 5],                 [[1, 5, 5],                          \n",
      " [5, 6, 7, 8]]            [2, 6],                  [2, 6, 6],                          \n",
      "                          [3, 7],                  [3, 7, 7],                          \n",
      "                          [4, 8]]                  [4, 8, 8]]                          \n"
     ]
    }
   ],
   "source": [
    "%C 5 np.hstack((a,b)); np.hstack((a14,b14)); np.vstack((a41,b41));;\\\n",
    "        np.vstack((a14,b14)); np.hstack((a41,b41)); np.hstack((np.hstack((a41,b41)),b41))"
   ]
  },
  {
   "cell_type": "markdown",
   "metadata": {},
   "source": [
    "列式堆叠(column_stack):   \n",
    "* 将参数中所有的列式数组, 都当做输出矩阵的列;\n",
    "* 可方便的为原始数组添加一列;\n",
    "\n",
    "行式堆叠(row_stack):   \n",
    "* 将参数中所有的行式数组, 都当做输出矩阵的行;  \n",
    "* 可方便的为原始数组添加一行;"
   ]
  },
  {
   "cell_type": "code",
   "execution_count": 373,
   "metadata": {
    "scrolled": true
   },
   "outputs": [
    {
     "name": "stdout",
     "output_type": "stream",
     "text": [
      "np.column_stack((a, b))     np.column_stack((a41, b41))     np.column_stack((a14,b14))\n",
      "-----------------------     ---------------------------     --------------------------\n",
      "[[1, 5],                    [[1, 5],                        [[1, 2, 3, 4, 5, 6, 7, 8]]\n",
      " [2, 6],                     [2, 6],                                                  \n",
      " [3, 7],                     [3, 7],                                                  \n",
      " [4, 8]]                     [4, 8]]                                                  \n",
      "\n",
      "np.row_stack((a, b))     np.row_stack((a14, b14))     np.row_stack((a41,b41))\n",
      "--------------------     ------------------------     -----------------------\n",
      "[[1, 2, 3, 4],           [[1, 2, 3, 4],               [[1],                  \n",
      " [5, 6, 7, 8]]            [5, 6, 7, 8]]                [2],                  \n",
      "                                                       [3],                  \n",
      "                                                       [4],                  \n",
      "                                                       [5],                  \n",
      "                                                       [6],                  \n",
      "                                                       [7],                  \n",
      "                                                       [8]]                  \n"
     ]
    }
   ],
   "source": [
    "%C 5 np.column_stack((a, b)); np.column_stack((a41, b41)); np.column_stack((a14,b14));;\\\n",
    "np.row_stack((a, b)); np.row_stack((a14, b14)); np.row_stack((a41,b41))"
   ]
  },
  {
   "cell_type": "markdown",
   "metadata": {},
   "source": [
    "#### 使用`np.r_[]`和`np.c_[]`连接数组"
   ]
  },
  {
   "cell_type": "markdown",
   "metadata": {},
   "source": [
    "1. r_: 将参数数组按0轴进行拼接\n",
    "2. 索引表达式的切片形式:     \n",
    "    * `start:stop:step`==np.arange(start,stop,step)的参数; 不包含终点;    \n",
    "    * `start:stop:stepj`==`np.linspace(start, stop, step, endpoint=1)`的参数; 包含终点;     \n",
    "\n",
    "\n",
    "3. 索引表达式的`可选字符串`:     \n",
    "    1. 将一维输出结果变为二维:\n",
    "        * 'r': (N,)->(1,N); \n",
    "        * 'c': (N,)->(N,1);\n",
    "        * 如果输出本就是二维, 'r','c'结果相同;\n",
    "    2. 整数字符串;\n",
    "        * 第一个整数: 规定拼接数组的轴; \n",
    "        * 第二个整数: 规定数组序列中每个数组的最小维数;\n",
    "        * 三个整数: 如果数组序列中某个数组的维度不够, 如何扩维(升级):\n",
    "            * -1: 在其形状元组的前面添加(1,), (1,)+a1.shape\n",
    "            * 0: 在其形状元组的后面添加(1,), a1.shape+(1,)"
   ]
  },
  {
   "cell_type": "code",
   "execution_count": 472,
   "metadata": {},
   "outputs": [
    {
     "name": "stdout",
     "output_type": "stream",
     "text": [
      "           a                            a16                  a61  \n",
      "------------------------     --------------------------     ------\n",
      "[0., 1., 2., 3., 4., 5.]     [[0., 1., 2., 3., 4., 5.]]     [[0.],\n",
      "                                                             [1.],\n",
      "                                                             [2.],\n",
      "                                                             [3.],\n",
      "                                                             [4.],\n",
      "                                                             [5.]]\n"
     ]
    }
   ],
   "source": [
    "a = np.r_[0, 1:3:1, 3:5:3j]        # 连接切片和标量, 两种切片形式\n",
    "a16 = np.r_['r', 0, 1:3:1, 3:5:3j] # 将结果表示为y轴刻度\n",
    "a61 = np.r_['c', 0, 1:3:1, 3:5:3j] # 将结果表示为x轴刻度\n",
    "%C 5 a; a16; a61"
   ]
  },
  {
   "cell_type": "markdown",
   "metadata": {},
   "source": [
    "第一个整数的含义: 按哪个轴进行拼接"
   ]
  },
  {
   "cell_type": "code",
   "execution_count": 475,
   "metadata": {},
   "outputs": [
    {
     "name": "stdout",
     "output_type": "stream",
     "text": [
      "     x          np.r_['0', x, x]       np.r_['1', x, x]  \n",
      "-----------     ----------------     --------------------\n",
      "[[0, 1, 2],     [[0, 1, 2],          [[0, 1, 2, 0, 1, 2],\n",
      " [3, 4, 5]]      [3, 4, 5],           [3, 4, 5, 3, 4, 5]]\n",
      "                 [0, 1, 2],                              \n",
      "                 [3, 4, 5]]                              \n"
     ]
    }
   ],
   "source": [
    "a = np.arange(3); b = np.arange(3,6); x = np.array([a,b])\n",
    "%C 5 x; np.r_['0', x, x]; np.r_['1', x, x] "
   ]
  },
  {
   "cell_type": "markdown",
   "metadata": {},
   "source": [
    "第二个整数表明每个参数数组的维数至少是二维, 对低于二维的数组进行扩维;  \n",
    "\n",
    "第三个整数则指明了扩维的方式:\n",
    "* 0表示后式扩维: a,b的shape由 (3,)=>(3,1)\n",
    "* -1表示前式扩维: a,b的shape由 (3,)=>(1,3)"
   ]
  },
  {
   "cell_type": "code",
   "execution_count": 492,
   "metadata": {},
   "outputs": [
    {
     "name": "stdout",
     "output_type": "stream",
     "text": [
      "    a          b        np.r_['0',a,b]    np.r_['0,2,0',a,b]  np.r_['0,2,-1',a,b]  np.r_['1,2,0',a,b]\n",
      "---------  ---------  ------------------  ------------------  -------------------  ------------------\n",
      "[0, 1, 2]  [3, 4, 5]  [0, 1, 2, 3, 4, 5]  [[0],               [[0, 1, 2],          [[0, 3],          \n",
      "                                           [1],                [3, 4, 5]]           [1, 4],          \n",
      "                                           [2],                                     [2, 5]]          \n",
      "                                           [3],                                                      \n",
      "                                           [4],                                                      \n",
      "                                           [5]]                                                      \n"
     ]
    }
   ],
   "source": [
    "%C a; b; np.r_['0',a,b]; np.r_['0,2,0',a,b]; np.r_['0,2,-1',a,b]; np.r_['1,2,0',a,b]"
   ]
  },
  {
   "cell_type": "markdown",
   "metadata": {},
   "source": [
    "np.c_== `np.r_['-1,2,0', index expression]`    \n",
    "* 将二维数组沿着最后一个轴(第二轴)进行拼接;    \n",
    "* 如果是一维数组, 先将一维数组变为二维数组(按照后式扩维法): 将一维数组快速变为列矢量(二维);"
   ]
  },
  {
   "cell_type": "code",
   "execution_count": 523,
   "metadata": {},
   "outputs": [
    {
     "name": "stdout",
     "output_type": "stream",
     "text": [
      "     a                b           np.c_[a]     np.c_[a,b]                   npc               \n",
      "------------     ------------     --------     ----------     --------------------------------\n",
      "[1, 2, 3, 4]     [5, 6, 7, 8]     [[1],        [[1, 5],       [[1, 2, 3, 4, 0, 0, 5, 6, 7, 8]]\n",
      "                                   [2],         [2, 6],                                       \n",
      "                                   [3],         [3, 7],                                       \n",
      "                                   [4]]         [4, 8]]                                       \n"
     ]
    }
   ],
   "source": [
    "npc = np.c_[ np.array([a]), 0, 0, np.array([b]) ] #四个数组都是二维行向量\n",
    "%C 5 a;b; np.c_[a]; np.c_[a,b]; npc"
   ]
  },
  {
   "cell_type": "markdown",
   "metadata": {},
   "source": [
    "np.c_[] 对象也可以按列连接数组"
   ]
  },
  {
   "cell_type": "code",
   "execution_count": 519,
   "metadata": {},
   "outputs": [
    {
     "name": "stdout",
     "output_type": "stream",
     "text": [
      "     a                a14            a41           b                b14            b41 \n",
      "------------     --------------     -----     ------------     --------------     -----\n",
      "[1, 2, 3, 4]     [[1, 2, 3, 4]]     [[1],     [5, 6, 7, 8]     [[5, 6, 7, 8]]     [[5],\n",
      "                                     [2],                                          [6],\n",
      "                                     [3],                                          [7],\n",
      "                                     [4]]                                          [8]]\n"
     ]
    }
   ],
   "source": [
    "a = np.arange(1,5); b = np.arange(5,9)\n",
    "%C 5 a; a14; a41; b; b14; b41"
   ]
  },
  {
   "cell_type": "markdown",
   "metadata": {},
   "source": [
    "使用`r_[]对象`进行筷式平移"
   ]
  },
  {
   "cell_type": "code",
   "execution_count": 529,
   "metadata": {},
   "outputs": [
    {
     "name": "stdout",
     "output_type": "stream",
     "text": [
      "       np.r_[a,b]               np.r_['1', a14, b14]        np.r_[a41,b41]\n",
      "------------------------     --------------------------     --------------\n",
      "[1, 2, 3, 4, 5, 6, 7, 8]     [[1, 2, 3, 4, 5, 6, 7, 8]]     [[1],         \n",
      "                                                             [2],         \n",
      "                                                             [3],         \n",
      "                                                             [4],         \n",
      "                                                             [5],         \n",
      "                                                             [6],         \n",
      "                                                             [7],         \n",
      "                                                             [8]]         \n",
      "\n",
      "np.r_['0',a14,b14]     np.r_['1',a41,b41]     np.r_['0,2,-1',a,b]     np.r_['1,2,0',a,b]\n",
      "------------------     ------------------     -------------------     ------------------\n",
      "[[1, 2, 3, 4],         [[1, 5],               [[1, 2, 3, 4],          [[1, 5],          \n",
      " [5, 6, 7, 8]]          [2, 6],                [5, 6, 7, 8]]           [2, 6],          \n",
      "                        [3, 7],                                        [3, 7],          \n",
      "                        [4, 8]]                                        [4, 8]]          \n"
     ]
    }
   ],
   "source": [
    "%C 5 np.r_[a,b]; np.r_['1', a14, b14]; np.r_[a41,b41];;\\\n",
    "np.r_['0',a14,b14]; np.r_['1',a41,b41]; np.r_['0,2,-1',a,b]; np.r_['1,2,0',a,b]"
   ]
  },
  {
   "cell_type": "code",
   "execution_count": 530,
   "metadata": {},
   "outputs": [
    {
     "name": "stdout",
     "output_type": "stream",
     "text": [
      ">>>>>>>>>>>>>>>>>>>>>>>>>>>>>>>>>>>>>>>>>>>>!kk1:active>>>>>>>>>>>>>>>>>>>>>>>>>>>>>>>>>>>>>>>>>>>>>\n"
     ]
    }
   ],
   "source": [
    "kk 1"
   ]
  },
  {
   "cell_type": "markdown",
   "metadata": {},
   "source": [
    "#### 数组分割和调序"
   ]
  },
  {
   "cell_type": "markdown",
   "metadata": {},
   "source": [
    "split(), array_split(),用法基本相同, 将一个数组沿着指定轴分成多个数组, 可以指定切分轴上的切分点下标"
   ]
  },
  {
   "cell_type": "code",
   "execution_count": null,
   "metadata": {},
   "outputs": [],
   "source": [
    "np.random.seed(42)\n",
    "a = np.random.randint(0, 10, 12)\n",
    "a"
   ]
  },
  {
   "cell_type": "markdown",
   "metadata": {},
   "source": [
    "把随机数 a 切分为多个数组, 保证每个数组的元素都是升序排列的, 首先计算切分点坐标"
   ]
  },
  {
   "cell_type": "code",
   "execution_count": null,
   "metadata": {},
   "outputs": [],
   "source": [
    "idx = np.nonzero(np.diff(a) < 0)[0] + 1\n",
    "# nonzero 只返回元素不为0的地址\n",
    "# diff和nonzero获得的是每个升序片段的最后一个元素的下标, \n",
    "# 切分点为每个片段第一个 元素的下标\n",
    "\n",
    "%C idx; np.split(a, idx)"
   ]
  },
  {
   "cell_type": "markdown",
   "metadata": {},
   "source": [
    "第二个参数是整数时, 表示分组的个数,split()只能平均分组, array_split()尽可能的平均分组"
   ]
  },
  {
   "cell_type": "code",
   "execution_count": null,
   "metadata": {},
   "outputs": [],
   "source": [
    "%C  np.split(a, 6); np.array_split(a, 5)"
   ]
  },
  {
   "cell_type": "markdown",
   "metadata": {},
   "source": [
    "transpote, 和 swapaxes 用于修改周到顺序, 得到原数组的视图"
   ]
  },
  {
   "cell_type": "code",
   "execution_count": null,
   "metadata": {},
   "outputs": [],
   "source": [
    "a = np.random.randint(0, 10, (2, 3, 4, 5))\n",
    "print u\"原数组形状:\", a.shape\n",
    "print u\"transpose:\", np.transpose(a, axes = (1, 2, 0, 3)).shape\n",
    "#  默认将整个轴进行翻转\n",
    "# 参数 axes 代表原始轴的新顺序 \n",
    "print u\"swapaxes:\", np.swapaxes(a, 1, 2).shape"
   ]
  },
  {
   "cell_type": "markdown",
   "metadata": {},
   "source": [
    "#### 示例"
   ]
  },
  {
   "cell_type": "markdown",
   "metadata": {},
   "source": [
    "将多个缩略图拼接成一个大图, 理解多维数组中变换轴顺序的应用"
   ]
  },
  {
   "cell_type": "code",
   "execution_count": null,
   "metadata": {},
   "outputs": [],
   "source": [
    "import glob\n",
    "import numpy as np\n",
    "from cv2 import imread, imwrite\n",
    "\n",
    "imgs = []\n",
    "for fn in glob.glob(\"thumbnails/*.png\"):\n",
    "    imgs.append(imread(fn, -1))\n",
    "    \n",
    "print imgs[0].shape"
   ]
  },
  {
   "cell_type": "code",
   "execution_count": null,
   "metadata": {},
   "outputs": [],
   "source": [
    "img = np.concatenate(imgs, 0)\n",
    "img.shape"
   ]
  },
  {
   "cell_type": "code",
   "execution_count": null,
   "metadata": {},
   "outputs": [],
   "source": [
    "img1 = img.reshape(6, 5, 90, 160, 3)\n",
    "img1[0, 1].shape"
   ]
  },
  {
   "cell_type": "code",
   "execution_count": null,
   "metadata": {},
   "outputs": [],
   "source": [
    "img2 = img1.swapaxes(1, 2).reshape(540, 800, 3)"
   ]
  },
  {
   "cell_type": "code",
   "execution_count": null,
   "metadata": {},
   "outputs": [],
   "source": [
    "img = np.concatenate(imgs, 0)"
   ]
  },
  {
   "cell_type": "code",
   "execution_count": null,
   "metadata": {},
   "outputs": [],
   "source": [
    "img3 = img.reshape(5, 6, 90, 160, 3) \\\n",
    "          .transpose(1, 2, 0, 3, 4)  \\\n",
    "          .reshape(540, 800, 3)"
   ]
  },
  {
   "cell_type": "code",
   "execution_count": null,
   "metadata": {},
   "outputs": [],
   "source": [
    "img = np.concatenate(imgs, 0)\n",
    "img1 = img.reshape(6, 5, 90, 160, 3)\n",
    "mask = np.ones(img1.shape[:-1], dtype=bool) \n",
    "mask[:, :, 2:-2, 2:-2] = False              \n",
    "img1[mask] = 230                            \n",
    "img4 = img1.swapaxes(1, 2).reshape(540, 800, 3)"
   ]
  },
  {
   "cell_type": "code",
   "execution_count": null,
   "metadata": {},
   "outputs": [],
   "source": [
    "# 使用操作多维数组的函数拼接多幅缩略图\n",
    "import pylab as pl\n",
    "\n",
    "fig, (ax1, ax2) = pl.subplots(1, 2, figsize=(15, 6))\n",
    "ax1.imshow(img2[:, :, ::-1])\n",
    "ax2.imshow(img4[:, :, ::-1])\n",
    "ax1.axis(\"off\")\n",
    "ax2.axis(\"off\")\n",
    "fig.subplots_adjust(0, 0, 1, 1, 0.02, 0)\n",
    "pl.show(fig)"
   ]
  },
  {
   "cell_type": "markdown",
   "metadata": {},
   "source": [
    "### 多项式函数"
   ]
  },
  {
   "cell_type": "markdown",
   "metadata": {},
   "source": [
    "polyld 一元多项式对象"
   ]
  },
  {
   "cell_type": "code",
   "execution_count": null,
   "metadata": {},
   "outputs": [],
   "source": [
    "a = np.array([1.0, 0, -2, 1])\n",
    "p = np.poly1d(a)\n",
    "print type(p)"
   ]
  },
  {
   "cell_type": "markdown",
   "metadata": {},
   "source": [
    "像函数一样调用一元多项式对象"
   ]
  },
  {
   "cell_type": "code",
   "execution_count": null,
   "metadata": {},
   "outputs": [],
   "source": [
    "p(np.linspace(0, 1, 5))     "
   ]
  },
  {
   "cell_type": "markdown",
   "metadata": {},
   "source": [
    "多项式函数的加减乘除和polyld对象的加减乘除一一对应"
   ]
  },
  {
   "cell_type": "code",
   "execution_count": null,
   "metadata": {},
   "outputs": [],
   "source": [
    "p + [-2, 1] # 和 p + np.poly1d([-2, 1]) 相同"
   ]
  },
  {
   "cell_type": "code",
   "execution_count": null,
   "metadata": {},
   "outputs": [],
   "source": [
    "p * p # 两个3次多项式相乘得到一个6次多项式"
   ]
  },
  {
   "cell_type": "code",
   "execution_count": null,
   "metadata": {},
   "outputs": [],
   "source": [
    "p / [1, 1] # 除法返回两个多项式，分别为商式和余式"
   ]
  },
  {
   "cell_type": "code",
   "execution_count": null,
   "metadata": {},
   "outputs": [],
   "source": [
    "p == np.poly1d([ 1., -1., -1.]) * [1,1] + 2 # 商式和被除数相乘再加上余数等于原式"
   ]
  },
  {
   "cell_type": "markdown",
   "metadata": {},
   "source": [
    "多项式的 deriv(), 和 integ() 方法可以计算多项式函数的微分和积分"
   ]
  },
  {
   "cell_type": "code",
   "execution_count": null,
   "metadata": {},
   "outputs": [],
   "source": [
    "p.deriv()"
   ]
  },
  {
   "cell_type": "code",
   "execution_count": null,
   "metadata": {},
   "outputs": [],
   "source": [
    "p.integ()"
   ]
  },
  {
   "cell_type": "code",
   "execution_count": null,
   "metadata": {},
   "outputs": [],
   "source": [
    "p.integ().deriv() == p"
   ]
  },
  {
   "cell_type": "markdown",
   "metadata": {},
   "source": [
    "roots()函数计算多项式函数的根"
   ]
  },
  {
   "cell_type": "code",
   "execution_count": null,
   "metadata": {},
   "outputs": [],
   "source": [
    "r = np.roots(p)\n",
    "r"
   ]
  },
  {
   "cell_type": "code",
   "execution_count": null,
   "metadata": {},
   "outputs": [],
   "source": [
    "p(r) # 将根带入多项式计算，得到的值近似为0"
   ]
  },
  {
   "cell_type": "markdown",
   "metadata": {},
   "source": [
    "poly 函数可以将根转换回多项式的系数"
   ]
  },
  {
   "cell_type": "code",
   "execution_count": null,
   "metadata": {},
   "outputs": [],
   "source": [
    "np.poly(r)"
   ]
  },
  {
   "cell_type": "markdown",
   "metadata": {},
   "source": [
    "numpy 也提供了操作多项式数组的函数.\n",
    "\n",
    "np.poly()函数可以对一维数据使用多项式函数进行拟合, 找到这组数据的误差平方和最小的多项式系数\n",
    "\n",
    "np.polyval()函数计算多项式函数的值"
   ]
  },
  {
   "cell_type": "code",
   "execution_count": null,
   "metadata": {},
   "outputs": [],
   "source": [
    "np.polymul([1,1],[1,1]) \n",
    "# 计算多项式函数的乘积."
   ]
  },
  {
   "cell_type": "code",
   "execution_count": null,
   "metadata": {},
   "outputs": [],
   "source": [
    "np.set_printoptions(suppress=True, precision=4)\n",
    "\n",
    "x = np.linspace(-np.pi / 2, np.pi / 2, 1000)\n",
    "y = np.sin(x)  \n",
    "\n",
    "for deg in [3, 5, 7]:\n",
    "#     多项式函数的最高阶数\n",
    "    a = np.polyfit(x, y, deg)  # a 是拟合后的多项式函数\n",
    "    error = np.abs(np.polyval(a, x) - y)  \n",
    "    \n",
    "    print \"degree {}: {}\".format(deg, a)\n",
    "    print \"max error of order %d:\" % deg, np.max(error)"
   ]
  },
  {
   "cell_type": "code",
   "execution_count": null,
   "metadata": {},
   "outputs": [],
   "source": [
    "#%figonly=各阶 多项式近似正弦函数 的误差\n",
    "pl.figure(figsize=(8, 4))\n",
    "\n",
    "x = np.linspace(-np.pi / 2, np.pi / 2, 500)\n",
    "y = np.sin(x)\n",
    "\n",
    "for deg in [3, 5, 7]:\n",
    "    a = np.polyfit(x, y, deg)\n",
    "    error = np.abs(np.polyval(a, x) - y)\n",
    "    pl.semilogy(x, error, label=u\"{}阶多项式的误差\".format(deg))\n",
    "pl.legend(loc='upper center', bbox_to_anchor=(0.5, 1.08),\n",
    "          ncol=3, fancybox=True)\n",
    "pl.axis('tight');\n",
    "pl.show()"
   ]
  },
  {
   "cell_type": "markdown",
   "metadata": {},
   "source": [
    "### 多项式函数类"
   ]
  },
  {
   "cell_type": "markdown",
   "metadata": {},
   "source": [
    "np.polynomial 模块提供了更丰富的多项式函数类, 例如 Polynomial, Chebyshev, Legendre 等. 系数按照幂次从小到大的顺序排列"
   ]
  },
  {
   "cell_type": "code",
   "execution_count": null,
   "metadata": {},
   "outputs": [],
   "source": [
    "from numpy.polynomial import Polynomial, Chebyshev\n",
    "p = Polynomial([1, -2, 0, 1])\n",
    "print p(2.0)"
   ]
  },
  {
   "cell_type": "markdown",
   "metadata": {},
   "source": [
    "Polynomial 对象提供了众多的方法对多项式进行操作"
   ]
  },
  {
   "cell_type": "code",
   "execution_count": null,
   "metadata": {},
   "outputs": [],
   "source": [
    "p.deriv()\n",
    "#  p的所有阶导函数"
   ]
  },
  {
   "cell_type": "markdown",
   "metadata": {},
   "source": [
    "切比雪夫多项式是一个正交多项式序列, 一个n次多项式可以表示为多个切比雪夫多项式的加权和"
   ]
  },
  {
   "cell_type": "code",
   "execution_count": null,
   "metadata": {},
   "outputs": [],
   "source": [
    "Chebyshev.basis(4)\n",
    "#  T4(x) = 1-8x^2+8x^4"
   ]
  },
  {
   "cell_type": "code",
   "execution_count": null,
   "metadata": {},
   "outputs": [],
   "source": [
    "Chebyshev.basis(4).convert(kind=Polynomial)\n",
    "#  T4(x) = 1-8x^2+8x^4"
   ]
  },
  {
   "cell_type": "code",
   "execution_count": null,
   "metadata": {},
   "outputs": [],
   "source": [
    "#%figonly=0到4次切比雪夫多项式\n",
    "x = np.linspace(-1, 1, 100)\n",
    "for i in range(5):\n",
    "    ax = pl.plot(x, Chebyshev.basis(i)(x), lw=2, label=\"$T_%d$\" % i)\n",
    "pl.ylim(-1.5, 1.5)\n",
    "pl.legend(loc='upper center', bbox_to_anchor=(0.5, 1.08),\n",
    "          ncol=5, fancybox=True);"
   ]
  },
  {
   "cell_type": "markdown",
   "metadata": {},
   "source": [
    "切比雪夫多项式的根称为切比雪夫节点, 可以用于多项式插值, 相应的插值多项式能最大限度的降低龙格现象, 并且提供多项式在连续函数的最佳一致逼近"
   ]
  },
  {
   "cell_type": "code",
   "execution_count": null,
   "metadata": {},
   "outputs": [],
   "source": [
    "def f(x):\n",
    "    return 1.0 / ( 1 + 25 * x**2)\n",
    "\n",
    "n = 11\n",
    "x1 = np.linspace(-1, 1, n) #等距离取点\n",
    "x2 = Chebyshev.basis(n).roots() #按切比雪夫节点集取点\n",
    "xd = np.linspace(-1, 1, 200) # 所有函数的自变量范围\n",
    "\n",
    "# 用两周取样点分别对f(x)进行多项式插值\n",
    "#  n 个系数最高幂次是（n-1）\n",
    "p1 = Chebyshev.fit(x1, f(x1), n - 1, domain=[-1, 1]) \n",
    "p2 = Chebyshev.fit(x2, f(x2), n - 1, domain=[-1, 1])\n",
    "\n",
    "print u\"插值多项式的最大误差：\",\n",
    "print u\"等距离取样点：\", abs(p1(xd) - f(xd)).max(),\n",
    "print u\"切比雪夫节点：\", abs(p2(xd) - f(xd)).max()"
   ]
  },
  {
   "cell_type": "code",
   "execution_count": null,
   "metadata": {},
   "outputs": [],
   "source": [
    "#%figonly=等距离插值点（左）、切比雪夫插值点（右）\n",
    "fig, (ax1, ax2) = pl.subplots(1, 2, figsize=(12, 4))\n",
    "\n",
    "# 等距离取点得到的多项式函数\n",
    "ax1.plot(xd, f(xd), \"--\", label=u\"$f(x)$\")\n",
    "ax1.plot(x1, f(x1), \"o\", label=u\"插值点\")\n",
    "ax1.plot(xd, p1(xd), label=u\"插值多项式\")\n",
    "\n",
    "ax1.legend(loc=\"upper center\")\n",
    "\n",
    "# 切夫雪比节点取点得到的多项式和函数\n",
    "ax2.plot(xd, f(xd), \"--\")\n",
    "ax2.plot(x2, f(x2), \"o\")\n",
    "ax2.plot(xd, p2(xd));"
   ]
  },
  {
   "cell_type": "markdown",
   "metadata": {},
   "source": [
    "使用切比雪夫多项式进行插值的误差比一般多项式要小的多"
   ]
  },
  {
   "cell_type": "code",
   "execution_count": null,
   "metadata": {},
   "outputs": [],
   "source": [
    "def g(x):\n",
    "    x = (x - 1) * 5\n",
    "    return np.sin(x**2) + np.sin(x)**2\n",
    "\n",
    "n = 100\n",
    "x = Chebyshev.basis(n).roots()\n",
    "xd = np.linspace(-1, 1, 1000)\n",
    "\n",
    "p_g = Polynomial.fit(x, g(x), n - 1, domain=[-1, 1])\n",
    "c_g = Chebyshev.fit(x, g(x), n - 1, domain=[-1, 1])\n",
    "\n",
    "print \"Max Polynomial Error:\", abs(g(xd) - p_g(xd)).max()\n",
    "print \"Max Chebyshev Error:\", abs(g(xd) - c_g(xd)).max()"
   ]
  },
  {
   "cell_type": "code",
   "execution_count": null,
   "metadata": {},
   "outputs": [],
   "source": [
    "#%figonly=Chebyshev插值与Polynomial插值比较\n",
    "pl.figure(figsize=(9, 4))\n",
    "\n",
    "pl.plot(xd, g(xd), \"k--\", label=\"$g(x)$\")\n",
    "pl.plot(xd, c_g(xd), \"b-\", alpha=0.6, label=u\"Chebyshev fit\")\n",
    "pl.plot(xd, p_g(xd), \"r-\", alpha=0.6, label=u\"Polynomial fit\")\n",
    "\n",
    "pl.legend(loc=\"best\");"
   ]
  },
  {
   "cell_type": "markdown",
   "metadata": {},
   "source": [
    "trim() 可以根据精度要求自动将高次系数截断, tol 参数是尾部精度控制的关键字参数"
   ]
  },
  {
   "cell_type": "code",
   "execution_count": null,
   "metadata": {},
   "outputs": [],
   "source": [
    "c_trimed = c_g.trim(tol=0.05)\n",
    "print \"degree:\", c_trimed.degree()\n",
    "print \"error:\", abs(g(xd) - c_trimed(xd)).max()"
   ]
  },
  {
   "cell_type": "code",
   "execution_count": null,
   "metadata": {},
   "outputs": [],
   "source": [
    "# 函数h(x)的19阶切比雪夫多项式插值\n",
    "def h(x):\n",
    "    x = 5 * x\n",
    "    return np.exp(-x**2 / 10)\n",
    "\n",
    "n = 20\n",
    "x = Chebyshev.basis(n).roots()\n",
    "c_h = Chebyshev.fit(x, h(x), n - 1, domain=[-1, 1])\n",
    "\n",
    "print \"Max Chebyshev Error:\", abs(h(xd) - c_h(xd)).max()"
   ]
  },
  {
   "cell_type": "markdown",
   "metadata": {},
   "source": [
    "多项式类支持四则运算"
   ]
  },
  {
   "cell_type": "code",
   "execution_count": null,
   "metadata": {},
   "outputs": [],
   "source": [
    "c_diff = c_g - c_h\n",
    "roots = c_diff.roots()\n",
    "real_roots = roots[roots.imag == 0].real\n",
    "print np.allclose(c_diff(real_roots), 0)"
   ]
  },
  {
   "cell_type": "markdown",
   "metadata": {},
   "source": [
    "***\n",
    "roots[roots.imag == 0].real, 取出复数数组中所有的实数元素\n",
    "***"
   ]
  },
  {
   "cell_type": "code",
   "execution_count": null,
   "metadata": {},
   "outputs": [],
   "source": [
    "%C roots.shape; roots.imag.shape; roots.real.shape"
   ]
  },
  {
   "cell_type": "code",
   "execution_count": null,
   "metadata": {},
   "outputs": [],
   "source": [
    "roots[:10]"
   ]
  },
  {
   "cell_type": "code",
   "execution_count": null,
   "metadata": {},
   "outputs": [],
   "source": [
    "(roots.imag == 0)[:10]"
   ]
  },
  {
   "cell_type": "code",
   "execution_count": null,
   "metadata": {},
   "outputs": [],
   "source": [
    "roots[(roots.imag == 0)[:10]]"
   ]
  },
  {
   "cell_type": "code",
   "execution_count": null,
   "metadata": {},
   "outputs": [],
   "source": [
    "roots[(roots.imag == 0)[:10]].real"
   ]
  },
  {
   "cell_type": "markdown",
   "metadata": {},
   "source": [
    "******"
   ]
  },
  {
   "cell_type": "code",
   "execution_count": null,
   "metadata": {},
   "outputs": [],
   "source": [
    "#%figonly=使用Chebyshev插值计算两条曲线在[-1, 1]之间的所有交点\n",
    "pl.figure(figsize=(9, 4))\n",
    "pl.plot(xd, g(xd))\n",
    "pl.plot(xd, h(xd))\n",
    "pl.plot(real_roots, h(real_roots), \"kx\", markeredgewidth=1)\n",
    "pl.xlim(-1, 1);"
   ]
  },
  {
   "cell_type": "markdown",
   "metadata": {},
   "source": [
    "切比雪夫多项式在区间[-1,1]上为正交多项式,只有在该区间上才能对目标函数进行插值, 为了对任何区域的目标函数进行插值, 需要对自变量的区间进行平移和缩放. domain参数指定拟合点的区间, 在通过basis()方法创建Tn(x)和调用fit方法进行拟合时,都要设置同样的domain参数"
   ]
  },
  {
   "cell_type": "code",
   "execution_count": null,
   "metadata": {},
   "outputs": [],
   "source": [
    "def g2(x):\n",
    "    return np.sin(x**2) + np.sin(x)**2\n",
    "\n",
    "n = 100\n",
    "x = Chebyshev.basis(n, domain=[-10, 0]).roots() \n",
    "xd = np.linspace(-10, 0, 1000)\n",
    "\n",
    "c_g2 = Chebyshev.fit(x, g2(x), n - 1, domain=[-10, 0]) \n",
    "\n",
    "print \"Max Chebyshev Error:\", abs(g2(xd) - c_g2(xd)).max() "
   ]
  },
  {
   "cell_type": "markdown",
   "metadata": {},
   "source": [
    "### 各种乘积运算"
   ]
  },
  {
   "cell_type": "markdown",
   "metadata": {},
   "source": [
    "None作一维数组的下标, 可以将一维数组变为二维数组"
   ]
  },
  {
   "cell_type": "code",
   "execution_count": null,
   "metadata": {},
   "outputs": [],
   "source": [
    "a = np.array([1, 2, 3])\n",
    "%C a[:, None]; a[None, :]"
   ]
  },
  {
   "cell_type": "markdown",
   "metadata": {},
   "source": [
    "点积 dot() 计算矩阵乘积\n",
    "\n",
    "**dot(a, b)[i, j, k, m]=sum(a[i, j, :] * b[ k, :, m])**"
   ]
  },
  {
   "cell_type": "code",
   "execution_count": null,
   "metadata": {},
   "outputs": [],
   "source": [
    "x = np.arange(9).reshape(3,3)\n",
    "y = np.full((3,3),1)\n",
    "z = np.dot(x,y)\n",
    "\n",
    "%C x; y; z"
   ]
  },
  {
   "cell_type": "markdown",
   "metadata": {},
   "source": [
    ">三维数组相乘,用第一个数组的2轴和1轴,第二个数组的2轴和0轴定位,其余轴对应求和得\n",
    "元素值"
   ]
  },
  {
   "cell_type": "code",
   "execution_count": null,
   "metadata": {},
   "outputs": [],
   "source": [
    "a = np.arange(12).reshape(2, 3, 2)\n",
    "b = np.arange(12, 24).reshape(2, 2, 3)\n",
    "c = np.dot(a, b)\n",
    "%C a; b; c; c.shape"
   ]
  },
  {
   "cell_type": "markdown",
   "metadata": {},
   "source": [
    "内积 inner() 计算两个数组对应下标元素的乘积和\n",
    "\n",
    "**inner(a, b)[i, j, k, m] = sum(a[i, j, :) * b[k, m, :]**"
   ]
  },
  {
   "cell_type": "code",
   "execution_count": null,
   "metadata": {},
   "outputs": [],
   "source": [
    "a = np.arange(12).reshape(2, 3, 2)\n",
    "b = np.arange(12, 24).reshape(2, 3, 2)\n",
    "c = np.inner(a, b)\n",
    "%C a; b; c; c.shape"
   ]
  },
  {
   "cell_type": "markdown",
   "metadata": {},
   "source": [
    "外积只对一位数组进行运算,如果传入的是多维数组,则先将次数组平坦化为一维数组.它计算列向量和行向量的矩阵乘积"
   ]
  },
  {
   "cell_type": "code",
   "execution_count": null,
   "metadata": {},
   "outputs": [],
   "source": [
    "a = np.array([1, 2, 3])\n",
    "b = np.array([4, 5, 6, 7])\n",
    "%C np.outer(a, b); np.dot(a[:, None], b[None, :])"
   ]
  },
  {
   "cell_type": "markdown",
   "metadata": {},
   "source": [
    "张量积 tensordot() 将数组 a,b 指定轴上的对应元素相乘并求和"
   ]
  },
  {
   "cell_type": "code",
   "execution_count": null,
   "metadata": {},
   "outputs": [],
   "source": [
    "np.random.seed(0)\n",
    "a = np.random.randint(0,5,size=(3, 4))\n",
    "b = np.random.randint(0,5,size=(4, 5))\n",
    "\n",
    "c1 = np.tensordot(a, b, axes=[[1], [0]]) \n",
    "c2 = np.tensordot(a, b, axes=1) # a 的后一个轴与 b 的前一个轴          \n",
    "c3 = np.dot(a, b)\n",
    "c4 = np.tensordot(a, b, axes=[[-1], [-2]]) # a的最后轴,b的倒数第二轴"
   ]
  },
  {
   "cell_type": "code",
   "execution_count": null,
   "metadata": {},
   "outputs": [],
   "source": [
    "%C a; b"
   ]
  },
  {
   "cell_type": "code",
   "execution_count": null,
   "metadata": {},
   "outputs": [],
   "source": [
    "%C c1; c2"
   ]
  },
  {
   "cell_type": "code",
   "execution_count": null,
   "metadata": {},
   "outputs": [],
   "source": [
    "%C c3; c4"
   ]
  },
  {
   "cell_type": "markdown",
   "metadata": {},
   "source": [
    "### 广义ufunc函数"
   ]
  },
  {
   "cell_type": "markdown",
   "metadata": {},
   "source": [
    "> NumPy中的线性代数模块`linalg`中提供的函数大都为广义ufunc函数。在SciPy中也提供了线性代数模块`linalg`，但其中的函数都是一般函数，只能对单个矩阵进行计算"
   ]
  },
  {
   "cell_type": "markdown",
   "metadata": {},
   "source": [
    "将单个矩阵的运算运用到整个数组之上的函数叫做 gufunc"
   ]
  },
  {
   "cell_type": "code",
   "execution_count": null,
   "metadata": {},
   "outputs": [],
   "source": [
    "a = np.random.rand(10, 20, 3, 3) #产生10x20个3x3矩阵\n",
    "a_inv = np.linalg.inv(a) # np.linalg.inv()是gufunc 对200个3x3矩阵求逆\n",
    "a_inv.shape # 返回数组的形状和原始数组的形状相同"
   ]
  },
  {
   "cell_type": "code",
   "execution_count": null,
   "metadata": {},
   "outputs": [],
   "source": [
    "i, j = 3, 4 # 第四个三维数组, 第五个二维数组\n",
    "np.allclose(np.dot(a[i, j], a_inv[i, j]), np.eye(3))"
   ]
  },
  {
   "cell_type": "markdown",
   "metadata": {},
   "source": [
    "np.linalg.inv(a) gufunc 求逆\n",
    "np.linalg.det(a) gufunc 求行列式"
   ]
  },
  {
   "cell_type": "code",
   "execution_count": null,
   "metadata": {},
   "outputs": [],
   "source": [
    "a_det = np.linalg.det(a) # 所有MM方阵替换成了它的det值\n",
    "a_det.shape"
   ]
  },
  {
   "cell_type": "markdown",
   "metadata": {},
   "source": [
    "对 10000*10 的数据集进行二次函数拟合"
   ]
  },
  {
   "cell_type": "code",
   "execution_count": null,
   "metadata": {},
   "outputs": [],
   "source": [
    "n = 10000\n",
    "np.random.seed(0)\n",
    "beta = np.random.rand(n, 3) \n",
    "x = np.random.rand(n, 10)\n",
    "y = beta[:,2, None] + x*beta[:, 1, None] + x**2*beta[:, 0, None]\n",
    "y.shape\n",
    "# 虽然下标元组有三个元素,但是得到的是二维数组,保持了beta的维数"
   ]
  },
  {
   "cell_type": "code",
   "execution_count": null,
   "metadata": {},
   "outputs": [],
   "source": [
    "# 输出第 42 组的实际系数以及拟合的结果\n",
    "print beta[42]\n",
    "print np.polyfit(x[42], y[42], 2) # 用一行中的十个特征拟合三个系数"
   ]
  },
  {
   "cell_type": "code",
   "execution_count": null,
   "metadata": {},
   "outputs": [],
   "source": [
    "np.allclose(beta, beta2) # 自己拟合的系数与原始系数近似相同"
   ]
  },
  {
   "cell_type": "code",
   "execution_count": null,
   "metadata": {},
   "outputs": [],
   "source": [
    "np.vstack??"
   ]
  },
  {
   "cell_type": "code",
   "execution_count": null,
   "metadata": {},
   "outputs": [],
   "source": [
    "# 循环调运n次polyfit可得完整的系数矩阵\n",
    "%time beta_for = np.vstack([np.polyfit(x[i], y[i], 2) for i in range(n)])\n",
    "# vstack 按行堆叠数组 因为每次polyfit返回一个长度为3的一维数组"
   ]
  },
  {
   "cell_type": "markdown",
   "metadata": {},
   "source": [
    "numpy.polyfit()实际上是通过最小二乘法函数numpy.linalg.lstq()来实现多项式拟合的"
   ]
  },
  {
   "cell_type": "code",
   "execution_count": null,
   "metadata": {},
   "outputs": [],
   "source": [
    "xx = np.column_stack(([x[42]**2, x[42], np.ones_like(x[42])])) \n",
    "#x[42]=x[42,:]\n",
    "#  将三行元素排组合成三列\n",
    "\n",
    "print np.linalg.lstsq(xx, y[42])[0]\n",
    "#  分别对应二次函数的系数a,b,c"
   ]
  },
  {
   "cell_type": "code",
   "execution_count": null,
   "metadata": {},
   "outputs": [],
   "source": [
    "%%time\n",
    "X = np.dstack([x**2, x, np.ones_like(x)])\n",
    "Xt = X.swapaxes(-1, -2)\n",
    "\n",
    "import numpy.core.umath_tests as umath\n",
    "A = umath.matrix_multiply(Xt, X)\n",
    "b = umath.matrix_multiply(Xt, y[..., None]).squeeze()\n",
    "\n",
    "beta3 = np.linalg.solve(A, b)\n",
    "\n",
    "print np.allclose(beta3, beta2)"
   ]
  },
  {
   "cell_type": "code",
   "execution_count": null,
   "metadata": {},
   "outputs": [],
   "source": []
  },
  {
   "cell_type": "code",
   "execution_count": null,
   "metadata": {},
   "outputs": [],
   "source": [
    "M = np.array([[[np.cos(t), -np.sin(t)], \n",
    "               [np.sin(t), np.cos(t)]]\n",
    "             for t in np.linspace(0, np.pi, 4, endpoint=False)])\n",
    "\n",
    "x = np.linspace(-1, 1, 100)\n",
    "points = np.array((np.c_[x, x], np.c_[x, x**3], np.c_[x**3, x]))\n",
    "\n",
    "rpoints = umath.matrix_multiply(points, M[:, None, ...])\n",
    "\n",
    "print points.shape, M.shape, rpoints.shape"
   ]
  },
  {
   "cell_type": "code",
   "execution_count": null,
   "metadata": {},
   "outputs": [],
   "source": [
    "# 使用矩阵乘积的广播运算将3条曲线分别旋转4个角度\n",
    "import pylab as pl\n",
    "\n",
    "pl.figure(figsize=(6, 6))\n",
    "for t in rpoints.reshape(-1, 100, 2):\n",
    "    pl.plot(t[:,0], t[:,1], \"b+\", lw=2)\n",
    "ax = pl.gca()\n",
    "ax.set_aspect(\"equal\")\n",
    "ax.axis(\"off\");"
   ]
  },
  {
   "cell_type": "code",
   "execution_count": null,
   "metadata": {},
   "outputs": [],
   "source": []
  },
  {
   "cell_type": "code",
   "execution_count": null,
   "metadata": {},
   "outputs": [],
   "source": []
  }
 ],
 "metadata": {
  "kernelspec": {
   "display_name": "Python 3",
   "language": "python",
   "name": "python3"
  },
  "language_info": {
   "codemirror_mode": {
    "name": "ipython",
    "version": 3
   },
   "file_extension": ".py",
   "mimetype": "text/x-python",
   "name": "python",
   "nbconvert_exporter": "python",
   "pygments_lexer": "ipython3",
   "version": "3.6.5"
  },
  "toc": {
   "base_numbering": "2.4",
   "nav_menu": {},
   "number_sections": true,
   "sideBar": true,
   "skip_h1_title": false,
   "title_cell": "Table of Contents",
   "title_sidebar": "Contents",
   "toc_cell": false,
   "toc_position": {
    "height": "357px",
    "left": "22px",
    "top": "40.3969px",
    "width": "165px"
   },
   "toc_section_display": true,
   "toc_window_display": false
  }
 },
 "nbformat": 4,
 "nbformat_minor": 1
}

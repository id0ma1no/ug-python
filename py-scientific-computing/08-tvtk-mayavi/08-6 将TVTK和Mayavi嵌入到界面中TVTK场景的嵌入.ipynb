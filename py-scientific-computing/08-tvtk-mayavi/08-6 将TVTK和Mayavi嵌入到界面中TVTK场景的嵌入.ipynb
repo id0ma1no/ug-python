{
 "cells": [
  {
   "cell_type": "code",
   "execution_count": 1,
   "metadata": {
    "group_control": {
     "group": 0
    }
   },
   "outputs": [
    {
     "ename": "ModuleNotFoundError",
     "evalue": "No module named 'tvtk.tvtkhelp'",
     "output_type": "error",
     "traceback": [
      "\u001b[1;31m---------------------------------------------------------------------------\u001b[0m",
      "\u001b[1;31mModuleNotFoundError\u001b[0m                       Traceback (most recent call last)",
      "\u001b[1;32m<ipython-input-1-cc12953c8ec4>\u001b[0m in \u001b[0;36m<module>\u001b[1;34m()\u001b[0m\n\u001b[0;32m      1\u001b[0m \u001b[0mget_ipython\u001b[0m\u001b[1;33m(\u001b[0m\u001b[1;33m)\u001b[0m\u001b[1;33m.\u001b[0m\u001b[0mrun_line_magic\u001b[0m\u001b[1;33m(\u001b[0m\u001b[1;34m'gui'\u001b[0m\u001b[1;33m,\u001b[0m \u001b[1;34m'qt'\u001b[0m\u001b[1;33m)\u001b[0m\u001b[1;33m\u001b[0m\u001b[0m\n\u001b[1;32m----> 2\u001b[1;33m \u001b[1;32mfrom\u001b[0m \u001b[0mscpy2\u001b[0m\u001b[1;33m.\u001b[0m\u001b[0mtvtk\u001b[0m \u001b[1;32mimport\u001b[0m \u001b[0mfix_mayavi_bugs\u001b[0m\u001b[1;33m,\u001b[0m \u001b[0mpatch_pipeline_browser\u001b[0m\u001b[1;33m\u001b[0m\u001b[0m\n\u001b[0m\u001b[0;32m      3\u001b[0m \u001b[0mfix_mayavi_bugs\u001b[0m\u001b[1;33m(\u001b[0m\u001b[1;33m)\u001b[0m\u001b[1;33m\u001b[0m\u001b[0m\n\u001b[0;32m      4\u001b[0m \u001b[0mpatch_pipeline_browser\u001b[0m\u001b[1;33m(\u001b[0m\u001b[1;33m)\u001b[0m\u001b[1;33m\u001b[0m\u001b[0m\n",
      "\u001b[1;32m~\\Anaconda3\\lib\\site-packages\\scpy2\\__init__.py\u001b[0m in \u001b[0;36m<module>\u001b[1;34m()\u001b[0m\n\u001b[1;32m----> 1\u001b[1;33m \u001b[1;32mfrom\u001b[0m \u001b[0mtvtk\u001b[0m\u001b[1;33m.\u001b[0m\u001b[0mtvtkhelp\u001b[0m \u001b[1;32mimport\u001b[0m \u001b[0mvtk_convexhull\u001b[0m\u001b[1;33m,\u001b[0m \u001b[0mvtk_scene\u001b[0m\u001b[1;33m,\u001b[0m \u001b[0mivtk_scene\u001b[0m\u001b[1;33m,\u001b[0m \u001b[0mvtk_scene_to_array\u001b[0m\u001b[1;33m\u001b[0m\u001b[0m\n\u001b[0m\u001b[0;32m      2\u001b[0m \u001b[1;32mfrom\u001b[0m \u001b[0mcommon\u001b[0m \u001b[1;32mimport\u001b[0m \u001b[0mGraphvizDataFrame\u001b[0m\u001b[1;33m,\u001b[0m \u001b[0mGraphvizMatplotlib\u001b[0m\u001b[1;33m,\u001b[0m \u001b[0mGraphvizMPLTransform\u001b[0m\u001b[1;33m\u001b[0m\u001b[0m\n\u001b[0;32m      3\u001b[0m \u001b[1;33m\u001b[0m\u001b[0m\n\u001b[0;32m      4\u001b[0m \u001b[1;33m\u001b[0m\u001b[0m\n\u001b[0;32m      5\u001b[0m \u001b[1;32mdef\u001b[0m \u001b[0minfo\u001b[0m\u001b[1;33m(\u001b[0m\u001b[1;33m)\u001b[0m\u001b[1;33m:\u001b[0m\u001b[1;33m\u001b[0m\u001b[0m\n",
      "\u001b[1;31mModuleNotFoundError\u001b[0m: No module named 'tvtk.tvtkhelp'"
     ]
    }
   ],
   "source": [
    "%gui qt\n",
    "from scpy2.tvtk import fix_mayavi_bugs, patch_pipeline_browser\n",
    "fix_mayavi_bugs()\n",
    "patch_pipeline_browser()"
   ]
  },
  {
   "cell_type": "markdown",
   "metadata": {},
   "source": [
    "## 将TVTK和Mayavi嵌入到界面中"
   ]
  },
  {
   "cell_type": "markdown",
   "metadata": {},
   "source": [
    "### TVTK场景的嵌入"
   ]
  },
  {
   "cell_type": "markdown",
   "metadata": {},
   "source": [
    "> **SOURCE**\n",
    "\n",
    "> `scpy2.tvtk.example_embed_tube`：演示如何将TVTK的场景嵌入进TraitsUI界面，可通过界面中的控件调节圆管的内径和外径。"
   ]
  },
  {
   "cell_type": "code",
   "execution_count": null,
   "metadata": {
    "group_control": {
     "group": 0
    }
   },
   "outputs": [],
   "source": [
    "#%hide\n",
    "%exec_python -m scpy2.tvtk.example_tube"
   ]
  },
  {
   "cell_type": "code",
   "execution_count": null,
   "metadata": {},
   "outputs": [],
   "source": [
    "%%include python tvtk/example_tube.py 1\n",
    "from traits.api import HasTraits, Instance, Range, on_trait_change\n",
    "from traitsui.api import View, Item, VGroup, HGroup, Controller\n",
    "from tvtk.api import tvtk\n",
    "from tvtk.pyface.scene_editor import SceneEditor\n",
    "from tvtk.pyface.scene import Scene\n",
    "from tvtk.pyface.scene_model import SceneModel\n",
    "\n",
    "\n",
    "class TVTKSceneController(Controller):\n",
    "    def position(self, info):\n",
    "        super(TVTKSceneController, self).position(info)\n",
    "        self.model.plot() #❸\n",
    "\n",
    "\n",
    "class TubeDemoApp(HasTraits):\n",
    "    radius1 = Range(0, 1.0, 0.8)\n",
    "    radius2 = Range(0, 1.0, 0.4)\n",
    "    scene = Instance(SceneModel, ()) #❶\n",
    "    view = View(\n",
    "                VGroup(\n",
    "                    Item(name=\"scene\", editor=SceneEditor(scene_class=Scene)), #❷\n",
    "                    HGroup(\"radius1\", \"radius2\"),\n",
    "                    show_labels=False),\n",
    "                resizable=True, height=500, width=500)\n",
    "        \n",
    "    def plot(self):\n",
    "        r1, r2 = min(self.radius1, self.radius2), max(self.radius1, self.radius2)\n",
    "        self.cs1 = cs1 = tvtk.CylinderSource(height=1, radius=r2, resolution=32)\n",
    "        self.cs2 = cs2 = tvtk.CylinderSource(height=1.1, radius=r1, resolution=32)\n",
    "        triangle1 = tvtk.TriangleFilter(input_connection=cs1.output_port)\n",
    "        triangle2 = tvtk.TriangleFilter(input_connection=cs2.output_port)\n",
    "        bf = tvtk.BooleanOperationPolyDataFilter()\n",
    "        bf.operation = \"difference\"\n",
    "        bf.set_input_connection(0, triangle1.output_port)\n",
    "        bf.set_input_connection(1, triangle2.output_port)\n",
    "        m = tvtk.PolyDataMapper(input_connection=bf.output_port, scalar_visibility=False)\n",
    "        a = tvtk.Actor(mapper=m)\n",
    "        a.property.color = 0.5, 0.5, 0.5\n",
    "        self.scene.add_actors([a])\n",
    "        self.scene.background = 1, 1, 1\n",
    "        self.scene.reset_zoom()\n",
    "    \n",
    "    @on_trait_change(\"radius1, radius2\") #❹\n",
    "    def update_radius(self):\n",
    "        self.cs1.radius = max(self.radius1, self.radius2)\n",
    "        self.cs2.radius = min(self.radius1, self.radius2)\n",
    "        self.scene.render_window.render()        \n",
    "\n",
    "\n",
    "if __name__ == \"__main__\":\n",
    "    app = TubeDemoApp()\n",
    "    app.configure_traits(handler=TVTKSceneController(app))"
   ]
  },
  {
   "cell_type": "markdown",
   "metadata": {},
   "source": [
    "### Mayavi场景的嵌入"
   ]
  },
  {
   "cell_type": "markdown",
   "metadata": {},
   "source": [
    "> **SOURCE**\n",
    "\n",
    "> `scpy2.tvtk.example_embed_fieldviewer`：标量场观察器，演示如何将Mayavi的场景嵌入到TraitsUI的界面中"
   ]
  },
  {
   "cell_type": "code",
   "execution_count": null,
   "metadata": {
    "group_control": {
     "group": 0
    }
   },
   "outputs": [],
   "source": [
    "#%hide\n",
    "%exec_python -m scpy2.tvtk.example_embed_fieldviewer"
   ]
  },
  {
   "cell_type": "code",
   "execution_count": null,
   "metadata": {},
   "outputs": [],
   "source": [
    "%%include python tvtk/example_embed_fieldviewer.py 1\n",
    "import numpy as np\n",
    "\n",
    "from traits.api import HasTraits, Float, Int, Bool, Range, Str, Button, Instance\n",
    "from traitsui.api import View, HSplit, Item, VGroup, EnumEditor, RangeEditor\n",
    "from tvtk.pyface.scene_editor import SceneEditor \n",
    "from mayavi.tools.mlab_scene_model import MlabSceneModel\n",
    "from mayavi.core.ui.mayavi_scene import MayaviScene\n",
    "from scpy2.tvtk import fix_mayavi_bugs\n",
    "\n",
    "fix_mayavi_bugs()\n",
    "\n",
    "\n",
    "class FieldViewer(HasTraits):\n",
    "    \n",
    "    # 三个轴的取值范围\n",
    "    x0, x1 = Float(-5), Float(5)\n",
    "    y0, y1 = Float(-5), Float(5)\n",
    "    z0, z1 = Float(-5), Float(5)\n",
    "    points = Int(50) # 分割点数\n",
    "    autocontour = Bool(True) # 是否自动计算等值面\n",
    "    v0, v1 = Float(0.0), Float(1.0) # 等值面的取值范围\n",
    "    contour = Range(\"v0\", \"v1\", 0.5) # 等值面的值\n",
    "    function = Str(\"x*x*0.5 + y*y + z*z*2.0\") # 标量场函数\n",
    "    function_list = [\n",
    "        \"x*x*0.5 + y*y + z*z*2.0\",\n",
    "        \"x*y*0.5 + np.sin(2*x)*y +y*z*2.0\",\n",
    "        \"x*y*z\",\n",
    "        \"np.sin((x*x+y*y)/z)\"\n",
    "    ]\n",
    "    plotbutton = Button(u\"描画\")\n",
    "    scene = Instance(MlabSceneModel, ()) #❶\n",
    "    \n",
    "    view = View(\n",
    "        HSplit(\n",
    "            VGroup(\n",
    "                \"x0\",\"x1\",\"y0\",\"y1\",\"z0\",\"z1\",\n",
    "                Item('points', label=u\"点数\"),\n",
    "                Item('autocontour', label=u\"自动等值\"),\n",
    "                Item('plotbutton', show_label=False),\n",
    "            ),\n",
    "            VGroup(\n",
    "                Item('scene', \n",
    "                    editor=SceneEditor(scene_class=MayaviScene), #❷\n",
    "                    resizable=True,\n",
    "                    height=300,\n",
    "                    width=350\n",
    "                ), \n",
    "                Item('function', \n",
    "                    editor=EnumEditor(name='function_list', evaluate=lambda x:x)),\n",
    "                Item('contour', \n",
    "                    editor=RangeEditor(format=\"%1.2f\",\n",
    "                        low_name=\"v0\", high_name=\"v1\")\n",
    "                ), show_labels=False\n",
    "            )\n",
    "        ),\n",
    "        width = 500, resizable=True, title=u\"三维标量场观察器\"\n",
    "    )\n",
    "      \n",
    "    def _plotbutton_fired(self):\n",
    "        self.plot()\n",
    "\n",
    "    def plot(self):\n",
    "        # 产生三维网格\n",
    "        x, y, z = np.mgrid[ #❸\n",
    "            self.x0:self.x1:1j*self.points, \n",
    "            self.y0:self.y1:1j*self.points, \n",
    "            self.z0:self.z1:1j*self.points]\n",
    "            \n",
    "        # 根据函数计算标量场的值\n",
    "        scalars = eval(self.function)  #❹\n",
    "        self.scene.mlab.clf() # 清空当前场景\n",
    "        \n",
    "        # 绘制等值平面\n",
    "        g = self.scene.mlab.contour3d(x, y, z, scalars, contours=8, transparent=True) #❺\n",
    "        g.contour.auto_contours = self.autocontour\n",
    "        self.scene.mlab.axes(figure=self.scene.mayavi_scene) # 添加坐标轴\n",
    "\n",
    "        # 添加一个X-Y的切面\n",
    "        s = self.scene.mlab.pipeline.scalar_cut_plane(g)\n",
    "        cutpoint = (self.x0+self.x1)/2, (self.y0+self.y1)/2, (self.z0+self.z1)/2\n",
    "        s.implicit_plane.normal = (0,0,1) # x cut\n",
    "        s.implicit_plane.origin = cutpoint\n",
    "        \n",
    "        self.g = g #❻\n",
    "        self.scalars = scalars\n",
    "        # 计算标量场的值的范围\n",
    "        self.v0 = np.min(scalars)\n",
    "        self.v1 = np.max(scalars)\n",
    "        \n",
    "    def _contour_changed(self): #❼\n",
    "        if hasattr(self, \"g\"):\n",
    "            if not self.g.contour.auto_contours:\n",
    "                self.g.contour.contours = [self.contour]\n",
    "                \n",
    "    def _autocontour_changed(self): #❽\n",
    "        if hasattr(self, \"g\"):\n",
    "            self.g.contour.auto_contours = self.autocontour\n",
    "            if not self.autocontour:\n",
    "                self._contour_changed()\n",
    "\n",
    "\n",
    "if __name__ == '__main__':\n",
    "    app = FieldViewer()\n",
    "    app.configure_traits()"
   ]
  }
 ],
 "metadata": {
  "kernelspec": {
   "display_name": "Python 3",
   "language": "python",
   "name": "python3"
  },
  "language_info": {
   "codemirror_mode": {
    "name": "ipython",
    "version": 3
   },
   "file_extension": ".py",
   "mimetype": "text/x-python",
   "name": "python",
   "nbconvert_exporter": "python",
   "pygments_lexer": "ipython3",
   "version": "3.6.5"
  },
  "toc": {
   "base_numbering": 1,
   "nav_menu": {},
   "number_sections": true,
   "sideBar": true,
   "skip_h1_title": false,
   "title_cell": "Table of Contents",
   "title_sidebar": "Contents",
   "toc_cell": false,
   "toc_position": {},
   "toc_section_display": true,
   "toc_window_display": true
  },
  "varInspector": {
   "cols": {
    "lenName": 16,
    "lenType": 16,
    "lenVar": 40
   },
   "kernels_config": {
    "python": {
     "delete_cmd_postfix": "",
     "delete_cmd_prefix": "del ",
     "library": "var_list.py",
     "varRefreshCmd": "print(var_dic_list())"
    },
    "r": {
     "delete_cmd_postfix": ") ",
     "delete_cmd_prefix": "rm(",
     "library": "var_list.r",
     "varRefreshCmd": "cat(var_dic_list()) "
    }
   },
   "types_to_exclude": [
    "module",
    "function",
    "builtin_function_or_method",
    "instance",
    "_Feature"
   ],
   "window_display": false
  }
 },
 "nbformat": 4,
 "nbformat_minor": 1
}

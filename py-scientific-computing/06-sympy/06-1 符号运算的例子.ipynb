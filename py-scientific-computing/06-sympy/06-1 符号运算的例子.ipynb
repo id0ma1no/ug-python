{
 "cells": [
  {
   "cell_type": "code",
   "execution_count": 1,
   "metadata": {},
   "outputs": [
    {
     "name": "stdout",
     "output_type": "stream",
     "text": [
      "^^^^^^^^^^^^^^^^^^^^^^^^^^^^^^^^^^^^^^^^^^^^^!kk0: 起始>^^^^^^^^^^^^^^^^^^^^^^^^^^^^^^^^^^^^^^^^^^^^^^\n"
     ]
    }
   ],
   "source": [
    "kk 0"
   ]
  },
  {
   "cell_type": "markdown",
   "metadata": {},
   "source": [
    "# Sympy符号运算"
   ]
  },
  {
   "cell_type": "code",
   "execution_count": 2,
   "metadata": {},
   "outputs": [],
   "source": [
    "from sympy import *\n",
    "init_printing(use_latex=1)"
   ]
  },
  {
   "cell_type": "markdown",
   "metadata": {},
   "source": [
    "## 从例子开始"
   ]
  },
  {
   "cell_type": "markdown",
   "metadata": {},
   "source": [
    "### 封面上的经典公式"
   ]
  },
  {
   "cell_type": "markdown",
   "metadata": {},
   "source": [
    "虚单位: I"
   ]
  },
  {
   "cell_type": "code",
   "execution_count": 3,
   "metadata": {},
   "outputs": [
    {
     "data": {
      "image/png": "[encoded data removed]",
      "text/latex": [
       "$$0$$"
      ],
      "text/plain": [
       "0"
      ]
     },
     "execution_count": 3,
     "metadata": {},
     "output_type": "execute_result"
    }
   ],
   "source": [
    "E**(I*pi) + 1"
   ]
  },
  {
   "cell_type": "markdown",
   "metadata": {},
   "source": [
    "创建符号对象, 展开数学表达式: expend()"
   ]
  },
  {
   "cell_type": "code",
   "execution_count": 4,
   "metadata": {},
   "outputs": [
    {
     "data": {
      "image/png": "[encoded data removed]",
      "text/latex": [
       "$$e^{i x}$$"
      ],
      "text/plain": [
       " ⅈ⋅x\n",
       "ℯ   "
      ]
     },
     "execution_count": 4,
     "metadata": {},
     "output_type": "execute_result"
    }
   ],
   "source": [
    "x = symbols(\"x\") \n",
    "expand( E**(I*x) )"
   ]
  },
  {
   "cell_type": "code",
   "execution_count": 5,
   "metadata": {},
   "outputs": [
    {
     "data": {
      "image/png": "[encoded data removed]",
      "text/latex": [
       "$$i e^{- \\Im{x}} \\sin{\\left (\\Re{\\left(x\\right)} \\right )} + e^{- \\Im{x}} \\cos{\\left (\\Re{\\left(x\\right)} \\right )}$$"
      ],
      "text/plain": [
       "   -im(x)               -im(x)           \n",
       "ⅈ⋅ℯ      ⋅sin(re(x)) + ℯ      ⋅cos(re(x))"
      ]
     },
     "execution_count": 5,
     "metadata": {},
     "output_type": "execute_result"
    }
   ],
   "source": [
    "# 将表达式展开为实部和虚部\n",
    "expand(exp(I*x), complex=True)"
   ]
  },
  {
   "cell_type": "code",
   "execution_count": 6,
   "metadata": {
    "scrolled": true
   },
   "outputs": [
    {
     "name": "stdout",
     "output_type": "stream",
     "text": [
      "expand(exp(I*x), complex=True): I*exp(-im(x))*sin(re(x)) + exp(-im(x))*cos(re(x)),    \n"
     ]
    }
   ],
   "source": [
    "%P expand(exp(I*x), complex=True)"
   ]
  },
  {
   "cell_type": "markdown",
   "metadata": {},
   "source": [
    "$\\Re\\Im$分别表示实部和虚部"
   ]
  },
  {
   "cell_type": "code",
   "execution_count": 7,
   "metadata": {},
   "outputs": [
    {
     "name": "stdout",
     "output_type": "stream",
     "text": [
      "        二进制    八进制    十进制    十六进制    Unicode\n",
      "--------------  --------  --------  ----------  ---------\n",
      "10000100011100     20434      8476      0x211c          ℜ\n",
      "10000100010001     20421      8465      0x2111          ℑ\n"
     ]
    }
   ],
   "source": [
    "box(\"ℜℑ\")"
   ]
  },
  {
   "cell_type": "code",
   "execution_count": 8,
   "metadata": {},
   "outputs": [
    {
     "data": {
      "image/png": "[encoded data removed]",
      "text/latex": [
       "$$i \\sin{\\left (x \\right )} + \\cos{\\left (x \\right )}$$"
      ],
      "text/plain": [
       "ⅈ⋅sin(x) + cos(x)"
      ]
     },
     "execution_count": 8,
     "metadata": {},
     "output_type": "execute_result"
    }
   ],
   "source": [
    "x = Symbol(\"x\", real=True) # 指定 x 为实数\n",
    "expand(exp(I*x), complex=True)    "
   ]
  },
  {
   "cell_type": "markdown",
   "metadata": {},
   "source": [
    "将函数$e^{ix}$展开为泰勒多项式"
   ]
  },
  {
   "cell_type": "code",
   "execution_count": 9,
   "metadata": {},
   "outputs": [
    {
     "data": {
      "image/png": "[encoded data removed]",
      "text/latex": [
       "$$1 + i x - \\frac{x^{2}}{2} - \\frac{i x^{3}}{6} + \\frac{x^{4}}{24} + \\frac{i x^{5}}{120} - \\frac{x^{6}}{720} - \\frac{i x^{7}}{5040} + \\frac{x^{8}}{40320} + \\frac{i x^{9}}{362880} + \\mathcal{O}\\left(x^{10}\\right)$$"
      ],
      "text/plain": [
       "           2      3    4      5     6      7      8        9          \n",
       "          x    ⅈ⋅x    x    ⅈ⋅x     x    ⅈ⋅x      x      ⅈ⋅x      ⎛ 10⎞\n",
       "1 + ⅈ⋅x - ── - ──── + ── + ──── - ─── - ──── + ───── + ────── + O⎝x  ⎠\n",
       "          2     6     24   120    720   5040   40320   362880         "
      ]
     },
     "execution_count": 9,
     "metadata": {},
     "output_type": "execute_result"
    }
   ],
   "source": [
    "tmp = series(exp(I*x), x, 0, 10)\n",
    "tmp"
   ]
  },
  {
   "cell_type": "code",
   "execution_count": 10,
   "metadata": {},
   "outputs": [
    {
     "data": {
      "image/png": "[encoded data removed]",
      "text/latex": [
       "$$\\frac{x^{8}}{40320} - \\frac{x^{6}}{720} + \\frac{x^{4}}{24} - \\frac{x^{2}}{2} + \\Re{\\left(\\mathcal{O}\\left(x^{10}\\right)\\right)} + 1$$"
      ],
      "text/plain": [
       "   8      6    4    2                 \n",
       "  x      x    x    x      ⎛ ⎛ 10⎞⎞    \n",
       "───── - ─── + ── - ── + re⎝O⎝x  ⎠⎠ + 1\n",
       "40320   720   24   2                  "
      ]
     },
     "execution_count": 10,
     "metadata": {},
     "output_type": "execute_result"
    }
   ],
   "source": [
    "re(tmp) # e^(ix) 实数项之和应该等于cos(x)的泰勒展开"
   ]
  },
  {
   "cell_type": "code",
   "execution_count": 11,
   "metadata": {},
   "outputs": [
    {
     "data": {
      "image/png": "[encoded data removed]",
      "text/latex": [
       "$$1 - \\frac{x^{2}}{2} + \\frac{x^{4}}{24} - \\frac{x^{6}}{720} + \\frac{x^{8}}{40320} + \\mathcal{O}\\left(x^{10}\\right)$$"
      ],
      "text/plain": [
       "     2    4     6      8          \n",
       "    x    x     x      x      ⎛ 10⎞\n",
       "1 - ── + ── - ─── + ───── + O⎝x  ⎠\n",
       "    2    24   720   40320         "
      ]
     },
     "execution_count": 11,
     "metadata": {},
     "output_type": "execute_result"
    }
   ],
   "source": [
    "series(cos(x), x, 0, 10)"
   ]
  },
  {
   "cell_type": "code",
   "execution_count": 12,
   "metadata": {},
   "outputs": [
    {
     "data": {
      "image/png": "[encoded data removed]",
      "text/latex": [
       "$$\\frac{x^{9}}{362880} - \\frac{x^{7}}{5040} + \\frac{x^{5}}{120} - \\frac{x^{3}}{6} + x + \\Im{\\mathcal{O}\\left(x^{10}\\right)}$$"
      ],
      "text/plain": [
       "   9       7      5    3                 \n",
       "  x       x      x    x          ⎛ ⎛ 10⎞⎞\n",
       "────── - ──── + ─── - ── + x + im⎝O⎝x  ⎠⎠\n",
       "362880   5040   120   6                  "
      ]
     },
     "execution_count": 12,
     "metadata": {},
     "output_type": "execute_result"
    }
   ],
   "source": [
    "im(tmp) # e^(ix) 虚数项之和应该等于sin(x)的泰勒展开"
   ]
  },
  {
   "cell_type": "code",
   "execution_count": 13,
   "metadata": {},
   "outputs": [
    {
     "data": {
      "image/png": "[encoded data removed]",
      "text/latex": [
       "$$x - \\frac{x^{3}}{6} + \\frac{x^{5}}{120} - \\frac{x^{7}}{5040} + \\frac{x^{9}}{362880} + \\mathcal{O}\\left(x^{10}\\right)$$"
      ],
      "text/plain": [
       "     3     5     7       9           \n",
       "    x     x     x       x       ⎛ 10⎞\n",
       "x - ── + ─── - ──── + ────── + O⎝x  ⎠\n",
       "    6    120   5040   362880         "
      ]
     },
     "execution_count": 13,
     "metadata": {},
     "output_type": "execute_result"
    }
   ],
   "source": [
    "series(sin(x), x, 0, 10)"
   ]
  },
  {
   "cell_type": "markdown",
   "metadata": {},
   "source": [
    "### 球体体积"
   ]
  },
  {
   "cell_type": "markdown",
   "metadata": {},
   "source": [
    "intergrate(): 计算符号积分"
   ]
  },
  {
   "cell_type": "code",
   "execution_count": 14,
   "metadata": {},
   "outputs": [
    {
     "data": {
      "image/png": "[encoded data removed]",
      "text/latex": [
       "$$- x \\cos{\\left (x \\right )} + \\sin{\\left (x \\right )}$$"
      ],
      "text/plain": [
       "-x⋅cos(x) + sin(x)"
      ]
     },
     "execution_count": 14,
     "metadata": {},
     "output_type": "execute_result"
    }
   ],
   "source": [
    "integrate(x*sin(x), x) # 计算不定积分"
   ]
  },
  {
   "cell_type": "code",
   "execution_count": 15,
   "metadata": {},
   "outputs": [
    {
     "data": {
      "image/png": "[encoded data removed]",
      "text/latex": [
       "$$- 2 \\pi$$"
      ],
      "text/plain": [
       "-2⋅π"
      ]
     },
     "execution_count": 15,
     "metadata": {},
     "output_type": "execute_result"
    }
   ],
   "source": [
    "integrate(x*sin(x), (x, 0, 2*pi)) #计算定积分"
   ]
  },
  {
   "cell_type": "code",
   "execution_count": 16,
   "metadata": {},
   "outputs": [],
   "source": [
    "f = symbols('f', cls=Function)\n",
    "r = symbols('r', positive=True)"
   ]
  },
  {
   "cell_type": "markdown",
   "metadata": {},
   "source": [
    "圆的面积公式: $S = 2 \\int_{- r}^{r} f{\\left (x \\right )}\\, dx$.  \n",
    "* 从微矩形极限和的角度理解: $dx$是矩形微元的底, $f(x)$是矩形微元的高;"
   ]
  },
  {
   "cell_type": "code",
   "execution_count": 17,
   "metadata": {},
   "outputs": [
    {
     "data": {
      "image/png": "[encoded data removed]",
      "text/latex": [
       "$$\\pi r^{2}$$"
      ],
      "text/plain": [
       "   2\n",
       "π⋅r "
      ]
     },
     "execution_count": 17,
     "metadata": {},
     "output_type": "execute_result"
    }
   ],
   "source": [
    "x, y = symbols('x, y')\n",
    "r = symbols('r', positive=True) # 圆的半径为正\n",
    "circle_area = 2 * integrate(sqrt(r**2 - x**2), (x, -r, r))\n",
    "circle_area"
   ]
  },
  {
   "cell_type": "markdown",
   "metadata": {},
   "source": [
    "圆的体积公式: $V = \\pi \\int_{- r}^{r} f^{2}{\\left (x \\right )}\\, dx $ .  \n",
    "* 从微圆柱极限和的角度, $\\pi f^{2}{\\left (x \\right )}$, 其中$f{\\left (x \\right )} = \\sqrt{r^2-x^2}$是微圆柱的底面积, $dx$是微圆柱的高;\n",
    "* ``expr2latex('pi*Integral(f(x)**2,(x,-r,r))')``"
   ]
  },
  {
   "cell_type": "code",
   "execution_count": 18,
   "metadata": {},
   "outputs": [
    {
     "data": {
      "image/png": "[encoded data removed]",
      "text/latex": [
       "$$\\pi \\left(r^{2} - x^{2}\\right)$$"
      ],
      "text/plain": [
       "  ⎛ 2    2⎞\n",
       "π⋅⎝r  - x ⎠"
      ]
     },
     "execution_count": 18,
     "metadata": {},
     "output_type": "execute_result"
    }
   ],
   "source": [
    "circle_area = circle_area.subs(r, sqrt(r**2 - x**2))\n",
    "circle_area"
   ]
  },
  {
   "cell_type": "code",
   "execution_count": 19,
   "metadata": {},
   "outputs": [
    {
     "data": {
      "image/png": "[encoded data removed]",
      "text/latex": [
       "$$\\frac{4 \\pi}{3} r^{3}$$"
      ],
      "text/plain": [
       "     3\n",
       "4⋅π⋅r \n",
       "──────\n",
       "  3   "
      ]
     },
     "execution_count": 19,
     "metadata": {},
     "output_type": "execute_result"
    }
   ],
   "source": [
    "# 球的体积\n",
    "integrate(circle_area, (x, -r, r))"
   ]
  },
  {
   "cell_type": "markdown",
   "metadata": {},
   "source": [
    "expr.sub(): 使用新的符号对象,替换原有的符号对象:  \n",
    "* sub(x,y): 将表达式中的x替换为y;  \n",
    "* sub({x:y, u:v}): 使用字典进行多次替换, 将表达式中的x替换为y, 表达式中的u替换为v;  \n",
    "* subs([(x,y),(u,v)]): 使用列表进行多次替换, 多次替换操作是串行的而不是并行的;"
   ]
  },
  {
   "cell_type": "markdown",
   "metadata": {},
   "source": [
    "### 数值微分和符号微分的计算"
   ]
  },
  {
   "cell_type": "markdown",
   "metadata": {},
   "source": [
    "#### 数值微分和符号微分的含义"
   ]
  },
  {
   "cell_type": "markdown",
   "metadata": {},
   "source": [
    "对原函数求导得导函数, 由导函数计算的微分叫做**符号微分**;  \n",
    "在不对原函数求导的前提下, 也可以求函数在某一个点处的导数(类似于求直线的斜率), 由原函数计算微分的方法叫做**数值微分**;  "
   ]
  },
  {
   "cell_type": "markdown",
   "metadata": {},
   "source": [
    "创建带约束的符号对象和函数对象"
   ]
  },
  {
   "cell_type": "code",
   "execution_count": 20,
   "metadata": {},
   "outputs": [],
   "source": [
    "x = symbols('x', real=True)\n",
    "h = symbols('h', positive=True)\n",
    "f = symbols('f', cls=Function) "
   ]
  },
  {
   "cell_type": "markdown",
   "metadata": {},
   "source": [
    "计算符号函数的导函数"
   ]
  },
  {
   "cell_type": "code",
   "execution_count": 21,
   "metadata": {},
   "outputs": [
    {
     "data": {
      "image/png": "[encoded data removed]",
      "text/latex": [
       "$$f{\\left (x \\right )}$$"
      ],
      "text/plain": [
       "f(x)"
      ]
     },
     "execution_count": 21,
     "metadata": {},
     "output_type": "execute_result"
    }
   ],
   "source": [
    "left = f(x) #f(x)是sympy可识别的符号\n",
    "left"
   ]
  },
  {
   "cell_type": "code",
   "execution_count": 22,
   "metadata": {},
   "outputs": [
    {
     "data": {
      "image/png": "[encoded data removed]",
      "text/latex": [
       "$$\\frac{d}{d x} f{\\left (x \\right )}$$"
      ],
      "text/plain": [
       "d       \n",
       "──(f(x))\n",
       "dx      "
      ]
     },
     "execution_count": 22,
     "metadata": {},
     "output_type": "execute_result"
    }
   ],
   "source": [
    "left_diff = left.diff(x,1) \n",
    "# left_diff = Derivative(left,x)\n",
    "left_diff"
   ]
  },
  {
   "cell_type": "code",
   "execution_count": 23,
   "metadata": {},
   "outputs": [
    {
     "data": {
      "image/png": "[encoded data removed]",
      "text/latex": [
       "$$\\frac{d^{2}}{d x^{2}}  f{\\left (x \\right )}$$"
      ],
      "text/plain": [
       "  2      \n",
       " d       \n",
       "───(f(x))\n",
       "  2      \n",
       "dx       "
      ]
     },
     "execution_count": 23,
     "metadata": {},
     "output_type": "execute_result"
    }
   ],
   "source": [
    "# 左边函数的二阶导函数\n",
    "left_diff2 = left.diff(x,2) \n",
    "left_diff2"
   ]
  },
  {
   "cell_type": "markdown",
   "metadata": {},
   "source": [
    "N点微分公式: 通过N个点的函数值计算导数"
   ]
  },
  {
   "cell_type": "code",
   "execution_count": 24,
   "metadata": {},
   "outputs": [
    {
     "data": {
      "image/png": "[encoded data removed]",
      "text/latex": [
       "$$\\frac{11}{6 h} f{\\left (x \\right )} - \\frac{1}{3 h} f{\\left (- 3 h + x \\right )} + \\frac{3}{2 h} f{\\left (- 2 h + x \\right )} - \\frac{3}{h} f{\\left (- h + x \\right )}$$"
      ],
      "text/plain": [
       "11⋅f(x)   f(-3⋅h + x)   3⋅f(-2⋅h + x)   3⋅f(-h + x)\n",
       "─────── - ─────────── + ───────────── - ───────────\n",
       "  6⋅h         3⋅h            2⋅h             h     "
      ]
     },
     "execution_count": 24,
     "metadata": {},
     "output_type": "execute_result"
    }
   ],
   "source": [
    "left_diff_4 = left_diff.as_finite_difference([x, x-h, x-2*h, x-3*h])\n",
    "left_diff_4 #四点微分公式"
   ]
  },
  {
   "cell_type": "markdown",
   "metadata": {},
   "source": [
    "#### 比较数值导数与符号导数的误差 ($x e^{- x^{2}}$)"
   ]
  },
  {
   "cell_type": "markdown",
   "metadata": {},
   "source": [
    "创建符号方程"
   ]
  },
  {
   "cell_type": "code",
   "execution_count": 25,
   "metadata": {},
   "outputs": [
    {
     "data": {
      "image/png": "[encoded data removed]",
      "text/latex": [
       "$$f{\\left (x \\right )} = x e^{- x^{2}}$$"
      ],
      "text/plain": [
       "            2\n",
       "          -x \n",
       "f(x) = x⋅ℯ   "
      ]
     },
     "execution_count": 25,
     "metadata": {},
     "output_type": "execute_result"
    }
   ],
   "source": [
    "Eq(f(x),x*exp(-x*x))"
   ]
  },
  {
   "cell_type": "code",
   "execution_count": 26,
   "metadata": {},
   "outputs": [
    {
     "data": {
      "image/png": "[encoded data removed]",
      "text/latex": [
       "$$x e^{- x^{2}}$$"
      ],
      "text/plain": [
       "     2\n",
       "   -x \n",
       "x⋅ℯ   "
      ]
     },
     "execution_count": 26,
     "metadata": {},
     "output_type": "execute_result"
    }
   ],
   "source": [
    "right = x*exp(-x*x)\n",
    "right"
   ]
  },
  {
   "cell_type": "markdown",
   "metadata": {},
   "source": [
    "右侧函数的微分"
   ]
  },
  {
   "cell_type": "code",
   "execution_count": 27,
   "metadata": {},
   "outputs": [
    {
     "data": {
      "image/png": "[encoded data removed]",
      "text/latex": [
       "$$- 2 x^{2} e^{- x^{2}} + e^{- x^{2}}$$"
      ],
      "text/plain": [
       "          2      2\n",
       "     2  -x     -x \n",
       "- 2⋅x ⋅ℯ    + ℯ   "
      ]
     },
     "execution_count": 27,
     "metadata": {},
     "output_type": "execute_result"
    }
   ],
   "source": [
    "right_diff = right.diff(x,1)\n",
    "right_diff "
   ]
  },
  {
   "cell_type": "markdown",
   "metadata": {},
   "source": [
    "**符号微分**: 将导函数(sympy)转化为数值运算函数(numpy)"
   ]
  },
  {
   "cell_type": "code",
   "execution_count": 28,
   "metadata": {},
   "outputs": [
    {
     "data": {
      "text/plain": [
       "array([-0.36787944,  1.        , -0.36787944])"
      ]
     },
     "execution_count": 28,
     "metadata": {},
     "output_type": "execute_result"
    }
   ],
   "source": [
    "right_dfunc = lambdify([x], right_diff, modules=\"numpy\")\n",
    "right_dfunc(np.array([-1, 0, 1]))"
   ]
  },
  {
   "cell_type": "markdown",
   "metadata": {},
   "source": [
    "**以下计算数值微分**"
   ]
  },
  {
   "cell_type": "markdown",
   "metadata": {},
   "source": [
    "获得加法表达式(left_diff_4)的各个加法项"
   ]
  },
  {
   "cell_type": "code",
   "execution_count": 29,
   "metadata": {},
   "outputs": [
    {
     "data": {
      "image/png": "[encoded data removed]",
      "text/latex": [
       "$$\\left ( - \\frac{3}{h} f{\\left (- h + x \\right )}, \\quad - \\frac{1}{3 h} f{\\left (- 3 h + x \\right )}, \\quad \\frac{3}{2 h} f{\\left (- 2 h + x \\right )}, \\quad \\frac{11}{6 h} f{\\left (x \\right )}\\right )$$"
      ],
      "text/plain": [
       "⎛-3⋅f(-h + x)   -f(-3⋅h + x)   3⋅f(-2⋅h + x)  11⋅f(x)⎞\n",
       "⎜─────────────, ─────────────, ─────────────, ───────⎟\n",
       "⎝      h             3⋅h            2⋅h         6⋅h  ⎠"
      ]
     },
     "execution_count": 29,
     "metadata": {},
     "output_type": "execute_result"
    }
   ],
   "source": [
    "left_diff_4.args"
   ]
  },
  {
   "cell_type": "markdown",
   "metadata": {},
   "source": [
    "使用sympy中的通配符: 提取每项的系数和函数参数"
   ]
  },
  {
   "cell_type": "code",
   "execution_count": 30,
   "metadata": {},
   "outputs": [
    {
     "data": {
      "image/png": "[encoded data removed]",
      "text/latex": [
       "$$\\left [ \\left \\{ c : - \\frac{3}{h}, \\quad w : - h + x\\right \\}, \\quad \\left \\{ c : - \\frac{1}{3 h}, \\quad w : - 3 h + x\\right \\}, \\quad \\left \\{ c : \\frac{3}{2 h}, \\quad w : - 2 h + x\\right \\}, \\quad \\left \\{ c : \\frac{11}{6 h}, \\quad w : x\\right \\}\\right ]$$"
      ],
      "text/plain": [
       "⎡⎧   -3            ⎫  ⎧   -1              ⎫  ⎧    3              ⎫  ⎧    11   \n",
       "⎢⎨c: ───, w: -h + x⎬, ⎨c: ───, w: -3⋅h + x⎬, ⎨c: ───, w: -2⋅h + x⎬, ⎨c: ───, w\n",
       "⎣⎩    h            ⎭  ⎩   3⋅h             ⎭  ⎩   2⋅h             ⎭  ⎩   6⋅h   \n",
       "\n",
       "   ⎫⎤\n",
       ": x⎬⎥\n",
       "   ⎭⎦"
      ]
     },
     "execution_count": 30,
     "metadata": {},
     "output_type": "execute_result"
    }
   ],
   "source": [
    "w = Wild(\"w\")\n",
    "c = Wild(\"c\")\n",
    "patterns = [arg.match(c * f(w)) for arg in left_diff_4.args]\n",
    "patterns"
   ]
  },
  {
   "cell_type": "markdown",
   "metadata": {},
   "source": [
    "以函数参数为键, 对项序列进行排序, 返回排序后每项的系数;  \n",
    "`t`: 代表项, `t[c]`代表项的系数, `t[w]`代表项的参数;"
   ]
  },
  {
   "cell_type": "code",
   "execution_count": 31,
   "metadata": {},
   "outputs": [],
   "source": [
    "coefficients = [t[c] for t in sorted(patterns, key=lambda t:t[w])] "
   ]
  },
  {
   "cell_type": "markdown",
   "metadata": {},
   "source": [
    "在h=1e3的条件下, 将微分表达式中每项的系数变为数值"
   ]
  },
  {
   "cell_type": "code",
   "execution_count": 32,
   "metadata": {},
   "outputs": [
    {
     "data": {
      "text/plain": [
       "array([ -333.33333333,  1500.        , -3000.        ,  1833.33333333])"
      ]
     },
     "execution_count": 32,
     "metadata": {},
     "output_type": "execute_result"
    }
   ],
   "source": [
    "coeff_np= np.array( [float(coeff.subs(h,1e-3)) for coeff in coefficients] )\n",
    "coeff_np"
   ]
  },
  {
   "cell_type": "code",
   "execution_count": 33,
   "metadata": {},
   "outputs": [],
   "source": [
    "from numpy.lib.stride_tricks import as_strided    \n",
    "def moving_window(x, size):\n",
    "    x = np.ascontiguousarray(x) #C:地址增加1时,元素按行排列, 按列排序的元素地址差为`n*1`\n",
    "    return as_strided(x,strides=(x.itemsize, x.itemsize), #x中元素所占的字节大小\n",
    "                      shape=(x.shape[0]-size+1, size)) #总4000个数据点, 需要减去3个"
   ]
  },
  {
   "cell_type": "code",
   "execution_count": 34,
   "metadata": {},
   "outputs": [
    {
     "name": "stdout",
     "output_type": "stream",
     "text": [
      "       a         moving_window(a,3)\n",
      "---------------  ------------------\n",
      "[0, 1, 2, 3, 4]  [[0, 1, 2],       \n",
      "                  [1, 2, 3],       \n",
      "                  [2, 3, 4]]       \n"
     ]
    }
   ],
   "source": [
    "# stride用于构建重叠矩阵\n",
    "a = np.arange(0,5)\n",
    "%C a; moving_window(a,3)"
   ]
  },
  {
   "cell_type": "code",
   "execution_count": 35,
   "metadata": {},
   "outputs": [
    {
     "name": "stdout",
     "output_type": "stream",
     "text": [
      "len(y_np): 4000,    \n"
     ]
    }
   ],
   "source": [
    "# x是数值对象, 使用numpy作为区分 , 不是符号对象\n",
    "x_np = np.arange(-2,2,1e-3) #h=1e-3\n",
    "y_np = x_np * np.exp(-x_np**2)\n",
    "%P len(y_np)"
   ]
  },
  {
   "cell_type": "markdown",
   "metadata": {},
   "source": [
    "在4000个数据点下, 符号微分与数值微分的最大误差"
   ]
  },
  {
   "cell_type": "code",
   "execution_count": 36,
   "metadata": {},
   "outputs": [
    {
     "name": "stdout",
     "output_type": "stream",
     "text": [
      "max_res: 4.089441674182126e-09,    \n"
     ]
    }
   ],
   "source": [
    "np_res = (moving_window(y_np, 4) * coeff_np).sum(axis=1)\n",
    "sym_res = right_dfunc(x_np[3:])\n",
    "max_res = np.max(abs(np_res - sym_res))\n",
    "%P max_res"
   ]
  },
  {
   "cell_type": "markdown",
   "metadata": {},
   "source": [
    "**分析: 微分公式中的点数对误差的影响**"
   ]
  },
  {
   "cell_type": "markdown",
   "metadata": {
    "collapsed": true
   },
   "source": [
    "计算数值微分公式中的系数"
   ]
  },
  {
   "cell_type": "code",
   "execution_count": 37,
   "metadata": {},
   "outputs": [],
   "source": [
    "def finite_diff_coefficients(f_diff, order, h):\n",
    "    v = left_diff.variables[0] #微分表达式的变量x\n",
    "    points = [x - i * h for i in range(order)]\n",
    "    left_diff_234 = left_diff.as_finite_difference(points) #2-n点的情况下数值微分的公式\n",
    "    w = Wild(\"w\")\n",
    "    c = Wild(\"c\")\n",
    "    patterns = [arg.match(c*f(w)) for arg in left_diff_234.args]\n",
    "    coefficients = [t[c] for t in sorted(patterns, key=lambda t:t[w])] #数值微分公式中的系数\n",
    "    coeff_np = np.array( [float(coeff.subs(h,1e3)) for coeff in coefficients]) #将系数变为数值\n",
    "    return coeff_np"
   ]
  },
  {
   "cell_type": "markdown",
   "metadata": {},
   "source": [
    "点数-精度图"
   ]
  },
  {
   "cell_type": "code",
   "execution_count": 38,
   "metadata": {},
   "outputs": [
    {
     "data": {
      "image/png": "[encoded data removed]",
      "text/plain": [
       "<Figure size 576x288 with 1 Axes>"
      ]
     },
     "metadata": {},
     "output_type": "display_data"
    }
   ],
   "source": [
    "fig, ax = plt.subplots(figsize=(8, 4))\n",
    "for order in range(2, 5):\n",
    "    c = finite_diff_coefficients(left_diff, order, 1e-3)\n",
    "    num_diff = (moving_window(y_np, order) * c).sum(axis=1)\n",
    "    sym_diff = right_dfunc(x_np[order-1:]) #\n",
    "    #方程中使用1个点时, x中的点全部可用, 使用2个点时第一个点不可用, 使用3个点数前两个点不可用\n",
    "    error = np.abs(num_diff - sym_diff)\n",
    "    ax.semilogy(x_np[order-1:], error, label=str(order))\n",
    "ax.legend(loc=\"lower right\");"
   ]
  },
  {
   "cell_type": "code",
   "execution_count": 39,
   "metadata": {},
   "outputs": [
    {
     "name": "stdout",
     "output_type": "stream",
     "text": [
      "$$$$$$$$$$$$$$$$$$$$$$$$$$$$$$$$$$$$$$$$$$$$$!kk2: 终止>$$$$$$$$$$$$$$$$$$$$$$$$$$$$$$$$$$$$$$$$$$$$$$\n"
     ]
    }
   ],
   "source": [
    "kk 2"
   ]
  }
 ],
 "metadata": {
  "kernelspec": {
   "display_name": "Python 3",
   "language": "python",
   "name": "python3"
  },
  "language_info": {
   "codemirror_mode": {
    "name": "ipython",
    "version": 3
   },
   "file_extension": ".py",
   "mimetype": "text/x-python",
   "name": "python",
   "nbconvert_exporter": "python",
   "pygments_lexer": "ipython3",
   "version": "3.6.5"
  },
  "toc": {
   "base_numbering": "6",
   "nav_menu": {},
   "number_sections": true,
   "sideBar": true,
   "skip_h1_title": false,
   "title_cell": "Table of Contents",
   "title_sidebar": "Contents",
   "toc_cell": false,
   "toc_position": {
    "height": "calc(100% - 180px)",
    "left": "10px",
    "top": "150px",
    "width": "176px"
   },
   "toc_section_display": true,
   "toc_window_display": false
  }
 },
 "nbformat": 4,
 "nbformat_minor": 1
}

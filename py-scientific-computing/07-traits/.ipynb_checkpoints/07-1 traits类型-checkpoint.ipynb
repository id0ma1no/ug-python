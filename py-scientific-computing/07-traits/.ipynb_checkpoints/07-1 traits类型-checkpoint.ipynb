{
 "cells": [
  {
   "cell_type": "code",
   "execution_count": 1,
   "metadata": {},
   "outputs": [
    {
     "name": "stdout",
     "output_type": "stream",
     "text": [
      "^^^^^^^^^^^^^^^^^^^^^^^^^^^^^^^^^^^^^^^^^^^^!kk0:start>^^^^^^^^^^^^^^^^^^^^^^^^^^^^^^^^^^^^^^^^^^^^^\n"
     ]
    }
   ],
   "source": [
    "kk 0"
   ]
  },
  {
   "cell_type": "markdown",
   "metadata": {},
   "source": [
    "**traits和mayavi的安装**:  \n",
    "* 如果出现下述问题, 先安装traits, 不用管VC++ 14.0:  \n",
    "`running build_ext\n",
    "building 'traits.ctraits' extension\n",
    "error: Microsoft Visual C++ 14.0 is required. Get it with \"Microsoft Visual C++ Build Tools\": http://landinghub.visualstudio.com/visual-cpp-build-tools;`\n",
    "\n",
    "* https://www.lfd.uci.edu/~gohlke/pythonlibs/#traits;  \n",
    "https://www.lfd.uci.edu/~gohlke/pythonlibs/#mayavi;  \n",
    "`pip install **.whl`"
   ]
  },
  {
   "cell_type": "code",
   "execution_count": 2,
   "metadata": {
    "group_control": {
     "group": 0
    }
   },
   "outputs": [],
   "source": [
    "import sip\n",
    "sip.setapi('QString', 2)\n",
    "sip.setapi('QVariant', 2)\n",
    "%gui qt"
   ]
  },
  {
   "cell_type": "markdown",
   "metadata": {},
   "source": [
    "## Traits类型入门"
   ]
  },
  {
   "cell_type": "markdown",
   "metadata": {},
   "source": [
    "### 什么是Traits属性"
   ]
  },
  {
   "cell_type": "code",
   "execution_count": 3,
   "metadata": {
    "group_control": {
     "group": 0
    }
   },
   "outputs": [],
   "source": [
    "from traits.api import HasTraits, Color\n",
    "\n",
    "class Circle(HasTraits): \n",
    "    color = Color "
   ]
  },
  {
   "cell_type": "code",
   "execution_count": 4,
   "metadata": {
    "group_control": {
     "group": 0
    }
   },
   "outputs": [],
   "source": [
    "# %%disabled\n",
    "c = Circle()\n",
    "# Circle.color # type object 'Circle' has no attribute 'color'"
   ]
  },
  {
   "cell_type": "code",
   "execution_count": 5,
   "metadata": {
    "group_control": {
     "group": 0
    }
   },
   "outputs": [
    {
     "name": "stdout",
     "output_type": "stream",
     "text": [
      " 1: <PyQt5.QtGui.QColor object at 0x0000018BE539E208>,    \n",
      " 1: (255, 255, 255, 255),    \n"
     ]
    }
   ],
   "source": [
    "%P c.color\n",
    "%P c.color.getRgb()"
   ]
  },
  {
   "cell_type": "code",
   "execution_count": 6,
   "metadata": {
    "group_control": {
     "group": 0
    }
   },
   "outputs": [
    {
     "name": "stdout",
     "output_type": "stream",
     "text": [
      " 1: (255, 0, 0, 255),    \n",
      " 1: (0, 255, 0, 255),    \n",
      " 1: (0, 255, 255, 255),    \n"
     ]
    }
   ],
   "source": [
    "c.color = \"red\"\n",
    "%P c.color.getRgb()\n",
    "\n",
    "c.color = 0x00ff00\n",
    "%P c.color.getRgb()\n",
    "\n",
    "c.color = (0, 255, 255)\n",
    "%P c.color.getRgb()"
   ]
  },
  {
   "cell_type": "code",
   "execution_count": 7,
   "metadata": {
    "group_control": {
     "group": 0
    }
   },
   "outputs": [],
   "source": [
    "%%disabled\n",
    "from traits.api import TraitError\n",
    "try:\n",
    "    c.color = ''\n",
    "except TraitError as ex:\n",
    "    print(ex)"
   ]
  },
  {
   "cell_type": "markdown",
   "metadata": {},
   "source": [
    "c.configure_traits()产生设置Trait属性的用户界面"
   ]
  },
  {
   "cell_type": "code",
   "execution_count": 8,
   "metadata": {
    "group_control": {
     "group": 0
    },
    "scrolled": false
   },
   "outputs": [
    {
     "data": {
      "text/plain": [
       "False"
      ]
     },
     "execution_count": 8,
     "metadata": {},
     "output_type": "execute_result"
    }
   ],
   "source": [
    "c.configure_traits()"
   ]
  },
  {
   "cell_type": "markdown",
   "metadata": {},
   "source": [
    "如果在Notebook中运行`c.configure_traits()`，它会立即返回`False`，而不会等待对话框关闭。当程序单独运行时`configure_traits()`会等待界面关闭，并根据用户点击的按钮返回`True`或`False`。"
   ]
  },
  {
   "cell_type": "code",
   "execution_count": 9,
   "metadata": {
    "group_control": {
     "group": 0
    }
   },
   "outputs": [
    {
     "data": {
      "text/plain": [
       "(0, 255, 255, 255)"
      ]
     },
     "execution_count": 9,
     "metadata": {},
     "output_type": "execute_result"
    }
   ],
   "source": [
    "c.color.getRgb()"
   ]
  },
  {
   "cell_type": "markdown",
   "metadata": {},
   "source": [
    "### Trait属性的功能"
   ]
  },
  {
   "cell_type": "code",
   "execution_count": 10,
   "metadata": {
    "group_control": {
     "group": 0
    }
   },
   "outputs": [],
   "source": [
    "from traits.api import Delegate, HasTraits, Instance, Int, Str\n",
    "\n",
    "class Parent ( HasTraits ):\n",
    "    # 初始化: last_name被初始化为'Zhang'\n",
    "    last_name = Str( 'Zhang' ) \n",
    "\n",
    "class Child ( HasTraits ):          \n",
    "    age = Int\n",
    "\n",
    "    # 验证: father属性的值必须是Parent类的实例\n",
    "    father = Instance( Parent )\n",
    "\n",
    "    # 代理： Child的实例的last_name属性代理给其father属性的last_name\n",
    "    last_name = Delegate( 'father' )\n",
    "\n",
    "    # 监听: 当age属性的值被修改时，下面的函数将被运行\n",
    "    def _age_changed ( self, old, new ):\n",
    "        %P 'Age changed from %s to %s ' % ( old, new )\n",
    "        \n",
    "p = Parent()\n",
    "c = Child()"
   ]
  },
  {
   "cell_type": "code",
   "execution_count": 11,
   "metadata": {
    "group_control": {
     "group": 0
    }
   },
   "outputs": [
    {
     "data": {
      "text/plain": [
       "'Zhang'"
      ]
     },
     "execution_count": 11,
     "metadata": {},
     "output_type": "execute_result"
    }
   ],
   "source": [
    "p.last_name"
   ]
  },
  {
   "cell_type": "code",
   "execution_count": 12,
   "metadata": {
    "group_control": {
     "group": 0
    }
   },
   "outputs": [],
   "source": [
    "# c.last_name   "
   ]
  },
  {
   "cell_type": "code",
   "execution_count": 13,
   "metadata": {
    "group_control": {
     "group": 0
    }
   },
   "outputs": [
    {
     "name": "stdout",
     "output_type": "stream",
     "text": [
      " 1: Zhang,    \n",
      " 1: ZHANG,    \n"
     ]
    }
   ],
   "source": [
    "c.father = p\n",
    "%P c.last_name\n",
    "p.last_name = \"ZHANG\"\n",
    "%P c.last_name"
   ]
  },
  {
   "cell_type": "code",
   "execution_count": 14,
   "metadata": {
    "group_control": {
     "group": 0
    }
   },
   "outputs": [
    {
     "name": "stderr",
     "output_type": "stream",
     "text": [
      "Exception occurred in traits notification handler for object: <__main__.Child object at 0x0000018BEC96B518>, trait: age, old value: 0, new value: 4\n",
      "Traceback (most recent call last):\n",
      "  File \"C:\\Users\\tfliu\\Anaconda3\\lib\\site-packages\\ibr\\brmagic.py\", line 165, in _P\n",
      "    \"{:2d}: {:.3f}\".format(count, sh.ev(i)), end=\",\" + \" \" * 4\n",
      "  File \"C:\\Users\\tfliu\\Anaconda3\\lib\\site-packages\\IPython\\core\\interactiveshell.py\", line 2479, in ev\n",
      "    return eval(expr, self.user_global_ns, self.user_ns)\n",
      "  File \"<string>\", line 1, in <module>\n",
      "NameError: name 'old' is not defined\n",
      "\n",
      "During handling of the above exception, another exception occurred:\n",
      "\n",
      "Traceback (most recent call last):\n",
      "  File \"C:\\Users\\tfliu\\Anaconda3\\lib\\site-packages\\traits\\trait_notifiers.py\", line 359, in __call__\n",
      "    self.handler( *args )\n",
      "  File \"<ipython-input-10-7831129ff133>\", line 18, in _age_changed\n",
      "    get_ipython().run_line_magic('P', \"'Age changed from %s to %s ' % ( old, new )\")\n",
      "  File \"C:\\Users\\tfliu\\Anaconda3\\lib\\site-packages\\IPython\\core\\interactiveshell.py\", line 2131, in run_line_magic\n",
      "    result = fn(*args,**kwargs)\n",
      "  File \"<decorator-gen-161>\", line 2, in _P\n",
      "  File \"C:\\Users\\tfliu\\Anaconda3\\lib\\site-packages\\IPython\\core\\magic.py\", line 187, in <lambda>\n",
      "    call = lambda f, *a, **k: f(*a, **k)\n",
      "  File \"C:\\Users\\tfliu\\Anaconda3\\lib\\site-packages\\ibr\\brmagic.py\", line 168, in _P\n",
      "    print(\"{:2d}: {}\".format(count, sh.ev(i)), end=\",\" + \" \" * 4)\n",
      "  File \"C:\\Users\\tfliu\\Anaconda3\\lib\\site-packages\\IPython\\core\\interactiveshell.py\", line 2479, in ev\n",
      "    return eval(expr, self.user_global_ns, self.user_ns)\n",
      "  File \"<string>\", line 1, in <module>\n",
      "NameError: name 'old' is not defined\n"
     ]
    },
    {
     "name": "stdout",
     "output_type": "stream",
     "text": [
      "Exception occurred in traits notification handler.\n",
      "Please check the log file for details.\n"
     ]
    }
   ],
   "source": [
    "c.age = 4"
   ]
  },
  {
   "cell_type": "code",
   "execution_count": 15,
   "metadata": {
    "group_control": {
     "group": 0
    }
   },
   "outputs": [],
   "source": [
    "c.configure_traits();"
   ]
  },
  {
   "cell_type": "code",
   "execution_count": 16,
   "metadata": {
    "group_control": {
     "group": 0
    }
   },
   "outputs": [
    {
     "name": "stdout",
     "output_type": "stream",
     "text": [
      "age:       4\n",
      "father:    <__main__.Parent object at 0x0000018BEC96B570>\n",
      "last_name: 'ZHANG'\n"
     ]
    }
   ],
   "source": [
    "c.print_traits()"
   ]
  },
  {
   "cell_type": "code",
   "execution_count": 17,
   "metadata": {
    "group_control": {
     "group": 0
    }
   },
   "outputs": [
    {
     "name": "stderr",
     "output_type": "stream",
     "text": [
      "C:\\Users\\tfliu\\Anaconda3\\lib\\site-packages\\ipykernel_launcher.py:1: DeprecationWarning: use \"HasTraits.trait_get\" instead\n",
      "  \"\"\"Entry point for launching an IPython kernel.\n"
     ]
    },
    {
     "data": {
      "text/plain": [
       "{'age': 4, 'father': <__main__.Parent at 0x18bec96b570>, 'last_name': 'ZHANG'}"
      ]
     },
     "execution_count": 17,
     "metadata": {},
     "output_type": "execute_result"
    }
   ],
   "source": [
    "c.get()"
   ]
  },
  {
   "cell_type": "code",
   "execution_count": 18,
   "metadata": {
    "group_control": {
     "group": 0
    }
   },
   "outputs": [
    {
     "name": "stderr",
     "output_type": "stream",
     "text": [
      "C:\\Users\\tfliu\\Anaconda3\\lib\\site-packages\\ipykernel_launcher.py:1: DeprecationWarning: use \"HasTraits.trait_set\" instead\n",
      "  \"\"\"Entry point for launching an IPython kernel.\n",
      "Exception occurred in traits notification handler for object: <__main__.Child object at 0x0000018BEC96B518>, trait: age, old value: 4, new value: 6\n",
      "Traceback (most recent call last):\n",
      "  File \"C:\\Users\\tfliu\\Anaconda3\\lib\\site-packages\\ibr\\brmagic.py\", line 165, in _P\n",
      "    \"{:2d}: {:.3f}\".format(count, sh.ev(i)), end=\",\" + \" \" * 4\n",
      "  File \"C:\\Users\\tfliu\\Anaconda3\\lib\\site-packages\\IPython\\core\\interactiveshell.py\", line 2479, in ev\n",
      "    return eval(expr, self.user_global_ns, self.user_ns)\n",
      "  File \"<string>\", line 1, in <module>\n",
      "NameError: name 'old' is not defined\n",
      "\n",
      "During handling of the above exception, another exception occurred:\n",
      "\n",
      "Traceback (most recent call last):\n",
      "  File \"C:\\Users\\tfliu\\Anaconda3\\lib\\site-packages\\traits\\trait_notifiers.py\", line 359, in __call__\n",
      "    self.handler( *args )\n",
      "  File \"<ipython-input-10-7831129ff133>\", line 18, in _age_changed\n",
      "    get_ipython().run_line_magic('P', \"'Age changed from %s to %s ' % ( old, new )\")\n",
      "  File \"C:\\Users\\tfliu\\Anaconda3\\lib\\site-packages\\IPython\\core\\interactiveshell.py\", line 2131, in run_line_magic\n",
      "    result = fn(*args,**kwargs)\n",
      "  File \"<decorator-gen-161>\", line 2, in _P\n",
      "  File \"C:\\Users\\tfliu\\Anaconda3\\lib\\site-packages\\IPython\\core\\magic.py\", line 187, in <lambda>\n",
      "    call = lambda f, *a, **k: f(*a, **k)\n",
      "  File \"C:\\Users\\tfliu\\Anaconda3\\lib\\site-packages\\ibr\\brmagic.py\", line 168, in _P\n",
      "    print(\"{:2d}: {}\".format(count, sh.ev(i)), end=\",\" + \" \" * 4)\n",
      "  File \"C:\\Users\\tfliu\\Anaconda3\\lib\\site-packages\\IPython\\core\\interactiveshell.py\", line 2479, in ev\n",
      "    return eval(expr, self.user_global_ns, self.user_ns)\n",
      "  File \"<string>\", line 1, in <module>\n",
      "NameError: name 'old' is not defined\n"
     ]
    },
    {
     "data": {
      "text/plain": [
       "<__main__.Child at 0x18bec96b518>"
      ]
     },
     "execution_count": 18,
     "metadata": {},
     "output_type": "execute_result"
    }
   ],
   "source": [
    "c.set(age = 6)"
   ]
  },
  {
   "cell_type": "code",
   "execution_count": 19,
   "metadata": {
    "group_control": {
     "group": 0
    }
   },
   "outputs": [
    {
     "name": "stderr",
     "output_type": "stream",
     "text": [
      "Exception occurred in traits notification handler for object: <__main__.Child object at 0x0000018BEC91B4C0>, trait: age, old value: 0, new value: 3\n",
      "Traceback (most recent call last):\n",
      "  File \"C:\\Users\\tfliu\\Anaconda3\\lib\\site-packages\\ibr\\brmagic.py\", line 165, in _P\n",
      "    \"{:2d}: {:.3f}\".format(count, sh.ev(i)), end=\",\" + \" \" * 4\n",
      "  File \"C:\\Users\\tfliu\\Anaconda3\\lib\\site-packages\\IPython\\core\\interactiveshell.py\", line 2479, in ev\n",
      "    return eval(expr, self.user_global_ns, self.user_ns)\n",
      "  File \"<string>\", line 1, in <module>\n",
      "NameError: name 'old' is not defined\n",
      "\n",
      "During handling of the above exception, another exception occurred:\n",
      "\n",
      "Traceback (most recent call last):\n",
      "  File \"C:\\Users\\tfliu\\Anaconda3\\lib\\site-packages\\traits\\trait_notifiers.py\", line 359, in __call__\n",
      "    self.handler( *args )\n",
      "  File \"<ipython-input-10-7831129ff133>\", line 18, in _age_changed\n",
      "    get_ipython().run_line_magic('P', \"'Age changed from %s to %s ' % ( old, new )\")\n",
      "  File \"C:\\Users\\tfliu\\Anaconda3\\lib\\site-packages\\IPython\\core\\interactiveshell.py\", line 2131, in run_line_magic\n",
      "    result = fn(*args,**kwargs)\n",
      "  File \"<decorator-gen-161>\", line 2, in _P\n",
      "  File \"C:\\Users\\tfliu\\Anaconda3\\lib\\site-packages\\IPython\\core\\magic.py\", line 187, in <lambda>\n",
      "    call = lambda f, *a, **k: f(*a, **k)\n",
      "  File \"C:\\Users\\tfliu\\Anaconda3\\lib\\site-packages\\ibr\\brmagic.py\", line 168, in _P\n",
      "    print(\"{:2d}: {}\".format(count, sh.ev(i)), end=\",\" + \" \" * 4)\n",
      "  File \"C:\\Users\\tfliu\\Anaconda3\\lib\\site-packages\\IPython\\core\\interactiveshell.py\", line 2479, in ev\n",
      "    return eval(expr, self.user_global_ns, self.user_ns)\n",
      "  File \"<string>\", line 1, in <module>\n",
      "NameError: name 'old' is not defined\n"
     ]
    }
   ],
   "source": [
    "c2 = Child(father=p, age=3)"
   ]
  },
  {
   "cell_type": "code",
   "execution_count": 20,
   "metadata": {
    "group_control": {
     "group": 0
    }
   },
   "outputs": [
    {
     "data": {
      "text/plain": [
       "<traits.traits.CTrait at 0x18beef4a048>"
      ]
     },
     "execution_count": 20,
     "metadata": {},
     "output_type": "execute_result"
    }
   ],
   "source": [
    "c.trait(\"age\")"
   ]
  },
  {
   "cell_type": "code",
   "execution_count": 21,
   "metadata": {
    "group_control": {
     "group": 0
    }
   },
   "outputs": [
    {
     "data": {
      "text/plain": [
       "'Zhang'"
      ]
     },
     "execution_count": 21,
     "metadata": {},
     "output_type": "execute_result"
    }
   ],
   "source": [
    "p.trait(\"last_name\").default"
   ]
  },
  {
   "cell_type": "code",
   "execution_count": 22,
   "metadata": {
    "group_control": {
     "group": 0
    }
   },
   "outputs": [],
   "source": [
    "%%disabled\n",
    "try:\n",
    "    c.trait(\"father\").validate(c, \"father\", 2)\n",
    "except TraitError as ex:\n",
    "    %P ex"
   ]
  },
  {
   "cell_type": "code",
   "execution_count": 23,
   "metadata": {
    "group_control": {
     "group": 0
    }
   },
   "outputs": [
    {
     "data": {
      "text/plain": [
       "<__main__.Parent at 0x18bec96b570>"
      ]
     },
     "execution_count": 23,
     "metadata": {},
     "output_type": "execute_result"
    }
   ],
   "source": [
    "c.trait(\"father\").validate(c, \"father\", p)"
   ]
  },
  {
   "cell_type": "code",
   "execution_count": 24,
   "metadata": {
    "group_control": {
     "group": 0
    }
   },
   "outputs": [
    {
     "name": "stderr",
     "output_type": "stream",
     "text": [
      "Exception occurred in traits notification handler for object: <__main__.Child object at 0x0000018BEC96B518>, trait: age, old value: 8, new value: 10\n",
      "Traceback (most recent call last):\n",
      "  File \"C:\\Users\\tfliu\\Anaconda3\\lib\\site-packages\\ibr\\brmagic.py\", line 165, in _P\n",
      "    \"{:2d}: {:.3f}\".format(count, sh.ev(i)), end=\",\" + \" \" * 4\n",
      "  File \"C:\\Users\\tfliu\\Anaconda3\\lib\\site-packages\\IPython\\core\\interactiveshell.py\", line 2479, in ev\n",
      "    return eval(expr, self.user_global_ns, self.user_ns)\n",
      "  File \"<string>\", line 1, in <module>\n",
      "NameError: name 'old' is not defined\n",
      "\n",
      "During handling of the above exception, another exception occurred:\n",
      "\n",
      "Traceback (most recent call last):\n",
      "  File \"C:\\Users\\tfliu\\Anaconda3\\lib\\site-packages\\traits\\trait_notifiers.py\", line 359, in __call__\n",
      "    self.handler( *args )\n",
      "  File \"<ipython-input-10-7831129ff133>\", line 18, in _age_changed\n",
      "    get_ipython().run_line_magic('P', \"'Age changed from %s to %s ' % ( old, new )\")\n",
      "  File \"C:\\Users\\tfliu\\Anaconda3\\lib\\site-packages\\IPython\\core\\interactiveshell.py\", line 2131, in run_line_magic\n",
      "    result = fn(*args,**kwargs)\n",
      "  File \"<decorator-gen-161>\", line 2, in _P\n",
      "  File \"C:\\Users\\tfliu\\Anaconda3\\lib\\site-packages\\IPython\\core\\magic.py\", line 187, in <lambda>\n",
      "    call = lambda f, *a, **k: f(*a, **k)\n",
      "  File \"C:\\Users\\tfliu\\Anaconda3\\lib\\site-packages\\ibr\\brmagic.py\", line 168, in _P\n",
      "    print(\"{:2d}: {}\".format(count, sh.ev(i)), end=\",\" + \" \" * 4)\n",
      "  File \"C:\\Users\\tfliu\\Anaconda3\\lib\\site-packages\\IPython\\core\\interactiveshell.py\", line 2479, in ev\n",
      "    return eval(expr, self.user_global_ns, self.user_ns)\n",
      "  File \"<string>\", line 1, in <module>\n",
      "NameError: name 'old' is not defined\n"
     ]
    },
    {
     "data": {
      "text/plain": [
       "6"
      ]
     },
     "execution_count": 24,
     "metadata": {},
     "output_type": "execute_result"
    }
   ],
   "source": [
    "c.trait_property_changed(\"age\", 8, 10)\n",
    "c.age # age属性值没有发生变化"
   ]
  },
  {
   "cell_type": "code",
   "execution_count": 25,
   "metadata": {
    "group_control": {
     "group": 0
    }
   },
   "outputs": [
    {
     "name": "stdout",
     "output_type": "stream",
     "text": [
      " 1: <traits.trait_types.Int object at 0x0000018BEC980A20>,    \n",
      " 1: <traits.trait_types.Instance object at 0x0000018BEC980898>,    \n"
     ]
    }
   ],
   "source": [
    "%P c.trait(\"age\").trait_type\n",
    "%P c.trait(\"father\").trait_type"
   ]
  },
  {
   "cell_type": "markdown",
   "metadata": {},
   "source": [
    "### Trait类型对象"
   ]
  },
  {
   "cell_type": "code",
   "execution_count": 26,
   "metadata": {
    "group_control": {
     "group": 0
    }
   },
   "outputs": [],
   "source": [
    "from traits.api import Float, Int, HasTraits\n",
    "\n",
    "class Person(HasTraits):\n",
    "    age = Int(30)\n",
    "    weight = Float"
   ]
  },
  {
   "cell_type": "code",
   "execution_count": 27,
   "metadata": {
    "group_control": {
     "group": 0
    }
   },
   "outputs": [
    {
     "name": "stdout",
     "output_type": "stream",
     "text": [
      " 1: 1.000,    \n",
      " 1: 1.000,    \n"
     ]
    }
   ],
   "source": [
    "p1 = Person()\n",
    "p2 = Person()\n",
    "%P p1.trait(\"age\") is p2.trait(\"age\")\n",
    "%P p1.trait(\"weight\").trait_type is p2.trait(\"weight\").trait_type "
   ]
  },
  {
   "cell_type": "code",
   "execution_count": 28,
   "metadata": {
    "group_control": {
     "group": 0
    }
   },
   "outputs": [],
   "source": [
    "from traits.api import HasTraits, Range\n",
    "\n",
    "coefficient = Range(-1.0, 1.0, 0.0)\n",
    "\n",
    "class Quadratic(HasTraits):\n",
    "    c2 = coefficient\n",
    "    c1 = coefficient\n",
    "    c0 = coefficient\n",
    "\n",
    "class Quadratic2(HasTraits):\n",
    "    c2 = Range(-1.0, 1.0, 0.0)\n",
    "    c1 = Range(-1.0, 1.0, 0.0)\n",
    "    c0 = Range(-1.0, 1.0, 0.0)"
   ]
  },
  {
   "cell_type": "code",
   "execution_count": 29,
   "metadata": {
    "group_control": {
     "group": 0
    }
   },
   "outputs": [
    {
     "name": "stdout",
     "output_type": "stream",
     "text": [
      " 1: 1.000,    \n",
      " 1: 1.000,    \n"
     ]
    }
   ],
   "source": [
    "q = Quadratic()\n",
    "\n",
    "%P coefficient is q.trait(\"c0\").trait_type\n",
    "%P coefficient is q.trait(\"c1\").trait_type"
   ]
  },
  {
   "cell_type": "code",
   "execution_count": 30,
   "metadata": {
    "group_control": {
     "group": 0
    }
   },
   "outputs": [
    {
     "data": {
      "text/plain": [
       "False"
      ]
     },
     "execution_count": 30,
     "metadata": {},
     "output_type": "execute_result"
    }
   ],
   "source": [
    "q2 = Quadratic2()\n",
    "q2.trait(\"c0\").trait_type is q2.trait(\"c1\").trait_type"
   ]
  },
  {
   "cell_type": "markdown",
   "metadata": {},
   "source": [
    "### Trait的元数据"
   ]
  },
  {
   "cell_type": "code",
   "execution_count": 31,
   "metadata": {
    "group_control": {
     "group": 0
    }
   },
   "outputs": [],
   "source": [
    "from traits.api import HasTraits, Int, Str, Array, List\n",
    "   \n",
    "class MetadataTest(HasTraits):\n",
    "    i = Int(99, myinfo=\"test my info\") #❶\n",
    "    s = Str(\"test\", label=u\"字符串\")    #❷\n",
    "    # NumPy的数组\n",
    "    a = Array         #❸\n",
    "    # 元素为Int的列表\n",
    "    list = List(Int)  #❹\n",
    "\n",
    "test = MetadataTest()"
   ]
  },
  {
   "cell_type": "code",
   "execution_count": 32,
   "metadata": {
    "group_control": {
     "group": 0
    }
   },
   "outputs": [
    {
     "data": {
      "text/plain": [
       "{'i': <traits.traits.CTrait at 0x18beb3c3048>,\n",
       " 's': <traits.traits.CTrait at 0x18beb3c92e8>,\n",
       " 'a': <traits.traits.CTrait at 0x18beb3c98d0>,\n",
       " 'list': <traits.traits.CTrait at 0x18beb3c9978>,\n",
       " 'trait_added': <traits.traits.CTrait at 0x18be3226cc0>,\n",
       " 'trait_modified': <traits.traits.CTrait at 0x18be3226eb8>}"
      ]
     },
     "execution_count": 32,
     "metadata": {},
     "output_type": "execute_result"
    }
   ],
   "source": [
    "test.traits()"
   ]
  },
  {
   "cell_type": "code",
   "execution_count": 33,
   "metadata": {
    "group_control": {
     "group": 0
    }
   },
   "outputs": [
    {
     "name": "stdout",
     "output_type": "stream",
     "text": [
      " 1: 99.000,    \n",
      " 1: test my info,    \n",
      " 1: <traits.trait_types.Int object at 0x0000018BEB3C6630>,    \n"
     ]
    }
   ],
   "source": [
    "%P test.trait(\"i\").default\n",
    "%P test.trait(\"i\").myinfo\n",
    "%P test.trait(\"i\").trait_type"
   ]
  },
  {
   "cell_type": "code",
   "execution_count": 34,
   "metadata": {
    "group_control": {
     "group": 0
    }
   },
   "outputs": [
    {
     "name": "stdout",
     "output_type": "stream",
     "text": [
      " 1: 字符串,    \n"
     ]
    }
   ],
   "source": [
    "%P test.trait(\"s\").label"
   ]
  },
  {
   "cell_type": "code",
   "execution_count": 35,
   "metadata": {
    "group_control": {
     "group": 0
    }
   },
   "outputs": [
    {
     "data": {
      "text/plain": [
       "True"
      ]
     },
     "execution_count": 35,
     "metadata": {},
     "output_type": "execute_result"
    }
   ],
   "source": [
    "test.trait(\"a\").array"
   ]
  },
  {
   "cell_type": "code",
   "execution_count": 36,
   "metadata": {
    "group_control": {
     "group": 0
    }
   },
   "outputs": [
    {
     "name": "stdout",
     "output_type": "stream",
     "text": [
      " 1: <traits.traits.CTrait object at 0x0000018BEB3C9978>,    \n",
      " 1: <traits.trait_types.List object at 0x0000018BEB3C6710>,    \n",
      " 1: (<traits.traits.CTrait object at 0x0000018BEB3C3C18>,),    \n",
      " 1: <traits.trait_types.Int object at 0x0000018BEB3C6748>,    \n"
     ]
    }
   ],
   "source": [
    "%P test.trait(\"list\")\n",
    "%P test.trait(\"list\").trait_type\n",
    "%P test.trait(\"list\").inner_traits # list属性的内部元素所对应的CTrait对象\n",
    "%P test.trait(\"list\").inner_traits[0].trait_type # 内部元素所对应的Trait类型对象"
   ]
  },
  {
   "cell_type": "code",
   "execution_count": 37,
   "metadata": {
    "group_control": {
     "group": 0
    }
   },
   "outputs": [
    {
     "name": "stdout",
     "output_type": "stream",
     "text": [
      "$$$$$$$$$$$$$$$$$$$$$$$$$$$$$$$$$$$$$$$$$$$$$!kk2:end>$$$$$$$$$$$$$$$$$$$$$$$$$$$$$$$$$$$$$$$$$$$$$$\n"
     ]
    }
   ],
   "source": [
    "kk 2"
   ]
  }
 ],
 "metadata": {
  "kernelspec": {
   "display_name": "Python 3",
   "language": "python",
   "name": "python3"
  },
  "language_info": {
   "codemirror_mode": {
    "name": "ipython",
    "version": 3
   },
   "file_extension": ".py",
   "mimetype": "text/x-python",
   "name": "python",
   "nbconvert_exporter": "python",
   "pygments_lexer": "ipython3",
   "version": "3.6.5"
  },
  "toc": {
   "base_numbering": "7",
   "nav_menu": {},
   "number_sections": true,
   "sideBar": true,
   "skip_h1_title": false,
   "title_cell": "Table of Contents",
   "title_sidebar": "Contents",
   "toc_cell": false,
   "toc_position": {},
   "toc_section_display": true,
   "toc_window_display": false
  },
  "varInspector": {
   "cols": {
    "lenName": 16,
    "lenType": 16,
    "lenVar": 40
   },
   "kernels_config": {
    "python": {
     "delete_cmd_postfix": "",
     "delete_cmd_prefix": "del ",
     "library": "var_list.py",
     "varRefreshCmd": "%P(var_dic_list())"
    },
    "r": {
     "delete_cmd_postfix": ") ",
     "delete_cmd_prefix": "rm(",
     "library": "var_list.r",
     "varRefreshCmd": "cat(var_dic_list()) "
    }
   },
   "types_to_exclude": [
    "module",
    "function",
    "builtin_function_or_method",
    "instance",
    "_Feature"
   ],
   "window_display": false
  }
 },
 "nbformat": 4,
 "nbformat_minor": 1
}

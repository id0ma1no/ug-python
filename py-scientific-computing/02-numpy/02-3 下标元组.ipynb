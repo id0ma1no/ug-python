{
 "cells": [
  {
   "cell_type": "code",
   "execution_count": 125,
   "metadata": {
    "collapsed": false
   },
   "outputs": [],
   "source": [
    "import numpy as np"
   ]
  },
  {
   "cell_type": "markdown",
   "metadata": {},
   "source": [
    "## 多维数组的下标存取"
   ]
  },
  {
   "cell_type": "markdown",
   "metadata": {},
   "source": [
    "### 下标对象"
   ]
  },
  {
   "cell_type": "markdown",
   "metadata": {},
   "source": [
    "下标元组的长度必须等于原始数组的维数,不足的长度用 : 代替"
   ]
  },
  {
   "cell_type": "code",
   "execution_count": 126,
   "metadata": {
    "collapsed": false
   },
   "outputs": [
    {
     "data": {
      "text/plain": [
       "array([[[ 0,  1,  2,  3,  4],\n",
       "        [ 5,  6,  7,  8,  9],\n",
       "        [10, 11, 12, 13, 14],\n",
       "        [15, 16, 17, 18, 19]],\n",
       "\n",
       "       [[20, 21, 22, 23, 24],\n",
       "        [25, 26, 27, 28, 29],\n",
       "        [30, 31, 32, 33, 34],\n",
       "        [35, 36, 37, 38, 39]],\n",
       "\n",
       "       [[40, 41, 42, 43, 44],\n",
       "        [45, 46, 47, 48, 49],\n",
       "        [50, 51, 52, 53, 54],\n",
       "        [55, 56, 57, 58, 59]]])"
      ]
     },
     "execution_count": 126,
     "metadata": {},
     "output_type": "execute_result"
    }
   ],
   "source": [
    "a = np.arange(3 * 4 * 5).reshape(3, 4, 5)\n",
    "lidx = [[0], [1]]\n",
    "aidx = np.array(lidx)\n",
    "a"
   ]
  },
  {
   "cell_type": "code",
   "execution_count": 127,
   "metadata": {
    "collapsed": false
   },
   "outputs": [
    {
     "name": "stdout",
     "output_type": "stream",
     "text": [
      "   lidx      aidx\n",
      "----------  -----\n",
      "[[0], [1]]  [[0],\n",
      "             [1]]\n"
     ]
    }
   ],
   "source": [
    "%C lidx; aidx"
   ]
  },
  {
   "cell_type": "code",
   "execution_count": 128,
   "metadata": {
    "collapsed": false
   },
   "outputs": [
    {
     "name": "stdout",
     "output_type": "stream",
     "text": [
      "     a[lidx]                a[aidx]          \n",
      "-----------------  --------------------------\n",
      "[[5, 6, 7, 8, 9]]  [[[[ 0,  1,  2,  3,  4],  \n",
      "                      [ 5,  6,  7,  8,  9],  \n",
      "                      [10, 11, 12, 13, 14],  \n",
      "                      [15, 16, 17, 18, 19]]],\n",
      "                                             \n",
      "                                             \n",
      "                    [[[20, 21, 22, 23, 24],  \n",
      "                      [25, 26, 27, 28, 29],  \n",
      "                      [30, 31, 32, 33, 34],  \n",
      "                      [35, 36, 37, 38, 39]]]]\n"
     ]
    }
   ],
   "source": [
    "%C a[lidx]; a[aidx]"
   ]
  },
  {
   "cell_type": "markdown",
   "metadata": {},
   "source": [
    "### 整数数组作为下标"
   ]
  },
  {
   "cell_type": "markdown",
   "metadata": {},
   "source": [
    "> 若只需要沿着指定轴通过整数数组获取元素，可以使用`numpy.take()`函数，其运算速度比整数数组的下标运算略快，并且支持下标越界处理。"
   ]
  },
  {
   "cell_type": "code",
   "execution_count": 129,
   "metadata": {
    "collapsed": false
   },
   "outputs": [
    {
     "name": "stdout",
     "output_type": "stream",
     "text": [
      " (i0.shape,i1.shape,i2.shape)    b.shape \n",
      "------------------------------  ---------\n",
      "((2, 3), (2, 1, 1), (1, 1, 3))  (2, 2, 3)\n"
     ]
    }
   ],
   "source": [
    "i0 = np.array([[1, 2, 1], [0, 1, 0]])\n",
    "i1 = np.array([[[0]], [[1]]])\n",
    "i2 = np.array([[[2, 3, 2]]])\n",
    "b = a[i0, i1, i2]\n",
    "%C (i0.shape,i1.shape,i2.shape); b.shape"
   ]
  },
  {
   "cell_type": "code",
   "execution_count": 130,
   "metadata": {
    "collapsed": false
   },
   "outputs": [
    {
     "name": "stdout",
     "output_type": "stream",
     "text": [
      "     ind0           ind1           ind2    \n",
      "-------------  -------------  -------------\n",
      "[[[1, 2, 1],   [[[0, 0, 0],   [[[2, 3, 2], \n",
      "  [0, 1, 0]],    [0, 0, 0]],    [2, 3, 2]],\n",
      "                                           \n",
      " [[1, 2, 1],    [[1, 1, 1],    [[2, 3, 2], \n",
      "  [0, 1, 0]]]    [1, 1, 1]]]    [2, 3, 2]]]\n"
     ]
    }
   ],
   "source": [
    "i0_bd, i1_bd, i2_bd = np.broadcast_arrays(i0, i1, i2)\n",
    "%C ind0; ind1; ind2"
   ]
  },
  {
   "cell_type": "code",
   "execution_count": 131,
   "metadata": {
    "collapsed": false
   },
   "outputs": [
    {
     "name": "stdout",
     "output_type": "stream",
     "text": [
      "           a                     b        \n",
      "------------------------  ----------------\n",
      "[[[ 0,  1,  2,  3,  4],   [[[22, 43, 22], \n",
      "  [ 5,  6,  7,  8,  9],     [ 2, 23,  2]],\n",
      "  [10, 11, 12, 13, 14],                   \n",
      "  [15, 16, 17, 18, 19]],   [[27, 48, 27], \n",
      "                            [ 7, 28,  7]]]\n",
      " [[20, 21, 22, 23, 24],                   \n",
      "  [25, 26, 27, 28, 29],                   \n",
      "  [30, 31, 32, 33, 34],                   \n",
      "  [35, 36, 37, 38, 39]],                  \n",
      "                                          \n",
      " [[40, 41, 42, 43, 44],                   \n",
      "  [45, 46, 47, 48, 49],                   \n",
      "  [50, 51, 52, 53, 54],                   \n",
      "  [55, 56, 57, 58, 59]]]                  \n"
     ]
    }
   ],
   "source": [
    "%C a; b"
   ]
  },
  {
   "cell_type": "markdown",
   "metadata": {},
   "source": [
    "下标元组由切片和整数数组组成"
   ]
  },
  {
   "cell_type": "code",
   "execution_count": 132,
   "metadata": {
    "collapsed": false
   },
   "outputs": [
    {
     "name": "stdout",
     "output_type": "stream",
     "text": [
      "  c.shape     i0_bd.shape\n",
      "------------  -----------\n",
      "(3, 2, 2, 3)  (2, 2, 3)  \n"
     ]
    }
   ],
   "source": [
    "# 整数数组连续, 切片在前\n",
    "c = a[:, i0, i1]\n",
    "i0_bd, i1_bd = np.broadcast_arrays(i0, i1)\n",
    "%C c.shape; i0_bd.shape"
   ]
  },
  {
   "cell_type": "code",
   "execution_count": 133,
   "metadata": {
    "collapsed": false
   },
   "outputs": [
    {
     "name": "stdout",
     "output_type": "stream",
     "text": [
      "    i0_bd          i1_bd    \n",
      "-------------  -------------\n",
      "[[[1, 2, 1],   [[[0, 0, 0], \n",
      "  [0, 1, 0]],    [0, 0, 0]],\n",
      "                            \n",
      " [[1, 2, 1],    [[1, 1, 1], \n",
      "  [0, 1, 0]]]    [1, 1, 1]]]\n"
     ]
    }
   ],
   "source": [
    "%C i0_bd; i1_bd"
   ]
  },
  {
   "cell_type": "code",
   "execution_count": 134,
   "metadata": {
    "collapsed": false
   },
   "outputs": [
    {
     "name": "stdout",
     "output_type": "stream",
     "text": [
      "           a                      c         \n",
      "------------------------  ------------------\n",
      "[[[ 0,  1,  2,  3,  4],   [[[[ 5, 10,  5],  \n",
      "  [ 5,  6,  7,  8,  9],      [ 0,  5,  0]], \n",
      "  [10, 11, 12, 13, 14],                     \n",
      "  [15, 16, 17, 18, 19]],    [[ 6, 11,  6],  \n",
      "                             [ 1,  6,  1]]],\n",
      " [[20, 21, 22, 23, 24],                     \n",
      "  [25, 26, 27, 28, 29],                     \n",
      "  [30, 31, 32, 33, 34],    [[[25, 30, 25],  \n",
      "  [35, 36, 37, 38, 39]],     [20, 25, 20]], \n",
      "                                            \n",
      " [[40, 41, 42, 43, 44],     [[26, 31, 26],  \n",
      "  [45, 46, 47, 48, 49],      [21, 26, 21]]],\n",
      "  [50, 51, 52, 53, 54],                     \n",
      "  [55, 56, 57, 58, 59]]]                    \n",
      "                           [[[45, 50, 45],  \n",
      "                             [40, 45, 40]], \n",
      "                                            \n",
      "                            [[46, 51, 46],  \n",
      "                             [41, 46, 41]]]]\n"
     ]
    }
   ],
   "source": [
    "%C a; c"
   ]
  },
  {
   "cell_type": "code",
   "execution_count": 135,
   "metadata": {
    "collapsed": false
   },
   "outputs": [
    {
     "name": "stdout",
     "output_type": "stream",
     "text": [
      "i0_bd.shape    d.shape   \n",
      "-----------  ------------\n",
      "(2, 2, 3)    (2, 2, 3, 4)\n"
     ]
    }
   ],
   "source": [
    "# 整数数组不连续, 切片在中间\n",
    "d = a[i0, :, i1]\n",
    "%C i0_bd.shape; d.shape"
   ]
  },
  {
   "cell_type": "code",
   "execution_count": 136,
   "metadata": {
    "collapsed": false
   },
   "outputs": [
    {
     "name": "stdout",
     "output_type": "stream",
     "text": [
      "    i0_bd          i1_bd    \n",
      "-------------  -------------\n",
      "[[[1, 2, 1],   [[[0, 0, 0], \n",
      "  [0, 1, 0]],    [0, 0, 0]],\n",
      "                            \n",
      " [[1, 2, 1],    [[1, 1, 1], \n",
      "  [0, 1, 0]]]    [1, 1, 1]]]\n"
     ]
    }
   ],
   "source": [
    "%C i0_bd; i1_bd"
   ]
  },
  {
   "cell_type": "code",
   "execution_count": 137,
   "metadata": {
    "collapsed": false
   },
   "outputs": [
    {
     "name": "stdout",
     "output_type": "stream",
     "text": [
      "           a                        d           \n",
      "------------------------  ----------------------\n",
      "[[[ 0,  1,  2,  3,  4],   [[[[20, 25, 30, 35],  \n",
      "  [ 5,  6,  7,  8,  9],      [40, 45, 50, 55],  \n",
      "  [10, 11, 12, 13, 14],      [20, 25, 30, 35]], \n",
      "  [15, 16, 17, 18, 19]],                        \n",
      "                            [[ 0,  5, 10, 15],  \n",
      " [[20, 21, 22, 23, 24],      [20, 25, 30, 35],  \n",
      "  [25, 26, 27, 28, 29],      [ 0,  5, 10, 15]]],\n",
      "  [30, 31, 32, 33, 34],                         \n",
      "  [35, 36, 37, 38, 39]],                        \n",
      "                           [[[21, 26, 31, 36],  \n",
      " [[40, 41, 42, 43, 44],      [41, 46, 51, 56],  \n",
      "  [45, 46, 47, 48, 49],      [21, 26, 31, 36]], \n",
      "  [50, 51, 52, 53, 54],                         \n",
      "  [55, 56, 57, 58, 59]]]    [[ 1,  6, 11, 16],  \n",
      "                             [21, 26, 31, 36],  \n",
      "                             [ 1,  6, 11, 16]]]]\n"
     ]
    }
   ],
   "source": [
    "%C a; d "
   ]
  },
  {
   "cell_type": "markdown",
   "metadata": {},
   "source": [
    ">**下标扩维遵循广播数组的空框代换**\n",
    ">>`不管是三维数组的扩维, 还是二维数组的扩维, 都遵循一般的规则.首先是将整数数组进行广播, 写出广播数组的空框形式 (每个位置的元素用方框代表,一个方框代表一个元素), 然后将每个空框换成切片代表的一维数组.`"
   ]
  },
  {
   "cell_type": "markdown",
   "metadata": {},
   "source": [
    "***\n",
    "***"
   ]
  },
  {
   "cell_type": "markdown",
   "metadata": {},
   "source": [
    "### 一个复杂的例子"
   ]
  },
  {
   "cell_type": "markdown",
   "metadata": {},
   "source": [
    "> http://mail.scipy.org/pipermail/numpy-discussion/2008-July/035764.html\n",
    "\n",
    "> NumPy邮件列表中的原文链接"
   ]
  },
  {
   "cell_type": "code",
   "execution_count": 138,
   "metadata": {
    "collapsed": false
   },
   "outputs": [],
   "source": [
    "#%hide\n",
    "%exec_python -m scpy2.numpy.array_index_demo"
   ]
  },
  {
   "cell_type": "code",
   "execution_count": 139,
   "metadata": {
    "collapsed": false
   },
   "outputs": [],
   "source": [
    "I, J, K, L = 6, 7, 8, 3\n",
    "_, _, v = np.mgrid[:I, :J, :K]\n",
    "idx = np.random.randint(0, K - L, size=(I, J))"
   ]
  },
  {
   "cell_type": "code",
   "execution_count": 140,
   "metadata": {
    "collapsed": false
   },
   "outputs": [
    {
     "data": {
      "text/plain": [
       "(6, 7, 3)"
      ]
     },
     "execution_count": 140,
     "metadata": {},
     "output_type": "execute_result"
    }
   ],
   "source": [
    "idx_k = idx[:, :, None] + np.arange(3)\n",
    "idx_k.shape"
   ]
  },
  {
   "cell_type": "code",
   "execution_count": 141,
   "metadata": {
    "collapsed": false
   },
   "outputs": [],
   "source": [
    "idx_i, idx_j, _ = np.ogrid[:I, :J, :K]"
   ]
  },
  {
   "cell_type": "code",
   "execution_count": 142,
   "metadata": {
    "collapsed": false
   },
   "outputs": [
    {
     "name": "stdout",
     "output_type": "stream",
     "text": [
      " r[i,j,:]  v[i,j,idx[i,j]:idx[i,j]+L]\n",
      "---------  --------------------------\n",
      "[2, 3, 4]  [2, 3, 4]                 \n"
     ]
    }
   ],
   "source": [
    "r = v[idx_i, idx_j, idx_k]    \n",
    "i, j = 2, 3  # 验证结果，读者可以将之修改为使用循环验证所有的元素\n",
    "%C r[i,j,:]; v[i,j,idx[i,j]:idx[i,j]+L]"
   ]
  },
  {
   "cell_type": "markdown",
   "metadata": {},
   "source": [
    "***"
   ]
  },
  {
   "cell_type": "markdown",
   "metadata": {},
   "source": [
    "### 布尔数组作下标"
   ]
  },
  {
   "cell_type": "markdown",
   "metadata": {},
   "source": [
    "> 若只需要沿着指定轴通过布尔数组获取元素，可以使用`numpy.compress()`函数。"
   ]
  },
  {
   "cell_type": "markdown",
   "metadata": {},
   "source": [
    "下标元组中包含布尔数组时, 首先用nonezero函数将布尔数组转化成整元组, nonezero返回元素不为0的地址"
   ]
  },
  {
   "cell_type": "code",
   "execution_count": 143,
   "metadata": {
    "collapsed": false
   },
   "outputs": [
    {
     "name": "stdout",
     "output_type": "stream",
     "text": [
      "           b                        np.nonzero(b2)           \n",
      "-----------------------  ------------------------------------\n",
      "[[ True, False,  True],  (array([0, 0, 1]), array([0, 2, 0]))\n",
      " [ True, False, False]]                                      \n"
     ]
    }
   ],
   "source": [
    "b = np.array([[True, False, True], [True, False, False]])\n",
    "%C b; np.nonzero(b2)\n",
    "# b是数组, 转化成了元组"
   ]
  },
  {
   "cell_type": "code",
   "execution_count": 144,
   "metadata": {
    "collapsed": false
   },
   "outputs": [
    {
     "name": "stdout",
     "output_type": "stream",
     "text": [
      "           a                       a[b]         \n",
      "------------------------  ----------------------\n",
      "[[[ 0,  1,  2,  3,  4],   [[ 0,  1,  2,  3,  4],\n",
      "  [ 5,  6,  7,  8,  9],    [10, 11, 12, 13, 14],\n",
      "  [10, 11, 12, 13, 14],    [20, 21, 22, 23, 24]]\n",
      "  [15, 16, 17, 18, 19]],                        \n",
      "                                                \n",
      " [[20, 21, 22, 23, 24],                         \n",
      "  [25, 26, 27, 28, 29],                         \n",
      "  [30, 31, 32, 33, 34],                         \n",
      "  [35, 36, 37, 38, 39]],                        \n",
      "                                                \n",
      " [[40, 41, 42, 43, 44],                         \n",
      "  [45, 46, 47, 48, 49],                         \n",
      "  [50, 51, 52, 53, 54],                         \n",
      "  [55, 56, 57, 58, 59]]]                        \n"
     ]
    }
   ],
   "source": [
    "a = np.arange(3 * 4 * 5).reshape(3, 4, 5)\n",
    "%C a; a[b]"
   ]
  },
  {
   "cell_type": "markdown",
   "metadata": {},
   "source": [
    "下标元组既有切片又有布尔数组"
   ]
  },
  {
   "cell_type": "code",
   "execution_count": 145,
   "metadata": {
    "collapsed": false
   },
   "outputs": [
    {
     "name": "stdout",
     "output_type": "stream",
     "text": [
      "  a[1:3, b2]    a[1:3, np.nonzero(b2)[0], np.nonzero(b2)[1]]\n",
      "--------------  --------------------------------------------\n",
      "[[20, 22, 25],  [[20, 22, 25],                              \n",
      " [40, 42, 45]]   [40, 42, 45]]                              \n"
     ]
    }
   ],
   "source": [
    "%C a[1:3, b2]; a[1:3, np.nonzero(b2)[0], np.nonzero(b2)[1]]"
   ]
  }
 ],
 "metadata": {
  "kernelspec": {
   "display_name": "Python 2",
   "language": "python",
   "name": "python2"
  },
  "language_info": {
   "codemirror_mode": {
    "name": "ipython",
    "version": 2
   },
   "file_extension": ".py",
   "mimetype": "text/x-python",
   "name": "python",
   "nbconvert_exporter": "python",
   "pygments_lexer": "ipython2",
   "version": "2.7.9"
  }
 },
 "nbformat": 4,
 "nbformat_minor": 0
}

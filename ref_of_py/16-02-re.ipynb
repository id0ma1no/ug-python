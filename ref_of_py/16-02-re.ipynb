{
 "cells": [
  {
   "cell_type": "markdown",
   "metadata": {},
   "source": [
    "<font color=red size=6> $$head </font>"
   ]
  },
  {
   "cell_type": "code",
   "execution_count": 1,
   "metadata": {},
   "outputs": [],
   "source": [
    "import re\n",
    "import nltk\n",
    "import brtoz.brmagic"
   ]
  },
  {
   "cell_type": "markdown",
   "metadata": {},
   "source": [
    "## 正则表达式操作"
   ]
  },
  {
   "cell_type": "markdown",
   "metadata": {},
   "source": [
    "https://docs.python.org/3/library/re.html#id1  \n"
   ]
  },
  {
   "cell_type": "markdown",
   "metadata": {},
   "source": [
    "### 模式语法"
   ]
  },
  {
   "cell_type": "markdown",
   "metadata": {},
   "source": [
    "**正则表达式中的特殊字符**:\n",
    "\n",
    "> |字符|描述|\n",
    "|----|---|\n",
    "| text | 匹配普通字符 |\n",
    "| . | 匹配除换行符以外的任意字符(与flags有关) |\n",
    "| ^ | 零宽界定符, 匹配字符串的开始 |\n",
    "| $ | 零宽界定符, 匹配字符串的结束 |\n",
    "| * | 匹配前面表达式的零个或多个副本, 匹配尽可能多的副本    |\n",
    "| + | 匹配前面表达式的一个或多个副本, 匹配尽可能多的副本 |\n",
    "| ? | 匹配前面表达式的零个或一个副本, 匹配尽可能多的副本 |\n",
    "| *? | 匹配前面表达式的零个或多个副本, 匹配尽可能少的副本    |\n",
    "| +? | 匹配前面表达式的一个或多个副本, 匹配尽可能少的副本 |\n",
    "| ?? | 匹配前面表达式的零个或一个副本, 匹配尽可能少的副本 |\n",
    "| {m} | 准确匹配前面表达式的m个副本 |\n",
    "| {m,n} | 匹配前面表达式的m至n个副本, 匹配尽可能多的副本; m0=0,n0=inf;{}?表示懒惰模式 |\n",
    "| [...] | 匹配字符集中的一个字符(可使用`-`); 特殊字符在字符集中会失去特殊性 |\n",
    "| [^...] | 字符集的补集 |\n",
    "| A &#124; B | `re`中的管道符, 不含管道(串流)的含义, 而只是单纯的表示选择(并列) |\n",
    "| (...) | 设置子模式并保存子匹配项, 子项可通过group方法获取 |\n",
    "| (?aiLmsux) | 可修改re规则的flags, 例如是否忽略大小写等 |\n",
    "| (?:...) | 设置子模式, 但丢弃子项 |\n",
    "| (?P<name\\>...) | 为子模式指定分组名 |\n",
    "| (?P=name) | 通过组名反向引用子模式 |\n",
    "| (?#...) | 一个注释, `()`中的内容将被忽略 |\n",
    "| (?=...) | 后置肯定界定符, 只有在括号中的模式匹配时, 才匹配前面的表达式 |\n",
    "| (?!...) | 后置否定界定符, 只有在括号中的模式不匹配时, 才匹配前面的表达式 |\n",
    "| (?<=...) | 前置肯定界定符, 只有在括号中的模式匹配时, 才匹配后面的表达式 |\n",
    "| (?<!...) | 前置否定界定符, 只有在括号中的模式不匹配时, 才匹配后面的表达式 |\n",
    "| <code> ?(id &#124; name)ypat &#124; npat) </code> | 检查id或name标识的正则表达式是否存在, 如果存在, 匹配ypat, 否则匹配npat |"
   ]
  },
  {
   "cell_type": "markdown",
   "metadata": {},
   "source": [
    "**引用组名(`quote`)的上下文环境有哪些? 如何引用组名?**"
   ]
  },
  {
   "cell_type": "markdown",
   "metadata": {},
   "source": [
    "> `(?P<quote>['\"]).*?(?P=quote)`  \n",
    "1). 在自身模式中引用:  \n",
    "    * `(?P=quote)`\n",
    "    * `\\1`\n",
    "2). 在处理匹配项对象m时引用:  \n",
    "    * `m.group('quote')`\n",
    "    * `m.end('quote')`  \n",
    "    * `m.start('quote')`\n",
    "    * `m.span('quote')`\n",
    "3). 在函数`re.sub(pat,repl,str)`的参数repl\n",
    "    * `\\g<quote>`\n",
    "    * `\\g<1>`\n",
    "    * `\\1`"
   ]
  },
  {
   "cell_type": "markdown",
   "metadata": {},
   "source": [
    "**界定符**都是零宽字符, 只表示位置, 没有内容;  \n",
    "`^$`: 表示字符串的开始位置和结束位置(`\\n`所在的位置是结束的位置, 也是开始的位置);  \n",
    "`(?=)`, `(?!=)`,`(?<=)`, `(?<!)`,表示目标之前和之后的环境;  \n"
   ]
  },
  {
   "cell_type": "code",
   "execution_count": 2,
   "metadata": {},
   "outputs": [
    {
     "name": "stdout",
     "output_type": "stream",
     "text": [
      "m.group()  m2.group()  m3.group()\n",
      "---------  ----------  ----------\n",
      "'def'      'egg'       'spam'    \n",
      "\n"
     ]
    }
   ],
   "source": [
    "m = re.search('(?<=abc)def', 'abcdef')\n",
    "m2 = re.search(r'(?<=-)\\w+', 'spam-egg')\n",
    "m3 = re.search(r'\\w+(?=-)', 'spam-egg')\n",
    "%C m.group();m2.group(); m3.group()"
   ]
  },
  {
   "cell_type": "markdown",
   "metadata": {},
   "source": [
    "**正则表达式中的转义字符**:\n",
    ">|字符|描述|\n",
    "|:---|:---|\n",
    "| `\\i` | 使用组编号进行子模式引用 |\n",
    "| \\A | 仅匹配字符串的开始标志 |\n",
    "| \\b | 匹配单词开始和结束时的空白字符串, 单词有单词字符组成, 以空格或其他标点字符结束 |\n",
    "| \\B | 匹配不在单词开始或结尾处的空字符串 |\n",
    "| \\d | 匹配任何十进制数字, r'[0-9] |\n",
    "| \\D | 匹配任何非数字字符, r'[^0-9]' |\n",
    "| \\s | 匹配任何空白字符, r'[\\t\\n\\r\\f\\v]' |\n",
    "| \\S | 匹配任何非空白字符, r'[^ \\t\\n\\r\\f\\v]' |\n",
    "| \\w | 匹配任何单词字符 |\n",
    "| \\W | 匹配任何标点字符(单词字符的补集) |\n",
    "| \\z | 仅匹配字符串的结束标志 |\n",
    "| `\\\\` | 匹配反斜杠本身 |"
   ]
  },
  {
   "cell_type": "markdown",
   "metadata": {},
   "source": [
    "**re模块中的匹配规则**(flags):\n",
    ">| 标志 | 描述 |\n",
    "|------|------|\n",
    "| **A, ACSII** |  执行仅8位的ASCII字符匹配 |\n",
    "| **I, IGNORECASE** |  执行不区分大小写的匹配 |\n",
    "| **L** |  `\\w,\\W,\\b,\\B`与使用地区有关 |\n",
    "| **M, MULTILINE** | 模式匹配将在所有行中执行 |\n",
    "| **S, DOTALL** |  让`.`也可以匹配换行符 |\n",
    "| **X, VERBOSE** |  忽略模式中未转义的空白和注释 |"
   ]
  },
  {
   "cell_type": "markdown",
   "metadata": {},
   "source": [
    "### re函数"
   ]
  },
  {
   "cell_type": "markdown",
   "metadata": {},
   "source": [
    "**re模块中的核心函数** :\n",
    "> 1. **compile**(string,flags):  \n",
    "    * 将模式字符串编译成正则表达式对象;   \n",
    "    * 正则表达式对象可以做其他re函数的参数;\n",
    "2. **escape**(string):  \n",
    "    * 使所有非单词字符都带上反斜杠;\n",
    "3. **findall**(pattern, string, flags):  \n",
    "    * 以列表的形式返回与pat对应的所有未重叠的匹配项,包括空白匹配(\"\");\n",
    "    * **如果模式包含分组, 将以元组的形式返回所有子项**; \n",
    "    * **finditer**: findall的迭代器版本, 迭代器中元素的类型为`Match对象`;\n",
    "4. **match**(pattern, string, flags):  \n",
    "    * 检查str的开头是否出现pat的匹配项;\n",
    "    * 开头出现的话返回Match对象, 不出现的话返回None;  \n",
    "    * **search**: 不光在字符串的开头检查是否出现匹配项, 还会在字符串中的所有位置检查是否出现匹配项;\n",
    "5. **split**(pat,str,maxsplit=0)\n",
    "    * 以pat的匹配项为分割符, 分割字符串;\n",
    "    * maxsplit为最大分割次数, 默认情况下执行所有可能的拆分;\n",
    "6. **sub**(pattern,repl,string,count=0):  \n",
    "    * 使用新串(repl)替换旧串(pat的匹配项);\n",
    "    * count是执行替换的最高次数;\n",
    "    * repl如果是一个字符串, 可使用反向引用(`\\6`)或`\\g<name>`来引用子模式;  \n",
    "    * 如果repl是一个函数, 通过它可将匹配项对象转换成一个新串;  \n",
    "    * **subn**: 以元组的形式返回`替换后的字符串`和`执行替换的次数`;"
   ]
  },
  {
   "cell_type": "markdown",
   "metadata": {},
   "source": [
    "`re.split()`以模式对应的匹配项为分隔符,分割字符串"
   ]
  },
  {
   "cell_type": "code",
   "execution_count": 3,
   "metadata": {},
   "outputs": [
    {
     "name": "stdout",
     "output_type": "stream",
     "text": [
      "['Words', 'words', 'words', '']\n",
      "['Words', ', ', 'words', ', ', 'words', '.', '']\n",
      "['Words', 'words, words.']\n",
      "['0', '3', '9']\n"
     ]
    }
   ],
   "source": [
    "print(re.split(r'\\W+', 'Words, words, words.'))\n",
    "print(re.split(r'(\\W+)', 'Words, words, words.'))\n",
    "print(re.split(r'\\W+', 'Words, words, words.', 1))\n",
    "print(re.split('[a-f]+', '0a3B9', flags=re.IGNORECASE))"
   ]
  },
  {
   "cell_type": "markdown",
   "metadata": {},
   "source": [
    "> * 模式匹配了`.`,按此分割字符串导致出现空白;  \n",
    "* 模式字符串中含有子模式, 输出列表中含有分隔符;  \n",
    "* 指定最大分割次数, 分割一次出现两个片段;\n",
    "* 设立规则, 忽略大小写"
   ]
  },
  {
   "cell_type": "code",
   "execution_count": 4,
   "metadata": {},
   "outputs": [
    {
     "data": {
      "text/plain": [
       "['', '...', 'words', ', ', 'words', '...', '']"
      ]
     },
     "execution_count": 4,
     "metadata": {},
     "output_type": "execute_result"
    }
   ],
   "source": [
    "# 如果在字符串的开头匹配到了分隔符, 分隔符之前会被分割出空白;\n",
    "re.split(r'(\\W+)', '...words, words...')"
   ]
  },
  {
   "cell_type": "markdown",
   "metadata": {},
   "source": [
    "通过`子模式`替换字符串"
   ]
  },
  {
   "cell_type": "code",
   "execution_count": 5,
   "metadata": {},
   "outputs": [
    {
     "data": {
      "text/plain": [
       "'Baked Beans & Spam'"
      ]
     },
     "execution_count": 5,
     "metadata": {},
     "output_type": "execute_result"
    }
   ],
   "source": [
    "# 一般的替换语法\n",
    "re.sub(r'\\sAND\\s', ' & ', 'Baked Beans And Spam', flags=re.IGNORECASE)"
   ]
  },
  {
   "cell_type": "code",
   "execution_count": 6,
   "metadata": {},
   "outputs": [
    {
     "data": {
      "text/plain": [
       "'static PyObject*\\npy_myfunc(void)\\n{'"
      ]
     },
     "execution_count": 6,
     "metadata": {},
     "output_type": "execute_result"
    }
   ],
   "source": [
    "# 子模式替换\n",
    "re.sub(r'def\\s+([a-zA-Z_][a-zA-Z_0-9]*)\\s*\\(\\s*\\):',\n",
    "       r'static PyObject*\\npy_\\1(void)\\n{',\n",
    "       'def myfunc():')"
   ]
  },
  {
   "cell_type": "markdown",
   "metadata": {},
   "source": [
    "> `def\\s+([a-zA-Z_][a-zA-Z_0-9]*)\\s*\\(\\s*\\):`对`def myfunc():`进行了全匹配;  \n",
    "可以**只使用子模式进行替换字符串**: 相当于提取全匹配中的一个子项, 插入到一个模板当中; "
   ]
  },
  {
   "cell_type": "code",
   "execution_count": 7,
   "metadata": {},
   "outputs": [
    {
     "data": {
      "text/plain": [
       "'pro--gram files'"
      ]
     },
     "execution_count": 7,
     "metadata": {},
     "output_type": "execute_result"
    }
   ],
   "source": [
    "# 根据替换规则进行替换\n",
    "def dashrepl(matchobj):\n",
    "    if matchobj.group(0) == '-': return ' '\n",
    "    else: return '-'\n",
    "re.sub('-{1,2}', dashrepl, 'pro----gram-files')"
   ]
  },
  {
   "cell_type": "markdown",
   "metadata": {},
   "source": [
    "> 如果repl是函数的话, 其实是定义了一个操作, 使用该操作, 可以将匹配项按某种规则变为一个新的字符串;  \n",
    "* [>>>]: `nltk.re_show('-{1,2}', 'pro----gram-files')`\n",
    "* [out]: `pro{--}{--}gram{-}files`\n",
    "* [zzz]: `将`-`变为' ', 将`--`变为`-``"
   ]
  },
  {
   "cell_type": "markdown",
   "metadata": {},
   "source": [
    "escape()给所有的标点字符(非单词字符)都无情的砍上一刀;"
   ]
  },
  {
   "cell_type": "code",
   "execution_count": 8,
   "metadata": {},
   "outputs": [
    {
     "name": "stdout",
     "output_type": "stream",
     "text": [
      "[abcdefghijklmnopqrstuvwxyz0123456789_\\!\\#\\$\\%\\&\\'\\*\\+\\-\\.\\^\\`\\|\\~\\:]+\n"
     ]
    }
   ],
   "source": [
    "import string\n",
    "legal_chars = string.ascii_lowercase + string.digits + '_' + \"!#$%&'*+-.^`|~:\"\n",
    "print('[%s]+' % re.escape(legal_chars))"
   ]
  },
  {
   "cell_type": "code",
   "execution_count": 9,
   "metadata": {},
   "outputs": [
    {
     "name": "stdout",
     "output_type": "stream",
     "text": [
      "\\/ .. \\- .. \\+ .. \\*\\* .. \\*\n"
     ]
    }
   ],
   "source": [
    "operators = ['+', '-', '*', '/', '**']\n",
    "print(' .. '.join(map(re.escape, sorted(operators, reverse=True))))\n",
    "# print(' .. '.join([ re.escape(i) for i in sorted(operators,reverse=True)]))"
   ]
  },
  {
   "cell_type": "markdown",
   "metadata": {},
   "source": [
    "> map(func,xlist):  \n",
    "通过`函数func`和`xlist`返回一个新的`ylist`, 两个list之间的元素满足关系: `ylist[i] = func(xlist[i])`;"
   ]
  },
  {
   "cell_type": "markdown",
   "metadata": {},
   "source": [
    "### 正则表达式对象"
   ]
  },
  {
   "cell_type": "markdown",
   "metadata": {},
   "source": [
    "模式字符串被compile编译之后的称为**模式对象**会正则表达式对象, re对象;"
   ]
  },
  {
   "cell_type": "markdown",
   "metadata": {},
   "source": [
    "A. **re对象的属性**:  \n",
    "1). **r.flag**:   \n",
    "    编译正则表达式时使用的flags参数, 0表示没有指定标志;  \n",
    "2). **r.groupindex**:  \n",
    "    返回一个字典, 将`r(?P<id>)`定义的分组名映射到分组编号;  \n",
    "3). **r.pattern**:  \n",
    "    返回模式对象的模式;  \n",
    "B. **re对象的方法**:  \n",
    "    **r.findall**(r.finditer), **r.match**(r.search), **r.split**, **r.sub**(r.subn)与普通re函数的功能一样;"
   ]
  },
  {
   "cell_type": "code",
   "execution_count": 10,
   "metadata": {},
   "outputs": [
    {
     "name": "stdout",
     "output_type": "stream",
     "text": [
      "<_sre.SRE_Match object; span=(0, 1), match='d'>\n",
      "None\n"
     ]
    }
   ],
   "source": [
    "pattern = re.compile(\"d\")\n",
    "print(pattern.search(\"dog\"))     # 在索引0处匹配\n",
    "print(pattern.search(\"dog\", 1,2))  # 在索引1-2至之间找不到匹配项"
   ]
  },
  {
   "cell_type": "markdown",
   "metadata": {},
   "source": [
    "### 匹配项对象"
   ]
  },
  {
   "cell_type": "markdown",
   "metadata": {},
   "source": [
    "由`search()`和`match()`返回的对象叫做**匹配项对象**;  \n",
    "匹配项对象包含关于**分组**和**匹配项位置**的信息;"
   ]
  },
  {
   "cell_type": "markdown",
   "metadata": {},
   "source": [
    "**m.group(g1,g2,...)**:  \n",
    "* 返回匹配项对象的匹配项或者`子项`  \n",
    "* **子项**: 子模式所对应的匹配项叫子项;  "
   ]
  },
  {
   "cell_type": "code",
   "execution_count": 11,
   "metadata": {},
   "outputs": [
    {
     "name": "stdout",
     "output_type": "stream",
     "text": [
      "  m.group(0)    m.group(1)  m.group(2)      m.group(1,2)   \n",
      "--------------  ----------  ----------  -------------------\n",
      "'Isaac Newton'  'Isaac'     'Newton'    ('Isaac', 'Newton')\n",
      "\n",
      "m2.group('first_name')  m2.group('last_name')\n",
      "----------------------  ---------------------\n",
      "'Malcolm'               'Reynolds'           \n",
      "\n"
     ]
    }
   ],
   "source": [
    "m = re.match(r\"(\\w+) (\\w+)\", \"Isaac Newton, physicist\")\n",
    "%C m.group(0); m.group(1); m.group(2); m.group(1,2) \n",
    "\n",
    "m2 = re.match(r\"(?P<first_name>\\w+) (?P<last_name>\\w+)\", \"Malcolm Reynolds\")\n",
    "%C m2.group('first_name'); m2.group('last_name')"
   ]
  },
  {
   "cell_type": "markdown",
   "metadata": {},
   "source": [
    "> 如何引用子项?  \n",
    "* 缺省参数, 或者参数为0, 返回匹配项整体;\n",
    "* 使用数字或者组名`1`表示第一个子项, g1也可以表示第一个匹配项;    \n",
    "* 分组编号或分组名无效时抛出IndexError异常;"
   ]
  },
  {
   "cell_type": "markdown",
   "metadata": {},
   "source": [
    "如果一个组匹配了多次, 只有最后一次匹配的子项可以被应用;  \n",
    "If a group matches multiple times, only the last match is accessible;"
   ]
  },
  {
   "cell_type": "code",
   "execution_count": 12,
   "metadata": {},
   "outputs": [
    {
     "data": {
      "text/plain": [
       "'b3'"
      ]
     },
     "execution_count": 12,
     "metadata": {},
     "output_type": "execute_result"
    }
   ],
   "source": [
    "m = re.match(r\"([a-z][0-9])+\", \"a1b2b3\")  # Matches 3 times.\n",
    "m.group(1)"
   ]
  },
  {
   "cell_type": "markdown",
   "metadata": {},
   "source": [
    "**m.groups(default)**:\n",
    "* 返回一个元组, 其中包含了所有分组对应的子项;\n",
    "* 如果某分组没有匹配到子项(正好匹配了0次), 默认设置其子项为None;"
   ]
  },
  {
   "cell_type": "code",
   "execution_count": 13,
   "metadata": {},
   "outputs": [
    {
     "name": "stdout",
     "output_type": "stream",
     "text": [
      "  m.groups()       m2.groups()      m2.groups('0')\n",
      "--------------     ------------     --------------\n",
      "('24', '1632')     ('24', None)     ('24', '0')   \n",
      "\n"
     ]
    }
   ],
   "source": [
    "m = re.match(r\"(\\d+)\\.(\\d+)\", \"24.1632\")\n",
    "m2 = re.match(r\"(\\d+)\\.?(\\d+)?\", \"24\")\n",
    "%C 5 m.groups(); m2.groups(); m2.groups('0')"
   ]
  },
  {
   "cell_type": "markdown",
   "metadata": {},
   "source": [
    "**m.groupdict**():  \n",
    "* 返回一个字典, 字典的键是组名, 字典的值是组所对应的子项;"
   ]
  },
  {
   "cell_type": "code",
   "execution_count": 14,
   "metadata": {},
   "outputs": [
    {
     "data": {
      "text/plain": [
       "{'first_name': 'Malcolm', 'last_name': 'Reynolds'}"
      ]
     },
     "execution_count": 14,
     "metadata": {},
     "output_type": "execute_result"
    }
   ],
   "source": [
    "m = re.match(r\"(?P<first_name>\\w+) (?P<last_name>\\w+)\", \"Malcolm Reynolds\") \n",
    "m.groupdict()"
   ]
  },
  {
   "cell_type": "markdown",
   "metadata": {},
   "source": [
    "**m.start(group),m.end(group),m.span(group)**:   \n",
    "返回子项或者整体项的开始和结束索引, 或者索引跨度; "
   ]
  },
  {
   "cell_type": "code",
   "execution_count": 15,
   "metadata": {},
   "outputs": [
    {
     "name": "stdout",
     "output_type": "stream",
     "text": [
      "m.start()  m.end()  m.span()  email[:m.start()] + email[m.end():]\n",
      "---------  -------  --------  -----------------------------------\n",
      "7          18       (7, 18)   'tony@tiger.net'                   \n",
      "\n"
     ]
    }
   ],
   "source": [
    "email = \"tony@tiremove_thisger.net\"\n",
    "m = re.search(\"remove_this\", email)\n",
    "%C m.start(); m.end(); m.span(); email[:m.start()] + email[m.end():]"
   ]
  },
  {
   "cell_type": "markdown",
   "metadata": {},
   "source": [
    "**m.re**: 一个正则表达式对象;  \n",
    "**m.string**: 传递给match或search的字符串;  \n",
    "**m.pos, m.endpos**: 传递给search()或match()函数的pos值;  \n",
    "**m.expand**(template): 使用子项替换掉模板中的组名或者组编号;   \n",
    "\n",
    "**m.lastindex,m.lastgroup**:    \n",
    "最后一个捕获组的数字索引或者名称;  \n",
    "`成功`捕获组的最后一个索引或者名字; 如果没有组`成功匹配`将返回None; 如果组名不存在也返回None;  "
   ]
  },
  {
   "cell_type": "markdown",
   "metadata": {},
   "source": [
    "### RE HOWTO"
   ]
  },
  {
   "cell_type": "markdown",
   "metadata": {},
   "source": [
    "source: https://docs.python.org/3/howto/regex.html#regex-howto"
   ]
  },
  {
   "cell_type": "markdown",
   "metadata": {},
   "source": [
    "#### 普通字符和特殊字符"
   ]
  },
  {
   "cell_type": "markdown",
   "metadata": {},
   "source": [
    "A. **普通字符**:  \n",
    "* 只会匹配自己的字符称为普通字符;  \n",
    "* 所有的单词字符都是普通字符: `a-Z`, `_`, `0-9`;  \n",
    "* 标点字符也有可能是普通字符: `@`;  \n",
    "\n",
    "B. **特殊字符**(元字符):  \n",
    "* 特殊字符都来源于标点字符;  \n",
    "* ex:`^`表示字符串的开始位..\n",
    "\n",
    "C. **无宽字符**: 只有位置没有内容的字符;  "
   ]
  },
  {
   "cell_type": "markdown",
   "metadata": {},
   "source": [
    "**指定可选字符集**;  \n",
    "使用元字符`[]`指定可选字符集;  \n",
    "可选字符集中需要注意的字符;  \n",
    "* `-`: 表示字符连续;  \n",
    "* `$`: 特殊字符单做普通字符;  \n",
    "* `^`: 如果`^`是字符集的第一个元素, 表示该字符集将作为字符补集;"
   ]
  },
  {
   "cell_type": "markdown",
   "metadata": {},
   "source": [
    "**`\\` 有两种用途**:  \n",
    "\n",
    "A. 让普通字符变为特殊字符:  \n",
    "   * 一般的控制符: `\\n`表示换行符(成立条件: python);  \n",
    "   * 正则表达式中的控制符: `\\w`表示单词字符(成立条件: re);  \n",
    "\n",
    "B. 让特殊字符变为普通字符:   \n",
    "   * `\\$`, 将元字符变为普通字符;  \n",
    "\n",
    "C. 为了避免出现太多的`/`, 正则表达式必须写成原始字符串的形式`r'...'`"
   ]
  },
  {
   "cell_type": "markdown",
   "metadata": {},
   "source": [
    "**组合元字符`[abc]*`**的含义?\n",
    "在字符集中进行可重复性随机抽样, 抽样次数由`*`决定;  \n",
    "\n",
    "* 抽样次数为0: 匹配空白字符`\"\"`;  \n",
    "* 抽样次数为1: `a`, `b`, `c`;  \n",
    "* 抽样次数为2: `aa`, `ab`, `ac`, ...;  \n",
    "* 抽样次数为3: `aaa`, `abb`, `acb`, `ccc`, ...;"
   ]
  },
  {
   "cell_type": "markdown",
   "metadata": {},
   "source": [
    "####  正则表达式对象及其方法, match对象及其方法"
   ]
  },
  {
   "cell_type": "markdown",
   "metadata": {},
   "source": [
    "match和search用于`查看匹配项是否存在`;  "
   ]
  },
  {
   "cell_type": "code",
   "execution_count": 16,
   "metadata": {},
   "outputs": [
    {
     "name": "stdout",
     "output_type": "stream",
     "text": [
      "                p                     p.match(\"\")\n",
      "---------------------------------     -----------\n",
      "re.compile(r'[a-z]+', re.UNICODE)     None       \n",
      "\n",
      "                         m                              m.group()     m.span()\n",
      "---------------------------------------------------     ---------     --------\n",
      "<_sre.SRE_Match object; span=(0, 5), match='tempo'>     'tempo'       (0, 5)  \n",
      "\n",
      "                          m2                            m2.group()  m2.span()\n",
      "------------------------------------------------------  ----------  ---------\n",
      "<_sre.SRE_Match object; span=(4, 11), match='message'>  'message'   (4, 11)  \n",
      "\n"
     ]
    }
   ],
   "source": [
    "# 正则表达式对象\n",
    "p = re.compile('[a-z]+') \n",
    "\n",
    "# p无法匹配空白\n",
    "%C 5 p; p.match(\"\") \n",
    "\n",
    "m = p.match('tempo')\n",
    "%C 5 m; m.group(); m.span() \n",
    "\n",
    "# match与search的区别\n",
    "m2 = p.search('::: message')\n",
    "%C m2; m2.group();m2.span()"
   ]
  },
  {
   "cell_type": "markdown",
   "metadata": {},
   "source": [
    "> * match返回None对象或者匹配项对象;  \n",
    "* group()返回匹配项;  \n",
    "* span()回匹配项对象的索引跨度;  \n",
    "* match()只会在字符串开头查找匹配项, 而search会在所有位置查找;\n",
    "* m的start只能是0, 而m2的start是第一个匹配项的位置;"
   ]
  },
  {
   "cell_type": "markdown",
   "metadata": {},
   "source": [
    "findall和finditer用于`列出所有的匹配项或匹配项属性`;   \n",
    "findall()返回匹配项列表, finditer()返回关于`匹配项对象`的迭代器;  "
   ]
  },
  {
   "cell_type": "code",
   "execution_count": 17,
   "metadata": {},
   "outputs": [
    {
     "data": {
      "text/plain": [
       "['12', '11', '10']"
      ]
     },
     "execution_count": 17,
     "metadata": {},
     "output_type": "execute_result"
    }
   ],
   "source": [
    "p = re.compile(r'\\d+')\n",
    "p.findall('12 drummers drumming, 11 pipers piping, 10 lords a-leaping')"
   ]
  },
  {
   "cell_type": "code",
   "execution_count": 18,
   "metadata": {},
   "outputs": [
    {
     "name": "stdout",
     "output_type": "stream",
     "text": [
      "type of finditer():  <callable_iterator object at 0x00000268F3127400>\n",
      "`type, span, match(group)`:  <_sre.SRE_Match object; span=(0, 2), match='12'>\n",
      "`type, span, match(group)`:  <_sre.SRE_Match object; span=(22, 24), match='11'>\n",
      "`type, span, match(group)`:  <_sre.SRE_Match object; span=(29, 31), match='10'>\n"
     ]
    }
   ],
   "source": [
    "iterator = p.finditer('12 drummers drumming, 11 ... 10 ...')\n",
    "print(\"type of finditer(): \",iterator)\n",
    "for i, match in enumerate(iterator):\n",
    "    print(\"`type, span, match(group)`: \", match )"
   ]
  },
  {
   "cell_type": "markdown",
   "metadata": {},
   "source": [
    "#### 如何使正则表达式的编写变得更加简单?"
   ]
  },
  {
   "cell_type": "markdown",
   "metadata": {},
   "source": [
    "指定re的flags参数为`re.VERBOSE`:  \n",
    "* re模式中的空格将被编译器忽略;  \n",
    "* 除非该空格位于字符类中或者其前面带有未转义的反斜杠;  \n",
    "* 因此可以随意的缩进RE, 插入注释;"
   ]
  },
  {
   "cell_type": "code",
   "execution_count": 19,
   "metadata": {},
   "outputs": [],
   "source": [
    "charref1 = re.compile(\"&#(0[0-7]+\"\n",
    "                     \"|[0-9]+\"\n",
    "                     \"|x[0-9a-fA-F]+);\")\n",
    "\n",
    "charref2 = re.compile(r\"\"\"\n",
    "                     &[#]                # Start of a numeric entity reference\n",
    "                     (\n",
    "                       0[0-7]+           # Octal form\n",
    "                       | [0-9]+          # Decimal form\n",
    "                       | x[0-9a-fA-F]+   # Hexadecimal form\n",
    "                      )\n",
    "                     ;                   # Trailing semicolon\n",
    "                        \"\"\", re.VERBOSE)"
   ]
  },
  {
   "cell_type": "markdown",
   "metadata": {},
   "source": [
    "`redemo.py`: 编写`re`表达式的辅助工具;  \n",
    "由tkinter编写(Python界面处理模块), 可由Python直接打开;  \n",
    "https://github.com/python/cpython/blob/3.7/Tools/demo/redemo.py"
   ]
  },
  {
   "cell_type": "markdown",
   "metadata": {},
   "source": [
    "#### 关于特殊字符的细节"
   ]
  },
  {
   "cell_type": "markdown",
   "metadata": {},
   "source": [
    "`^`表示原始字符串的开头, 而不是表示目标的开头"
   ]
  },
  {
   "cell_type": "code",
   "execution_count": 20,
   "metadata": {},
   "outputs": [
    {
     "name": "stdout",
     "output_type": "stream",
     "text": [
      "<_sre.SRE_Match object; span=(0, 4), match='From'>\n",
      "None\n"
     ]
    }
   ],
   "source": [
    "# 在原始字符串的开头匹配`Form`\n",
    "print(re.search('^From', 'From Here to Eternity'))\n",
    "print(re.search('^From', 'Reciting From Memory'))"
   ]
  },
  {
   "cell_type": "markdown",
   "metadata": {},
   "source": [
    "`$`匹配原始字符串的末尾, `\\n`所占的位置才是字符串的末尾"
   ]
  },
  {
   "cell_type": "code",
   "execution_count": 21,
   "metadata": {},
   "outputs": [
    {
     "name": "stdout",
     "output_type": "stream",
     "text": [
      "<_sre.SRE_Match object; span=(6, 7), match='}'>\n",
      "None\n"
     ]
    }
   ],
   "source": [
    "# 原始字符串的末尾不见换行符的话, 原始字符串的末尾就是`$`的位置\n",
    "print(re.search('}$', '{block}'))  \n",
    "print(re.search('}$', '{block} '))"
   ]
  },
  {
   "cell_type": "code",
   "execution_count": 22,
   "metadata": {},
   "outputs": [
    {
     "name": "stdout",
     "output_type": "stream",
     "text": [
      "<_sre.SRE_Match object; span=(6, 7), match='}'>\n",
      "None\n",
      "<_sre.SRE_Match object; span=(4, 5), match='X'>\n"
     ]
    }
   ],
   "source": [
    "# 原始字符串的末尾可见换行符的话, `\\n`所占的位置就是`$`的位置(`$`的位置不是`\\n`之后或者`\\n`之前的那一位)\n",
    "print(re.search('}$', '{block}\\n')) \n",
    "print(re.search('}$', '{block}\\n ')) \n",
    "print(re.search('^X', 'A\\nB\\nX', re.MULTILINE))"
   ]
  },
  {
   "cell_type": "markdown",
   "metadata": {},
   "source": [
    "> 原始字符串的末尾如果没有换行符, `re`会认为其末尾就是换行符, 而`$`永远表示换行符(`\\n`)所占的那一位;  \n",
    "`^`也代表换行符所占的那一位么;"
   ]
  },
  {
   "cell_type": "code",
   "execution_count": null,
   "metadata": {},
   "outputs": [],
   "source": []
  },
  {
   "cell_type": "markdown",
   "metadata": {},
   "source": [
    "设置目标所处的前后环境: `\\b`;  \n",
    "* `\\b`是单词与单词的边界, 是一个**零宽界定符**(zero-width-assertion), 只用于设置目标所处的环境, 不能指代任何字符, 常常用于分词;  \n",
    "* `\\W`也可用于分词, 但是`\\W`可以明确的指代一个标点, 使得分词常常带着标点;  "
   ]
  },
  {
   "cell_type": "code",
   "execution_count": 23,
   "metadata": {},
   "outputs": [
    {
     "name": "stdout",
     "output_type": "stream",
     "text": [
      "<_sre.SRE_Match object; span=(3, 8), match='class'>\n"
     ]
    }
   ],
   "source": [
    "# class的两侧不得出现单词字符\n",
    "p = re.compile(r'\\bclass\\b')\n",
    "print(p.search('no class at all'))"
   ]
  },
  {
   "cell_type": "code",
   "execution_count": 24,
   "metadata": {},
   "outputs": [
    {
     "name": "stdout",
     "output_type": "stream",
     "text": [
      "None\n"
     ]
    }
   ],
   "source": [
    "# class左侧没有空白字符, 所以没有匹配项\n",
    "print(p.search('the declassified algorithm'))"
   ]
  },
  {
   "cell_type": "code",
   "execution_count": 25,
   "metadata": {},
   "outputs": [
    {
     "name": "stdout",
     "output_type": "stream",
     "text": [
      "<_sre.SRE_Match object; span=(6, 11), match='class'>\n"
     ]
    }
   ],
   "source": [
    "# class两侧有标点字符可以进行匹配->`\\b`是单词与单词之间的边界空白符, 不是单词字符与标点字符之间的空白边界符\n",
    "# 通过`\\b`进行分词不会带标点\n",
    "print(p.search('one **class** is'))"
   ]
  },
  {
   "cell_type": "code",
   "execution_count": 26,
   "metadata": {},
   "outputs": [
    {
     "name": "stdout",
     "output_type": "stream",
     "text": [
      "<_sre.SRE_Match object; span=(3, 12), match=' **class*'>\n"
     ]
    }
   ],
   "source": [
    "# 通过`\\W*`进行分词会带标点\n",
    "p2 = re.compile(r'\\W*class\\W')\n",
    "print(p2.search('one **class** is'))"
   ]
  },
  {
   "cell_type": "markdown",
   "metadata": {},
   "source": [
    "> 使用`\\b`和`\\W`分词时的区别?\n",
    "* `\\b`是一个界定符, 表示单词字符之间的边界, 其字面量是空白的;  \n",
    "* `\\b`只是设置匹配项的环境规则, 不可能匹配到字符; \n",
    "* `\\W`是一个有字面量的标点字符, 会将与其对应的字符反映到匹配项中;"
   ]
  },
  {
   "cell_type": "code",
   "execution_count": 27,
   "metadata": {},
   "outputs": [
    {
     "name": "stdout",
     "output_type": "stream",
     "text": [
      "None\n",
      "<_sre.SRE_Match object; span=(3, 8), match='class'>\n"
     ]
    }
   ],
   "source": [
    "# 不在原始字符串中的`\\b`表示Python中的退格符\n",
    "p2 = re.compile('\\bclass\\b')\n",
    "print(p2.search('no class at all'))\n",
    "p3 = re.compile('\\\\bclass\\\\b')\n",
    "print(p3.search('no class at all'))"
   ]
  },
  {
   "cell_type": "markdown",
   "metadata": {},
   "source": [
    "#### 如何在原始字符串中解析不同的兴趣点?"
   ]
  },
  {
   "cell_type": "markdown",
   "metadata": {},
   "source": [
    "* 对re进行分组处理, 让每个分组分别对应于不同的兴趣点;    \n",
    "* 进行分组解析的前提是`使用正则表达式完整的匹配原始字符串`;"
   ]
  },
  {
   "cell_type": "markdown",
   "metadata": {},
   "source": [
    "使用正则表达式完整的匹配原始字符串"
   ]
  },
  {
   "cell_type": "code",
   "execution_count": 28,
   "metadata": {},
   "outputs": [
    {
     "name": "stdout",
     "output_type": "stream",
     "text": [
      "(0, 10)\n"
     ]
    }
   ],
   "source": [
    "p = re.compile('(ab)*')\n",
    "print(p.match('ababababab').span())"
   ]
  },
  {
   "cell_type": "markdown",
   "metadata": {},
   "source": [
    ">* `()*`的含义: 零次或多次重复`ab`;  \n",
    "* `(ab)*`完整的匹配了'ababababab', 所以其跨度等于字符串的长度;"
   ]
  },
  {
   "cell_type": "markdown",
   "metadata": {},
   "source": [
    "**子模式的匹配项对象**也有group(),groups(), span()等方法;  \n",
    "接收**组名**作为参数, 返回子项的属性;  \n",
    "不接收组名作为参数, 返回匹配项整体的属性;"
   ]
  },
  {
   "cell_type": "code",
   "execution_count": 29,
   "metadata": {},
   "outputs": [
    {
     "name": "stdout",
     "output_type": "stream",
     "text": [
      "m.group(0)  m.group(1)  m.group(2)    m.group(2,1,2)    m.groups() \n",
      "----------  ----------  ----------  -----------------  ------------\n",
      "'abcd'      'abc'       'b'         ('b', 'abc', 'b')  ('abc', 'b')\n",
      "\n"
     ]
    }
   ],
   "source": [
    "p = re.compile('(a(b)c)d')\n",
    "m = p.match('abcd')\n",
    "%C m.group(0); m.group(1); m.group(2); m.group(2,1,2); m.groups()"
   ]
  },
  {
   "cell_type": "markdown",
   "metadata": {},
   "source": [
    "> * 左括号`(`的`第次`就的组所对应的编号;\n",
    "* group(0): 整个模式的匹配项, 匹配项整体;    \n",
    "* group(2,1): group可以一次接收多个组号;  \n",
    "* groups(): 将`所有组的匹配项`合并为一个元组, 将所有子项打包成一个元组;"
   ]
  },
  {
   "cell_type": "markdown",
   "metadata": {},
   "source": [
    "模式的反向引用: **`\\1`不是模式的复制, 而是对子项的复制**;"
   ]
  },
  {
   "cell_type": "code",
   "execution_count": 30,
   "metadata": {},
   "outputs": [
    {
     "name": "stdout",
     "output_type": "stream",
     "text": [
      "the the\n",
      "Paris in\n"
     ]
    }
   ],
   "source": [
    "p1 = re.compile(r'\\b(\\w+)\\s+\\1\\b')\n",
    "p2 = re.compile(r'\\b(\\w+)\\s+(\\w+)\\b')\n",
    "print(p1.search('Paris in the the spring').group(0))\n",
    "print(p2.search('Paris in the the spring').group(0))"
   ]
  },
  {
   "cell_type": "markdown",
   "metadata": {},
   "source": [
    "> * 反向引用时必须使用原始字符串;  \n",
    "* 反向引用中, 引用的是模式的匹配项, 而不是模式本身;"
   ]
  },
  {
   "cell_type": "markdown",
   "metadata": {},
   "source": [
    "`(?:...)`: 定义一个**无捕获组**, 只用于匹配`()`内的模式, 但是不对其进行引用;   \n",
    "`(?:...)`对于修改已有组尤其有用, 因为你可以不用改变所有其他组号的情况下添加一个新组;"
   ]
  },
  {
   "cell_type": "code",
   "execution_count": 31,
   "metadata": {},
   "outputs": [
    {
     "name": "stdout",
     "output_type": "stream",
     "text": [
      "m.groups()  m2.groups()\n",
      "----------  -----------\n",
      "('c',)      ('a',)     \n",
      "\n",
      "m_nc.groups()  m2_nc.groups()\n",
      "-------------  --------------\n",
      "()             ()            \n",
      "\n"
     ]
    }
   ],
   "source": [
    "m = re.match(\"([abc])+\", \"abcd\")\n",
    "m2 = re.match(\"([abc])+?\", \"abcd\")\n",
    "m_nc = re.match(\"(?:[abc])+\", \"abc\")\n",
    "m2_nc = re.match(\"(?:[abc])+?\", \"abcd\")\n",
    "\n",
    "%C m.groups(); m2.groups();; m_nc.groups(); m2_nc.groups()"
   ]
  },
  {
   "cell_type": "markdown",
   "metadata": {},
   "source": [
    "> * `([abc])+`相比于`[abc]+`只是添加了一层分组, 而并没有改变`[abc]+`可随机重复取样的特性;   \n",
    "* `+`的贪婪模式, 会导致模式的匹配项为`abc`, 但是与分组对应的匹配项应该是哪个字母呢? **与分组对应的匹配项是最后一个字母**;  \n",
    "    * `+`=1时,取`([])`为a(才可以与原始字符串匹配,贪婪);  \n",
    "    * `+`=2时,取`([])`为b(才可以与原始字符串匹配,贪婪);\n",
    "    * `+`=3时,取`([])`为c(贪婪); 但是此时匹配过程必须终止, 因为原始字符串中没有可匹配的字符了; 此时子模式`()`对应的最后一个字母是c;  \n",
    "* `+?`是非贪婪模式, `([abc])+`会尽可能少的匹配字符, 只匹配一个字符最少, 就是`a`;\n",
    "\n",
    ">2. `(?:[abc])+`和`(?:[abc])+?`是一个非捕获组, 只设置总匹配项被匹配的条件, 但是忽略子匹配项的输出;"
   ]
  },
  {
   "cell_type": "markdown",
   "metadata": {},
   "source": [
    "`(?P<name>...)`: 定义一个**命名组**, 使用`(?P=name)`可对命名组的进行逆向引用;  \n",
    "`(\\b\\w+)\\s+\\1`==`(?P<word>\\b\\w+)\\s+(?P=word)`"
   ]
  },
  {
   "cell_type": "code",
   "execution_count": 32,
   "metadata": {},
   "outputs": [
    {
     "name": "stdout",
     "output_type": "stream",
     "text": [
      "m.group('word')     m.groups()      m.groupdict()  \n",
      "---------------     ----------     ----------------\n",
      "'Lots'              ('Lots',)      {'word': 'Lots'}\n",
      "\n",
      "m2.group('word')       m2.groups()           m2.groupdict()    \n",
      "----------------     ---------------     ----------------------\n",
      "'(((( Lots '         ('(((( Lots ',)     {'word': '(((( Lots '}\n",
      "\n"
     ]
    }
   ],
   "source": [
    "p = re.compile(r'(?P<word>\\b\\w+\\b)')\n",
    "p2 = re.compile(r'(?P<word>\\W*\\w+\\W*)')\n",
    "\n",
    "m = p.search('(((( Lots of punctuation )))')\n",
    "m2 = p2.search('(((( Lots of punctuation )))')\n",
    "%C 5 m.group('word'); m.groups(); m.groupdict();; m2.group('word'); m2.groups();m2.groupdict()"
   ]
  },
  {
   "cell_type": "markdown",
   "metadata": {},
   "source": [
    "**前向界定符**,也是零宽定界符, 包括**前项肯定定界符**`(?=...)`和**前项否定定界符**`(?!..)`;  "
   ]
  },
  {
   "cell_type": "markdown",
   "metadata": {},
   "source": [
    "匹配所有扩展名为`.bat`的文件, 但不能匹配`.bat*`的文件?"
   ]
  },
  {
   "cell_type": "code",
   "execution_count": 33,
   "metadata": {},
   "outputs": [
    {
     "name": "stdout",
     "output_type": "stream",
     "text": [
      "[]\n",
      "['babr.bat*']\n",
      "['@br.exe']\n",
      "['?.txt']\n",
      "['br.br']\n",
      "['02 br.clc']\n"
     ]
    }
   ],
   "source": [
    "pat = r'.*\\.(?!bat$).*$'\n",
    "strings = ['acbr.bat', 'babr.bat*', '@br.exe', '?.txt', 'br.br', '02 br.clc' ]\n",
    "for string in strings:\n",
    "    f = re.findall(pat,string)\n",
    "    print(f)"
   ]
  },
  {
   "cell_type": "markdown",
   "metadata": {},
   "source": [
    "**`.*\\.(?!bat$).*$`**:\n",
    "\n",
    "   * `.*`匹配任意多个单词字符或者标点字符的组合;  \n",
    "   * `\\.`: 匹配一个圆点符号, 等于`[.]`;  \n",
    "   * `(?!bat)`: 前项否定定界符, 只有如今字符不是`bat`时才会继续匹配其他字符;   \n",
    "   * `(?!bat$)`: 加上`$`之后表示, 该处一直到行尾不是`bat`的话, 才会继续寻找匹配字符; 从而使的`.batch`会得到匹配, 而`.bat`不会得到匹配;  \n",
    "   * `.*$`: 继续寻找匹配字符, 直到行尾;  \n",
    "   * `$`: 结束寻找, 如果找到模式的所有匹配字符, 就宣称找到了匹配项; 如果某一字符找不到, 就在该字符处终止寻找, 宣称没有匹配项;  "
   ]
  },
  {
   "cell_type": "markdown",
   "metadata": {},
   "source": [
    "**描述匹配项的寻找过程**:  \n",
    "根据模式的字符顺序, 一一与字符串中的字符进行对比;  \n",
    "如果**模式字符**与**原始字符串字符**对应, 则接着判断下一个**模式字符**是否与**原始字符**对应;  \n",
    "直到某个模式字符与字符串字符无法对应, 则宣称**找不到匹配项**;  \n",
    "或者模式字符与字符串的最后一个末尾符对应, 则宣称**找到匹配项**; "
   ]
  },
  {
   "cell_type": "markdown",
   "metadata": {},
   "source": [
    "**split()的模式参数中, 如果含有子模式** "
   ]
  },
  {
   "cell_type": "code",
   "execution_count": 34,
   "metadata": {},
   "outputs": [
    {
     "name": "stdout",
     "output_type": "stream",
     "text": [
      "['This', 'is', 'a', 'test', '']\n",
      "['This', '... ', 'is', ' ', 'a', ' ', 'test', '.', '']\n"
     ]
    }
   ],
   "source": [
    "p = re.compile(r'\\W+')\n",
    "p2 = re.compile(r'(\\W+)')\n",
    "print(p.split('This... is a test.'))\n",
    "print(p2.split('This... is a test.'))"
   ]
  },
  {
   "cell_type": "markdown",
   "metadata": {},
   "source": [
    "> maxsplit是分割符的个数, 而不是分割之后碎片的个数;  \n",
    "如果**捕获括号, 出现在split函数的模式参数中**, 分割符会随着分割片段一并输出;"
   ]
  },
  {
   "cell_type": "markdown",
   "metadata": {},
   "source": [
    "#### 字符串查找与替换的re实现(Ctrl+F,Ctrl+H)"
   ]
  },
  {
   "cell_type": "code",
   "execution_count": 35,
   "metadata": {},
   "outputs": [
    {
     "data": {
      "text/plain": [
       "'colour socks and colour shoes'"
      ]
     },
     "execution_count": 35,
     "metadata": {},
     "output_type": "execute_result"
    }
   ],
   "source": [
    "# 用单词 \"colour\" 替换颜色名\n",
    "p = re.compile( '(blue|white|red)')\n",
    "p.sub( 'colour', 'blue socks and red shoes')"
   ]
  },
  {
   "cell_type": "code",
   "execution_count": 36,
   "metadata": {},
   "outputs": [
    {
     "name": "stdout",
     "output_type": "stream",
     "text": [
      "('colour socks and colour shoes', 2)\n",
      "('no colours at all', 0)\n"
     ]
    }
   ],
   "source": [
    "# subn() 方法作用一样，但返回的是包含新字符串和替换执行次数的两元组\n",
    "p = re.compile( '(blue|white|red)')\n",
    "print(p.subn( 'colour', 'blue socks and red shoes'))\n",
    "print(p.subn( 'colour', 'no colours at all'))"
   ]
  },
  {
   "cell_type": "markdown",
   "metadata": {},
   "source": [
    "> subn()与sub的作用一样, 只不过subn会同时返回执行替换的次数;"
   ]
  },
  {
   "cell_type": "markdown",
   "metadata": {},
   "source": [
    "findall能否匹配**空白字符**"
   ]
  },
  {
   "cell_type": "code",
   "execution_count": 37,
   "metadata": {},
   "outputs": [
    {
     "name": "stdout",
     "output_type": "stream",
     "text": [
      "re.findall(p, 'abxd')     re.findall(p2, 'abxd')     re.subn(p,'-','abxd')\n",
      "---------------------     ----------------------     ---------------------\n",
      "['', '', 'x', '', '']     ['', '', '', '', '']       ('-a-b-d-', 4)       \n",
      "\n",
      "{}a{}b{x}d{}\n"
     ]
    }
   ],
   "source": [
    "p = re.compile('x?')\n",
    "p2 = re.compile('x??')\n",
    "\n",
    "%C 5 re.findall(p, 'abxd');re.findall(p2, 'abxd'); re.subn(p,'-','abxd')\n",
    "nltk.re_show('x?','abxd')"
   ]
  },
  {
   "cell_type": "markdown",
   "metadata": {},
   "source": [
    "> 包括空白字符在内, findall总共发现5个匹配项?   \n",
    "* `re.findall(p, 'abxd')`只会忽略匹配项之前的空白字符(贪婪,匹配了空白和x,只显示x), `{1}a{2}b{x,3}{4}d{5}`;  \n",
    "* `re.findall(p2, 'abxd')`会忽略x而不会忽略空白, `{1}a{2}b{3}x{4}d{5}` ;\n",
    "* 空白项只有在它没有紧挨着前一个匹配项时才会被替换掉: `{-}a{-}b{x:-}{X}d{-}`;   \n",
    "* `re_show()`和`re.subn()`会忽略匹配项前后的两个空白字符;  "
   ]
  },
  {
   "cell_type": "code",
   "execution_count": 38,
   "metadata": {},
   "outputs": [
    {
     "name": "stdout",
     "output_type": "stream",
     "text": [
      "re.findall(r'.*', 'ABCD')  re.findall(r'.*$', 'ABCD')  re.findall(r'^.*', 'ABCD')\n",
      "-------------------------  --------------------------  --------------------------\n",
      "['ABCD', '']               ['ABCD', '']                ['ABCD']                  \n",
      "\n"
     ]
    }
   ],
   "source": [
    "%C re.findall(r'.*', 'ABCD'); re.findall(r'.*$', 'ABCD'); re.findall(r'^.*', 'ABCD')"
   ]
  },
  {
   "cell_type": "markdown",
   "metadata": {},
   "source": [
    "> * findall本身就会忽略匹配项之前的空白字符, 所以`^`和匹配项之间不会出现空白字符, 匹配项之后可以匹配空白字符; \n",
    "* 设置`^`之后, 说明匹配项只能出现在字符串的开头, 所以不再匹配匹配项之后的空白字符;  \n",
    "* 不管`$`字符有木有出现在模式的结尾, 匹配项和`$`之间肯定会出现空白字符;  "
   ]
  },
  {
   "cell_type": "markdown",
   "metadata": {},
   "source": [
    "将字符串中的`section`转换为`subsection`"
   ]
  },
  {
   "cell_type": "code",
   "execution_count": 39,
   "metadata": {},
   "outputs": [
    {
     "data": {
      "text/plain": [
       "'subsection{First} subsection{second}'"
      ]
     },
     "execution_count": 39,
     "metadata": {},
     "output_type": "execute_result"
    }
   ],
   "source": [
    "p = re.compile('section{ ( [^}]* ) }', re.VERBOSE)\n",
    "p.sub(r'subsection{\\1}','section{First} section{second}')"
   ]
  },
  {
   "cell_type": "code",
   "execution_count": 40,
   "metadata": {},
   "outputs": [],
   "source": [
    "p = re.compile('section{ (?P<name> [^}]* ) }', re.VERBOSE)"
   ]
  },
  {
   "cell_type": "code",
   "execution_count": 41,
   "metadata": {},
   "outputs": [
    {
     "data": {
      "text/plain": [
       "'subsection{First}'"
      ]
     },
     "execution_count": 41,
     "metadata": {},
     "output_type": "execute_result"
    }
   ],
   "source": [
    "p.sub(r'subsection{\\1}','section{First}')"
   ]
  },
  {
   "cell_type": "code",
   "execution_count": 42,
   "metadata": {},
   "outputs": [
    {
     "data": {
      "text/plain": [
       "'subsection{First}'"
      ]
     },
     "execution_count": 42,
     "metadata": {},
     "output_type": "execute_result"
    }
   ],
   "source": [
    "p.sub(r'subsection{\\g<1>}','section{First}')"
   ]
  },
  {
   "cell_type": "code",
   "execution_count": 43,
   "metadata": {},
   "outputs": [
    {
     "data": {
      "text/plain": [
       "'subsection{First}'"
      ]
     },
     "execution_count": 43,
     "metadata": {},
     "output_type": "execute_result"
    }
   ],
   "source": [
    "p.sub(r'subsection{\\g<name>}','section{First}')"
   ]
  },
  {
   "cell_type": "markdown",
   "metadata": {},
   "source": [
    "使用**替换函数repl_func**将十进制翻译成十六进制"
   ]
  },
  {
   "cell_type": "code",
   "execution_count": 44,
   "metadata": {},
   "outputs": [
    {
     "data": {
      "text/plain": [
       "'Call 0xffd2 for printing, 0xc000 for user code.'"
      ]
     },
     "execution_count": 44,
     "metadata": {},
     "output_type": "execute_result"
    }
   ],
   "source": [
    "def hexrepl( match ):\n",
    "    \"Return the hex string for a decimal number\"\n",
    "    value = int( match.group() )\n",
    "    return hex(value)\n",
    "p = re.compile(r'\\d+')\n",
    "p.sub( hexrepl, 'Call 65490 for printing, 49152 for user code.') "
   ]
  },
  {
   "cell_type": "code",
   "execution_count": 45,
   "metadata": {},
   "outputs": [
    {
     "name": "stdout",
     "output_type": "stream",
     "text": [
      "65490: 0xffd2 \n",
      "49152: 0xc000 \n"
     ]
    }
   ],
   "source": [
    "for match in re.finditer( r'\\d+', 'Call 65490 ... 49152 ...'):   \n",
    "    print(\"{}: {} \".format(match.group(), hexrepl(match)))"
   ]
  },
  {
   "cell_type": "markdown",
   "metadata": {},
   "source": [
    "> 当参数`repl`是一个函数时, sub的内部进行了什么样的操作?  \n",
    "* 调用finditer(), 返回所有的模式项对象;  \n",
    "* 将模式项对象分别作为repl()的参数, 计算一个新的字符串;  \n",
    "* 用新的字符串替换相应原始对象中的旧字符串;"
   ]
  },
  {
   "cell_type": "markdown",
   "metadata": {},
   "source": [
    "#### 除了RE有没有更好的选择"
   ]
  },
  {
   "cell_type": "markdown",
   "metadata": {},
   "source": [
    "在使用 re 模块之前, 先考虑一下你的问题是否可以用更快,更简单的字符串方法来解决; \n",
    "例如, 将文本中的`begins`替换成 `starts`, 不需要使用复杂的正则表达式:  "
   ]
  },
  {
   "cell_type": "code",
   "execution_count": 46,
   "metadata": {},
   "outputs": [
    {
     "data": {
      "text/plain": [
       "'Night gathers, and now my watch starts.'"
      ]
     },
     "execution_count": 46,
     "metadata": {},
     "output_type": "execute_result"
    }
   ],
   "source": [
    "s = 'Night gathers, and now my watch begins.'\n",
    "s.replace('begins', 'starts')"
   ]
  },
  {
   "cell_type": "markdown",
   "metadata": {},
   "source": [
    "> 从一个字符串中删除单个字符或用另一个字符来替代它, 使用translate()能够简单的实现这两个任务;"
   ]
  },
  {
   "cell_type": "markdown",
   "metadata": {},
   "source": [
    "#### 正则表达式的贪婪模式和懒惰模式"
   ]
  },
  {
   "cell_type": "code",
   "execution_count": 47,
   "metadata": {},
   "outputs": [
    {
     "name": "stdout",
     "output_type": "stream",
     "text": [
      "len(s)  re.match('<.*>', s).span()  re.match('<.*?>', s).span()\n",
      "------  --------------------------  ---------------------------\n",
      "32      (0, 32)                     (0, 6)                     \n",
      "\n",
      "   re.match('<.*>', s).group()      re.match('<.*?>', s).group()\n",
      "----------------------------------  ----------------------------\n",
      "'<html><head><title>Title</title>'  '<html>'                    \n",
      "\n"
     ]
    }
   ],
   "source": [
    "s = '<html><head><title>Title</title>'\n",
    "%C len(s); re.match('<.*>', s).span();re.match('<.*?>', s).span();; re.match('<.*>', s).group(); re.match('<.*?>', s).group()"
   ]
  },
  {
   "cell_type": "markdown",
   "metadata": {},
   "source": [
    "### RE Examples"
   ]
  },
  {
   "cell_type": "markdown",
   "metadata": {},
   "source": [
    "#### 查找对牌"
   ]
  },
  {
   "cell_type": "code",
   "execution_count": 48,
   "metadata": {},
   "outputs": [],
   "source": [
    "def displaymatch(match):\n",
    "    if match is None:\n",
    "        return None\n",
    "    return '<Match: %r, groups=%r>' % (match.group(), match.groups())"
   ]
  },
  {
   "cell_type": "code",
   "execution_count": 49,
   "metadata": {},
   "outputs": [
    {
     "name": "stdout",
     "output_type": "stream",
     "text": [
      "<Match: 'akt5q', groups=()>\n",
      "None\n",
      "<Match: '727ak', groups=()>\n"
     ]
    }
   ],
   "source": [
    "# 查看扑克牌是否有效\n",
    "valid = re.compile(r\"^[a2-9tjqk]{5}$\")\n",
    "print(displaymatch(valid.match(\"akt5q\"))) #有效\n",
    "print(displaymatch(valid.match(\"akt5e\"))) #无效\n",
    "print(displaymatch(valid.match(\"727ak\"))) #有效-对7"
   ]
  },
  {
   "cell_type": "code",
   "execution_count": 50,
   "metadata": {},
   "outputs": [
    {
     "name": "stdout",
     "output_type": "stream",
     "text": [
      "<Match: '717', groups=('7',)>\n",
      "None\n",
      "<Match: '354aa', groups=('a',)>\n"
     ]
    }
   ],
   "source": [
    "#查看是否存在对牌\n",
    "pair = re.compile(r\".*(.).*\\1\") \n",
    "print(displaymatch(pair.match(\"717ak\"))) #有对\n",
    "print(displaymatch(pair.match(\"718ak\"))) # 无对\n",
    "print(displaymatch(pair.match(\"354aa\"))) #有对"
   ]
  },
  {
   "cell_type": "markdown",
   "metadata": {},
   "source": [
    "<font color=red size=6> $$1 </font>"
   ]
  },
  {
   "cell_type": "markdown",
   "metadata": {},
   "source": [
    "#### 模拟 scanf()"
   ]
  },
  {
   "cell_type": "markdown",
   "metadata": {},
   "source": [
    "> python中没有C中的`scanf(\"%d %d\",&a,&b)`;  \n",
    "但是使用RE可以在Python中模拟出scanf()的功能:\n",
    "\n",
    "> | scanf() | RE |\n",
    "|:--------|:-----------------------------|\n",
    "| scanf() Token | Regular Expression |\n",
    "| %c | . |\n",
    "| %5c | .{5} |\n",
    "| %d | [-+]?\\d+ |\n",
    "| %e, %E, %f, %g | [-+]?(\\d+(\\.\\d*)? &#124; \\.\\d+)([eE][-+]?\\d+)? |\n",
    "| %i | [-+]?(0[xX][\\dA-Fa-f]+ &#124; 0[0-7]* &#124; \\d+) |\n",
    "| %o | [-+]?[0-7]+ |\n",
    "| %s | \\S+ |\n",
    "| %u | \\d+ |\n",
    "| %x, %X | [-+]?(0[xX])?[\\dA-Fa-f]+ |"
   ]
  },
  {
   "cell_type": "markdown",
   "metadata": {},
   "source": [
    "#### 制作电话簿"
   ]
  },
  {
   "cell_type": "code",
   "execution_count": 51,
   "metadata": {},
   "outputs": [
    {
     "name": "stdout",
     "output_type": "stream",
     "text": [
      "Ross McFluff: 834.345.1254 155 Elm Street\n",
      "\n",
      "Ronald Heathmore: 892.345.3428 436 Finley Avenue\n",
      "Frank Burger: 925.541.7625 662 South Dogwood Way\n",
      "\n",
      "\n",
      "Heather Albrecht: 548.326.4584 919 Park Place\n"
     ]
    }
   ],
   "source": [
    "text = \"\"\"Ross McFluff: 834.345.1254 155 Elm Street\n",
    "\n",
    "Ronald Heathmore: 892.345.3428 436 Finley Avenue\n",
    "Frank Burger: 925.541.7625 662 South Dogwood Way\n",
    "\n",
    "\n",
    "Heather Albrecht: 548.326.4584 919 Park Place\"\"\"\n",
    "print(text)"
   ]
  },
  {
   "cell_type": "code",
   "execution_count": 52,
   "metadata": {},
   "outputs": [
    {
     "data": {
      "text/plain": [
       "['Ross McFluff: 834.345.1254 155 Elm Street',\n",
       " 'Ronald Heathmore: 892.345.3428 436 Finley Avenue',\n",
       " 'Frank Burger: 925.541.7625 662 South Dogwood Way',\n",
       " 'Heather Albrecht: 548.326.4584 919 Park Place']"
      ]
     },
     "execution_count": 52,
     "metadata": {},
     "output_type": "execute_result"
    }
   ],
   "source": [
    "# 以换行符为分隔符对text进行分割\n",
    "entries = re.split(\"\\n+\", text)\n",
    "entries"
   ]
  },
  {
   "cell_type": "code",
   "execution_count": 53,
   "metadata": {},
   "outputs": [
    {
     "data": {
      "text/plain": [
       "[['Ross', 'McFluff', '834.345.1254', '155', 'Elm Street'],\n",
       " ['Ronald', 'Heathmore', '892.345.3428', '436', 'Finley Avenue'],\n",
       " ['Frank', 'Burger', '925.541.7625', '662', 'South Dogwood Way'],\n",
       " ['Heather', 'Albrecht', '548.326.4584', '919', 'Park Place']]"
      ]
     },
     "execution_count": 53,
     "metadata": {},
     "output_type": "execute_result"
    }
   ],
   "source": [
    "# 以` `或`: `为分割符分割每个字符串\n",
    "# first-name, last-name, tel-number, house-number,  street\n",
    "[re.split(\":? \", entry, 4) for entry in entries]"
   ]
  },
  {
   "cell_type": "markdown",
   "metadata": {},
   "source": [
    "#### 文本改写"
   ]
  },
  {
   "cell_type": "markdown",
   "metadata": {},
   "source": [
    "除了收尾字母以外, 将字符串中所有字母的顺序随意打乱;"
   ]
  },
  {
   "cell_type": "code",
   "execution_count": 54,
   "metadata": {},
   "outputs": [
    {
     "data": {
      "text/plain": [
       "'Posrsofer Aoebadlmlk, pslaee rperot your acbneess prltpomy.'"
      ]
     },
     "execution_count": 54,
     "metadata": {},
     "output_type": "execute_result"
    }
   ],
   "source": [
    "import numpy as np\n",
    "def repl(m):\n",
    "    inner_word = list(m.group(2))\n",
    "    np.random.shuffle(inner_word)\n",
    "    return m.group(1) + \"\".join(inner_word) + m.group(3)\n",
    "text = \"Professor Abdolmalek, please report your absences promptly.\"\n",
    "re.sub(r\"(\\w)(\\w+)(\\w)\", repl, text)"
   ]
  },
  {
   "cell_type": "markdown",
   "metadata": {},
   "source": [
    "#### 查找副词及其位置"
   ]
  },
  {
   "cell_type": "code",
   "execution_count": 55,
   "metadata": {},
   "outputs": [
    {
     "name": "stdout",
     "output_type": "stream",
     "text": [
      "07-16: carefully\n",
      "40-47: quickly\n"
     ]
    }
   ],
   "source": [
    "text = \"He was carefully disguised but captured quickly by police.\"\n",
    "for m in re.finditer(r\"\\w+ly\", text):\n",
    "    print('{:02d}-{:02d}: {:s}'.format( m.start(),m.end(),m.group(0)))"
   ]
  },
  {
   "cell_type": "markdown",
   "metadata": {},
   "source": [
    "#### 编写分词器"
   ]
  },
  {
   "cell_type": "markdown",
   "metadata": {},
   "source": [
    "**namedtuple**():  \n",
    "* 创建一个自定义的`tuple对象`, 并且规定了tuple中元素的个数, 并且可以通过属性而不是索引来引用tuple中的某个元素;  \n",
    "* 定义一种新的数据类型, 具备tuple的不变性, 并且可以根据属性来引用元素;"
   ]
  },
  {
   "cell_type": "code",
   "execution_count": 56,
   "metadata": {},
   "outputs": [
    {
     "name": "stdout",
     "output_type": "stream",
     "text": [
      "p.x     p.y\n",
      "---     ---\n",
      "1       2  \n",
      "\n"
     ]
    }
   ],
   "source": [
    "import collections\n",
    "Point = collections.namedtuple('Point', ['x', 'y'])\n",
    "p = Point(1, 2)\n",
    "%C 5 p.x; p.y"
   ]
  },
  {
   "cell_type": "markdown",
   "metadata": {},
   "source": [
    "通过RE来指定文本类型, 首先将它们放进一个正则表达式, 然后不间断的匹配它们;"
   ]
  },
  {
   "cell_type": "code",
   "execution_count": 57,
   "metadata": {},
   "outputs": [
    {
     "name": "stdout",
     "output_type": "stream",
     "text": [
      "Token(typ='IF', value='IF', line=2, column=4)\n",
      "Token(typ='ID', value='quantity', line=2, column=7)\n",
      "Token(typ='THEN', value='THEN', line=2, column=16)\n",
      "Token(typ='ID', value='total', line=3, column=8)\n",
      "Token(typ='ASSIGN', value=':=', line=3, column=14)\n",
      "Token(typ='ID', value='total', line=3, column=17)\n",
      "Token(typ='OP', value='+', line=3, column=23)\n",
      "Token(typ='ID', value='price', line=3, column=25)\n",
      "Token(typ='OP', value='*', line=3, column=31)\n",
      "Token(typ='ID', value='quantity', line=3, column=33)\n",
      "Token(typ='END', value=';', line=3, column=41)\n",
      "Token(typ='ID', value='tax', line=4, column=8)\n",
      "Token(typ='ASSIGN', value=':=', line=4, column=12)\n",
      "Token(typ='ID', value='price', line=4, column=15)\n",
      "Token(typ='OP', value='*', line=4, column=21)\n",
      "Token(typ='NUMBER', value='0.05', line=4, column=23)\n",
      "Token(typ='END', value=';', line=4, column=27)\n",
      "Token(typ='ENDIF', value='ENDIF', line=5, column=4)\n",
      "Token(typ='END', value=';', line=5, column=9)\n"
     ]
    }
   ],
   "source": [
    "Token = collections.namedtuple('Token', ['typ', 'value', 'line', 'column'])\n",
    "def tokenize(code):\n",
    "    # \n",
    "    keywords = {'IF', 'THEN', 'ENDIF', 'FOR', 'NEXT', 'GOSUB', 'RETURN'}\n",
    "    # token格式\n",
    "    token_specification = [\n",
    "        ('NUMBER',  r'\\d+(\\.\\d*)?'),  # 整数或十进制数\n",
    "        ('ASSIGN',  r':='),           # 匹配操作符\n",
    "        ('END',     r';'),            # 声明终止符\n",
    "        ('ID',      r'[A-Za-z]+'),    # 标识符\n",
    "        ('OP',      r'[+\\-*/]'),      # 算数运算符\n",
    "        ('NEWLINE', r'\\n'),           # 行尾\n",
    "        ('SKIP',    r'[ \\t]+'),       # 跳转空格或者制表符\n",
    "        ('MISMATCH',r'.'),            # 其他字符\n",
    "    ]\n",
    "    tok_regex = '|'.join('(?P<%s>%s)' % pair for pair in token_specification)\n",
    "    line_num = 1\n",
    "    line_start = 0\n",
    "    for mo in re.finditer(tok_regex, code):\n",
    "        kind = mo.lastgroup\n",
    "        value = mo.group(kind)\n",
    "        if kind == 'NEWLINE':\n",
    "            line_start = mo.end()\n",
    "            line_num += 1\n",
    "        elif kind == 'SKIP':\n",
    "            pass\n",
    "        elif kind == 'MISMATCH':\n",
    "            raise RuntimeError(f'{value!r} unexpected on line {line_num}')\n",
    "        else:\n",
    "            if kind == 'ID' and value in keywords:\n",
    "                kind = value\n",
    "            column = mo.start() - line_start\n",
    "            yield Token(kind, value, line_num, column)\n",
    "\n",
    "statements = '''\n",
    "    IF quantity THEN\n",
    "        total := total + price * quantity;\n",
    "        tax := price * 0.05;\n",
    "    ENDIF;\n",
    "'''\n",
    "\n",
    "for token in tokenize(statements):\n",
    "    print(token)"
   ]
  },
  {
   "cell_type": "markdown",
   "metadata": {},
   "source": [
    "<font color=red size=6> $$tail </font>"
   ]
  }
 ],
 "metadata": {
  "kernelspec": {
   "display_name": "Python 3",
   "language": "python",
   "name": "python3"
  },
  "language_info": {
   "codemirror_mode": {
    "name": "ipython",
    "version": 3
   },
   "file_extension": ".py",
   "mimetype": "text/x-python",
   "name": "python",
   "nbconvert_exporter": "python",
   "pygments_lexer": "ipython3",
   "version": "3.6.5"
  },
  "toc": {
   "base_numbering": "16.2",
   "nav_menu": {
    "height": "11.6px",
    "width": "160px"
   },
   "number_sections": true,
   "sideBar": true,
   "skip_h1_title": false,
   "title_cell": "Table of Contents",
   "title_sidebar": "Contents",
   "toc_cell": false,
   "toc_position": {
    "height": "251px",
    "left": "21px",
    "top": "31.5077px",
    "width": "233px"
   },
   "toc_section_display": true,
   "toc_window_display": false
  }
 },
 "nbformat": 4,
 "nbformat_minor": 2
}

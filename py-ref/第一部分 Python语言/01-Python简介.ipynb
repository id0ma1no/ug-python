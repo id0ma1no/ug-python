{
 "cells": [
  {
   "cell_type": "markdown",
   "metadata": {
    "toc": true
   },
   "source": [
    "<h1>TOC<span class=\"tocSkip\"></span></h1>\n",
    "<div class=\"toc\"><ul class=\"toc-item\"><li><span><a href=\"#Python简介\" data-toc-modified-id=\"Python简介-1\"><span class=\"toc-item-num\">1&nbsp;&nbsp;</span>Python简介</a></span><ul class=\"toc-item\"><li><span><a href=\"#解释器\" data-toc-modified-id=\"解释器-1.1\"><span class=\"toc-item-num\">1.1&nbsp;&nbsp;</span>解释器</a></span></li><li><span><a href=\"#变量名的动态性\" data-toc-modified-id=\"变量名的动态性-1.2\"><span class=\"toc-item-num\">1.2&nbsp;&nbsp;</span>变量名的动态性</a></span></li><li><span><a href=\"#条件语句\" data-toc-modified-id=\"条件语句-1.3\"><span class=\"toc-item-num\">1.3&nbsp;&nbsp;</span>条件语句</a></span></li><li><span><a href=\"#文件对象\" data-toc-modified-id=\"文件对象-1.4\"><span class=\"toc-item-num\">1.4&nbsp;&nbsp;</span>文件对象</a></span></li><li><span><a href=\"#字符串对象\" data-toc-modified-id=\"字符串对象-1.5\"><span class=\"toc-item-num\">1.5&nbsp;&nbsp;</span>字符串对象</a></span></li><li><span><a href=\"#列表\" data-toc-modified-id=\"列表-1.6\"><span class=\"toc-item-num\">1.6&nbsp;&nbsp;</span>列表</a></span></li><li><span><a href=\"#元组\" data-toc-modified-id=\"元组-1.7\"><span class=\"toc-item-num\">1.7&nbsp;&nbsp;</span>元组</a></span></li><li><span><a href=\"#集合\" data-toc-modified-id=\"集合-1.8\"><span class=\"toc-item-num\">1.8&nbsp;&nbsp;</span>集合</a></span></li><li><span><a href=\"#字典\" data-toc-modified-id=\"字典-1.9\"><span class=\"toc-item-num\">1.9&nbsp;&nbsp;</span>字典</a></span></li><li><span><a href=\"#迭代与循环\" data-toc-modified-id=\"迭代与循环-1.10\"><span class=\"toc-item-num\">1.10&nbsp;&nbsp;</span>迭代与循环</a></span></li><li><span><a href=\"#函数\" data-toc-modified-id=\"函数-1.11\"><span class=\"toc-item-num\">1.11&nbsp;&nbsp;</span>函数</a></span></li><li><span><a href=\"#生成器\" data-toc-modified-id=\"生成器-1.12\"><span class=\"toc-item-num\">1.12&nbsp;&nbsp;</span>生成器</a></span></li><li><span><a href=\"#协程\" data-toc-modified-id=\"协程-1.13\"><span class=\"toc-item-num\">1.13&nbsp;&nbsp;</span>协程</a></span></li><li><span><a href=\"#类和对象\" data-toc-modified-id=\"类和对象-1.14\"><span class=\"toc-item-num\">1.14&nbsp;&nbsp;</span>类和对象</a></span></li><li><span><a href=\"#异常\" data-toc-modified-id=\"异常-1.15\"><span class=\"toc-item-num\">1.15&nbsp;&nbsp;</span>异常</a></span></li><li><span><a href=\"#模块\" data-toc-modified-id=\"模块-1.16\"><span class=\"toc-item-num\">1.16&nbsp;&nbsp;</span>模块</a></span></li><li><span><a href=\"#获得帮助\" data-toc-modified-id=\"获得帮助-1.17\"><span class=\"toc-item-num\">1.17&nbsp;&nbsp;</span>获得帮助</a></span></li></ul></li></ul></div>"
   ]
  },
  {
   "cell_type": "code",
   "execution_count": 1,
   "metadata": {},
   "outputs": [
    {
     "data": {
      "text/plain": [
       "'%.2f'"
      ]
     },
     "execution_count": 1,
     "metadata": {},
     "output_type": "execute_result"
    }
   ],
   "source": [
    "import socket\n",
    "import numpy as np \n",
    "import brtoz.brmagic\n",
    "%precision 2"
   ]
  },
  {
   "cell_type": "markdown",
   "metadata": {},
   "source": [
    "# Python简介"
   ]
  },
  {
   "cell_type": "markdown",
   "metadata": {},
   "source": [
    "## 解释器"
   ]
  },
  {
   "cell_type": "markdown",
   "metadata": {},
   "source": [
    "**解释器**(Interpreter): 按行解释**程序语句**的程序;    \n",
    "**提示符**: 解释器在界面中打印的**提示性符号**, 指明语句或语句块的开始位置; 常见的提示符有`>>>`, `$`等     "
   ]
  },
  {
   "cell_type": "markdown",
   "metadata": {},
   "source": [
    "## 变量名的动态性"
   ]
  },
  {
   "cell_type": "markdown",
   "metadata": {},
   "source": [
    "简单的复利计算:"
   ]
  },
  {
   "cell_type": "code",
   "execution_count": 2,
   "metadata": {},
   "outputs": [
    {
     "name": "stdout",
     "output_type": "stream",
     "text": [
      "  1 1050.00\n",
      "  2 1102.50\n",
      "  3 1157.62\n",
      "  4 1215.51\n",
      "  5 1276.28\n"
     ]
    }
   ],
   "source": [
    "principal = 1000 # 本金,初始金额\n",
    "rate = .05       # 利率\n",
    "numyears = 5     # 年数\n",
    "year = 1\n",
    "while(year<=numyears):\n",
    "    principal = principal * (1 + rate)\n",
    "    # p_and_i = principal * (1 + rate)\n",
    "    print( '{:3d} {:.2f}'.format(year,principal) )\n",
    "    year +=1"
   ]
  },
  {
   "cell_type": "markdown",
   "metadata": {},
   "source": [
    "> 什么叫**动态类型的语言**?     \n",
    "程序语言的动态性与变量名的定义和引用有关;    \n",
    "变量名的类型由其所指向的数据的类型决定;\n",
    "\n",
    ">* 对于`C`和`Fortran`这样的程序语言, 变量名在使用之前必须首先定义, 并且在程序的执行过程中, 与某一类型绑定的变量名只能接收该种类型数据的赋值,不能接收其他类型数据的赋值; 有定义`int i`, 则`i`只能接收整数数据的赋值, 而不能接收浮点数据或字符串数据的赋值;\n",
    "* 但是对于`Python`, MATLAB这种类型的语言来说, 变量名在使用之前不需要先定义, 变量名初次使用之时便是其定义之时, 并且在随后的程序执行过程中, 该变量名可以接收不同类型的数据; 例如, ` principal = principal * (1 + rate)`, 左侧的principal是整数类型的, 右侧的principal则变成了浮点类型的;    \n"
   ]
  },
  {
   "cell_type": "markdown",
   "metadata": {},
   "source": [
    "## 条件语句"
   ]
  },
  {
   "cell_type": "markdown",
   "metadata": {},
   "source": [
    "条件语句有三种格式:并列if式, if-else式, if-elif式"
   ]
  },
  {
   "cell_type": "code",
   "execution_count": 3,
   "metadata": {},
   "outputs": [],
   "source": [
    "a=2;b=2 #一行可以输入两条语句(用;隔开)"
   ]
  },
  {
   "cell_type": "markdown",
   "metadata": {},
   "source": [
    "`并列式if`中`if条件`互相独立:"
   ]
  },
  {
   "cell_type": "code",
   "execution_count": 4,
   "metadata": {},
   "outputs": [
    {
     "name": "stdout",
     "output_type": "stream",
     "text": [
      "a=b\n"
     ]
    }
   ],
   "source": [
    "if(a>b):\n",
    "    print('a>b')\n",
    "\n",
    "if(a<b):\n",
    "    print('a<b')\n",
    "\n",
    "if(a==b):\n",
    "    print('a=b')"
   ]
  },
  {
   "cell_type": "markdown",
   "metadata": {},
   "source": [
    "`else`是最后的补集:"
   ]
  },
  {
   "cell_type": "code",
   "execution_count": 5,
   "metadata": {},
   "outputs": [
    {
     "name": "stdout",
     "output_type": "stream",
     "text": [
      "a<=b\n"
     ]
    }
   ],
   "source": [
    "if(a>b):\n",
    "    print('a>b')\n",
    "else:\n",
    "    print('a<=b')"
   ]
  },
  {
   "cell_type": "markdown",
   "metadata": {},
   "source": [
    "`elif`是上述所有`if条件或elif条件`的补集:"
   ]
  },
  {
   "cell_type": "code",
   "execution_count": 6,
   "metadata": {},
   "outputs": [
    {
     "name": "stdout",
     "output_type": "stream",
     "text": [
      "a=b\n"
     ]
    }
   ],
   "source": [
    "if(a>b):\n",
    "    print('a>b')\n",
    "\n",
    "elif(a<b):\n",
    "    print('a<b')\n",
    "\n",
    "else: \n",
    "    print('a=b')"
   ]
  },
  {
   "cell_type": "markdown",
   "metadata": {},
   "source": [
    "## 文件对象"
   ]
  },
  {
   "cell_type": "markdown",
   "metadata": {},
   "source": [
    "文件对象迭代:"
   ]
  },
  {
   "cell_type": "code",
   "execution_count": 7,
   "metadata": {},
   "outputs": [
    {
     "name": "stdout",
     "output_type": "stream",
     "text": [
      "1\n",
      "2\n",
      "3\n"
     ]
    }
   ],
   "source": [
    "f = open(\"foo.txt\")    # 返回一个文件对象\n",
    "for line in f:         # 文件对象具有readline()方法,因此可以迭代行\n",
    "    print(line,end='') # end='': 忽略行中的换行符"
   ]
  },
  {
   "cell_type": "markdown",
   "metadata": {},
   "source": [
    "自定义函数pandi(), 计算每一年的本息值, 并保存到文件pandi.out中;"
   ]
  },
  {
   "cell_type": "code",
   "execution_count": 8,
   "metadata": {},
   "outputs": [],
   "source": [
    "def pandi(principal=10000, rate = .0376, years=10):\n",
    "    \"\"\" principal: 本金; rate: 年利率; years: 存期;\"\"\"\n",
    "    year = 1\n",
    "    f = open('pandi.out','w')\n",
    "    \n",
    "    while( year<=years ):\n",
    "        principal = principal * (1 + rate)\n",
    "        print( '{:3d} {:.2f}'.format(year,principal), file=f )\n",
    "        year +=1\n",
    "    \n",
    "    f.close()\n",
    "    return('结果已正常保存到文件: pandi.out')"
   ]
  },
  {
   "cell_type": "code",
   "execution_count": 9,
   "metadata": {},
   "outputs": [
    {
     "data": {
      "text/plain": [
       "'结果已正常保存到文件: pandi.out'"
      ]
     },
     "execution_count": 9,
     "metadata": {},
     "output_type": "execute_result"
    }
   ],
   "source": [
    "pandi(20000)"
   ]
  },
  {
   "cell_type": "markdown",
   "metadata": {},
   "source": [
    "## 字符串对象"
   ]
  },
  {
   "cell_type": "markdown",
   "metadata": {},
   "source": [
    "字符串的内存结构是`字符序列`, 因此字符串对象可以使用下标索引和切片;"
   ]
  },
  {
   "cell_type": "code",
   "execution_count": 10,
   "metadata": {},
   "outputs": [
    {
     "name": "stdout",
     "output_type": "stream",
     "text": [
      "        s           s[0]  s[:3]\n",
      "------------------  ----  -----\n",
      "'My name is iceBr'  'M'   'My '\n"
     ]
    }
   ],
   "source": [
    "s = \"My name is iceBr\"\n",
    "%A s; s[0]; s[:3]"
   ]
  },
  {
   "cell_type": "markdown",
   "metadata": {},
   "source": [
    "`+`可以连接两个字符串:"
   ]
  },
  {
   "cell_type": "code",
   "execution_count": 11,
   "metadata": {},
   "outputs": [
    {
     "data": {
      "text/plain": [
       "'My name is iceBr;'"
      ]
     },
     "execution_count": 11,
     "metadata": {},
     "output_type": "execute_result"
    }
   ],
   "source": [
    "s + ';'"
   ]
  },
  {
   "cell_type": "markdown",
   "metadata": {},
   "source": [
    "* str(); 生成与人接口的字符串;\n",
    "* repr(): 生成与机器接口的字符串;"
   ]
  },
  {
   "cell_type": "code",
   "execution_count": 12,
   "metadata": {},
   "outputs": [
    {
     "name": "stdout",
     "output_type": "stream",
     "text": [
      "str('iceBr')  repr('iceBr')  str('\\n')  repr('\\n')\n",
      "------------  -------------  ---------  ----------\n",
      "'iceBr'       \"'iceBr'\"      '\\n'       \"'\\\\n'\"   \n"
     ]
    }
   ],
   "source": [
    "%A str('iceBr'); repr('iceBr');str('\\n');repr('\\n')"
   ]
  },
  {
   "cell_type": "markdown",
   "metadata": {},
   "source": [
    "## 列表"
   ]
  },
  {
   "cell_type": "markdown",
   "metadata": {},
   "source": [
    "**列表**是由任意对象组成的序列;    \n",
    "把值放入`[]`就可以创建序列对象; "
   ]
  },
  {
   "cell_type": "code",
   "execution_count": 13,
   "metadata": {},
   "outputs": [
    {
     "data": {
      "text/plain": [
       "['My', 'name', 'is', ['iceBr', '@', 'y2sinx']]"
      ]
     },
     "execution_count": 13,
     "metadata": {},
     "output_type": "execute_result"
    }
   ],
   "source": [
    "t = ['My', 'name', 'is', ['iceBr','@', 'y2sinx'],] \n",
    "t"
   ]
  },
  {
   "cell_type": "markdown",
   "metadata": {},
   "source": [
    "列表支持多级索引:"
   ]
  },
  {
   "cell_type": "code",
   "execution_count": 14,
   "metadata": {},
   "outputs": [
    {
     "name": "stdout",
     "output_type": "stream",
     "text": [
      "          t[3]            t[3][2]   t[3][2][1]\n",
      "------------------------  --------  ----------\n",
      "['iceBr', '@', 'y2sinx']  'y2sinx'  '2'       \n"
     ]
    }
   ],
   "source": [
    "%A t[3]; t[3][2]; t[3][2][1]"
   ]
  },
  {
   "cell_type": "markdown",
   "metadata": {},
   "source": [
    "## 元组"
   ]
  },
  {
   "cell_type": "markdown",
   "metadata": {},
   "source": [
    "元组对象是通过`,`生成的;    \n",
    "元组一旦创建不可该表其值;    \n",
    "使用元组可以将一组值打包到一个对象中;    "
   ]
  },
  {
   "cell_type": "code",
   "execution_count": 15,
   "metadata": {},
   "outputs": [
    {
     "data": {
      "text/plain": [
       "('My', 'name', 'is', 'iceBr')"
      ]
     },
     "execution_count": 15,
     "metadata": {},
     "output_type": "execute_result"
    }
   ],
   "source": [
    "r = 'My', 'name', 'is', 'iceBr'\n",
    "r"
   ]
  },
  {
   "cell_type": "markdown",
   "metadata": {},
   "source": [
    "可以将元组解包为一组变量:"
   ]
  },
  {
   "cell_type": "code",
   "execution_count": 16,
   "metadata": {},
   "outputs": [
    {
     "name": "stdout",
     "output_type": "stream",
     "text": [
      " r1     r2     r3      r4  \n",
      "----  ------  ----  -------\n",
      "'My'  'name'  'is'  'iceBr'\n"
     ]
    }
   ],
   "source": [
    "r1, r2, r3, r4 = r\n",
    "%A r1; r2; r3; r4"
   ]
  },
  {
   "cell_type": "markdown",
   "metadata": {},
   "source": [
    "## 集合"
   ]
  },
  {
   "cell_type": "markdown",
   "metadata": {},
   "source": [
    "集合用于包含无序和非重复对象;"
   ]
  },
  {
   "cell_type": "markdown",
   "metadata": {},
   "source": [
    "两个集合对象之间可以实现`并`, `交`, `差`(及对称差)操作:"
   ]
  },
  {
   "cell_type": "code",
   "execution_count": 17,
   "metadata": {},
   "outputs": [
    {
     "name": "stdout",
     "output_type": "stream",
     "text": [
      "         e1                          e2           \n",
      "--------------------     -------------------------\n",
      "{'e', 'h', 'l', 'o'}     {'d', 'l', 'o', 'r', 'w'}\n",
      "\n",
      "\n",
      "               e1|e2               \n",
      "-----------------------------------\n",
      "{'d', 'e', 'h', 'l', 'o', 'r', 'w'}\n",
      "\n",
      "\n",
      "  e1&e2          e1-e2           e1^e2 #元素不能同时出现在两个集合  \n",
      "----------     ----------     -------------------------\n",
      "{'l', 'o'}     {'e', 'h'}     {'d', 'e', 'h', 'r', 'w'}\n"
     ]
    }
   ],
   "source": [
    "e1 = set( 'hello' )\n",
    "e2 = set( 'world' )\n",
    "%A 5 e1;e2;; e1|e2;; e1&e2;e1-e2;e1^e2 #元素不能同时出现在两个集合"
   ]
  },
  {
   "cell_type": "markdown",
   "metadata": {},
   "source": [
    "## 字典"
   ]
  },
  {
   "cell_type": "markdown",
   "metadata": {},
   "source": [
    "字典是一个有无序键值对组成的容器;"
   ]
  },
  {
   "cell_type": "code",
   "execution_count": 18,
   "metadata": {},
   "outputs": [
    {
     "data": {
      "text/plain": [
       "{'ID': 1001, 'name': 'iceBr', 'email': 'iceBr@126.com'}"
      ]
     },
     "execution_count": 18,
     "metadata": {},
     "output_type": "execute_result"
    }
   ],
   "source": [
    "d = {\"ID\": 1001,\n",
    "     \"name\": 'iceBr',\n",
    "     \"email\": 'iceBr@126.com'}\n",
    "d"
   ]
  },
  {
   "cell_type": "markdown",
   "metadata": {},
   "source": [
    "字典的键相当于字典的下标索引:"
   ]
  },
  {
   "cell_type": "code",
   "execution_count": 19,
   "metadata": {},
   "outputs": [
    {
     "data": {
      "text/plain": [
       "1001"
      ]
     },
     "execution_count": 19,
     "metadata": {},
     "output_type": "execute_result"
    }
   ],
   "source": [
    "d['ID']"
   ]
  },
  {
   "cell_type": "markdown",
   "metadata": {},
   "source": [
    "将字典转化为列表相当于将字典的键转化为列表, 然后可以对字典的键进行迭代;"
   ]
  },
  {
   "cell_type": "code",
   "execution_count": 20,
   "metadata": {},
   "outputs": [
    {
     "name": "stdout",
     "output_type": "stream",
     "text": [
      "        list(d)               list(d.keys())    \n",
      "-----------------------  -----------------------\n",
      "['ID', 'name', 'email']  ['ID', 'name', 'email']\n"
     ]
    }
   ],
   "source": [
    "%A list(d); list(d.keys())"
   ]
  },
  {
   "cell_type": "markdown",
   "metadata": {},
   "source": [
    "## 迭代与循环"
   ]
  },
  {
   "cell_type": "markdown",
   "metadata": {},
   "source": [
    "`for循环`不仅可以迭代序列, 还可以迭代字符串, 字典, 文件等一切`具有可迭代性质的对象`;"
   ]
  },
  {
   "cell_type": "markdown",
   "metadata": {},
   "source": [
    "迭代序列中的所有值:      "
   ]
  },
  {
   "cell_type": "code",
   "execution_count": 21,
   "metadata": {},
   "outputs": [
    {
     "name": "stdout",
     "output_type": "stream",
     "text": [
      "0;1;2;3;4;5;6;7;8;9;"
     ]
    }
   ],
   "source": [
    "for i in range(10):\n",
    "    print(i,end=';')"
   ]
  },
  {
   "cell_type": "markdown",
   "metadata": {},
   "source": [
    "迭代字典中的所有成员:       "
   ]
  },
  {
   "cell_type": "code",
   "execution_count": 22,
   "metadata": {},
   "outputs": [
    {
     "name": "stdout",
     "output_type": "stream",
     "text": [
      "ID: 1001; name: iceBr; email: iceBr@126.com; "
     ]
    }
   ],
   "source": [
    "for key in d:\n",
    "    print( \"{}: {}\".format(key,d[key]), end='; ' )"
   ]
  },
  {
   "cell_type": "markdown",
   "metadata": {},
   "source": [
    "迭代文件中的行:"
   ]
  },
  {
   "cell_type": "code",
   "execution_count": 23,
   "metadata": {},
   "outputs": [
    {
     "name": "stdout",
     "output_type": "stream",
     "text": [
      "1\n",
      "2\n",
      "3\n"
     ]
    }
   ],
   "source": [
    "f = open('foo.txt')\n",
    "for line in f:\n",
    "    print(line,end='')\n",
    "f.close()"
   ]
  },
  {
   "cell_type": "markdown",
   "metadata": {},
   "source": [
    "## 函数"
   ]
  },
  {
   "cell_type": "markdown",
   "metadata": {},
   "source": [
    "通过def语句可以自定义函数:"
   ]
  },
  {
   "cell_type": "code",
   "execution_count": 24,
   "metadata": {},
   "outputs": [
    {
     "data": {
      "text/plain": [
       "(1, 0)"
      ]
     },
     "execution_count": 24,
     "metadata": {},
     "output_type": "execute_result"
    }
   ],
   "source": [
    "def divide(a=1,b=1):\n",
    "    q = a//b\n",
    "    r = a - q*b\n",
    "    return (q,r)\n",
    "divide()"
   ]
  },
  {
   "cell_type": "markdown",
   "metadata": {},
   "source": [
    "使用元组作为函数的返回值, 可以通过序列解包的方式传递给不同的参数:"
   ]
  },
  {
   "cell_type": "code",
   "execution_count": 25,
   "metadata": {},
   "outputs": [
    {
     "name": "stdout",
     "output_type": "stream",
     "text": [
      "divide(10,3)  a  b\n",
      "------------  -  -\n",
      "(3, 1)        3  1\n"
     ]
    }
   ],
   "source": [
    "a,b = divide(10,3)\n",
    "%A divide(10,3); a; b"
   ]
  },
  {
   "cell_type": "markdown",
   "metadata": {},
   "source": [
    "函数内部的变量都是局部变量, 函数一旦调用完, 便会自动消除, global语句可用于创建全局变量;"
   ]
  },
  {
   "cell_type": "code",
   "execution_count": 26,
   "metadata": {},
   "outputs": [
    {
     "name": "stdout",
     "output_type": "stream",
     "text": [
      "=========================\n",
      "函数调用之前的count值: 0\n",
      "函数调用之后的count值: 1\n",
      "=========================\n",
      "\n",
      "函数外部的count值: 1\n"
     ]
    }
   ],
   "source": [
    "count = 0\n",
    "def count_plus_1(c='='):\n",
    "    global count\n",
    "    \n",
    "    print(c*25)\n",
    "    print(\"函数调用之前的count值: {}\".format(count))\n",
    "    count +=1\n",
    "    print(\"函数调用之后的count值: {}\".format(count))  \n",
    "    print(c*25+'\\n')\n",
    "    \n",
    "count_plus_1()\n",
    "print(\"函数外部的count值: {}\".format(count))  "
   ]
  },
  {
   "cell_type": "markdown",
   "metadata": {},
   "source": [
    "## 生成器"
   ]
  },
  {
   "cell_type": "markdown",
   "metadata": {},
   "source": [
    "**yield**只能位于函数之中, 相当于函数当中的`断点标志`, 通过yield可以将一个函数分成几段(一个断点将函数分成两段,两个断点将函数分成三段), 函数每次动作只能运行一段;    \n",
    "\n",
    "包含yield的函数将返回一个`迭代器对象`, 迭代器对象相当于一个`函数分段集`; 调用`__next()方法`之后, 才能运行函数的下一段;   "
   ]
  },
  {
   "cell_type": "markdown",
   "metadata": {},
   "source": [
    "演示迭代器对象的运行过程:"
   ]
  },
  {
   "cell_type": "code",
   "execution_count": 27,
   "metadata": {},
   "outputs": [],
   "source": [
    "def show_yield(i=1,j=2,k=3):\n",
    "    \n",
    "    print(\"函数的第1段: 输出第1个yield的值\")\n",
    "    yield i\n",
    "    \n",
    "    print(\"函数的第2段: 输出第2个yield的值\")\n",
    "    yield j\n",
    "    \n",
    "    print(\"函数的第3段: 输出第3个yield的值\\n\")\n",
    "    yield k\n",
    "    \n",
    "    print(\"\\n函数的第4段, 在此终止函数的运行 \\n\")\n",
    "    pass\n",
    "\n",
    "y = show_yield(1,2,3)"
   ]
  },
  {
   "cell_type": "code",
   "execution_count": 28,
   "metadata": {},
   "outputs": [
    {
     "name": "stdout",
     "output_type": "stream",
     "text": [
      "函数的第1段: 输出第1个yield的值\n",
      "函数的第2段: 输出第2个yield的值\n",
      "函数的第3段: 输出第3个yield的值\n",
      "\n",
      "y.__next__()  y.__next__()  y.__next__()\n",
      "------------  ------------  ------------\n",
      "1             2             3           \n"
     ]
    }
   ],
   "source": [
    "%A y.__next__(); y.__next__(); y.__next__()\n",
    "# y.__next__()"
   ]
  },
  {
   "cell_type": "markdown",
   "metadata": {},
   "source": [
    "将yield语句放入循环当中, 每次也是只能运行函数一段:"
   ]
  },
  {
   "cell_type": "code",
   "execution_count": 29,
   "metadata": {},
   "outputs": [],
   "source": [
    "def countdown( n ):\n",
    "    print('Counting down!\\n')\n",
    "    while(n>0):\n",
    "        yield n\n",
    "        n -=1\n",
    "        \n",
    "y1 = countdown(3)"
   ]
  },
  {
   "cell_type": "code",
   "execution_count": 30,
   "metadata": {},
   "outputs": [
    {
     "name": "stdout",
     "output_type": "stream",
     "text": [
      "Counting down!\n",
      "\n",
      "y1.__next__()  y1.__next__()  y1.__next__()\n",
      "-------------  -------------  -------------\n",
      "3              2              1            \n"
     ]
    }
   ],
   "source": [
    "%A y1.__next__(); y1.__next__(); y1.__next__()\n",
    "# y1.__next__()"
   ]
  },
  {
   "cell_type": "markdown",
   "metadata": {},
   "source": [
    "将循环yield改为顺序yield:"
   ]
  },
  {
   "cell_type": "code",
   "execution_count": 31,
   "metadata": {},
   "outputs": [],
   "source": [
    "def countdown2(n):\n",
    "\n",
    "    print('Counting down!\\n')\n",
    "    yield n\n",
    "    \n",
    "    n = n-1\n",
    "    yield n\n",
    "    \n",
    "    n = n-1\n",
    "    yield n\n",
    "    \n",
    "    print('\\nCounting end!')\n",
    "y2 = countdown2(3)"
   ]
  },
  {
   "cell_type": "code",
   "execution_count": 32,
   "metadata": {},
   "outputs": [
    {
     "name": "stdout",
     "output_type": "stream",
     "text": [
      "Counting down!\n",
      "\n",
      "y2.__next__()  y2.__next__()  y2.__next__()\n",
      "-------------  -------------  -------------\n",
      "3              2              1            \n"
     ]
    }
   ],
   "source": [
    "%A y2.__next__(); y2.__next__(); y2.__next__()\n",
    "# y2.__next__()"
   ]
  },
  {
   "cell_type": "markdown",
   "metadata": {},
   "source": [
    "使用list()函数可以将迭代器对象转化为列表:"
   ]
  },
  {
   "cell_type": "code",
   "execution_count": 33,
   "metadata": {},
   "outputs": [
    {
     "name": "stdout",
     "output_type": "stream",
     "text": [
      "Counting down!\n",
      "\n"
     ]
    },
    {
     "data": {
      "text/plain": [
       "[5, 4, 3, 2, 1]"
      ]
     },
     "execution_count": 33,
     "metadata": {},
     "output_type": "execute_result"
    }
   ],
   "source": [
    "list(countdown(5))"
   ]
  },
  {
   "cell_type": "markdown",
   "metadata": {},
   "source": [
    "## 协程"
   ]
  },
  {
   "cell_type": "markdown",
   "metadata": {},
   "source": [
    "将`(yield)`加入函数可以让函数变为一个**协程**:"
   ]
  },
  {
   "cell_type": "code",
   "execution_count": 34,
   "metadata": {},
   "outputs": [],
   "source": [
    "def print_matched_line(matchtext):  \n",
    "    print(\"Looking for `{}`\".format(matchtext))\n",
    "    while(True):\n",
    "        print(\"执行`;`之前的语句\")\n",
    "        line = (yield);\n",
    "\n",
    "        print(\"执行`;`之后的语句\")\n",
    "        if matchtext in line:\n",
    "            print(line)"
   ]
  },
  {
   "cell_type": "code",
   "execution_count": 35,
   "metadata": {},
   "outputs": [],
   "source": [
    "matcher = print_matched_line(\"python\")"
   ]
  },
  {
   "cell_type": "markdown",
   "metadata": {},
   "source": [
    "调用协程的`__next__()`方法, 让函数运行到第一个yield语句之后的`;`:"
   ]
  },
  {
   "cell_type": "code",
   "execution_count": 36,
   "metadata": {},
   "outputs": [
    {
     "name": "stdout",
     "output_type": "stream",
     "text": [
      "Looking for `python`\n",
      "执行`;`之前的语句\n"
     ]
    }
   ],
   "source": [
    "matcher.__next__()"
   ]
  },
  {
   "cell_type": "markdown",
   "metadata": {},
   "source": [
    "> can't send non-None value to a just-started generator;"
   ]
  },
  {
   "cell_type": "code",
   "execution_count": 37,
   "metadata": {},
   "outputs": [
    {
     "name": "stdout",
     "output_type": "stream",
     "text": [
      "执行`;`之后的语句\n",
      "执行`;`之前的语句\n"
     ]
    }
   ],
   "source": [
    "matcher.send(\"hello world\")"
   ]
  },
  {
   "cell_type": "markdown",
   "metadata": {},
   "source": [
    "> 未调用send()之前, 函数一直处于待命状态, 调用send(x)之后, (yield)表达式会接收x的值, 将其赋值给line, 并在接下来的语句中处理;"
   ]
  },
  {
   "cell_type": "code",
   "execution_count": 38,
   "metadata": {},
   "outputs": [
    {
     "name": "stdout",
     "output_type": "stream",
     "text": [
      "执行`;`之后的语句\n",
      "python is cool\n",
      "执行`;`之前的语句\n"
     ]
    }
   ],
   "source": [
    "matcher.send('python is cool')"
   ]
  },
  {
   "cell_type": "code",
   "execution_count": 39,
   "metadata": {},
   "outputs": [
    {
     "name": "stdout",
     "output_type": "stream",
     "text": [
      "执行`;`之后的语句\n",
      "执行`;`之前的语句\n"
     ]
    }
   ],
   "source": [
    "matcher.send(\"yow!\")"
   ]
  },
  {
   "cell_type": "code",
   "execution_count": 40,
   "metadata": {},
   "outputs": [
    {
     "name": "stdout",
     "output_type": "stream",
     "text": [
      "执行`;`之后的语句\n",
      "python is not an animal\n",
      "执行`;`之前的语句\n"
     ]
    }
   ],
   "source": [
    "matcher.send('python is not an animal')"
   ]
  },
  {
   "cell_type": "code",
   "execution_count": 41,
   "metadata": {},
   "outputs": [],
   "source": [
    "matcher.close()"
   ]
  },
  {
   "cell_type": "markdown",
   "metadata": {},
   "source": [
    "## 类和对象"
   ]
  },
  {
   "cell_type": "markdown",
   "metadata": {},
   "source": [
    "python中的所有`含有信息量的东西`都是**对象**;    \n",
    "所有的对象都有其所属的`类别`, 类别也是一种对象;"
   ]
  },
  {
   "cell_type": "code",
   "execution_count": 42,
   "metadata": {},
   "outputs": [],
   "source": [
    "查看绑定在对象所有方法:dir()"
   ]
  },
  {
   "cell_type": "code",
   "execution_count": 43,
   "metadata": {},
   "outputs": [
    {
     "name": "stdout",
     "output_type": "stream",
     "text": [
      "dir(t)[-1:-12:-1]  dir(d)[-1:-12:-1]  dir(r)[-1:-3:-1] #元组的方法\n",
      "-----------------  -----------------  -----------------------\n",
      "['sort',           ['values',         ['index', 'count']     \n",
      " 'reverse',         'update',                                \n",
      " 'remove',          'setdefault',                            \n",
      " 'pop',             'popitem',                               \n",
      " 'insert',          'pop',                                   \n",
      " 'index',           'keys',                                  \n",
      " 'extend',          'items',                                 \n",
      " 'count',           'get',                                   \n",
      " 'copy',            'fromkeys',                              \n",
      " 'clear',           'copy',                                  \n",
      " 'append']          'clear']                                 \n"
     ]
    }
   ],
   "source": [
    "%A dir(t)[-1:-12:-1]; dir(d)[-1:-12:-1]; dir(r)[-1:-3:-1] #元组的方法"
   ]
  },
  {
   "cell_type": "markdown",
   "metadata": {},
   "source": [
    "class语句用于定义新的对象类型, 定义类;"
   ]
  },
  {
   "cell_type": "code",
   "execution_count": 44,
   "metadata": {},
   "outputs": [],
   "source": [
    "class Stack(object):\n",
    "    \n",
    "    def __init__(self):\n",
    "        self.stack=[]\n",
    "    \n",
    "    def push(self,object):\n",
    "        self.stack.append(object)\n",
    "        \n",
    "    def pop(self):\n",
    "        return self.stack.pop()\n",
    "    \n",
    "    def length(self):\n",
    "        return len(self.stack)"
   ]
  },
  {
   "cell_type": "markdown",
   "metadata": {},
   "source": [
    "> `__init__(self): self.stack=[]`;    \n",
    "* __init__: 用于在创建对象后初始化该对象;\n",
    "* self.stack: stack是对象self的一个属性, 该属性包含一个列表, 该列表的初始状态为空;  \n",
    "* 为对象创建属性, 就像变量赋值一样简单, 只不过这个变量要加前缀`self.`;  \n",
    "* 为对象创建方法, 就像创建普通的函数一样, 只不过这个函数的第一个参数是self, 代表对象本身;"
   ]
  },
  {
   "cell_type": "code",
   "execution_count": 45,
   "metadata": {},
   "outputs": [
    {
     "data": {
      "text/plain": [
       "[]"
      ]
     },
     "execution_count": 45,
     "metadata": {},
     "output_type": "execute_result"
    }
   ],
   "source": [
    "#初始化对象之后, 其stack属性是一个空列表\n",
    "s = Stack()\n",
    "s.stack"
   ]
  },
  {
   "cell_type": "code",
   "execution_count": 46,
   "metadata": {},
   "outputs": [
    {
     "name": "stdout",
     "output_type": "stream",
     "text": [
      "         s.stack           s.length()\n",
      "-------------------------  ----------\n",
      "['1', '2', '3', '4', '5']  5         \n",
      "\n",
      "\n",
      "s.pop()        s.stack         s.length()\n",
      "-------  --------------------  ----------\n",
      "'5'      ['1', '2', '3', '4']  4         \n"
     ]
    }
   ],
   "source": [
    "# 为对象添加元素\n",
    "s.push(\"1\"); s.push(\"2\"); s.push(\"3\"); s.push(\"4\"); s.push(\"5\");\n",
    "%A  s.stack; s.length();; s.pop(); s.stack; s.length()"
   ]
  },
  {
   "cell_type": "markdown",
   "metadata": {},
   "source": [
    "## 异常"
   ]
  },
  {
   "cell_type": "markdown",
   "metadata": {},
   "source": [
    "通常情况下, 程序中的错误(异常)会导致程序终止;  \n",
    "但是可以使用`try`和`except语句捕捉并处理异常`;"
   ]
  },
  {
   "cell_type": "code",
   "execution_count": 47,
   "metadata": {},
   "outputs": [
    {
     "name": "stdout",
     "output_type": "stream",
     "text": [
      "[Errno 2] No such file or directory: 'x_x.txt'\n"
     ]
    }
   ],
   "source": [
    "try:\n",
    "    f=open(\"x_x.txt\",'r') # 工作目录并没有该文件\n",
    "except IOError as e:\n",
    "    print(e) "
   ]
  },
  {
   "cell_type": "markdown",
   "metadata": {},
   "source": [
    "> f=open(\"x_x.txt\",'r')   \n",
    "* FileNotFoundError: [Errno 2] No such file or directory: 'x_x.txt'"
   ]
  },
  {
   "cell_type": "markdown",
   "metadata": {},
   "source": [
    "## 模块"
   ]
  },
  {
   "cell_type": "markdown",
   "metadata": {},
   "source": [
    "可以把函数定义放入外部文件, 在其他程序中调用时将其作为模块导入:"
   ]
  },
  {
   "cell_type": "code",
   "execution_count": 48,
   "metadata": {},
   "outputs": [
    {
     "name": "stdout",
     "output_type": "stream",
     "text": [
      "a   b \n",
      "--  --\n",
      "79  14\n"
     ]
    }
   ],
   "source": [
    "import divide\n",
    "a,b = divide.divide(2305,29)\n",
    "%A a;b"
   ]
  },
  {
   "cell_type": "markdown",
   "metadata": {},
   "source": [
    "> import只能导入文件, 不能导入文件中的函数 \n",
    "* import divide.divide->X\n",
    "* from divide import divide->X\n",
    "* X: `ModuleNotFoundError: 'divide' is not a package`;"
   ]
  },
  {
   "cell_type": "markdown",
   "metadata": {},
   "source": [
    "dir()亦可列出模块中的内容:"
   ]
  },
  {
   "cell_type": "code",
   "execution_count": 49,
   "metadata": {},
   "outputs": [
    {
     "data": {
      "text/plain": [
       "['__builtins__',\n",
       " '__cached__',\n",
       " '__doc__',\n",
       " '__file__',\n",
       " '__loader__',\n",
       " '__name__',\n",
       " '__package__',\n",
       " '__spec__',\n",
       " 'divide']"
      ]
     },
     "execution_count": 49,
     "metadata": {},
     "output_type": "execute_result"
    }
   ],
   "source": [
    "dir(divide)"
   ]
  },
  {
   "cell_type": "markdown",
   "metadata": {},
   "source": [
    "## 获得帮助"
   ]
  },
  {
   "cell_type": "markdown",
   "metadata": {},
   "source": [
    "1. `对象类型`, `目标位置`, `文档字符串`等信息: 在对象之后键入`?`;"
   ]
  },
  {
   "cell_type": "raw",
   "metadata": {},
   "source": [
    "range?"
   ]
  },
  {
   "cell_type": "markdown",
   "metadata": {},
   "source": [
    "2. 显示参数提示框:"
   ]
  },
  {
   "cell_type": "raw",
   "metadata": {},
   "source": [
    "range( #<组合键: shift+Tab, 可重复按>"
   ]
  },
  {
   "cell_type": "markdown",
   "metadata": {},
   "source": [
    "3. 查看文档字符串的特殊方法`__doc__`:"
   ]
  },
  {
   "cell_type": "code",
   "execution_count": 50,
   "metadata": {},
   "outputs": [
    {
     "name": "stdout",
     "output_type": "stream",
     "text": [
      "range(stop) -> range object\n",
      "range(start, stop[, step]) -> range object\n",
      "\n",
      "Return an object that produces a sequence of integers from start (inclusive)\n",
      "to stop (exclusive) by step.  range(i, j) produces i, i+1, i+2, ..., j-1.\n",
      "start defaults to 0, and stop is omitted!  range(4) produces 0, 1, 2, 3.\n",
      "These are exactly the valid indices for a list of 4 elements.\n",
      "When step is given, it specifies the increment (or decrement).\n"
     ]
    }
   ],
   "source": [
    "print(range.__doc__)"
   ]
  },
  {
   "cell_type": "markdown",
   "metadata": {},
   "source": [
    "4. 获得对象, 模块,关键字,内嵌函数等的具体信息:"
   ]
  },
  {
   "cell_type": "code",
   "execution_count": 52,
   "metadata": {},
   "outputs": [
    {
     "name": "stdout",
     "output_type": "stream",
     "text": [
      "Help on class range in module builtins:\n",
      "\n",
      "class range(object)\n",
      " |  range(stop) -> range object\n",
      " |  range(start, stop[, step]) -> range object\n",
      " |  \n",
      " |  Return an object that produces a sequence of integers from start (inclusive)\n",
      " |  to stop (exclusive) by step.  range(i, j) produces i, i+1, i+2, ..., j-1.\n",
      " |  start defaults to 0, and stop is omitted!  range(4) produces 0, 1, 2, 3.\n",
      " |  These are exactly the valid indices for a list of 4 elements.\n",
      " |  When step is given, it specifies the increment (or decrement).\n",
      " |  \n",
      " |  Methods defined here:\n",
      " |  \n",
      " |  __bool__(self, /)\n",
      " |      self != 0\n",
      " |  \n",
      " |  __contains__(self, key, /)\n",
      " |      Return key in self.\n",
      " |  \n",
      " |  __eq__(self, value, /)\n",
      " |      Return self==value.\n",
      " |  \n",
      " |  __ge__(self, value, /)\n",
      " |      Return self>=value.\n",
      " |  \n",
      " |  __getattribute__(self, name, /)\n",
      " |      Return getattr(self, name).\n",
      " |  \n",
      " |  __getitem__(self, key, /)\n",
      " |      Return self[key].\n",
      " |  \n",
      " |  __gt__(self, value, /)\n",
      " |      Return self>value.\n",
      " |  \n",
      " |  __hash__(self, /)\n",
      " |      Return hash(self).\n",
      " |  \n",
      " |  __iter__(self, /)\n",
      " |      Implement iter(self).\n",
      " |  \n",
      " |  __le__(self, value, /)\n",
      " |      Return self<=value.\n",
      " |  \n",
      " |  __len__(self, /)\n",
      " |      Return len(self).\n",
      " |  \n",
      " |  __lt__(self, value, /)\n",
      " |      Return self<value.\n",
      " |  \n",
      " |  __ne__(self, value, /)\n",
      " |      Return self!=value.\n",
      " |  \n",
      " |  __new__(*args, **kwargs) from builtins.type\n",
      " |      Create and return a new object.  See help(type) for accurate signature.\n",
      " |  \n",
      " |  __reduce__(...)\n",
      " |      helper for pickle\n",
      " |  \n",
      " |  __repr__(self, /)\n",
      " |      Return repr(self).\n",
      " |  \n",
      " |  __reversed__(...)\n",
      " |      Return a reverse iterator.\n",
      " |  \n",
      " |  count(...)\n",
      " |      rangeobject.count(value) -> integer -- return number of occurrences of value\n",
      " |  \n",
      " |  index(...)\n",
      " |      rangeobject.index(value, [start, [stop]]) -> integer -- return index of value.\n",
      " |      Raise ValueError if the value is not present.\n",
      " |  \n",
      " |  ----------------------------------------------------------------------\n",
      " |  Data descriptors defined here:\n",
      " |  \n",
      " |  start\n",
      " |  \n",
      " |  step\n",
      " |  \n",
      " |  stop\n",
      "\n"
     ]
    }
   ],
   "source": [
    "help('range') "
   ]
  }
 ],
 "metadata": {
  "kernelspec": {
   "display_name": "Python 3",
   "language": "python",
   "name": "python3"
  },
  "language_info": {
   "codemirror_mode": {
    "name": "ipython",
    "version": 3
   },
   "file_extension": ".py",
   "mimetype": "text/x-python",
   "name": "python",
   "nbconvert_exporter": "python",
   "pygments_lexer": "ipython3",
   "version": "3.6.5"
  },
  "toc": {
   "base_numbering": 1,
   "nav_menu": {},
   "number_sections": true,
   "sideBar": true,
   "skip_h1_title": false,
   "title_cell": "TOC",
   "title_sidebar": "Contents",
   "toc_cell": true,
   "toc_position": {
    "height": "calc(100% - 180px)",
    "left": "10px",
    "top": "150px",
    "width": "165px"
   },
   "toc_section_display": true,
   "toc_window_display": false
  }
 },
 "nbformat": 4,
 "nbformat_minor": 2
}

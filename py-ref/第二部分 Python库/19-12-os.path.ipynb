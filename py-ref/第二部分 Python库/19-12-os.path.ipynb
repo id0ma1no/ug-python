{
 "cells": [
  {
   "cell_type": "code",
   "execution_count": 1,
   "metadata": {},
   "outputs": [],
   "source": [
    "import brtoz.brmagic\n",
    "from os.path import *"
   ]
  },
  {
   "cell_type": "markdown",
   "metadata": {},
   "source": [
    "# 操作系统服务"
   ]
  },
  {
   "cell_type": "markdown",
   "metadata": {},
   "source": [
    "## os.path"
   ]
  },
  {
   "cell_type": "markdown",
   "metadata": {},
   "source": [
    "以一种可移植的方式操作路径:  \n",
    "https://docs.python.org/3.6/library/os.path.html;"
   ]
  },
  {
   "cell_type": "markdown",
   "metadata": {},
   "source": [
    "windows的路径格式"
   ]
  },
  {
   "cell_type": "code",
   "execution_count": 2,
   "metadata": {},
   "outputs": [
    {
     "data": {
      "text/plain": [
       "'F:\\\\Jupyter\\\\ref_of_py'"
      ]
     },
     "execution_count": 2,
     "metadata": {},
     "output_type": "execute_result"
    }
   ],
   "source": [
    "pwd"
   ]
  },
  {
   "cell_type": "markdown",
   "metadata": {},
   "source": [
    "abspath(path):   \n",
    "在path之前添加一个`路径差`(不会检查该path路径是否真实存在), 该`路径差`是`当前路径`的绝对路径;  "
   ]
  },
  {
   "cell_type": "code",
   "execution_count": 3,
   "metadata": {},
   "outputs": [
    {
     "data": {
      "text/plain": [
       "'F:\\\\Jupyter\\\\ref_of_py'"
      ]
     },
     "execution_count": 3,
     "metadata": {},
     "output_type": "execute_result"
    }
   ],
   "source": [
    "abspath('')"
   ]
  },
  {
   "cell_type": "code",
   "execution_count": 4,
   "metadata": {
    "scrolled": true
   },
   "outputs": [
    {
     "data": {
      "text/plain": [
       "'F:\\\\Jupyter\\\\ref_of_py\\\\19-12_os.path.ipynb'"
      ]
     },
     "execution_count": 4,
     "metadata": {},
     "output_type": "execute_result"
    }
   ],
   "source": [
    "abspath('19-12_os.path.ipynb')"
   ]
  },
  {
   "cell_type": "markdown",
   "metadata": {},
   "source": [
    "basename(path): 返回路径名称的基本名称;"
   ]
  },
  {
   "cell_type": "code",
   "execution_count": 5,
   "metadata": {},
   "outputs": [
    {
     "data": {
      "text/plain": [
       "'19-12_os.path.ipynb'"
      ]
     },
     "execution_count": 5,
     "metadata": {},
     "output_type": "execute_result"
    }
   ],
   "source": [
    "basename('F:\\\\Jupyter\\\\ref_of_py\\\\19-12_os.path.ipynb')"
   ]
  },
  {
   "cell_type": "code",
   "execution_count": 6,
   "metadata": {},
   "outputs": [
    {
     "data": {
      "text/plain": [
       "''"
      ]
     },
     "execution_count": 6,
     "metadata": {},
     "output_type": "execute_result"
    }
   ],
   "source": [
    "basename('F:\\\\Jupyter\\\\ref_of_py\\\\')"
   ]
  },
  {
   "cell_type": "markdown",
   "metadata": {},
   "source": [
    "commonpath(paths): 最大共同路径;  \n",
    "commonprefix(paths): 最大共同字符串;    "
   ]
  },
  {
   "cell_type": "code",
   "execution_count": 7,
   "metadata": {},
   "outputs": [
    {
     "data": {
      "text/plain": [
       "('F:\\\\Jupyter\\\\ref_of_py\\\\1', 'F:\\\\Jupyter\\\\ref_of_py')"
      ]
     },
     "execution_count": 7,
     "metadata": {},
     "output_type": "execute_result"
    }
   ],
   "source": [
    "ll=['F:\\\\Jupyter\\\\ref_of_py\\\\19-12_os.path.ipynb', \n",
    "    'F:\\\\Jupyter\\\\ref_of_py\\\\16-02_re.ipynb']\n",
    "commonprefix(ll), commonpath(ll)"
   ]
  },
  {
   "cell_type": "markdown",
   "metadata": {},
   "source": [
    "dirname(path): 返回path的目录名称"
   ]
  },
  {
   "cell_type": "code",
   "execution_count": 8,
   "metadata": {},
   "outputs": [
    {
     "data": {
      "text/plain": [
       "'F:\\\\Jupyter\\\\ref_of_py'"
      ]
     },
     "execution_count": 8,
     "metadata": {},
     "output_type": "execute_result"
    }
   ],
   "source": [
    "dirname('F:\\\\Jupyter\\\\ref_of_py\\\\19-12_os.path.ipynb')"
   ]
  },
  {
   "cell_type": "markdown",
   "metadata": {},
   "source": [
    "exists(path): 查看路径是否存在(路径检查), 如果符号链接损坏, 返回False, 区别于lexists();"
   ]
  },
  {
   "cell_type": "code",
   "execution_count": 9,
   "metadata": {},
   "outputs": [
    {
     "data": {
      "text/plain": [
       "True"
      ]
     },
     "execution_count": 9,
     "metadata": {},
     "output_type": "execute_result"
    }
   ],
   "source": [
    "exists('F://Jupyter//ref_of_py/16-02_re.ipynb')"
   ]
  },
  {
   "cell_type": "code",
   "execution_count": 10,
   "metadata": {},
   "outputs": [
    {
     "data": {
      "text/plain": [
       "False"
      ]
     },
     "execution_count": 10,
     "metadata": {},
     "output_type": "execute_result"
    }
   ],
   "source": [
    "exists('F:\\\\Jupyter\\\\ref_of_py\\\\19-12_os.path.ipynb') #不能检查自身文件"
   ]
  },
  {
   "cell_type": "markdown",
   "metadata": {},
   "source": [
    "expanduser(path): 将路径中的`~`替换为`用户主目录`;  \n",
    "如果路径中不含`~`,path将会被原封不动的返回;"
   ]
  },
  {
   "cell_type": "code",
   "execution_count": 11,
   "metadata": {},
   "outputs": [
    {
     "data": {
      "text/plain": [
       "('C:\\\\Users\\\\DELL', 'kk')"
      ]
     },
     "execution_count": 11,
     "metadata": {},
     "output_type": "execute_result"
    }
   ],
   "source": [
    "expanduser('~'), expanduser('kk')"
   ]
  },
  {
   "cell_type": "markdown",
   "metadata": {},
   "source": [
    "***\n",
    "<>\n",
    "***"
   ]
  },
  {
   "cell_type": "code",
   "execution_count": 12,
   "metadata": {},
   "outputs": [],
   "source": [
    "import os"
   ]
  },
  {
   "cell_type": "code",
   "execution_count": 13,
   "metadata": {},
   "outputs": [
    {
     "name": "stdout",
     "output_type": "stream",
     "text": [
      "appdata     |computername|comspec     |homedrive   |homepath    |localappdata|\n",
      "logonserver |os          |path        |pathext     |programdata |programfiles|\n",
      "programw6432|prompt      |psmodulepath|public      |sessionname |systemdrive |\n",
      "systemroot  |temp        |tmp         |userdomain  |username    |userprofile |\n",
      "windir      |term        |clicolor    |pager       |git_pager   |mplbackend  |\n",
      "\n"
     ]
    }
   ],
   "source": [
    "%col [k.lower() for k in os.environ if len(k)<=12] "
   ]
  },
  {
   "cell_type": "code",
   "execution_count": 14,
   "metadata": {},
   "outputs": [
    {
     "data": {
      "text/plain": [
       "'\\\\Users\\\\DELL'"
      ]
     },
     "execution_count": 14,
     "metadata": {},
     "output_type": "execute_result"
    }
   ],
   "source": [
    "os.environ.get('HOMEPATH') #为什么木有盘符"
   ]
  },
  {
   "cell_type": "code",
   "execution_count": 15,
   "metadata": {},
   "outputs": [
    {
     "data": {
      "text/plain": [
       "['d:\\\\anaconda3-520\\\\library\\\\bin',\n",
       " 'c:\\\\windows\\\\system32',\n",
       " 'c:\\\\windows',\n",
       " 'c:\\\\windows\\\\system32\\\\wbem',\n",
       " 'c:\\\\windows\\\\system32\\\\windowspowershell\\\\v1.0\\\\',\n",
       " 'c:\\\\program files (x86)\\\\ati technologies\\\\ati.ace\\\\core-static',\n",
       " 'd:\\\\matlab\\\\bin\\\\win32',\n",
       " 'c:\\\\program files\\\\microsoft vs code\\\\bin',\n",
       " 'd:\\\\mingw64\\\\mingw32\\\\bin',\n",
       " 'd:\\\\git\\\\cmd',\n",
       " 'd:\\\\git\\\\mingw64\\\\bin',\n",
       " 'd:\\\\git\\\\usr\\\\bin',\n",
       " 'd:\\\\git\\\\mingw64\\\\libexec\\\\git-core',\n",
       " 'd:\\\\mysql-8.0.12-winx64\\\\bin',\n",
       " 'd:\\\\program files\\\\mozilla firefox',\n",
       " 'd:\\\\openbabel\\\\openbabel-2.4.1',\n",
       " 'd:\\\\anaconda3-520',\n",
       " 'd:\\\\anaconda3-520\\\\library\\\\mingw-w64\\\\bin',\n",
       " 'd:\\\\anaconda3-520\\\\library\\\\usr\\\\bin',\n",
       " 'd:\\\\anaconda3-520\\\\library\\\\bin',\n",
       " 'd:\\\\anaconda3-520\\\\scripts',\n",
       " 'd:\\\\graphviz2.38\\\\bin']"
      ]
     },
     "execution_count": 15,
     "metadata": {},
     "output_type": "execute_result"
    }
   ],
   "source": [
    "os.environ.get('PATH').lower().split(';')"
   ]
  },
  {
   "cell_type": "markdown",
   "metadata": {},
   "source": [
    "***\n",
    "<>\n",
    "***"
   ]
  },
  {
   "cell_type": "markdown",
   "metadata": {},
   "source": [
    "expandvars(path): 将`$blk$`替换为其所代表的值(`os.environ.get('blk')`)"
   ]
  },
  {
   "cell_type": "code",
   "execution_count": 16,
   "metadata": {},
   "outputs": [
    {
     "data": {
      "text/plain": [
       "'\\\\Users\\\\DELL\\\\kk'"
      ]
     },
     "execution_count": 16,
     "metadata": {},
     "output_type": "execute_result"
    }
   ],
   "source": [
    "expandvars('$HOMEPATH\\\\kk')"
   ]
  },
  {
   "cell_type": "markdown",
   "metadata": {},
   "source": [
    "getatime(path): 如果path存在(路径检查), 返回最后一次**访问**path的时间"
   ]
  },
  {
   "cell_type": "code",
   "execution_count": 17,
   "metadata": {},
   "outputs": [
    {
     "data": {
      "text/plain": [
       "1537445958.9018605"
      ]
     },
     "execution_count": 17,
     "metadata": {},
     "output_type": "execute_result"
    }
   ],
   "source": [
    "getatime('C:\\\\Users\\\\DELL') #从纪元开始的秒数"
   ]
  },
  {
   "cell_type": "markdown",
   "metadata": {},
   "source": [
    "getctime(path): Unix下返回最后一次**修改**path的时间, Windows下返回path的**创建**时间;"
   ]
  },
  {
   "cell_type": "code",
   "execution_count": 18,
   "metadata": {},
   "outputs": [
    {
     "data": {
      "text/plain": [
       "1464229145.1561115"
      ]
     },
     "execution_count": 18,
     "metadata": {},
     "output_type": "execute_result"
    }
   ],
   "source": [
    "getctime('C:\\\\Users\\\\DELL')"
   ]
  },
  {
   "cell_type": "markdown",
   "metadata": {},
   "source": [
    "getmtime(path):  返回最后一次**修改**path的时间"
   ]
  },
  {
   "cell_type": "code",
   "execution_count": 19,
   "metadata": {},
   "outputs": [
    {
     "data": {
      "text/plain": [
       "1537445958.9018605"
      ]
     },
     "execution_count": 19,
     "metadata": {},
     "output_type": "execute_result"
    }
   ],
   "source": [
    "getmtime('C:\\\\Users\\\\DELL')"
   ]
  },
  {
   "cell_type": "markdown",
   "metadata": {},
   "source": [
    "getsize(path): 以字节为单位, 返回path的大小"
   ]
  },
  {
   "cell_type": "code",
   "execution_count": 20,
   "metadata": {},
   "outputs": [
    {
     "data": {
      "text/plain": [
       "12288"
      ]
     },
     "execution_count": 20,
     "metadata": {},
     "output_type": "execute_result"
    }
   ],
   "source": [
    "getsize('C:\\\\Users\\\\DELL') #路径检查"
   ]
  },
  {
   "cell_type": "markdown",
   "metadata": {},
   "source": [
    "isabs(path): 是否以一个斜杆或者一个Windows盘符开始"
   ]
  },
  {
   "cell_type": "code",
   "execution_count": 21,
   "metadata": {},
   "outputs": [
    {
     "data": {
      "text/plain": [
       "False"
      ]
     },
     "execution_count": 21,
     "metadata": {},
     "output_type": "execute_result"
    }
   ],
   "source": [
    "isabs('C:\\\\Users\\\\DELL'); isabs('kk')"
   ]
  },
  {
   "cell_type": "markdown",
   "metadata": {},
   "source": [
    "isfile(path): 判断path是否是一个文件"
   ]
  },
  {
   "cell_type": "code",
   "execution_count": 22,
   "metadata": {},
   "outputs": [
    {
     "data": {
      "text/plain": [
       "True"
      ]
     },
     "execution_count": 22,
     "metadata": {},
     "output_type": "execute_result"
    }
   ],
   "source": [
    "isfile('F:\\\\Jupyter\\\\ref_of_py\\\\16-02_re.ipynb') #文件检查, 正在使用的文件返回False"
   ]
  },
  {
   "cell_type": "code",
   "execution_count": 23,
   "metadata": {},
   "outputs": [
    {
     "data": {
      "text/plain": [
       "True"
      ]
     },
     "execution_count": 23,
     "metadata": {},
     "output_type": "execute_result"
    }
   ],
   "source": [
    "isfile('16-02_re.ipynb')"
   ]
  },
  {
   "cell_type": "markdown",
   "metadata": {},
   "source": [
    "isdir(path): 判断path是否是一个目录"
   ]
  },
  {
   "cell_type": "code",
   "execution_count": 24,
   "metadata": {},
   "outputs": [
    {
     "data": {
      "text/plain": [
       "True"
      ]
     },
     "execution_count": 24,
     "metadata": {},
     "output_type": "execute_result"
    }
   ],
   "source": [
    "isdir('F:\\\\Jupyter\\\\ref_of_py') "
   ]
  },
  {
   "cell_type": "code",
   "execution_count": 25,
   "metadata": {},
   "outputs": [
    {
     "data": {
      "text/plain": [
       "False"
      ]
     },
     "execution_count": 25,
     "metadata": {},
     "output_type": "execute_result"
    }
   ],
   "source": [
    "isdir('F:\\\\Jupyter\\\\ref_of_pyk')# 路径检查"
   ]
  },
  {
   "cell_type": "markdown",
   "metadata": {},
   "source": [
    "islink(path): 判断path是否是一个符号链接"
   ]
  },
  {
   "cell_type": "code",
   "execution_count": 26,
   "metadata": {},
   "outputs": [
    {
     "data": {
      "text/plain": [
       "False"
      ]
     },
     "execution_count": 26,
     "metadata": {},
     "output_type": "execute_result"
    }
   ],
   "source": [
    "islink('E:\\cpt\\ftlns')"
   ]
  },
  {
   "cell_type": "markdown",
   "metadata": {},
   "source": [
    "ismount(path): 判断path是否是一个挂载点"
   ]
  },
  {
   "cell_type": "code",
   "execution_count": 27,
   "metadata": {},
   "outputs": [
    {
     "data": {
      "text/plain": [
       "True"
      ]
     },
     "execution_count": 27,
     "metadata": {},
     "output_type": "execute_result"
    }
   ],
   "source": [
    "ismount('G:\\\\')"
   ]
  },
  {
   "cell_type": "markdown",
   "metadata": {},
   "source": [
    "join(p1,p2,..,pn): 将多个路径组件只能的连接为一个路径"
   ]
  },
  {
   "cell_type": "code",
   "execution_count": 28,
   "metadata": {},
   "outputs": [
    {
     "data": {
      "text/plain": [
       "'home\\\\ibr\\\\blk'"
      ]
     },
     "execution_count": 28,
     "metadata": {},
     "output_type": "execute_result"
    }
   ],
   "source": [
    "join('home', 'ibr', 'blk')"
   ]
  },
  {
   "cell_type": "markdown",
   "metadata": {},
   "source": [
    "lexists(path): 如果path存在, 返回True, 对所有符号链接均返回True, 即便符号链接已经损坏"
   ]
  },
  {
   "cell_type": "code",
   "execution_count": 29,
   "metadata": {},
   "outputs": [
    {
     "data": {
      "text/plain": [
       "False"
      ]
     },
     "execution_count": 29,
     "metadata": {},
     "output_type": "execute_result"
    }
   ],
   "source": [
    "lexists('F:\\\\Jupyter\\\\ref_of_py\\\\19-12_os.path.ipynb')"
   ]
  },
  {
   "cell_type": "markdown",
   "metadata": {},
   "source": [
    "normcase(path): 在不区分大小写的文件系统中(ex.Windows),  \n",
    "将路径中的大写字母转化为小写字母, 并且将路径中的正斜杠转化为反斜杠;"
   ]
  },
  {
   "cell_type": "code",
   "execution_count": 30,
   "metadata": {},
   "outputs": [
    {
     "data": {
      "text/plain": [
       "'\\\\f\\\\jupyter\\\\ref_of_py'"
      ]
     },
     "execution_count": 30,
     "metadata": {},
     "output_type": "execute_result"
    }
   ],
   "source": [
    "normcase('/f/Jupyter/ref_of_py')"
   ]
  },
  {
   "cell_type": "markdown",
   "metadata": {},
   "source": [
    "realpath(path): 返回path的真实路劲, 并出去路径中的符号链接(Unix)"
   ]
  },
  {
   "cell_type": "markdown",
   "metadata": {},
   "source": [
    "relpath(path): 当前路径到path的相对路径"
   ]
  },
  {
   "cell_type": "code",
   "execution_count": 31,
   "metadata": {},
   "outputs": [
    {
     "data": {
      "text/plain": [
       "'19-12_os.path.ipynb'"
      ]
     },
     "execution_count": 31,
     "metadata": {},
     "output_type": "execute_result"
    }
   ],
   "source": [
    "relpath('F:\\\\Jupyter\\\\ref_of_py\\\\19-12_os.path.ipynb')"
   ]
  },
  {
   "cell_type": "markdown",
   "metadata": {},
   "source": [
    "samefile(p1,p2): 如果p1和p2引用的是同一个文件或目录的话返回True(Unix)"
   ]
  },
  {
   "cell_type": "markdown",
   "metadata": {},
   "source": [
    "samestat(stat1,stat2): "
   ]
  },
  {
   "cell_type": "markdown",
   "metadata": {},
   "source": [
    "split(path): 将path拆分为`head,tail`对, 等价为(dirname(),basename())"
   ]
  },
  {
   "cell_type": "markdown",
   "metadata": {},
   "source": [
    "splitext(path): 将路径拆分为基本文件名称和后缀"
   ]
  },
  {
   "cell_type": "code",
   "execution_count": 32,
   "metadata": {},
   "outputs": [
    {
     "data": {
      "text/plain": [
       "('kk', '.clc')"
      ]
     },
     "execution_count": 32,
     "metadata": {},
     "output_type": "execute_result"
    }
   ],
   "source": [
    "splitext('kk.clc')"
   ]
  },
  {
   "cell_type": "markdown",
   "metadata": {},
   "source": [
    "splitunc(path): 将路径名称拆分为(unc,rest)对,UNC(universal Naming Convention, 通用命名规则)挂载点"
   ]
  },
  {
   "cell_type": "code",
   "execution_count": null,
   "metadata": {},
   "outputs": [],
   "source": []
  }
 ],
 "metadata": {
  "kernelspec": {
   "display_name": "Python 3",
   "language": "python",
   "name": "python3"
  },
  "language_info": {
   "codemirror_mode": {
    "name": "ipython",
    "version": 3
   },
   "file_extension": ".py",
   "mimetype": "text/x-python",
   "name": "python",
   "nbconvert_exporter": "python",
   "pygments_lexer": "ipython3",
   "version": "3.6.5"
  },
  "toc": {
   "base_numbering": "12",
   "nav_menu": {},
   "number_sections": true,
   "sideBar": true,
   "skip_h1_title": true,
   "title_cell": "Table of Contents",
   "title_sidebar": "Contents",
   "toc_cell": false,
   "toc_position": {
    "height": "calc(100% - 180px)",
    "left": "10px",
    "top": "150px",
    "width": "168.35px"
   },
   "toc_section_display": true,
   "toc_window_display": false
  }
 },
 "nbformat": 4,
 "nbformat_minor": 2
}

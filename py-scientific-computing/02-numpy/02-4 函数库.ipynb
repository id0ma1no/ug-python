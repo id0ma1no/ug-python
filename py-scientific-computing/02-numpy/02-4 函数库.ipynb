{
 "cells": [
  {
   "cell_type": "code",
   "execution_count": 1,
   "metadata": {},
   "outputs": [
    {
     "name": "stdout",
     "output_type": "stream",
     "text": [
      "^^^^^^^^^^^^^^^^^^^^^^^^^^^^^^^^^^^^^^^^^^^^^^!kk0:起始>^^^^^^^^^^^^^^^^^^^^^^^^^^^^^^^^^^^^^^^^^^^^^^\n"
     ]
    }
   ],
   "source": [
    "kk 0"
   ]
  },
  {
   "cell_type": "code",
   "execution_count": 2,
   "metadata": {},
   "outputs": [],
   "source": [
    "%precision 2\n",
    "from numpy import random as nr"
   ]
  },
  {
   "cell_type": "markdown",
   "metadata": {},
   "source": [
    "## 庞大的函数库"
   ]
  },
  {
   "cell_type": "markdown",
   "metadata": {},
   "source": [
    "### 随机数"
   ]
  },
  {
   "cell_type": "markdown",
   "metadata": {},
   "source": [
    "随机数"
   ]
  },
  {
   "cell_type": "code",
   "execution_count": 3,
   "metadata": {},
   "outputs": [
    {
     "name": "stdout",
     "output_type": "stream",
     "text": [
      "         r1                      r2                 r3    \n",
      "--------------------  -----------------------  -----------\n",
      "[[0.58, 0.69, 0.4 ],  [[ 1.75,  1.19, -0.56],  [[3, 7, 7],\n",
      " [0.37, 0.26, 0.57],   [-0.07, -1.8 ,  0.58],   [8, 4, 3],\n",
      " [0.6 , 0.2 , 0.51],   [-0.76, -1.36,  0.06],   [9, 2, 2],\n",
      " [0.  , 0.84, 1.  ]]   [ 0.39,  0.52, -0.  ]]   [5, 1, 4]]\n"
     ]
    }
   ],
   "source": [
    "r1 = nr.rand(4, 3)   #0-1之间的随机数\n",
    "r2 = nr.randn(4, 3)  #符合标准正态分布的随机数\n",
    "r3 = nr.randint(0, 10, (4,3)) #指定范围内的随机证书\n",
    "%C r1; r2; r3"
   ]
  },
  {
   "cell_type": "markdown",
   "metadata": {},
   "source": [
    "随机分布"
   ]
  },
  {
   "cell_type": "code",
   "execution_count": 4,
   "metadata": {},
   "outputs": [
    {
     "name": "stdout",
     "output_type": "stream",
     "text": [
      "            r1                         r2                 r3    \n",
      "--------------------------  -----------------------  -----------\n",
      "[[100.28,  99.54, 110.12],  [[16.26, 11.21, 15.98],  [[4, 2, 0],\n",
      " [100.17, 120.48,  98.19],   [12.78, 13.88, 14.91],   [2, 0, 2],\n",
      " [ 91.1 ,  96.24, 115.95],   [15.02, 17.8 , 16.24],   [1, 4, 0],\n",
      " [ 88.77,  98.11, 110.89]]   [11.24, 19.29, 16.86]]   [3, 3, 1]]\n"
     ]
    }
   ],
   "source": [
    "r1 = nr.normal(100, 10, (4, 3)) #符合正态分布的随机数\n",
    "r2 = nr.uniform(10, 20, (4, 3)) #符合均匀分布的随机数\n",
    "r3 = nr.poisson(2.0, (4, 3))    #符合泊松分布的随机数\n",
    "%C r1; r2; r3"
   ]
  },
  {
   "cell_type": "markdown",
   "metadata": {},
   "source": [
    "随机排序"
   ]
  },
  {
   "cell_type": "code",
   "execution_count": 5,
   "metadata": {},
   "outputs": [
    {
     "name": "stdout",
     "output_type": "stream",
     "text": [
      " 1): [4 3 6 1 0 5 8 7 9 2],     2): [ 1 10 40 20 30],    \n"
     ]
    }
   ],
   "source": [
    "a = np.array([1, 10, 20, 30, 40])\n",
    "%P nr.permutation(10); nr.permutation(a)#返回新的数组"
   ]
  },
  {
   "cell_type": "code",
   "execution_count": 6,
   "metadata": {},
   "outputs": [
    {
     "data": {
      "text/plain": [
       "array([ 1, 10, 30, 20, 40])"
      ]
     },
     "execution_count": 6,
     "metadata": {},
     "output_type": "execute_result"
    }
   ],
   "source": [
    "nr.shuffle(a) #对原始数组进行排序\n",
    "a"
   ]
  },
  {
   "cell_type": "markdown",
   "metadata": {},
   "source": [
    "可重复抽样"
   ]
  },
  {
   "cell_type": "code",
   "execution_count": 7,
   "metadata": {},
   "outputs": [
    {
     "name": "stdout",
     "output_type": "stream",
     "text": [
      "          c1                         c2                         c3          \n",
      "----------------------     ----------------------     ----------------------\n",
      "[[11., 11., 11.,  9.],     [[ 6.,  3., 18.,  9.],     [[10.,  6., 15., 19.],\n",
      " [15.,  3., 12., 10.],      [14., 17., 19., 12.],      [17.,  5., 15., 16.],\n",
      " [ 8.,  3., 10.,  7.]]      [ 2.,  7., 16.,  5.]]      [16.,  4., 19.,  2.]]\n"
     ]
    }
   ],
   "source": [
    "a = np.arange(20, dtype=float)\n",
    "c1 = nr.choice(a, size=(3, 4))\n",
    "c2 = nr.choice(a, size=(3, 4), replace=False) #不可重复选取\n",
    "c3 = nr.choice(a, size=(3, 4), p=a / np.sum(a)) # 数字越大抽取的概率越大\n",
    "%C 5 c1; c2; c3"
   ]
  },
  {
   "cell_type": "markdown",
   "metadata": {},
   "source": [
    "随机数种子: 种子相同产生的随机数相同"
   ]
  },
  {
   "cell_type": "code",
   "execution_count": 8,
   "metadata": {},
   "outputs": [
    {
     "name": "stdout",
     "output_type": "stream",
     "text": [
      "     r1            r2            r3            r4     \n",
      "------------  ------------  ------------  ------------\n",
      "[11, 98, 88]  [89, 15, 12]  [51, 92, 14]  [51, 92, 14]\n"
     ]
    }
   ],
   "source": [
    "r1 = nr.randint(0, 100, 3)\n",
    "r2 = nr.randint(0, 100, 3)\n",
    "nr.seed(42)\n",
    "r3 = nr.randint(0, 100, 3)\n",
    "nr.seed(42)\n",
    "r4 = nr.randint(0, 100, 3)\n",
    "%C r1; r2; r3; r4"
   ]
  },
  {
   "cell_type": "markdown",
   "metadata": {},
   "source": [
    "### 求和、平均值、方差"
   ]
  },
  {
   "cell_type": "markdown",
   "metadata": {},
   "source": [
    "**sum()**"
   ]
  },
  {
   "cell_type": "code",
   "execution_count": 9,
   "metadata": {},
   "outputs": [
    {
     "name": "stdout",
     "output_type": "stream",
     "text": [
      "     a          np.sum(a)     np.sum(a, axis=1)     np.sum(a, axis=0)\n",
      "-----------     ---------     -----------------     -----------------\n",
      "[[6, 3, 7],     35            [16, 19]              [10,  9, 16]     \n",
      " [4, 6, 9]]                                                          \n"
     ]
    }
   ],
   "source": [
    "nr.seed(42)\n",
    "a = nr.randint(0,10,size=(2,3))\n",
    "%C 5 a; np.sum(a); np.sum(a, axis=1); np.sum(a, axis=0)"
   ]
  },
  {
   "cell_type": "code",
   "execution_count": 10,
   "metadata": {},
   "outputs": [
    {
     "name": "stdout",
     "output_type": "stream",
     "text": [
      "       f             np.sum(f, axis=(0, 2))     sum([6, 3, 7, 4]+[7, 2, 5, 4])\n",
      "----------------     ----------------------     ------------------------------\n",
      "[[[6, 3, 7, 4],      [38, 37, 39]               38                            \n",
      "  [6, 9, 2, 6],                                                               \n",
      "  [7, 4, 3, 7]],                                                              \n",
      "                                                                              \n",
      " [[7, 2, 5, 4],                                                               \n",
      "  [1, 7, 5, 1],                                                               \n",
      "  [4, 0, 9, 5]]]                                                              \n"
     ]
    }
   ],
   "source": [
    "nr.seed(42)\n",
    "f = nr.randint(0,10,(2,3,4))\n",
    "%C 5 f; np.sum(f, axis=(0, 2)); sum([6, 3, 7, 4]+[7, 2, 5, 4])"
   ]
  },
  {
   "cell_type": "code",
   "execution_count": 11,
   "metadata": {},
   "outputs": [
    {
     "name": "stdout",
     "output_type": "stream",
     "text": [
      "     a       np.sum(a, 1, keepdims=False)  np.sum(a, 1, keepdims=True)\n",
      "-----------  ----------------------------  ---------------------------\n",
      "[[6, 3, 7],  [16, 19]                      [[16],                     \n",
      " [4, 6, 9]]                                 [19]]                     \n"
     ]
    }
   ],
   "source": [
    "# keepdims参数设置是否保持原数组的维数\n",
    "%C a; np.sum(a, 1, keepdims=False); np.sum(a, 1, keepdims=True)"
   ]
  },
  {
   "cell_type": "code",
   "execution_count": 12,
   "metadata": {},
   "outputs": [
    {
     "name": "stdout",
     "output_type": "stream",
     "text": [
      "           pa            pa.sum(1, keepdims=True)\n",
      "-----------------------  ------------------------\n",
      "[[37.5 , 18.75, 43.75],  [[100.],                \n",
      " [21.05, 31.58, 47.37]]   [100.]]                \n"
     ]
    }
   ],
   "source": [
    "# keepdims设置为True时, sum()得到的结果可以和原始数组进行广播运算\n",
    "pa = a / np.sum(a, 1, dtype=float, keepdims=True) * 100\n",
    "%C pa; pa.sum(1, keepdims=True)"
   ]
  },
  {
   "cell_type": "code",
   "execution_count": 13,
   "metadata": {},
   "outputs": [
    {
     "name": "stdout",
     "output_type": "stream",
     "text": [
      "np.sum(b)  np.sum(b,dtype=np.double)\n",
      "---------  -------------------------\n",
      "1099999.2  1100000.023841858        \n"
     ]
    }
   ],
   "source": [
    "#  sum()求和时注意查看结果的精度\n",
    "b = np.full(1000000, 1.1, dtype=np.float32) # 创建一个很大的单精度浮点数数组\n",
    "%C np.sum(b); np.sum(b,dtype=np.double)"
   ]
  },
  {
   "cell_type": "markdown",
   "metadata": {},
   "source": [
    "**mean()**"
   ]
  },
  {
   "cell_type": "code",
   "execution_count": 14,
   "metadata": {},
   "outputs": [
    {
     "data": {
      "text/plain": [
       "array([5.33, 6.33])"
      ]
     },
     "execution_count": 14,
     "metadata": {},
     "output_type": "execute_result"
    }
   ],
   "source": [
    "np.mean(a,axis=1) # 默认双精度"
   ]
  },
  {
   "cell_type": "markdown",
   "metadata": {},
   "source": [
    "**average()**: 有一个权重参数"
   ]
  },
  {
   "cell_type": "code",
   "execution_count": 15,
   "metadata": {},
   "outputs": [
    {
     "name": "stdout",
     "output_type": "stream",
     "text": [
      " 1): 78.61538461538461,    \n",
      " 1): 78.61538461538461,    \n"
     ]
    }
   ],
   "source": [
    "score = np.array([83, 72, 79])\n",
    "number = np.array([20, 15, 30])\n",
    "%P np.average(score, weights=number)\n",
    "%P np.sum(score * number) / np.sum(number, dtype=float)"
   ]
  },
  {
   "cell_type": "markdown",
   "metadata": {},
   "source": [
    "**std()**: 计算数组的标准差;  \n",
    "**var()**: 计算数组的方差;  "
   ]
  },
  {
   "cell_type": "markdown",
   "metadata": {},
   "source": [
    "`偏样本方差`(ddot=0): $\\large s_n^2 = \\frac{1}{n} \\Sigma_{i=1}^n(y_i-\\bar{y})^2$.   \n",
    "`无偏样本方差`(ddot=1): $\\large s_n^2 = \\frac{1}{n-1} \\Sigma_{i=1}^n(y_i-\\bar{y})^2$.  \n",
    "因为n个数据点的信息量 = (n-1)个数据点的信息量+均值的信息量, 因此, $y_1到y_n$只有(n-1)个信息量;"
   ]
  },
  {
   "cell_type": "code",
   "execution_count": 16,
   "metadata": {},
   "outputs": [
    {
     "name": "stdout",
     "output_type": "stream",
     "text": [
      "   np.mean(v1)        np.mean(v2)    \n",
      "-----------------  ------------------\n",
      "3.603352705146314  4.0037252279403495\n"
     ]
    }
   ],
   "source": [
    "a = nr.normal(0, 2.0, (100000, 10)) \n",
    "v1 = np.var(a, axis=1, ddof=0)\n",
    "v2 = np.var(a, axis=1, ddof=1)\n",
    "%C np.mean(v1); np.mean(v2)"
   ]
  },
  {
   "cell_type": "markdown",
   "metadata": {},
   "source": [
    ">无偏样本方差 == 总体方差, 偏样本方差 == 正态分布随机变量的最大似然估计\n",
    "\n",
    ">最大似然估计: 找到一组参数(期望, 方差), 使得所用样本一起发生时概率最大"
   ]
  },
  {
   "cell_type": "code",
   "execution_count": 17,
   "metadata": {},
   "outputs": [],
   "source": [
    "def normal_pdf(mean, var, x):\n",
    "# 计算正态分布的概率密度的函数\"\n",
    "    return 1 / np.sqrt(2 * np.pi * var) * np.exp(\\\n",
    "                                -(x - mean) ** 2 / (2 * var))\n",
    "nr.seed(42)\n",
    "np.set_printoptions(precision=2)\n",
    "data = nr.normal(0, 2.0, size=10)                         \n",
    "mean, var = np.mean(data), np.var(data)                   \n",
    "\n",
    "var_range = np.linspace(max(var - 4, 0.1), var + 4, 100)  \n",
    "# 产生一组方差值,调参\n",
    "\n",
    "p = normal_pdf(mean, var_range[:, None], data)            \n",
    "pp = np.product(p, axis=1)      "
   ]
  },
  {
   "cell_type": "code",
   "execution_count": 18,
   "metadata": {},
   "outputs": [
    {
     "name": "stdout",
     "output_type": "stream",
     "text": [
      "       mean                var        \n",
      "------------------  ------------------\n",
      "0.8961222233975125  1.8818677808526267\n"
     ]
    }
   ],
   "source": [
    "%C mean; var"
   ]
  },
  {
   "cell_type": "code",
   "execution_count": 19,
   "metadata": {},
   "outputs": [
    {
     "data": {
      "text/plain": [
       "((10,), (100, 1), (100, 10))"
      ]
     },
     "execution_count": 19,
     "metadata": {},
     "output_type": "execute_result"
    }
   ],
   "source": [
    "data.shape, var_range[:, None].shape, p.shape, "
   ]
  },
  {
   "cell_type": "code",
   "execution_count": 20,
   "metadata": {},
   "outputs": [
    {
     "data": {
      "image/png": "[encoded data removed]",
      "text/plain": [
       "<Figure size 432x288 with 1 Axes>"
      ]
     },
     "metadata": {},
     "output_type": "display_data"
    }
   ],
   "source": [
    "#偏样本方差位于似然估计曲线的最大值处\n",
    "import pylab as pl\n",
    "pl.plot(var_range, pp, 'b-')\n",
    "pl.axvline(var, 0, 1, c=\"r\")\n",
    "pl.show()"
   ]
  },
  {
   "cell_type": "markdown",
   "metadata": {},
   "source": [
    "### 大小与排序"
   ]
  },
  {
   "cell_type": "markdown",
   "metadata": {},
   "source": [
    "min(), max() 都有axis, out, keepdims 等参数\n",
    "\n",
    "ptp()计算最大值和最小值之间的差值\n",
    "\n",
    "minimum(), maximum() 用于比较两个数组对应下标的元素, 两个数组形状不同时需要广播"
   ]
  },
  {
   "cell_type": "code",
   "execution_count": 21,
   "metadata": {},
   "outputs": [
    {
     "data": {
      "text/plain": [
       "array([[2, 3, 5, 7],\n",
       "       [4, 4, 5, 7],\n",
       "       [6, 6, 6, 7]])"
      ]
     },
     "execution_count": 21,
     "metadata": {},
     "output_type": "execute_result"
    }
   ],
   "source": [
    "a = np.array([1, 3, 5, 7])\n",
    "b = np.array([2, 4, 6])\n",
    "np.maximum(a[None, :], b[:, None])"
   ]
  },
  {
   "cell_type": "markdown",
   "metadata": {},
   "source": [
    "argmax() 和 argmin() 计算最大值和最小值的地址, 如果不指定 axis,则返回平坦化之后的下标"
   ]
  },
  {
   "cell_type": "code",
   "execution_count": 22,
   "metadata": {},
   "outputs": [
    {
     "name": "stdout",
     "output_type": "stream",
     "text": [
      "        a          np.max(a)  max_pos\n",
      "-----------------  ---------  -------\n",
      "[[6, 3, 7, 4, 6],  9          5      \n",
      " [9, 2, 6, 7, 4],                    \n",
      " [3, 7, 7, 2, 5],                    \n",
      " [4, 1, 7, 5, 1]]                    \n"
     ]
    }
   ],
   "source": [
    "np.random.seed(42)\n",
    "a = np.random.randint(0, 10, size=(4, 5))\n",
    "max_pos = np.argmax(a)\n",
    "%C a; np.max(a); max_pos"
   ]
  },
  {
   "cell_type": "markdown",
   "metadata": {},
   "source": [
    "unravel_index 可以将一维数组的下标转化为多维数组的下标, 第一个参数是一位数组的下标, 第二个参数是多维数组的形状"
   ]
  },
  {
   "cell_type": "code",
   "execution_count": 23,
   "metadata": {},
   "outputs": [
    {
     "name": "stdout",
     "output_type": "stream",
     "text": [
      " idx    a[idx]\n",
      "------  ------\n",
      "(1, 0)  9     \n"
     ]
    }
   ],
   "source": [
    "idx = np.unravel_index(max_pos, a.shape)\n",
    "%C idx; a[idx]"
   ]
  },
  {
   "cell_type": "code",
   "execution_count": 24,
   "metadata": {},
   "outputs": [
    {
     "data": {
      "text/plain": [
       "array([2, 0, 1, 2], dtype=int64)"
      ]
     },
     "execution_count": 24,
     "metadata": {},
     "output_type": "execute_result"
    }
   ],
   "source": [
    "idx = np.argmax(a, axis=1)\n",
    "idx"
   ]
  },
  {
   "cell_type": "code",
   "execution_count": null,
   "metadata": {},
   "outputs": [],
   "source": []
  },
  {
   "cell_type": "code",
   "execution_count": 25,
   "metadata": {},
   "outputs": [
    {
     "name": "stdout",
     "output_type": "stream",
     "text": [
      "        a              idx         a_rowmax  \n",
      "-----------------  ------------  ------------\n",
      "[[6, 3, 7, 4, 6],  [2, 0, 1, 2]  [7, 9, 7, 7]\n",
      " [9, 2, 6, 7, 4],                            \n",
      " [3, 7, 7, 2, 5],                            \n",
      " [4, 1, 7, 5, 1]]                            \n"
     ]
    }
   ],
   "source": [
    "# 通过每行上最大值的地址取出每行上的最大值\n",
    "a_rowmax=a[np.arange(a.shape[0]), idx]\n",
    "%C a; idx; a_rowmax"
   ]
  },
  {
   "cell_type": "markdown",
   "metadata": {},
   "source": [
    "sort()方法进行原位排序, sort()函数返回新的数组\n",
    "\n",
    "axis 默认为-1, 沿着最后轴排序\n",
    "\n",
    "axis=None 排序之前先进行平坦化"
   ]
  },
  {
   "cell_type": "code",
   "execution_count": 26,
   "metadata": {},
   "outputs": [
    {
     "name": "stdout",
     "output_type": "stream",
     "text": [
      "    np.sort(a)     np.sort(a, axis=0)\n",
      "-----------------  ------------------\n",
      "[[3, 4, 6, 6, 7],  [[3, 1, 6, 2, 1], \n",
      " [2, 4, 6, 7, 9],   [4, 2, 7, 4, 4], \n",
      " [2, 3, 5, 7, 7],   [6, 3, 7, 5, 5], \n",
      " [1, 1, 4, 5, 7]]   [9, 7, 7, 7, 6]] \n"
     ]
    }
   ],
   "source": [
    "%C  np.sort(a); np.sort(a, axis=0)"
   ]
  },
  {
   "cell_type": "code",
   "execution_count": 27,
   "metadata": {},
   "outputs": [
    {
     "data": {
      "text/plain": [
       "array([1, 1, 2, 2, 3, 3, 4, 4, 4, 5, 5, 6, 6, 6, 7, 7, 7, 7, 7, 9])"
      ]
     },
     "execution_count": 27,
     "metadata": {},
     "output_type": "execute_result"
    }
   ],
   "source": [
    "np.sort(a, axis=None) "
   ]
  },
  {
   "cell_type": "markdown",
   "metadata": {},
   "source": [
    "argsort() 返回数组元素被排序之前的下标(简称排序下)"
   ]
  },
  {
   "cell_type": "code",
   "execution_count": 28,
   "metadata": {},
   "outputs": [
    {
     "ename": "SyntaxError",
     "evalue": "invalid syntax (<ipython-input-28-ecb07ca03fd2>, line 3)",
     "output_type": "error",
     "traceback": [
      "\u001b[1;36m  File \u001b[1;32m\"<ipython-input-28-ecb07ca03fd2>\"\u001b[1;36m, line \u001b[1;32m3\u001b[0m\n\u001b[1;33m    print \"a:\\n{} \\n\".format(a)\u001b[0m\n\u001b[1;37m                    ^\u001b[0m\n\u001b[1;31mSyntaxError\u001b[0m\u001b[1;31m:\u001b[0m invalid syntax\n"
     ]
    }
   ],
   "source": [
    "sort_axis1 = np.argsort(a)\n",
    "sort_axis0 = np.argsort(a, axis=0)\n",
    "print \"a:\\n{} \\n\".format(a) \n",
    "%C sort_axis1;  sort_axis0"
   ]
  },
  {
   "cell_type": "markdown",
   "metadata": {},
   "source": [
    "用排序下标计算排序数组"
   ]
  },
  {
   "cell_type": "markdown",
   "metadata": {},
   "source": [
    "> 可以实现对两个相互关联的数组进行排序, 从数组a产生排序下标数组, 然后使用它对数组b进行排序.\n",
    "\n",
    "`排序相关的函数和方法可以通过kind参数指定排序算法, 对于结构数组还可以通过oeder参数指定排序所使用的字段`"
   ]
  },
  {
   "cell_type": "code",
   "execution_count": null,
   "metadata": {},
   "outputs": [],
   "source": [
    "# 原始数组的下标\n",
    "axis0, axis1 = np.ogrid[:a.shape[0], :a.shape[1]]\n",
    "%C axis0; axis1"
   ]
  },
  {
   "cell_type": "code",
   "execution_count": null,
   "metadata": {},
   "outputs": [],
   "source": [
    "# 计算排序数组\n",
    "%C a[axis0, sort_axis1]; a[sort_axis0, axis1]"
   ]
  },
  {
   "cell_type": "markdown",
   "metadata": {},
   "source": [
    "lexsort()函数类似于Excel的多列排序, 他的参数是一个形状为(k,N)的数组,(或者k个序列,序列的长度是N), k 是特征的个数, N是样本的个数,最后的列为主键,主键相同时再按其他的键进行排序, 原始数组和参数数组互为转置"
   ]
  },
  {
   "cell_type": "code",
   "execution_count": null,
   "metadata": {},
   "outputs": [],
   "source": [
    "names = [\"zhang\", \"wang\", \"li\", \"wang\", \"zhang\"]\n",
    "ages = [37, 33, 32, 31, 36]\n",
    "idx = np.lexsort([ages, names])\n",
    "sorted_data = np.array(zip(names, ages), \"O\")[idx]\n",
    "%C idx; sorted_data"
   ]
  },
  {
   "cell_type": "code",
   "execution_count": null,
   "metadata": {},
   "outputs": [],
   "source": [
    "# 原始数组和参数数组互为转置\n",
    "start_array = np.array(zip(names, ages), \"O\")\n",
    "para_array = np.array([ages, names],'O')\n",
    "print (\"原始数组: \\n {} \\n 参数数组: \\n {}\").format(\\\n",
    "        start_array,        para_array)"
   ]
  },
  {
   "cell_type": "code",
   "execution_count": null,
   "metadata": {
    "scrolled": true
   },
   "outputs": [],
   "source": [
    "# 如果要对N行k列数组以第一列进行排序, 可以先对列进行 ::-1 反转\n",
    "b = np.random.randint(0, 10, (5, 3))\n",
    "%C b; b[:, ::-1]; b[:, ::-1].T"
   ]
  },
  {
   "cell_type": "code",
   "execution_count": null,
   "metadata": {},
   "outputs": [],
   "source": [
    "# 原始数组和参数数组互为转置\n",
    "%C b[np.lexsort(b.T)]; b[np.lexsort(b[:, ::-1].T)]"
   ]
  },
  {
   "cell_type": "markdown",
   "metadata": {},
   "source": [
    " partition() 和 argpartition() 对数组进行分割, 可以很快的找出排序之后的前k个元素, partition 的 第二个参数相当于分割点的位置  "
   ]
  },
  {
   "cell_type": "code",
   "execution_count": null,
   "metadata": {},
   "outputs": [],
   "source": [
    "np.random.seed(0)\n",
    "r = np.random.randint(10, 1000000, 100000)\n",
    "%C np.sort(r)[:5]; np.partition(r, 5)[:5] "
   ]
  },
  {
   "cell_type": "code",
   "execution_count": null,
   "metadata": {},
   "outputs": [],
   "source": [
    "%timeit np.sort(r)[:5]\n",
    "%timeit np.sort(np.partition(r, 5)[:5])"
   ]
  },
  {
   "cell_type": "markdown",
   "metadata": {},
   "source": [
    "median() 获得数组的中位数,当数组的长度是偶数时, 返回两个值"
   ]
  },
  {
   "cell_type": "code",
   "execution_count": null,
   "metadata": {},
   "outputs": [],
   "source": [
    "a_median = np.median(a, axis=1)\n",
    "%C a; a_median"
   ]
  },
  {
   "cell_type": "markdown",
   "metadata": {},
   "source": [
    "percentile() 计算百分位数, 将数值从小到大排列, 计算处于 p% 位置上的数值 "
   ]
  },
  {
   "cell_type": "code",
   "execution_count": null,
   "metadata": {},
   "outputs": [],
   "source": [
    "r = np.abs(np.random.randn(100000))\n",
    "np.percentile(r, [68.3, 95.4, 99.7])\n",
    "# 正态随机分布的 1,2,3 倍标准差范围内的数据所占的百分比"
   ]
  },
  {
   "cell_type": "markdown",
   "metadata": {},
   "source": [
    "searchsorted(a, v), 将数组 v 中的元素带到 a 中进行二分搜索, 函数返回要插入的位置, 默认从最左边插入, 可由side参数调节"
   ]
  },
  {
   "cell_type": "code",
   "execution_count": null,
   "metadata": {},
   "outputs": [],
   "source": [
    "a = [2, 4, 8, 16, 16, 32]\n",
    "v = [1, 5, 33, 16]\n",
    "%C np.searchsorted(a, v); np.searchsorted(a, v, side=\"right\")"
   ]
  },
  {
   "cell_type": "markdown",
   "metadata": {},
   "source": [
    "有两个一维数组 x, y, 找到 y 中的每个元素在 x 中的位置, 如果元素不存在, 将下标设置为-1"
   ]
  },
  {
   "cell_type": "code",
   "execution_count": null,
   "metadata": {},
   "outputs": [],
   "source": [
    "x = np.array([3, 5, 7, 1, 9, 8, 6, 10])\n",
    "y = np.array([2, 1, 5, 10, 100, 6])"
   ]
  },
  {
   "cell_type": "code",
   "execution_count": null,
   "metadata": {},
   "outputs": [],
   "source": [
    "def get_index_searchsorted(x, y):\n",
    "    \n",
    "    index = np.argsort(x)  \n",
    "    # x 的排序下标 [3, 0, 1, 6, 2, 5, 4, 7]\n",
    "    \n",
    "    sorted_x = x[index]  \n",
    "    # 排序好的 x 1~10\n",
    "    \n",
    "    sorted_index = np.searchsorted(sorted_x, y)  \n",
    "    # y 中元素可插入 已排序 x 中的地址 [1, 0, 2, 7, 8, 3]\n",
    "    \n",
    "    # y 中元素在 x 中的地址     # 难\n",
    "    yindex = np.take(index, sorted_index, mode=\"clip\") \n",
    "    # clip 越界处理 地址8 \n",
    "    \n",
    "    mask = x[yindex] != y  \n",
    "    # mask == [True, False, False, False,  True, False]\n",
    "    \n",
    "    yindex[mask] = -1\n",
    "    \n",
    "    return yindex"
   ]
  },
  {
   "cell_type": "code",
   "execution_count": null,
   "metadata": {},
   "outputs": [],
   "source": [
    "get_index_searchsorted(x, y)"
   ]
  },
  {
   "cell_type": "markdown",
   "metadata": {},
   "source": [
    "### 统计函数"
   ]
  },
  {
   "cell_type": "markdown",
   "metadata": {},
   "source": [
    "unique()返回参数数组中所有不同的值, 并按顺序排列"
   ]
  },
  {
   "cell_type": "code",
   "execution_count": null,
   "metadata": {},
   "outputs": [],
   "source": [
    "np.random.seed(42)\n",
    "a = np.random.randint(0, 8, 10)\n",
    "%C a; np.unique(a)"
   ]
  },
  {
   "cell_type": "code",
   "execution_count": null,
   "metadata": {},
   "outputs": [],
   "source": [
    "#  return_index=True 一并返回结果数组在原始数组中的下标\n",
    "x, index = np.unique(a, return_index=True)\n",
    "%C x; index; a[index]"
   ]
  },
  {
   "cell_type": "code",
   "execution_count": null,
   "metadata": {},
   "outputs": [],
   "source": [
    "# return_inverse=True 一并返回原始数组在结果数组中的下标\n",
    "x, rindex = np.unique(a, return_inverse=True)\n",
    "%C rindex; x[rindex]"
   ]
  },
  {
   "cell_type": "markdown",
   "metadata": {},
   "source": [
    "bincount() 统计数组下标在数组元素中出现的次数, 问题取源于下标 0,1,2, ... 可以代表事物的类别, 因此可以很方面的计算类别的个数"
   ]
  },
  {
   "cell_type": "code",
   "execution_count": null,
   "metadata": {},
   "outputs": [],
   "source": [
    "#  以索引为默认参数\n",
    "np.bincount(a)"
   ]
  },
  {
   "cell_type": "code",
   "execution_count": null,
   "metadata": {},
   "outputs": [],
   "source": [
    "# 可以给每个类别的每个元素一个权重\n",
    "x = np.array([0  ,   1,   2,   2,   1,   1,   0])\n",
    "w = np.array([0.1, 0.3, 0.2, 0.4, 0.5, 0.8, 1.2])\n",
    "np.bincount(x, w)"
   ]
  },
  {
   "cell_type": "code",
   "execution_count": null,
   "metadata": {},
   "outputs": [],
   "source": [
    "# 每个类别中元素的平均值\n",
    "np.bincount(x, w) / np.bincount(x)"
   ]
  },
  {
   "cell_type": "markdown",
   "metadata": {},
   "source": [
    "histgram() 对一维数组进行直方图统计\n",
    "\n",
    "**histgram(,a ,bins range=None, weights=None, density=Fslse)**"
   ]
  },
  {
   "cell_type": "code",
   "execution_count": null,
   "metadata": {},
   "outputs": [],
   "source": [
    "# bins 指定统计的区间个数 \n",
    "# range 是一个长度为2的元组，表示统计的最小值和最大值\n",
    "a = np.random.rand(100)\n",
    "print a\n",
    "\n",
    "np.histogram(a, bins=5, range=(0, 1))\n",
    "# 指定5个区间，需要6个分割点，区间范围为（0,1）\n",
    "# 输出每个区间上元素的个数，和区间的分割点"
   ]
  },
  {
   "cell_type": "code",
   "execution_count": null,
   "metadata": {},
   "outputs": [],
   "source": [
    "# bins 也可以接收区间分割点列表，此时区间的划分可以是间隔不等的\n",
    "np.histogram(a, bins=[0, 0.4, 0.8, 1.0])"
   ]
  },
  {
   "cell_type": "code",
   "execution_count": null,
   "metadata": {},
   "outputs": [],
   "source": [
    "d = np.loadtxt(\"height.csv\", delimiter=\",\")\n",
    "%C d.shape; np.min(d[:, 0]); np.max(d[:, 0])\n",
    "# 年龄范围做区间,(7,20)"
   ]
  },
  {
   "cell_type": "code",
   "execution_count": null,
   "metadata": {},
   "outputs": [],
   "source": [
    "# weights参数以身高为权重，指定权重参数时, histgram()返回每个区间权重的和\n",
    "cnts = np.histogram(d[:, 0], bins=range(7, 21))[0]\n",
    "sums = np.histogram(d[:, 0], bins=range(7, 21), weights=d[:, 1])[0]"
   ]
  },
  {
   "cell_type": "code",
   "execution_count": null,
   "metadata": {},
   "outputs": [],
   "source": [
    "#  cnts是每个年龄段的个数\n",
    "cnts"
   ]
  },
  {
   "cell_type": "code",
   "execution_count": null,
   "metadata": {},
   "outputs": [],
   "source": [
    "# sums时每个年龄段的身高总和\n",
    "sums[:5]"
   ]
  },
  {
   "cell_type": "code",
   "execution_count": null,
   "metadata": {},
   "outputs": [],
   "source": [
    "# 每个年龄段的身高平均值\n",
    "sums / cnts"
   ]
  },
  {
   "cell_type": "markdown",
   "metadata": {},
   "source": [
    "### 分段函数"
   ]
  },
  {
   "cell_type": "markdown",
   "metadata": {},
   "source": [
    "判断表达式语法"
   ]
  },
  {
   "cell_type": "code",
   "execution_count": null,
   "metadata": {},
   "outputs": [],
   "source": [
    "y,z = 1,0\n",
    "x1 = y if y == 1 else z \n",
    "x0 = y if y != 1 else z\n",
    "%C x1; x0"
   ]
  },
  {
   "cell_type": "markdown",
   "metadata": {},
   "source": [
    "where()函数可以看做是判断表达式的数组版本"
   ]
  },
  {
   "cell_type": "code",
   "execution_count": null,
   "metadata": {},
   "outputs": [],
   "source": [
    "x = np.arange(10) \n",
    "np.where(x < 5, 9 - x, x)"
   ]
  },
  {
   "cell_type": "code",
   "execution_count": null,
   "metadata": {},
   "outputs": [],
   "source": [
    "# x 的形和congdition的形状相同, y, z,经过广播之后业与condition的形状相同\n",
    "np.where(x > 6, 2 * x, 0)"
   ]
  },
  {
   "cell_type": "markdown",
   "metadata": {},
   "source": [
    "where()计算P61的三角波形"
   ]
  },
  {
   "cell_type": "code",
   "execution_count": null,
   "metadata": {},
   "outputs": [],
   "source": [
    "def triangle_wave1(x, c, c0, hc):\n",
    "    x = x - x.astype(np.int) # 三角波的周期为1，因此只取x坐标的小数部分进行计算\n",
    "    return np.where(x >= c, 0,\\\n",
    "                    np.where(x < c0,x / c0 * hc, \\\n",
    "                             (c - x) / (c - c0) * hc))"
   ]
  },
  {
   "cell_type": "markdown",
   "metadata": {},
   "source": [
    "where()嵌套超过两个,可以用select()函数\n",
    "\n",
    "select(condlist, choicelist, default)\n",
    "\n",
    "condilist 是自变量列表, choicelist 是段函数列表, 两者一一对应."
   ]
  },
  {
   "cell_type": "code",
   "execution_count": null,
   "metadata": {},
   "outputs": [],
   "source": [
    "def triangle_wave2(x, c, c0, hc):\n",
    "    x = x - x.astype(np.int)\n",
    "    return np.select([x >= c, x < c0 , True            ], \n",
    "                      [0     , x/c0*hc, (c-x)/(c-c0)*hc])"
   ]
  },
  {
   "cell_type": "markdown",
   "metadata": {},
   "source": [
    "调用 where()函数和select()函数时将会发生大量的内存分配和释放, 因此当输入数组 x 很大时, 用 piecewise()函数计算分段函数值\n",
    "\n",
    "piecewise(x,condlist, funclist)"
   ]
  },
  {
   "cell_type": "code",
   "execution_count": null,
   "metadata": {},
   "outputs": [],
   "source": [
    "def triangle_wave3(x, c, c0, hc):\n",
    "    x = x - x.astype(np.int)\n",
    "    return np.piecewise(x, [x >= c, x < c0], #condlist 的长度可以比funclist的长度少1 \n",
    "        [0,  # x>=c \n",
    "        lambda x: x / c0 * hc, # x<c0\n",
    "        lambda x: (c - x) / (c - c0) * hc])  # else"
   ]
  },
  {
   "cell_type": "code",
   "execution_count": null,
   "metadata": {},
   "outputs": [],
   "source": [
    "x = np.linspace(0, 2, 10000) \n",
    "y1 = triangle_wave1(x, 0.6, 0.4, 1.0)\n",
    "y2 = triangle_wave2(x, 0.6, 0.4, 1.0)\n",
    "y3 = triangle_wave3(x, 0.6, 0.4, 1.0)\n",
    "np.all(y1 == y2), np.all(y1 == y3)"
   ]
  },
  {
   "cell_type": "code",
   "execution_count": null,
   "metadata": {},
   "outputs": [],
   "source": [
    "%timeit triangle_wave1(x, 0.6, 0.4, 1.0)\n",
    "%timeit triangle_wave2(x, 0.6, 0.4, 1.0)\n",
    "%timeit triangle_wave3(x, 0.6, 0.4, 1.0)"
   ]
  },
  {
   "cell_type": "markdown",
   "metadata": {},
   "source": [
    "### 操作多维数组"
   ]
  },
  {
   "cell_type": "markdown",
   "metadata": {},
   "source": [
    "concatenate 是连接多个数组最基本的函数, vstack, hstack, colum_stack 都是其便捷形式"
   ]
  },
  {
   "cell_type": "code",
   "execution_count": null,
   "metadata": {},
   "outputs": [],
   "source": [
    "a = np.arange(3)\n",
    "b = np.arange(10, 13)"
   ]
  },
  {
   "cell_type": "code",
   "execution_count": null,
   "metadata": {},
   "outputs": [],
   "source": [
    "%C a; b"
   ]
  },
  {
   "cell_type": "code",
   "execution_count": null,
   "metadata": {},
   "outputs": [],
   "source": [
    "v = np.vstack((a, b))\n",
    "h = np.hstack((a, b))\n",
    "c = np.column_stack((a, b))\n",
    "%C v; h; c"
   ]
  },
  {
   "cell_type": "markdown",
   "metadata": {},
   "source": [
    "np.c_[] 对象也可以按列连接数组"
   ]
  },
  {
   "cell_type": "code",
   "execution_count": null,
   "metadata": {},
   "outputs": [],
   "source": [
    "np.c_[a, b, a+b]"
   ]
  },
  {
   "cell_type": "markdown",
   "metadata": {},
   "source": [
    "split(), array_split(),用法基本相同, 将一个数组沿着指定轴分成多个数组, 可以指定切分轴上的切分点下标"
   ]
  },
  {
   "cell_type": "code",
   "execution_count": null,
   "metadata": {},
   "outputs": [],
   "source": [
    "np.random.seed(42)\n",
    "a = np.random.randint(0, 10, 12)\n",
    "a"
   ]
  },
  {
   "cell_type": "markdown",
   "metadata": {},
   "source": [
    "把随机数 a 切分为多个数组, 保证每个数组的元素都是升序排列的, 首先计算切分点坐标"
   ]
  },
  {
   "cell_type": "code",
   "execution_count": null,
   "metadata": {},
   "outputs": [],
   "source": [
    "idx = np.nonzero(np.diff(a) < 0)[0] + 1\n",
    "# nonzero 只返回元素不为0的地址\n",
    "# diff和nonzero获得的是每个升序片段的最后一个元素的下标, \n",
    "# 切分点为每个片段第一个 元素的下标\n",
    "\n",
    "%C idx; np.split(a, idx)"
   ]
  },
  {
   "cell_type": "markdown",
   "metadata": {},
   "source": [
    "第二个参数是整数时, 表示分组的个数,split()只能平均分组, array_split()尽可能的平均分组"
   ]
  },
  {
   "cell_type": "code",
   "execution_count": null,
   "metadata": {},
   "outputs": [],
   "source": [
    "%C  np.split(a, 6); np.array_split(a, 5)"
   ]
  },
  {
   "cell_type": "markdown",
   "metadata": {},
   "source": [
    "transpote, 和 swapaxes 用于修改周到顺序, 得到原数组的视图"
   ]
  },
  {
   "cell_type": "code",
   "execution_count": null,
   "metadata": {},
   "outputs": [],
   "source": [
    "a = np.random.randint(0, 10, (2, 3, 4, 5))\n",
    "print u\"原数组形状:\", a.shape\n",
    "print u\"transpose:\", np.transpose(a, axes = (1, 2, 0, 3)).shape\n",
    "#  默认将整个轴进行翻转\n",
    "# 参数 axes 代表原始轴的新顺序 \n",
    "print u\"swapaxes:\", np.swapaxes(a, 1, 2).shape"
   ]
  },
  {
   "cell_type": "markdown",
   "metadata": {},
   "source": [
    "将多个缩略图拼接成一个大图, 理解多维数组中变换轴顺序的应用"
   ]
  },
  {
   "cell_type": "code",
   "execution_count": null,
   "metadata": {},
   "outputs": [],
   "source": [
    "import glob\n",
    "import numpy as np\n",
    "from cv2 import imread, imwrite\n",
    "\n",
    "imgs = []\n",
    "for fn in glob.glob(\"thumbnails/*.png\"):\n",
    "    imgs.append(imread(fn, -1))\n",
    "    \n",
    "print imgs[0].shape"
   ]
  },
  {
   "cell_type": "code",
   "execution_count": null,
   "metadata": {},
   "outputs": [],
   "source": [
    "img = np.concatenate(imgs, 0)\n",
    "img.shape"
   ]
  },
  {
   "cell_type": "code",
   "execution_count": null,
   "metadata": {},
   "outputs": [],
   "source": [
    "img1 = img.reshape(6, 5, 90, 160, 3)\n",
    "img1[0, 1].shape"
   ]
  },
  {
   "cell_type": "code",
   "execution_count": null,
   "metadata": {},
   "outputs": [],
   "source": [
    "img2 = img1.swapaxes(1, 2).reshape(540, 800, 3)"
   ]
  },
  {
   "cell_type": "code",
   "execution_count": null,
   "metadata": {},
   "outputs": [],
   "source": [
    "img = np.concatenate(imgs, 0)"
   ]
  },
  {
   "cell_type": "code",
   "execution_count": null,
   "metadata": {},
   "outputs": [],
   "source": [
    "img3 = img.reshape(5, 6, 90, 160, 3) \\\n",
    "          .transpose(1, 2, 0, 3, 4)  \\\n",
    "          .reshape(540, 800, 3)"
   ]
  },
  {
   "cell_type": "code",
   "execution_count": null,
   "metadata": {},
   "outputs": [],
   "source": [
    "img = np.concatenate(imgs, 0)\n",
    "img1 = img.reshape(6, 5, 90, 160, 3)\n",
    "mask = np.ones(img1.shape[:-1], dtype=bool) \n",
    "mask[:, :, 2:-2, 2:-2] = False              \n",
    "img1[mask] = 230                            \n",
    "img4 = img1.swapaxes(1, 2).reshape(540, 800, 3)"
   ]
  },
  {
   "cell_type": "code",
   "execution_count": null,
   "metadata": {},
   "outputs": [],
   "source": [
    "# 使用操作多维数组的函数拼接多幅缩略图\n",
    "import pylab as pl\n",
    "\n",
    "fig, (ax1, ax2) = pl.subplots(1, 2, figsize=(15, 6))\n",
    "ax1.imshow(img2[:, :, ::-1])\n",
    "ax2.imshow(img4[:, :, ::-1])\n",
    "ax1.axis(\"off\")\n",
    "ax2.axis(\"off\")\n",
    "fig.subplots_adjust(0, 0, 1, 1, 0.02, 0)\n",
    "pl.show(fig)"
   ]
  },
  {
   "cell_type": "markdown",
   "metadata": {},
   "source": [
    "### 多项式函数"
   ]
  },
  {
   "cell_type": "markdown",
   "metadata": {},
   "source": [
    "polyld 一元多项式对象"
   ]
  },
  {
   "cell_type": "code",
   "execution_count": null,
   "metadata": {},
   "outputs": [],
   "source": [
    "a = np.array([1.0, 0, -2, 1])\n",
    "p = np.poly1d(a)\n",
    "print type(p)"
   ]
  },
  {
   "cell_type": "markdown",
   "metadata": {},
   "source": [
    "像函数一样调用一元多项式对象"
   ]
  },
  {
   "cell_type": "code",
   "execution_count": null,
   "metadata": {},
   "outputs": [],
   "source": [
    "p(np.linspace(0, 1, 5))     "
   ]
  },
  {
   "cell_type": "markdown",
   "metadata": {},
   "source": [
    "多项式函数的加减乘除和polyld对象的加减乘除一一对应"
   ]
  },
  {
   "cell_type": "code",
   "execution_count": null,
   "metadata": {},
   "outputs": [],
   "source": [
    "p + [-2, 1] # 和 p + np.poly1d([-2, 1]) 相同"
   ]
  },
  {
   "cell_type": "code",
   "execution_count": null,
   "metadata": {},
   "outputs": [],
   "source": [
    "p * p # 两个3次多项式相乘得到一个6次多项式"
   ]
  },
  {
   "cell_type": "code",
   "execution_count": null,
   "metadata": {},
   "outputs": [],
   "source": [
    "p / [1, 1] # 除法返回两个多项式，分别为商式和余式"
   ]
  },
  {
   "cell_type": "code",
   "execution_count": null,
   "metadata": {},
   "outputs": [],
   "source": [
    "p == np.poly1d([ 1., -1., -1.]) * [1,1] + 2 # 商式和被除数相乘再加上余数等于原式"
   ]
  },
  {
   "cell_type": "markdown",
   "metadata": {},
   "source": [
    "多项式的 deriv(), 和 integ() 方法可以计算多项式函数的微分和积分"
   ]
  },
  {
   "cell_type": "code",
   "execution_count": null,
   "metadata": {},
   "outputs": [],
   "source": [
    "p.deriv()"
   ]
  },
  {
   "cell_type": "code",
   "execution_count": null,
   "metadata": {},
   "outputs": [],
   "source": [
    "p.integ()"
   ]
  },
  {
   "cell_type": "code",
   "execution_count": null,
   "metadata": {},
   "outputs": [],
   "source": [
    "p.integ().deriv() == p"
   ]
  },
  {
   "cell_type": "markdown",
   "metadata": {},
   "source": [
    "roots()函数计算多项式函数的根"
   ]
  },
  {
   "cell_type": "code",
   "execution_count": null,
   "metadata": {},
   "outputs": [],
   "source": [
    "r = np.roots(p)\n",
    "r"
   ]
  },
  {
   "cell_type": "code",
   "execution_count": null,
   "metadata": {},
   "outputs": [],
   "source": [
    "p(r) # 将根带入多项式计算，得到的值近似为0"
   ]
  },
  {
   "cell_type": "markdown",
   "metadata": {},
   "source": [
    "poly 函数可以将根转换回多项式的系数"
   ]
  },
  {
   "cell_type": "code",
   "execution_count": null,
   "metadata": {},
   "outputs": [],
   "source": [
    "np.poly(r)"
   ]
  },
  {
   "cell_type": "markdown",
   "metadata": {},
   "source": [
    "numpy 也提供了操作多项式数组的函数.\n",
    "\n",
    "np.poly()函数可以对一维数据使用多项式函数进行拟合, 找到这组数据的误差平方和最小的多项式系数\n",
    "\n",
    "np.polyval()函数计算多项式函数的值"
   ]
  },
  {
   "cell_type": "code",
   "execution_count": null,
   "metadata": {},
   "outputs": [],
   "source": [
    "np.polymul([1,1],[1,1]) \n",
    "# 计算多项式函数的乘积."
   ]
  },
  {
   "cell_type": "code",
   "execution_count": null,
   "metadata": {},
   "outputs": [],
   "source": [
    "np.set_printoptions(suppress=True, precision=4)\n",
    "\n",
    "x = np.linspace(-np.pi / 2, np.pi / 2, 1000)\n",
    "y = np.sin(x)  \n",
    "\n",
    "for deg in [3, 5, 7]:\n",
    "#     多项式函数的最高阶数\n",
    "    a = np.polyfit(x, y, deg)  # a 是拟合后的多项式函数\n",
    "    error = np.abs(np.polyval(a, x) - y)  \n",
    "    \n",
    "    print \"degree {}: {}\".format(deg, a)\n",
    "    print \"max error of order %d:\" % deg, np.max(error)"
   ]
  },
  {
   "cell_type": "code",
   "execution_count": null,
   "metadata": {},
   "outputs": [],
   "source": [
    "#%figonly=各阶 多项式近似正弦函数 的误差\n",
    "pl.figure(figsize=(8, 4))\n",
    "\n",
    "x = np.linspace(-np.pi / 2, np.pi / 2, 500)\n",
    "y = np.sin(x)\n",
    "\n",
    "for deg in [3, 5, 7]:\n",
    "    a = np.polyfit(x, y, deg)\n",
    "    error = np.abs(np.polyval(a, x) - y)\n",
    "    pl.semilogy(x, error, label=u\"{}阶多项式的误差\".format(deg))\n",
    "pl.legend(loc='upper center', bbox_to_anchor=(0.5, 1.08),\n",
    "          ncol=3, fancybox=True)\n",
    "pl.axis('tight');\n",
    "pl.show()"
   ]
  },
  {
   "cell_type": "markdown",
   "metadata": {},
   "source": [
    "### 多项式函数类"
   ]
  },
  {
   "cell_type": "markdown",
   "metadata": {},
   "source": [
    "np.polynomial 模块提供了更丰富的多项式函数类, 例如 Polynomial, Chebyshev, Legendre 等. 系数按照幂次从小到大的顺序排列"
   ]
  },
  {
   "cell_type": "code",
   "execution_count": null,
   "metadata": {},
   "outputs": [],
   "source": [
    "from numpy.polynomial import Polynomial, Chebyshev\n",
    "p = Polynomial([1, -2, 0, 1])\n",
    "print p(2.0)"
   ]
  },
  {
   "cell_type": "markdown",
   "metadata": {},
   "source": [
    "Polynomial 对象提供了众多的方法对多项式进行操作"
   ]
  },
  {
   "cell_type": "code",
   "execution_count": null,
   "metadata": {},
   "outputs": [],
   "source": [
    "p.deriv()\n",
    "#  p的所有阶导函数"
   ]
  },
  {
   "cell_type": "markdown",
   "metadata": {},
   "source": [
    "切比雪夫多项式是一个正交多项式序列, 一个n次多项式可以表示为多个切比雪夫多项式的加权和"
   ]
  },
  {
   "cell_type": "code",
   "execution_count": null,
   "metadata": {},
   "outputs": [],
   "source": [
    "Chebyshev.basis(4)\n",
    "#  T4(x) = 1-8x^2+8x^4"
   ]
  },
  {
   "cell_type": "code",
   "execution_count": null,
   "metadata": {},
   "outputs": [],
   "source": [
    "Chebyshev.basis(4).convert(kind=Polynomial)\n",
    "#  T4(x) = 1-8x^2+8x^4"
   ]
  },
  {
   "cell_type": "code",
   "execution_count": null,
   "metadata": {},
   "outputs": [],
   "source": [
    "#%figonly=0到4次切比雪夫多项式\n",
    "x = np.linspace(-1, 1, 100)\n",
    "for i in range(5):\n",
    "    ax = pl.plot(x, Chebyshev.basis(i)(x), lw=2, label=\"$T_%d$\" % i)\n",
    "pl.ylim(-1.5, 1.5)\n",
    "pl.legend(loc='upper center', bbox_to_anchor=(0.5, 1.08),\n",
    "          ncol=5, fancybox=True);"
   ]
  },
  {
   "cell_type": "markdown",
   "metadata": {},
   "source": [
    "切比雪夫多项式的根称为切比雪夫节点, 可以用于多项式插值, 相应的插值多项式能最大限度的降低龙格现象, 并且提供多项式在连续函数的最佳一致逼近"
   ]
  },
  {
   "cell_type": "code",
   "execution_count": null,
   "metadata": {},
   "outputs": [],
   "source": [
    "def f(x):\n",
    "    return 1.0 / ( 1 + 25 * x**2)\n",
    "\n",
    "n = 11\n",
    "x1 = np.linspace(-1, 1, n) #等距离取点\n",
    "x2 = Chebyshev.basis(n).roots() #按切比雪夫节点集取点\n",
    "xd = np.linspace(-1, 1, 200) # 所有函数的自变量范围\n",
    "\n",
    "# 用两周取样点分别对f(x)进行多项式插值\n",
    "#  n 个系数最高幂次是（n-1）\n",
    "p1 = Chebyshev.fit(x1, f(x1), n - 1, domain=[-1, 1]) \n",
    "p2 = Chebyshev.fit(x2, f(x2), n - 1, domain=[-1, 1])\n",
    "\n",
    "print u\"插值多项式的最大误差：\",\n",
    "print u\"等距离取样点：\", abs(p1(xd) - f(xd)).max(),\n",
    "print u\"切比雪夫节点：\", abs(p2(xd) - f(xd)).max()"
   ]
  },
  {
   "cell_type": "code",
   "execution_count": null,
   "metadata": {},
   "outputs": [],
   "source": [
    "#%figonly=等距离插值点（左）、切比雪夫插值点（右）\n",
    "fig, (ax1, ax2) = pl.subplots(1, 2, figsize=(12, 4))\n",
    "\n",
    "# 等距离取点得到的多项式函数\n",
    "ax1.plot(xd, f(xd), \"--\", label=u\"$f(x)$\")\n",
    "ax1.plot(x1, f(x1), \"o\", label=u\"插值点\")\n",
    "ax1.plot(xd, p1(xd), label=u\"插值多项式\")\n",
    "\n",
    "ax1.legend(loc=\"upper center\")\n",
    "\n",
    "# 切夫雪比节点取点得到的多项式和函数\n",
    "ax2.plot(xd, f(xd), \"--\")\n",
    "ax2.plot(x2, f(x2), \"o\")\n",
    "ax2.plot(xd, p2(xd));"
   ]
  },
  {
   "cell_type": "markdown",
   "metadata": {},
   "source": [
    "使用切比雪夫多项式进行插值的误差比一般多项式要小的多"
   ]
  },
  {
   "cell_type": "code",
   "execution_count": null,
   "metadata": {},
   "outputs": [],
   "source": [
    "def g(x):\n",
    "    x = (x - 1) * 5\n",
    "    return np.sin(x**2) + np.sin(x)**2\n",
    "\n",
    "n = 100\n",
    "x = Chebyshev.basis(n).roots()\n",
    "xd = np.linspace(-1, 1, 1000)\n",
    "\n",
    "p_g = Polynomial.fit(x, g(x), n - 1, domain=[-1, 1])\n",
    "c_g = Chebyshev.fit(x, g(x), n - 1, domain=[-1, 1])\n",
    "\n",
    "print \"Max Polynomial Error:\", abs(g(xd) - p_g(xd)).max()\n",
    "print \"Max Chebyshev Error:\", abs(g(xd) - c_g(xd)).max()"
   ]
  },
  {
   "cell_type": "code",
   "execution_count": null,
   "metadata": {},
   "outputs": [],
   "source": [
    "#%figonly=Chebyshev插值与Polynomial插值比较\n",
    "pl.figure(figsize=(9, 4))\n",
    "\n",
    "pl.plot(xd, g(xd), \"k--\", label=\"$g(x)$\")\n",
    "pl.plot(xd, c_g(xd), \"b-\", alpha=0.6, label=u\"Chebyshev fit\")\n",
    "pl.plot(xd, p_g(xd), \"r-\", alpha=0.6, label=u\"Polynomial fit\")\n",
    "\n",
    "pl.legend(loc=\"best\");"
   ]
  },
  {
   "cell_type": "markdown",
   "metadata": {},
   "source": [
    "trim() 可以根据精度要求自动将高次系数截断, tol 参数是尾部精度控制的关键字参数"
   ]
  },
  {
   "cell_type": "code",
   "execution_count": null,
   "metadata": {},
   "outputs": [],
   "source": [
    "c_trimed = c_g.trim(tol=0.05)\n",
    "print \"degree:\", c_trimed.degree()\n",
    "print \"error:\", abs(g(xd) - c_trimed(xd)).max()"
   ]
  },
  {
   "cell_type": "code",
   "execution_count": null,
   "metadata": {},
   "outputs": [],
   "source": [
    "# 函数h(x)的19阶切比雪夫多项式插值\n",
    "def h(x):\n",
    "    x = 5 * x\n",
    "    return np.exp(-x**2 / 10)\n",
    "\n",
    "n = 20\n",
    "x = Chebyshev.basis(n).roots()\n",
    "c_h = Chebyshev.fit(x, h(x), n - 1, domain=[-1, 1])\n",
    "\n",
    "print \"Max Chebyshev Error:\", abs(h(xd) - c_h(xd)).max()"
   ]
  },
  {
   "cell_type": "markdown",
   "metadata": {},
   "source": [
    "多项式类支持四则运算"
   ]
  },
  {
   "cell_type": "code",
   "execution_count": null,
   "metadata": {},
   "outputs": [],
   "source": [
    "c_diff = c_g - c_h\n",
    "roots = c_diff.roots()\n",
    "real_roots = roots[roots.imag == 0].real\n",
    "print np.allclose(c_diff(real_roots), 0)"
   ]
  },
  {
   "cell_type": "markdown",
   "metadata": {},
   "source": [
    "***\n",
    "roots[roots.imag == 0].real, 取出复数数组中所有的实数元素\n",
    "***"
   ]
  },
  {
   "cell_type": "code",
   "execution_count": null,
   "metadata": {},
   "outputs": [],
   "source": [
    "%C roots.shape; roots.imag.shape; roots.real.shape"
   ]
  },
  {
   "cell_type": "code",
   "execution_count": null,
   "metadata": {},
   "outputs": [],
   "source": [
    "roots[:10]"
   ]
  },
  {
   "cell_type": "code",
   "execution_count": null,
   "metadata": {},
   "outputs": [],
   "source": [
    "(roots.imag == 0)[:10]"
   ]
  },
  {
   "cell_type": "code",
   "execution_count": null,
   "metadata": {},
   "outputs": [],
   "source": [
    "roots[(roots.imag == 0)[:10]]"
   ]
  },
  {
   "cell_type": "code",
   "execution_count": null,
   "metadata": {},
   "outputs": [],
   "source": [
    "roots[(roots.imag == 0)[:10]].real"
   ]
  },
  {
   "cell_type": "markdown",
   "metadata": {},
   "source": [
    "******"
   ]
  },
  {
   "cell_type": "code",
   "execution_count": null,
   "metadata": {},
   "outputs": [],
   "source": [
    "#%figonly=使用Chebyshev插值计算两条曲线在[-1, 1]之间的所有交点\n",
    "pl.figure(figsize=(9, 4))\n",
    "pl.plot(xd, g(xd))\n",
    "pl.plot(xd, h(xd))\n",
    "pl.plot(real_roots, h(real_roots), \"kx\", markeredgewidth=1)\n",
    "pl.xlim(-1, 1);"
   ]
  },
  {
   "cell_type": "markdown",
   "metadata": {},
   "source": [
    "切比雪夫多项式在区间[-1,1]上为正交多项式,只有在该区间上才能对目标函数进行插值, 为了对任何区域的目标函数进行插值, 需要对自变量的区间进行平移和缩放. domain参数指定拟合点的区间, 在通过basis()方法创建Tn(x)和调用fit方法进行拟合时,都要设置同样的domain参数"
   ]
  },
  {
   "cell_type": "code",
   "execution_count": null,
   "metadata": {},
   "outputs": [],
   "source": [
    "def g2(x):\n",
    "    return np.sin(x**2) + np.sin(x)**2\n",
    "\n",
    "n = 100\n",
    "x = Chebyshev.basis(n, domain=[-10, 0]).roots() \n",
    "xd = np.linspace(-10, 0, 1000)\n",
    "\n",
    "c_g2 = Chebyshev.fit(x, g2(x), n - 1, domain=[-10, 0]) \n",
    "\n",
    "print \"Max Chebyshev Error:\", abs(g2(xd) - c_g2(xd)).max() "
   ]
  },
  {
   "cell_type": "markdown",
   "metadata": {},
   "source": [
    "### 各种乘积运算"
   ]
  },
  {
   "cell_type": "markdown",
   "metadata": {},
   "source": [
    "None作一维数组的下标, 可以将一维数组变为二维数组"
   ]
  },
  {
   "cell_type": "code",
   "execution_count": null,
   "metadata": {},
   "outputs": [],
   "source": [
    "a = np.array([1, 2, 3])\n",
    "%C a[:, None]; a[None, :]"
   ]
  },
  {
   "cell_type": "markdown",
   "metadata": {},
   "source": [
    "点积 dot() 计算矩阵乘积\n",
    "\n",
    "**dot(a, b)[i, j, k, m]=sum(a[i, j, :] * b[ k, :, m])**"
   ]
  },
  {
   "cell_type": "code",
   "execution_count": null,
   "metadata": {},
   "outputs": [],
   "source": [
    "x = np.arange(9).reshape(3,3)\n",
    "y = np.full((3,3),1)\n",
    "z = np.dot(x,y)\n",
    "\n",
    "%C x; y; z"
   ]
  },
  {
   "cell_type": "markdown",
   "metadata": {},
   "source": [
    ">三维数组相乘,用第一个数组的2轴和1轴,第二个数组的2轴和0轴定位,其余轴对应求和得\n",
    "元素值"
   ]
  },
  {
   "cell_type": "code",
   "execution_count": null,
   "metadata": {},
   "outputs": [],
   "source": [
    "a = np.arange(12).reshape(2, 3, 2)\n",
    "b = np.arange(12, 24).reshape(2, 2, 3)\n",
    "c = np.dot(a, b)\n",
    "%C a; b; c; c.shape"
   ]
  },
  {
   "cell_type": "markdown",
   "metadata": {},
   "source": [
    "内积 inner() 计算两个数组对应下标元素的乘积和\n",
    "\n",
    "**inner(a, b)[i, j, k, m] = sum(a[i, j, :) * b[k, m, :]**"
   ]
  },
  {
   "cell_type": "code",
   "execution_count": null,
   "metadata": {},
   "outputs": [],
   "source": [
    "a = np.arange(12).reshape(2, 3, 2)\n",
    "b = np.arange(12, 24).reshape(2, 3, 2)\n",
    "c = np.inner(a, b)\n",
    "%C a; b; c; c.shape"
   ]
  },
  {
   "cell_type": "markdown",
   "metadata": {},
   "source": [
    "外积只对一位数组进行运算,如果传入的是多维数组,则先将次数组平坦化为一维数组.它计算列向量和行向量的矩阵乘积"
   ]
  },
  {
   "cell_type": "code",
   "execution_count": null,
   "metadata": {},
   "outputs": [],
   "source": [
    "a = np.array([1, 2, 3])\n",
    "b = np.array([4, 5, 6, 7])\n",
    "%C np.outer(a, b); np.dot(a[:, None], b[None, :])"
   ]
  },
  {
   "cell_type": "markdown",
   "metadata": {},
   "source": [
    "张量积 tensordot() 将数组 a,b 指定轴上的对应元素相乘并求和"
   ]
  },
  {
   "cell_type": "code",
   "execution_count": null,
   "metadata": {},
   "outputs": [],
   "source": [
    "np.random.seed(0)\n",
    "a = np.random.randint(0,5,size=(3, 4))\n",
    "b = np.random.randint(0,5,size=(4, 5))\n",
    "\n",
    "c1 = np.tensordot(a, b, axes=[[1], [0]]) \n",
    "c2 = np.tensordot(a, b, axes=1) # a 的后一个轴与 b 的前一个轴          \n",
    "c3 = np.dot(a, b)\n",
    "c4 = np.tensordot(a, b, axes=[[-1], [-2]]) # a的最后轴,b的倒数第二轴"
   ]
  },
  {
   "cell_type": "code",
   "execution_count": null,
   "metadata": {},
   "outputs": [],
   "source": [
    "%C a; b"
   ]
  },
  {
   "cell_type": "code",
   "execution_count": null,
   "metadata": {},
   "outputs": [],
   "source": [
    "%C c1; c2"
   ]
  },
  {
   "cell_type": "code",
   "execution_count": null,
   "metadata": {},
   "outputs": [],
   "source": [
    "%C c3; c4"
   ]
  },
  {
   "cell_type": "markdown",
   "metadata": {},
   "source": [
    "### 广义ufunc函数"
   ]
  },
  {
   "cell_type": "markdown",
   "metadata": {},
   "source": [
    "> NumPy中的线性代数模块`linalg`中提供的函数大都为广义ufunc函数。在SciPy中也提供了线性代数模块`linalg`，但其中的函数都是一般函数，只能对单个矩阵进行计算"
   ]
  },
  {
   "cell_type": "markdown",
   "metadata": {},
   "source": [
    "将单个矩阵的运算运用到整个数组之上的函数叫做 gufunc"
   ]
  },
  {
   "cell_type": "code",
   "execution_count": null,
   "metadata": {},
   "outputs": [],
   "source": [
    "a = np.random.rand(10, 20, 3, 3) #产生10x20个3x3矩阵\n",
    "a_inv = np.linalg.inv(a) # np.linalg.inv()是gufunc 对200个3x3矩阵求逆\n",
    "a_inv.shape # 返回数组的形状和原始数组的形状相同"
   ]
  },
  {
   "cell_type": "code",
   "execution_count": null,
   "metadata": {},
   "outputs": [],
   "source": [
    "i, j = 3, 4 # 第四个三维数组, 第五个二维数组\n",
    "np.allclose(np.dot(a[i, j], a_inv[i, j]), np.eye(3))"
   ]
  },
  {
   "cell_type": "markdown",
   "metadata": {},
   "source": [
    "np.linalg.inv(a) gufunc 求逆\n",
    "np.linalg.det(a) gufunc 求行列式"
   ]
  },
  {
   "cell_type": "code",
   "execution_count": null,
   "metadata": {},
   "outputs": [],
   "source": [
    "a_det = np.linalg.det(a) # 所有MM方阵替换成了它的det值\n",
    "a_det.shape"
   ]
  },
  {
   "cell_type": "markdown",
   "metadata": {},
   "source": [
    "对 10000*10 的数据集进行二次函数拟合"
   ]
  },
  {
   "cell_type": "code",
   "execution_count": null,
   "metadata": {},
   "outputs": [],
   "source": [
    "n = 10000\n",
    "np.random.seed(0)\n",
    "beta = np.random.rand(n, 3) \n",
    "x = np.random.rand(n, 10)\n",
    "y = beta[:,2, None] + x*beta[:, 1, None] + x**2*beta[:, 0, None]\n",
    "y.shape\n",
    "# 虽然下标元组有三个元素,但是得到的是二维数组,保持了beta的维数"
   ]
  },
  {
   "cell_type": "code",
   "execution_count": null,
   "metadata": {},
   "outputs": [],
   "source": [
    "# 输出第 42 组的实际系数以及拟合的结果\n",
    "print beta[42]\n",
    "print np.polyfit(x[42], y[42], 2) # 用一行中的十个特征拟合三个系数"
   ]
  },
  {
   "cell_type": "code",
   "execution_count": null,
   "metadata": {},
   "outputs": [],
   "source": [
    "np.allclose(beta, beta2) # 自己拟合的系数与原始系数近似相同"
   ]
  },
  {
   "cell_type": "code",
   "execution_count": null,
   "metadata": {},
   "outputs": [],
   "source": [
    "np.vstack??"
   ]
  },
  {
   "cell_type": "code",
   "execution_count": null,
   "metadata": {},
   "outputs": [],
   "source": [
    "# 循环调运n次polyfit可得完整的系数矩阵\n",
    "%time beta_for = np.vstack([np.polyfit(x[i], y[i], 2) for i in range(n)])\n",
    "# vstack 按行堆叠数组 因为每次polyfit返回一个长度为3的一维数组"
   ]
  },
  {
   "cell_type": "markdown",
   "metadata": {},
   "source": [
    "numpy.polyfit()实际上是通过最小二乘法函数numpy.linalg.lstq()来实现多项式拟合的"
   ]
  },
  {
   "cell_type": "code",
   "execution_count": null,
   "metadata": {},
   "outputs": [],
   "source": [
    "xx = np.column_stack(([x[42]**2, x[42], np.ones_like(x[42])])) \n",
    "#x[42]=x[42,:]\n",
    "#  将三行元素排组合成三列\n",
    "\n",
    "print np.linalg.lstsq(xx, y[42])[0]\n",
    "#  分别对应二次函数的系数a,b,c"
   ]
  },
  {
   "cell_type": "code",
   "execution_count": null,
   "metadata": {},
   "outputs": [],
   "source": [
    "%%time\n",
    "X = np.dstack([x**2, x, np.ones_like(x)])\n",
    "Xt = X.swapaxes(-1, -2)\n",
    "\n",
    "import numpy.core.umath_tests as umath\n",
    "A = umath.matrix_multiply(Xt, X)\n",
    "b = umath.matrix_multiply(Xt, y[..., None]).squeeze()\n",
    "\n",
    "beta3 = np.linalg.solve(A, b)\n",
    "\n",
    "print np.allclose(beta3, beta2)"
   ]
  },
  {
   "cell_type": "code",
   "execution_count": null,
   "metadata": {},
   "outputs": [],
   "source": []
  },
  {
   "cell_type": "code",
   "execution_count": null,
   "metadata": {},
   "outputs": [],
   "source": [
    "M = np.array([[[np.cos(t), -np.sin(t)], \n",
    "               [np.sin(t), np.cos(t)]]\n",
    "             for t in np.linspace(0, np.pi, 4, endpoint=False)])\n",
    "\n",
    "x = np.linspace(-1, 1, 100)\n",
    "points = np.array((np.c_[x, x], np.c_[x, x**3], np.c_[x**3, x]))\n",
    "\n",
    "rpoints = umath.matrix_multiply(points, M[:, None, ...])\n",
    "\n",
    "print points.shape, M.shape, rpoints.shape"
   ]
  },
  {
   "cell_type": "code",
   "execution_count": null,
   "metadata": {},
   "outputs": [],
   "source": [
    "# 使用矩阵乘积的广播运算将3条曲线分别旋转4个角度\n",
    "import pylab as pl\n",
    "\n",
    "pl.figure(figsize=(6, 6))\n",
    "for t in rpoints.reshape(-1, 100, 2):\n",
    "    pl.plot(t[:,0], t[:,1], \"b+\", lw=2)\n",
    "ax = pl.gca()\n",
    "ax.set_aspect(\"equal\")\n",
    "ax.axis(\"off\");"
   ]
  },
  {
   "cell_type": "code",
   "execution_count": null,
   "metadata": {},
   "outputs": [],
   "source": []
  },
  {
   "cell_type": "code",
   "execution_count": null,
   "metadata": {},
   "outputs": [],
   "source": []
  }
 ],
 "metadata": {
  "kernelspec": {
   "display_name": "Python 3",
   "language": "python",
   "name": "python3"
  },
  "language_info": {
   "codemirror_mode": {
    "name": "ipython",
    "version": 3
   },
   "file_extension": ".py",
   "mimetype": "text/x-python",
   "name": "python",
   "nbconvert_exporter": "python",
   "pygments_lexer": "ipython3",
   "version": "3.6.5"
  },
  "toc": {
   "base_numbering": "2.4",
   "nav_menu": {},
   "number_sections": true,
   "sideBar": true,
   "skip_h1_title": false,
   "title_cell": "Table of Contents",
   "title_sidebar": "Contents",
   "toc_cell": false,
   "toc_position": {
    "height": "357px",
    "left": "22px",
    "top": "40.3969px",
    "width": "165px"
   },
   "toc_section_display": true,
   "toc_window_display": false
  }
 },
 "nbformat": 4,
 "nbformat_minor": 1
}

{
 "cells": [
  {
   "cell_type": "markdown",
   "metadata": {},
   "source": [
    "$$0"
   ]
  },
  {
   "cell_type": "code",
   "execution_count": 35,
   "metadata": {},
   "outputs": [],
   "source": [
    "import sqlite3"
   ]
  },
  {
   "cell_type": "markdown",
   "metadata": {},
   "source": [
    "# python数据库访问"
   ]
  },
  {
   "cell_type": "markdown",
   "metadata": {},
   "source": [
    "## sqlite3模块"
   ]
  },
  {
   "cell_type": "markdown",
   "metadata": {},
   "source": [
    "sqlite3 — DB-API 2.0 interface for SQLite databases: https://docs.python.org/3.6/library/sqlite3.html;"
   ]
  },
  {
   "cell_type": "markdown",
   "metadata": {},
   "source": [
    "sqlite3不需要独立的数据库服务器, 并且可以在连接数据库的同时创建该数据库(如果该数据库未存在);   \n",
    "可以把sqlite3中的数据库当做一个普通文件来理解;"
   ]
  },
  {
   "cell_type": "markdown",
   "metadata": {},
   "source": [
    "**第一次简单使用**"
   ]
  },
  {
   "cell_type": "markdown",
   "metadata": {},
   "source": [
    "在创建连接对象(Connect)的同时创建数据库文件"
   ]
  },
  {
   "cell_type": "code",
   "execution_count": 9,
   "metadata": {},
   "outputs": [],
   "source": [
    "conn = sqlite3.connect('data/example.db')"
   ]
  },
  {
   "cell_type": "markdown",
   "metadata": {},
   "source": [
    "创建游标对象(Cursor)"
   ]
  },
  {
   "cell_type": "code",
   "execution_count": 10,
   "metadata": {},
   "outputs": [],
   "source": [
    "c = conn.cursor()"
   ]
  },
  {
   "cell_type": "markdown",
   "metadata": {},
   "source": [
    "创建表"
   ]
  },
  {
   "cell_type": "code",
   "execution_count": 22,
   "metadata": {},
   "outputs": [],
   "source": [
    "# c.execute('''CREATE TABLE stocks\n",
    "#              (date text, trans text, symbol text, qty real, price real)''')"
   ]
  },
  {
   "cell_type": "markdown",
   "metadata": {},
   "source": [
    "插入一行数据"
   ]
  },
  {
   "cell_type": "code",
   "execution_count": 12,
   "metadata": {},
   "outputs": [
    {
     "data": {
      "text/plain": [
       "<sqlite3.Cursor at 0x51775e0>"
      ]
     },
     "execution_count": 12,
     "metadata": {},
     "output_type": "execute_result"
    }
   ],
   "source": [
    "c.execute(\"INSERT INTO stocks VALUES ('2006-01-05','BUY','RHAT',100,35.14)\")"
   ]
  },
  {
   "cell_type": "markdown",
   "metadata": {},
   "source": [
    "提交改变"
   ]
  },
  {
   "cell_type": "code",
   "execution_count": 13,
   "metadata": {},
   "outputs": [],
   "source": [
    "conn.commit()"
   ]
  },
  {
   "cell_type": "markdown",
   "metadata": {},
   "source": [
    "使用完数据库之后关闭连接, 防止信息丢失"
   ]
  },
  {
   "cell_type": "code",
   "execution_count": 14,
   "metadata": {},
   "outputs": [],
   "source": [
    "conn.close()"
   ]
  },
  {
   "cell_type": "markdown",
   "metadata": {},
   "source": [
    "**第二次简单使用**"
   ]
  },
  {
   "cell_type": "code",
   "execution_count": 18,
   "metadata": {},
   "outputs": [],
   "source": [
    "import sqlite3\n",
    "conn = sqlite3.connect('data/example.db')\n",
    "c = conn.cursor()"
   ]
  },
  {
   "cell_type": "markdown",
   "metadata": {},
   "source": [
    "使用python变量向数据库传递值: SQL语句中的每个`?`都必须由元组中的一个元素替代;"
   ]
  },
  {
   "cell_type": "code",
   "execution_count": 27,
   "metadata": {},
   "outputs": [
    {
     "data": {
      "text/plain": [
       "('2006-01-05', 'BUY', 'RHAT', 100.0, 35.14)"
      ]
     },
     "execution_count": 27,
     "metadata": {},
     "output_type": "execute_result"
    }
   ],
   "source": [
    "t = ('RHAT',)\n",
    "c.execute('SELECT * FROM stocks WHERE symbol=?', t)\n",
    "# 调取一个匹配行\n",
    "c.fetchone()"
   ]
  },
  {
   "cell_type": "markdown",
   "metadata": {},
   "source": [
    "> 可以把游标看做是一个迭代器;"
   ]
  },
  {
   "cell_type": "code",
   "execution_count": 20,
   "metadata": {},
   "outputs": [
    {
     "data": {
      "text/plain": [
       "<sqlite3.Cursor at 0x5177570>"
      ]
     },
     "execution_count": 20,
     "metadata": {},
     "output_type": "execute_result"
    }
   ],
   "source": [
    "# 一次传入多个记录\n",
    "purchases = [('2006-03-28', 'BUY', 'IBM', 1000, 45.00),\n",
    "             ('2006-04-05', 'BUY', 'MSFT', 1000, 72.00),\n",
    "             ('2006-04-06', 'SELL', 'IBM', 500, 53.00),]\n",
    "c.executemany('INSERT INTO stocks VALUES (?,?,?,?,?)', purchases)\n"
   ]
  },
  {
   "cell_type": "code",
   "execution_count": 32,
   "metadata": {},
   "outputs": [
    {
     "data": {
      "text/plain": [
       "[('2006-03-28', 'BUY', 'IBM', 1000.0, 45.0),\n",
       " ('2006-04-06', 'SELL', 'IBM', 500.0, 53.0)]"
      ]
     },
     "execution_count": 32,
     "metadata": {},
     "output_type": "execute_result"
    }
   ],
   "source": [
    "c.execute(\"SELECT * FROM stocks WHERE symbol='IBM'\")\n",
    "# 调取所有行\n",
    "c.fetchall()"
   ]
  },
  {
   "cell_type": "markdown",
   "metadata": {},
   "source": [
    "$$1"
   ]
  },
  {
   "cell_type": "markdown",
   "metadata": {},
   "source": [
    "### 模块函数和常数"
   ]
  },
  {
   "cell_type": "markdown",
   "metadata": {},
   "source": [
    " 实验: 一个最小化的SQLite壳"
   ]
  },
  {
   "cell_type": "code",
   "execution_count": 40,
   "metadata": {},
   "outputs": [],
   "source": [
    "import sqlite3\n",
    "\n",
    "con = sqlite3.connect(\":memory:\")\n",
    "\n",
    "con.isolation_level = None\n",
    "cur = con.cursor()\n",
    "\n",
    "buffer = \"\"\n",
    "\n",
    "print(\"Enter your SQL commands to execute in sqlite3.\")\n",
    "print(\"Enter a blank line to exit.\")\n",
    "\n",
    "while True:\n",
    "    line = input()\n",
    "    if line == \"\":\n",
    "        break\n",
    "    buffer += line\n",
    "    if sqlite3.complete_statement(buffer):\n",
    "        try:\n",
    "            buffer = buffer.strip()\n",
    "            cur.execute(buffer)\n",
    "\n",
    "            if buffer.lstrip().upper().startswith(\"SELECT\"):\n",
    "                print(cur.fetchall())\n",
    "        except sqlite3.Error as e:\n",
    "            print(\"An error occurred:\", e.args[0])\n",
    "        buffer = \"\"\n",
    "\n",
    "con.close()"
   ]
  },
  {
   "cell_type": "code",
   "execution_count": null,
   "metadata": {},
   "outputs": [],
   "source": []
  },
  {
   "cell_type": "markdown",
   "metadata": {},
   "source": [
    "### 连接对象"
   ]
  },
  {
   "cell_type": "markdown",
   "metadata": {},
   "source": [
    "**c.create_function**(name, num_params, func):   \n",
    "* 创建可以在SQL声明(SQL statement)中使用的自定义函数;  \n",
    "* name: 函数名;  \n",
    "* num_params: 函数所需的参数个数;  \n",
    "* func: 普通的Python函数;  "
   ]
  },
  {
   "cell_type": "code",
   "execution_count": 49,
   "metadata": {},
   "outputs": [
    {
     "name": "stdout",
     "output_type": "stream",
     "text": [
      "acbd18db4cc2f85cedef654fccc4a4d8\n"
     ]
    }
   ],
   "source": [
    "import sqlite3\n",
    "import hashlib\n",
    "\n",
    "def md5sum(t):\n",
    "    return hashlib.md5(t).hexdigest()\n",
    "\n",
    "con = sqlite3.connect(\":memory:\")\n",
    "con.create_function(\"md5\", 1, md5sum)\n",
    "cur = con.cursor()\n",
    "cur.execute(\"select md5(?)\", (b\"foo\",))\n",
    "print(cur.fetchone()[0])"
   ]
  },
  {
   "cell_type": "markdown",
   "metadata": {},
   "source": [
    "**create_aggregate**(name, num_params, aggregate_class):  \n",
    "* 自定义聚类函数(aggregate function), 通过重复调用step()方法进行聚合, 然后调用finalize()获得最终值;\n",
    "* aggregate_class: 聚类函数的类名;\n",
    "* 聚类函数必须包含三个方法:\n",
    "    * __init__(self): 不带参数的初始化; \n",
    "    * step(params): 参数个数由num_params决定;      \n",
    "    * finalize(self): 获取最终值;      "
   ]
  },
  {
   "cell_type": "code",
   "execution_count": 54,
   "metadata": {},
   "outputs": [
    {
     "name": "stdout",
     "output_type": "stream",
     "text": [
      "3\n"
     ]
    }
   ],
   "source": [
    "import sqlite3\n",
    "\n",
    "class MySum:\n",
    "    def __init__(self):\n",
    "        self.count = 0\n",
    "\n",
    "    def step(self, value):\n",
    "        self.count += value\n",
    "\n",
    "    def finalize(self):\n",
    "        return self.count\n",
    "\n",
    "con = sqlite3.connect(\":memory:\")\n",
    "con.create_aggregate(\"mysum\", 1, MySum)\n",
    "cur = con.cursor()\n",
    "cur.execute(\"create table test(i)\") #创建只包含一个列(列名是i)的表test\n",
    "cur.execute(\"insert into test(i) values (1)\")\n",
    "cur.execute(\"insert into test(i) values (2)\")\n",
    "cur.execute(\"select mysum(i) from test\")\n",
    "print(cur.fetchone()[0])"
   ]
  },
  {
   "cell_type": "markdown",
   "metadata": {},
   "source": [
    "**create_collation**(name, func):  \n",
    "* 创建一个自定义校验函数(collation);\n",
    "* func(a,b): a<b(-1), a=b(0), a>b(1);"
   ]
  },
  {
   "cell_type": "code",
   "execution_count": 56,
   "metadata": {},
   "outputs": [
    {
     "name": "stdout",
     "output_type": "stream",
     "text": [
      "('b',)\n",
      "('a',)\n"
     ]
    }
   ],
   "source": [
    "import sqlite3\n",
    "\n",
    "def collate_reverse(string1, string2):\n",
    "    if string1 == string2:\n",
    "        return 0\n",
    "    elif string1 < string2:\n",
    "        return 1\n",
    "    else:\n",
    "        return -1\n",
    "\n",
    "con = sqlite3.connect(\":memory:\")\n",
    "con.create_collation(\"reverse\", collate_reverse)\n",
    "\n",
    "cur = con.cursor()\n",
    "cur.execute(\"create table test(x)\")\n",
    "cur.executemany(\"insert into test(x) values (?)\", [(\"a\",), (\"b\",)])\n",
    "cur.execute(\"select x from test order by x collate reverse\")\n",
    "for row in cur:\n",
    "    print(row)\n",
    "con.close()"
   ]
  },
  {
   "cell_type": "markdown",
   "metadata": {},
   "source": [
    "row_factory: "
   ]
  },
  {
   "cell_type": "code",
   "execution_count": 58,
   "metadata": {},
   "outputs": [
    {
     "name": "stdout",
     "output_type": "stream",
     "text": [
      "1\n"
     ]
    }
   ],
   "source": [
    "import sqlite3\n",
    "# 获得结果的游标对象, 原始结果行\n",
    "def dict_factory(cursor, row):\n",
    "    d = {}\n",
    "    for idx, col in enumerate(cursor.description):\n",
    "        d[col[0]] = row[idx]\n",
    "    return d\n",
    "\n",
    "con = sqlite3.connect(\":memory:\")\n",
    "con.row_factory = dict_factory\n",
    "cur = con.cursor()\n",
    "cur.execute(\"select 1 as a\")\n",
    "print(cur.fetchone()[\"a\"])"
   ]
  },
  {
   "cell_type": "markdown",
   "metadata": {},
   "source": [
    "text_factory"
   ]
  },
  {
   "cell_type": "code",
   "execution_count": 59,
   "metadata": {},
   "outputs": [],
   "source": [
    "import sqlite3\n",
    "\n",
    "con = sqlite3.connect(\":memory:\")\n",
    "cur = con.cursor()\n",
    "\n",
    "AUSTRIA = \"\\xd6sterreich\"\n",
    "\n",
    "# by default, rows are returned as Unicode\n",
    "cur.execute(\"select ?\", (AUSTRIA,))\n",
    "row = cur.fetchone()\n",
    "assert row[0] == AUSTRIA\n",
    "\n",
    "# but we can make sqlite3 always return bytestrings ...\n",
    "con.text_factory = bytes\n",
    "cur.execute(\"select ?\", (AUSTRIA,))\n",
    "row = cur.fetchone()\n",
    "assert type(row[0]) is bytes\n",
    "# the bytestrings will be encoded in UTF-8, unless you stored garbage in the\n",
    "# database ...\n",
    "assert row[0] == AUSTRIA.encode(\"utf-8\")"
   ]
  },
  {
   "cell_type": "markdown",
   "metadata": {},
   "source": [
    " iterdump(): "
   ]
  },
  {
   "cell_type": "code",
   "execution_count": null,
   "metadata": {},
   "outputs": [],
   "source": [
    "# %%pass # Convert file existing_db.db to SQL dump file dump.sql\n",
    "# import sqlite3\n",
    "\n",
    "# con = sqlite3.connect('existing_db.db')\n",
    "# with open('dump.sql', 'w') as f:\n",
    "#     for line in con.iterdump():\n",
    "#         f.write('%s\\n' % line)"
   ]
  },
  {
   "cell_type": "markdown",
   "metadata": {},
   "source": [
    "### 游标对象"
   ]
  },
  {
   "cell_type": "markdown",
   "metadata": {},
   "source": [
    "execute(sql, parameters);  \n",
    "问号占位符和命名占位符;"
   ]
  },
  {
   "cell_type": "code",
   "execution_count": 60,
   "metadata": {},
   "outputs": [
    {
     "name": "stdout",
     "output_type": "stream",
     "text": [
      "('Yeltsin', 72)\n"
     ]
    }
   ],
   "source": [
    "import sqlite3\n",
    "\n",
    "con = sqlite3.connect(\":memory:\")\n",
    "cur = con.cursor()\n",
    "cur.execute(\"create table people (name_last, age)\")\n",
    "\n",
    "who = \"Yeltsin\"\n",
    "age = 72\n",
    "\n",
    "# This is the qmark style:\n",
    "cur.execute(\"insert into people values (?, ?)\", (who, age))\n",
    "\n",
    "# And this is the named style:\n",
    "cur.execute(\"select * from people where name_last=:who and age=:age\", {\"who\": who, \"age\": age})\n",
    "\n",
    "print(cur.fetchone())"
   ]
  },
  {
   "cell_type": "markdown",
   "metadata": {},
   "source": [
    "executemany(sql, seq_of_parameters)"
   ]
  },
  {
   "cell_type": "code",
   "execution_count": 61,
   "metadata": {},
   "outputs": [
    {
     "name": "stdout",
     "output_type": "stream",
     "text": [
      "[('a',), ('b',), ('c',), ('d',), ('e',), ('f',), ('g',), ('h',), ('i',), ('j',), ('k',), ('l',), ('m',), ('n',), ('o',), ('p',), ('q',), ('r',), ('s',), ('t',), ('u',), ('v',), ('w',), ('x',), ('y',), ('z',)]\n"
     ]
    }
   ],
   "source": [
    "import sqlite3\n",
    "\n",
    "class IterChars:\n",
    "    def __init__(self):\n",
    "        self.count = ord('a')\n",
    "\n",
    "    def __iter__(self):\n",
    "        return self\n",
    "\n",
    "    def __next__(self):\n",
    "        if self.count > ord('z'):\n",
    "            raise StopIteration\n",
    "        self.count += 1\n",
    "        return (chr(self.count - 1),) # this is a 1-tuple\n",
    "\n",
    "con = sqlite3.connect(\":memory:\")\n",
    "cur = con.cursor()\n",
    "cur.execute(\"create table characters(c)\")\n",
    "\n",
    "theIter = IterChars()\n",
    "cur.executemany(\"insert into characters(c) values (?)\", theIter)\n",
    "\n",
    "cur.execute(\"select c from characters\")\n",
    "print(cur.fetchall())"
   ]
  },
  {
   "cell_type": "markdown",
   "metadata": {},
   "source": [
    "上例的生成器版本"
   ]
  },
  {
   "cell_type": "code",
   "execution_count": 62,
   "metadata": {},
   "outputs": [
    {
     "name": "stdout",
     "output_type": "stream",
     "text": [
      "[('a',), ('b',), ('c',), ('d',), ('e',), ('f',), ('g',), ('h',), ('i',), ('j',), ('k',), ('l',), ('m',), ('n',), ('o',), ('p',), ('q',), ('r',), ('s',), ('t',), ('u',), ('v',), ('w',), ('x',), ('y',), ('z',)]\n"
     ]
    }
   ],
   "source": [
    "import sqlite3\n",
    "import string\n",
    "\n",
    "def char_generator():\n",
    "    for c in string.ascii_lowercase:\n",
    "        yield (c,)\n",
    "\n",
    "con = sqlite3.connect(\":memory:\")\n",
    "cur = con.cursor()\n",
    "cur.execute(\"create table characters(c)\")\n",
    "\n",
    "cur.executemany(\"insert into characters(c) values (?)\", char_generator())\n",
    "\n",
    "cur.execute(\"select c from characters\")\n",
    "print(cur.fetchall())"
   ]
  },
  {
   "cell_type": "markdown",
   "metadata": {},
   "source": [
    "executescript(sql_script):一次调用执行多重SQL查询;"
   ]
  },
  {
   "cell_type": "code",
   "execution_count": null,
   "metadata": {},
   "outputs": [],
   "source": [
    "import sqlite3\n",
    "\n",
    "con = sqlite3.connect(\":memory:\")\n",
    "cur = con.cursor()\n",
    "cur.executescript(\"\"\"\n",
    "    create table person(\n",
    "        firstname,\n",
    "        lastname,\n",
    "        age\n",
    "    );\n",
    "\n",
    "    create table book(\n",
    "        title,\n",
    "        author,\n",
    "        published\n",
    "    );\n",
    "\n",
    "    insert into book(title, author, published)\n",
    "    values (\n",
    "        'Dirk Gently''s Holistic Detective Agency',\n",
    "        'Douglas Adams',\n",
    "        1987\n",
    "    );\n",
    "    \"\"\")"
   ]
  },
  {
   "cell_type": "markdown",
   "metadata": {},
   "source": [
    "connection"
   ]
  },
  {
   "cell_type": "code",
   "execution_count": 63,
   "metadata": {},
   "outputs": [
    {
     "data": {
      "text/plain": [
       "True"
      ]
     },
     "execution_count": 63,
     "metadata": {},
     "output_type": "execute_result"
    }
   ],
   "source": [
    "con = sqlite3.connect(\":memory:\")\n",
    "cur = con.cursor()\n",
    "cur.connection == con"
   ]
  },
  {
   "cell_type": "code",
   "execution_count": null,
   "metadata": {},
   "outputs": [],
   "source": []
  },
  {
   "cell_type": "code",
   "execution_count": null,
   "metadata": {},
   "outputs": [],
   "source": []
  },
  {
   "cell_type": "code",
   "execution_count": null,
   "metadata": {},
   "outputs": [],
   "source": []
  },
  {
   "cell_type": "markdown",
   "metadata": {},
   "source": [
    "### 行对象"
   ]
  },
  {
   "cell_type": "code",
   "execution_count": 64,
   "metadata": {},
   "outputs": [],
   "source": [
    "conn = sqlite3.connect(\":memory:\")\n",
    "c = conn.cursor()\n",
    "c.execute('''create table stocks\n",
    "(date text, trans text, symbol text,\n",
    " qty real, price real)''')\n",
    "c.execute(\"\"\"insert into stocks\n",
    "          values ('2006-01-05','BUY','RHAT',100,35.14)\"\"\")\n",
    "conn.commit()\n",
    "c.close()"
   ]
  },
  {
   "cell_type": "markdown",
   "metadata": {},
   "source": [
    "A Row instance serves as a highly optimized row_factory for Connection objects."
   ]
  },
  {
   "cell_type": "code",
   "execution_count": 65,
   "metadata": {},
   "outputs": [
    {
     "data": {
      "text/plain": [
       "sqlite3.Row"
      ]
     },
     "execution_count": 65,
     "metadata": {},
     "output_type": "execute_result"
    }
   ],
   "source": [
    "conn.row_factory = sqlite3.Row\n",
    "c = conn.cursor()\n",
    "c.execute('select * from stocks')\n",
    "r = c.fetchone()\n",
    "type(r)"
   ]
  },
  {
   "cell_type": "code",
   "execution_count": 66,
   "metadata": {},
   "outputs": [
    {
     "data": {
      "text/plain": [
       "('2006-01-05', 'BUY', 'RHAT', 100.0, 35.14)"
      ]
     },
     "execution_count": 66,
     "metadata": {},
     "output_type": "execute_result"
    }
   ],
   "source": [
    "tuple(r)"
   ]
  },
  {
   "cell_type": "code",
   "execution_count": 67,
   "metadata": {},
   "outputs": [
    {
     "data": {
      "text/plain": [
       "5"
      ]
     },
     "execution_count": 67,
     "metadata": {},
     "output_type": "execute_result"
    }
   ],
   "source": [
    "len(r)"
   ]
  },
  {
   "cell_type": "code",
   "execution_count": 68,
   "metadata": {},
   "outputs": [
    {
     "data": {
      "text/plain": [
       "'RHAT'"
      ]
     },
     "execution_count": 68,
     "metadata": {},
     "output_type": "execute_result"
    }
   ],
   "source": [
    "r[2]"
   ]
  },
  {
   "cell_type": "code",
   "execution_count": 69,
   "metadata": {},
   "outputs": [
    {
     "data": {
      "text/plain": [
       "['date', 'trans', 'symbol', 'qty', 'price']"
      ]
     },
     "execution_count": 69,
     "metadata": {},
     "output_type": "execute_result"
    }
   ],
   "source": [
    "r.keys()"
   ]
  },
  {
   "cell_type": "code",
   "execution_count": 70,
   "metadata": {},
   "outputs": [
    {
     "data": {
      "text/plain": [
       "100.0"
      ]
     },
     "execution_count": 70,
     "metadata": {},
     "output_type": "execute_result"
    }
   ],
   "source": [
    "r['qty']"
   ]
  },
  {
   "cell_type": "code",
   "execution_count": 71,
   "metadata": {},
   "outputs": [
    {
     "name": "stdout",
     "output_type": "stream",
     "text": [
      "2006-01-05\n",
      "BUY\n",
      "RHAT\n",
      "100.0\n",
      "35.14\n"
     ]
    }
   ],
   "source": [
    "for member in r:\n",
    "...     print(member)"
   ]
  },
  {
   "cell_type": "code",
   "execution_count": null,
   "metadata": {},
   "outputs": [],
   "source": []
  },
  {
   "cell_type": "markdown",
   "metadata": {},
   "source": [
    "### 异常"
   ]
  },
  {
   "cell_type": "markdown",
   "metadata": {},
   "source": [
    "### SQLite和Python类型"
   ]
  },
  {
   "cell_type": "markdown",
   "metadata": {},
   "source": [
    "#### 简介"
   ]
  },
  {
   "cell_type": "markdown",
   "metadata": {},
   "source": [
    "#### 使用适配器在SQLite数据库中存储额外的Python类  "
   ]
  },
  {
   "cell_type": "markdown",
   "metadata": {},
   "source": [
    "To use other Python types with SQLite, you must adapt them to one of the sqlite3 module’s supported types for SQLite: one of NoneType, int, float, str, bytes."
   ]
  },
  {
   "cell_type": "markdown",
   "metadata": {},
   "source": [
    " two ways to enable the sqlite3 module to adapt a custom Python type "
   ]
  },
  {
   "cell_type": "markdown",
   "metadata": {},
   "source": [
    "让你的对象适应自己"
   ]
  },
  {
   "cell_type": "code",
   "execution_count": 72,
   "metadata": {},
   "outputs": [],
   "source": [
    "class Point:\n",
    "    def __init__(self, x, y):\n",
    "        self.x, self.y = x, y"
   ]
  },
  {
   "cell_type": "code",
   "execution_count": 73,
   "metadata": {},
   "outputs": [
    {
     "name": "stdout",
     "output_type": "stream",
     "text": [
      "4.000000;-3.200000\n"
     ]
    }
   ],
   "source": [
    "import sqlite3\n",
    "\n",
    "class Point:\n",
    "    def __init__(self, x, y):\n",
    "        self.x, self.y = x, y\n",
    "\n",
    "    def __conform__(self, protocol):\n",
    "        if protocol is sqlite3.PrepareProtocol:\n",
    "            return \"%f;%f\" % (self.x, self.y)\n",
    "\n",
    "con = sqlite3.connect(\":memory:\")\n",
    "cur = con.cursor()\n",
    "\n",
    "p = Point(4.0, -3.2)\n",
    "cur.execute(\"select ?\", (p,))\n",
    "print(cur.fetchone()[0])"
   ]
  },
  {
   "cell_type": "code",
   "execution_count": null,
   "metadata": {},
   "outputs": [],
   "source": []
  },
  {
   "cell_type": "markdown",
   "metadata": {},
   "source": [
    "注册一个可调用的适配器"
   ]
  },
  {
   "cell_type": "code",
   "execution_count": 74,
   "metadata": {},
   "outputs": [
    {
     "name": "stdout",
     "output_type": "stream",
     "text": [
      "4.000000;-3.200000\n"
     ]
    }
   ],
   "source": [
    "import sqlite3\n",
    "\n",
    "class Point:\n",
    "    def __init__(self, x, y):\n",
    "        self.x, self.y = x, y\n",
    "\n",
    "def adapt_point(point):\n",
    "    return \"%f;%f\" % (point.x, point.y)\n",
    "\n",
    "sqlite3.register_adapter(Point, adapt_point)\n",
    "\n",
    "con = sqlite3.connect(\":memory:\")\n",
    "cur = con.cursor()\n",
    "\n",
    "p = Point(4.0, -3.2)\n",
    "cur.execute(\"select ?\", (p,))\n",
    "print(cur.fetchone()[0])"
   ]
  },
  {
   "cell_type": "markdown",
   "metadata": {},
   "source": [
    "The sqlite3 module has two default adapters for Python’s built-in datetime.date and datetime.datetime types. "
   ]
  },
  {
   "cell_type": "code",
   "execution_count": 75,
   "metadata": {},
   "outputs": [
    {
     "name": "stdout",
     "output_type": "stream",
     "text": [
      "1540195497.0\n"
     ]
    }
   ],
   "source": [
    "import sqlite3\n",
    "import datetime\n",
    "import time\n",
    "\n",
    "def adapt_datetime(ts):\n",
    "    return time.mktime(ts.timetuple())\n",
    "\n",
    "sqlite3.register_adapter(datetime.datetime, adapt_datetime)\n",
    "\n",
    "con = sqlite3.connect(\":memory:\")\n",
    "cur = con.cursor()\n",
    "\n",
    "now = datetime.datetime.now()\n",
    "cur.execute(\"select ?\", (now,))\n",
    "print(cur.fetchone()[0])"
   ]
  },
  {
   "cell_type": "markdown",
   "metadata": {},
   "source": [
    "#### 将SQLite值转换成标准的Python类型"
   ]
  },
  {
   "cell_type": "code",
   "execution_count": 76,
   "metadata": {},
   "outputs": [],
   "source": [
    "def convert_point(s):\n",
    "    x, y = map(float, s.split(b\";\"))\n",
    "    return Point(x, y)"
   ]
  },
  {
   "cell_type": "code",
   "execution_count": 77,
   "metadata": {},
   "outputs": [
    {
     "name": "stdout",
     "output_type": "stream",
     "text": [
      "with declared types: (4.000000;-3.200000)\n",
      "with column names: (4.000000;-3.200000)\n"
     ]
    }
   ],
   "source": [
    "import sqlite3\n",
    "\n",
    "class Point:\n",
    "    def __init__(self, x, y):\n",
    "        self.x, self.y = x, y\n",
    "\n",
    "    def __repr__(self):\n",
    "        return \"(%f;%f)\" % (self.x, self.y)\n",
    "\n",
    "def adapt_point(point):\n",
    "    return (\"%f;%f\" % (point.x, point.y)).encode('ascii')\n",
    "\n",
    "def convert_point(s):\n",
    "    x, y = list(map(float, s.split(b\";\")))\n",
    "    return Point(x, y)\n",
    "\n",
    "# Register the adapter\n",
    "sqlite3.register_adapter(Point, adapt_point)\n",
    "\n",
    "# Register the converter\n",
    "sqlite3.register_converter(\"point\", convert_point)\n",
    "\n",
    "p = Point(4.0, -3.2)\n",
    "\n",
    "#########################\n",
    "# 1) Using declared types\n",
    "con = sqlite3.connect(\":memory:\", detect_types=sqlite3.PARSE_DECLTYPES)\n",
    "cur = con.cursor()\n",
    "cur.execute(\"create table test(p point)\")\n",
    "\n",
    "cur.execute(\"insert into test(p) values (?)\", (p,))\n",
    "cur.execute(\"select p from test\")\n",
    "print(\"with declared types:\", cur.fetchone()[0])\n",
    "cur.close()\n",
    "con.close()\n",
    "\n",
    "#######################\n",
    "# 1) Using column names\n",
    "con = sqlite3.connect(\":memory:\", detect_types=sqlite3.PARSE_COLNAMES)\n",
    "cur = con.cursor()\n",
    "cur.execute(\"create table test(p)\")\n",
    "\n",
    "cur.execute(\"insert into test(p) values (?)\", (p,))\n",
    "cur.execute('select p as \"p [point]\" from test')\n",
    "print(\"with column names:\", cur.fetchone()[0])\n",
    "cur.close()\n",
    "con.close()"
   ]
  },
  {
   "cell_type": "code",
   "execution_count": null,
   "metadata": {},
   "outputs": [],
   "source": []
  },
  {
   "cell_type": "code",
   "execution_count": null,
   "metadata": {},
   "outputs": [],
   "source": []
  },
  {
   "cell_type": "markdown",
   "metadata": {},
   "source": [
    "#### 默认适配器和转换器"
   ]
  },
  {
   "cell_type": "markdown",
   "metadata": {},
   "source": [
    " use date/timestamps from Python "
   ]
  },
  {
   "cell_type": "code",
   "execution_count": 83,
   "metadata": {},
   "outputs": [
    {
     "ename": "ValueError",
     "evalue": "not enough values to unpack (expected 2, got 1)",
     "output_type": "error",
     "traceback": [
      "\u001b[1;31m---------------------------------------------------------------------------\u001b[0m",
      "\u001b[1;31mValueError\u001b[0m                                Traceback (most recent call last)",
      "\u001b[1;32m<ipython-input-83-bb269eac1aa1>\u001b[0m in \u001b[0;36m<module>\u001b[1;34m()\u001b[0m\n\u001b[0;32m     10\u001b[0m \u001b[1;33m\u001b[0m\u001b[0m\n\u001b[0;32m     11\u001b[0m \u001b[0mcur\u001b[0m\u001b[1;33m.\u001b[0m\u001b[0mexecute\u001b[0m\u001b[1;33m(\u001b[0m\u001b[1;34m\"insert into test(d, ts) values (?, ?)\"\u001b[0m\u001b[1;33m,\u001b[0m \u001b[1;33m(\u001b[0m\u001b[0mtoday\u001b[0m\u001b[1;33m,\u001b[0m \u001b[0mnow\u001b[0m\u001b[1;33m)\u001b[0m\u001b[1;33m)\u001b[0m\u001b[1;33m\u001b[0m\u001b[0m\n\u001b[1;32m---> 12\u001b[1;33m \u001b[0mcur\u001b[0m\u001b[1;33m.\u001b[0m\u001b[0mexecute\u001b[0m\u001b[1;33m(\u001b[0m\u001b[1;34m\"select d, ts from test\"\u001b[0m\u001b[1;33m)\u001b[0m\u001b[1;33m\u001b[0m\u001b[0m\n\u001b[0m\u001b[0;32m     13\u001b[0m \u001b[0mrow\u001b[0m \u001b[1;33m=\u001b[0m \u001b[0mcur\u001b[0m\u001b[1;33m.\u001b[0m\u001b[0mfetchone\u001b[0m\u001b[1;33m(\u001b[0m\u001b[1;33m)\u001b[0m\u001b[1;33m\u001b[0m\u001b[0m\n\u001b[0;32m     14\u001b[0m \u001b[0mprint\u001b[0m\u001b[1;33m(\u001b[0m\u001b[0mtoday\u001b[0m\u001b[1;33m,\u001b[0m \u001b[1;34m\"=>\"\u001b[0m\u001b[1;33m,\u001b[0m \u001b[0mrow\u001b[0m\u001b[1;33m[\u001b[0m\u001b[1;36m0\u001b[0m\u001b[1;33m]\u001b[0m\u001b[1;33m,\u001b[0m \u001b[0mtype\u001b[0m\u001b[1;33m(\u001b[0m\u001b[0mrow\u001b[0m\u001b[1;33m[\u001b[0m\u001b[1;36m0\u001b[0m\u001b[1;33m]\u001b[0m\u001b[1;33m)\u001b[0m\u001b[1;33m)\u001b[0m\u001b[1;33m\u001b[0m\u001b[0m\n",
      "\u001b[1;32mD:\\Anaconda3-520\\lib\\sqlite3\\dbapi2.py\u001b[0m in \u001b[0;36mconvert_timestamp\u001b[1;34m(val)\u001b[0m\n\u001b[0;32m     65\u001b[0m \u001b[1;33m\u001b[0m\u001b[0m\n\u001b[0;32m     66\u001b[0m     \u001b[1;32mdef\u001b[0m \u001b[0mconvert_timestamp\u001b[0m\u001b[1;33m(\u001b[0m\u001b[0mval\u001b[0m\u001b[1;33m)\u001b[0m\u001b[1;33m:\u001b[0m\u001b[1;33m\u001b[0m\u001b[0m\n\u001b[1;32m---> 67\u001b[1;33m         \u001b[0mdatepart\u001b[0m\u001b[1;33m,\u001b[0m \u001b[0mtimepart\u001b[0m \u001b[1;33m=\u001b[0m \u001b[0mval\u001b[0m\u001b[1;33m.\u001b[0m\u001b[0msplit\u001b[0m\u001b[1;33m(\u001b[0m\u001b[1;34mb\" \"\u001b[0m\u001b[1;33m)\u001b[0m\u001b[1;33m\u001b[0m\u001b[0m\n\u001b[0m\u001b[0;32m     68\u001b[0m         \u001b[0myear\u001b[0m\u001b[1;33m,\u001b[0m \u001b[0mmonth\u001b[0m\u001b[1;33m,\u001b[0m \u001b[0mday\u001b[0m \u001b[1;33m=\u001b[0m \u001b[0mmap\u001b[0m\u001b[1;33m(\u001b[0m\u001b[0mint\u001b[0m\u001b[1;33m,\u001b[0m \u001b[0mdatepart\u001b[0m\u001b[1;33m.\u001b[0m\u001b[0msplit\u001b[0m\u001b[1;33m(\u001b[0m\u001b[1;34mb\"-\"\u001b[0m\u001b[1;33m)\u001b[0m\u001b[1;33m)\u001b[0m\u001b[1;33m\u001b[0m\u001b[0m\n\u001b[0;32m     69\u001b[0m         \u001b[0mtimepart_full\u001b[0m \u001b[1;33m=\u001b[0m \u001b[0mtimepart\u001b[0m\u001b[1;33m.\u001b[0m\u001b[0msplit\u001b[0m\u001b[1;33m(\u001b[0m\u001b[1;34mb\".\"\u001b[0m\u001b[1;33m)\u001b[0m\u001b[1;33m\u001b[0m\u001b[0m\n",
      "\u001b[1;31mValueError\u001b[0m: not enough values to unpack (expected 2, got 1)"
     ]
    }
   ],
   "source": [
    "import sqlite3\n",
    "import datetime\n",
    "\n",
    "con = sqlite3.connect(\":memory:\", detect_types=sqlite3.PARSE_DECLTYPES|sqlite3.PARSE_COLNAMES)\n",
    "cur = con.cursor()\n",
    "cur.execute(\"create table test(d date, ts timestamp)\")\n",
    "\n",
    "today = datetime.date.today()\n",
    "now = datetime.datetime.now()\n",
    "\n",
    "cur.execute(\"insert into test(d, ts) values (?, ?)\", (today, now))\n",
    "cur.execute(\"select d, ts from test\")\n",
    "row = cur.fetchone()\n",
    "print(today, \"=>\", row[0], type(row[0]))\n",
    "print(now, \"=>\", row[1], type(row[1]))\n",
    "\n",
    "cur.execute('select current_date as \"d [date]\", current_timestamp as \"ts [timestamp]\"')\n",
    "row = cur.fetchone()\n",
    "print(\"current_date\", row[0], type(row[0]))\n",
    "print(\"current_timestamp\", row[1], type(row[1]))"
   ]
  },
  {
   "cell_type": "markdown",
   "metadata": {},
   "source": [
    "### 控制事物"
   ]
  },
  {
   "cell_type": "markdown",
   "metadata": {},
   "source": [
    "### 更有效的使用sqlite3"
   ]
  },
  {
   "cell_type": "markdown",
   "metadata": {},
   "source": [
    "This way, you can execute a SELECT statement and iterate over it directly using only a single call on the Connection object."
   ]
  },
  {
   "cell_type": "markdown",
   "metadata": {},
   "source": [
    "#### 使用快捷方法"
   ]
  },
  {
   "cell_type": "markdown",
   "metadata": {},
   "source": [
    "Rows wrapped with this class can be accessed both by index (like tuples) and case-insensitively by name:"
   ]
  },
  {
   "cell_type": "code",
   "execution_count": 80,
   "metadata": {},
   "outputs": [
    {
     "name": "stdout",
     "output_type": "stream",
     "text": [
      "('Hugo', 'Boss')\n",
      "('Calvin', 'Klein')\n",
      "I just deleted 2 rows\n"
     ]
    }
   ],
   "source": [
    "import sqlite3\n",
    "\n",
    "persons = [\n",
    "    (\"Hugo\", \"Boss\"),\n",
    "    (\"Calvin\", \"Klein\")\n",
    "    ]\n",
    "\n",
    "con = sqlite3.connect(\":memory:\")\n",
    "\n",
    "# Create the table\n",
    "con.execute(\"create table person(firstname, lastname)\")\n",
    "\n",
    "# Fill the table\n",
    "con.executemany(\"insert into person(firstname, lastname) values (?, ?)\", persons)\n",
    "\n",
    "# Print the table contents\n",
    "for row in con.execute(\"select firstname, lastname from person\"):\n",
    "    print(row)\n",
    "\n",
    "print(\"I just deleted\", con.execute(\"delete from person\").rowcount, \"rows\")"
   ]
  },
  {
   "cell_type": "markdown",
   "metadata": {},
   "source": [
    "#### 通过名字访问列而不是索引"
   ]
  },
  {
   "cell_type": "code",
   "execution_count": 84,
   "metadata": {},
   "outputs": [],
   "source": [
    "import sqlite3\n",
    "\n",
    "con = sqlite3.connect(\":memory:\")\n",
    "con.row_factory = sqlite3.Row\n",
    "\n",
    "cur = con.cursor()\n",
    "cur.execute(\"select 'John' as name, 42 as age\")\n",
    "for row in cur:\n",
    "    assert row[0] == row[\"name\"]\n",
    "    assert row[\"name\"] == row[\"nAmE\"]\n",
    "    assert row[1] == row[\"age\"]\n",
    "    assert row[1] == row[\"AgE\"]"
   ]
  },
  {
   "cell_type": "code",
   "execution_count": null,
   "metadata": {},
   "outputs": [],
   "source": []
  },
  {
   "cell_type": "code",
   "execution_count": null,
   "metadata": {},
   "outputs": [],
   "source": []
  },
  {
   "cell_type": "code",
   "execution_count": null,
   "metadata": {},
   "outputs": [],
   "source": []
  },
  {
   "cell_type": "markdown",
   "metadata": {},
   "source": [
    "#### 将连接放入上下文管理器"
   ]
  },
  {
   "cell_type": "code",
   "execution_count": 85,
   "metadata": {},
   "outputs": [
    {
     "name": "stdout",
     "output_type": "stream",
     "text": [
      "couldn't add Joe twice\n"
     ]
    }
   ],
   "source": [
    "import sqlite3\n",
    "\n",
    "con = sqlite3.connect(\":memory:\")\n",
    "con.execute(\"create table person (id integer primary key, firstname varchar unique)\")\n",
    "\n",
    "# Successful, con.commit() is called automatically afterwards\n",
    "with con:\n",
    "    con.execute(\"insert into person(firstname) values (?)\", (\"Joe\",))\n",
    "\n",
    "# con.rollback() is called after the with block finishes with an exception, the\n",
    "# exception is still raised and must be caught\n",
    "try:\n",
    "    with con:\n",
    "        con.execute(\"insert into person(firstname) values (?)\", (\"Joe\",))\n",
    "except sqlite3.IntegrityError:\n",
    "    print(\"couldn't add Joe twice\")"
   ]
  },
  {
   "cell_type": "code",
   "execution_count": null,
   "metadata": {},
   "outputs": [],
   "source": []
  },
  {
   "cell_type": "markdown",
   "metadata": {},
   "source": [
    "#### 常见问题"
   ]
  },
  {
   "cell_type": "markdown",
   "metadata": {},
   "source": [
    "多线程"
   ]
  }
 ],
 "metadata": {
  "kernelspec": {
   "display_name": "Python 3",
   "language": "python",
   "name": "python3"
  },
  "language_info": {
   "codemirror_mode": {
    "name": "ipython",
    "version": 3
   },
   "file_extension": ".py",
   "mimetype": "text/x-python",
   "name": "python",
   "nbconvert_exporter": "python",
   "pygments_lexer": "ipython3",
   "version": "3.6.5"
  },
  "toc": {
   "base_numbering": "2",
   "nav_menu": {},
   "number_sections": true,
   "sideBar": true,
   "skip_h1_title": true,
   "title_cell": "Table of Contents",
   "title_sidebar": "Contents",
   "toc_cell": false,
   "toc_position": {
    "height": "calc(100% - 180px)",
    "left": "10px",
    "top": "150px",
    "width": "165px"
   },
   "toc_section_display": true,
   "toc_window_display": false
  }
 },
 "nbformat": 4,
 "nbformat_minor": 2
}

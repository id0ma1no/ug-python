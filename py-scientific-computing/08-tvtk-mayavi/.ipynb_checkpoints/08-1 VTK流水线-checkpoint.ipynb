{
 "cells": [
  {
   "cell_type": "code",
   "execution_count": 1,
   "metadata": {
    "group_control": {
     "group": 0
    }
   },
   "outputs": [],
   "source": [
    "%gui qt"
   ]
  },
  {
   "cell_type": "code",
   "execution_count": 2,
   "metadata": {
    "group_control": {
     "group": 0
    }
   },
   "outputs": [],
   "source": [
    "%%disabled #查询tvtk文档的工具\n",
    "from tvtk.tools import tvtk_doc\n",
    "tvtk_doc.main()"
   ]
  },
  {
   "cell_type": "markdown",
   "metadata": {},
   "source": [
    "如果某个弹出窗口无法关闭, 可以使用`%%python`尝试在在一个子进程中运行它;"
   ]
  },
  {
   "cell_type": "markdown",
   "metadata": {},
   "source": [
    "## VTK的流水线(Pipeline)"
   ]
  },
  {
   "cell_type": "markdown",
   "metadata": {},
   "source": [
    "### 显示圆锥"
   ]
  },
  {
   "cell_type": "code",
   "execution_count": 3,
   "metadata": {
    "group_control": {
     "group": 0
    }
   },
   "outputs": [],
   "source": [
    "%%python\n",
    "from tvtk.api import tvtk #❶\n",
    "\n",
    "# 创建一个圆锥数据源，并且同时设置其高度，底面半径和底面圆的分辨率(用36边形近似)\n",
    "cs = tvtk.ConeSource(height=3.0, radius=1.0, resolution=36) #❷\n",
    "# 使用PolyDataMapper将数据转换为图形数据\n",
    "m = tvtk.PolyDataMapper(input_connection=cs.output_port) #❸\n",
    "# 创建一个Actor\n",
    "a = tvtk.Actor(mapper=m) #❹\n",
    "# 创建一个Renderer，将Actor添加进去\n",
    "ren = tvtk.Renderer(background=(1, 1, 1)) #❺\n",
    "ren.add_actor(a)\n",
    "# 创建一个RenderWindow(窗口)，将Renderer添加进去\n",
    "rw = tvtk.RenderWindow(size=(300,300)) #❻\n",
    "rw.add_renderer(ren)\n",
    "# 创建一个RenderWindowInteractor（窗口的交互工具)\n",
    "rwi = tvtk.RenderWindowInteractor(render_window=rw) #❼\n",
    "# 开启交互\n",
    "rwi.initialize()\n",
    "rwi.start()"
   ]
  },
  {
   "cell_type": "code",
   "execution_count": 4,
   "metadata": {
    "group_control": {
     "group": 0
    }
   },
   "outputs": [
    {
     "name": "stdout",
     "output_type": "stream",
     "text": [
      "['capping',\n",
      " 'angle',\n",
      " 'center',\n",
      " 'direction',\n",
      " 'height',\n",
      "...\n"
     ]
    }
   ],
   "source": [
    "from tvtk.api import tvtk\n",
    "cs = tvtk.ConeSource(height=3.0, radius=1.0, resolution=36)\n",
    "m = tvtk.PolyDataMapper(input_connection=cs.output_port)\n",
    "a = tvtk.Actor(mapper=m)\n",
    "ren = tvtk.Renderer(background=(1, 1, 1))\n",
    "ren.add_actor(a)\n",
    "\n",
    "%omit cs.trait_names()"
   ]
  },
  {
   "cell_type": "code",
   "execution_count": 5,
   "metadata": {
    "group_control": {
     "group": 0
    }
   },
   "outputs": [
    {
     "name": "stdout",
     "output_type": "stream",
     "text": [
      "cs.height  cs.radius  cs.resolution\n",
      "---------  ---------  -------------\n",
      "3.0        1.0        36           \n"
     ]
    }
   ],
   "source": [
    "%C cs.height; cs.radius; cs.resolution"
   ]
  },
  {
   "cell_type": "code",
   "execution_count": 6,
   "metadata": {
    "group_control": {
     "group": 0
    }
   },
   "outputs": [
    {
     "name": "stdout",
     "output_type": "stream",
     "text": [
      " 1: (<class 'tvtk.tvtk_classes.poly_data.PolyData'>, True),    \n"
     ]
    }
   ],
   "source": [
    "%P type(cs.output), cs.output is m.input"
   ]
  },
  {
   "cell_type": "code",
   "execution_count": 7,
   "metadata": {
    "group_control": {
     "group": 0
    }
   },
   "outputs": [
    {
     "name": "stdout",
     "output_type": "stream",
     "text": [
      " 1: 1.000,    \n",
      " 1: [1. 1. 1.],    \n"
     ]
    }
   ],
   "source": [
    "%P a.mapper is m\n",
    "%P a.scale # Actor对象的scale属性表示各个轴的缩放比例"
   ]
  },
  {
   "cell_type": "code",
   "execution_count": 8,
   "metadata": {
    "group_control": {
     "group": 0
    }
   },
   "outputs": [
    {
     "data": {
      "text/plain": [
       "['<tvtk.tvtk_classes.actor.Actor object at 0x00000218FA1A3F10>']"
      ]
     },
     "execution_count": 8,
     "metadata": {},
     "output_type": "execute_result"
    }
   ],
   "source": [
    "ren.actors"
   ]
  },
  {
   "cell_type": "markdown",
   "metadata": {},
   "source": [
    "### 用ivtk观察流水线"
   ]
  },
  {
   "cell_type": "code",
   "execution_count": 2,
   "metadata": {},
   "outputs": [
    {
     "data": {
      "text/plain": [
       "'Y:\\\\Git\\\\ug-python\\\\py-scientific-computing\\\\08-tvtk-mayavi'"
      ]
     },
     "execution_count": 2,
     "metadata": {},
     "output_type": "execute_result"
    }
   ],
   "source": [
    "%pwd"
   ]
  },
  {
   "cell_type": "code",
   "execution_count": 10,
   "metadata": {
    "group_control": {
     "group": 0
    }
   },
   "outputs": [
    {
     "ename": "ImportError",
     "evalue": "attempted relative import with no known parent package",
     "output_type": "error",
     "traceback": [
      "\u001b[1;31m---------------------------------------------------------------------------\u001b[0m",
      "\u001b[1;31mImportError\u001b[0m                               Traceback (most recent call last)",
      "\u001b[1;32m<ipython-input-10-96a9b66daffe>\u001b[0m in \u001b[0;36m<module>\u001b[1;34m()\u001b[0m\n\u001b[0;32m      6\u001b[0m \u001b[0ma\u001b[0m \u001b[1;33m=\u001b[0m \u001b[0mtvtk\u001b[0m\u001b[1;33m.\u001b[0m\u001b[0mActor\u001b[0m\u001b[1;33m(\u001b[0m\u001b[0mmapper\u001b[0m\u001b[1;33m=\u001b[0m\u001b[0mm\u001b[0m\u001b[1;33m)\u001b[0m\u001b[1;33m\u001b[0m\u001b[0m\n\u001b[0;32m      7\u001b[0m \u001b[1;33m\u001b[0m\u001b[0m\n\u001b[1;32m----> 8\u001b[1;33m \u001b[0mwindow\u001b[0m \u001b[1;33m=\u001b[0m \u001b[0mivtk_scene\u001b[0m\u001b[1;33m(\u001b[0m\u001b[1;33m[\u001b[0m\u001b[0ma\u001b[0m\u001b[1;33m]\u001b[0m\u001b[1;33m)\u001b[0m \u001b[1;31m#❶\u001b[0m\u001b[1;33m\u001b[0m\u001b[0m\n\u001b[0m\u001b[0;32m      9\u001b[0m \u001b[0mwindow\u001b[0m\u001b[1;33m.\u001b[0m\u001b[0mscene\u001b[0m\u001b[1;33m.\u001b[0m\u001b[0misometric_view\u001b[0m\u001b[1;33m(\u001b[0m\u001b[1;33m)\u001b[0m\u001b[1;33m\u001b[0m\u001b[0m\n\u001b[0;32m     10\u001b[0m \u001b[0mevent_loop\u001b[0m\u001b[1;33m(\u001b[0m\u001b[1;33m)\u001b[0m \u001b[1;31m#❷\u001b[0m\u001b[1;33m\u001b[0m\u001b[0m\n",
      "\u001b[1;32mY:\\Git\\ug-python\\py-scientific-computing\\08-tvtk-mayavi\\tvtkhelp.py\u001b[0m in \u001b[0;36mivtk_scene\u001b[1;34m(actors)\u001b[0m\n\u001b[0;32m     96\u001b[0m \u001b[1;33m\u001b[0m\u001b[0m\n\u001b[0;32m     97\u001b[0m \u001b[1;33m\u001b[0m\u001b[0m\n\u001b[1;32m---> 98\u001b[1;33m \u001b[1;32mdef\u001b[0m \u001b[0mivtk_scene\u001b[0m\u001b[1;33m(\u001b[0m\u001b[0mactors\u001b[0m\u001b[1;33m)\u001b[0m\u001b[1;33m:\u001b[0m\u001b[1;33m\u001b[0m\u001b[0m\n\u001b[0m\u001b[0;32m     99\u001b[0m     \u001b[1;32mfrom\u001b[0m \u001b[0mtvtk_brower_patch\u001b[0m \u001b[1;32mimport\u001b[0m \u001b[0mpatch_pipeline_browser\u001b[0m\u001b[1;33m\u001b[0m\u001b[0m\n\u001b[0;32m    100\u001b[0m     \u001b[1;32mfrom\u001b[0m \u001b[0mtvtk\u001b[0m\u001b[1;33m.\u001b[0m\u001b[0mtools\u001b[0m \u001b[1;32mimport\u001b[0m \u001b[0mivtk\u001b[0m\u001b[1;33m\u001b[0m\u001b[0m\n",
      "\u001b[1;31mImportError\u001b[0m: attempted relative import with no known parent package"
     ]
    }
   ],
   "source": [
    "from tvtk.api import tvtk\n",
    "from tvtkhelp import ivtk_scene, event_loop\n",
    "\n",
    "cs = tvtk.ConeSource(height=3.0, radius=1.0, resolution=36)\n",
    "m = tvtk.PolyDataMapper(input_connection=cs.output_port)\n",
    "a = tvtk.Actor(mapper=m)\n",
    "\n",
    "window = ivtk_scene([a]) #❶\n",
    "window.scene.isometric_view()\n",
    "event_loop() #❷"
   ]
  },
  {
   "cell_type": "markdown",
   "metadata": {},
   "source": [
    "#### 照相机"
   ]
  },
  {
   "cell_type": "code",
   "execution_count": 7,
   "metadata": {
    "collapsed": true
   },
   "outputs": [],
   "source": [
    "#%hide\n",
    "camera.clipping_range = [4.22273550264, 12.6954685402]"
   ]
  },
  {
   "cell_type": "code",
   "execution_count": 8,
   "metadata": {
    "group_control": {
     "group": 0
    }
   },
   "outputs": [
    {
     "name": "stdout",
     "output_type": "stream",
     "text": [
      "[  4.2227355   12.69546854]\n"
     ]
    }
   ],
   "source": [
    "camera = window.scene.renderer.active_camera\n",
    "%P camera.clipping_range\n",
    "camera.view_up = 0, 1, 0\n",
    "camera.edit_traits() # 显示编辑照相机属性的窗口;"
   ]
  },
  {
   "cell_type": "markdown",
   "metadata": {},
   "source": [
    "#### 光源"
   ]
  },
  {
   "cell_type": "code",
   "execution_count": 9,
   "metadata": {
    "group_control": {
     "group": 0
    }
   },
   "outputs": [],
   "source": [
    "lights = window.scene.renderer.lights\n",
    "lights[0].edit_traits() # 显示编辑光源属性的窗口;"
   ]
  },
  {
   "cell_type": "code",
   "execution_count": 17,
   "metadata": {
    "group_control": {
     "group": 0
    }
   },
   "outputs": [],
   "source": [
    "camera = window.scene.renderer.active_camera\n",
    "light = tvtk.Light(color=(1,0,0))\n",
    "light.position=camera.position\n",
    "light.focal_point=camera.focal_point\n",
    "window.scene.renderer.add_light(light)"
   ]
  },
  {
   "cell_type": "markdown",
   "metadata": {},
   "source": [
    "#### 实体"
   ]
  },
  {
   "cell_type": "code",
   "execution_count": 12,
   "metadata": {},
   "outputs": [],
   "source": [
    "a.edit_traits() # a是表示圆锥的Actor对象\n",
    "window.scene.renderer.actors[0].edit_traits();"
   ]
  },
  {
   "cell_type": "code",
   "execution_count": 14,
   "metadata": {
    "group_control": {
     "group": 0
    }
   },
   "outputs": [],
   "source": [
    "axe = tvtk.AxesActor(total_length=(3,3,3)) # 在场景中添加坐标轴\n",
    "window.scene.add_actor( axe )"
   ]
  },
  {
   "cell_type": "code",
   "execution_count": null,
   "metadata": {
    "group_control": {
     "group": 0
    }
   },
   "outputs": [],
   "source": [
    "a.property.edit_traits() # a是表示圆锥的Actor对象;"
   ]
  }
 ],
 "metadata": {
  "kernelspec": {
   "display_name": "Python 3",
   "language": "python",
   "name": "python3"
  },
  "language_info": {
   "codemirror_mode": {
    "name": "ipython",
    "version": 3
   },
   "file_extension": ".py",
   "mimetype": "text/x-python",
   "name": "python",
   "nbconvert_exporter": "python",
   "pygments_lexer": "ipython3",
   "version": "3.6.5"
  },
  "toc": {
   "base_numbering": "8.1",
   "nav_menu": {},
   "number_sections": true,
   "sideBar": true,
   "skip_h1_title": false,
   "title_cell": "Table of Contents",
   "title_sidebar": "Contents",
   "toc_cell": false,
   "toc_position": {
    "height": "calc(100% - 180px)",
    "left": "10px",
    "top": "150px",
    "width": "198px"
   },
   "toc_section_display": true,
   "toc_window_display": false
  },
  "varInspector": {
   "cols": {
    "lenName": 16,
    "lenType": 16,
    "lenVar": 40
   },
   "kernels_config": {
    "python": {
     "delete_cmd_postfix": "",
     "delete_cmd_prefix": "del ",
     "library": "var_list.py",
     "varRefreshCmd": "print(var_dic_list())"
    },
    "r": {
     "delete_cmd_postfix": ") ",
     "delete_cmd_prefix": "rm(",
     "library": "var_list.r",
     "varRefreshCmd": "cat(var_dic_list()) "
    }
   },
   "types_to_exclude": [
    "module",
    "function",
    "builtin_function_or_method",
    "instance",
    "_Feature"
   ],
   "window_display": false
  }
 },
 "nbformat": 4,
 "nbformat_minor": 1
}

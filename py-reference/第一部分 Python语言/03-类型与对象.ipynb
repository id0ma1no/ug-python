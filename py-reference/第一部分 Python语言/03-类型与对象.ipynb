{
 "cells": [
  {
   "cell_type": "code",
   "execution_count": 66,
   "metadata": {},
   "outputs": [],
   "source": [
    "import brtoz.brmagic\n",
    "import numpy as np"
   ]
  },
  {
   "cell_type": "markdown",
   "metadata": {},
   "source": [
    "# 类型与对象"
   ]
  },
  {
   "cell_type": "markdown",
   "metadata": {},
   "source": [
    "## 术语"
   ]
  },
  {
   "cell_type": "markdown",
   "metadata": {},
   "source": [
    "**对象**: 可存入内存中的任何数据都是对象;  \n",
    "**对象标识**: 对象在内存中的标记叫做对象标识;  \n",
    "**对象类型**: 对象所属的类别叫做对象类型;  \n",
    "**对象属性**: 保存在对象中的值;  \n",
    "**对象方法**: 有关对象的某种操作; "
   ]
  },
  {
   "cell_type": "markdown",
   "metadata": {},
   "source": [
    "## 对象表示与类型"
   ]
  },
  {
   "cell_type": "markdown",
   "metadata": {},
   "source": [
    "如何查看对象标识: idx()  \n"
   ]
  },
  {
   "cell_type": "code",
   "execution_count": 67,
   "metadata": {},
   "outputs": [
    {
     "name": "stdout",
     "output_type": "stream",
     "text": [
      "    a            b          c       e    \n",
      "---------  --------------  ---  ---------\n",
      "[0, 1, 2]  [False,  True]  '~'  {1, 2, 3}\n",
      "\n",
      "                           d                           \n",
      "-------------------------------------------------------\n",
      "{1: array([0, 1, 2]), 2: array([False,  True]), 3: '~'}\n",
      "\n"
     ]
    }
   ],
   "source": [
    "a = np.array(range(3))\n",
    "b = np.array(range(2),dtype=bool)\n",
    "c = '~'\n",
    "d = {1:a, 2:b, 3:c}\n",
    "e = {1,2,3}\n",
    "%C a; b; c; e;; d"
   ]
  },
  {
   "cell_type": "code",
   "execution_count": 68,
   "metadata": {},
   "outputs": [
    {
     "name": "stdout",
     "output_type": "stream",
     "text": [
      " id(a)     id(b)     id(c)     id(d)     id(e)  \n",
      "--------  --------  --------  --------  --------\n",
      "99433728  99430768  40644824  84833048  95936296\n",
      "\n"
     ]
    }
   ],
   "source": [
    "%C id(a); id(b); id(c); id(d); id(e)"
   ]
  },
  {
   "cell_type": "markdown",
   "metadata": {},
   "source": [
    "> id()返回值是一个标识内存地址的整数;  "
   ]
  },
  {
   "cell_type": "markdown",
   "metadata": {},
   "source": [
    "is运算符用于比较两个对象的标识是否相同;"
   ]
  },
  {
   "cell_type": "code",
   "execution_count": 69,
   "metadata": {
    "scrolled": true
   },
   "outputs": [
    {
     "name": "stdout",
     "output_type": "stream",
     "text": [
      "    a2         a3             a2==a3       \n",
      "---------  ---------  ---------------------\n",
      "[0, 1, 2]  [0, 1, 2]  [ True,  True,  True]\n",
      "\n",
      "a2 is a  a3 is a  type(a3) is type (a)\n",
      "-------  -------  --------------------\n",
      "True     False    True                \n",
      "\n"
     ]
    }
   ],
   "source": [
    "a2 = a\n",
    "a3 = a[:]\n",
    "\n",
    "%C a2; a3; a2==a3;; a2 is a; a3 is a; type(a3) is type (a)"
   ]
  },
  {
   "cell_type": "markdown",
   "metadata": {},
   "source": [
    "> `is`比较的是内存标识, `==`比较的是值;"
   ]
  },
  {
   "cell_type": "markdown",
   "metadata": {},
   "source": [
    "如何给程序添加类型检查:    \n",
    "1. 类型之间使用`is`运算符进行比较;  \n",
    "2. 使用内置函数`isinstance`;  \n",
    "3. 定义抽象基类;  "
   ]
  },
  {
   "cell_type": "code",
   "execution_count": 70,
   "metadata": {},
   "outputs": [
    {
     "name": "stdout",
     "output_type": "stream",
     "text": [
      "is: l is a list\n",
      "isinstance: l is a list\n"
     ]
    }
   ],
   "source": [
    "l= [1,2,3,4]\n",
    "if type(l) is list:\n",
    "    print(\"is: l is a list\") \n",
    "if isinstance(l, list):\n",
    "    print(\"isinstance: l is a list\") "
   ]
  },
  {
   "cell_type": "markdown",
   "metadata": {},
   "source": [
    "`is`不仅可以比较对象标识, 通过`type()`还可以比较对象类型是否相同;"
   ]
  },
  {
   "cell_type": "markdown",
   "metadata": {},
   "source": [
    "## 引用计数与垃圾回收"
   ]
  },
  {
   "cell_type": "markdown",
   "metadata": {},
   "source": [
    "**引用**: 引用内存中的数据(引用对象中的值), 既可通过变量名进行引用, 也可以通过容器下标引用, 只要是可以引用同一段内存地址(同一个对象)的所有'标识', 都可称作该内存段(该对象)的引用;   \n",
    "**引用计数**: 可以引用内存地址的所有方式的数量, 或者内存地址的所有`别名`个数, 叫做引用计数;   \n",
    "* 一般情况下, 一个对象的引用计数很大;  \n",
    "* 使用sys.getrefcount()获得对象的引用计数;\n",
    "* 当一个对象的引用计数归零时, 它就会被垃圾回收机制处理掉;  \n",
    "* 解释器会执行周期检测算法, 搜索不可访问的对象;"
   ]
  },
  {
   "cell_type": "code",
   "execution_count": 71,
   "metadata": {},
   "outputs": [],
   "source": [
    "import sys\n",
    "d1 = {}; d2 = {}\n",
    "d1['d2'] = d2\n",
    "d2['d1'] = d1"
   ]
  },
  {
   "cell_type": "code",
   "execution_count": 72,
   "metadata": {},
   "outputs": [
    {
     "name": "stderr",
     "output_type": "stream",
     "text": [
      "UsageError: Line magic function `%A` not found.\n"
     ]
    }
   ],
   "source": [
    "%A sys.getrefcount(d1); sys.getrefcount(d2)"
   ]
  },
  {
   "cell_type": "code",
   "execution_count": null,
   "metadata": {},
   "outputs": [],
   "source": [
    "del d1,d2 # 删除几个引用计数"
   ]
  },
  {
   "cell_type": "markdown",
   "metadata": {},
   "source": [
    "## 引用于复制"
   ]
  },
  {
   "cell_type": "markdown",
   "metadata": {},
   "source": [
    "赋值语句: `a=b`发生了什么?  \n",
    "* 如果`b`是数字或字符串, 相当于创建了`b`的一个`副本`(备份);  \n",
    "* 如果`b`是`可变对象`, 相当于创建了`b`的一个引用;  "
   ]
  },
  {
   "cell_type": "code",
   "execution_count": 73,
   "metadata": {},
   "outputs": [
    {
     "data": {
      "text/plain": [
       "True"
      ]
     },
     "execution_count": 73,
     "metadata": {},
     "output_type": "execute_result"
    }
   ],
   "source": [
    "a1 = [1,2,3,4]\n",
    "a2 = a1\n",
    "a2 is a1"
   ]
  },
  {
   "cell_type": "code",
   "execution_count": 74,
   "metadata": {},
   "outputs": [
    {
     "data": {
      "text/plain": [
       "[10, 2, 3, 4]"
      ]
     },
     "execution_count": 74,
     "metadata": {},
     "output_type": "execute_result"
    }
   ],
   "source": [
    "a2[0] = 10 \n",
    "a1 "
   ]
  },
  {
   "cell_type": "markdown",
   "metadata": {},
   "source": [
    "> a1,a2引用的是同一个对象, 修改其中任意一个变量都会影响到另一个;  \n",
    "为了避免这种情况, 必须创建对象的副本而不是创建新引用;  \n"
   ]
  },
  {
   "cell_type": "markdown",
   "metadata": {},
   "source": [
    "对于容器对象, 可以使用两种复制操作:  \n",
    "浅复制: 对原始对象中`项的引用`;  \n",
    "深复制: 创建原始对象的`备份或者副本`;"
   ]
  },
  {
   "cell_type": "code",
   "execution_count": 75,
   "metadata": {},
   "outputs": [
    {
     "name": "stdout",
     "output_type": "stream",
     "text": [
      "      l1              l2        l2 is l1  l2[2][0] is l1[2][0]\n",
      "--------------  --------------  --------  --------------------\n",
      "[1, 2, [3, 4]]  [1, 2, [3, 4]]  False     True                \n",
      "\n"
     ]
    }
   ],
   "source": [
    "l1 = [1,2,[3,4]]\n",
    "l2 = list(l1)\n",
    "%C l1; l2; l2 is l1; l2[2][0] is l1[2][0] "
   ]
  },
  {
   "cell_type": "code",
   "execution_count": 76,
   "metadata": {},
   "outputs": [
    {
     "name": "stdout",
     "output_type": "stream",
     "text": [
      "      l1                l2         l2 is l1  l2[2][0] is l1[2][0]\n",
      "--------------  -----------------  --------  --------------------\n",
      "[1, 2, [3, 4]]  [1, 2, [3, 4], 5]  False     True                \n",
      "\n"
     ]
    }
   ],
   "source": [
    "l2.append(5)\n",
    "%C l1; l2; l2 is l1; l2[2][0] is l1[2][0]"
   ]
  },
  {
   "cell_type": "code",
   "execution_count": 77,
   "metadata": {
    "scrolled": true
   },
   "outputs": [
    {
     "name": "stdout",
     "output_type": "stream",
     "text": [
      "       l1                l2          l2 is l1  l2[2][0] is l1[2][0]\n",
      "---------------  ------------------  --------  --------------------\n",
      "[1, 2, [30, 4]]  [1, 2, [30, 4], 5]  False     True                \n",
      "\n"
     ]
    }
   ],
   "source": [
    "l2[2][0] = 30\n",
    "%C l1; l2; l2 is l1; l2[2][0] is l1[2][0]"
   ]
  },
  {
   "cell_type": "markdown",
   "metadata": {},
   "source": [
    "> 因为l1,l2的标识不一样, 所以l1和l2是不同的列表对象, 但它们包含的元素确是共享的;"
   ]
  },
  {
   "cell_type": "markdown",
   "metadata": {},
   "source": [
    "copy.deepcopy可以实现对象的深复制;"
   ]
  },
  {
   "cell_type": "code",
   "execution_count": 78,
   "metadata": {},
   "outputs": [
    {
     "name": "stdout",
     "output_type": "stream",
     "text": [
      "      l1              l2        l2[2][0] is l1[2][0]#新项还是共享原项内存\n",
      "--------------  --------------  -------------------------------\n",
      "[1, 2, [3, 4]]  [1, 2, [3, 4]]  True                           \n",
      "\n"
     ]
    }
   ],
   "source": [
    "import copy\n",
    "l1 = [1,2,[3,4]]\n",
    "l2 = copy.deepcopy(l1)\n",
    "%C l1; l2; l2[2][0] is l1[2][0]#新项还是共享原项内存"
   ]
  },
  {
   "cell_type": "code",
   "execution_count": 79,
   "metadata": {},
   "outputs": [
    {
     "name": "stdout",
     "output_type": "stream",
     "text": [
      "      l1               l2        l2[2][0] is l1[2][0]#新项不再共享原项内存\n",
      "--------------  ---------------  -------------------------------\n",
      "[1, 2, [3, 4]]  [1, 2, [30, 4]]  False                          \n",
      "\n"
     ]
    }
   ],
   "source": [
    "l2[2][0] = 30\n",
    "%C l1; l2; l2[2][0] is l1[2][0]#新项不再共享原项内存"
   ]
  },
  {
   "cell_type": "markdown",
   "metadata": {},
   "source": [
    "## 对象的平等性"
   ]
  },
  {
   "cell_type": "markdown",
   "metadata": {},
   "source": [
    "**对象的平等性**(第一类对象): 包含在容器当中的`对象`, 与单独存在时的`对象`具有平等的身份;   \n",
    "标识一致的对象不管其处于何种位置, 都具有同等性;"
   ]
  },
  {
   "cell_type": "markdown",
   "metadata": {},
   "source": [
    "字典`值对象`的平等性:"
   ]
  },
  {
   "cell_type": "code",
   "execution_count": 80,
   "metadata": {},
   "outputs": [
    {
     "name": "stdout",
     "output_type": "stream",
     "text": [
      "                iterms                \n",
      "--------------------------------------\n",
      "{'numb': 42,                          \n",
      " 'text': 'Hello World!',              \n",
      " 'nums': [1, 2, 3, 4, 5],             \n",
      " 'func': <function abs(x, /)>,        \n",
      " 'module': <module 'math' (built-in)>,\n",
      " 'error': ValueError,                 \n",
      " 'method': <function list.append>}    \n",
      "\n",
      "iterms['func'](-42)  iterms['module'].sqrt(4)\n",
      "-------------------  ------------------------\n",
      "42                   2.0                     \n",
      "\n"
     ]
    }
   ],
   "source": [
    "import math\n",
    "iterms = { 'numb': 42,\n",
    "           'text': \"Hello World!\",\n",
    "           'nums': [1,2,3,4] }\n",
    "iterms['func'] = abs\n",
    "iterms['module'] = math\n",
    "iterms['error'] = ValueError\n",
    "iterms['method'] =iterms['nums'].append\n",
    "\n",
    "iterms['method'](5)\n",
    "%C iterms;; iterms['func'](-42); iterms['module'].sqrt(4)"
   ]
  },
  {
   "cell_type": "code",
   "execution_count": 81,
   "metadata": {},
   "outputs": [
    {
     "name": "stdout",
     "output_type": "stream",
     "text": [
      "invalid literal for int() with base 10: 'a lot'\n"
     ]
    }
   ],
   "source": [
    "try: \n",
    "    x = int(\"a lot\")\n",
    "except iterms['error'] as e:\n",
    "    print(e)"
   ]
  },
  {
   "cell_type": "markdown",
   "metadata": {},
   "source": [
    "> * 字典中可以包含函数, 模块, 异常, 方法;  \n",
    "* 并且可以用字典中的函数(模块,异常和对象方法)代替原始的函数;"
   ]
  },
  {
   "cell_type": "markdown",
   "metadata": {},
   "source": [
    "类型列表的使用: 将一行字符串按类型转化为一个字段列表;"
   ]
  },
  {
   "cell_type": "code",
   "execution_count": 82,
   "metadata": {},
   "outputs": [
    {
     "data": {
      "text/plain": [
       "['Pi', 3, 0.14]"
      ]
     },
     "execution_count": 82,
     "metadata": {},
     "output_type": "execute_result"
    }
   ],
   "source": [
    "line = \"Pi, 3, .14\"\n",
    "field_types = [str, int, float]\n",
    "raw_fields = line.split(',')\n",
    "fields = [ty(val) for ty,val in zip(field_types,raw_fields)]\n",
    "fields"
   ]
  },
  {
   "cell_type": "markdown",
   "metadata": {},
   "source": [
    "## 与数据结构相关的内置类型"
   ]
  },
  {
   "cell_type": "markdown",
   "metadata": {},
   "source": [
    "与数据结构相关的内置类型有哪些?  \n",
    "1. None:  \n",
    "    * 无值类型`NoneType`  \n",
    "\n",
    "1. 数字:  \n",
    "    * 整型`int`\n",
    "    * 实型`float`\n",
    "    * 复数型`complex`  \n",
    "    * 布尔型`bool`\n",
    "\n",
    "1. 序列:  \n",
    "    * 字符串`str`\n",
    "    * 列表`list`\n",
    "    * 元组`tuple`\n",
    "    * 整数序列`range`\n",
    "\n",
    "1. 映射:  \n",
    "    * 字典`dict`  \n",
    "\n",
    "1. 集合:  \n",
    "    * 可变集合`set`\n",
    "    * 不可变集合`frozenset`\n"
   ]
  },
  {
   "cell_type": "markdown",
   "metadata": {},
   "source": [
    "### None类型"
   ]
  },
  {
   "cell_type": "markdown",
   "metadata": {},
   "source": [
    "**null对象**: 没有值的对象, 类型None的实例化对象;  \n",
    "\n",
    "None的用途:  \n",
    "* 函数没有显示的返回值时返回null对象;\n",
    "* None用作可选参数的默认值;\n",
    "* "
   ]
  },
  {
   "cell_type": "markdown",
   "metadata": {},
   "source": [
    "### 数值类型"
   ]
  },
  {
   "cell_type": "markdown",
   "metadata": {},
   "source": [
    "数值类型拥有许多属性和方法, ex:  \n",
    "* 复数的实部, 虚部, 共轭: z.real, z.imag, z.conjugate();  \n",
    "* y.as_interger_ration(): 将实数y转化为表示分数的一对整数;\n",
    "\n",
    "库模块还定义了额外的数值类型: fraction模块中含有有理数类型;  \n"
   ]
  },
  {
   "cell_type": "markdown",
   "metadata": {},
   "source": [
    "### 序列类型"
   ]
  },
  {
   "cell_type": "markdown",
   "metadata": {},
   "source": [
    "####  序列通用操作:  \n"
   ]
  },
  {
   "cell_type": "markdown",
   "metadata": {},
   "source": [
    "**通用序列操作**\n",
    "\n",
    "1. 索引\n",
    "    * 整数下标索引: s[i];  \n",
    "    * 切片下标索引: s[i:j]; \n",
    "    * 扩展切片索引: s[i:j:stride];  \n",
    "2. 序列长度\n",
    "    * len(s);\n",
    "3. 最大最小和求和\n",
    "    * min();\n",
    "    * max();\n",
    "    * sum();\n",
    "4. 项成员正误\n",
    "    * all(s): 所有项成员都为正时结果为正;\n",
    "    * any(s): 只要有一个项成员为正结果就为正;  \n",
    "\n",
    "**可变序列操作**   \n",
    "1. 可变序列赋值 \n",
    "    * s[i] = v;\n",
    "    * s[i:j] = t;\n",
    "    * s[i:j:stride] =t;\n",
    "2. 可变序列剔项:  \n",
    "    * del s[i];\n",
    "    * del s[i:j]\n",
    "    * del s[i:j:stride]\n"
   ]
  },
  {
   "cell_type": "markdown",
   "metadata": {},
   "source": [
    "#### 列表"
   ]
  },
  {
   "cell_type": "markdown",
   "metadata": {},
   "source": [
    "**列表方法**:  "
   ]
  },
  {
   "cell_type": "markdown",
   "metadata": {},
   "source": [
    "|方法|描述|\n",
    "|:|:|\n",
    "| list(s)| s是任意可迭代类型, 如果s是列表, list表示s的浅复制|  \n",
    "| s.append(x)| 在列表末尾添加元素x|  \n",
    "| s.extend(x)| 在列表末尾添加列表x|\n",
    "| s.count(x)| 计算列表中元素x的出现次数|\n",
    "| s.index(x[,start,stop])| 返回元素x的索引, 可指定索引范围|\n",
    "|-|-|\n",
    "| s.insert(i,x)| 将元素x插入索引i初|  \n",
    "| s.pop([i])| 剔除i处的元素(返回值是该处的元素值, 省略索引表示最后)| \n",
    "| s.remove(x)| 剔除元素x| \n",
    "| s.reverse()| 颠倒序列顺序|  \n",
    "| s.sort([key[,reverse])| 按指定的键函数进行排序|"
   ]
  },
  {
   "cell_type": "markdown",
   "metadata": {},
   "source": [
    "#### 字符串"
   ]
  },
  {
   "cell_type": "markdown",
   "metadata": {},
   "source": [
    "字符串方法:"
   ]
  },
  {
   "cell_type": "markdown",
   "metadata": {},
   "source": [
    "|方法|描述|\n",
    "|:|:|\n",
    "| **s.capitalize()** | 首字母大写; |\n",
    "| **s.center(width,pad)** | 居中字符串(可在两端填充字符); |\n",
    "| **s.count(sub,start,end)** | 指定索引区间, 计算子串出现的次数; |\n",
    "| **s.encode(encoding,error)** | 按encoding指定的编码方式, 编码字符串(返回b''); |\n",
    "| **s.endswith(suffix,start,end)** | 检查字符串是否按suffix结; |\n",
    "| **s.expandtabs(tabsize)** | 指定字符串中制表符的占位数; |\n",
    "| **s.find(sub, start, end)** | 返回第一个子串的索引, 没有的话返回-1; |\n",
    "| **s.format()** | 格式化字符; |\n",
    "| **s.index(sub, start, end)** | 返回第一个子串的索引, 没有的话报; |\n",
    " |\n",
    " |\n",
    "| **s.isalnum()** | 查看所有字符是否都来源于字母数字表; |\n",
    "| **s.isalpha()** | 查看所有字符是否都是字; |\n",
    "| **s.isdigit()** | 查看所有字符是否都是数; |\n",
    "| **s.islower()** | 查看所有字符是否都为小; |\n",
    "| **s.isspace()** | 查看所有字符是否都为空; |\n",
    "| **s.istitle()** | 查看所有字符是否都为标题字符串(每个单词的首字母大写; |\n",
    "| **s.isupper()** | 查看所有字符是否都为大; |\n",
    "| **s.join(t,s)** | 用分隔符s连接序列t中的字符; |\n",
    " |\n",
    " |\n",
    "| **s.ljust(width,fill)** | 字符串左对齐(右端可填充字符)); |\n",
    "| **s.lower()** | 将字符串变为小; |\n",
    "| **s.lstrip(chrs)** | 删除字符串左面的特定字符chr; |\n",
    "| **s.partition(sep)** | 用左端子串sep划分字符串, 返回(head,sep,tail)|(s,'',''); |\n",
    " |\n",
    " |\n",
    "| **s.replace(old,new,maxreplace)** | 替换子串; |\n",
    "| **s.rfind(sub,start,end)** | 返回子串最后一次出现的位置, 没有的话返回-1; |\n",
    "| **s.rindex(sub,start,end)** | 返回子串最后一次出现的位置, 没有的话报; |\n",
    "| **s.rjust()** | 字符串右对齐, 可在左端补齐字符; |\n",
    "| **s.rpartition(sep)** | 用右端子串sep划分字符; |\n",
    "| **s.rsplit(sep, maxsplit)** | 以sep为分割符, 从右开始分割字符串; |\n",
    "| **s.rstrip(chrs)** | 删掉字符串右面的特定字符chrs; |\n",
    " |\n",
    " |\n",
    "| **s.split(sep, maxsplit)** | 以sep为分割符分割字符串; |\n",
    "| **s.splitlines(keepends)** | 按换行符`\\n`分割字符串, 可保留换行符; |\n",
    "| **s.startswith(prefix, start, end)** | 查看字符串的前缀是否为prefix; |\n",
    "| **s.strip(chrs)** | 删掉字符串前后的特定字符chrs(默认为空格); |\n",
    "| **s.swapcase()** | 大小写调; |\n",
    "| **s.title()** | 将字符串转换为标; |\n",
    "| **s.translate(table,deletechars)** | 根据字符串转换表table, 删除deletechars中的字符; |\n",
    "| **s.upper()** | 将字符串转化为大; |\n",
    "| **s.zfill]()** | s.ljust(witdh,'0'), 根据指定长度, 在字符串的左边填充; |"
   ]
  },
  {
   "cell_type": "markdown",
   "metadata": {},
   "source": [
    "字符串的对齐方式:  \n",
    "* 居中: s.center()\n",
    "* 左对齐: s.ljust()\n",
    "* 右对齐: s.rjust()"
   ]
  },
  {
   "cell_type": "code",
   "execution_count": 83,
   "metadata": {},
   "outputs": [],
   "source": [
    "s = \"this is string example...wow!\"\n",
    "s2 = \"熊某某\""
   ]
  },
  {
   "cell_type": "code",
   "execution_count": 84,
   "metadata": {},
   "outputs": [
    {
     "data": {
      "text/plain": [
       "'^^^^^^^^^^^^^熊某某^^^^^^^^^^^^^^'"
      ]
     },
     "execution_count": 84,
     "metadata": {},
     "output_type": "execute_result"
    }
   ],
   "source": [
    "s2.center(30,'^')"
   ]
  },
  {
   "cell_type": "code",
   "execution_count": 85,
   "metadata": {},
   "outputs": [
    {
     "data": {
      "text/plain": [
       "'熊某某^^^^^^^^^^^^^^^^^^^^^^^^^^^'"
      ]
     },
     "execution_count": 85,
     "metadata": {},
     "output_type": "execute_result"
    }
   ],
   "source": [
    "s2.ljust(30,'^')"
   ]
  },
  {
   "cell_type": "code",
   "execution_count": 86,
   "metadata": {},
   "outputs": [
    {
     "data": {
      "text/plain": [
       "'^^^^^^^^^^^^^^^^^^^^^^^^^^^熊某某'"
      ]
     },
     "execution_count": 86,
     "metadata": {},
     "output_type": "execute_result"
    }
   ],
   "source": [
    "s2.rjust(30,'^')"
   ]
  },
  {
   "cell_type": "markdown",
   "metadata": {},
   "source": [
    "按特定格式编码字符串: "
   ]
  },
  {
   "cell_type": "code",
   "execution_count": 87,
   "metadata": {
    "scrolled": false
   },
   "outputs": [
    {
     "name": "stdout",
     "output_type": "stream",
     "text": [
      "       s.encode('ascii')                 s.encode('utf-8')        \n",
      "--------------------------------  --------------------------------\n",
      "b'this is string example...wow!'  b'this is string example...wow!'\n",
      "\n",
      "      s2.encode('gbk')                  s2.encode('utf-8')          \n",
      "---------------------------  ---------------------------------------\n",
      "b'\\xd0\\xdc\\xc4\\xb3\\xc4\\xb3'  b'\\xe7\\x86\\x8a\\xe6\\x9f\\x90\\xe6\\x9f\\x90'\n",
      "\n"
     ]
    }
   ],
   "source": [
    "%C s.encode('ascii');s.encode('utf-8');; s2.encode('gbk');s2.encode('utf-8')"
   ]
  },
  {
   "cell_type": "markdown",
   "metadata": {},
   "source": [
    "字符串是否按特定格式结尾:"
   ]
  },
  {
   "cell_type": "code",
   "execution_count": 88,
   "metadata": {},
   "outputs": [
    {
     "name": "stdout",
     "output_type": "stream",
     "text": [
      "s.endswith('wow')  s.endswith('wow!')  s.endswith('ow',20,28)\n",
      "-----------------  ------------------  ----------------------\n",
      "False              True                True                  \n",
      "\n"
     ]
    }
   ],
   "source": [
    "%C s.endswith('wow'); s.endswith('wow!'); s.endswith('ow',20,28)"
   ]
  },
  {
   "cell_type": "markdown",
   "metadata": {},
   "source": [
    "制表符是一个占位符, 永远占第八位的正整数倍:"
   ]
  },
  {
   "cell_type": "code",
   "execution_count": 89,
   "metadata": {},
   "outputs": [
    {
     "name": "stdout",
     "output_type": "stream",
     "text": [
      "演示制表符的使用:\n",
      "1)制表符所占的一位紧跟`!`之前;\n",
      "2)使用1-8的整数表示位置索引;\n",
      "\n",
      "----------part1----------\n",
      "1234567\t!\t!\n",
      "123456781234567812345678\n",
      "----------part2----------\n",
      "12345678\t!\t!\n",
      "123456781234567812345678\n"
     ]
    }
   ],
   "source": [
    "print('演示制表符的使用:')\n",
    "print('1)制表符所占的一位紧跟`!`之前;')\n",
    "print('2)使用1-8的整数表示位置索引;\\n')\n",
    "\n",
    "print('part1'.center(25,'-'))\n",
    "print('1234567\\t!\\t!')\n",
    "print('12345678'*3)\n",
    "\n",
    "print('part2'.center(25,'-'))\n",
    "print('12345678\\t!\\t!') \n",
    "print('12345678'*3) \n"
   ]
  },
  {
   "cell_type": "markdown",
   "metadata": {},
   "source": [
    "用制表符分隔字段时, 制表符的等效空格数要大于最大字符串长度;"
   ]
  },
  {
   "cell_type": "code",
   "execution_count": 90,
   "metadata": {},
   "outputs": [
    {
     "name": "stdout",
     "output_type": "stream",
     "text": [
      "X:\n",
      "id  name  email\n",
      "12345 Xiong xiong@xx\n",
      "12345678  Cheng cheng@xx\n",
      "\n",
      "V:\n",
      "id       name     email\n",
      "12345    Xiong    xiong@xx\n",
      "12345678 Cheng    cheng@xx\n"
     ]
    }
   ],
   "source": [
    "s= 'id\\tname\\temail\\n12345\\tXiong\\txiong@xx\\n12345678\\tCheng\\tcheng@xx'\n",
    "v = s.expandtabs(2)\n",
    "v2 = s.expandtabs(9)\n",
    "print('X:\\n{}\\n'.format(v))\n",
    "print('V:\\n{}'.format(v2))"
   ]
  },
  {
   "cell_type": "markdown",
   "metadata": {},
   "source": [
    "字符串分割:"
   ]
  },
  {
   "cell_type": "code",
   "execution_count": 91,
   "metadata": {},
   "outputs": [],
   "source": [
    "t =  '''xx.com\n",
    "xx.me\n",
    "xx.org'''"
   ]
  },
  {
   "cell_type": "code",
   "execution_count": 92,
   "metadata": {},
   "outputs": [
    {
     "name": "stdout",
     "output_type": "stream",
     "text": [
      "['xx.com', 'xx.me', 'xx.org']\n",
      "['xx.com', 'xx.me', 'xx.org']\n",
      "['xx.com\\n', 'xx.me\\n', 'xx.org']\n"
     ]
    }
   ],
   "source": [
    "print(t.split('\\n'))\n",
    "print(t.splitlines())\n",
    "print(t.splitlines(True))"
   ]
  },
  {
   "cell_type": "markdown",
   "metadata": {},
   "source": [
    "#### range对象"
   ]
  },
  {
   "cell_type": "markdown",
   "metadata": {},
   "source": [
    "**range( [i,] j [,stride] )**:   \n",
    "创建只能迭代的整数'序列'(不能使用切片处理), i, stride的默认值是0,1;"
   ]
  },
  {
   "cell_type": "markdown",
   "metadata": {},
   "source": [
    "### 映射类型"
   ]
  },
  {
   "cell_type": "markdown",
   "metadata": {},
   "source": [
    "字典方法:"
   ]
  },
  {
   "cell_type": "markdown",
   "metadata": {},
   "source": [
    "|方法|描述|\n",
    "|:|:|\n",
    "| len(d)| 返回d项的个数 |\n",
    "| d[k]| 返回键k的值 |\n",
    "| d[k]=x| 修改键k的值 |\n",
    "| del d[k]| 删除键k对应的项 |\n",
    "| k in d| 查看d是否有键k |\n",
    "| d.clear()| 删除d中的所有项 |\n",
    "| d.copy()| 返回d的一个副本 |\n",
    "| d.fromkeys(s,value)|{}.fromkeys(), 从键序列s创建所有值都是value的字典 |\n",
    "| | |\n",
    "| d.get(k,v)| 获取k的值, 找不到的话不报错,而是返回v |\n",
    "| d.items()| 获取字典的键值对序列 |\n",
    "| d.keys()| list(d), 返回键序列 |\n",
    "| d.pop(k,default)| 返回键值并将其剔除,default表示异常处理  |\n",
    "| d.popitem()| 随机剔除项 |\n",
    "| d.setdefault(k,v)| 如果找到m[k], 则返回m[k],否则返回v, 并将m[k]的值设为v |\n",
    "| d.update(b)| 将b中所有的对象添加到d中 |\n",
    "| d.values[]| 返回的值序列 |"
   ]
  },
  {
   "cell_type": "markdown",
   "metadata": {},
   "source": [
    "d.copy()方法用于创建字典的副本:"
   ]
  },
  {
   "cell_type": "code",
   "execution_count": 93,
   "metadata": {},
   "outputs": [
    {
     "name": "stdout",
     "output_type": "stream",
     "text": [
      "           d                         d2             id(d2[1]) is id(d[1])\n",
      "------------------------  ------------------------  ---------------------\n",
      "{1: 'a', 2: 'b', 3: 'c'}  {1: 'A', 2: 'b', 3: 'c'}  False                \n",
      "\n"
     ]
    }
   ],
   "source": [
    "d = {1:'a', 2:'b', 3:'c'}\n",
    "d2 = d.copy()\n",
    "d2[1]='A'\n",
    "%C d;d2;id(d2[1]) is id(d[1])"
   ]
  },
  {
   "cell_type": "markdown",
   "metadata": {},
   "source": [
    "d.fromkeys(keys,value): 从键序列keys创建所有值都是value的字典"
   ]
  },
  {
   "cell_type": "code",
   "execution_count": 94,
   "metadata": {},
   "outputs": [
    {
     "name": "stdout",
     "output_type": "stream",
     "text": [
      "              d3              \n",
      "------------------------------\n",
      "{5: ['e', 'f'], 6: ['e', 'f']}\n",
      "\n"
     ]
    }
   ],
   "source": [
    "d3 = {}.fromkeys([5,6],['e','f'])\n",
    "%C d3"
   ]
  },
  {
   "cell_type": "markdown",
   "metadata": {},
   "source": [
    "pop()用于剔除元素:"
   ]
  },
  {
   "cell_type": "code",
   "execution_count": 95,
   "metadata": {},
   "outputs": [
    {
     "data": {
      "text/plain": [
       "{5: ['e', 'f']}"
      ]
     },
     "execution_count": 95,
     "metadata": {},
     "output_type": "execute_result"
    }
   ],
   "source": [
    "d3.pop(6)\n",
    "d3"
   ]
  },
  {
   "cell_type": "markdown",
   "metadata": {},
   "source": [
    "update(): 用另一个字典中的项扩充自己的项, 返回None;"
   ]
  },
  {
   "cell_type": "code",
   "execution_count": 96,
   "metadata": {},
   "outputs": [
    {
     "name": "stdout",
     "output_type": "stream",
     "text": [
      "                   d                      d4 \n",
      "---------------------------------------  ----\n",
      "{1: 'a', 2: 'b', 3: 'c', 5: ['e', 'f']}  None\n",
      "\n"
     ]
    }
   ],
   "source": [
    "d4 = d.update(d3)\n",
    "%C d;d4"
   ]
  },
  {
   "cell_type": "markdown",
   "metadata": {},
   "source": [
    "### 集合类型"
   ]
  },
  {
   "cell_type": "code",
   "execution_count": 97,
   "metadata": {},
   "outputs": [
    {
     "name": "stdout",
     "output_type": "stream",
     "text": [
      "     es                ef        \n",
      "------------  -------------------\n",
      "{1, 2, 3, 4}  frozenset({5, 'e'})\n",
      "\n"
     ]
    }
   ],
   "source": [
    "es = set([1,2,3,4])\n",
    "ef = frozenset({5,'e'})\n",
    "%C es; ef"
   ]
  },
  {
   "cell_type": "markdown",
   "metadata": {},
   "source": [
    "集合类型的方法和操作:"
   ]
  },
  {
   "cell_type": "markdown",
   "metadata": {},
   "source": [
    "|方法|描述|\n",
    "|:|:|\n",
    "| e.copy()| 制作e的一份副本 |\n",
    "| e.difference(t)| 差集 |\n",
    "| e.intersection(t)| 交集 |\n",
    "| e.isdisjoint(t)| e,t没有相同项为正 |\n",
    "| e.issubset(t)| 是子集的话为正 |\n",
    "| e.issuperset(t)| 是超集的话为正 |\n",
    "| e.symmetric_difference(t)| 对称差集, 并集-交集 |\n",
    "| e.union(t)| 并集 |"
   ]
  },
  {
   "cell_type": "markdown",
   "metadata": {},
   "source": [
    "可变集合类型的方法:"
   ]
  },
  {
   "cell_type": "markdown",
   "metadata": {},
   "source": [
    "|方法|描述|\n",
    "|:|:|\n",
    "| e.add(item)| 不返回异常的加项处理 |\n",
    "| e.clear()| 删除集合中的所有项 |\n",
    "| e.difference_update(t)| 将e-t直接放入e |\n",
    "| e.discard(item)| 类似于remove, 但是如果项不存在, 不返回异常 |\n",
    "| e.intersection_update(t)| 用e,t的交集直接放入e |\n",
    "| e.pop()| 返回任意的集合元素, 并将其从e中删除 |\n",
    "| e.remove(item)| 如果项不存在, 返回键错 |\n",
    "| e.symmetric_difference_update(t)| 将对称差集的结果直接放置在e中 |\n",
    "| e.update[t]| t是支持迭代的任意对象, 将其项添加到e中 |"
   ]
  },
  {
   "cell_type": "markdown",
   "metadata": {},
   "source": [
    "## 与程序结构相关的内置类型$$"
   ]
  },
  {
   "cell_type": "markdown",
   "metadata": {},
   "source": [
    "内嵌函数或方法:  builtin_function_or_method\n",
    "用户自定义函数:  "
   ]
  },
  {
   "cell_type": "code",
   "execution_count": 143,
   "metadata": {},
   "outputs": [],
   "source": [
    "def exfunc(self,para):\n",
    "    pss"
   ]
  },
  {
   "cell_type": "code",
   "execution_count": 145,
   "metadata": {},
   "outputs": [],
   "source": [
    "class Exclass(object):\n",
    "        pass"
   ]
  },
  {
   "cell_type": "code",
   "execution_count": null,
   "metadata": {},
   "outputs": [],
   "source": []
  },
  {
   "cell_type": "markdown",
   "metadata": {},
   "source": [
    "### 可调用类型"
   ]
  },
  {
   "cell_type": "markdown",
   "metadata": {},
   "source": [
    "1.** 自定义函数的属性 **"
   ]
  },
  {
   "cell_type": "markdown",
   "metadata": {},
   "source": [
    "|函数属性|描述|\n",
    "|:|:|\n",
    "|f.__doc__| 查看函数的文档字符串 | \n",
    "|f.__name__| 查看函数名(f) |\n",
    "|f.__dict__| 包含函数属性的字典 |  \n",
    "|f.__defaults__| 产看函数默认值 |"
   ]
  },
  {
   "cell_type": "markdown",
   "metadata": {},
   "source": [
    "2. **方法**"
   ]
  },
  {
   "cell_type": "markdown",
   "metadata": {},
   "source": [
    "**实例方法**: 第一个参数是类的实例, self, 用于操作类的实例;    \n",
    "**类方法**: 第一个参数是类本身, clf, 用于操作类本身;     \n",
    "**静态方法**: 不能使用实例或类本身作为参数, 打包在类中的函数; "
   ]
  },
  {
   "cell_type": "code",
   "execution_count": 147,
   "metadata": {},
   "outputs": [],
   "source": [
    "class Foo(object):  \n",
    "    \n",
    "    def instance_method(self,arg):\n",
    "        print(\"我是实例方法\")\n",
    "    \n",
    "    @classmethod\n",
    "    def class_method(self,arg):\n",
    "        print(\"我是类方法\")\n",
    "        \n",
    "    @staticmethod\n",
    "    def static_method(arg): \n",
    "        print(\"我是静态方法\")"
   ]
  },
  {
   "cell_type": "markdown",
   "metadata": {},
   "source": [
    "方法调用时的运算符`.()`可以分解为两个过程: 属性查找`.`和函数调用`()`;"
   ]
  },
  {
   "cell_type": "markdown",
   "metadata": {},
   "source": [
    "**绑定方法**:    \n",
    "绑定在实例对象上的方法, 可有实例直接调用;  \n",
    "类的实例可以直接查找其类型所有的方法, 然后对自身进行操作;"
   ]
  },
  {
   "cell_type": "code",
   "execution_count": 156,
   "metadata": {},
   "outputs": [
    {
     "name": "stdout",
     "output_type": "stream",
     "text": [
      "我是实例方法\n",
      "我是实例方法\n"
     ]
    }
   ],
   "source": [
    "f = Foo()\n",
    "# 实例方法的一般调用形式, 实例方法可以有参数\n",
    "f.instance_method(1)\n",
    "# 将实例方法的调用分为两个独立的过程\n",
    "meth = f.instance_method # 属性查找\n",
    "meth(37) # 方法调用"
   ]
  },
  {
   "cell_type": "markdown",
   "metadata": {},
   "source": [
    "**非绑定方法**:   \n",
    "没有绑定在实例上的方法, 必须把实例作为参数传递给该方法;   \n",
    "直接调用类的方法, 再给其传递类的实例作为参数;"
   ]
  },
  {
   "cell_type": "code",
   "execution_count": 157,
   "metadata": {},
   "outputs": [
    {
     "name": "stdout",
     "output_type": "stream",
     "text": [
      "我是实例方法\n",
      "我是实例方法\n"
     ]
    }
   ],
   "source": [
    "umesh = Foo.instance_method\n",
    "umesh(f,38)\n",
    "Foo.instance_method(f, 38) # 上述两条语句的综合"
   ]
  },
  {
   "cell_type": "code",
   "execution_count": 150,
   "metadata": {},
   "outputs": [
    {
     "data": {
      "text/plain": [
       "<bound method Foo.instance_method of <__main__.Foo object at 0x0000000005F06940>>"
      ]
     },
     "execution_count": 150,
     "metadata": {},
     "output_type": "execute_result"
    }
   ],
   "source": [
    "f.instance_method"
   ]
  },
  {
   "cell_type": "code",
   "execution_count": 151,
   "metadata": {},
   "outputs": [
    {
     "data": {
      "text/plain": [
       "<function __main__.Foo.instance_method(self, arg)>"
      ]
     },
     "execution_count": 151,
     "metadata": {},
     "output_type": "execute_result"
    }
   ],
   "source": [
    "Foo.instance_method"
   ]
  },
  {
   "cell_type": "markdown",
   "metadata": {},
   "source": [
    "3. **内置函数与方法**"
   ]
  },
  {
   "cell_type": "markdown",
   "metadata": {},
   "source": [
    "b.__doc__:  文档字符串  \n",
    "b.__self__: 与查看与方法相关的实例"
   ]
  },
  {
   "cell_type": "code",
   "execution_count": 158,
   "metadata": {},
   "outputs": [
    {
     "data": {
      "text/plain": [
       "<bound method Foo.instance_method of <__main__.Foo object at 0x0000000005F031D0>>"
      ]
     },
     "execution_count": 158,
     "metadata": {},
     "output_type": "execute_result"
    }
   ],
   "source": [
    "f.instance_method"
   ]
  },
  {
   "cell_type": "markdown",
   "metadata": {},
   "source": [
    "4. **可调用的类与实例**"
   ]
  },
  {
   "cell_type": "markdown",
   "metadata": {},
   "source": [
    "class语句创建的是**类对象**, 作为函数使用, 将创建类的实例;  \n",
    "`类函数`的参数被传递给类的`__init__()方法`, 以便初始化实例时使用;  \n"
   ]
  },
  {
   "cell_type": "markdown",
   "metadata": {},
   "source": [
    "### 类,类型与实例"
   ]
  },
  {
   "cell_type": "code",
   "execution_count": null,
   "metadata": {},
   "outputs": [],
   "source": []
  },
  {
   "cell_type": "markdown",
   "metadata": {},
   "source": [
    "### 模块"
   ]
  },
  {
   "cell_type": "markdown",
   "metadata": {},
   "source": [
    "模块类型是一个容器, 保存了import语句可以加载的对象;  "
   ]
  },
  {
   "cell_type": "markdown",
   "metadata": {},
   "source": [
    "## 解释器内部使用的内置类型"
   ]
  },
  {
   "cell_type": "markdown",
   "metadata": {},
   "source": [
    "### 代码对象"
   ]
  },
  {
   "cell_type": "markdown",
   "metadata": {},
   "source": [
    "#### 帧对象"
   ]
  },
  {
   "cell_type": "markdown",
   "metadata": {},
   "source": [
    "### 跟踪对象"
   ]
  },
  {
   "cell_type": "markdown",
   "metadata": {},
   "source": [
    "### 生成器对象"
   ]
  },
  {
   "cell_type": "markdown",
   "metadata": {},
   "source": [
    "### 切片对象"
   ]
  },
  {
   "cell_type": "markdown",
   "metadata": {},
   "source": [
    "### Ellipsis对象"
   ]
  },
  {
   "cell_type": "markdown",
   "metadata": {},
   "source": [
    "## 对象行为与特殊方法"
   ]
  },
  {
   "cell_type": "markdown",
   "metadata": {},
   "source": [
    "### 对象的创建于销毁"
   ]
  },
  {
   "cell_type": "markdown",
   "metadata": {},
   "source": [
    "### 对象字符串表示"
   ]
  },
  {
   "cell_type": "markdown",
   "metadata": {},
   "source": [
    "### 对象比较与排序"
   ]
  },
  {
   "cell_type": "markdown",
   "metadata": {},
   "source": [
    "### 类型检查"
   ]
  },
  {
   "cell_type": "markdown",
   "metadata": {},
   "source": [
    "### 属性访问"
   ]
  },
  {
   "cell_type": "markdown",
   "metadata": {},
   "source": [
    "### 属性包装与描述符"
   ]
  },
  {
   "cell_type": "markdown",
   "metadata": {},
   "source": [
    "### 序列与映射方法"
   ]
  },
  {
   "cell_type": "markdown",
   "metadata": {},
   "source": [
    "### 迭代"
   ]
  },
  {
   "cell_type": "markdown",
   "metadata": {},
   "source": [
    "### 数学操作"
   ]
  },
  {
   "cell_type": "markdown",
   "metadata": {},
   "source": [
    "### 可调用接口"
   ]
  },
  {
   "cell_type": "markdown",
   "metadata": {},
   "source": [
    "### 上下文管理协议"
   ]
  },
  {
   "cell_type": "markdown",
   "metadata": {},
   "source": [
    "### 对象检查与dir()"
   ]
  },
  {
   "cell_type": "code",
   "execution_count": null,
   "metadata": {},
   "outputs": [],
   "source": []
  },
  {
   "cell_type": "code",
   "execution_count": null,
   "metadata": {},
   "outputs": [],
   "source": []
  },
  {
   "cell_type": "code",
   "execution_count": null,
   "metadata": {},
   "outputs": [],
   "source": []
  }
 ],
 "metadata": {
  "kernelspec": {
   "display_name": "Python 3",
   "language": "python",
   "name": "python3"
  },
  "language_info": {
   "codemirror_mode": {
    "name": "ipython",
    "version": 3
   },
   "file_extension": ".py",
   "mimetype": "text/x-python",
   "name": "python",
   "nbconvert_exporter": "python",
   "pygments_lexer": "ipython3",
   "version": "3.6.5"
  },
  "toc": {
   "base_numbering": "03",
   "nav_menu": {},
   "number_sections": true,
   "sideBar": true,
   "skip_h1_title": false,
   "title_cell": "Table of Contents",
   "title_sidebar": "Contents",
   "toc_cell": false,
   "toc_position": {
    "height": "calc(100% - 180px)",
    "left": "10px",
    "top": "150px",
    "width": "165px"
   },
   "toc_section_display": true,
   "toc_window_display": false
  }
 },
 "nbformat": 4,
 "nbformat_minor": 2
}

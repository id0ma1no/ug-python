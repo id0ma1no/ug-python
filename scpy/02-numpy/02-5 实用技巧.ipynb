{
 "cells": [
  {
   "cell_type": "code",
   "execution_count": 1,
   "metadata": {
    "collapsed": false
   },
   "outputs": [],
   "source": [
    "import numpy as np\n",
    "import math"
   ]
  },
  {
   "cell_type": "markdown",
   "metadata": {},
   "source": [
    "## 实用技巧"
   ]
  },
  {
   "cell_type": "markdown",
   "metadata": {},
   "source": [
    "通过mumpy数组共享内存的方法"
   ]
  },
  {
   "cell_type": "markdown",
   "metadata": {},
   "source": [
    "### 动态数组"
   ]
  },
  {
   "cell_type": "markdown",
   "metadata": {
    "collapsed": false
   },
   "source": [
    "通过np.frombuffer创建一个和a共享内存的NumPy数组"
   ]
  },
  {
   "cell_type": "code",
   "execution_count": 4,
   "metadata": {
    "collapsed": false
   },
   "outputs": [
    {
     "name": "stdout",
     "output_type": "stream",
     "text": [
      "               a                           na         \n",
      "--------------------------------  --------------------\n",
      "array('d', [1.0, 2.0, 3.0, 4.0])  [ 1.,  2.,  3.,  4.]\n"
     ]
    }
   ],
   "source": [
    "import numpy as np\n",
    "from array import array\n",
    "a = array(\"d\", [1,2,3,4])   # 创建一个array数组\n",
    "na = np.frombuffer(a, dtype=np.float) \n",
    "\n",
    "%C a; na"
   ]
  },
  {
   "cell_type": "code",
   "execution_count": 5,
   "metadata": {
    "collapsed": false
   },
   "outputs": [
    {
     "name": "stdout",
     "output_type": "stream",
     "text": [
      "array('d', [1.0, 20.0, 3.0, 4.0])\n"
     ]
    }
   ],
   "source": [
    "na[1] = 20  # 修改NumPy数组中的第一个元素\n",
    "print a"
   ]
  },
  {
   "cell_type": "markdown",
   "metadata": {},
   "source": [
    "array 数组只支持一维, 用reshape改为二维"
   ]
  },
  {
   "cell_type": "code",
   "execution_count": 6,
   "metadata": {
    "collapsed": false
   },
   "outputs": [
    {
     "name": "stdout",
     "output_type": "stream",
     "text": [
      "[[ 0.          1.        ]\n",
      " [ 0.09983342  0.99500417]\n",
      " [ 0.19866933  0.98006658]\n",
      " [ 0.29552021  0.95533649]\n",
      " [ 0.38941834  0.92106099]]\n"
     ]
    }
   ],
   "source": [
    "import math\n",
    "buf = array(\"d\")\n",
    "for i in range(5):\n",
    "    buf.append(math.sin(i*0.1)) \n",
    "    buf.append(math.cos(i*0.1))\n",
    "\n",
    "data = np.frombuffer(buf, dtype=np.float).reshape(-1, 2)\n",
    "print data"
   ]
  },
  {
   "cell_type": "markdown",
   "metadata": {},
   "source": [
    "不断往array中添加数据时, 它的内存地址可能会改变"
   ]
  },
  {
   "cell_type": "code",
   "execution_count": 12,
   "metadata": {
    "collapsed": false
   },
   "outputs": [
    {
     "name": "stdout",
     "output_type": "stream",
     "text": [
      "i =0时的地址: (125978544, 1)\n",
      "\n",
      "i =1时的地址: (125978544, 2)\n",
      "\n",
      "i =2时的地址: (125978544, 3)\n",
      "\n",
      "i =3时的地址: (125978544, 4)\n",
      "\n",
      "------\n",
      "i =4时的地址: (124044544, 5)\n",
      "\n",
      "i =5时的地址: (124044544, 6)\n",
      "\n",
      "i =6时的地址: (124044544, 7)\n",
      "\n",
      "i =7时的地址: (124044544, 8)\n",
      "\n",
      "------\n",
      "i =8时的地址: (53860928, 9)\n",
      "\n",
      "i =9时的地址: (53860928, 10)\n",
      "\n"
     ]
    }
   ],
   "source": [
    "a = array(\"d\")\n",
    "for i in range(10):\n",
    "    a.append(i)\n",
    "    if i == 2:\n",
    "        na = np.frombuffer(a, dtype=float)\n",
    "    print \"i ={}时的地址: {}\\n\".format(i,a.buffer_info())\n",
    "    if (i == 3) | (i == 7):\n",
    "        print '------'"
   ]
  },
  {
   "cell_type": "markdown",
   "metadata": {},
   "source": [
    "narray.ctypes.data 可以获得数组元素的地址"
   ]
  },
  {
   "cell_type": "code",
   "execution_count": 13,
   "metadata": {
    "collapsed": false
   },
   "outputs": [
    {
     "name": "stdout",
     "output_type": "stream",
     "text": [
      "125978544\n",
      "[ 0.  1.  2.]\n"
     ]
    }
   ],
   "source": [
    "print na.ctypes.data\n",
    "print na"
   ]
  },
  {
   "cell_type": "markdown",
   "metadata": {},
   "source": [
    "结论: 每次动态数组的长度改变时(array数组的地址改变)时, 我们都需要重新调用np.frombuffer()"
   ]
  },
  {
   "cell_type": "markdown",
   "metadata": {},
   "source": [
    "每个通道的数据类型不同时, 使用bytearray收集数据, 首先要将python的数值转化成字节表示"
   ]
  },
  {
   "cell_type": "markdown",
   "metadata": {},
   "source": [
    "> `bytearray`对象的`+=`运算与其`extend()`方法的功能相同，但`+=`的运行速度要比`extend()`快许多"
   ]
  },
  {
   "cell_type": "code",
   "execution_count": 36,
   "metadata": {
    "collapsed": false
   },
   "outputs": [
    {
     "name": "stdout",
     "output_type": "stream",
     "text": [
      "[0 1 2 3 4]\n",
      "[ 0.          0.09983342  0.19866933  0.29552021  0.38941834]\n",
      "[ 1.          0.99500417  0.98006658  0.95533649  0.92106099]\n"
     ]
    }
   ],
   "source": [
    "import struct\n",
    "buf = bytearray()\n",
    "for i in range(5):\n",
    "    buf += struct.pack(\"=hdd\", i, math.sin(i*0.1), math.cos(i*0.1))\n",
    "    # 采集三个通道的数据，并将数据转化成字节表示\n",
    "\n",
    "dtype = np.dtype({\"names\":[\"id\",\"sin\",\"cos\"], \"formats\":[\"h\", \"d\", \"d\"]})\n",
    "#  定义结构体类型名 dtype\n",
    "\n",
    "data = np.frombuffer(buf, dtype=dtype) \n",
    "#  从字节数组的内存数据创建narray数组, 对象类型是一个结构体类型\n",
    "print data[\"id\"]\n",
    "print data[\"sin\"]\n",
    "print data[\"cos\"]"
   ]
  },
  {
   "cell_type": "code",
   "execution_count": 37,
   "metadata": {
    "collapsed": false
   },
   "outputs": [
    {
     "name": "stdout",
     "output_type": "stream",
     "text": [
      "a[0]: \n",
      " (0, 0.0, 1.0) \n",
      "\n",
      "a[1]: \n",
      " (1, 0.09983341664682815, 0.9950041652780258) \n",
      "\n",
      "a[2]: \n",
      " (2, 0.19866933079506122, 0.9800665778412416) \n",
      "\n",
      "a[3]: \n",
      " (3, 0.2955202066613396, 0.955336489125606) \n",
      "\n",
      "a[4]: \n",
      " (4, 0.3894183423086505, 0.9210609940028851) \n",
      "\n"
     ]
    }
   ],
   "source": [
    "for j in range(5):\n",
    "    print \"a[{}]: \\n {} \\n\".format(j, data[j])"
   ]
  },
  {
   "cell_type": "markdown",
   "metadata": {},
   "source": [
    "### 和其它对象共享内存"
   ]
  },
  {
   "cell_type": "markdown",
   "metadata": {},
   "source": [
    "给定一个对象, 如何创建于该对象共享内存的数组?\n",
    "\n",
    "上面介绍的np.frombuffer之所以可以使用, 是因为该对象提供了分享地址的接口\n",
    "\n",
    "如果一个对象不提供分享地址的接口, 我们只能强行询问他的地址"
   ]
  },
  {
   "cell_type": "code",
   "execution_count": 39,
   "metadata": {
    "collapsed": false
   },
   "outputs": [
    {
     "name": "stdout",
     "output_type": "stream",
     "text": [
      "width & height: 512 393\n",
      "depth: 32\n",
      "format: 4 4\n",
      "byteCount: 804864\n",
      "bytesPerLine: 2048\n",
      "bits: 8716320\n"
     ]
    }
   ],
   "source": [
    "from PyQt4.QtGui import QImage, qRgb\n",
    "img = QImage(\"lena.png\")\n",
    "print \"width & height:\", img.width(), img.height()\n",
    "print \"depth:\", img.depth() #每个像素的比特数\n",
    "print \"format:\", img.format(), QImage.Format_RGB32 \n",
    "print \"byteCount:\", img.byteCount() #图像的总字节数\n",
    "print \"bytesPerLine:\", img.bytesPerLine() #每行的字节数\n",
    "print \"bits:\", int(img.bits()) #图像第一个字节的地址"
   ]
  },
  {
   "cell_type": "code",
   "execution_count": 40,
   "metadata": {
    "collapsed": false
   },
   "outputs": [],
   "source": [
    "import ctypes\n",
    "addr = int(img.bits())\n",
    "pointer = ctypes.cast(addr, ctypes.POINTER(ctypes.c_uint8)) #❶\n",
    "arr = np.ctypeslib.as_array(pointer, (img.height(), img.width(), img.depth()//8)) #❷"
   ]
  },
  {
   "cell_type": "code",
   "execution_count": 41,
   "metadata": {
    "collapsed": false
   },
   "outputs": [
    {
     "name": "stdout",
     "output_type": "stream",
     "text": [
      "4289282380\n",
      "4289282380\n"
     ]
    }
   ],
   "source": [
    "x, y = 100, 50\n",
    "b, g, r, a = arr[y, x]\n",
    "print qRgb(r, g, b)\n",
    "print img.pixel(x, y)"
   ]
  },
  {
   "cell_type": "code",
   "execution_count": 42,
   "metadata": {
    "collapsed": false
   },
   "outputs": [
    {
     "name": "stdout",
     "output_type": "stream",
     "text": [
      "0xff563412L\n"
     ]
    }
   ],
   "source": [
    "arr[y, x, :3] = 0x12, 0x34, 0x56\n",
    "print hex(img.pixel(x, y))"
   ]
  },
  {
   "cell_type": "code",
   "execution_count": 43,
   "metadata": {
    "collapsed": false
   },
   "outputs": [
    {
     "name": "stdout",
     "output_type": "stream",
     "text": [
      "True True\n"
     ]
    }
   ],
   "source": [
    "interface = {\n",
    "    'shape': (img.height(), img.width(), 4),\n",
    "    'data': (int(img.bits()), False),\n",
    "    'strides': (img.bytesPerLine(), 4, 1),\n",
    "    'typestr': \"|u1\",\n",
    "    'version': 3,\n",
    "}\n",
    "\n",
    "img.__array_interface__ = interface #❶\n",
    "\n",
    "arr2 = np.array(img, copy=False)  #❷\n",
    "del img.__array_interface__ #❸\n",
    "print np.all(arr2 == arr), arr2.base is img  #❹"
   ]
  },
  {
   "cell_type": "code",
   "execution_count": 44,
   "metadata": {
    "collapsed": false
   },
   "outputs": [
    {
     "name": "stdout",
     "output_type": "stream",
     "text": [
      "True\n"
     ]
    }
   ],
   "source": [
    "class ArrayProxy(object):\n",
    "    def __init__(self, base, interface):\n",
    "        self.base = base\n",
    "        self.__array_interface__ = interface\n",
    "        \n",
    "arr3 = np.array(ArrayProxy(img, interface), copy=False)\n",
    "print np.all(arr3 == arr)"
   ]
  },
  {
   "cell_type": "markdown",
   "metadata": {},
   "source": [
    "### 与结构数组共享内存"
   ]
  },
  {
   "cell_type": "markdown",
   "metadata": {},
   "source": [
    "从结构数组获取一个字段,得原始数组的视图, 获取两个字段, 结果数组不是原始数组的视图"
   ]
  },
  {
   "cell_type": "code",
   "execution_count": 48,
   "metadata": {
    "collapsed": false
   },
   "outputs": [
    {
     "name": "stdout",
     "output_type": "stream",
     "text": [
      "True\n",
      "True\n"
     ]
    }
   ],
   "source": [
    "persontype = np.dtype({\n",
    "    'names':['name', 'age', 'weight', 'height'],\n",
    "    'formats':['S30','i', 'f', 'f']}, align= True )\n",
    "a = np.array([(\"Zhang\", 32, 72.5, 167.0), \n",
    "              (\"Wang\", 24, 65.2, 170.0)], dtype=persontype)\n",
    "\n",
    "print a[\"age\"].base is a  #视图\n",
    "print a[[\"age\", \"height\"]].base is None #复制"
   ]
  },
  {
   "cell_type": "code",
   "execution_count": 46,
   "metadata": {
    "collapsed": false
   },
   "outputs": [
    {
     "name": "stdout",
     "output_type": "stream",
     "text": [
      "True\n",
      "[('Zhang', 42, 72.5, 167.0) ('Wang', 34, 65.19999694824219, 170.0)]\n"
     ]
    }
   ],
   "source": [
    "def fields_view(arr, fields):\n",
    "    dtype2 = np.dtype({name:arr.dtype.fields[name] for name in fields})\n",
    "    return np.ndarray(arr.shape, dtype2, arr, 0, arr.strides)\n",
    "\n",
    "v = fields_view(a, [\"age\", \"weight\"])\n",
    "print v.base is a\n",
    "\n",
    "v[\"age\"] += 10\n",
    "print a"
   ]
  },
  {
   "cell_type": "code",
   "execution_count": 47,
   "metadata": {
    "collapsed": false
   },
   "outputs": [
    {
     "name": "stdout",
     "output_type": "stream",
     "text": [
      "{'age': (dtype('int32'), 32), 'name': (dtype('S30'), 0), 'weight': (dtype('float32'), 36), 'height': (dtype('float32'), 40)}\n",
      "{'names':['name','age','weight','height'], 'formats':['S30','<i4','<f4','<f4'], 'offsets':[0,32,36,40], 'itemsize':44, 'aligned':True}\n",
      "{'names':['age','weight'], 'formats':['<i4','<f4'], 'offsets':[32,36], 'itemsize':40}\n"
     ]
    }
   ],
   "source": [
    "print a.dtype.fields\n",
    "print a.dtype\n",
    "print v.dtype"
   ]
  },
  {
   "cell_type": "code",
   "execution_count": null,
   "metadata": {
    "collapsed": true
   },
   "outputs": [],
   "source": []
  },
  {
   "cell_type": "code",
   "execution_count": null,
   "metadata": {
    "collapsed": true
   },
   "outputs": [],
   "source": []
  },
  {
   "cell_type": "code",
   "execution_count": null,
   "metadata": {
    "collapsed": true
   },
   "outputs": [],
   "source": []
  },
  {
   "cell_type": "code",
   "execution_count": null,
   "metadata": {
    "collapsed": true
   },
   "outputs": [],
   "source": []
  },
  {
   "cell_type": "code",
   "execution_count": null,
   "metadata": {
    "collapsed": true
   },
   "outputs": [],
   "source": []
  }
 ],
 "metadata": {
  "kernelspec": {
   "display_name": "Python 2",
   "language": "python",
   "name": "python2"
  },
  "language_info": {
   "codemirror_mode": {
    "name": "ipython",
    "version": 2
   },
   "file_extension": ".py",
   "mimetype": "text/x-python",
   "name": "python",
   "nbconvert_exporter": "python",
   "pygments_lexer": "ipython2",
   "version": "2.7.9"
  }
 },
 "nbformat": 4,
 "nbformat_minor": 0
}

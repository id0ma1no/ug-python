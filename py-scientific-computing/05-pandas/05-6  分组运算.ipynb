{
 "cells": [
  {
   "cell_type": "code",
   "execution_count": 1,
   "metadata": {
    "collapsed": false
   },
   "outputs": [],
   "source": [
    "import pandas as pd\n",
    "import numpy as np\n",
    "pd.set_option(\"display.show_dimensions\", False)\n",
    "pd.set_option(\"display.float_format\", \"{:4.2g}\".format)"
   ]
  },
  {
   "cell_type": "markdown",
   "metadata": {},
   "source": [
    "## 分组运算"
   ]
  },
  {
   "cell_type": "code",
   "execution_count": 2,
   "metadata": {
    "collapsed": false,
    "scrolled": true
   },
   "outputs": [
    {
     "name": "stdout",
     "output_type": "stream",
     "text": [
      "   Dose  Response1  Response2 Tmt  Age Gender\n",
      "0    50        9.9         10   C  60s      F\n",
      "1    15      0.002      0.004   D  60s      F\n",
      "2    25       0.63        0.8   C  50s      M\n"
     ]
    }
   ],
   "source": [
    "dose_df = pd.read_csv(\"dose.csv\")\n",
    "print dose_df.head(3)"
   ]
  },
  {
   "cell_type": "markdown",
   "metadata": {},
   "source": [
    "### `groupby()`方法"
   ]
  },
  {
   "cell_type": "markdown",
   "metadata": {},
   "source": [
    "> **TIP**\n",
    "\n",
    "> `groupby()`并不立即执行分组操作，而只是返回保存源数据和分组数据的`GroupBy`对象。在需要获取每个分组的实际数据时，`GroupBy`对象才会执行分组操作。"
   ]
  },
  {
   "cell_type": "markdown",
   "metadata": {},
   "source": [
    "分组用的数据在源数据中"
   ]
  },
  {
   "cell_type": "code",
   "execution_count": 12,
   "metadata": {
    "collapsed": false
   },
   "outputs": [
    {
     "data": {
      "text/plain": [
       "4"
      ]
     },
     "execution_count": 12,
     "metadata": {},
     "output_type": "execute_result"
    }
   ],
   "source": [
    "# 按tmt一列中的所有可能进行分组\n",
    "tmt_group = dose_df.groupby(\"Tmt\")\n",
    "len(tmt_group)"
   ]
  },
  {
   "cell_type": "code",
   "execution_count": 13,
   "metadata": {
    "collapsed": false
   },
   "outputs": [
    {
     "data": {
      "text/plain": [
       "10"
      ]
     },
     "execution_count": 13,
     "metadata": {},
     "output_type": "execute_result"
    }
   ],
   "source": [
    "# 按tmt和age两个列分组\n",
    "tmt_age_group = dose_df.groupby([\"Tmt\", \"Age\"])\n",
    "len(tmt_age_group)\n",
    "# tmt>4, age>3, 最多12中,可能有些Age没有所有A,B,C,D形式"
   ]
  },
  {
   "cell_type": "markdown",
   "metadata": {},
   "source": [
    "分组用的数据不在源数据中"
   ]
  },
  {
   "cell_type": "code",
   "execution_count": 15,
   "metadata": {
    "collapsed": false
   },
   "outputs": [
    {
     "data": {
      "text/plain": [
       "5"
      ]
     },
     "execution_count": 15,
     "metadata": {},
     "output_type": "execute_result"
    }
   ],
   "source": [
    "# 将原数据随机分成5组\n",
    "random_values = np.random.randint(0, 5, dose_df.shape[0])\n",
    "random_group = dose_df.groupby(random_values)\n",
    "len(random_group)"
   ]
  },
  {
   "cell_type": "markdown",
   "metadata": {},
   "source": [
    "分组用的数据可以通过源数据的行索引计算"
   ]
  },
  {
   "cell_type": "code",
   "execution_count": 16,
   "metadata": {
    "collapsed": false
   },
   "outputs": [
    {
     "data": {
      "text/plain": [
       "3"
      ]
     },
     "execution_count": 16,
     "metadata": {},
     "output_type": "execute_result"
    }
   ],
   "source": [
    "# 行索引除以3的余数进行分组\n",
    "alternating_group = dose_df.groupby(lambda n:n % 3)\n",
    "len(alternating_group)"
   ]
  },
  {
   "cell_type": "markdown",
   "metadata": {},
   "source": [
    "可以任意自由组合三种分组数据"
   ]
  },
  {
   "cell_type": "code",
   "execution_count": 19,
   "metadata": {
    "collapsed": false
   },
   "outputs": [
    {
     "data": {
      "text/plain": [
       "20"
      ]
     },
     "execution_count": 19,
     "metadata": {},
     "output_type": "execute_result"
    }
   ],
   "source": [
    "crazy_group = dose_df.groupby([\"Gender\", lambda n: n % 2, random_values])\n",
    "len(crazy_group) # 2*2*5"
   ]
  },
  {
   "cell_type": "markdown",
   "metadata": {},
   "source": [
    "### `GroupBy`对象"
   ]
  },
  {
   "cell_type": "markdown",
   "metadata": {},
   "source": [
    "len()可以获取分组个数"
   ]
  },
  {
   "cell_type": "code",
   "execution_count": 20,
   "metadata": {
    "collapsed": false
   },
   "outputs": [
    {
     "name": "stdout",
     "output_type": "stream",
     "text": [
      "10 20\n"
     ]
    }
   ],
   "source": [
    "print len(tmt_age_group), len(crazy_group)"
   ]
  },
  {
   "cell_type": "markdown",
   "metadata": {},
   "source": [
    "GroupBy对象支持迭代接口, 通过迭代得到分组的键和数据"
   ]
  },
  {
   "cell_type": "code",
   "execution_count": 22,
   "metadata": {
    "collapsed": false
   },
   "outputs": [
    {
     "name": "stdout",
     "output_type": "stream",
     "text": [
      "key = ('A', '50s') , shape = (39, 6)\n",
      "key = ('A', '60s') , shape = (26, 6)\n",
      "key = ('B', '40s') , shape = (13, 6)\n",
      "key = ('B', '50s') , shape = (13, 6)\n",
      "key = ('B', '60s') , shape = (39, 6)\n",
      "key = ('C', '40s') , shape = (13, 6)\n",
      "key = ('C', '50s') , shape = (13, 6)\n",
      "key = ('C', '60s') , shape = (39, 6)\n",
      "key = ('D', '50s') , shape = (52, 6)\n",
      "key = ('D', '60s') , shape = (13, 6)\n"
     ]
    }
   ],
   "source": [
    "for key, df in tmt_age_group:\n",
    "    print \"key =\", key, \", shape =\", df.shape"
   ]
  },
  {
   "cell_type": "markdown",
   "metadata": {},
   "source": [
    "快速为每个分组指定变量名"
   ]
  },
  {
   "cell_type": "code",
   "execution_count": 25,
   "metadata": {
    "collapsed": false
   },
   "outputs": [
    {
     "data": {
      "text/html": [
       "<div>\n",
       "<table border=\"1\" class=\"dataframe\">\n",
       "  <thead>\n",
       "    <tr style=\"text-align: right;\">\n",
       "      <th></th>\n",
       "      <th>Dose</th>\n",
       "      <th>Response1</th>\n",
       "      <th>Response2</th>\n",
       "      <th>Tmt</th>\n",
       "      <th>Age</th>\n",
       "      <th>Gender</th>\n",
       "    </tr>\n",
       "  </thead>\n",
       "  <tbody>\n",
       "    <tr>\n",
       "      <th>6</th>\n",
       "      <td>1</td>\n",
       "      <td>0</td>\n",
       "      <td>0</td>\n",
       "      <td>A</td>\n",
       "      <td>50s</td>\n",
       "      <td>F</td>\n",
       "    </tr>\n",
       "    <tr>\n",
       "      <th>10</th>\n",
       "      <td>15</td>\n",
       "      <td>5.2</td>\n",
       "      <td>5.2</td>\n",
       "      <td>A</td>\n",
       "      <td>60s</td>\n",
       "      <td>F</td>\n",
       "    </tr>\n",
       "    <tr>\n",
       "      <th>12</th>\n",
       "      <td>5</td>\n",
       "      <td>0</td>\n",
       "      <td>0.001</td>\n",
       "      <td>A</td>\n",
       "      <td>60s</td>\n",
       "      <td>F</td>\n",
       "    </tr>\n",
       "    <tr>\n",
       "      <th>17</th>\n",
       "      <td>5</td>\n",
       "      <td>0</td>\n",
       "      <td>0.003</td>\n",
       "      <td>A</td>\n",
       "      <td>50s</td>\n",
       "      <td>M</td>\n",
       "    </tr>\n",
       "    <tr>\n",
       "      <th>32</th>\n",
       "      <td>1e+02</td>\n",
       "      <td>9.3</td>\n",
       "      <td>10</td>\n",
       "      <td>A</td>\n",
       "      <td>60s</td>\n",
       "      <td>F</td>\n",
       "    </tr>\n",
       "  </tbody>\n",
       "</table>\n",
       "</div>"
      ],
      "text/plain": [
       "    Dose  Response1  Response2 Tmt  Age Gender\n",
       "6      1          0          0   A  50s      F\n",
       "10    15        5.2        5.2   A  60s      F\n",
       "12     5          0      0.001   A  60s      F\n",
       "17     5          0      0.003   A  50s      M\n",
       "32 1e+02        9.3         10   A  60s      F"
      ]
     },
     "execution_count": 25,
     "metadata": {},
     "output_type": "execute_result"
    }
   ],
   "source": [
    "(_, df_A), (_, df_B), (_, df_C), (_, df_D) = tmt_group\n",
    "df_A.head()"
   ]
  },
  {
   "cell_type": "markdown",
   "metadata": {},
   "source": [
    "> **TIP**\n",
    "\n",
    "> 由于`GroupBy`对象有`keys`属性，因此无法通过`dict(tmt_group)`直接将其转换为字典，可以先将其转换为迭代器，再转换为字典`dict(iter(tmt_group))`。"
   ]
  },
  {
   "cell_type": "markdown",
   "metadata": {},
   "source": [
    "get_group()方法获得分组键对应的数据"
   ]
  },
  {
   "cell_type": "code",
   "execution_count": 30,
   "metadata": {
    "collapsed": false
   },
   "outputs": [
    {
     "name": "stdout",
     "output_type": "stream",
     "text": [
      "       tmt_group.get_group(\"A\").head(3)       \n",
      "----------------------------------------------\n",
      "    Dose  Response1  Response2 Tmt  Age Gender\n",
      "6      1          0          0   A  50s      F\n",
      "10    15        5.2        5.2   A  60s      F\n",
      "12     5          0      0.001   A  60s      F\n",
      "\n",
      "tmt_age_group.get_group((\"A\", \"50s\")).head(3) \n",
      "----------------------------------------------\n",
      "    Dose  Response1  Response2 Tmt  Age Gender\n",
      "6      1          0          0   A  50s      F\n",
      "17     5          0      0.003   A  50s      M\n",
      "34    40         11         10   A  50s      M\n"
     ]
    }
   ],
   "source": [
    "%C tmt_group.get_group(\"A\").head(3);; tmt_age_group.get_group((\"A\", \"50s\")).head(3)"
   ]
  },
  {
   "cell_type": "markdown",
   "metadata": {},
   "source": [
    "对GroupBy的下标操作, 将获得一个新的gropby对象, 这个groupby对象只包含源数据中指定的列. 通过这种方式可以先使用源数据中的某些列进行分组, 然后选择另一些列进行后续运算"
   ]
  },
  {
   "cell_type": "code",
   "execution_count": 33,
   "metadata": {
    "collapsed": false
   },
   "outputs": [
    {
     "name": "stdout",
     "output_type": "stream",
     "text": [
      "<pandas.core.groupby.SeriesGroupBy object at 0x0A45FA90>\n",
      "<pandas.core.groupby.DataFrameGroupBy object at 0x0A45F6D0>\n"
     ]
    }
   ],
   "source": [
    "print tmt_group[\"Dose\"]\n",
    "print tmt_group[[\"Response1\", \"Response2\"]]"
   ]
  },
  {
   "cell_type": "code",
   "execution_count": 35,
   "metadata": {
    "collapsed": false
   },
   "outputs": [
    {
     "name": "stdout",
     "output_type": "stream",
     "text": [
      "key = A , shape = (65,)\n",
      "key = B , shape = (65,)\n",
      "key = C , shape = (65,)\n",
      "key = D , shape = (65,)\n"
     ]
    }
   ],
   "source": [
    "for key, df in  tmt_group.Dose:\n",
    "    print \"key =\", key, \", shape =\", df.shape"
   ]
  },
  {
   "cell_type": "markdown",
   "metadata": {},
   "source": [
    "### 分组－运算－合并"
   ]
  },
  {
   "cell_type": "markdown",
   "metadata": {},
   "source": [
    "回调函数既可把分组的每列做为参数,也可把整个分组做为参数\n",
    "\n",
    "* agg(), 对个分组中的数据进行聚合运算\n",
    "* transform(),对每个分组中的数据进行转换运算\n",
    "* filter(), 对每个分组进行条件判断\n",
    "* apply(), 将每个分组的DataFrame对象传递给回调函数并收集其返回值,并将这些返回值按照某种规则合并"
   ]
  },
  {
   "cell_type": "markdown",
   "metadata": {},
   "source": [
    "#### `agg()`－聚合"
   ]
  },
  {
   "cell_type": "code",
   "execution_count": 47,
   "metadata": {
    "collapsed": false
   },
   "outputs": [
    {
     "data": {
      "text/html": [
       "<div>\n",
       "<table border=\"1\" class=\"dataframe\">\n",
       "  <thead>\n",
       "    <tr style=\"text-align: right;\">\n",
       "      <th></th>\n",
       "      <th>Dose</th>\n",
       "      <th>Response1</th>\n",
       "      <th>Response2</th>\n",
       "      <th>Tmt</th>\n",
       "      <th>Age</th>\n",
       "      <th>Gender</th>\n",
       "    </tr>\n",
       "  </thead>\n",
       "  <tbody>\n",
       "    <tr>\n",
       "      <th>0</th>\n",
       "      <td>50</td>\n",
       "      <td>9.9</td>\n",
       "      <td>10</td>\n",
       "      <td>C</td>\n",
       "      <td>60s</td>\n",
       "      <td>F</td>\n",
       "    </tr>\n",
       "    <tr>\n",
       "      <th>1</th>\n",
       "      <td>15</td>\n",
       "      <td>0.002</td>\n",
       "      <td>0.004</td>\n",
       "      <td>D</td>\n",
       "      <td>60s</td>\n",
       "      <td>F</td>\n",
       "    </tr>\n",
       "    <tr>\n",
       "      <th>2</th>\n",
       "      <td>25</td>\n",
       "      <td>0.63</td>\n",
       "      <td>0.8</td>\n",
       "      <td>C</td>\n",
       "      <td>50s</td>\n",
       "      <td>M</td>\n",
       "    </tr>\n",
       "    <tr>\n",
       "      <th>3</th>\n",
       "      <td>25</td>\n",
       "      <td>1.4</td>\n",
       "      <td>1.6</td>\n",
       "      <td>C</td>\n",
       "      <td>60s</td>\n",
       "      <td>F</td>\n",
       "    </tr>\n",
       "    <tr>\n",
       "      <th>4</th>\n",
       "      <td>15</td>\n",
       "      <td>0.01</td>\n",
       "      <td>0.02</td>\n",
       "      <td>C</td>\n",
       "      <td>60s</td>\n",
       "      <td>F</td>\n",
       "    </tr>\n",
       "  </tbody>\n",
       "</table>\n",
       "</div>"
      ],
      "text/plain": [
       "   Dose  Response1  Response2 Tmt  Age Gender\n",
       "0    50        9.9         10   C  60s      F\n",
       "1    15      0.002      0.004   D  60s      F\n",
       "2    25       0.63        0.8   C  50s      M\n",
       "3    25        1.4        1.6   C  60s      F\n",
       "4    15       0.01       0.02   C  60s      F"
      ]
     },
     "execution_count": 47,
     "metadata": {},
     "output_type": "execute_result"
    }
   ],
   "source": [
    "dose_df.head()"
   ]
  },
  {
   "cell_type": "code",
   "execution_count": 41,
   "metadata": {
    "collapsed": false
   },
   "outputs": [
    {
     "data": {
      "text/plain": [
       "<pandas.core.groupby.DataFrameGroupBy object at 0x0A321FD0>"
      ]
     },
     "execution_count": 41,
     "metadata": {},
     "output_type": "execute_result"
    }
   ],
   "source": [
    "tmt_group"
   ]
  },
  {
   "cell_type": "code",
   "execution_count": 42,
   "metadata": {
    "collapsed": false
   },
   "outputs": [
    {
     "name": "stdout",
     "output_type": "stream",
     "text": [
      "key= A , shape = (65, 6)\n",
      "key= B , shape = (65, 6)\n",
      "key= C , shape = (65, 6)\n",
      "key= D , shape = (65, 6)\n"
     ]
    }
   ],
   "source": [
    "for key, df in tmt_group:\n",
    "    print \"key=\", key, \", shape =\",df.shape"
   ]
  },
  {
   "cell_type": "code",
   "execution_count": 44,
   "metadata": {
    "collapsed": false
   },
   "outputs": [
    {
     "data": {
      "text/html": [
       "<div>\n",
       "<table border=\"1\" class=\"dataframe\">\n",
       "  <thead>\n",
       "    <tr style=\"text-align: right;\">\n",
       "      <th></th>\n",
       "      <th>Dose</th>\n",
       "      <th>Response1</th>\n",
       "      <th>Response2</th>\n",
       "      <th>Tmt</th>\n",
       "      <th>Age</th>\n",
       "      <th>Gender</th>\n",
       "    </tr>\n",
       "  </thead>\n",
       "  <tbody>\n",
       "    <tr>\n",
       "      <th>6</th>\n",
       "      <td>1</td>\n",
       "      <td>0</td>\n",
       "      <td>0</td>\n",
       "      <td>A</td>\n",
       "      <td>50s</td>\n",
       "      <td>F</td>\n",
       "    </tr>\n",
       "    <tr>\n",
       "      <th>10</th>\n",
       "      <td>15</td>\n",
       "      <td>5.2</td>\n",
       "      <td>5.2</td>\n",
       "      <td>A</td>\n",
       "      <td>60s</td>\n",
       "      <td>F</td>\n",
       "    </tr>\n",
       "    <tr>\n",
       "      <th>12</th>\n",
       "      <td>5</td>\n",
       "      <td>0</td>\n",
       "      <td>0.001</td>\n",
       "      <td>A</td>\n",
       "      <td>60s</td>\n",
       "      <td>F</td>\n",
       "    </tr>\n",
       "    <tr>\n",
       "      <th>17</th>\n",
       "      <td>5</td>\n",
       "      <td>0</td>\n",
       "      <td>0.003</td>\n",
       "      <td>A</td>\n",
       "      <td>50s</td>\n",
       "      <td>M</td>\n",
       "    </tr>\n",
       "    <tr>\n",
       "      <th>32</th>\n",
       "      <td>1e+02</td>\n",
       "      <td>9.3</td>\n",
       "      <td>10</td>\n",
       "      <td>A</td>\n",
       "      <td>60s</td>\n",
       "      <td>F</td>\n",
       "    </tr>\n",
       "  </tbody>\n",
       "</table>\n",
       "</div>"
      ],
      "text/plain": [
       "    Dose  Response1  Response2 Tmt  Age Gender\n",
       "6      1          0          0   A  50s      F\n",
       "10    15        5.2        5.2   A  60s      F\n",
       "12     5          0      0.001   A  60s      F\n",
       "17     5          0      0.003   A  50s      M\n",
       "32 1e+02        9.3         10   A  60s      F"
      ]
     },
     "execution_count": 44,
     "metadata": {},
     "output_type": "execute_result"
    }
   ],
   "source": [
    "tmt_group.get_group(\"A\").head()"
   ]
  },
  {
   "cell_type": "markdown",
   "metadata": {},
   "source": [
    "计算每个分组中每列的平均值"
   ]
  },
  {
   "cell_type": "code",
   "execution_count": 45,
   "metadata": {
    "collapsed": false
   },
   "outputs": [
    {
     "data": {
      "text/html": [
       "<div>\n",
       "<table border=\"1\" class=\"dataframe\">\n",
       "  <thead>\n",
       "    <tr style=\"text-align: right;\">\n",
       "      <th></th>\n",
       "      <th>Dose</th>\n",
       "      <th>Response1</th>\n",
       "      <th>Response2</th>\n",
       "    </tr>\n",
       "    <tr>\n",
       "      <th>Tmt</th>\n",
       "      <th></th>\n",
       "      <th></th>\n",
       "      <th></th>\n",
       "    </tr>\n",
       "  </thead>\n",
       "  <tbody>\n",
       "    <tr>\n",
       "      <th>A</th>\n",
       "      <td>34</td>\n",
       "      <td>6.7</td>\n",
       "      <td>6.9</td>\n",
       "    </tr>\n",
       "    <tr>\n",
       "      <th>B</th>\n",
       "      <td>34</td>\n",
       "      <td>5.6</td>\n",
       "      <td>5.5</td>\n",
       "    </tr>\n",
       "    <tr>\n",
       "      <th>C</th>\n",
       "      <td>34</td>\n",
       "      <td>4</td>\n",
       "      <td>4.1</td>\n",
       "    </tr>\n",
       "    <tr>\n",
       "      <th>D</th>\n",
       "      <td>34</td>\n",
       "      <td>3.3</td>\n",
       "      <td>3.2</td>\n",
       "    </tr>\n",
       "  </tbody>\n",
       "</table>\n",
       "</div>"
      ],
      "text/plain": [
       "     Dose  Response1  Response2\n",
       "Tmt                            \n",
       "A      34        6.7        6.9\n",
       "B      34        5.6        5.5\n",
       "C      34          4        4.1\n",
       "D      34        3.3        3.2"
      ]
     },
     "execution_count": 45,
     "metadata": {},
     "output_type": "execute_result"
    }
   ],
   "source": [
    "agg_res1 = tmt_group.agg(np.mean) #\n",
    "agg_res1"
   ]
  },
  {
   "cell_type": "markdown",
   "metadata": {},
   "source": [
    "找到每个分组中response1最大的那一行"
   ]
  },
  {
   "cell_type": "code",
   "execution_count": 49,
   "metadata": {
    "collapsed": false
   },
   "outputs": [
    {
     "data": {
      "text/html": [
       "<div>\n",
       "<table border=\"1\" class=\"dataframe\">\n",
       "  <thead>\n",
       "    <tr style=\"text-align: right;\">\n",
       "      <th></th>\n",
       "      <th>Dose</th>\n",
       "      <th>Response1</th>\n",
       "      <th>Response2</th>\n",
       "      <th>Age</th>\n",
       "      <th>Gender</th>\n",
       "    </tr>\n",
       "    <tr>\n",
       "      <th>Tmt</th>\n",
       "      <th></th>\n",
       "      <th></th>\n",
       "      <th></th>\n",
       "      <th></th>\n",
       "      <th></th>\n",
       "    </tr>\n",
       "  </thead>\n",
       "  <tbody>\n",
       "    <tr>\n",
       "      <th>A</th>\n",
       "      <td>80</td>\n",
       "      <td>11</td>\n",
       "      <td>10</td>\n",
       "      <td>60s</td>\n",
       "      <td>F</td>\n",
       "    </tr>\n",
       "    <tr>\n",
       "      <th>B</th>\n",
       "      <td>1e+02</td>\n",
       "      <td>11</td>\n",
       "      <td>10</td>\n",
       "      <td>50s</td>\n",
       "      <td>M</td>\n",
       "    </tr>\n",
       "    <tr>\n",
       "      <th>C</th>\n",
       "      <td>60</td>\n",
       "      <td>10</td>\n",
       "      <td>11</td>\n",
       "      <td>50s</td>\n",
       "      <td>M</td>\n",
       "    </tr>\n",
       "    <tr>\n",
       "      <th>D</th>\n",
       "      <td>80</td>\n",
       "      <td>11</td>\n",
       "      <td>9.9</td>\n",
       "      <td>60s</td>\n",
       "      <td>F</td>\n",
       "    </tr>\n",
       "  </tbody>\n",
       "</table>\n",
       "</div>"
      ],
      "text/plain": [
       "     Dose  Response1  Response2  Age Gender\n",
       "Tmt                                        \n",
       "A      80         11         10  60s      F\n",
       "B   1e+02         11         10  50s      M\n",
       "C      60         10         11  50s      M\n",
       "D      80         11        9.9  60s      F"
      ]
     },
     "execution_count": 49,
     "metadata": {},
     "output_type": "execute_result"
    }
   ],
   "source": [
    "agg_res2 = tmt_group.agg(lambda df:df.loc[df.Response1.idxmax()]) #❷\n",
    "agg_res2"
   ]
  },
  {
   "cell_type": "markdown",
   "metadata": {},
   "source": [
    "#### `transform()`－转换"
   ]
  },
  {
   "cell_type": "code",
   "execution_count": 51,
   "metadata": {
    "collapsed": false
   },
   "outputs": [
    {
     "name": "stdout",
     "output_type": "stream",
     "text": [
      "    transform_res1.head(5)   \n",
      "-----------------------------\n",
      "   Dose  Response1  Response2\n",
      "0    16        5.8        5.9\n",
      "1   -19       -3.3       -3.2\n",
      "2  -8.5       -3.4       -3.3\n",
      "3  -8.5       -2.7       -2.6\n",
      "4   -19         -4       -4.1\n",
      "\n",
      "          transform_res2.head(5)         \n",
      "-----------------------------------------\n",
      "   Dose  Response1  Response2  Age Gender\n",
      "0    50        5.8         10  60s      F\n",
      "1    15       -3.3      0.004  60s      F\n",
      "2    25       -3.4        0.8  50s      M\n",
      "3    25       -2.7        1.6  60s      F\n",
      "4    15         -4       0.02  60s      F\n"
     ]
    }
   ],
   "source": [
    "# 对所有的列减去该列的平均值\n",
    "transform_res1 = tmt_group.transform(lambda s:s - s.mean()) #\n",
    " # 只对某一列减去该列的平均值\n",
    "transform_res2 = tmt_group.transform(\n",
    "    lambda df:df.assign(Response1=df.Response1 - df.Response1.mean())) #\n",
    "%C transform_res1.head(5);; transform_res2.head(5)"
   ]
  },
  {
   "cell_type": "markdown",
   "metadata": {},
   "source": [
    "#### `filter()`－过滤"
   ]
  },
  {
   "cell_type": "code",
   "execution_count": 52,
   "metadata": {
    "collapsed": false
   },
   "outputs": [
    {
     "name": "stdout",
     "output_type": "stream",
     "text": [
      "   Dose  Response1  Response2 Tmt  Age Gender\n",
      "0    50        9.9         10   C  60s      F\n",
      "1    15      0.002      0.004   D  60s      F\n",
      "2    25       0.63        0.8   C  50s      M\n",
      "3    25        1.4        1.6   C  60s      F\n",
      "4    15       0.01       0.02   C  60s      F\n"
     ]
    }
   ],
   "source": [
    "print tmt_group.filter(lambda df:df.Response1.max() < 11).head()\n",
    "# 保留response1的最大值小于11的分组"
   ]
  },
  {
   "cell_type": "markdown",
   "metadata": {},
   "source": [
    "#### `apply()`－运用"
   ]
  },
  {
   "cell_type": "markdown",
   "metadata": {},
   "source": [
    "回调函数的返回形式:\n",
    "\n",
    "* 返回Series对象, 并且Series对象的所有索引都是相同的\n",
    "* 返回Series对象, 但是每个组的索引是不同的, 行索引变为二级形式\n",
    "\n",
    "* 返回DataFrame对象, 并且保持原有的结构 \n",
    "* 返回DataFrame对象, 索引对象改变, 行索引变为二级形式"
   ]
  },
  {
   "cell_type": "markdown",
   "metadata": {},
   "source": [
    "每列的最大值和平均值"
   ]
  },
  {
   "cell_type": "code",
   "execution_count": 54,
   "metadata": {
    "collapsed": false
   },
   "outputs": [
    {
     "name": "stdout",
     "output_type": "stream",
     "text": [
      "       tmt_group.apply(pd.DataFrame.max)       \n",
      "-----------------------------------------------\n",
      "     Dose  Response1  Response2 Tmt  Age Gender\n",
      "Tmt                                            \n",
      "A   1e+02         11         11   A  60s      M\n",
      "B   1e+02         11         10   B  60s      M\n",
      "C   1e+02         10         11   C  60s      M\n",
      "D   1e+02         11        9.9   D  60s      M\n",
      "\n",
      "tmt_group.apply(pd.DataFrame.mean)\n",
      "----------------------------------\n",
      "     Dose  Response1  Response2   \n",
      "Tmt                               \n",
      "A      34        6.7        6.9   \n",
      "B      34        5.6        5.5   \n",
      "C      34          4        4.1   \n",
      "D      34        3.3        3.2   \n"
     ]
    }
   ],
   "source": [
    "%C 4 tmt_group.apply(pd.DataFrame.max);; tmt_group.apply(pd.DataFrame.mean)"
   ]
  },
  {
   "cell_type": "markdown",
   "metadata": {},
   "source": [
    "从每个分组的response1列随机取两个数值"
   ]
  },
  {
   "cell_type": "code",
   "execution_count": 73,
   "metadata": {
    "collapsed": false
   },
   "outputs": [
    {
     "data": {
      "text/html": [
       "<div>\n",
       "<table border=\"1\" class=\"dataframe\">\n",
       "  <thead>\n",
       "    <tr style=\"text-align: right;\">\n",
       "      <th></th>\n",
       "      <th>Dose</th>\n",
       "      <th>Response1</th>\n",
       "      <th>Response2</th>\n",
       "      <th>Tmt</th>\n",
       "      <th>Age</th>\n",
       "      <th>Gender</th>\n",
       "    </tr>\n",
       "  </thead>\n",
       "  <tbody>\n",
       "    <tr>\n",
       "      <th>6</th>\n",
       "      <td>1</td>\n",
       "      <td>0</td>\n",
       "      <td>0</td>\n",
       "      <td>A</td>\n",
       "      <td>50s</td>\n",
       "      <td>F</td>\n",
       "    </tr>\n",
       "    <tr>\n",
       "      <th>10</th>\n",
       "      <td>15</td>\n",
       "      <td>5.2</td>\n",
       "      <td>5.2</td>\n",
       "      <td>A</td>\n",
       "      <td>60s</td>\n",
       "      <td>F</td>\n",
       "    </tr>\n",
       "    <tr>\n",
       "      <th>12</th>\n",
       "      <td>5</td>\n",
       "      <td>0</td>\n",
       "      <td>0.001</td>\n",
       "      <td>A</td>\n",
       "      <td>60s</td>\n",
       "      <td>F</td>\n",
       "    </tr>\n",
       "    <tr>\n",
       "      <th>17</th>\n",
       "      <td>5</td>\n",
       "      <td>0</td>\n",
       "      <td>0.003</td>\n",
       "      <td>A</td>\n",
       "      <td>50s</td>\n",
       "      <td>M</td>\n",
       "    </tr>\n",
       "    <tr>\n",
       "      <th>32</th>\n",
       "      <td>1e+02</td>\n",
       "      <td>9.3</td>\n",
       "      <td>10</td>\n",
       "      <td>A</td>\n",
       "      <td>60s</td>\n",
       "      <td>F</td>\n",
       "    </tr>\n",
       "  </tbody>\n",
       "</table>\n",
       "</div>"
      ],
      "text/plain": [
       "    Dose  Response1  Response2 Tmt  Age Gender\n",
       "6      1          0          0   A  50s      F\n",
       "10    15        5.2        5.2   A  60s      F\n",
       "12     5          0      0.001   A  60s      F\n",
       "17     5          0      0.003   A  50s      M\n",
       "32 1e+02        9.3         10   A  60s      F"
      ]
     },
     "execution_count": 73,
     "metadata": {},
     "output_type": "execute_result"
    }
   ],
   "source": [
    "tmt_group.get_group(\"A\").head()"
   ]
  },
  {
   "cell_type": "code",
   "execution_count": 62,
   "metadata": {
    "collapsed": false
   },
   "outputs": [
    {
     "name": "stdout",
     "output_type": "stream",
     "text": [
      "          sample_res1          \n",
      "-------------------------------\n",
      "Tmt                            \n",
      "A    60    0.001               \n",
      "     194      10               \n",
      "B    57       10               \n",
      "     89      4.2               \n",
      "C    243       0               \n",
      "     72      9.6               \n",
      "D    5     0.007               \n",
      "     219       0               \n",
      "Name: Response1, dtype: float64\n",
      "\n",
      "    sample_res2     \n",
      "--------------------\n",
      "Response1    0     1\n",
      "Tmt                 \n",
      "A           10   9.8\n",
      "B           11  0.35\n",
      "C            1   2.9\n",
      "D          9.5 0.004\n"
     ]
    }
   ],
   "source": [
    "np.random.seed(42)\n",
    "#多级标签的series对象, 有源数据的行标\n",
    "sample_res1 = tmt_group.apply(lambda df:df.Response1.sample(2)) \n",
    "# 删除源数据的行标签,所有结果的行标签全都相同 \n",
    "sample_res2 = tmt_group.apply(\n",
    "    lambda df:df.Response1.sample(2).reset_index(drop=True)) #\n",
    "%C 4 sample_res1;; sample_res2"
   ]
  },
  {
   "cell_type": "code",
   "execution_count": 74,
   "metadata": {
    "collapsed": false
   },
   "outputs": [
    {
     "name": "stdout",
     "output_type": "stream",
     "text": [
      "   apply_res1.head()   \n",
      "-----------------------\n",
      "   Response1  Response2\n",
      "0        5.8        5.9\n",
      "1       -3.3       -3.2\n",
      "2       -3.4       -3.3\n",
      "3       -2.7       -2.6\n",
      "4         -4       -4.1\n",
      "\n",
      "     apply_res2.head()      \n",
      "----------------------------\n",
      "        Response1  Response2\n",
      "Tmt                         \n",
      "A   6        -6.7       -6.9\n",
      "    10       -1.5       -1.7\n",
      "    12       -6.7       -6.9\n",
      "    17       -6.7       -6.9\n",
      "    32        2.6        3.2\n"
     ]
    }
   ],
   "source": [
    "group = tmt_group[[\"Response1\", \"Response2\"]]\n",
    "apply_res1 = group.apply(lambda df:df - df.mean())\n",
    "apply_res2 = group.apply( lambda df:(df - df.mean())[:] )\n",
    "\n",
    "%C 4 apply_res1.head();; apply_res2.head()"
   ]
  },
  {
   "cell_type": "code",
   "execution_count": 69,
   "metadata": {
    "collapsed": false
   },
   "outputs": [
    {
     "name": "stdout",
     "output_type": "stream",
     "text": [
      "         Dose  Response1  Response2 Tmt  Age Gender\n",
      "Tmt                                                \n",
      "A   17      5          0      0.003   A  50s      M\n",
      "    234    10       0.47       0.69   A  50s      F\n",
      "B   88  1e+02        9.7         10   B  60s      F\n",
      "    110    30        9.9        8.2   B  40s      F\n"
     ]
    }
   ],
   "source": [
    "# Response1的均值大于5的分组中随机取两行数据\n",
    "print tmt_group.apply(lambda df:None if df.Response1.mean() < 5 else df.sample(2))"
   ]
  },
  {
   "cell_type": "markdown",
   "metadata": {},
   "source": [
    "GroupBy自动将一些常用的DataFrame方法用apply()包装, 通过GroupBy对象调用这些方法就相当于将这些方法作为回调函数传递给apply()"
   ]
  },
  {
   "cell_type": "code",
   "execution_count": 72,
   "metadata": {
    "collapsed": false
   },
   "outputs": [
    {
     "name": "stdout",
     "output_type": "stream",
     "text": [
      "        tmt_group.mean()       \n",
      "-------------------------------\n",
      "     Dose  Response1  Response2\n",
      "Tmt                            \n",
      "A      34        6.7        6.9\n",
      "B      34        5.6        5.5\n",
      "C      34          4        4.1\n",
      "D      34        3.3        3.2\n",
      "\n",
      "   tmt_group.quantile(q=0.75)  \n",
      "-------------------------------\n",
      "     Dose  Response1  Response2\n",
      "Tmt                            \n",
      "A      50         10         10\n",
      "B      50        9.8         10\n",
      "C      50        9.6        9.6\n",
      "D      50        8.9        8.4\n"
     ]
    }
   ],
   "source": [
    "%C 4 tmt_group.mean();; tmt_group.quantile(q=0.75)"
   ]
  }
 ],
 "metadata": {
  "kernelspec": {
   "display_name": "Python 2",
   "language": "python",
   "name": "python2"
  },
  "language_info": {
   "codemirror_mode": {
    "name": "ipython",
    "version": 2
   },
   "file_extension": ".py",
   "mimetype": "text/x-python",
   "name": "python",
   "nbconvert_exporter": "python",
   "pygments_lexer": "ipython2",
   "version": "2.7.9"
  }
 },
 "nbformat": 4,
 "nbformat_minor": 0
}

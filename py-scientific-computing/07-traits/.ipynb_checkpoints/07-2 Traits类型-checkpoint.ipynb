{
 "cells": [
  {
   "cell_type": "code",
   "execution_count": 1,
   "metadata": {
    "group_control": {
     "group": 0
    }
   },
   "outputs": [],
   "source": [
    "import sip\n",
    "sip.setapi('QString', 2)\n",
    "sip.setapi('QVariant', 2)\n",
    "%gui qt"
   ]
  },
  {
   "cell_type": "markdown",
   "metadata": {},
   "source": [
    "## Trait类型"
   ]
  },
  {
   "cell_type": "markdown",
   "metadata": {},
   "source": [
    "### 预定义的Trait类型"
   ]
  },
  {
   "cell_type": "code",
   "execution_count": 2,
   "metadata": {
    "group_control": {
     "group": 0
    }
   },
   "outputs": [],
   "source": [
    "from traits.api import HasTraits, CFloat, Float, TraitError\n",
    "\n",
    "class Person(HasTraits):\n",
    "    cweight = CFloat(50.0)\n",
    "    weight = Float(50.0)"
   ]
  },
  {
   "cell_type": "code",
   "execution_count": 5,
   "metadata": {
    "group_control": {
     "group": 0
    }
   },
   "outputs": [
    {
     "name": "stdout",
     "output_type": "stream",
     "text": [
      " 1: 90.000,    \n",
      " 1: The 'weight' trait of a Person instance must be a float, but a value of '90' <class 'str'> was specified.,    \n"
     ]
    }
   ],
   "source": [
    "p = Person()\n",
    "p.cweight = \"90\"\n",
    "%P p.cweight\n",
    "try:\n",
    "    p.weight = \"90\"\n",
    "except TraitError as ex:\n",
    "    %P ex"
   ]
  },
  {
   "cell_type": "code",
   "execution_count": 6,
   "metadata": {
    "group_control": {
     "group": 0
    }
   },
   "outputs": [],
   "source": [
    "from traits.api import Enum, List\n",
    "\n",
    "class Items(HasTraits):\n",
    "    count = Enum(None, 0, 1, 2, 3, \"many\")\n",
    "    # 或者：\n",
    "    # count = Enum([None, 0, 1, 2, 3, \"many\"])    "
   ]
  },
  {
   "cell_type": "code",
   "execution_count": 7,
   "metadata": {
    "group_control": {
     "group": 0
    }
   },
   "outputs": [
    {
     "name": "stdout",
     "output_type": "stream",
     "text": [
      " 1: The 'count' trait of an Items instance must be None or 0 or 1 or 2 or 3 or 'many', but a value of 5 <class 'int'> was specified.,    \n"
     ]
    }
   ],
   "source": [
    "item = Items()\n",
    "item.count = 2\n",
    "item.count = \"many\"\n",
    "try:\n",
    "    item.count = 5\n",
    "except TraitError as ex:\n",
    "    %P ex"
   ]
  },
  {
   "cell_type": "code",
   "execution_count": 6,
   "metadata": {
    "group_control": {
     "group": 0
    }
   },
   "outputs": [],
   "source": [
    "class Items(HasTraits):\n",
    "    count_list = List([None, 0, 1, 2, 3, \"many\"])\n",
    "    count = Enum(values=\"count_list\")"
   ]
  },
  {
   "cell_type": "code",
   "execution_count": 9,
   "metadata": {
    "group_control": {
     "group": 0
    }
   },
   "outputs": [
    {
     "name": "stdout",
     "output_type": "stream",
     "text": [
      " 1: The 'count' trait of an Items instance must be None or 0 or 1 or 2 or 3 or 'many', but a value of 5 <class 'int'> was specified.,    \n"
     ]
    },
    {
     "ename": "AttributeError",
     "evalue": "'Items' object has no attribute 'count_list'",
     "output_type": "error",
     "traceback": [
      "\u001b[1;31m---------------------------------------------------------------------------\u001b[0m",
      "\u001b[1;31mAttributeError\u001b[0m                            Traceback (most recent call last)",
      "\u001b[1;32m<ipython-input-9-f6dafc4ac41f>\u001b[0m in \u001b[0;36m<module>\u001b[1;34m()\u001b[0m\n\u001b[0;32m      6\u001b[0m     \u001b[0mget_ipython\u001b[0m\u001b[1;33m(\u001b[0m\u001b[1;33m)\u001b[0m\u001b[1;33m.\u001b[0m\u001b[0mrun_line_magic\u001b[0m\u001b[1;33m(\u001b[0m\u001b[1;34m'P'\u001b[0m\u001b[1;33m,\u001b[0m \u001b[1;34m'ex'\u001b[0m\u001b[1;33m)\u001b[0m\u001b[1;33m\u001b[0m\u001b[0m\n\u001b[0;32m      7\u001b[0m \u001b[1;33m\u001b[0m\u001b[0m\n\u001b[1;32m----> 8\u001b[1;33m \u001b[0mitem\u001b[0m\u001b[1;33m.\u001b[0m\u001b[0mcount_list\u001b[0m\u001b[1;33m.\u001b[0m\u001b[0mappend\u001b[0m\u001b[1;33m(\u001b[0m\u001b[1;36m5\u001b[0m\u001b[1;33m)\u001b[0m\u001b[1;33m\u001b[0m\u001b[0m\n\u001b[0m\u001b[0;32m      9\u001b[0m \u001b[0mitem\u001b[0m\u001b[1;33m.\u001b[0m\u001b[0mcount\u001b[0m \u001b[1;33m=\u001b[0m \u001b[1;36m5\u001b[0m       \u001b[1;31m#由于候选值列表中有5，因此赋值成功\u001b[0m\u001b[1;33m\u001b[0m\u001b[0m\n\u001b[0;32m     10\u001b[0m \u001b[0mitem\u001b[0m\u001b[1;33m.\u001b[0m\u001b[0mcount\u001b[0m\u001b[1;33m\u001b[0m\u001b[0m\n",
      "\u001b[1;31mAttributeError\u001b[0m: 'Items' object has no attribute 'count_list'"
     ]
    }
   ],
   "source": [
    "item = Items()\n",
    "\n",
    "try:\n",
    "    item.count = 5    #由于候选值列表中没有5，因此赋值失败\n",
    "except TraitError as ex:\n",
    "    %P ex\n",
    "    \n",
    "item.count_list.append(5)\n",
    "item.count = 5       #由于候选值列表中有5，因此赋值成功\n",
    "item.count"
   ]
  },
  {
   "cell_type": "markdown",
   "metadata": {},
   "source": [
    "### Property属性"
   ]
  },
  {
   "cell_type": "code",
   "execution_count": 12,
   "metadata": {
    "group_control": {
     "group": 0
    }
   },
   "outputs": [],
   "source": [
    "from traits.api import HasTraits, Float, Property, cached_property\n",
    "\n",
    "class Rectangle(HasTraits):\n",
    "    width = Float(1.0) \n",
    "    height = Float(2.0)\n",
    "\n",
    "    #area是一个属性，当width,height的值变化时，它对应的_get_area函数将被调用\n",
    "    area = Property(depends_on=['width', 'height'])  #❶\n",
    "\n",
    "    # 通过cached_property修饰器缓存_get_area()的输出\n",
    "    @cached_property     #❷\n",
    "    def _get_area(self): #❸\n",
    "        \"area的get函数，注意此函数名和对应的Proerty名的关系\"\n",
    "        %P 'recalculating'\n",
    "        return self.width * self.height"
   ]
  },
  {
   "cell_type": "code",
   "execution_count": 13,
   "metadata": {
    "group_control": {
     "group": 0
    }
   },
   "outputs": [
    {
     "name": "stdout",
     "output_type": "stream",
     "text": [
      " 1: recalculating,    \n",
      " 1: 2.000,    \n",
      " 1: recalculating,    \n",
      " 1: 20.000,    \n",
      " 1: 20.000,    \n"
     ]
    }
   ],
   "source": [
    "r = Rectangle()\n",
    "%P r.area  # 第一次取得area，需要进行运算\n",
    "r.width = 10\n",
    "%P r.area # 修改width之后，取得area，需要进行计算\n",
    "%P r.area # width和height都没有发生变化，因此直接返回缓存值，没有重新计算"
   ]
  },
  {
   "cell_type": "code",
   "execution_count": 14,
   "metadata": {
    "group_control": {
     "group": 0
    }
   },
   "outputs": [],
   "source": [
    "#%hide\n",
    "r.edit_traits()\n",
    "r.edit_traits();"
   ]
  },
  {
   "cell_type": "code",
   "execution_count": 15,
   "metadata": {
    "group_control": {
     "group": 0
    }
   },
   "outputs": [
    {
     "data": {
      "text/plain": [
       "[<traits.trait_notifiers.FastUITraitChangeNotifyWrapper at 0x1622bac4048>,\n",
       " <traits.trait_notifiers.FastUITraitChangeNotifyWrapper at 0x1622e1f0ac8>]"
      ]
     },
     "execution_count": 15,
     "metadata": {},
     "output_type": "execute_result"
    }
   ],
   "source": [
    "t = r.trait(\"area\") #获得与area属性对应的CTrait对象\n",
    "t._notifiers(True) # _notifiers方法返回所有的通知对象，当aera属性改变时，这里对象将被通知"
   ]
  },
  {
   "cell_type": "markdown",
   "metadata": {},
   "source": [
    "### Trait属性监听"
   ]
  },
  {
   "cell_type": "code",
   "execution_count": 17,
   "metadata": {
    "group_control": {
     "group": 0
    }
   },
   "outputs": [
    {
     "name": "stderr",
     "output_type": "stream",
     "text": [
      "Exception occurred in traits notification handler for object: HaiYue<1622e1ed570>, trait: name, old value: , new value: HaiYue\n",
      "Traceback (most recent call last):\n",
      "  File \"C:\\Users\\tfliu\\Anaconda3\\lib\\site-packages\\ibr\\brmagic.py\", line 165, in _P\n",
      "    \"{:2d}: {:.3f}\".format(count, sh.ev(i)), end=\",\" + \" \" * 4\n",
      "  File \"C:\\Users\\tfliu\\Anaconda3\\lib\\site-packages\\IPython\\core\\interactiveshell.py\", line 2479, in ev\n",
      "    return eval(expr, self.user_global_ns, self.user_ns)\n",
      "  File \"<string>\", line 1, in <module>\n",
      "NameError: name 'self' is not defined\n",
      "\n",
      "During handling of the above exception, another exception occurred:\n",
      "\n",
      "Traceback (most recent call last):\n",
      "  File \"C:\\Users\\tfliu\\Anaconda3\\lib\\site-packages\\traits\\trait_notifiers.py\", line 359, in __call__\n",
      "    self.handler( *args )\n",
      "  File \"<ipython-input-17-cfb63b2da278>\", line 16, in _anytrait_changed\n",
      "    get_ipython().run_line_magic('P', '\"anytrait changed: %s.%s from %s to %s\" % (self, name, old, new)')\n",
      "  File \"C:\\Users\\tfliu\\Anaconda3\\lib\\site-packages\\IPython\\core\\interactiveshell.py\", line 2131, in run_line_magic\n",
      "    result = fn(*args,**kwargs)\n",
      "  File \"<decorator-gen-161>\", line 2, in _P\n",
      "  File \"C:\\Users\\tfliu\\Anaconda3\\lib\\site-packages\\IPython\\core\\magic.py\", line 187, in <lambda>\n",
      "    call = lambda f, *a, **k: f(*a, **k)\n",
      "  File \"C:\\Users\\tfliu\\Anaconda3\\lib\\site-packages\\ibr\\brmagic.py\", line 168, in _P\n",
      "    print(\"{:2d}: {}\".format(count, sh.ev(i)), end=\",\" + \" \" * 4)\n",
      "  File \"C:\\Users\\tfliu\\Anaconda3\\lib\\site-packages\\IPython\\core\\interactiveshell.py\", line 2479, in ev\n",
      "    return eval(expr, self.user_global_ns, self.user_ns)\n",
      "  File \"<string>\", line 1, in <module>\n",
      "NameError: name 'self' is not defined\n",
      "Exception occurred in traits notification handler for object: HaiYue<1622e1ed570>, trait: age, old value: 0, new value: 9\n",
      "Traceback (most recent call last):\n",
      "  File \"C:\\Users\\tfliu\\Anaconda3\\lib\\site-packages\\ibr\\brmagic.py\", line 165, in _P\n",
      "    \"{:2d}: {:.3f}\".format(count, sh.ev(i)), end=\",\" + \" \" * 4\n",
      "  File \"C:\\Users\\tfliu\\Anaconda3\\lib\\site-packages\\IPython\\core\\interactiveshell.py\", line 2479, in ev\n",
      "    return eval(expr, self.user_global_ns, self.user_ns)\n",
      "  File \"<string>\", line 1, in <module>\n",
      "NameError: name 'self' is not defined\n",
      "\n",
      "During handling of the above exception, another exception occurred:\n",
      "\n",
      "Traceback (most recent call last):\n",
      "  File \"C:\\Users\\tfliu\\Anaconda3\\lib\\site-packages\\traits\\trait_notifiers.py\", line 359, in __call__\n",
      "    self.handler( *args )\n",
      "  File \"<ipython-input-17-cfb63b2da278>\", line 16, in _anytrait_changed\n",
      "    get_ipython().run_line_magic('P', '\"anytrait changed: %s.%s from %s to %s\" % (self, name, old, new)')\n",
      "  File \"C:\\Users\\tfliu\\Anaconda3\\lib\\site-packages\\IPython\\core\\interactiveshell.py\", line 2131, in run_line_magic\n",
      "    result = fn(*args,**kwargs)\n",
      "  File \"<decorator-gen-161>\", line 2, in _P\n",
      "  File \"C:\\Users\\tfliu\\Anaconda3\\lib\\site-packages\\IPython\\core\\magic.py\", line 187, in <lambda>\n",
      "    call = lambda f, *a, **k: f(*a, **k)\n",
      "  File \"C:\\Users\\tfliu\\Anaconda3\\lib\\site-packages\\ibr\\brmagic.py\", line 168, in _P\n",
      "    print(\"{:2d}: {}\".format(count, sh.ev(i)), end=\",\" + \" \" * 4)\n",
      "  File \"C:\\Users\\tfliu\\Anaconda3\\lib\\site-packages\\IPython\\core\\interactiveshell.py\", line 2479, in ev\n",
      "    return eval(expr, self.user_global_ns, self.user_ns)\n",
      "  File \"<string>\", line 1, in <module>\n",
      "NameError: name 'self' is not defined\n",
      "Exception occurred in traits notification handler for object: HaiYue<1622e1ed570>, trait: age, old value: 0, new value: 9\n",
      "Traceback (most recent call last):\n",
      "  File \"C:\\Users\\tfliu\\Anaconda3\\lib\\site-packages\\ibr\\brmagic.py\", line 165, in _P\n",
      "    \"{:2d}: {:.3f}\".format(count, sh.ev(i)), end=\",\" + \" \" * 4\n",
      "  File \"C:\\Users\\tfliu\\Anaconda3\\lib\\site-packages\\IPython\\core\\interactiveshell.py\", line 2479, in ev\n",
      "    return eval(expr, self.user_global_ns, self.user_ns)\n",
      "  File \"<string>\", line 1, in <module>\n",
      "NameError: name 'self' is not defined\n",
      "\n",
      "During handling of the above exception, another exception occurred:\n",
      "\n",
      "Traceback (most recent call last):\n",
      "  File \"C:\\Users\\tfliu\\Anaconda3\\lib\\site-packages\\traits\\trait_notifiers.py\", line 359, in __call__\n",
      "    self.handler( *args )\n",
      "  File \"<ipython-input-17-cfb63b2da278>\", line 13, in _age_changed\n",
      "    get_ipython().run_line_magic('P', '\"%s.age changed: form %s to %s\" % (self, old, new)')\n",
      "  File \"C:\\Users\\tfliu\\Anaconda3\\lib\\site-packages\\IPython\\core\\interactiveshell.py\", line 2131, in run_line_magic\n",
      "    result = fn(*args,**kwargs)\n",
      "  File \"<decorator-gen-161>\", line 2, in _P\n",
      "  File \"C:\\Users\\tfliu\\Anaconda3\\lib\\site-packages\\IPython\\core\\magic.py\", line 187, in <lambda>\n",
      "    call = lambda f, *a, **k: f(*a, **k)\n",
      "  File \"C:\\Users\\tfliu\\Anaconda3\\lib\\site-packages\\ibr\\brmagic.py\", line 168, in _P\n",
      "    print(\"{:2d}: {}\".format(count, sh.ev(i)), end=\",\" + \" \" * 4)\n",
      "  File \"C:\\Users\\tfliu\\Anaconda3\\lib\\site-packages\\IPython\\core\\interactiveshell.py\", line 2479, in ev\n",
      "    return eval(expr, self.user_global_ns, self.user_ns)\n",
      "  File \"<string>\", line 1, in <module>\n",
      "NameError: name 'self' is not defined\n",
      "Exception occurred in traits notification handler for object: KaiWen<1622e1ed678>, trait: name, old value: , new value: KaiWen\n",
      "Traceback (most recent call last):\n",
      "  File \"C:\\Users\\tfliu\\Anaconda3\\lib\\site-packages\\ibr\\brmagic.py\", line 165, in _P\n",
      "    \"{:2d}: {:.3f}\".format(count, sh.ev(i)), end=\",\" + \" \" * 4\n",
      "  File \"C:\\Users\\tfliu\\Anaconda3\\lib\\site-packages\\IPython\\core\\interactiveshell.py\", line 2479, in ev\n",
      "    return eval(expr, self.user_global_ns, self.user_ns)\n",
      "  File \"<string>\", line 1, in <module>\n",
      "NameError: name 'self' is not defined\n",
      "\n",
      "During handling of the above exception, another exception occurred:\n",
      "\n",
      "Traceback (most recent call last):\n",
      "  File \"C:\\Users\\tfliu\\Anaconda3\\lib\\site-packages\\traits\\trait_notifiers.py\", line 359, in __call__\n",
      "    self.handler( *args )\n",
      "  File \"<ipython-input-17-cfb63b2da278>\", line 16, in _anytrait_changed\n",
      "    get_ipython().run_line_magic('P', '\"anytrait changed: %s.%s from %s to %s\" % (self, name, old, new)')\n",
      "  File \"C:\\Users\\tfliu\\Anaconda3\\lib\\site-packages\\IPython\\core\\interactiveshell.py\", line 2131, in run_line_magic\n",
      "    result = fn(*args,**kwargs)\n",
      "  File \"<decorator-gen-161>\", line 2, in _P\n",
      "  File \"C:\\Users\\tfliu\\Anaconda3\\lib\\site-packages\\IPython\\core\\magic.py\", line 187, in <lambda>\n",
      "    call = lambda f, *a, **k: f(*a, **k)\n",
      "  File \"C:\\Users\\tfliu\\Anaconda3\\lib\\site-packages\\ibr\\brmagic.py\", line 168, in _P\n",
      "    print(\"{:2d}: {}\".format(count, sh.ev(i)), end=\",\" + \" \" * 4)\n",
      "  File \"C:\\Users\\tfliu\\Anaconda3\\lib\\site-packages\\IPython\\core\\interactiveshell.py\", line 2479, in ev\n",
      "    return eval(expr, self.user_global_ns, self.user_ns)\n",
      "  File \"<string>\", line 1, in <module>\n",
      "NameError: name 'self' is not defined\n",
      "Exception occurred in traits notification handler for object: KaiWen<1622e1ed678>, trait: age, old value: 0, new value: 2\n",
      "Traceback (most recent call last):\n",
      "  File \"C:\\Users\\tfliu\\Anaconda3\\lib\\site-packages\\ibr\\brmagic.py\", line 165, in _P\n",
      "    \"{:2d}: {:.3f}\".format(count, sh.ev(i)), end=\",\" + \" \" * 4\n",
      "  File \"C:\\Users\\tfliu\\Anaconda3\\lib\\site-packages\\IPython\\core\\interactiveshell.py\", line 2479, in ev\n",
      "    return eval(expr, self.user_global_ns, self.user_ns)\n",
      "  File \"<string>\", line 1, in <module>\n",
      "NameError: name 'self' is not defined\n",
      "\n",
      "During handling of the above exception, another exception occurred:\n",
      "\n",
      "Traceback (most recent call last):\n",
      "  File \"C:\\Users\\tfliu\\Anaconda3\\lib\\site-packages\\traits\\trait_notifiers.py\", line 359, in __call__\n",
      "    self.handler( *args )\n",
      "  File \"<ipython-input-17-cfb63b2da278>\", line 16, in _anytrait_changed\n",
      "    get_ipython().run_line_magic('P', '\"anytrait changed: %s.%s from %s to %s\" % (self, name, old, new)')\n",
      "  File \"C:\\Users\\tfliu\\Anaconda3\\lib\\site-packages\\IPython\\core\\interactiveshell.py\", line 2131, in run_line_magic\n",
      "    result = fn(*args,**kwargs)\n",
      "  File \"<decorator-gen-161>\", line 2, in _P\n",
      "  File \"C:\\Users\\tfliu\\Anaconda3\\lib\\site-packages\\IPython\\core\\magic.py\", line 187, in <lambda>\n",
      "    call = lambda f, *a, **k: f(*a, **k)\n",
      "  File \"C:\\Users\\tfliu\\Anaconda3\\lib\\site-packages\\ibr\\brmagic.py\", line 168, in _P\n",
      "    print(\"{:2d}: {}\".format(count, sh.ev(i)), end=\",\" + \" \" * 4)\n",
      "  File \"C:\\Users\\tfliu\\Anaconda3\\lib\\site-packages\\IPython\\core\\interactiveshell.py\", line 2479, in ev\n",
      "    return eval(expr, self.user_global_ns, self.user_ns)\n",
      "  File \"<string>\", line 1, in <module>\n",
      "NameError: name 'self' is not defined\n"
     ]
    },
    {
     "name": "stderr",
     "output_type": "stream",
     "text": [
      "Exception occurred in traits notification handler for object: KaiWen<1622e1ed678>, trait: age, old value: 0, new value: 2\n",
      "Traceback (most recent call last):\n",
      "  File \"C:\\Users\\tfliu\\Anaconda3\\lib\\site-packages\\ibr\\brmagic.py\", line 165, in _P\n",
      "    \"{:2d}: {:.3f}\".format(count, sh.ev(i)), end=\",\" + \" \" * 4\n",
      "  File \"C:\\Users\\tfliu\\Anaconda3\\lib\\site-packages\\IPython\\core\\interactiveshell.py\", line 2479, in ev\n",
      "    return eval(expr, self.user_global_ns, self.user_ns)\n",
      "  File \"<string>\", line 1, in <module>\n",
      "NameError: name 'self' is not defined\n",
      "\n",
      "During handling of the above exception, another exception occurred:\n",
      "\n",
      "Traceback (most recent call last):\n",
      "  File \"C:\\Users\\tfliu\\Anaconda3\\lib\\site-packages\\traits\\trait_notifiers.py\", line 359, in __call__\n",
      "    self.handler( *args )\n",
      "  File \"<ipython-input-17-cfb63b2da278>\", line 13, in _age_changed\n",
      "    get_ipython().run_line_magic('P', '\"%s.age changed: form %s to %s\" % (self, old, new)')\n",
      "  File \"C:\\Users\\tfliu\\Anaconda3\\lib\\site-packages\\IPython\\core\\interactiveshell.py\", line 2131, in run_line_magic\n",
      "    result = fn(*args,**kwargs)\n",
      "  File \"<decorator-gen-161>\", line 2, in _P\n",
      "  File \"C:\\Users\\tfliu\\Anaconda3\\lib\\site-packages\\IPython\\core\\magic.py\", line 187, in <lambda>\n",
      "    call = lambda f, *a, **k: f(*a, **k)\n",
      "  File \"C:\\Users\\tfliu\\Anaconda3\\lib\\site-packages\\ibr\\brmagic.py\", line 168, in _P\n",
      "    print(\"{:2d}: {}\".format(count, sh.ev(i)), end=\",\" + \" \" * 4)\n",
      "  File \"C:\\Users\\tfliu\\Anaconda3\\lib\\site-packages\\IPython\\core\\interactiveshell.py\", line 2479, in ev\n",
      "    return eval(expr, self.user_global_ns, self.user_ns)\n",
      "  File \"<string>\", line 1, in <module>\n",
      "NameError: name 'self' is not defined\n"
     ]
    }
   ],
   "source": [
    "from traits.api import HasTraits, Str, Int\n",
    "\n",
    "class Child ( HasTraits ):          \n",
    "    name = Str\n",
    "    age = Int \n",
    "    doing = Str\n",
    "\n",
    "    def __str__(self):\n",
    "        return \"%s<%x>\" % (self.name, id(self))\n",
    "\n",
    "    # 当age属性的值被修改时，下面的函数将被运行\n",
    "    def _age_changed ( self, old, new ): #❶\n",
    "        %P \"%s.age changed: form %s to %s\" % (self, old, new)\n",
    "\n",
    "    def _anytrait_changed(self, name, old, new): #❷\n",
    "        %P \"anytrait changed: %s.%s from %s to %s\" % (self, name, old, new)\n",
    "\n",
    "def log_trait_changed(obj, name, old, new): #❸\n",
    "    %P \"log: %s.%s changed from %s to %s\" % (obj, name, old, new)\n",
    "    \n",
    "h = Child(name = \"HaiYue\", age=9)\n",
    "k = Child(name = \"KaiWen\", age=2)\n",
    "h.on_trait_change(log_trait_changed, name=\"doing\") #❹"
   ]
  },
  {
   "cell_type": "code",
   "execution_count": 10,
   "metadata": {
    "group_control": {
     "group": 0
    }
   },
   "outputs": [
    {
     "name": "stdout",
     "output_type": "stream",
     "text": [
      "anytrait changed: HaiYue<8b823f0>.age from 9 to 10\n",
      "HaiYue<8b823f0>.age changed: form 9 to 10\n",
      "anytrait changed: HaiYue<8b823f0>.doing from  to sleeping\n",
      "log: HaiYue<8b823f0>.doing changed from  to sleeping\n",
      "anytrait changed: KaiWen<8b823c0>.doing from  to playing\n"
     ]
    }
   ],
   "source": [
    "h.age = 10\n",
    "h.doing = \"sleeping\"\n",
    "k.doing = \"playing\""
   ]
  },
  {
   "cell_type": "code",
   "execution_count": 18,
   "metadata": {
    "group_control": {
     "group": 0
    }
   },
   "outputs": [],
   "source": [
    "from traits.api import HasTraits, Str, Int, Instance, List, on_trait_change\n",
    "\n",
    "class HasName(HasTraits):\n",
    "    name = Str()\n",
    "    \n",
    "    def __str__(self):\n",
    "        return \"<%s %s>\" % (self.__class__.__name__, self.name)\n",
    "\n",
    "class Inner(HasName):\n",
    "    x = Int\n",
    "    y = Int\n",
    "\n",
    "class Demo(HasName):\n",
    "    x = Int\n",
    "    y = Int\n",
    "    z = Int(monitor=1) # 有元数据属性monitor的Int\n",
    "    inner = Instance(Inner)\n",
    "    alist = List(Int)\n",
    "    test1 = Str()\n",
    "    test2 = Str()\n",
    "    \n",
    "    def _inner_default(self):\n",
    "        return Inner(name=\"inner1\")\n",
    "            \n",
    "    @on_trait_change(\"x,y,inner.[x,y],test+,+monitor,alist[]\")\n",
    "    def event(self, obj, name, old, new):\n",
    "        %P obj, name, old, new"
   ]
  },
  {
   "cell_type": "code",
   "execution_count": 19,
   "metadata": {
    "group_control": {
     "group": 0
    }
   },
   "outputs": [
    {
     "name": "stderr",
     "output_type": "stream",
     "text": [
      "Exception occurred in traits notification handler for object: <Demo demo>, trait: x, old value: 0, new value: 10\n",
      "Traceback (most recent call last):\n",
      "  File \"C:\\Users\\tfliu\\Anaconda3\\lib\\site-packages\\ibr\\brmagic.py\", line 165, in _P\n",
      "    \"{:2d}: {:.3f}\".format(count, sh.ev(i)), end=\",\" + \" \" * 4\n",
      "  File \"C:\\Users\\tfliu\\Anaconda3\\lib\\site-packages\\IPython\\core\\interactiveshell.py\", line 2479, in ev\n",
      "    return eval(expr, self.user_global_ns, self.user_ns)\n",
      "  File \"<string>\", line 1, in <module>\n",
      "NameError: name 'obj' is not defined\n",
      "\n",
      "During handling of the above exception, another exception occurred:\n",
      "\n",
      "Traceback (most recent call last):\n",
      "  File \"C:\\Users\\tfliu\\Anaconda3\\lib\\site-packages\\traits\\trait_notifiers.py\", line 538, in _dispatch_change_event\n",
      "    self.dispatch( handler, *args )\n",
      "  File \"C:\\Users\\tfliu\\Anaconda3\\lib\\site-packages\\traits\\trait_notifiers.py\", line 501, in dispatch\n",
      "    handler( *args )\n",
      "  File \"<ipython-input-18-61c281cb6d8b>\", line 27, in event\n",
      "    get_ipython().run_line_magic('P', 'obj, name, old, new')\n",
      "  File \"C:\\Users\\tfliu\\Anaconda3\\lib\\site-packages\\IPython\\core\\interactiveshell.py\", line 2131, in run_line_magic\n",
      "    result = fn(*args,**kwargs)\n",
      "  File \"<decorator-gen-161>\", line 2, in _P\n",
      "  File \"C:\\Users\\tfliu\\Anaconda3\\lib\\site-packages\\IPython\\core\\magic.py\", line 187, in <lambda>\n",
      "    call = lambda f, *a, **k: f(*a, **k)\n",
      "  File \"C:\\Users\\tfliu\\Anaconda3\\lib\\site-packages\\ibr\\brmagic.py\", line 168, in _P\n",
      "    print(\"{:2d}: {}\".format(count, sh.ev(i)), end=\",\" + \" \" * 4)\n",
      "  File \"C:\\Users\\tfliu\\Anaconda3\\lib\\site-packages\\IPython\\core\\interactiveshell.py\", line 2479, in ev\n",
      "    return eval(expr, self.user_global_ns, self.user_ns)\n",
      "  File \"<string>\", line 1, in <module>\n",
      "NameError: name 'obj' is not defined\n",
      "Exception occurred in traits notification handler for object: <Demo demo>, trait: y, old value: 0, new value: 20\n",
      "Traceback (most recent call last):\n",
      "  File \"C:\\Users\\tfliu\\Anaconda3\\lib\\site-packages\\ibr\\brmagic.py\", line 165, in _P\n",
      "    \"{:2d}: {:.3f}\".format(count, sh.ev(i)), end=\",\" + \" \" * 4\n",
      "  File \"C:\\Users\\tfliu\\Anaconda3\\lib\\site-packages\\IPython\\core\\interactiveshell.py\", line 2479, in ev\n",
      "    return eval(expr, self.user_global_ns, self.user_ns)\n",
      "  File \"<string>\", line 1, in <module>\n",
      "NameError: name 'obj' is not defined\n",
      "\n",
      "During handling of the above exception, another exception occurred:\n",
      "\n",
      "Traceback (most recent call last):\n",
      "  File \"C:\\Users\\tfliu\\Anaconda3\\lib\\site-packages\\traits\\trait_notifiers.py\", line 538, in _dispatch_change_event\n",
      "    self.dispatch( handler, *args )\n",
      "  File \"C:\\Users\\tfliu\\Anaconda3\\lib\\site-packages\\traits\\trait_notifiers.py\", line 501, in dispatch\n",
      "    handler( *args )\n",
      "  File \"<ipython-input-18-61c281cb6d8b>\", line 27, in event\n",
      "    get_ipython().run_line_magic('P', 'obj, name, old, new')\n",
      "  File \"C:\\Users\\tfliu\\Anaconda3\\lib\\site-packages\\IPython\\core\\interactiveshell.py\", line 2131, in run_line_magic\n",
      "    result = fn(*args,**kwargs)\n",
      "  File \"<decorator-gen-161>\", line 2, in _P\n",
      "  File \"C:\\Users\\tfliu\\Anaconda3\\lib\\site-packages\\IPython\\core\\magic.py\", line 187, in <lambda>\n",
      "    call = lambda f, *a, **k: f(*a, **k)\n",
      "  File \"C:\\Users\\tfliu\\Anaconda3\\lib\\site-packages\\ibr\\brmagic.py\", line 168, in _P\n",
      "    print(\"{:2d}: {}\".format(count, sh.ev(i)), end=\",\" + \" \" * 4)\n",
      "  File \"C:\\Users\\tfliu\\Anaconda3\\lib\\site-packages\\IPython\\core\\interactiveshell.py\", line 2479, in ev\n",
      "    return eval(expr, self.user_global_ns, self.user_ns)\n",
      "  File \"<string>\", line 1, in <module>\n",
      "NameError: name 'obj' is not defined\n",
      "Exception occurred in traits notification handler for object: <Inner inner1>, trait: x, old value: 0, new value: 1\n",
      "Traceback (most recent call last):\n",
      "  File \"C:\\Users\\tfliu\\Anaconda3\\lib\\site-packages\\ibr\\brmagic.py\", line 165, in _P\n",
      "    \"{:2d}: {:.3f}\".format(count, sh.ev(i)), end=\",\" + \" \" * 4\n",
      "  File \"C:\\Users\\tfliu\\Anaconda3\\lib\\site-packages\\IPython\\core\\interactiveshell.py\", line 2479, in ev\n",
      "    return eval(expr, self.user_global_ns, self.user_ns)\n",
      "  File \"<string>\", line 1, in <module>\n",
      "NameError: name 'obj' is not defined\n",
      "\n",
      "During handling of the above exception, another exception occurred:\n",
      "\n",
      "Traceback (most recent call last):\n",
      "  File \"C:\\Users\\tfliu\\Anaconda3\\lib\\site-packages\\traits\\trait_notifiers.py\", line 538, in _dispatch_change_event\n",
      "    self.dispatch( handler, *args )\n",
      "  File \"C:\\Users\\tfliu\\Anaconda3\\lib\\site-packages\\traits\\trait_notifiers.py\", line 501, in dispatch\n",
      "    handler( *args )\n",
      "  File \"<ipython-input-18-61c281cb6d8b>\", line 27, in event\n",
      "    get_ipython().run_line_magic('P', 'obj, name, old, new')\n",
      "  File \"C:\\Users\\tfliu\\Anaconda3\\lib\\site-packages\\IPython\\core\\interactiveshell.py\", line 2131, in run_line_magic\n",
      "    result = fn(*args,**kwargs)\n",
      "  File \"<decorator-gen-161>\", line 2, in _P\n",
      "  File \"C:\\Users\\tfliu\\Anaconda3\\lib\\site-packages\\IPython\\core\\magic.py\", line 187, in <lambda>\n",
      "    call = lambda f, *a, **k: f(*a, **k)\n",
      "  File \"C:\\Users\\tfliu\\Anaconda3\\lib\\site-packages\\ibr\\brmagic.py\", line 168, in _P\n",
      "    print(\"{:2d}: {}\".format(count, sh.ev(i)), end=\",\" + \" \" * 4)\n",
      "  File \"C:\\Users\\tfliu\\Anaconda3\\lib\\site-packages\\IPython\\core\\interactiveshell.py\", line 2479, in ev\n",
      "    return eval(expr, self.user_global_ns, self.user_ns)\n",
      "  File \"<string>\", line 1, in <module>\n",
      "NameError: name 'obj' is not defined\n",
      "Exception occurred in traits notification handler for object: <Inner inner1>, trait: y, old value: 0, new value: 2\n",
      "Traceback (most recent call last):\n",
      "  File \"C:\\Users\\tfliu\\Anaconda3\\lib\\site-packages\\ibr\\brmagic.py\", line 165, in _P\n",
      "    \"{:2d}: {:.3f}\".format(count, sh.ev(i)), end=\",\" + \" \" * 4\n",
      "  File \"C:\\Users\\tfliu\\Anaconda3\\lib\\site-packages\\IPython\\core\\interactiveshell.py\", line 2479, in ev\n",
      "    return eval(expr, self.user_global_ns, self.user_ns)\n",
      "  File \"<string>\", line 1, in <module>\n",
      "NameError: name 'obj' is not defined\n",
      "\n",
      "During handling of the above exception, another exception occurred:\n",
      "\n",
      "Traceback (most recent call last):\n",
      "  File \"C:\\Users\\tfliu\\Anaconda3\\lib\\site-packages\\traits\\trait_notifiers.py\", line 538, in _dispatch_change_event\n",
      "    self.dispatch( handler, *args )\n",
      "  File \"C:\\Users\\tfliu\\Anaconda3\\lib\\site-packages\\traits\\trait_notifiers.py\", line 501, in dispatch\n",
      "    handler( *args )\n",
      "  File \"<ipython-input-18-61c281cb6d8b>\", line 27, in event\n",
      "    get_ipython().run_line_magic('P', 'obj, name, old, new')\n",
      "  File \"C:\\Users\\tfliu\\Anaconda3\\lib\\site-packages\\IPython\\core\\interactiveshell.py\", line 2131, in run_line_magic\n",
      "    result = fn(*args,**kwargs)\n",
      "  File \"<decorator-gen-161>\", line 2, in _P\n",
      "  File \"C:\\Users\\tfliu\\Anaconda3\\lib\\site-packages\\IPython\\core\\magic.py\", line 187, in <lambda>\n",
      "    call = lambda f, *a, **k: f(*a, **k)\n",
      "  File \"C:\\Users\\tfliu\\Anaconda3\\lib\\site-packages\\ibr\\brmagic.py\", line 168, in _P\n",
      "    print(\"{:2d}: {}\".format(count, sh.ev(i)), end=\",\" + \" \" * 4)\n",
      "  File \"C:\\Users\\tfliu\\Anaconda3\\lib\\site-packages\\IPython\\core\\interactiveshell.py\", line 2479, in ev\n",
      "    return eval(expr, self.user_global_ns, self.user_ns)\n",
      "  File \"<string>\", line 1, in <module>\n",
      "NameError: name 'obj' is not defined\n",
      "Exception occurred in traits notification handler for object: <Demo demo>, trait: inner, old value: <Inner inner1>, new value: <Inner inner2>\n",
      "Traceback (most recent call last):\n",
      "  File \"C:\\Users\\tfliu\\Anaconda3\\lib\\site-packages\\ibr\\brmagic.py\", line 165, in _P\n",
      "    \"{:2d}: {:.3f}\".format(count, sh.ev(i)), end=\",\" + \" \" * 4\n",
      "  File \"C:\\Users\\tfliu\\Anaconda3\\lib\\site-packages\\IPython\\core\\interactiveshell.py\", line 2479, in ev\n",
      "    return eval(expr, self.user_global_ns, self.user_ns)\n",
      "  File \"<string>\", line 1, in <module>\n",
      "NameError: name 'obj' is not defined\n",
      "\n",
      "During handling of the above exception, another exception occurred:\n",
      "\n",
      "Traceback (most recent call last):\n",
      "  File \"C:\\Users\\tfliu\\Anaconda3\\lib\\site-packages\\traits\\trait_notifiers.py\", line 538, in _dispatch_change_event\n",
      "    self.dispatch( handler, *args )\n",
      "  File \"C:\\Users\\tfliu\\Anaconda3\\lib\\site-packages\\traits\\trait_notifiers.py\", line 501, in dispatch\n",
      "    handler( *args )\n",
      "  File \"<ipython-input-18-61c281cb6d8b>\", line 27, in event\n",
      "    get_ipython().run_line_magic('P', 'obj, name, old, new')\n",
      "  File \"C:\\Users\\tfliu\\Anaconda3\\lib\\site-packages\\IPython\\core\\interactiveshell.py\", line 2131, in run_line_magic\n",
      "    result = fn(*args,**kwargs)\n",
      "  File \"<decorator-gen-161>\", line 2, in _P\n",
      "  File \"C:\\Users\\tfliu\\Anaconda3\\lib\\site-packages\\IPython\\core\\magic.py\", line 187, in <lambda>\n",
      "    call = lambda f, *a, **k: f(*a, **k)\n",
      "  File \"C:\\Users\\tfliu\\Anaconda3\\lib\\site-packages\\ibr\\brmagic.py\", line 168, in _P\n",
      "    print(\"{:2d}: {}\".format(count, sh.ev(i)), end=\",\" + \" \" * 4)\n",
      "  File \"C:\\Users\\tfliu\\Anaconda3\\lib\\site-packages\\IPython\\core\\interactiveshell.py\", line 2479, in ev\n",
      "    return eval(expr, self.user_global_ns, self.user_ns)\n",
      "  File \"<string>\", line 1, in <module>\n",
      "NameError: name 'obj' is not defined\n"
     ]
    },
    {
     "name": "stderr",
     "output_type": "stream",
     "text": [
      "Exception occurred in traits notification handler for object: <Demo demo>, trait: test1, old value: , new value: ok\n",
      "Traceback (most recent call last):\n",
      "  File \"C:\\Users\\tfliu\\Anaconda3\\lib\\site-packages\\ibr\\brmagic.py\", line 165, in _P\n",
      "    \"{:2d}: {:.3f}\".format(count, sh.ev(i)), end=\",\" + \" \" * 4\n",
      "  File \"C:\\Users\\tfliu\\Anaconda3\\lib\\site-packages\\IPython\\core\\interactiveshell.py\", line 2479, in ev\n",
      "    return eval(expr, self.user_global_ns, self.user_ns)\n",
      "  File \"<string>\", line 1, in <module>\n",
      "NameError: name 'obj' is not defined\n",
      "\n",
      "During handling of the above exception, another exception occurred:\n",
      "\n",
      "Traceback (most recent call last):\n",
      "  File \"C:\\Users\\tfliu\\Anaconda3\\lib\\site-packages\\traits\\trait_notifiers.py\", line 538, in _dispatch_change_event\n",
      "    self.dispatch( handler, *args )\n",
      "  File \"C:\\Users\\tfliu\\Anaconda3\\lib\\site-packages\\traits\\trait_notifiers.py\", line 501, in dispatch\n",
      "    handler( *args )\n",
      "  File \"<ipython-input-18-61c281cb6d8b>\", line 27, in event\n",
      "    get_ipython().run_line_magic('P', 'obj, name, old, new')\n",
      "  File \"C:\\Users\\tfliu\\Anaconda3\\lib\\site-packages\\IPython\\core\\interactiveshell.py\", line 2131, in run_line_magic\n",
      "    result = fn(*args,**kwargs)\n",
      "  File \"<decorator-gen-161>\", line 2, in _P\n",
      "  File \"C:\\Users\\tfliu\\Anaconda3\\lib\\site-packages\\IPython\\core\\magic.py\", line 187, in <lambda>\n",
      "    call = lambda f, *a, **k: f(*a, **k)\n",
      "  File \"C:\\Users\\tfliu\\Anaconda3\\lib\\site-packages\\ibr\\brmagic.py\", line 168, in _P\n",
      "    print(\"{:2d}: {}\".format(count, sh.ev(i)), end=\",\" + \" \" * 4)\n",
      "  File \"C:\\Users\\tfliu\\Anaconda3\\lib\\site-packages\\IPython\\core\\interactiveshell.py\", line 2479, in ev\n",
      "    return eval(expr, self.user_global_ns, self.user_ns)\n",
      "  File \"<string>\", line 1, in <module>\n",
      "NameError: name 'obj' is not defined\n",
      "Exception occurred in traits notification handler for object: <Demo demo>, trait: test2, old value: , new value: hello\n",
      "Traceback (most recent call last):\n",
      "  File \"C:\\Users\\tfliu\\Anaconda3\\lib\\site-packages\\ibr\\brmagic.py\", line 165, in _P\n",
      "    \"{:2d}: {:.3f}\".format(count, sh.ev(i)), end=\",\" + \" \" * 4\n",
      "  File \"C:\\Users\\tfliu\\Anaconda3\\lib\\site-packages\\IPython\\core\\interactiveshell.py\", line 2479, in ev\n",
      "    return eval(expr, self.user_global_ns, self.user_ns)\n",
      "  File \"<string>\", line 1, in <module>\n",
      "NameError: name 'obj' is not defined\n",
      "\n",
      "During handling of the above exception, another exception occurred:\n",
      "\n",
      "Traceback (most recent call last):\n",
      "  File \"C:\\Users\\tfliu\\Anaconda3\\lib\\site-packages\\traits\\trait_notifiers.py\", line 538, in _dispatch_change_event\n",
      "    self.dispatch( handler, *args )\n",
      "  File \"C:\\Users\\tfliu\\Anaconda3\\lib\\site-packages\\traits\\trait_notifiers.py\", line 501, in dispatch\n",
      "    handler( *args )\n",
      "  File \"<ipython-input-18-61c281cb6d8b>\", line 27, in event\n",
      "    get_ipython().run_line_magic('P', 'obj, name, old, new')\n",
      "  File \"C:\\Users\\tfliu\\Anaconda3\\lib\\site-packages\\IPython\\core\\interactiveshell.py\", line 2131, in run_line_magic\n",
      "    result = fn(*args,**kwargs)\n",
      "  File \"<decorator-gen-161>\", line 2, in _P\n",
      "  File \"C:\\Users\\tfliu\\Anaconda3\\lib\\site-packages\\IPython\\core\\magic.py\", line 187, in <lambda>\n",
      "    call = lambda f, *a, **k: f(*a, **k)\n",
      "  File \"C:\\Users\\tfliu\\Anaconda3\\lib\\site-packages\\ibr\\brmagic.py\", line 168, in _P\n",
      "    print(\"{:2d}: {}\".format(count, sh.ev(i)), end=\",\" + \" \" * 4)\n",
      "  File \"C:\\Users\\tfliu\\Anaconda3\\lib\\site-packages\\IPython\\core\\interactiveshell.py\", line 2479, in ev\n",
      "    return eval(expr, self.user_global_ns, self.user_ns)\n",
      "  File \"<string>\", line 1, in <module>\n",
      "NameError: name 'obj' is not defined\n",
      "Exception occurred in traits notification handler for object: <Demo demo>, trait: z, old value: 0, new value: 30\n",
      "Traceback (most recent call last):\n",
      "  File \"C:\\Users\\tfliu\\Anaconda3\\lib\\site-packages\\ibr\\brmagic.py\", line 165, in _P\n",
      "    \"{:2d}: {:.3f}\".format(count, sh.ev(i)), end=\",\" + \" \" * 4\n",
      "  File \"C:\\Users\\tfliu\\Anaconda3\\lib\\site-packages\\IPython\\core\\interactiveshell.py\", line 2479, in ev\n",
      "    return eval(expr, self.user_global_ns, self.user_ns)\n",
      "  File \"<string>\", line 1, in <module>\n",
      "NameError: name 'obj' is not defined\n",
      "\n",
      "During handling of the above exception, another exception occurred:\n",
      "\n",
      "Traceback (most recent call last):\n",
      "  File \"C:\\Users\\tfliu\\Anaconda3\\lib\\site-packages\\traits\\trait_notifiers.py\", line 538, in _dispatch_change_event\n",
      "    self.dispatch( handler, *args )\n",
      "  File \"C:\\Users\\tfliu\\Anaconda3\\lib\\site-packages\\traits\\trait_notifiers.py\", line 501, in dispatch\n",
      "    handler( *args )\n",
      "  File \"<ipython-input-18-61c281cb6d8b>\", line 27, in event\n",
      "    get_ipython().run_line_magic('P', 'obj, name, old, new')\n",
      "  File \"C:\\Users\\tfliu\\Anaconda3\\lib\\site-packages\\IPython\\core\\interactiveshell.py\", line 2131, in run_line_magic\n",
      "    result = fn(*args,**kwargs)\n",
      "  File \"<decorator-gen-161>\", line 2, in _P\n",
      "  File \"C:\\Users\\tfliu\\Anaconda3\\lib\\site-packages\\IPython\\core\\magic.py\", line 187, in <lambda>\n",
      "    call = lambda f, *a, **k: f(*a, **k)\n",
      "  File \"C:\\Users\\tfliu\\Anaconda3\\lib\\site-packages\\ibr\\brmagic.py\", line 168, in _P\n",
      "    print(\"{:2d}: {}\".format(count, sh.ev(i)), end=\",\" + \" \" * 4)\n",
      "  File \"C:\\Users\\tfliu\\Anaconda3\\lib\\site-packages\\IPython\\core\\interactiveshell.py\", line 2479, in ev\n",
      "    return eval(expr, self.user_global_ns, self.user_ns)\n",
      "  File \"<string>\", line 1, in <module>\n",
      "NameError: name 'obj' is not defined\n",
      "Exception occurred in traits notification handler for object: <Demo demo>, trait: alist, old value: [], new value: [3]\n",
      "Traceback (most recent call last):\n",
      "  File \"C:\\Users\\tfliu\\Anaconda3\\lib\\site-packages\\ibr\\brmagic.py\", line 165, in _P\n",
      "    \"{:2d}: {:.3f}\".format(count, sh.ev(i)), end=\",\" + \" \" * 4\n",
      "  File \"C:\\Users\\tfliu\\Anaconda3\\lib\\site-packages\\IPython\\core\\interactiveshell.py\", line 2479, in ev\n",
      "    return eval(expr, self.user_global_ns, self.user_ns)\n",
      "  File \"<string>\", line 1, in <module>\n",
      "NameError: name 'obj' is not defined\n",
      "\n",
      "During handling of the above exception, another exception occurred:\n",
      "\n",
      "Traceback (most recent call last):\n",
      "  File \"C:\\Users\\tfliu\\Anaconda3\\lib\\site-packages\\traits\\trait_notifiers.py\", line 538, in _dispatch_change_event\n",
      "    self.dispatch( handler, *args )\n",
      "  File \"C:\\Users\\tfliu\\Anaconda3\\lib\\site-packages\\traits\\trait_notifiers.py\", line 501, in dispatch\n",
      "    handler( *args )\n",
      "  File \"<ipython-input-18-61c281cb6d8b>\", line 27, in event\n",
      "    get_ipython().run_line_magic('P', 'obj, name, old, new')\n",
      "  File \"C:\\Users\\tfliu\\Anaconda3\\lib\\site-packages\\IPython\\core\\interactiveshell.py\", line 2131, in run_line_magic\n",
      "    result = fn(*args,**kwargs)\n",
      "  File \"<decorator-gen-161>\", line 2, in _P\n",
      "  File \"C:\\Users\\tfliu\\Anaconda3\\lib\\site-packages\\IPython\\core\\magic.py\", line 187, in <lambda>\n",
      "    call = lambda f, *a, **k: f(*a, **k)\n",
      "  File \"C:\\Users\\tfliu\\Anaconda3\\lib\\site-packages\\ibr\\brmagic.py\", line 168, in _P\n",
      "    print(\"{:2d}: {}\".format(count, sh.ev(i)), end=\",\" + \" \" * 4)\n",
      "  File \"C:\\Users\\tfliu\\Anaconda3\\lib\\site-packages\\IPython\\core\\interactiveshell.py\", line 2479, in ev\n",
      "    return eval(expr, self.user_global_ns, self.user_ns)\n",
      "  File \"<string>\", line 1, in <module>\n",
      "NameError: name 'obj' is not defined\n",
      "Exception occurred in traits notification handler for object: <Demo demo>, trait: alist_items, old value: [], new value: [4, 5]\n",
      "Traceback (most recent call last):\n",
      "  File \"C:\\Users\\tfliu\\Anaconda3\\lib\\site-packages\\ibr\\brmagic.py\", line 165, in _P\n",
      "    \"{:2d}: {:.3f}\".format(count, sh.ev(i)), end=\",\" + \" \" * 4\n",
      "  File \"C:\\Users\\tfliu\\Anaconda3\\lib\\site-packages\\IPython\\core\\interactiveshell.py\", line 2479, in ev\n",
      "    return eval(expr, self.user_global_ns, self.user_ns)\n",
      "  File \"<string>\", line 1, in <module>\n",
      "NameError: name 'obj' is not defined\n",
      "\n",
      "During handling of the above exception, another exception occurred:\n",
      "\n",
      "Traceback (most recent call last):\n",
      "  File \"C:\\Users\\tfliu\\Anaconda3\\lib\\site-packages\\traits\\trait_notifiers.py\", line 538, in _dispatch_change_event\n",
      "    self.dispatch( handler, *args )\n",
      "  File \"C:\\Users\\tfliu\\Anaconda3\\lib\\site-packages\\traits\\trait_notifiers.py\", line 501, in dispatch\n",
      "    handler( *args )\n",
      "  File \"<ipython-input-18-61c281cb6d8b>\", line 27, in event\n",
      "    get_ipython().run_line_magic('P', 'obj, name, old, new')\n",
      "  File \"C:\\Users\\tfliu\\Anaconda3\\lib\\site-packages\\IPython\\core\\interactiveshell.py\", line 2131, in run_line_magic\n",
      "    result = fn(*args,**kwargs)\n",
      "  File \"<decorator-gen-161>\", line 2, in _P\n",
      "  File \"C:\\Users\\tfliu\\Anaconda3\\lib\\site-packages\\IPython\\core\\magic.py\", line 187, in <lambda>\n",
      "    call = lambda f, *a, **k: f(*a, **k)\n",
      "  File \"C:\\Users\\tfliu\\Anaconda3\\lib\\site-packages\\ibr\\brmagic.py\", line 168, in _P\n",
      "    print(\"{:2d}: {}\".format(count, sh.ev(i)), end=\",\" + \" \" * 4)\n",
      "  File \"C:\\Users\\tfliu\\Anaconda3\\lib\\site-packages\\IPython\\core\\interactiveshell.py\", line 2479, in ev\n",
      "    return eval(expr, self.user_global_ns, self.user_ns)\n",
      "  File \"<string>\", line 1, in <module>\n",
      "NameError: name 'obj' is not defined\n"
     ]
    },
    {
     "name": "stderr",
     "output_type": "stream",
     "text": [
      "Exception occurred in traits notification handler for object: <Demo demo>, trait: alist_items, old value: [5], new value: [10]\n",
      "Traceback (most recent call last):\n",
      "  File \"C:\\Users\\tfliu\\Anaconda3\\lib\\site-packages\\ibr\\brmagic.py\", line 165, in _P\n",
      "    \"{:2d}: {:.3f}\".format(count, sh.ev(i)), end=\",\" + \" \" * 4\n",
      "  File \"C:\\Users\\tfliu\\Anaconda3\\lib\\site-packages\\IPython\\core\\interactiveshell.py\", line 2479, in ev\n",
      "    return eval(expr, self.user_global_ns, self.user_ns)\n",
      "  File \"<string>\", line 1, in <module>\n",
      "NameError: name 'obj' is not defined\n",
      "\n",
      "During handling of the above exception, another exception occurred:\n",
      "\n",
      "Traceback (most recent call last):\n",
      "  File \"C:\\Users\\tfliu\\Anaconda3\\lib\\site-packages\\traits\\trait_notifiers.py\", line 538, in _dispatch_change_event\n",
      "    self.dispatch( handler, *args )\n",
      "  File \"C:\\Users\\tfliu\\Anaconda3\\lib\\site-packages\\traits\\trait_notifiers.py\", line 501, in dispatch\n",
      "    handler( *args )\n",
      "  File \"<ipython-input-18-61c281cb6d8b>\", line 27, in event\n",
      "    get_ipython().run_line_magic('P', 'obj, name, old, new')\n",
      "  File \"C:\\Users\\tfliu\\Anaconda3\\lib\\site-packages\\IPython\\core\\interactiveshell.py\", line 2131, in run_line_magic\n",
      "    result = fn(*args,**kwargs)\n",
      "  File \"<decorator-gen-161>\", line 2, in _P\n",
      "  File \"C:\\Users\\tfliu\\Anaconda3\\lib\\site-packages\\IPython\\core\\magic.py\", line 187, in <lambda>\n",
      "    call = lambda f, *a, **k: f(*a, **k)\n",
      "  File \"C:\\Users\\tfliu\\Anaconda3\\lib\\site-packages\\ibr\\brmagic.py\", line 168, in _P\n",
      "    print(\"{:2d}: {}\".format(count, sh.ev(i)), end=\",\" + \" \" * 4)\n",
      "  File \"C:\\Users\\tfliu\\Anaconda3\\lib\\site-packages\\IPython\\core\\interactiveshell.py\", line 2479, in ev\n",
      "    return eval(expr, self.user_global_ns, self.user_ns)\n",
      "  File \"<string>\", line 1, in <module>\n",
      "NameError: name 'obj' is not defined\n"
     ]
    }
   ],
   "source": [
    "d = Demo(name=\"demo\")\n",
    "d.x = 10 # 与x匹配\n",
    "d.y = 20 # 与y匹配\n",
    "d.inner.x = 1 # 与inner.[x,y]匹配\n",
    "d.inner.y = 2 # 与inner.[x,y]匹配\n",
    "d.inner = Inner(name=\"inner2\") # 与inner.[x,y]匹配\n",
    "d.test1 = \"ok\" #与 test+匹配\n",
    "d.test2 = \"hello\" #与test+匹配\n",
    "d.z = 30  # 与+monitor匹配\n",
    "d.alist = [3] # 与alist[]匹配\n",
    "d.alist.extend([4,5]) #与alist[]匹配\n",
    "d.alist[2] = 10 # 与alist[]匹配"
   ]
  },
  {
   "cell_type": "markdown",
   "metadata": {},
   "source": [
    "### Event和Button属性"
   ]
  },
  {
   "cell_type": "code",
   "execution_count": 20,
   "metadata": {
    "group_control": {
     "group": 0
    }
   },
   "outputs": [],
   "source": [
    "from traits.api import HasTraits, Float, Event, on_trait_change\n",
    "\n",
    "class Point(HasTraits):       #❶\n",
    "    x = Float(0.0)\n",
    "    y = Float(0.0)\n",
    "    updated = Event\n",
    "            \n",
    "    @on_trait_change( \"x,y\" )\n",
    "    def pos_changed(self):    #❷\n",
    "        self.updated = True\n",
    "\n",
    "    def _updated_fired(self): #❸\n",
    "        self.redraw()\n",
    "    \n",
    "    def redraw(self):         #❹\n",
    "        %P \"redraw at %s, %s\" % (self.x, self.y)"
   ]
  },
  {
   "cell_type": "code",
   "execution_count": 21,
   "metadata": {
    "group_control": {
     "group": 0
    }
   },
   "outputs": [
    {
     "name": "stderr",
     "output_type": "stream",
     "text": [
      "Exception occurred in traits notification handler for object: <__main__.Point object at 0x000001622E1ED5C8>, trait: updated, old value: <undefined>, new value: True\n",
      "Traceback (most recent call last):\n",
      "  File \"C:\\Users\\tfliu\\Anaconda3\\lib\\site-packages\\ibr\\brmagic.py\", line 165, in _P\n",
      "    \"{:2d}: {:.3f}\".format(count, sh.ev(i)), end=\",\" + \" \" * 4\n",
      "  File \"C:\\Users\\tfliu\\Anaconda3\\lib\\site-packages\\IPython\\core\\interactiveshell.py\", line 2479, in ev\n",
      "    return eval(expr, self.user_global_ns, self.user_ns)\n",
      "  File \"<string>\", line 1, in <module>\n",
      "NameError: name 'self' is not defined\n",
      "\n",
      "During handling of the above exception, another exception occurred:\n",
      "\n",
      "Traceback (most recent call last):\n",
      "  File \"C:\\Users\\tfliu\\Anaconda3\\lib\\site-packages\\traits\\trait_notifiers.py\", line 359, in __call__\n",
      "    self.handler( *args )\n",
      "  File \"<ipython-input-20-53b786937220>\", line 13, in _updated_fired\n",
      "    self.redraw()\n",
      "  File \"<ipython-input-20-53b786937220>\", line 16, in redraw\n",
      "    get_ipython().run_line_magic('P', '\"redraw at %s, %s\" % (self.x, self.y)')\n",
      "  File \"C:\\Users\\tfliu\\Anaconda3\\lib\\site-packages\\IPython\\core\\interactiveshell.py\", line 2131, in run_line_magic\n",
      "    result = fn(*args,**kwargs)\n",
      "  File \"<decorator-gen-161>\", line 2, in _P\n",
      "  File \"C:\\Users\\tfliu\\Anaconda3\\lib\\site-packages\\IPython\\core\\magic.py\", line 187, in <lambda>\n",
      "    call = lambda f, *a, **k: f(*a, **k)\n",
      "  File \"C:\\Users\\tfliu\\Anaconda3\\lib\\site-packages\\ibr\\brmagic.py\", line 168, in _P\n",
      "    print(\"{:2d}: {}\".format(count, sh.ev(i)), end=\",\" + \" \" * 4)\n",
      "  File \"C:\\Users\\tfliu\\Anaconda3\\lib\\site-packages\\IPython\\core\\interactiveshell.py\", line 2479, in ev\n",
      "    return eval(expr, self.user_global_ns, self.user_ns)\n",
      "  File \"<string>\", line 1, in <module>\n",
      "NameError: name 'self' is not defined\n",
      "Exception occurred in traits notification handler for object: <__main__.Point object at 0x000001622E1ED5C8>, trait: updated, old value: <undefined>, new value: True\n",
      "Traceback (most recent call last):\n",
      "  File \"C:\\Users\\tfliu\\Anaconda3\\lib\\site-packages\\ibr\\brmagic.py\", line 165, in _P\n",
      "    \"{:2d}: {:.3f}\".format(count, sh.ev(i)), end=\",\" + \" \" * 4\n",
      "  File \"C:\\Users\\tfliu\\Anaconda3\\lib\\site-packages\\IPython\\core\\interactiveshell.py\", line 2479, in ev\n",
      "    return eval(expr, self.user_global_ns, self.user_ns)\n",
      "  File \"<string>\", line 1, in <module>\n",
      "NameError: name 'self' is not defined\n",
      "\n",
      "During handling of the above exception, another exception occurred:\n",
      "\n",
      "Traceback (most recent call last):\n",
      "  File \"C:\\Users\\tfliu\\Anaconda3\\lib\\site-packages\\traits\\trait_notifiers.py\", line 359, in __call__\n",
      "    self.handler( *args )\n",
      "  File \"<ipython-input-20-53b786937220>\", line 13, in _updated_fired\n",
      "    self.redraw()\n",
      "  File \"<ipython-input-20-53b786937220>\", line 16, in redraw\n",
      "    get_ipython().run_line_magic('P', '\"redraw at %s, %s\" % (self.x, self.y)')\n",
      "  File \"C:\\Users\\tfliu\\Anaconda3\\lib\\site-packages\\IPython\\core\\interactiveshell.py\", line 2131, in run_line_magic\n",
      "    result = fn(*args,**kwargs)\n",
      "  File \"<decorator-gen-161>\", line 2, in _P\n",
      "  File \"C:\\Users\\tfliu\\Anaconda3\\lib\\site-packages\\IPython\\core\\magic.py\", line 187, in <lambda>\n",
      "    call = lambda f, *a, **k: f(*a, **k)\n",
      "  File \"C:\\Users\\tfliu\\Anaconda3\\lib\\site-packages\\ibr\\brmagic.py\", line 168, in _P\n",
      "    print(\"{:2d}: {}\".format(count, sh.ev(i)), end=\",\" + \" \" * 4)\n",
      "  File \"C:\\Users\\tfliu\\Anaconda3\\lib\\site-packages\\IPython\\core\\interactiveshell.py\", line 2479, in ev\n",
      "    return eval(expr, self.user_global_ns, self.user_ns)\n",
      "  File \"<string>\", line 1, in <module>\n",
      "NameError: name 'self' is not defined\n",
      "Exception occurred in traits notification handler for object: <__main__.Point object at 0x000001622E1ED5C8>, trait: updated, old value: <undefined>, new value: True\n",
      "Traceback (most recent call last):\n",
      "  File \"C:\\Users\\tfliu\\Anaconda3\\lib\\site-packages\\ibr\\brmagic.py\", line 165, in _P\n",
      "    \"{:2d}: {:.3f}\".format(count, sh.ev(i)), end=\",\" + \" \" * 4\n",
      "  File \"C:\\Users\\tfliu\\Anaconda3\\lib\\site-packages\\IPython\\core\\interactiveshell.py\", line 2479, in ev\n",
      "    return eval(expr, self.user_global_ns, self.user_ns)\n",
      "  File \"<string>\", line 1, in <module>\n",
      "NameError: name 'self' is not defined\n",
      "\n",
      "During handling of the above exception, another exception occurred:\n",
      "\n",
      "Traceback (most recent call last):\n",
      "  File \"C:\\Users\\tfliu\\Anaconda3\\lib\\site-packages\\traits\\trait_notifiers.py\", line 359, in __call__\n",
      "    self.handler( *args )\n",
      "  File \"<ipython-input-20-53b786937220>\", line 13, in _updated_fired\n",
      "    self.redraw()\n",
      "  File \"<ipython-input-20-53b786937220>\", line 16, in redraw\n",
      "    get_ipython().run_line_magic('P', '\"redraw at %s, %s\" % (self.x, self.y)')\n",
      "  File \"C:\\Users\\tfliu\\Anaconda3\\lib\\site-packages\\IPython\\core\\interactiveshell.py\", line 2131, in run_line_magic\n",
      "    result = fn(*args,**kwargs)\n",
      "  File \"<decorator-gen-161>\", line 2, in _P\n",
      "  File \"C:\\Users\\tfliu\\Anaconda3\\lib\\site-packages\\IPython\\core\\magic.py\", line 187, in <lambda>\n",
      "    call = lambda f, *a, **k: f(*a, **k)\n",
      "  File \"C:\\Users\\tfliu\\Anaconda3\\lib\\site-packages\\ibr\\brmagic.py\", line 168, in _P\n",
      "    print(\"{:2d}: {}\".format(count, sh.ev(i)), end=\",\" + \" \" * 4)\n",
      "  File \"C:\\Users\\tfliu\\Anaconda3\\lib\\site-packages\\IPython\\core\\interactiveshell.py\", line 2479, in ev\n",
      "    return eval(expr, self.user_global_ns, self.user_ns)\n",
      "  File \"<string>\", line 1, in <module>\n",
      "NameError: name 'self' is not defined\n",
      "Exception occurred in traits notification handler for object: <__main__.Point object at 0x000001622E1ED5C8>, trait: updated, old value: <undefined>, new value: 0\n",
      "Traceback (most recent call last):\n",
      "  File \"C:\\Users\\tfliu\\Anaconda3\\lib\\site-packages\\ibr\\brmagic.py\", line 165, in _P\n",
      "    \"{:2d}: {:.3f}\".format(count, sh.ev(i)), end=\",\" + \" \" * 4\n",
      "  File \"C:\\Users\\tfliu\\Anaconda3\\lib\\site-packages\\IPython\\core\\interactiveshell.py\", line 2479, in ev\n",
      "    return eval(expr, self.user_global_ns, self.user_ns)\n",
      "  File \"<string>\", line 1, in <module>\n",
      "NameError: name 'self' is not defined\n",
      "\n",
      "During handling of the above exception, another exception occurred:\n",
      "\n",
      "Traceback (most recent call last):\n",
      "  File \"C:\\Users\\tfliu\\Anaconda3\\lib\\site-packages\\traits\\trait_notifiers.py\", line 359, in __call__\n",
      "    self.handler( *args )\n",
      "  File \"<ipython-input-20-53b786937220>\", line 13, in _updated_fired\n",
      "    self.redraw()\n",
      "  File \"<ipython-input-20-53b786937220>\", line 16, in redraw\n",
      "    get_ipython().run_line_magic('P', '\"redraw at %s, %s\" % (self.x, self.y)')\n",
      "  File \"C:\\Users\\tfliu\\Anaconda3\\lib\\site-packages\\IPython\\core\\interactiveshell.py\", line 2131, in run_line_magic\n",
      "    result = fn(*args,**kwargs)\n",
      "  File \"<decorator-gen-161>\", line 2, in _P\n",
      "  File \"C:\\Users\\tfliu\\Anaconda3\\lib\\site-packages\\IPython\\core\\magic.py\", line 187, in <lambda>\n",
      "    call = lambda f, *a, **k: f(*a, **k)\n",
      "  File \"C:\\Users\\tfliu\\Anaconda3\\lib\\site-packages\\ibr\\brmagic.py\", line 168, in _P\n",
      "    print(\"{:2d}: {}\".format(count, sh.ev(i)), end=\",\" + \" \" * 4)\n",
      "  File \"C:\\Users\\tfliu\\Anaconda3\\lib\\site-packages\\IPython\\core\\interactiveshell.py\", line 2479, in ev\n",
      "    return eval(expr, self.user_global_ns, self.user_ns)\n",
      "  File \"<string>\", line 1, in <module>\n",
      "NameError: name 'self' is not defined\n"
     ]
    }
   ],
   "source": [
    "p = Point()\n",
    "p.x = 1\n",
    "p.y = 1\n",
    "p.x = 1 # 由于x的值已经为1，因此不触发事件\n",
    "p.updated = True\n",
    "p.updated = 0 # 给updated赋任何值都能触发"
   ]
  },
  {
   "cell_type": "markdown",
   "metadata": {},
   "source": [
    "### 动态添加Trait属性"
   ]
  },
  {
   "cell_type": "code",
   "execution_count": 22,
   "metadata": {
    "group_control": {
     "group": 0
    }
   },
   "outputs": [
    {
     "data": {
      "text/plain": [
       "3.0"
      ]
     },
     "execution_count": 22,
     "metadata": {},
     "output_type": "execute_result"
    }
   ],
   "source": [
    "a = HasTraits()  \n",
    "a.add_trait(\"x\", Float(3.0))\n",
    "a.x"
   ]
  },
  {
   "cell_type": "code",
   "execution_count": 24,
   "metadata": {
    "group_control": {
     "group": 0
    }
   },
   "outputs": [],
   "source": [
    "b = HasTraits()\n",
    "b.add_trait(\"a\", Instance(HasTraits))\n",
    "b.a = a"
   ]
  },
  {
   "cell_type": "code",
   "execution_count": 29,
   "metadata": {
    "group_control": {
     "group": 0
    }
   },
   "outputs": [
    {
     "name": "stdout",
     "output_type": "stream",
     "text": [
      " 1: 3.000,    \n",
      " 1: 3.000,    \n"
     ]
    }
   ],
   "source": [
    "from traits.api import Delegate\n",
    "b.add_trait(\"y\", Delegate(\"a\", \"x\", modify=True))    \n",
    "%P b.y\n",
    "b.y = 10    \n",
    "%P a.x"
   ]
  },
  {
   "cell_type": "code",
   "execution_count": 26,
   "metadata": {
    "group_control": {
     "group": 0
    }
   },
   "outputs": [
    {
     "data": {
      "text/plain": [
       "{'trait_added': <traits.traits.CTrait at 0x16229e52ac8>,\n",
       " 'trait_modified': <traits.traits.CTrait at 0x16229e52cc0>,\n",
       " 'x': <traits.traits.CTrait at 0x16229e59048>,\n",
       " 'y': <traits.traits.CTrait at 0x16229e59048>}"
      ]
     },
     "execution_count": 26,
     "metadata": {},
     "output_type": "execute_result"
    }
   ],
   "source": [
    "class A(HasTraits):\n",
    "    pass\n",
    "\n",
    "a = A()\n",
    "a.x = 3\n",
    "a.y = \"string\"\n",
    "a.traits()"
   ]
  },
  {
   "cell_type": "code",
   "execution_count": 27,
   "metadata": {
    "group_control": {
     "group": 0
    }
   },
   "outputs": [
    {
     "data": {
      "text/plain": [
       "<traits.trait_types.Python at 0x16229e53320>"
      ]
     },
     "execution_count": 27,
     "metadata": {},
     "output_type": "execute_result"
    }
   ],
   "source": [
    " a.trait(\"x\").trait_type"
   ]
  },
  {
   "cell_type": "code",
   "execution_count": null,
   "metadata": {},
   "outputs": [],
   "source": []
  }
 ],
 "metadata": {
  "kernelspec": {
   "display_name": "Python 3",
   "language": "python",
   "name": "python3"
  },
  "language_info": {
   "codemirror_mode": {
    "name": "ipython",
    "version": 3
   },
   "file_extension": ".py",
   "mimetype": "text/x-python",
   "name": "python",
   "nbconvert_exporter": "python",
   "pygments_lexer": "ipython3",
   "version": "3.6.5"
  },
  "toc": {
   "base_numbering": 1,
   "nav_menu": {},
   "number_sections": true,
   "sideBar": true,
   "skip_h1_title": false,
   "title_cell": "Table of Contents",
   "title_sidebar": "Contents",
   "toc_cell": false,
   "toc_position": {},
   "toc_section_display": true,
   "toc_window_display": true
  },
  "varInspector": {
   "cols": {
    "lenName": 16,
    "lenType": 16,
    "lenVar": 40
   },
   "kernels_config": {
    "python": {
     "delete_cmd_postfix": "",
     "delete_cmd_prefix": "del ",
     "library": "var_list.py",
     "varRefreshCmd": "print(var_dic_list())"
    },
    "r": {
     "delete_cmd_postfix": ") ",
     "delete_cmd_prefix": "rm(",
     "library": "var_list.r",
     "varRefreshCmd": "cat(var_dic_list()) "
    }
   },
   "types_to_exclude": [
    "module",
    "function",
    "builtin_function_or_method",
    "instance",
    "_Feature"
   ],
   "window_display": false
  }
 },
 "nbformat": 4,
 "nbformat_minor": 1
}

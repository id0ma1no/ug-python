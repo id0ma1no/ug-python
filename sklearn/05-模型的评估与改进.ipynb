{
 "cells": [
  {
   "cell_type": "markdown",
   "metadata": {
    "toc": true
   },
   "source": [
    "<h1>Table of Contents<span class=\"tocSkip\"></span></h1>\n",
    "<div class=\"toc\"><ul class=\"toc-item\"><li><span><a href=\"#模型评估和改进\" data-toc-modified-id=\"模型评估和改进-5\"><span class=\"toc-item-num\">5&nbsp;&nbsp;</span>模型评估和改进</a></span><ul class=\"toc-item\"><li><span><a href=\"#交叉验证\" data-toc-modified-id=\"交叉验证-5.1\"><span class=\"toc-item-num\">5.1&nbsp;&nbsp;</span>交叉验证</a></span><ul class=\"toc-item\"><li><span><a href=\"#sklearn中的交叉验证\" data-toc-modified-id=\"sklearn中的交叉验证-5.1.1\"><span class=\"toc-item-num\">5.1.1&nbsp;&nbsp;</span>sklearn中的交叉验证</a></span></li><li><span><a href=\"#分层k折交叉验证\" data-toc-modified-id=\"分层k折交叉验证-5.1.2\"><span class=\"toc-item-num\">5.1.2&nbsp;&nbsp;</span>分层k折交叉验证</a></span></li><li><span><a href=\"#交叉验证的其他策略\" data-toc-modified-id=\"交叉验证的其他策略-5.1.3\"><span class=\"toc-item-num\">5.1.3&nbsp;&nbsp;</span>交叉验证的其他策略</a></span><ul class=\"toc-item\"><li><span><a href=\"#KFold()分离器\" data-toc-modified-id=\"KFold()分离器-5.1.3.1\"><span class=\"toc-item-num\">5.1.3.1&nbsp;&nbsp;</span>KFold()分离器</a></span></li><li><span><a href=\"#留一法分离器LeaveOneOut()\" data-toc-modified-id=\"留一法分离器LeaveOneOut()-5.1.3.2\"><span class=\"toc-item-num\">5.1.3.2&nbsp;&nbsp;</span>留一法分离器LeaveOneOut()</a></span></li><li><span><a href=\"#打乱划分交叉验证\" data-toc-modified-id=\"打乱划分交叉验证-5.1.3.3\"><span class=\"toc-item-num\">5.1.3.3&nbsp;&nbsp;</span>打乱划分交叉验证</a></span></li><li><span><a href=\"#分组交叉验证\" data-toc-modified-id=\"分组交叉验证-5.1.3.4\"><span class=\"toc-item-num\">5.1.3.4&nbsp;&nbsp;</span>分组交叉验证</a></span></li><li><span><a href=\"#其他\" data-toc-modified-id=\"其他-5.1.3.5\"><span class=\"toc-item-num\">5.1.3.5&nbsp;&nbsp;</span>其他</a></span></li></ul></li></ul></li><li><span><a href=\"#网格搜索\" data-toc-modified-id=\"网格搜索-5.2\"><span class=\"toc-item-num\">5.2&nbsp;&nbsp;</span>网格搜索</a></span><ul class=\"toc-item\"><li><span><a href=\"#简单网格搜索\" data-toc-modified-id=\"简单网格搜索-5.2.1\"><span class=\"toc-item-num\">5.2.1&nbsp;&nbsp;</span>简单网格搜索</a></span></li><li><span><a href=\"#参数过拟合的风险与验证集\" data-toc-modified-id=\"参数过拟合的风险与验证集-5.2.2\"><span class=\"toc-item-num\">5.2.2&nbsp;&nbsp;</span>参数过拟合的风险与验证集</a></span></li><li><span><a href=\"#带交叉验证的网格搜索\" data-toc-modified-id=\"带交叉验证的网格搜索-5.2.3\"><span class=\"toc-item-num\">5.2.3&nbsp;&nbsp;</span>带交叉验证的网格搜索</a></span></li></ul></li><li><span><a href=\"#评估指标与评分\" data-toc-modified-id=\"评估指标与评分-5.3\"><span class=\"toc-item-num\">5.3&nbsp;&nbsp;</span>评估指标与评分</a></span><ul class=\"toc-item\"><li><span><a href=\"#明确自己的目的是什么\" data-toc-modified-id=\"明确自己的目的是什么-5.3.1\"><span class=\"toc-item-num\">5.3.1&nbsp;&nbsp;</span>明确自己的目的是什么</a></span></li><li><span><a href=\"#二分类指标\" data-toc-modified-id=\"二分类指标-5.3.2\"><span class=\"toc-item-num\">5.3.2&nbsp;&nbsp;</span>二分类指标</a></span><ul class=\"toc-item\"><li><span><a href=\"#错误类型\" data-toc-modified-id=\"错误类型-5.3.2.1\"><span class=\"toc-item-num\">5.3.2.1&nbsp;&nbsp;</span>错误类型</a></span></li><li><span><a href=\"#不平衡数据集\" data-toc-modified-id=\"不平衡数据集-5.3.2.2\"><span class=\"toc-item-num\">5.3.2.2&nbsp;&nbsp;</span>不平衡数据集</a></span></li><li><span><a href=\"#混淆矩阵\" data-toc-modified-id=\"混淆矩阵-5.3.2.3\"><span class=\"toc-item-num\">5.3.2.3&nbsp;&nbsp;</span>混淆矩阵</a></span></li><li><span><a href=\"#考虑不确定性\" data-toc-modified-id=\"考虑不确定性-5.3.2.4\"><span class=\"toc-item-num\">5.3.2.4&nbsp;&nbsp;</span>考虑不确定性</a></span></li><li><span><a href=\"#准确率-召回率曲线\" data-toc-modified-id=\"准确率-召回率曲线-5.3.2.5\"><span class=\"toc-item-num\">5.3.2.5&nbsp;&nbsp;</span>准确率-召回率曲线</a></span></li><li><span><a href=\"#受试者工作特征(ROC)与AUC\" data-toc-modified-id=\"受试者工作特征(ROC)与AUC-5.3.2.6\"><span class=\"toc-item-num\">5.3.2.6&nbsp;&nbsp;</span>受试者工作特征(ROC)与AUC</a></span></li></ul></li><li><span><a href=\"#多分类指标\" data-toc-modified-id=\"多分类指标-5.3.3\"><span class=\"toc-item-num\">5.3.3&nbsp;&nbsp;</span>多分类指标</a></span></li><li><span><a href=\"#回归指标\" data-toc-modified-id=\"回归指标-5.3.4\"><span class=\"toc-item-num\">5.3.4&nbsp;&nbsp;</span>回归指标</a></span></li><li><span><a href=\"#在模型选择中使用评估指标\" data-toc-modified-id=\"在模型选择中使用评估指标-5.3.5\"><span class=\"toc-item-num\">5.3.5&nbsp;&nbsp;</span>在模型选择中使用评估指标</a></span></li></ul></li><li><span><a href=\"#小结与展望\" data-toc-modified-id=\"小结与展望-5.4\"><span class=\"toc-item-num\">5.4&nbsp;&nbsp;</span>小结与展望</a></span></li></ul></li></ul></div>"
   ]
  },
  {
   "cell_type": "code",
   "execution_count": 1,
   "metadata": {},
   "outputs": [
    {
     "data": {
      "text/plain": [
       "'%.2f'"
      ]
     },
     "execution_count": 1,
     "metadata": {},
     "output_type": "execute_result"
    }
   ],
   "source": [
    "import mglearn\n",
    "import sklearn\n",
    "import numpy as np\n",
    "import brtoz.brmagic\n",
    "import matplotlib.pylab as plt\n",
    "%precision 2"
   ]
  },
  {
   "cell_type": "markdown",
   "metadata": {},
   "source": [
    "# 模型评估和改进"
   ]
  },
  {
   "cell_type": "markdown",
   "metadata": {},
   "source": [
    "**交叉验证**:   \n",
    "一种评估模型`泛化性能`的统计学方法, 比单次划分训练集和测试集的方法更加稳定, 全面;  \n",
    "通过多次划分训练集和测试以评价模型对于数据划分方式的敏感程度;   \n",
    "**网格搜索**: 寻找模型`最佳参数`的方法;"
   ]
  },
  {
   "cell_type": "markdown",
   "metadata": {},
   "source": [
    "## 交叉验证"
   ]
  },
  {
   "cell_type": "markdown",
   "metadata": {},
   "source": [
    "**K折交叉验证**:  \n",
    "* 设置折数, `k=5`, 将数据划分成5块;\n",
    "* 分别将第`i`折作为测试集, 其他折作为训练集拟合模型;\n",
    "* 通过`交叉`, 一个数据集有了5种不同的划分方式, 可以得到5个测试集精度;   \n",
    "* 这5个测试精度的信息量大于`单划分单测试精度`的信息量;"
   ]
  },
  {
   "cell_type": "markdown",
   "metadata": {},
   "source": [
    "> 在进行标准K折交叉验证之前, 是随机打乱数据的排列顺序, 还是按类别一致性打乱数据的排列顺序, 还是使用原始的排列顺序??\n",
    "* 标准交叉验证: 不会改变数据的排列顺序; \n",
    "* 分层交叉验证: 按类别一致性, 打乱数据的排列顺序;\n",
    "* KFold分离器: 随机打乱数据的排列方式;"
   ]
  },
  {
   "cell_type": "markdown",
   "metadata": {},
   "source": [
    "标准交叉验证的数据划分方式:"
   ]
  },
  {
   "cell_type": "code",
   "execution_count": 2,
   "metadata": {},
   "outputs": [
    {
     "data": {
      "image/png": "[encoded data removed]",
      "text/plain": [
       "<Figure size 864x144 with 1 Axes>"
      ]
     },
     "metadata": {},
     "output_type": "display_data"
    }
   ],
   "source": [
    "# 按原始顺序将数据划分成5块\n",
    "mglearn.plots.plot_cross_validation()"
   ]
  },
  {
   "cell_type": "markdown",
   "metadata": {},
   "source": [
    "> 如果出现<br>\n",
    "`MatplotlibDeprecationWarning: The *bottom* kwarg to barh is deprecated use *y* instead.`\n",
    "* 将plt.barh()的bottom参数的名字改为y即可;"
   ]
  },
  {
   "cell_type": "markdown",
   "metadata": {},
   "source": [
    "### sklearn中的交叉验证"
   ]
  },
  {
   "cell_type": "markdown",
   "metadata": {},
   "source": [
    "cross_val_score()用于实现`标准交叉验证`和`分层交叉验证`,有3个参数: `待评估的模型`, `数据集`, `标签集` ;  \n",
    "并且可以根据其第一个参数的性质(是分类的还是回归的), 自动选择`标准方式`或者`分层方式`对数据进行验证; "
   ]
  },
  {
   "cell_type": "markdown",
   "metadata": {},
   "source": [
    "下例演示的是`分层交叉验证`, 而不是`标准交叉验证`;"
   ]
  },
  {
   "cell_type": "code",
   "execution_count": 3,
   "metadata": {},
   "outputs": [
    {
     "name": "stdout",
     "output_type": "stream",
     "text": [
      "Cross-validation scores:[0.96 0.92 0.96]\n"
     ]
    }
   ],
   "source": [
    "from sklearn.model_selection import cross_val_score\n",
    "from sklearn.datasets import load_iris\n",
    "from sklearn.linear_model import LogisticRegression\n",
    "\n",
    "iris = load_iris()\n",
    "logreg = LogisticRegression()\n",
    "\n",
    "scores = cross_val_score(logreg, iris.data, iris.target,cv=3)\n",
    "print(\"Cross-validation scores:{}\".format(scores)) "
   ]
  },
  {
   "cell_type": "markdown",
   "metadata": {},
   "source": [
    "\n",
    "> 不管怎样划分数据, 模型最坏的得分也在0.9以上;     \n",
    "* 说明数据划分的方式对模型的影响很小;"
   ]
  },
  {
   "cell_type": "markdown",
   "metadata": {},
   "source": [
    "交叉验证的优点:"
   ]
  },
  {
   "cell_type": "markdown",
   "metadata": {},
   "source": [
    "1. 通过`交叉验证`可以查看`数据划分方式`对`模型精度`的影响程度;\n",
    "1. 也可以看看数据划分比例对模型的影响程度:\n",
    "    * k=2, 1/2用于测试集, 1/2用于训练集;\n",
    "    * k=3, 1/3用于测试集, 2/3用于训练集;\n",
    "    * k=i, 1/i用于测试集, (i-1)/i用于训练集;"
   ]
  },
  {
   "cell_type": "markdown",
   "metadata": {},
   "source": [
    "### 分层k折交叉验证"
   ]
  },
  {
   "cell_type": "markdown",
   "metadata": {},
   "source": [
    "1. K折交叉验证对分类问题的瑕疵:<br>\n",
    "`K折交叉验证`是在`原始数据的排列顺序`上进行数据划分, 如果处理分类问题, 并不能保证`每个类别在测试集和训练集中的比例相同`, 换句话说, 很有可能造成测试集只有某一类别标签的极端划分方式(例如3折交叉验证处理鸢尾花数据集,下图上);\n",
    "\n",
    "\n",
    "2. **分层的K折交叉验证**:   \n",
    "在K折交叉验证的基础上实现`类别比例的一致性`;     \n",
    "每种划分形式中, 使训练集和测试集的类别比例一致;    \n",
    "train_test_splitd()其实就是按比例一致性进行数据划分的;    \n",
    "\n",
    "\n",
    "3. 分类问题与回归问题要使用不同交叉验证策略:<br>\n",
    "对于分类问题, 默认情况下, 模型只能使用分层的K折交叉验证;  \n",
    "而对于回归问题, 默认下使用标准的K折交叉验证;"
   ]
  },
  {
   "cell_type": "markdown",
   "metadata": {},
   "source": [
    "分层K折交叉验证的数据划分形式:"
   ]
  },
  {
   "cell_type": "code",
   "execution_count": 4,
   "metadata": {},
   "outputs": [
    {
     "data": {
      "image/png": "[encoded data removed]",
      "text/plain": [
       "<Figure size 864x360 with 2 Axes>"
      ]
     },
     "metadata": {},
     "output_type": "display_data"
    }
   ],
   "source": [
    "mglearn.plots.plot_stratified_cross_validation()"
   ]
  },
  {
   "cell_type": "markdown",
   "metadata": {},
   "source": [
    "> 标准K折交叉验证中, 第一折(第一个用到的测试集)完全由类别1的数据占据;  \n",
    "分层的K折交叉验证, 第一折中数据取自不同的类别;"
   ]
  },
  {
   "cell_type": "markdown",
   "metadata": {},
   "source": [
    "### 交叉验证的其他策略"
   ]
  },
  {
   "cell_type": "markdown",
   "metadata": {},
   "source": [
    "#### KFold()分离器"
   ]
  },
  {
   "cell_type": "markdown",
   "metadata": {},
   "source": [
    "模型自动为分类问题选择了分层交叉验证, 那么如何在一个分类问题中使用标准的K折交叉验证?   \n",
    "\n",
    "* 使用一个**KFold分离器**作cv的参数, 便可在分类问题中使用标准的k折交叉验证;  \n",
    "* 设置其shuffle参数为正, 可以在标准K折交叉验证实施之前对数据进行预处理, 打乱原始数据的排列顺序;"
   ]
  },
  {
   "cell_type": "markdown",
   "metadata": {},
   "source": [
    "为分类问题实施标准的k折交叉验证:"
   ]
  },
  {
   "cell_type": "code",
   "execution_count": 5,
   "metadata": {},
   "outputs": [
    {
     "name": "stdout",
     "output_type": "stream",
     "text": [
      "标准的K验证的得分: [0. 0. 0.]\n",
      "标准k验证+乱序处理的的得分: [0.9  0.96 0.96]\n"
     ]
    }
   ],
   "source": [
    "from sklearn.model_selection import KFold\n",
    "kfold1 = KFold(n_splits=3)\n",
    "kfold2 = KFold(n_splits=3,shuffle=True, random_state=0)\n",
    "print(\"标准的K验证的得分: {}\".format(\n",
    "                    cross_val_score(logreg,iris.data,iris.target,cv=kfold1)))\n",
    "print(\"标准k验证+乱序处理的的得分: {}\".format(\n",
    "                    cross_val_score(logreg, iris.data, iris.target, cv=kfold2)))"
   ]
  },
  {
   "cell_type": "markdown",
   "metadata": {},
   "source": [
    "> * 分类问题使用标准k折交叉验证, 每个折中只含一个类别时, 模型学不到任何内容;  \n",
    "* 在划分数据之前将数据的排列顺序随机打乱, 即使每个折中类别的虽然比例不一致, 但是模型可以学习到内容了;\n"
   ]
  },
  {
   "cell_type": "markdown",
   "metadata": {},
   "source": [
    "#### 留一法分离器LeaveOneOut()"
   ]
  },
  {
   "cell_type": "markdown",
   "metadata": {},
   "source": [
    "**留一法交叉验证**: 每折只包含一个数据点的K折交叉验证;    \n",
    "将LeaveOneOut()的实例做cv的参数;"
   ]
  },
  {
   "cell_type": "code",
   "execution_count": 6,
   "metadata": {},
   "outputs": [
    {
     "name": "stdout",
     "output_type": "stream",
     "text": [
      "Number of cv iterations:  150\n",
      "Mean accuracy: 0.95\n"
     ]
    }
   ],
   "source": [
    "from sklearn.model_selection import LeaveOneOut\n",
    "loo = LeaveOneOut()\n",
    "scores = cross_val_score(logreg, iris.data, iris.target, cv=loo)\n",
    "print(\"Number of cv iterations: \", len(scores))\n",
    "print(\"Mean accuracy: {:.2f}\".format(scores.mean()))"
   ]
  },
  {
   "cell_type": "markdown",
   "metadata": {},
   "source": [
    "> 选择单个数据点作为测试集, 在大型数据集上非常耗时, 小型数据集上可以进行更好的估计;"
   ]
  },
  {
   "cell_type": "markdown",
   "metadata": {},
   "source": [
    "#### 打乱划分交叉验证"
   ]
  },
  {
   "cell_type": "markdown",
   "metadata": {},
   "source": [
    "**打乱划分**:    \n",
    "* 根据取样个数train_size, 从原始数据集中随机取样, 创建训练集;   \n",
    "* 根据取样个数test_size, 从原始数据集中随机取样, 创建测试集;  \n",
    "* 根据这一组训练集和测试集拟合模型, 计算模型精度;\n",
    "* 设置迭代次数: 每次迭代, 都重新取样得到新的训练集和测试集;"
   ]
  },
  {
   "cell_type": "markdown",
   "metadata": {},
   "source": [
    "`打乱划分`交叉验证的演示:"
   ]
  },
  {
   "cell_type": "code",
   "execution_count": 7,
   "metadata": {},
   "outputs": [
    {
     "data": {
      "image/png": "[encoded data removed]",
      "text/plain": [
       "<Figure size 720x144 with 1 Axes>"
      ]
     },
     "metadata": {},
     "output_type": "display_data"
    }
   ],
   "source": [
    "mglearn.plots.plot_shuffle_split()"
   ]
  },
  {
   "cell_type": "markdown",
   "metadata": {},
   "source": [
    "> 对包含10个数据点的数据集进行打乱划分, 训练集包含5个点, 测试集包含2个点, 每次拟合模型留下3个空白点(不参与模型拟合或者预测);    "
   ]
  },
  {
   "cell_type": "code",
   "execution_count": 8,
   "metadata": {},
   "outputs": [
    {
     "name": "stdout",
     "output_type": "stream",
     "text": [
      "Cross-validation scores:\n",
      "[0.89 0.95 0.93 0.97 0.97 0.95 0.83 1.   0.95 0.97]\n"
     ]
    }
   ],
   "source": [
    "from sklearn.model_selection import ShuffleSplit\n",
    "shuffle_split = ShuffleSplit(test_size=.5, train_size=.5, n_splits=10)\n",
    "scores = cross_val_score(logreg, iris.data, iris.target, cv=shuffle_split)\n",
    "print(\"Cross-validation scores:\\n{}\".format(scores))"
   ]
  },
  {
   "cell_type": "markdown",
   "metadata": {},
   "source": [
    "> 1. 打乱划分验证的优点:  \n",
    "    * 可以设置独立的迭代次数;  \n",
    "    * 可以对数据点进行留白处理;\n",
    "\n",
    "> 2. `Stratifiedshuffle_split`()类可以在打乱划分的基础上实现类别的一致性, 为分类问题提供更可靠的评估方式;"
   ]
  },
  {
   "cell_type": "markdown",
   "metadata": {},
   "source": [
    "#### 分组交叉验证"
   ]
  },
  {
   "cell_type": "markdown",
   "metadata": {},
   "source": [
    "**分组交叉验证的必要性**:    \n",
    "某医院有关于病人A,B,C,D的多个样本(a1), (b1,b2),(c1,c2,c3), (d1,d2,d3,d4)及其病类(是否患病, [0,1]), 想要构建模型, 根据其中三个病人的数据, 对最后一个病人进行预测;  \n",
    "此时的数据划分暗含隐藏条件: 在原始数据重新划分之后, 同一个人的一组样本不应该被拆散(ex: b1位于训练集,b2位于测试集);    \n",
    "\n",
    "**分组交叉验证的核心操作**:\n",
    "分组交叉验证可以在分组的时候, 给每个数据点贴上一个标签, 在随后数据划分的过程中, 以保证具有相同标签的数据不被拆散;    \n",
    "\n",
    "**组标签的形式**: group = [1,2,2,3,3,3,4,4,4,4]  \n",
    "\n",
    "这种策略出现在评估模型的过程中, 也可以出现在真实的模型应用过程中, 那么如何在模型应用过程之中实现该种策略? 如何实现分组的数据划分形式?   "
   ]
  },
  {
   "cell_type": "markdown",
   "metadata": {},
   "source": [
    "在每次数据划分的过程中, 要求位于同一组的`相关数据点`必须整体出现在训练集或者测试集;"
   ]
  },
  {
   "cell_type": "code",
   "execution_count": 9,
   "metadata": {},
   "outputs": [
    {
     "name": "stdout",
     "output_type": "stream",
     "text": [
      "Cross-validation scores:\n",
      "[0.75 0.8  0.67]\n"
     ]
    }
   ],
   "source": [
    "from sklearn.datasets import make_blobs\n",
    "from sklearn.model_selection import GroupKFold\n",
    "\n",
    "X, y = make_blobs(n_samples=12, random_state=0)\n",
    "\n",
    "# 定义用于实现分组划分的标签列表\n",
    "groups = [0, 0, 0, 1, 1, 1, 1, 2, 2, 3, 3, 3]\n",
    "scores = cross_val_score(logreg, X, y, groups, cv=GroupKFold(n_splits=3))\n",
    "\n",
    "print(\"Cross-validation scores:\\n{}\".format(scores))"
   ]
  },
  {
   "cell_type": "markdown",
   "metadata": {},
   "source": [
    "分组交叉验证的演示:"
   ]
  },
  {
   "cell_type": "code",
   "execution_count": 10,
   "metadata": {},
   "outputs": [
    {
     "data": {
      "image/png": "[encoded data removed]",
      "text/plain": [
       "<Figure size 720x144 with 1 Axes>"
      ]
     },
     "metadata": {},
     "output_type": "display_data"
    }
   ],
   "source": [
    "mglearn.plots.plot_group_kfold()"
   ]
  },
  {
   "cell_type": "markdown",
   "metadata": {},
   "source": [
    "> 基于分组的数据划分: 必须保证分组标签一致的数据划分到同一个块;    \n"
   ]
  },
  {
   "cell_type": "markdown",
   "metadata": {},
   "source": [
    "#### 其他"
   ]
  },
  {
   "cell_type": "markdown",
   "metadata": {},
   "source": [
    "对应于其他使用场景, sklearn中还有其他交叉验证策略;    "
   ]
  },
  {
   "cell_type": "markdown",
   "metadata": {},
   "source": [
    "> http://scikit-learn.org/stable/modules/cross_validation.html#cross-validation"
   ]
  },
  {
   "cell_type": "markdown",
   "metadata": {},
   "source": [
    "## 网格搜索"
   ]
  },
  {
   "cell_type": "markdown",
   "metadata": {},
   "source": [
    "### 简单网格搜索"
   ]
  },
  {
   "cell_type": "markdown",
   "metadata": {},
   "source": [
    "**网格搜索**: 在所选参数的所有可能组合中寻找最佳组合;"
   ]
  },
  {
   "cell_type": "markdown",
   "metadata": {},
   "source": [
    "用两个for循环实现两个参数的最佳组合:"
   ]
  },
  {
   "cell_type": "code",
   "execution_count": 11,
   "metadata": {},
   "outputs": [
    {
     "name": "stdout",
     "output_type": "stream",
     "text": [
      "X_train.shape[0] #训练集大小          X_test.shape[0] #测试集大小:\n",
      "-----------------------          -----------------------\n",
      "112                              38                     \n",
      "Best score: 0.97\n",
      "Best parameters: {'C': 100, 'gamma': 0.001}\n"
     ]
    }
   ],
   "source": [
    "# 实现网格搜索的简单算法\n",
    "from sklearn.svm import SVC\n",
    "from sklearn.model_selection import train_test_split\n",
    "X_train,X_test,y_train,y_test=train_test_split( iris.data,iris.target,\n",
    "                                                random_state=0 )\n",
    "%A 10 X_train.shape[0] #训练集大小;  X_test.shape[0] #测试集大小:\n",
    "\n",
    "best_score = 0\n",
    "\n",
    "for gamma in [0.001, 0.01, 0.1, 1, 10, 100]:\n",
    "    for C in [0.001, 0.01, 0.1, 1, 10, 100]:\n",
    "        svm = SVC( gamma=gamma, C=C )\n",
    "        svm.fit( X_train, y_train )\n",
    "        score = svm.score(X_test, y_test)\n",
    "        \n",
    "        # 保存最佳模型的参数组合\n",
    "        if score > best_score:\n",
    "            best_score = score\n",
    "            best_parameters = {'C': C, 'gamma': gamma}\n",
    "\n",
    "print(\"Best score: {:.2f}\".format(best_score))\n",
    "\n",
    "print(\"Best parameters: {}\".format(best_parameters))"
   ]
  },
  {
   "cell_type": "markdown",
   "metadata": {},
   "source": [
    "### 参数过拟合的风险与验证集"
   ]
  },
  {
   "cell_type": "markdown",
   "metadata": {},
   "source": [
    "`用于评估模型的训练集`和`进行参数选择的验证集(调参集)`为什么不能有交集?  \n",
    "\n",
    "* 测试集的只能是用来评价模型对`新数据`的适应能力, 如果在其上面进行调参(或者拟合数据), 测试集就不再含有`新`的含义了, 所以不能在测试集上进行网格搜索; \n",
    "\n",
    "应该怎么做:\n",
    "* 在网格搜索中: 将训验集再次化分为训练集和验证集: 在训练集上拟合模型, 在验证集上评价参数的得分(根据得分进行参数选择); \n",
    "\n",
    "* 在应用模型时: `训验集`(训练集和验证集的并集)用于拟合模型, 测试集用于评估模型; "
   ]
  },
  {
   "cell_type": "code",
   "execution_count": 12,
   "metadata": {},
   "outputs": [
    {
     "data": {
      "image/png": "[encoded data removed]",
      "text/plain": [
       "<Figure size 1080x72 with 1 Axes>"
      ]
     },
     "metadata": {},
     "output_type": "display_data"
    }
   ],
   "source": [
    "mglearn.plots.plot_threefold_split()"
   ]
  },
  {
   "cell_type": "markdown",
   "metadata": {},
   "source": [
    "> 第一次划分: 将原始数据划 `->` 训验集(训练集U验证集), 测试集;  \n",
    "第二次划分: 训验集 `->` 训练集, 验证集; "
   ]
  },
  {
   "cell_type": "markdown",
   "metadata": {},
   "source": [
    "在训练集和验证集上进行参数选择:"
   ]
  },
  {
   "cell_type": "code",
   "execution_count": 13,
   "metadata": {},
   "outputs": [
    {
     "name": "stdout",
     "output_type": "stream",
     "text": [
      "Size of training set: 84   size of validation set: 28   size of test set: 38\n",
      "\n",
      "Best score on validation set: 0.96\n",
      "Best parameters:  {'C': 10, 'gamma': 0.001}\n",
      "Test set score with best parameters: 0.92\n"
     ]
    }
   ],
   "source": [
    "from sklearn.svm import SVC\n",
    "\n",
    "# 第一次划分, 将数据分为训验集(训练集U验证集)和测试集\n",
    "X_trainval,X_test,y_trainval,y_test=train_test_split(\n",
    "                                    iris.data, iris.target, random_state=0 )\n",
    "\n",
    "# 第二次划分,将训验集化分为训练集和验证集\n",
    "X_train,X_valid,y_train,y_valid=train_test_split( \n",
    "                                    X_trainval, y_trainval, random_state=1)\n",
    "\n",
    "print(\"Size of training set: {}   size of validation set: {}   size of test set:\"\n",
    "      \" {}\\n\".format(X_train.shape[0], X_valid.shape[0], X_test.shape[0]))\n",
    "\n",
    "best_score = 0\n",
    "# 网格搜索\n",
    "for gamma in [0.001, 0.01, 0.1, 1, 10, 100]:\n",
    "    for C in [0.001, 0.01, 0.1, 1, 10, 100]:\n",
    "        svm = SVC(gamma=gamma, C=C)\n",
    "        \n",
    "        # 在训练集上拟合数据\n",
    "        svm.fit( X_train, y_train )\n",
    "        \n",
    "        # 在验证集上选择参数\n",
    "        score = svm.score(X_valid, y_valid)\n",
    "        if score > best_score:\n",
    "            best_score = score\n",
    "            best_parameters = {'C': C, 'gamma': gamma}\n",
    "\n",
    "# 应用模型\n",
    "svm = SVC(**best_parameters)\n",
    "# 用训验集拟合数据\n",
    "svm.fit(X_trainval, y_trainval)\n",
    "# 用测试集评估数据\n",
    "test_score = svm.score(X_test, y_test)\n",
    "\n",
    "print(\"Best score on validation set: {:.2f}\".format(best_score))\n",
    "print(\"Best parameters: \", best_parameters)\n",
    "print(\"Test set score with best parameters: {:.2f}\".format(test_score))"
   ]
  },
  {
   "cell_type": "markdown",
   "metadata": {},
   "source": [
    "> * 验证集得分: 寻找最佳模型参数时的指标;  \n",
    "* 测试集得分: 评估模型对新数据的适应能力;"
   ]
  },
  {
   "cell_type": "markdown",
   "metadata": {},
   "source": [
    "### 带交叉验证的网格搜索"
   ]
  },
  {
   "cell_type": "markdown",
   "metadata": {},
   "source": [
    "加入验证集之后, 最佳参数组合由(100,0.001)->(10,0.001);   \n",
    "说明数据划分方式对参数的选择具有显著的影响, 这种影响说明模型并不稳定;\n",
    "\n",
    "交叉验证可用来评估模型对数据划分的影响程度, 在每种数据划分方式中进行参数选择就是**带交叉验证的网格搜索**;"
   ]
  },
  {
   "cell_type": "markdown",
   "metadata": {},
   "source": [
    "带交叉验证的网格搜索:"
   ]
  },
  {
   "cell_type": "code",
   "execution_count": 14,
   "metadata": {},
   "outputs": [
    {
     "data": {
      "text/plain": [
       "SVC(C=100, cache_size=200, class_weight=None, coef0=0.0,\n",
       "  decision_function_shape='ovr', degree=3, gamma=0.01, kernel='rbf',\n",
       "  max_iter=-1, probability=False, random_state=None, shrinking=True,\n",
       "  tol=0.001, verbose=False)"
      ]
     },
     "execution_count": 14,
     "metadata": {},
     "output_type": "execute_result"
    }
   ],
   "source": [
    "for gamma in [0.001, 0.01, 0.1, 1, 10, 100]:\n",
    "    for C in [0.001, 0.01, 0.1, 1, 10, 100]:\n",
    "        svm = SVC(gamma=gamma, C=C)\n",
    "        scores = cross_val_score(svm, X_trainval, y_trainval, cv=5)\n",
    "        score = np.mean(scores)\n",
    "        if score > best_score:\n",
    "            best_score = score\n",
    "            best_parameters = {'C': C, 'gamma': gamma}\n",
    "\n",
    "svm = SVC(**best_parameters)\n",
    "svm.fit(X_trainval, y_trainval)"
   ]
  },
  {
   "cell_type": "markdown",
   "metadata": {},
   "source": [
    "> 下面的两行语句等价:   \n",
    "`svm.fit( X_train, y_train ); score = svm.score(X_valid, y_valid)`    \n",
    "`scores = cross_val_score(svm, X_trainval, y_trainval, cv=5)`    \n",
    "* 在交叉验证的过程中,数据会自动划分: X_trainval -> X_train, X_valid  \n",
    "* 在训练集上拟合模型, 并给出验证集得分scores;"
   ]
  },
  {
   "cell_type": "markdown",
   "metadata": {},
   "source": [
    "演示上述代码如何选择最佳参数设置:"
   ]
  },
  {
   "cell_type": "code",
   "execution_count": 15,
   "metadata": {},
   "outputs": [
    {
     "data": {
      "image/png": "[encoded data removed]",
      "text/plain": [
       "<Figure size 720x216 with 1 Axes>"
      ]
     },
     "metadata": {},
     "output_type": "display_data"
    }
   ],
   "source": [
    "mglearn.plots.plot_cross_val_selection()"
   ]
  },
  {
   "cell_type": "markdown",
   "metadata": {},
   "source": [
    "> 如果出现警告, 给`GridSearchCV()`添加参数`return_train_score=True`\n",
    "\n",
    "> 因为交叉验证常常与网格搜索一起使用, 有时人们所说的交叉验证含有网格搜索的含义, 网格搜索也含有交叉验证的含义;  \n",
    "* **带交叉验证的网格搜索类**: GridSearchCV()"
   ]
  },
  {
   "cell_type": "markdown",
   "metadata": {},
   "source": [
    "用 **GridSearchCV**进行参数选择和模型评估的一般过程:"
   ]
  },
  {
   "cell_type": "code",
   "execution_count": 16,
   "metadata": {},
   "outputs": [
    {
     "data": {
      "image/png": "[encoded data removed]",
      "text/plain": [
       "<Figure size 700x210 with 1 Axes>"
      ]
     },
     "metadata": {},
     "output_type": "display_data"
    }
   ],
   "source": [
    "mglearn.plots.plot_grid_search_overview()"
   ]
  },
  {
   "cell_type": "markdown",
   "metadata": {},
   "source": [
    "> 如何使用 GridSearchCV()? \n",
    "1. 按一般方式(train_test_split), 将数据集分成训练集和测试集;\n",
    "1. 将GridSearchCV()实例化为`grid_search`;\n",
    "1. 将训练集和`训练标签`(y_train)作为参数传递给`grid_search`的fit方法;\n",
    "1. `grid_search`的fit方法会按一种`隐藏在模型中的方式`自动进行`带交叉验证的网格搜索`; \n",
    "1. `grid_search`经过fit之后可以直接当做`最优模型`(自动调好参数的模型)应用;"
   ]
  },
  {
   "cell_type": "markdown",
   "metadata": {},
   "source": [
    "**GridSearchCV()类的应用**:"
   ]
  },
  {
   "cell_type": "code",
   "execution_count": 17,
   "metadata": {},
   "outputs": [
    {
     "data": {
      "text/plain": [
       "GridSearchCV(cv=5, error_score='raise',\n",
       "       estimator=SVC(C=1.0, cache_size=200, class_weight=None, coef0=0.0,\n",
       "  decision_function_shape='ovr', degree=3, gamma='auto', kernel='rbf',\n",
       "  max_iter=-1, probability=False, random_state=None, shrinking=True,\n",
       "  tol=0.001, verbose=False),\n",
       "       fit_params=None, iid=True, n_jobs=1,\n",
       "       param_grid={'C': [0.001, 0.01, 0.1, 1, 10, 100], 'gamma': [0.001, 0.01, 0.1, 1, 10, 100]},\n",
       "       pre_dispatch='2*n_jobs', refit=True, return_train_score=True,\n",
       "       scoring=None, verbose=0)"
      ]
     },
     "execution_count": 17,
     "metadata": {},
     "output_type": "execute_result"
    }
   ],
   "source": [
    "from sklearn.model_selection import GridSearchCV\n",
    "from sklearn.svm import SVC\n",
    "\n",
    "# 建立用于网格搜索的参数字典, 实例化GSCV类\n",
    "param_grid = {'C': [0.001, 0.01, 0.1, 1, 10, 100],\n",
    "              'gamma': [0.001, 0.01, 0.1, 1, 10, 100]}\n",
    "grid_search = GridSearchCV(SVC(kernel='rbf'),param_grid,cv=5,return_train_score=True)\n",
    "\n",
    "# 将数据分为训练集和测试集\n",
    "X_train, X_test, y_train,y_test = train_test_split(\n",
    "                                        iris.data, iris.target, random_state=0 )\n",
    "##在训练集上进行交叉验证和参数选择##\n",
    "grid_search.fit( X_train,y_train )\n",
    "####################################"
   ]
  },
  {
   "cell_type": "code",
   "execution_count": 18,
   "metadata": {},
   "outputs": [
    {
     "name": "stdout",
     "output_type": "stream",
     "text": [
      " Test set score: 0.97\n"
     ]
    }
   ],
   "source": [
    "# 在测试集上进行模型评估\n",
    "print(\" Test set score: {:.2f}\".format(grid_search.score(X_test, y_test)) )"
   ]
  },
  {
   "cell_type": "markdown",
   "metadata": {},
   "source": [
    "> * grid_search不仅会搜索最佳参数, 还会自动用这个最佳参数在整个训练集上自动拟合一个新模型; 因此可以直接使用它的score()方法评估模型的泛化性能; \n",
    "* gird_search本身具有predict和score方法, 不需要再使用best_estimator_重新建立应用模型;    \n",
    "* grid_seach的predict和score方法, 其实就是best_estimator_的predict和score方法;"
   ]
  },
  {
   "cell_type": "code",
   "execution_count": 19,
   "metadata": {},
   "outputs": [
    {
     "name": "stdout",
     "output_type": "stream",
     "text": [
      "Best parameters: {'C': 100, 'gamma': 0.01}\n",
      "Best cross-validation score: 0.97\n",
      "Best estimator:\n",
      "SVC(C=100, cache_size=200, class_weight=None, coef0=0.0,\n",
      "  decision_function_shape='ovr', degree=3, gamma=0.01, kernel='rbf',\n",
      "  max_iter=-1, probability=False, random_state=None, shrinking=True,\n",
      "  tol=0.001, verbose=False)\n"
     ]
    }
   ],
   "source": [
    "# 最佳参数保存在beat_params属性中\n",
    "print(\"Best parameters: {}\".format(grid_search.best_params_) )\n",
    "# 最佳参数得分保存在best_score_属性中\n",
    "print(\"Best cross-validation score: {:.2f}\".format( grid_search.best_score_) )\n",
    "# 最佳参数对应的模型保存在best_estimatoe_属性中\n",
    "print(\"Best estimator:\\n{}\".format(grid_search.best_estimator_))"
   ]
  },
  {
   "cell_type": "markdown",
   "metadata": {},
   "source": [
    "##### cv_results_属性分析"
   ]
  },
  {
   "cell_type": "markdown",
   "metadata": {},
   "source": [
    "cv_results_属性不仅包含了交叉验证的详细信息, 还包含了网格搜索的详细信息:\n",
    "* **cv_results_属性返回一个字典**;  \n",
    "* **该字典包含23个键**:    \n",
    "    * 可通过语句`list(grid_search.cv_results_)`查看, 每个键的含义如下表所示;    \n",
    "* **每个键值的长度是参数组合的个数**:\n",
    "    * 每个键值都是一个数组或者序列, 并且其长度是参数组合的个数;  \n",
    "    * 根据交叉验证的这折数5, 可构建5中划分模型, split0-split4;   \n",
    "    * 每个参数组合都在一行中对应五种划分模型, 模型的平均精度作为参数选择的指标;  "
   ]
  },
  {
   "cell_type": "markdown",
   "metadata": {},
   "source": [
    ">|关键字|含义|关键字|含义|\n",
    "|:--|:--|:--|:--|\n",
    "| mean_fit_time |模型拟合的平均用时| std_fit_time |模型拟合时间的标准差|\n",
    "| mean_score_time |模型评估用时的平均值| std_score_time |模型评估时间的标准差  |\n",
    "| param_C |参数C的取值  | param_gamma |参数Gamma的取值|\n",
    "| params |参数字典 | split0_test_score  |第一次数据划分后的测试集精度|\n",
    "| split1_test_score  |;  | split2_test_score  |; |\n",
    "| split3_test_score  |;  | split4_test_score  |; |\n",
    "| mean_test_score |测试集平均精度| std_test_score |测试集精度的标准差|\n",
    "| rank_test_score |测试集精度的排名| split0_train_score |第一次数据划分后的训练集精度|\n",
    "| split1_train_score |; | split2_train_score |; |\n",
    "| split3_train_score |; | split4_train_score |; |\n",
    "| mean_train_score |训练集平均精度| std_train_score|训练集平均精度的标准差|"
   ]
  },
  {
   "cell_type": "markdown",
   "metadata": {},
   "source": [
    "将`cv_results_`字典转化为DF对象:"
   ]
  },
  {
   "cell_type": "code",
   "execution_count": 20,
   "metadata": {},
   "outputs": [
    {
     "data": {
      "text/html": [
       "<div>\n",
       "<style scoped>\n",
       "    .dataframe tbody tr th:only-of-type {\n",
       "        vertical-align: middle;\n",
       "    }\n",
       "\n",
       "    .dataframe tbody tr th {\n",
       "        vertical-align: top;\n",
       "    }\n",
       "\n",
       "    .dataframe thead th {\n",
       "        text-align: right;\n",
       "    }\n",
       "</style>\n",
       "<table border=\"1\" class=\"dataframe\">\n",
       "  <thead>\n",
       "    <tr style=\"text-align: right;\">\n",
       "      <th></th>\n",
       "      <th>mean_fit_time</th>\n",
       "      <th>std_fit_time</th>\n",
       "      <th>mean_score_time</th>\n",
       "      <th>std_score_time</th>\n",
       "      <th>param_C</th>\n",
       "      <th>param_gamma</th>\n",
       "      <th>params</th>\n",
       "      <th>split0_test_score</th>\n",
       "      <th>split1_test_score</th>\n",
       "      <th>split2_test_score</th>\n",
       "      <th>...</th>\n",
       "      <th>mean_test_score</th>\n",
       "      <th>std_test_score</th>\n",
       "      <th>rank_test_score</th>\n",
       "      <th>split0_train_score</th>\n",
       "      <th>split1_train_score</th>\n",
       "      <th>split2_train_score</th>\n",
       "      <th>split3_train_score</th>\n",
       "      <th>split4_train_score</th>\n",
       "      <th>mean_train_score</th>\n",
       "      <th>std_train_score</th>\n",
       "    </tr>\n",
       "  </thead>\n",
       "  <tbody>\n",
       "    <tr>\n",
       "      <th>0</th>\n",
       "      <td>0.0014</td>\n",
       "      <td>0.00049</td>\n",
       "      <td>0.0008</td>\n",
       "      <td>0.0004</td>\n",
       "      <td>0.001</td>\n",
       "      <td>0.001</td>\n",
       "      <td>{'C': 0.001, 'gamma': 0.001}</td>\n",
       "      <td>0.375</td>\n",
       "      <td>0.347826</td>\n",
       "      <td>0.363636</td>\n",
       "      <td>...</td>\n",
       "      <td>0.366071</td>\n",
       "      <td>0.011371</td>\n",
       "      <td>22</td>\n",
       "      <td>0.363636</td>\n",
       "      <td>0.370787</td>\n",
       "      <td>0.366667</td>\n",
       "      <td>0.366667</td>\n",
       "      <td>0.362637</td>\n",
       "      <td>0.366079</td>\n",
       "      <td>0.002852</td>\n",
       "    </tr>\n",
       "  </tbody>\n",
       "</table>\n",
       "<p>1 rows × 22 columns</p>\n",
       "</div>"
      ],
      "text/plain": [
       "   mean_fit_time  std_fit_time  mean_score_time  std_score_time param_C  \\\n",
       "0         0.0014       0.00049           0.0008          0.0004   0.001   \n",
       "\n",
       "  param_gamma                        params  split0_test_score  \\\n",
       "0       0.001  {'C': 0.001, 'gamma': 0.001}              0.375   \n",
       "\n",
       "   split1_test_score  split2_test_score       ...         mean_test_score  \\\n",
       "0           0.347826           0.363636       ...                0.366071   \n",
       "\n",
       "   std_test_score  rank_test_score  split0_train_score  split1_train_score  \\\n",
       "0        0.011371               22            0.363636            0.370787   \n",
       "\n",
       "   split2_train_score  split3_train_score  split4_train_score  \\\n",
       "0            0.366667            0.366667            0.362637   \n",
       "\n",
       "   mean_train_score  std_train_score  \n",
       "0          0.366079         0.002852  \n",
       "\n",
       "[1 rows x 22 columns]"
      ]
     },
     "execution_count": 20,
     "metadata": {},
     "output_type": "execute_result"
    }
   ],
   "source": [
    "import pandas as pd\n",
    "results = pd.DataFrame(grid_search.cv_results_)\n",
    "results.head(1)"
   ]
  },
  {
   "cell_type": "markdown",
   "metadata": {},
   "source": [
    "使用`rank_test_score`自己寻找最佳参数;"
   ]
  },
  {
   "cell_type": "code",
   "execution_count": 21,
   "metadata": {},
   "outputs": [
    {
     "name": "stdout",
     "output_type": "stream",
     "text": [
      "pos     results.params[pos]   \n",
      "---  -------------------------\n",
      "31   {'C': 100, 'gamma': 0.01}\n"
     ]
    }
   ],
   "source": [
    "pos = results.rank_test_score.idxmin() #最佳参数的索引\n",
    "%A pos; results.params[pos]"
   ]
  },
  {
   "cell_type": "markdown",
   "metadata": {},
   "source": [
    "网格搜索结果的可视化:"
   ]
  },
  {
   "cell_type": "code",
   "execution_count": 22,
   "metadata": {
    "scrolled": false
   },
   "outputs": [
    {
     "name": "stdout",
     "output_type": "stream",
     "text": [
      "                scores                \n",
      "--------------------------------------\n",
      "[[0.37, 0.37, 0.37, 0.37, 0.37, 0.37],\n",
      " [0.37, 0.37, 0.37, 0.37, 0.37, 0.37],\n",
      " [0.37, 0.7 , 0.92, 0.96, 0.37, 0.37],\n",
      " [0.7 , 0.93, 0.96, 0.95, 0.92, 0.51],\n",
      " [0.93, 0.96, 0.96, 0.94, 0.92, 0.56],\n",
      " [0.96, 0.97, 0.96, 0.95, 0.92, 0.56]]\n"
     ]
    },
    {
     "data": {
      "text/plain": [
       "<matplotlib.collections.PolyCollection at 0x29932f38390>"
      ]
     },
     "execution_count": 22,
     "metadata": {},
     "output_type": "execute_result"
    },
    {
     "data": {
      "image/png": "[encoded data removed]",
      "text/plain": [
       "<Figure size 432x288 with 1 Axes>"
      ]
     },
     "metadata": {},
     "output_type": "display_data"
    }
   ],
   "source": [
    "# 网格搜索的指标是交叉验证的平均分\n",
    "scores = np.array( results.mean_test_score ).reshape(6,6)\n",
    "%A scores\n",
    "\n",
    "# 网格搜索热图\n",
    "mglearn.tools.heatmap(scores, xlabel='gamma', xticklabels=param_grid['gamma'],\n",
    "                      ylabel='C', yticklabels=param_grid['C'], cmap=\"viridis\")"
   ]
  },
  {
   "cell_type": "markdown",
   "metadata": {},
   "source": [
    "> 在`GridSearchCV(SVC(kernel='rbf'))`, 如果不设置`kernel='rbf'`, mean_test_score 的长度将是42, 因为模型还会自动搜索`kernel='linear'`时C分别取6个不同的值;\n",
    "\n",
    "> 文本标记显示的是交叉验证的平均精度, 也是颜色深浅的依据;    \n",
    "* 模型对参数的选择相当敏感;  \n",
    "* 在时间允许的情况下, 参数的范围要足够的大;\n",
    "* 每个参数的最佳取值不能位于图像的边界上;"
   ]
  },
  {
   "cell_type": "markdown",
   "metadata": {},
   "source": [
    "演示不合适的参数选择:"
   ]
  },
  {
   "cell_type": "code",
   "execution_count": 23,
   "metadata": {},
   "outputs": [
    {
     "data": {
      "text/plain": [
       "<matplotlib.colorbar.Colorbar at 0x29932d2d278>"
      ]
     },
     "execution_count": 23,
     "metadata": {},
     "output_type": "execute_result"
    },
    {
     "data": {
      "image/png": "[encoded data removed]",
      "text/plain": [
       "<Figure size 1080x288 with 4 Axes>"
      ]
     },
     "metadata": {},
     "output_type": "display_data"
    }
   ],
   "source": [
    "fig, axes = plt.subplots(1, 3, figsize=(15,4))\n",
    "\n",
    "param_grid_linear = {'C': np.linspace(1, 2, 6),'gamma':  np.linspace(1, 2, 6)}\n",
    "param_grid_one_log = {'C': np.linspace(1, 2, 6),'gamma':  np.logspace(-3, 2, 6)}\n",
    "param_grid_range = {'C': np.logspace(-3, 2, 6),'gamma':  np.logspace(-7, -2, 6)}\n",
    "\n",
    "for param_grid, ax in zip([param_grid_linear,param_grid_one_log,\n",
    "                           param_grid_range], axes):\n",
    "    \n",
    "    grid_search = GridSearchCV(SVC(), param_grid, cv=5)\n",
    "    grid_search.fit( X_train, y_train )\n",
    "    scores = grid_search.cv_results_['mean_test_score'].reshape(6, 6)\n",
    "\n",
    "    # 对交叉验证的平均分作图\n",
    "    scores_image = mglearn.tools.heatmap(scores, xlabel='gamma', ylabel='C', \n",
    "                                         xticklabels=param_grid['gamma'],\n",
    "                                         yticklabels=param_grid['C'],\n",
    "                                         cmap=\"viridis\", ax=ax)\n",
    "plt.colorbar(scores_image,ax=axes.tolist())"
   ]
  },
  {
   "cell_type": "markdown",
   "metadata": {},
   "source": [
    "> * 图一, 参数C和Gamma取值范围不当, 或者参数对模型根本上就是无影响(X);\n",
    "* 图二, 参数Gamma取值可以, 但是C取值不当;\n",
    "* 图三, 最佳参数组合位于右上角边界, 应再此范围精选参数;"
   ]
  },
  {
   "cell_type": "markdown",
   "metadata": {},
   "source": [
    "##### 在非网格空间中搜索"
   ]
  },
  {
   "cell_type": "markdown",
   "metadata": {},
   "source": [
    "SVC模型有一个`kernel`参数, kernel='linear'时,模型只会用到参数`C`, 当kernel='rbf'时, 模型会同时用到参数`C`和`Gamma`;   \n",
    "关于这种可以不进行全空间搜索的参数选择, 需要将网格参数`para_grid`由字典变为字典列表;"
   ]
  },
  {
   "cell_type": "code",
   "execution_count": 24,
   "metadata": {},
   "outputs": [
    {
     "name": "stdout",
     "output_type": "stream",
     "text": [
      "List of grids:\n",
      "[{'kernel': ['rbf'], 'C': [0.001, 0.01, 0.1, 1, 10, 100], 'gamma': [0.001, 0.01, 0.1, 1, 10, 100]}, {'kernel': ['linear'], 'C': [0.001, 0.01, 0.1, 1, 10, 100]}]\n"
     ]
    }
   ],
   "source": [
    "param_grid = [{'kernel': ['rbf'],\n",
    "               'C': [0.001, 0.01, 0.1, 1, 10, 100],\n",
    "               'gamma': [0.001, 0.01, 0.1, 1, 10, 100]},\n",
    "              {'kernel': ['linear'],\n",
    "               'C': [0.001, 0.01, 0.1, 1, 10, 100]}]\n",
    "print(\"List of grids:\\n{}\".format(param_grid))"
   ]
  },
  {
   "cell_type": "code",
   "execution_count": 25,
   "metadata": {},
   "outputs": [
    {
     "name": "stdout",
     "output_type": "stream",
     "text": [
      "Best parameters: {'C': 100, 'gamma': 0.01, 'kernel': 'rbf'}\n",
      "Best cross-validation score: 0.97\n"
     ]
    }
   ],
   "source": [
    "grid_search = GridSearchCV(SVC(), param_grid, cv=5,\n",
    "                                      return_train_score=True)\n",
    "grid_search.fit(X_train, y_train)\n",
    "print(\"Best parameters: {}\".format(grid_search.best_params_))\n",
    "print(\"Best cross-validation score: {:.2f}\".format(grid_search.best_score_))"
   ]
  },
  {
   "cell_type": "code",
   "execution_count": 26,
   "metadata": {},
   "outputs": [
    {
     "data": {
      "text/plain": [
       "40     {'C': 10, 'kernel': 'linear'}\n",
       "41    {'C': 100, 'kernel': 'linear'}\n",
       "Name: params, dtype: object"
      ]
     },
     "execution_count": 26,
     "metadata": {},
     "output_type": "execute_result"
    }
   ],
   "source": [
    "results = pd.DataFrame(grid_search.cv_results_)\n",
    "results.params.tail(2)"
   ]
  },
  {
   "cell_type": "markdown",
   "metadata": {},
   "source": [
    "##### 使用不同的交叉验证策略进行网格搜索"
   ]
  },
  {
   "cell_type": "markdown",
   "metadata": {},
   "source": [
    "与cross_val_score类似,GridSearchCV对分类问题默认使用`分层K折交叉验证`, 对回归问题默认使用`标准K折交叉验证`;  \n",
    "当然, 也可以传入一个分离器做cv的参数;  \n",
    "对于非常缓慢的数据集, 可以将数据单次划分为训练集和测试集, 使用ShuffleSplit分离器或者StratifiedShuffleSplit分离器, 并设置n_iter=1;"
   ]
  },
  {
   "cell_type": "markdown",
   "metadata": {},
   "source": [
    "1. 嵌套交叉验证"
   ]
  },
  {
   "cell_type": "markdown",
   "metadata": {},
   "source": [
    "在上面使用GridSearchCV类之前用train_test_split做了一次数据划分, 但是该次数据划分并不一定可靠;  \n",
    "如果在使用GridSearchCV类之前, 将train_test_split这次数据划分改为一个交叉验证的多次数据划分, 这就是所谓的**嵌套交叉验证策略**;  \n",
    "不必进行嵌套交叉验证策略;"
   ]
  },
  {
   "cell_type": "code",
   "execution_count": 27,
   "metadata": {},
   "outputs": [
    {
     "name": "stdout",
     "output_type": "stream",
     "text": [
      "交叉验证得分:  [0.97 1.   0.9  0.97 1.  ]\n",
      "交叉验证得分的平均值: 0.97\n"
     ]
    }
   ],
   "source": [
    "scores = cross_val_score( GridSearchCV(SVC(),param_grid, cv=5),\n",
    "                         iris.data,iris.target,cv=5)\n",
    "print(\"交叉验证得分: \", scores)\n",
    "print(\"交叉验证得分的平均值: {:.2f}\".format(scores.mean()))"
   ]
  },
  {
   "cell_type": "markdown",
   "metadata": {},
   "source": [
    "> * GridSearchCV需要验证36个参数, 内层交叉验证要做5次, 外层交叉验证也要做5次, 该过程总的模型数为36*25=900个; 为了拟合一个模型, 需要先拟合900个模型, 计算代价还是蛮大的;   \n",
    "* 虽然该方法评价了数据划分方式对模型的影响程度(数据划分方式对模型的影响程度其实并不大: 用一次train_test_split进行数据划分就很不错了, 最低有0.9的精度), 但是该方法不能像 GridSearchCV()那样给出可直接应用的模型, 即无法再调用predict和score方法了;   \n"
   ]
  },
  {
   "cell_type": "markdown",
   "metadata": {},
   "source": [
    "2. 交叉验证与网格搜索并行"
   ]
  },
  {
   "cell_type": "markdown",
   "metadata": {},
   "source": [
    "所有估计器的n_jobs参数(如果有的话)都可以指定模型拟合时的CPU核数, 但是, sklearn不允许并行操作的嵌套, 如果你在模型SCV(n_jobs=-1)中使用了n_jobs参数, 就不能再在GridSearchCV中使用它了, 即语句`GridSearchCV(SCV(n_jobs=-1),n_jobs)`是错误的;"
   ]
  },
  {
   "cell_type": "markdown",
   "metadata": {},
   "source": [
    "## 评估指标与评分"
   ]
  },
  {
   "cell_type": "markdown",
   "metadata": {},
   "source": [
    "评估分类性能: 精度, 正确分类样本所占的比例;  \n",
    "评估回归性能: $R^2$"
   ]
  },
  {
   "cell_type": "markdown",
   "metadata": {},
   "source": [
    "### 明确自己的目的是什么"
   ]
  },
  {
   "cell_type": "markdown",
   "metadata": {},
   "source": [
    "### 二分类指标"
   ]
  },
  {
   "cell_type": "markdown",
   "metadata": {},
   "source": [
    "#### 错误类型"
   ]
  },
  {
   "cell_type": "markdown",
   "metadata": {},
   "source": [
    "**癌症的筛选**:  \n",
    "* **正类**: 我们要寻找的类, 有癌症(阳性);  \n",
    "* **反类**: 我们要排除的类, 没癌症(阴性);  \n",
    "\n",
    "**错误在现实世界中会有怎样的影响**:  \n",
    "* 错误的阳性预测: **假正例**, 接受额外的测试或者治疗;    \n",
    "* 错误的阴性预测: **假反例**, 耽误疾病的治疗, 错过最佳治疗期;  \n",
    "* **假正例**可以被看做模型的一个小麻烦, 但是假反例确是模型能否应用的关键;  \n"
   ]
  },
  {
   "cell_type": "markdown",
   "metadata": {},
   "source": [
    "#### 不平衡数据集"
   ]
  },
  {
   "cell_type": "markdown",
   "metadata": {},
   "source": [
    "**具有不平衡类别的数据集**: 数据集中一个类别的数量远比另一个类别的数量多;  \n",
    "**在不平衡数据集上的模型, 其预测性能并不能交由精度进行度量**;"
   ]
  },
  {
   "cell_type": "markdown",
   "metadata": {},
   "source": [
    "构建一个`digits不平衡数据集`:"
   ]
  },
  {
   "cell_type": "code",
   "execution_count": 28,
   "metadata": {},
   "outputs": [],
   "source": [
    "from sklearn.datasets import load_digits\n",
    "digits = load_digits()\n",
    "y = (digits.target == 9)\n",
    "X_train,X_test,y_train,y_test=train_test_split(digits.data, y, random_state=0)"
   ]
  },
  {
   "cell_type": "markdown",
   "metadata": {},
   "source": [
    "> 数据集的特点: \n",
    "* 数据点个数和特征个数: 1797, 64  \n",
    "* 类别~9和9的个数: 1617,180  \n",
    "* 类别~9在总类别中的比例: 1617/(1617+180)=0.9"
   ]
  },
  {
   "cell_type": "markdown",
   "metadata": {},
   "source": [
    "在虚拟分类器上构建模型:"
   ]
  },
  {
   "cell_type": "code",
   "execution_count": 29,
   "metadata": {},
   "outputs": [
    {
     "name": "stdout",
     "output_type": "stream",
     "text": [
      "Unique predicted labels: [False]\n",
      "Test score: 0.90\n"
     ]
    }
   ],
   "source": [
    "from sklearn.dummy import DummyClassifier\n",
    "# 虚拟常数预测\n",
    "dummy_majority = DummyClassifier( strategy=\"most_frequent\" ).fit(X_train,y_train)\n",
    "pred_most_frequent = dummy_majority.predict(X_test) #列表元素都是False\n",
    "print( \"Unique predicted labels: {}\".format( np.unique(pred_most_frequent)) )\n",
    "print( \"Test score: {:.2f}\".format(dummy_majority.score(X_test,y_test)) )"
   ]
  },
  {
   "cell_type": "markdown",
   "metadata": {},
   "source": [
    "> DummyClassifier():始终预测占数据点多数的类标签, 只做常数预测;  \n",
    "* 对X_test的预测结果都是`False`;  \n",
    "* 虽然精度为0.9, 但是该模型其实什么信息都没学到;"
   ]
  },
  {
   "cell_type": "markdown",
   "metadata": {},
   "source": [
    "在决策树分类器上构建模型:"
   ]
  },
  {
   "cell_type": "code",
   "execution_count": 30,
   "metadata": {},
   "outputs": [
    {
     "name": "stdout",
     "output_type": "stream",
     "text": [
      "Test score: 0.92\n"
     ]
    }
   ],
   "source": [
    "from sklearn.tree import DecisionTreeClassifier\n",
    "tree=DecisionTreeClassifier(max_depth=2).fit(X_train,y_train)\n",
    "pred_tree=tree.predict(X_test)\n",
    "print(\"Test score: {:.2f}\".format(tree.score(X_test,y_test)))"
   ]
  },
  {
   "cell_type": "markdown",
   "metadata": {},
   "source": [
    "在LogisticRegression分类器上构建模型:"
   ]
  },
  {
   "cell_type": "code",
   "execution_count": 31,
   "metadata": {},
   "outputs": [
    {
     "name": "stdout",
     "output_type": "stream",
     "text": [
      "dummy score: 0.83\n",
      "logreg score: 0.98\n"
     ]
    }
   ],
   "source": [
    "from sklearn.linear_model import LogisticRegression\n",
    "\n",
    "# 随机预测\n",
    "dummy = DummyClassifier(strategy='stratified').fit(X_train, y_train)\n",
    "pred_dummy = dummy.predict(X_test)\n",
    "print(\"dummy score: {:.2f}\".format(dummy.score(X_test, y_test)))\n",
    "\n",
    "# 逻辑回归预测\n",
    "logreg = LogisticRegression(C=0.1).fit(X_train, y_train)\n",
    "pred_logreg = logreg.predict(X_test)\n",
    "print(\"logreg score: {:.2f}\".format(logreg.score(X_test, y_test)))"
   ]
  },
  {
   "cell_type": "markdown",
   "metadata": {},
   "source": [
    "> 虽然随机分类器得到了0.8的精度, 但是随机分类器只做随机性预测, 模型并没有学到任何东西;  \n",
    "> 一个良好的模型评估指标, 应该淘汰这种'无信息量'的随机预测或者常数预测;"
   ]
  },
  {
   "cell_type": "markdown",
   "metadata": {},
   "source": [
    "#### 混淆矩阵"
   ]
  },
  {
   "cell_type": "markdown",
   "metadata": {},
   "source": [
    "对于二分类问题的模型, 最全面的评估方法是使用**混淆矩阵**;  \n",
    "\n",
    "混淆矩阵的结构:  \n",
    "* 行索引代表`真实的类别标签`即**真实标签**, 列索引代表`模型所预测的类别标签`即**模型标签**;   \n",
    "模型标签相对于真实标签而言, 可能含有错误;   \n",
    "\n",
    "* **对角线元素代表正确分类的个数**, 其余元素带表错误分类的个数;\n",
    "\n",
    "* confusion_matrix的两个参数是`真实标签集`和`模型标签集`;  \n",
    "**confusion_matrix( y_test,y_predict )**  \n"
   ]
  },
  {
   "cell_type": "markdown",
   "metadata": {},
   "source": [
    "二分类混淆矩阵:"
   ]
  },
  {
   "cell_type": "code",
   "execution_count": 32,
   "metadata": {},
   "outputs": [
    {
     "data": {
      "image/png": "[encoded data removed]",
      "text/plain": [
       "<Figure size 432x288 with 1 Axes>"
      ]
     },
     "metadata": {},
     "output_type": "display_data"
    }
   ],
   "source": [
    "mglearn.plots.plot_binary_confusion_matrix()"
   ]
  },
  {
   "cell_type": "markdown",
   "metadata": {},
   "source": [
    "> 符号含义? \n",
    "* T,F表示预测是正确的还是错误的;  \n",
    "* N表示模型标签为反类, P表示模型标签为正类;\n",
    "\n",
    "> 如何快速反应元素的名字\n",
    "* 首先在混淆矩阵中标出索引, 然后按索引起名;\n",
    "* 00对应真反例(00相同为真),11对应真正例(00相同为真);    \n",
    "* 01对应假正例(10不同为假),10对应假反例(10不同为假);  "
   ]
  },
  {
   "cell_type": "markdown",
   "metadata": {},
   "source": [
    "使用混合矩阵评价四个模型的性能: 常数预测模型, 随机预测模型, 逻辑回归模型, 决策树模型;"
   ]
  },
  {
   "cell_type": "code",
   "execution_count": 33,
   "metadata": {},
   "outputs": [
    {
     "name": "stdout",
     "output_type": "stream",
     "text": [
      "confusion_matrix(y_test,pred_most_frequent)  confusion_matrix(y_test,pred_dummy)\n",
      "-------------------------------------------  -----------------------------------\n",
      "[[403,   0],                                 [[369,  34],                       \n",
      " [ 47,   0]]                                  [ 45,   2]]                       \n",
      "confusion_matrix(y_test,pred_tree)           confusion_matrix(y_test,pred_logreg)\n",
      "----------------------------------           ------------------------------------\n",
      "[[390,  13],                                 [[401,   2],                        \n",
      " [ 24,  23]]                                  [  8,  39]]                        \n"
     ]
    }
   ],
   "source": [
    "from sklearn.metrics import confusion_matrix\n",
    "%A confusion_matrix(y_test,pred_most_frequent);confusion_matrix(y_test,pred_dummy)\n",
    "%A 11 confusion_matrix(y_test,pred_tree);confusion_matrix(y_test,pred_logreg)"
   ]
  },
  {
   "cell_type": "markdown",
   "metadata": {},
   "source": [
    "> 通过混淆矩阵可以看出什么信息:  \n",
    "* pred_most_frequent总是预测同一个类别;  \n",
    "* pred_dummy真正例个数只有7个, 但是假反例却有40个, 假正例也有36个;\n",
    "* 逻辑回归模型比决策树模型的效果更好;"
   ]
  },
  {
   "cell_type": "markdown",
   "metadata": {},
   "source": [
    "**混淆矩阵引申出的概念**:\n",
    "\n",
    "**精度**: 正确预测的数量在所有样本中的比例, `对角线分数`;    \n",
    "\n",
    "$$\\large Accuracy = \\frac{TP + TN }{TN + TP + FN + FP};$$\n",
    "\n",
    "**准确率**: 预测为正类的样本有多少是真正的正类, `第二列分数`;  \n",
    "准确率越大, 假正例的个数越少;  \n",
    "\n",
    "$$\\large Precision = \\frac{TP}{TP+FP};$$\n",
    "\n",
    "**召回率**: 正类样本中有多少被预测为正类, 第二行分数;  \n",
    "召回率越大, 假反例的个数越少;\n",
    "\n",
    "$$\\large Recall = \\frac{TP}{FN+TP};$$\n",
    "\n",
    "**f-分数**: 准确率和召回率的调和平均;  \n",
    "\n",
    "$$\\large F = 2 \\cdot \\frac{Precision \\cdot Recall}{Precision + Recall};$$"
   ]
  },
  {
   "cell_type": "markdown",
   "metadata": {},
   "source": [
    "> 比较准确率, 召回率, 假正例率, 真正例率这些概念之间的区别和联系?  \n",
    "假设: 10个数据点的数据集, 7个反类(阴性), 3个正类(阳性), 其混淆矩阵为[[4,3],[1,2]];   \n",
    "![conf_1234](conf_1234.png)\n",
    " \n",
    "> 尽可能多的将数据点中的正类找出, 正类是模型的焦点;  \n",
    "* 准确率=2/(2+3)=2/5;  \n",
    "    * 模型所找到的正类并一定是真正的正类, 其中真正正类的比例叫做准确率;\n",
    "* 召回率=2/(2+1)=2/3;  \n",
    "    * 找回率: 在所有的正类空间中, 模型所能找到的正类的比例;\n",
    "* 假正例率=3/(3+4)=3/7;  \n",
    "    * 模型在原始的反类空间中竟然找到了正类, 模型在原始的反类空间中找到正类的概率叫做假正例率; \n",
    "* 真正利率=召回率;\n",
    "    模型在正类空间中所能正确找出正类的概率;"
   ]
  },
  {
   "cell_type": "markdown",
   "metadata": {},
   "source": [
    "使用f分数评价四个模型的性能:"
   ]
  },
  {
   "cell_type": "code",
   "execution_count": 34,
   "metadata": {
    "scrolled": true
   },
   "outputs": [
    {
     "name": "stdout",
     "output_type": "stream",
     "text": [
      "f1 score most frequent: 0.00\n",
      "f1 score dummy: 0.05\n",
      "f1 score tree: 0.55\n",
      "f1 score logistic regression: 0.89\n"
     ]
    },
    {
     "name": "stderr",
     "output_type": "stream",
     "text": [
      "C:\\Users\\tfliu\\Anaconda3\\lib\\site-packages\\sklearn\\metrics\\classification.py:1135: UndefinedMetricWarning: F-score is ill-defined and being set to 0.0 due to no predicted samples.\n",
      "  'precision', 'predicted', average, warn_for)\n"
     ]
    }
   ],
   "source": [
    "from sklearn.metrics import f1_score\n",
    "print(\"f1 score most frequent: {:.2f}\".format(\n",
    "                                    f1_score(y_test, pred_most_frequent)))\n",
    "print(\"f1 score dummy: {:.2f}\".format(f1_score(y_test, pred_dummy)))\n",
    "print(\"f1 score tree: {:.2f}\".format(f1_score(y_test, pred_tree)))\n",
    "print(\"f1 score logistic regression: {:.2f}\".format(\n",
    "                                    f1_score(y_test, pred_logreg)))"
   ]
  },
  {
   "cell_type": "markdown",
   "metadata": {},
   "source": [
    "> 根据混淆矩阵计算logreg的f分数:  \n",
    " ![conf4](conf4.png)\n",
    "* `f1_logreg=2*(39/(39+2) * 39/(39+8)) / (39/(39+2) + 39/(39+8))`=0.89  \n",
    "* 对于评估模型的好坏, f分数比精度更加准确, 但是却更加难以解释;"
   ]
  },
  {
   "cell_type": "markdown",
   "metadata": {},
   "source": [
    "classification_report()可以对准确率, 召回率和f1-分数做一个总结:"
   ]
  },
  {
   "cell_type": "code",
   "execution_count": 35,
   "metadata": {},
   "outputs": [
    {
     "name": "stdout",
     "output_type": "stream",
     "text": [
      "             precision    recall  f1-score   support\n",
      "\n",
      "         ~9       0.90      1.00      0.94       403\n",
      "          9       0.00      0.00      0.00        47\n",
      "\n",
      "avg / total       0.80      0.90      0.85       450\n",
      "\n"
     ]
    },
    {
     "name": "stderr",
     "output_type": "stream",
     "text": [
      "C:\\Users\\tfliu\\Anaconda3\\lib\\site-packages\\sklearn\\metrics\\classification.py:1135: UndefinedMetricWarning: Precision and F-score are ill-defined and being set to 0.0 in labels with no predicted samples.\n",
      "  'precision', 'predicted', average, warn_for)\n"
     ]
    }
   ],
   "source": [
    "from sklearn.metrics import classification_report\n",
    "print(classification_report(y_test,pred_most_frequent,target_names=['~9','9']))"
   ]
  },
  {
   "cell_type": "markdown",
   "metadata": {},
   "source": [
    "> 分类报告的输出结构:   \n",
    "* support: 该类别中真实样本的数量;  \n",
    "* avg: 对应指标按类别个数加权的平均值;\n",
    "* **不管是类别`9`,还是类别`~9`都有精度, 召回率和f1分数;**\n",
    "\n",
    ">根据混淆矩阵计算`9和~9的召回率`:  \n",
    "![conf1](conf1.png)  \n",
    "* `~9`的召回率: 403/(403+0)=1  \n",
    "* `9`的召回率: 0/(0+47)=0  \n"
   ]
  },
  {
   "cell_type": "markdown",
   "metadata": {},
   "source": [
    "随机预测模型的分类报告和逻辑回归模型的分类报告:"
   ]
  },
  {
   "cell_type": "code",
   "execution_count": 36,
   "metadata": {},
   "outputs": [
    {
     "name": "stdout",
     "output_type": "stream",
     "text": [
      "             precision    recall  f1-score   support\n",
      "\n",
      "         ~9       0.89      0.92      0.90       403\n",
      "          9       0.06      0.04      0.05        47\n",
      "\n",
      "avg / total       0.80      0.82      0.81       450\n",
      "\n",
      "====================================================\n",
      "             precision    recall  f1-score   support\n",
      "\n",
      "         ~9       0.98      1.00      0.99       403\n",
      "          9       0.95      0.83      0.89        47\n",
      "\n",
      "avg / total       0.98      0.98      0.98       450\n",
      "\n"
     ]
    }
   ],
   "source": [
    "print(classification_report(y_test, pred_dummy,target_names=['~9', '9']))\n",
    "print('=='*26)\n",
    "print(classification_report(y_test, pred_logreg,target_names=['~9', '9']))"
   ]
  },
  {
   "cell_type": "markdown",
   "metadata": {},
   "source": [
    "> * 分类指标的值与类别有关, 默认输出的是正类(`9`)的分类指标值;   \n",
    "* 同时查看所有的指标值, 发现回归模型的各个指标值都较大, 说明逻辑回归模型的性能好于其它模型;"
   ]
  },
  {
   "cell_type": "markdown",
   "metadata": {},
   "source": [
    "#### 考虑不确定性"
   ]
  },
  {
   "cell_type": "markdown",
   "metadata": {},
   "source": [
    "大多是分类器都提供了`decision_function`或`predict_proba`方法来估测预测的不确定度;  \n",
    "对于二分类问题中的数据点, 可以根据其**df值的正负**判断其类别标签, 也可以根据**是大于0.5还是小于0.5**判断其类别标签;  \n",
    "这里的0或0.5就相当于df或pp的**阈值**, 这是一个可以在模型中改变的值;  \n",
    "如果`改变df或pp的阈值`, 模型对某个数据点所预测的类别标签可能会发生变化;"
   ]
  },
  {
   "cell_type": "markdown",
   "metadata": {},
   "source": [
    "改变决策阈值, 决策边界将会发生变化:"
   ]
  },
  {
   "cell_type": "code",
   "execution_count": 37,
   "metadata": {},
   "outputs": [
    {
     "data": {
      "image/png": "[encoded data removed]",
      "text/plain": [
       "<Figure size 1080x576 with 6 Axes>"
      ]
     },
     "metadata": {},
     "output_type": "display_data"
    }
   ],
   "source": [
    "mglearn.plots.plot_decision_threshold()"
   ]
  },
  {
   "cell_type": "markdown",
   "metadata": {},
   "source": [
    "> 圆圈内的点是正类, 圆圈外的点是反类;  \n",
    "* df值由0变为-0.8后, 圆圈内数据点的个数变多了, 说明**减少阈值可以使正类的预测个数变多**;  \n",
    "* `减少阈值`含有`放宽成立条件`的含义, 既然正类的成立条件放宽了, 那么更多的数据点将被分为正类;"
   ]
  },
  {
   "cell_type": "markdown",
   "metadata": {},
   "source": [
    "新建一个不平衡数据集, 反类有400个点, 正类有50个点:"
   ]
  },
  {
   "cell_type": "code",
   "execution_count": 38,
   "metadata": {},
   "outputs": [
    {
     "name": "stdout",
     "output_type": "stream",
     "text": [
      "             precision    recall  f1-score   support\n",
      "\n",
      "          0       0.97      0.89      0.93       104\n",
      "          1       0.35      0.67      0.46         9\n",
      "\n",
      "avg / total       0.92      0.88      0.89       113\n",
      "\n"
     ]
    }
   ],
   "source": [
    "from mglearn.datasets import make_blobs\n",
    "X, y = make_blobs(n_samples=(400, 50), centers=2,\n",
    "                                      cluster_std=[7.0, 2],random_state=22)\n",
    "X_train, X_test, y_train, y_test = train_test_split(X, y, random_state=0)\n",
    "\n",
    "# 在不平衡数据集上拟合一个SVC模型\n",
    "svc = SVC(gamma=.05).fit(X_train, y_train)\n",
    "# 产看SVC模型的分类报告\n",
    "print(classification_report(y_test,svc.predict(X_test)))"
   ]
  },
  {
   "cell_type": "markdown",
   "metadata": {},
   "source": [
    "> 分类报告用于评价模型的性能:  \n",
    "* 对于类别1的预测而言, 准确度和f1-score都低于.5(随机预测);  \n",
    "* 但是对于类别0的预测, 准确度和f1-score的值普遍较大;  \n",
    "\n",
    "> * 该模型的重点放在了将类别0分类正确, 而不管类别1是否分类正确;\n",
    "* 类别0代表的是反类, 阴性, 模型将重点放在了阴性案例上;  \n",
    "* 而现实中, 要求模型必须关注阳性案例, 即更可能多的找到阳性类别;"
   ]
  },
  {
   "cell_type": "markdown",
   "metadata": {},
   "source": [
    "为了更可能多的找到阳性类别, 应该减少阳性类别的成立条件, 即减少决策函数的阈值;  \n",
    "模型最好是不会放过任何一个阳性类别, 使混淆矩阵的左下角元素永远为0最好;"
   ]
  },
  {
   "cell_type": "markdown",
   "metadata": {},
   "source": [
    "如何减少决策函数的阈值:"
   ]
  },
  {
   "cell_type": "code",
   "execution_count": 39,
   "metadata": {},
   "outputs": [
    {
     "name": "stdout",
     "output_type": "stream",
     "text": [
      "             precision    recall  f1-score   support\n",
      "\n",
      "          0       1.00      0.82      0.90       104\n",
      "          1       0.32      1.00      0.49         9\n",
      "\n",
      "avg / total       0.95      0.83      0.87       113\n",
      "\n"
     ]
    }
   ],
   "source": [
    "y_pred_lower_threshold = svc.decision_function(X_test)>-.8\n",
    "# 查看模型减少df阈值之后的分类报告\n",
    "print(classification_report(y_test,y_pred_lower_threshold))"
   ]
  },
  {
   "cell_type": "markdown",
   "metadata": {},
   "source": [
    "> 类别1的召回率增大(假反例个数减少), 准确率减少(假正例个数增多);    \n",
    "由此可见, 改变决策函数阈值是得到更好结果的最简单方法;"
   ]
  },
  {
   "cell_type": "markdown",
   "metadata": {},
   "source": [
    "对于有pp方法的模型来说, 将其阈值由0.5变为0.4, 可以让模型做出更多关于正类的预测(更少的假反例);"
   ]
  },
  {
   "cell_type": "markdown",
   "metadata": {},
   "source": [
    "#### 准确率-召回率曲线"
   ]
  },
  {
   "cell_type": "markdown",
   "metadata": {},
   "source": [
    "**改变模型中分类决策的阈值, 其实是在该类别的召回率和准确度之间做一个折中**;  \n",
    "* 如果将所有数据点的类别都预测为正类别, 那么正类别的召回率将是1, 但是模型在此时又变的毫无意义;   \n",
    "* 因此, 在增大召回率(减少阈值)的同时, 必须保证模型有一定程度的准确率才行, 因此阈值不能无限度的减少, 必须设置一个合理的阈值才可以;  \n",
    "\n",
    "对分类器设置要求(比如90%的召回率), 称为设置**工作点**;  \n",
    "**准确率召回率曲线**: 工作点改变时, 准确率和召回率会同时发生变化, 两者之间的变化曲线称为**准召曲线**;"
   ]
  },
  {
   "cell_type": "markdown",
   "metadata": {},
   "source": [
    "准召曲线的绘制: "
   ]
  },
  {
   "cell_type": "code",
   "execution_count": 40,
   "metadata": {},
   "outputs": [],
   "source": [
    "from sklearn.metrics import precision_recall_curve\n",
    "precision,recall,thresholds = precision_recall_curve(\n",
    "                            y_test, svc.decision_function(X_test) )"
   ]
  },
  {
   "cell_type": "markdown",
   "metadata": {},
   "source": [
    "> 准召函数的结构:\n",
    "* `准召函数的输入`参数有两个: `真实标签`和`预测的不确定度`;  \n",
    "* `准召函数的输出`是一个包含3个列表的元组, 第一个列表表示准确度, 第二个列表表示召回率;    \n",
    "* **第三个列表表示所有可能的阈值: 在决策函数中出现的所有值, 都可以作为决策函数的阈值**;"
   ]
  },
  {
   "cell_type": "code",
   "execution_count": 41,
   "metadata": {},
   "outputs": [
    {
     "data": {
      "image/png": "[encoded data removed]",
      "text/plain": [
       "<Figure size 432x288 with 1 Axes>"
      ]
     },
     "metadata": {},
     "output_type": "display_data"
    }
   ],
   "source": [
    "# 使用更多数据点得到更加平滑的曲线\n",
    "X, y = make_blobs(n_samples=(4000, 500), centers=2,\n",
    "                                        cluster_std=[7.0, 2],random_state=22)\n",
    "X_train, X_test, y_train, y_test = train_test_split(X, y, random_state=0)\n",
    "svc = SVC(gamma=.05).fit(X_train, y_train)\n",
    "\n",
    "precision, recall, thresholds = precision_recall_curve(\n",
    "                                        y_test,svc.decision_function(X_test))\n",
    "# 最小阈值所对应的点\n",
    "close_min = np.argmin(thresholds)\n",
    "plt.plot(precision[close_min], recall[close_min], '^', markersize=10,\n",
    "                     label=\"threshold min\", fillstyle=\"none\", c='k', mew=2)\n",
    "# 找到最接近于0的阈值\n",
    "close_zero = np.argmin(np.abs(thresholds))\n",
    "plt.plot(precision[close_zero], recall[close_zero], 'o', markersize=10,\n",
    "                     label=\"threshold zero\", fillstyle=\"none\", c='r', mew=2)\n",
    "# 准召曲线\n",
    "plt.plot(precision, recall, 'b', label=\"precision recall curve\")\n",
    "plt.xlabel(\"Precision\")\n",
    "plt.ylabel(\"Recall\")\n",
    "plt.legend(loc=\"best\")\n",
    "plt.grid(True)"
   ]
  },
  {
   "cell_type": "markdown",
   "metadata": {},
   "source": [
    "> * 曲线越靠近右上角, 分类器的性能越好, 准确率和召回率都很高;  \n",
    "* 左三角表示阈值最低的点, 此时所有样本都被划分为正类;    \n",
    "* 左三角向右移动, 代表阈值增加, 可以使模型(对于正类而言)的召回率减小而准确率增大;  \n",
    "* 模型位于最佳的阈值点(该阈值点下, 准确率和召回率之间的乘积最大)时, 模型的准确率为50%, 但是召回率可以达到90%;"
   ]
  },
  {
   "cell_type": "markdown",
   "metadata": {},
   "source": [
    "使用准召曲线评价两个模型的优劣:"
   ]
  },
  {
   "cell_type": "code",
   "execution_count": 42,
   "metadata": {},
   "outputs": [
    {
     "data": {
      "text/plain": [
       "<matplotlib.legend.Legend at 0x29932871da0>"
      ]
     },
     "execution_count": 42,
     "metadata": {},
     "output_type": "execute_result"
    },
    {
     "data": {
      "image/png": "[encoded data removed]",
      "text/plain": [
       "<Figure size 432x288 with 1 Axes>"
      ]
     },
     "metadata": {},
     "output_type": "display_data"
    }
   ],
   "source": [
    "from sklearn.ensemble import RandomForestClassifier\n",
    "\n",
    "rf = RandomForestClassifier(n_estimators=100, random_state=0, max_features=2)\n",
    "rf.fit(X_train, y_train)\n",
    "\n",
    "#随机森林模型使用pp作为决策函数, 第二个参数应该是正类的决策性度量\n",
    "precision_rf, recall_rf, thresholds_rf = precision_recall_curve(\n",
    "                                y_test, rf.predict_proba(X_test)[:, 1])\n",
    "plt.plot(precision, recall, 'b', label=\"svc\")\n",
    "plt.plot(precision[close_zero], recall[close_zero], 'o', markersize=10,\n",
    "                 label=\"threshold zero svc\", fillstyle=\"none\", c='r', mew=2)\n",
    "\n",
    "plt.plot(precision_rf, recall_rf, 'g', label=\"rf\")\n",
    "close_default_rf = np.argmin(np.abs(thresholds_rf - 0.5))\n",
    "plt.plot(precision_rf[close_default_rf], recall_rf[close_default_rf], '^', c='r',\n",
    "                 markersize=10, label=\"threshold 0.5 rf\", fillstyle=\"none\", mew=2)\n",
    "ax = plt.gca()\n",
    "ax.set_xlabel(\"Precision\")\n",
    "ax.set_xlabel(\"Recall\")\n",
    "plt.legend(loc=\"best\")"
   ]
  },
  {
   "cell_type": "markdown",
   "metadata": {},
   "source": [
    "> 显然, 模型的优劣受到阈值的影响 \n",
    "根据两条曲线的交点将两条曲线分成三段, 第一段表示模型rf在此阈值范围内的性能高于svc; 在第二段, 而模型svc的性能高于模型rf;  \n",
    "而单纯依靠f1分数得出的模型优劣看不出这种分段性质;  "
   ]
  },
  {
   "cell_type": "markdown",
   "metadata": {},
   "source": [
    "两个模型的优劣受到阈值的影响:"
   ]
  },
  {
   "cell_type": "code",
   "execution_count": 43,
   "metadata": {},
   "outputs": [
    {
     "name": "stdout",
     "output_type": "stream",
     "text": [
      "f1_score of random forest: 0.610\n",
      "f1_score of svc: 0.656\n"
     ]
    }
   ],
   "source": [
    "print(\"f1_score of random forest: {:.3f}\".format(\n",
    "    f1_score(y_test, rf.predict(X_test))))\n",
    "print(\"f1_score of svc: {:.3f}\".format(f1_score(y_test, svc.predict(X_test))))"
   ]
  },
  {
   "cell_type": "markdown",
   "metadata": {},
   "source": [
    ">svc的f分数高于rf的f分数表示, 表示svc模型的性能好于rf, 这其实是在默认阈值处两个模型的相对优劣;   \n",
    "改变模型阈值, 这种这种断论就不一定正确了; 因为模型的好坏会受到阈值的影响;"
   ]
  },
  {
   "cell_type": "markdown",
   "metadata": {},
   "source": [
    "使用平均准确率评价两个模型的优劣: "
   ]
  },
  {
   "cell_type": "code",
   "execution_count": 44,
   "metadata": {},
   "outputs": [
    {
     "name": "stdout",
     "output_type": "stream",
     "text": [
      "Average precision of random forest: 0.660\n",
      "Average precision of svc: 0.666\n"
     ]
    }
   ],
   "source": [
    "from sklearn.metrics import average_precision_score\n",
    "ap_rf = average_precision_score(y_test, rf.predict_proba(X_test)[:, 1])\n",
    "ap_svc = average_precision_score(y_test, svc.decision_function(X_test))\n",
    "print(\"Average precision of random forest: {:.3f}\".format(ap_rf))\n",
    "print(\"Average precision of svc: {:.3f}\".format(ap_svc))"
   ]
  },
  {
   "cell_type": "markdown",
   "metadata": {},
   "source": [
    "> 准召曲线下的面积叫做**平均准确率**;  \n",
    "* 计算平均准确率的函数的参数, 与计算准召曲线的函数的参数一致;  \n",
    "* average_precision_score()的参数与precision_recall_curve()的参数一致;"
   ]
  },
  {
   "cell_type": "markdown",
   "metadata": {},
   "source": [
    "#### 受试者工作特征(ROC)与AUC"
   ]
  },
  {
   "cell_type": "markdown",
   "metadata": {},
   "source": [
    "**ROC曲线**: 受试者工作特征曲线, 也可以分析不同阈值下分类器的行为;  \n",
    "**假正例率**: 假正例占所有反例样本的比例;   \n",
    "**真正例率**: 真正例占所有正例样本的比例; 就是召回率;  \n",
    "ROC曲线就是召回率与假正例率之间的曲线; 将其理解为准召曲线的变形即可;  "
   ]
  },
  {
   "cell_type": "markdown",
   "metadata": {},
   "source": [
    "绘制ROC曲线:"
   ]
  },
  {
   "cell_type": "code",
   "execution_count": 45,
   "metadata": {},
   "outputs": [
    {
     "data": {
      "text/plain": [
       "<matplotlib.legend.Legend at 0x299328e89b0>"
      ]
     },
     "execution_count": 45,
     "metadata": {},
     "output_type": "execute_result"
    },
    {
     "data": {
      "image/png": "[encoded data removed]",
      "text/plain": [
       "<Figure size 432x288 with 1 Axes>"
      ]
     },
     "metadata": {},
     "output_type": "display_data"
    }
   ],
   "source": [
    "from sklearn.metrics import roc_curve\n",
    "fpr, tpr, thresholds = roc_curve(y_test, svc.decision_function(X_test))\n",
    "plt.plot(fpr, tpr, label=\"ROC Cururve\")\n",
    "plt.xlabel = (\"FPR\")\n",
    "plt.ylabel=(\"TPR(recall)\")\n",
    "# 找到最接近于0的阈值\n",
    "close_zero = np.argmin( np.abs(thresholds))\n",
    "plt.plot(fpr[close_zero],tpr[close_zero],'o', markersize=10,\n",
    "        label=\"thresholds zero\", fillstyle=\"none\", c='k',mew=2)\n",
    "plt.legend(loc=4)"
   ]
  },
  {
   "cell_type": "markdown",
   "metadata": {},
   "source": [
    "> 理想的ROC曲线应尽可能的靠近左上角, 分类器的召回率很高, 同时假正例率很低;  \n",
    "最佳阈值处: 召回率0.9, 假正例率0.2;"
   ]
  },
  {
   "cell_type": "markdown",
   "metadata": {},
   "source": [
    "不同模型的ROC曲线对比:"
   ]
  },
  {
   "cell_type": "code",
   "execution_count": 46,
   "metadata": {},
   "outputs": [
    {
     "data": {
      "text/plain": [
       "<matplotlib.legend.Legend at 0x29932a7ce48>"
      ]
     },
     "execution_count": 46,
     "metadata": {},
     "output_type": "execute_result"
    },
    {
     "data": {
      "image/png": "[encoded data removed]",
      "text/plain": [
       "<Figure size 432x288 with 1 Axes>"
      ]
     },
     "metadata": {},
     "output_type": "display_data"
    }
   ],
   "source": [
    "fpr_rf, tpr_rf, thresholds_rf = roc_curve(y_test, rf.predict_proba(X_test)[:, 1])\n",
    "\n",
    "plt.plot(fpr, tpr,\"g\", label=\"ROC Curve SVC\")\n",
    "plt.plot(fpr_rf, tpr_rf, \"b\", label=\"ROC Curve RF\")\n",
    "\n",
    "plt.plot(fpr[close_zero], tpr[close_zero], 'o', markersize=10,\n",
    "                 label=\"threshold zero SVC\", fillstyle=\"none\", c='k', mew=2)\n",
    "close_default_rf = np.argmin(np.abs(thresholds_rf - 0.5))\n",
    "plt.plot(fpr_rf[close_default_rf], tpr[close_default_rf], '^', markersize=10,\n",
    "                 label=\"threshold 0.5 RF\", fillstyle=\"none\", c='k', mew=2)\n",
    "ax = plt.gca()\n",
    "ax.set_xlabel(\"FPR\")\n",
    "ax.set_ylabel(\"TPR (recall)\")\n",
    "plt.legend(loc=4)"
   ]
  },
  {
   "cell_type": "markdown",
   "metadata": {},
   "source": [
    "**AUC**: ROC曲线下的面积称为AUC; 通过roc_auc_score()函数计算;"
   ]
  },
  {
   "cell_type": "code",
   "execution_count": 47,
   "metadata": {},
   "outputs": [
    {
     "name": "stdout",
     "output_type": "stream",
     "text": [
      "AUC for Random Forest: 0.937\n",
      "AUC for SVC: 0.916\n"
     ]
    }
   ],
   "source": [
    "from sklearn.metrics import roc_auc_score\n",
    "\n",
    "rf_auc = roc_auc_score(y_test, rf.predict_proba(X_test)[:, 1])\n",
    "svc_auc = roc_auc_score(y_test, svc.decision_function(X_test))\n",
    "\n",
    "print(\"AUC for Random Forest: {:.3f}\".format(rf_auc))\n",
    "print(\"AUC for SVC: {:.3f}\".format(svc_auc))"
   ]
  },
  {
   "cell_type": "markdown",
   "metadata": {},
   "source": [
    "> 使用ROC曲线的roc_auc_score得分, 比使用准召曲线的average_precision_score得分, 会使分数更接近于1;  \n",
    "\n",
    "> auc分数是一个比精度好的多的指标? @auc分数的实际含义?  \n",
    "* 不管数据集多么不平衡, 随机预测的auc总是等于0.5;  \n",
    "* auc分数=1, 所有正类点的分数高于所有反类点的分数;\n",
    "* auc可以解释为`评估正例样本的等级`;\n"
   ]
  },
  {
   "cell_type": "markdown",
   "metadata": {},
   "source": [
    "在digits不平衡数据集上用三种Gamma参数拟合SVM模型:"
   ]
  },
  {
   "cell_type": "code",
   "execution_count": 48,
   "metadata": {},
   "outputs": [
    {
     "name": "stdout",
     "output_type": "stream",
     "text": [
      "gamma = 0.36  accuracy = 0.90  AUC = 0.50\n",
      "gamma = 0.12  accuracy = 0.90  AUC = 0.90\n",
      "gamma = 0.06  accuracy = 0.90  AUC = 1.00\n"
     ]
    },
    {
     "data": {
      "text/plain": [
       "<matplotlib.legend.Legend at 0x29932ad4a90>"
      ]
     },
     "execution_count": 48,
     "metadata": {},
     "output_type": "execute_result"
    },
    {
     "data": {
      "image/png": "[encoded data removed]",
      "text/plain": [
       "<Figure size 432x288 with 1 Axes>"
      ]
     },
     "metadata": {},
     "output_type": "display_data"
    }
   ],
   "source": [
    "y = digits.target == 9\n",
    "X_train, X_test, y_train, y_test = train_test_split(\n",
    "                        digits.data, y, random_state=0)\n",
    "plt.figure()\n",
    "brc = ['g','k','r--',]\n",
    "for i, gamma in enumerate([0.36, 0.12, 0.06]):\n",
    "    svc = SVC(gamma=gamma).fit(X_train, y_train)\n",
    "    accuracy = svc.score(X_test, y_test)\n",
    "    auc = roc_auc_score(y_test, svc.decision_function(X_test))\n",
    "    fpr, tpr, _ = roc_curve(y_test , svc.decision_function(X_test))\n",
    "    plt.plot(fpr, tpr, brc[i], label=\"gamma={:.3f}\".format(gamma))\n",
    "\n",
    "    print(\"gamma = {:.2f}  accuracy = {:.2f}  AUC = {:.2f}\".format(\n",
    "                                                    gamma, accuracy, auc))\n",
    "ax = plt.gca()\n",
    "ax.set_xlabel(\"FPR\")\n",
    "ax.set_ylabel(\"TPR\")\n",
    "ax.set_xlim(-0.01, 1)\n",
    "ax.set_ylim(0, 1.02)\n",
    "plt.legend(loc=\"best\")"
   ]
  },
  {
   "cell_type": "markdown",
   "metadata": {},
   "source": [
    "> 如果用`精度`评价模型, 会得到模型与参数无关的结论;  \n",
    "但是查看ROC曲线和auc值就会发现其实模型与参数是相关的;  "
   ]
  },
  {
   "cell_type": "markdown",
   "metadata": {},
   "source": [
    "### 多分类指标"
   ]
  },
  {
   "cell_type": "markdown",
   "metadata": {},
   "source": [
    "多分类问题的混淆矩阵:"
   ]
  },
  {
   "cell_type": "code",
   "execution_count": 49,
   "metadata": {},
   "outputs": [
    {
     "name": "stdout",
     "output_type": "stream",
     "text": [
      "Accuracy: 0.953\n",
      "Confusion matrix:\n",
      "[[37  0  0  0  0  0  0  0  0  0]\n",
      " [ 0 39  0  0  0  0  2  0  2  0]\n",
      " [ 0  0 41  3  0  0  0  0  0  0]\n",
      " [ 0  0  1 43  0  0  0  0  0  1]\n",
      " [ 0  0  0  0 38  0  0  0  0  0]\n",
      " [ 0  1  0  0  0 47  0  0  0  0]\n",
      " [ 0  0  0  0  0  0 52  0  0  0]\n",
      " [ 0  1  0  1  1  0  0 45  0  0]\n",
      " [ 0  3  1  0  0  0  0  0 43  1]\n",
      " [ 0  0  0  1  0  1  0  0  1 44]]\n"
     ]
    }
   ],
   "source": [
    "from sklearn.metrics import accuracy_score\n",
    "X_train, X_test, y_train, y_test = train_test_split(\n",
    "    digits.data, digits.target, random_state=0)\n",
    "lr = LogisticRegression().fit(X_train, y_train)\n",
    "pred = lr.predict(X_test)\n",
    "print(\"Accuracy: {:.3f}\".format(accuracy_score(y_test, pred)))\n",
    "# print(\"Accuracy: {:.3f}\".format(lr.score(X_test,y_test)))\n",
    "print(\"Confusion matrix:\\n{}\".format(confusion_matrix(y_test, pred)))"
   ]
  },
  {
   "cell_type": "markdown",
   "metadata": {},
   "source": [
    "带索引标签的混淆矩阵:"
   ]
  },
  {
   "cell_type": "code",
   "execution_count": 50,
   "metadata": {
    "scrolled": true
   },
   "outputs": [
    {
     "data": {
      "image/png": "[encoded data removed]",
      "text/plain": [
       "<Figure size 432x288 with 1 Axes>"
      ]
     },
     "metadata": {},
     "output_type": "display_data"
    }
   ],
   "source": [
    "scores_image = mglearn.tools.heatmap(\n",
    "            confusion_matrix(y_test, pred), xlabel='Predicted label',\n",
    "            ylabel='True label', xticklabels=digits.target_names,\n",
    "            yticklabels=digits.target_names, cmap=plt.cm.gray_r, fmt=\"%d\")\n",
    "plt.title(\"Confusion matrix\")\n",
    "plt.gca().invert_yaxis()"
   ]
  },
  {
   "cell_type": "code",
   "execution_count": 51,
   "metadata": {},
   "outputs": [
    {
     "data": {
      "text/plain": [
       "[(0, 37), (1, 43), (2, 44), (3, 45), (4, 38)]"
      ]
     },
     "execution_count": 51,
     "metadata": {},
     "output_type": "execute_result"
    }
   ],
   "source": [
    "# 原始数据集中的类别及所包含的样本个数: \n",
    "list(zip( list(range(10)),np.bincount(y_test)))[:5]"
   ]
  },
  {
   "cell_type": "markdown",
   "metadata": {},
   "source": [
    "混淆矩阵的结构:   \n",
    "* row1: 模型将类别0的37个点都预测为了类别0;   \n",
    "    * 模型没有将其他类别的点预测为类别0;  \n",
    "\n",
    "* row2: 模型将类别1的39个点预测为类别1, 将类别1的2个点预测成了类别6, 将类别1的另外2个点预测成了类别8, 类别1总计有43个点;  \n",
    "    * 并且, 模型将类别5的的一个点错误的预测成了类别1, 将类别8的3个点错误的预测成了类别1;\n"
   ]
  },
  {
   "cell_type": "markdown",
   "metadata": {},
   "source": [
    "多分类问题的分类报告:"
   ]
  },
  {
   "cell_type": "code",
   "execution_count": 52,
   "metadata": {
    "scrolled": false
   },
   "outputs": [
    {
     "name": "stdout",
     "output_type": "stream",
     "text": [
      "             precision    recall  f1-score   support\n",
      "\n",
      "          0       1.00      1.00      1.00        37\n",
      "          1       0.89      0.91      0.90        43\n",
      "          2       0.95      0.93      0.94        44\n",
      "          3       0.90      0.96      0.92        45\n",
      "          4       0.97      1.00      0.99        38\n",
      "          5       0.98      0.98      0.98        48\n",
      "          6       0.96      1.00      0.98        52\n",
      "          7       1.00      0.94      0.97        48\n",
      "          8       0.93      0.90      0.91        48\n",
      "          9       0.96      0.94      0.95        47\n",
      "\n",
      "avg / total       0.95      0.95      0.95       450\n",
      "\n"
     ]
    }
   ],
   "source": [
    "print(classification_report(y_test, pred))"
   ]
  },
  {
   "cell_type": "markdown",
   "metadata": {},
   "source": [
    "> * 类别0的准确率和召回率都是1, 因为这个类别没有混淆;  \n",
    "* 类别6(行向量全是0)没有假反例, 所以其召回率为1;  \n",
    "* 类别7(列向量全是0)没有真反例, 所以其准确率为1;"
   ]
  },
  {
   "cell_type": "markdown",
   "metadata": {},
   "source": [
    "多分类版本的f分数:  \n",
    "* 对应每个类别计算一个二分类的f分数, 其中该类别是正类, 其他所有类别是反类, 然后使用下属策略对这些类别进行平均;  \n",
    "* 宏平均(macro): 将每个类别等同看待, 直接计算`f1-score`的平均\n",
    "* 加权平均(weighted): 以每个类别的`support`为权重(类别个数)计算f分数的平均值;分类报告 最后一行的f分数便是;  \n",
    "* 微平均(micro): 将每个样本等同看待, 平均值与假正例, 假反例, 和真正例的总是有关;"
   ]
  },
  {
   "cell_type": "code",
   "execution_count": 53,
   "metadata": {},
   "outputs": [
    {
     "name": "stdout",
     "output_type": "stream",
     "text": [
      "Micro average f1 score: 0.953\n",
      "Macro average f1 score: 0.954\n"
     ]
    }
   ],
   "source": [
    "print(\"Micro average f1 score: {:.3f}\".format(\n",
    "    f1_score(y_test, pred, average=\"micro\")))\n",
    "print(\"Macro average f1 score: {:.3f}\".format(\n",
    "    f1_score(y_test, pred, average=\"macro\")))"
   ]
  },
  {
   "cell_type": "markdown",
   "metadata": {},
   "source": [
    "### 回归指标"
   ]
  },
  {
   "cell_type": "markdown",
   "metadata": {},
   "source": [
    "对于回归问题而言, 可以像分类问题一样进行详细评估;  \n",
    "但是对于大多数的回归问题而言, 使用默认的$R^2$就够了;"
   ]
  },
  {
   "cell_type": "markdown",
   "metadata": {},
   "source": [
    "### 在模型选择中使用评估指标"
   ]
  },
  {
   "cell_type": "markdown",
   "metadata": {},
   "source": [
    "在GridSearchCV或cross_val_score中提供了用于改变模型指标的参数scoring;  \n",
    "参数的可选值可以在模块metrics.scorer的SCORER字典中查看;"
   ]
  },
  {
   "cell_type": "code",
   "execution_count": 54,
   "metadata": {},
   "outputs": [
    {
     "name": "stdout",
     "output_type": "stream",
     "text": [
      "Available scorers:\n",
      "['accuracy', 'adjusted_mutual_info_score', 'adjusted_rand_score', 'average_precision', 'completeness_score', 'explained_variance', 'f1', 'f1_macro', 'f1_micro', 'f1_samples', 'f1_weighted', 'fowlkes_mallows_score', 'homogeneity_score', 'log_loss', 'mean_absolute_error', 'mean_squared_error', 'median_absolute_error', 'mutual_info_score', 'neg_log_loss', 'neg_mean_absolute_error', 'neg_mean_squared_error', 'neg_mean_squared_log_error', 'neg_median_absolute_error', 'normalized_mutual_info_score', 'precision', 'precision_macro', 'precision_micro', 'precision_samples', 'precision_weighted', 'r2', 'recall', 'recall_macro', 'recall_micro', 'recall_samples', 'recall_weighted', 'roc_auc', 'v_measure_score']\n"
     ]
    }
   ],
   "source": [
    "from sklearn.metrics.scorer import SCORERS\n",
    "print(\"Available scorers:\\n{}\".format(sorted(SCORERS.keys())))"
   ]
  },
  {
   "cell_type": "markdown",
   "metadata": {},
   "source": [
    "> 1. 分类问题的评价指标:   \n",
    "    * accuracy: 精度, 默认值;  \n",
    "    * average_precision: 准召曲线下方的面积;  \n",
    "    * roc_auc: ROC曲线下方的面积;  \n",
    "    * f1, f1_macro, f1_micro, f1_samples, f1_weighted: 二分类的f1分数以及多分类的加权变体;   \n",
    "\n",
    "> 2. 回归问题的评价指标;  \n",
    "    * r2: $R^2$分数;  \n",
    "    * mean_squared_error: 均方误差;\n",
    "    * mean_absolute_error: 平均绝对误差;\n"
   ]
  },
  {
   "cell_type": "markdown",
   "metadata": {},
   "source": [
    "改变交叉验证时的评价指标:"
   ]
  },
  {
   "cell_type": "code",
   "execution_count": 55,
   "metadata": {},
   "outputs": [
    {
     "name": "stdout",
     "output_type": "stream",
     "text": [
      "Explicit accuracy scoring: [0.9 0.9 0.9]\n",
      "AUC scoring: [0.99 0.99 1.  ]\n"
     ]
    }
   ],
   "source": [
    "# 分类问题的默认评分指标是精度\n",
    "explicit_accuracy =  cross_val_score(SVC(), digits.data, digits.target == 9,\n",
    "                                     scoring=\"accuracy\")\n",
    "print(\"Explicit accuracy scoring: {}\".format(explicit_accuracy))\n",
    "\n",
    "# 将评分指标改为ROC曲线下的面积: roc_auc\n",
    "roc_auc =  cross_val_score(SVC(), digits.data, digits.target == 9,\n",
    "                           scoring=\"roc_auc\")\n",
    "print(\"AUC scoring: {}\".format(roc_auc))"
   ]
  },
  {
   "cell_type": "markdown",
   "metadata": {},
   "source": [
    "改变网格搜索时的评价指标:"
   ]
  },
  {
   "cell_type": "code",
   "execution_count": 56,
   "metadata": {},
   "outputs": [
    {
     "name": "stdout",
     "output_type": "stream",
     "text": [
      "========== Grid-Search with accuracy ==========\n",
      "Best parameters: {'gamma': 0.0001}\n",
      "Best cross-validation score (accuracy)): 0.970\n",
      "Test set AUC: 0.992\n",
      "Test set accuracy: 0.973\n",
      "\n",
      "============ Grid-Search with AUC ============\n",
      "Best parameters: {'gamma': 0.01}\n",
      "Best cross-validation score (AUC): 0.997\n",
      "Test set AUC: 1.000\n",
      "Test set accuracy: 1.000\n"
     ]
    }
   ],
   "source": [
    "X_train, X_test, y_train, y_test = train_test_split(\n",
    "    digits.data, digits.target == 9, random_state=0)\n",
    "\n",
    "param_grid = {'gamma': [0.0001, 0.01, 0.1, 1, 10]}\n",
    "\n",
    "# 使用默认的精度指标\n",
    "grid = GridSearchCV(SVC(), param_grid=param_grid)\n",
    "grid.fit(X_train, y_train)\n",
    "\n",
    "print('='*10,\"Grid-Search with accuracy\",'='*10)\n",
    "print(\"Best parameters:\", grid.best_params_)\n",
    "print(\"Best cross-validation score (accuracy)): {:.3f}\".format(grid.best_score_))\n",
    "print(\"Test set AUC: {:.3f}\".format(\n",
    "                        roc_auc_score(y_test, grid.decision_function(X_test))))\n",
    "print(\"Test set accuracy: {:.3f}\".format(grid.score(X_test, y_test)))\n",
    "\n",
    "# 使用roc_auc指标\n",
    "grid = GridSearchCV(SVC(), param_grid=param_grid, scoring=\"roc_auc\")\n",
    "grid.fit(X_train, y_train)\n",
    "\n",
    "print()\n",
    "print('='*12, \"Grid-Search with AUC\",'='*12)\n",
    "print(\"Best parameters:\", grid.best_params_)\n",
    "print(\"Best cross-validation score (AUC): {:.3f}\".format(grid.best_score_))\n",
    "print(\"Test set AUC: {:.3f}\".format(\n",
    "                        roc_auc_score(y_test, grid.decision_function(X_test))))\n",
    "print(\"Test set accuracy: {:.3f}\".format(grid.score(X_test, y_test)))"
   ]
  },
  {
   "cell_type": "markdown",
   "metadata": {},
   "source": [
    "## 小结与展望"
   ]
  },
  {
   "cell_type": "markdown",
   "metadata": {},
   "source": [
    "1. **交叉验证**: 分析数据集的划分对模型的影响程度;   \n",
    "2. **网格搜索**: 分析参数的选择对模型的影响程度, 并给出模型的最佳参数;  \n",
    "3. **带交叉验证的网格搜索**: 会在网格搜索过程中, 以交叉验证的的平均得分作为参数选择的依据, 并且可以直接给出可应用模型而不是简单的给出最佳参数;  \n",
    "4. **模型评估**: 分析评估指标的选择对模型选择的影响, 在分类问题中, 如果数据集的不平衡性很强, 最好选用roc_auc参数作为模型评估的指标, 而对于回归问题, 大多是情况下都用R^2即可; 并且评价指标可以很方便的作为参数传递给GridSearchCV类的scoring参数中,让GSCV模型中评价指标具有更靠的说服力;  \n",
    "5. 需要注意, **测试集只能用于评估模型性能**, 因此必须保证测试集的新颖性, 即不能将测试集用于模型的拟合或者参数的选择当中;"
   ]
  }
 ],
 "metadata": {
  "kernelspec": {
   "display_name": "Python 3",
   "language": "python",
   "name": "python3"
  },
  "language_info": {
   "codemirror_mode": {
    "name": "ipython",
    "version": 3
   },
   "file_extension": ".py",
   "mimetype": "text/x-python",
   "name": "python",
   "nbconvert_exporter": "python",
   "pygments_lexer": "ipython3",
   "version": "3.6.5"
  },
  "toc": {
   "base_numbering": "5",
   "nav_menu": {},
   "number_sections": true,
   "sideBar": true,
   "skip_h1_title": false,
   "title_cell": "Table of Contents",
   "title_sidebar": "Contents",
   "toc_cell": true,
   "toc_position": {
    "height": "calc(100% - 180px)",
    "left": "10px",
    "top": "150px",
    "width": "165px"
   },
   "toc_section_display": true,
   "toc_window_display": true
  }
 },
 "nbformat": 4,
 "nbformat_minor": 2
}

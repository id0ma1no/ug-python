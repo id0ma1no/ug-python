{
 "cells": [
  {
   "cell_type": "code",
   "execution_count": 53,
   "metadata": {
    "collapsed": true
   },
   "outputs": [],
   "source": [
    "import pandas as pd\n",
    "import numpy as np"
   ]
  },
  {
   "cell_type": "markdown",
   "metadata": {},
   "source": [
    "## 时间序列"
   ]
  },
  {
   "cell_type": "markdown",
   "metadata": {},
   "source": [
    "### 时间点、时间段、时间间隔"
   ]
  },
  {
   "cell_type": "markdown",
   "metadata": {},
   "source": [
    "#### Timestamp对象表示时间截"
   ]
  },
  {
   "cell_type": "code",
   "execution_count": 54,
   "metadata": {
    "collapsed": false
   },
   "outputs": [
    {
     "name": "stdout",
     "output_type": "stream",
     "text": [
      "本地时间: 2018-07-10 14:54:36.499000\n",
      "上海时区: 2018-07-10 14:54:36.499000+08:00\n",
      "东京时区: 2018-07-10 15:54:36.499000+09:00\n"
     ]
    }
   ],
   "source": [
    "now = pd.Timestamp.now() #获取当前时间\n",
    "now_shanghai = now.tz_localize(\"Asia/Shanghai\") # 指定时区信息\n",
    "now_tokyo = now_shanghai.tz_convert(\"Asia/Tokyo\") # 转换时区\n",
    "print u\"本地时间:\", now\n",
    "print u\"上海时区:\", now_shanghai\n",
    "print u\"东京时区:\", now_tokyo"
   ]
  },
  {
   "cell_type": "code",
   "execution_count": 55,
   "metadata": {
    "collapsed": false
   },
   "outputs": [
    {
     "data": {
      "text/plain": [
       "True"
      ]
     },
     "execution_count": 55,
     "metadata": {},
     "output_type": "execute_result"
    }
   ],
   "source": [
    "now_shanghai == now_tokyo"
   ]
  },
  {
   "cell_type": "code",
   "execution_count": 56,
   "metadata": {
    "collapsed": false
   },
   "outputs": [],
   "source": [
    "# now == now_tokyo\n",
    "# # 不同时区的时间可以比较本地时间和时区时间无法比较"
   ]
  },
  {
   "cell_type": "markdown",
   "metadata": {},
   "source": [
    " pytz.common_timezones() 获得表示时区的字符串"
   ]
  },
  {
   "cell_type": "code",
   "execution_count": 57,
   "metadata": {
    "collapsed": false
   },
   "outputs": [
    {
     "name": "stdout",
     "output_type": "stream",
     "text": [
      "['Africa/Abidjan',\n",
      " 'Africa/Accra',\n",
      " 'Africa/Addis_Ababa',\n",
      " 'Africa/Algiers',\n",
      "...\n"
     ]
    }
   ],
   "source": [
    "import pytz\n",
    "%omit pytz.common_timezones"
   ]
  },
  {
   "cell_type": "markdown",
   "metadata": {},
   "source": [
    "#### Period 对象表示一个标准的时间段"
   ]
  },
  {
   "cell_type": "code",
   "execution_count": 58,
   "metadata": {
    "collapsed": false
   },
   "outputs": [
    {
     "name": "stdout",
     "output_type": "stream",
     "text": [
      "         now_day                       now_hour           \n",
      "-------------------------  -------------------------------\n",
      "Period('2018-07-10', 'D')  Period('2018-07-10 14:00', 'H')\n"
     ]
    }
   ],
   "source": [
    "now_day = pd.Period.now(freq=\"D\") # 日周期时间段\n",
    "now_hour = pd.Period.now(freq=\"H\") # 小时周期时间段\n",
    "%C now_day; now_hour"
   ]
  },
  {
   "cell_type": "markdown",
   "metadata": {},
   "source": [
    "freq 属性是一个 描述时间段的字符串"
   ]
  },
  {
   "cell_type": "code",
   "execution_count": 59,
   "metadata": {
    "collapsed": false
   },
   "outputs": [
    {
     "data": {
      "text/plain": [
       "['A-JAN', 'A-DEC', 'Q-AUG', 'Q-SEP', 'Q-MAY']"
      ]
     },
     "execution_count": 59,
     "metadata": {},
     "output_type": "execute_result"
    }
   ],
   "source": [
    "from pandas.tseries import frequencies\n",
    "frequencies._period_code_map.keys()[:5]\n",
    "# frequencies._period_alias_dictionary()"
   ]
  },
  {
   "cell_type": "markdown",
   "metadata": {},
   "source": [
    "星期时间段"
   ]
  },
  {
   "cell_type": "code",
   "execution_count": 60,
   "metadata": {
    "collapsed": false
   },
   "outputs": [],
   "source": [
    "# now_week_sun = pd.Period.now(freq=\"W\") \n",
    "# # 以星期天开始的时间段, 但是不包含星期天\n",
    "# # 星期天是7/8, 星期一是7/9, 今天星期二7/10\n",
    "\n",
    "# now_week_mon = pd.Period.now(freq=\"W-MON\")\n",
    "# # 以星期一开始的时间段, 但是不包含星期一\n",
    "\n",
    "# %C now_week_sun; now_week_mon"
   ]
  },
  {
   "cell_type": "markdown",
   "metadata": {},
   "source": [
    "时间段的起点和终点"
   ]
  },
  {
   "cell_type": "code",
   "execution_count": 61,
   "metadata": {
    "collapsed": false
   },
   "outputs": [
    {
     "name": "stdout",
     "output_type": "stream",
     "text": [
      "       now_day.start_time                      now_day.end_time             \n",
      "--------------------------------  ------------------------------------------\n",
      "Timestamp('2018-07-10 00:00:00')  Timestamp('2018-07-10 23:59:59.999999999')\n"
     ]
    }
   ],
   "source": [
    "%C now_day.start_time; now_day.end_time"
   ]
  },
  {
   "cell_type": "markdown",
   "metadata": {},
   "source": [
    "Timestamp对象的to_period()方法可以把时间点转换为包含时间点的时间段"
   ]
  },
  {
   "cell_type": "code",
   "execution_count": 62,
   "metadata": {
    "collapsed": false
   },
   "outputs": [
    {
     "data": {
      "text/plain": [
       "Period('2018-07-10 14:00', 'H')"
      ]
     },
     "execution_count": 62,
     "metadata": {},
     "output_type": "execute_result"
    }
   ],
   "source": [
    "now_shanghai.to_period(\"H\") # 所有的 14:00(-15:00)"
   ]
  },
  {
   "cell_type": "markdown",
   "metadata": {},
   "source": [
    "Tinestamp和Period的对象可以通过其属性获得年月日等信息"
   ]
  },
  {
   "cell_type": "code",
   "execution_count": 63,
   "metadata": {
    "collapsed": false
   },
   "outputs": [
    {
     "data": {
      "text/plain": [
       "Timestamp('2018-07-10 14:54:36.499000')"
      ]
     },
     "execution_count": 63,
     "metadata": {},
     "output_type": "execute_result"
    }
   ],
   "source": [
    "now"
   ]
  },
  {
   "cell_type": "code",
   "execution_count": 64,
   "metadata": {
    "collapsed": false
   },
   "outputs": [
    {
     "name": "stdout",
     "output_type": "stream",
     "text": [
      "now.year  now.month  now.day  now.hour\n",
      "--------  ---------  -------  --------\n",
      "2018      7          10       14      \n"
     ]
    }
   ],
   "source": [
    "%C now.year; now.month; now.day; now.hour"
   ]
  },
  {
   "cell_type": "code",
   "execution_count": 65,
   "metadata": {
    "collapsed": false
   },
   "outputs": [
    {
     "name": "stdout",
     "output_type": "stream",
     "text": [
      "now.dayofweek  now.dayofyear\n",
      "-------------  -------------\n",
      "1              191          \n"
     ]
    }
   ],
   "source": [
    "%C now.dayofweek; now.dayofyear \n",
    "# dayofweek 一周的第几天; dayofyear 一年中的第几天"
   ]
  },
  {
   "cell_type": "markdown",
   "metadata": {},
   "source": [
    "#### Timedelta对象表示时间间隔"
   ]
  },
  {
   "cell_type": "markdown",
   "metadata": {},
   "source": [
    "计算离国庆节还有多少时间"
   ]
  },
  {
   "cell_type": "code",
   "execution_count": 66,
   "metadata": {
    "collapsed": false
   },
   "outputs": [
    {
     "data": {
      "text/plain": [
       "Timedelta('82 days 09:05:22.644000')"
      ]
     },
     "execution_count": 66,
     "metadata": {},
     "output_type": "execute_result"
    }
   ],
   "source": [
    "national_day = pd.Timestamp(\"2018-10-1\") # 定义国庆节的日期\n",
    "td = national_day - pd.Timestamp.now() # 国庆节日期减去现在的日期\n",
    "td"
   ]
  },
  {
   "cell_type": "markdown",
   "metadata": {},
   "source": [
    "pd.Timedelta(\" \") 定义时间间隔对象 "
   ]
  },
  {
   "cell_type": "code",
   "execution_count": 67,
   "metadata": {
    "collapsed": false
   },
   "outputs": [
    {
     "data": {
      "text/plain": [
       "Timestamp('2018-10-21 10:20:30')"
      ]
     },
     "execution_count": 67,
     "metadata": {},
     "output_type": "execute_result"
    }
   ],
   "source": [
    "national_day + pd.Timedelta(\"20 days 10:20:30\") "
   ]
  },
  {
   "cell_type": "code",
   "execution_count": 68,
   "metadata": {
    "collapsed": false
   },
   "outputs": [
    {
     "name": "stdout",
     "output_type": "stream",
     "text": [
      "td.days  td.seconds  td.microseconds\n",
      "-------  ----------  ---------------\n",
      "82L      32722L      644000L        \n"
     ]
    }
   ],
   "source": [
    "%C td.days; td.seconds; td.microseconds\n",
    "# 时间间隔的天数,秒数,微秒数,纳秒数\n",
    "# 9*60*60 + 7*60 + 46 =32866 s 剩余的秒数不是总秒数"
   ]
  },
  {
   "cell_type": "markdown",
   "metadata": {},
   "source": [
    "关键字参数直接指定时间间隔"
   ]
  },
  {
   "cell_type": "code",
   "execution_count": 69,
   "metadata": {
    "collapsed": false
   },
   "outputs": [
    {
     "name": "stdout",
     "output_type": "stream",
     "text": [
      "10 days 01:02:10.500000\n",
      "1 days 03:46:40\n"
     ]
    }
   ],
   "source": [
    "print pd.Timedelta(days=10, hours=1, minutes=2, seconds=10.5)\n",
    "print pd.Timedelta(seconds=100000)"
   ]
  },
  {
   "cell_type": "markdown",
   "metadata": {},
   "source": [
    "### 时间序列"
   ]
  },
  {
   "cell_type": "markdown",
   "metadata": {},
   "source": [
    "Timestamp对象, Period对象, Timedelta对象 可以表示索引标签"
   ]
  },
  {
   "cell_type": "code",
   "execution_count": 76,
   "metadata": {
    "collapsed": false
   },
   "outputs": [
    {
     "data": {
      "text/plain": [
       "DatetimeIndex(['2015-01-01 00:00:00', '2015-01-01 01:00:00',\n",
       "               '2015-01-01 02:00:00', '2015-01-01 03:00:00',\n",
       "               '2015-01-01 04:00:00', '2015-01-01 05:00:00',\n",
       "               '2015-01-01 06:00:00', '2015-01-01 07:00:00',\n",
       "               '2015-01-01 08:00:00', '2015-01-01 09:00:00',\n",
       "               '2015-01-01 10:00:00', '2015-01-01 11:00:00',\n",
       "               '2015-01-01 12:00:00', '2015-01-01 13:00:00',\n",
       "               '2015-01-01 14:00:00', '2015-01-01 15:00:00',\n",
       "               '2015-01-01 16:00:00', '2015-01-01 17:00:00',\n",
       "               '2015-01-01 18:00:00', '2015-01-01 19:00:00',\n",
       "               '2015-01-01 20:00:00', '2015-01-01 21:00:00',\n",
       "               '2015-01-01 22:00:00', '2015-01-01 23:00:00',\n",
       "               '2015-01-02 00:00:00'],\n",
       "              dtype='datetime64[ns]', freq='H', tz=None)"
      ]
     },
     "execution_count": 76,
     "metadata": {},
     "output_type": "execute_result"
    }
   ],
   "source": [
    "pd.date_range(\"2015-01-01\", \"2015-01-2\", freq=\"H\")"
   ]
  },
  {
   "cell_type": "markdown",
   "metadata": {},
   "source": [
    "创建时间索引对象"
   ]
  },
  {
   "cell_type": "code",
   "execution_count": 80,
   "metadata": {
    "collapsed": false
   },
   "outputs": [
    {
     "name": "stdout",
     "output_type": "stream",
     "text": [
      "DatetimeIndex(['2015-01-15 16:12:00', '2015-02-15 08:04:00',\n",
      "               '2015-02-28 12:30:00', '2015-08-06 02:40:00',\n",
      "               '2015-08-18 13:13:00'],\n",
      "              dtype='datetime64[ns]', freq=None, tz=None) \n",
      "\n",
      "PeriodIndex(['2015-01', '2015-02', '2015-02', '2015-08', '2015-08'], dtype='int64', freq='M') \n",
      "\n",
      "TimedeltaIndex(['30 days 15:52:00', '13 days 04:26:00', '158 days 14:10:00',\n",
      "                '12 days 10:33:00'],\n",
      "               dtype='timedelta64[ns]', freq=None) \n",
      "\n"
     ]
    }
   ],
   "source": [
    "def random_timestamps(start, end, freq, count):\n",
    "    \"\"\" 创建n个随机时间点的DatetimeIndex对象\"\"\"\n",
    "    index = pd.date_range(start, end, freq=freq)\n",
    "    # 起始时间, 终止时间和时间精度\n",
    "    \n",
    "    np.random.seed(42)\n",
    "\n",
    "    # len(index) 远远大于5(可能是500), \n",
    "    locations = np.random.choice(np.arange(len(index)), size=count, replace=False)\n",
    "    locations.sort()    # 从这500个时间点对应的索引中随机取出5个索引    \n",
    "    return index[locations]\n",
    "\n",
    "ts_index = random_timestamps(\"2015-01-01\", \"2015-10-01\", freq=\"Min\", count=5)\n",
    "\n",
    "pd_index = ts_index.to_period(\"M\")\n",
    "\n",
    "td_index = pd.TimedeltaIndex(np.diff(ts_index))\n",
    "\n",
    "print ts_index, \"\\n\"\n",
    "print pd_index, \"\\n\"\n",
    "print td_index, \"\\n\""
   ]
  },
  {
   "cell_type": "markdown",
   "metadata": {},
   "source": [
    "三种索引对象的dtype属性"
   ]
  },
  {
   "cell_type": "code",
   "execution_count": 78,
   "metadata": {
    "collapsed": false
   },
   "outputs": [
    {
     "name": "stdout",
     "output_type": "stream",
     "text": [
      " ts_index.dtype   pd_index.dtype   td_index.dtype \n",
      "----------------  --------------  ----------------\n",
      "dtype('<M8[ns]')  dtype('int64')  dtype('<m8[ns]')\n"
     ]
    }
   ],
   "source": [
    "%C ts_index.dtype; pd_index.dtype; td_index.dtype"
   ]
  },
  {
   "cell_type": "markdown",
   "metadata": {},
   "source": [
    "三种索引对象与时间相关的属性"
   ]
  },
  {
   "cell_type": "code",
   "execution_count": 82,
   "metadata": {
    "collapsed": false
   },
   "outputs": [
    {
     "name": "stdout",
     "output_type": "stream",
     "text": [
      "ts_index.weekday   pd_index.month        td_index.seconds      \n",
      "----------------  ---------------  ----------------------------\n",
      "[3, 6, 5, 3, 1]   [1, 2, 2, 8, 8]  [57120, 15960, 51000, 37980]\n"
     ]
    }
   ],
   "source": [
    "%C ts_index.weekday; pd_index.month; td_index.seconds"
   ]
  },
  {
   "cell_type": "markdown",
   "metadata": {},
   "source": [
    "shift属性可以移动时间点"
   ]
  },
  {
   "cell_type": "code",
   "execution_count": 86,
   "metadata": {
    "collapsed": false
   },
   "outputs": [
    {
     "data": {
      "text/plain": [
       "DatetimeIndex(['2015-01-15 17:12:00', '2015-02-15 09:04:00',\n",
       "               '2015-02-28 13:30:00', '2015-08-06 03:40:00',\n",
       "               '2015-08-18 14:13:00'],\n",
       "              dtype='datetime64[ns]', freq=None, tz=None)"
      ]
     },
     "execution_count": 86,
     "metadata": {},
     "output_type": "execute_result"
    }
   ],
   "source": [
    "ts_index.shift(1, \"H\") # 每个时间点多加一小时"
   ]
  },
  {
   "cell_type": "code",
   "execution_count": 88,
   "metadata": {
    "collapsed": false
   },
   "outputs": [
    {
     "data": {
      "text/plain": [
       "DatetimeIndex(['2015-01-31 16:12:00', '2015-02-28 08:04:00',\n",
       "               '2015-03-31 12:30:00', '2015-08-31 02:40:00',\n",
       "               '2015-08-31 13:13:00'],\n",
       "              dtype='datetime64[ns]', freq=None, tz=None)"
      ]
     },
     "execution_count": 88,
     "metadata": {},
     "output_type": "execute_result"
    }
   ],
   "source": [
    "ts_index.shift(1, \"M\") # 每个时间点移动到月头或者月尾"
   ]
  },
  {
   "cell_type": "markdown",
   "metadata": {},
   "source": [
    "按日期取整(将时刻修改为当天的凌晨)"
   ]
  },
  {
   "cell_type": "code",
   "execution_count": 90,
   "metadata": {
    "collapsed": false
   },
   "outputs": [
    {
     "data": {
      "text/plain": [
       "DatetimeIndex(['2015-01-15', '2015-02-15', '2015-02-28', '2015-08-06',\n",
       "               '2015-08-18'],\n",
       "              dtype='datetime64[ns]', freq=None, tz=None)"
      ]
     },
     "execution_count": 90,
     "metadata": {},
     "output_type": "execute_result"
    }
   ],
   "source": [
    "ts_index.normalize() "
   ]
  },
  {
   "cell_type": "markdown",
   "metadata": {},
   "source": [
    "任意周期取整"
   ]
  },
  {
   "cell_type": "code",
   "execution_count": 96,
   "metadata": {
    "collapsed": false
   },
   "outputs": [
    {
     "data": {
      "text/plain": [
       "PeriodIndex(['2015-01-15 16:00', '2015-02-15 08:00', '2015-02-28 12:00',\n",
       "             '2015-08-06 02:00', '2015-08-18 13:00'],\n",
       "            dtype='int64', freq='H')"
      ]
     },
     "execution_count": 96,
     "metadata": {},
     "output_type": "execute_result"
    }
   ],
   "source": [
    "ts_index.to_period(\"H\") # 整点"
   ]
  },
  {
   "cell_type": "code",
   "execution_count": 97,
   "metadata": {
    "collapsed": false
   },
   "outputs": [
    {
     "data": {
      "text/plain": [
       "DatetimeIndex(['2015-01-15 16:00:00', '2015-02-15 08:00:00',\n",
       "               '2015-02-28 12:00:00', '2015-08-06 02:00:00',\n",
       "               '2015-08-18 13:00:00'],\n",
       "              dtype='datetime64[ns]', freq=None, tz=None)"
      ]
     },
     "execution_count": 97,
     "metadata": {},
     "output_type": "execute_result"
    }
   ],
   "source": [
    "ts_index.to_period(\"H\").to_timestamp()"
   ]
  },
  {
   "cell_type": "markdown",
   "metadata": {},
   "source": [
    "时间序列: 如果Series对象的索引为DatatimeIndex对象, 那么这个Series对象称为时间序列"
   ]
  },
  {
   "cell_type": "code",
   "execution_count": 102,
   "metadata": {
    "collapsed": false
   },
   "outputs": [
    {
     "data": {
      "text/plain": [
       "2015-01-15 16:12:00    0\n",
       "2015-02-15 08:04:00    1\n",
       "2015-02-28 12:30:00    2\n",
       "2015-08-06 02:40:00    3\n",
       "2015-08-18 13:13:00    4\n",
       "dtype: int64"
      ]
     },
     "execution_count": 102,
     "metadata": {},
     "output_type": "execute_result"
    }
   ],
   "source": [
    "ts_series = pd.Series(range(5), index=ts_index)\n",
    "ts_series"
   ]
  },
  {
   "cell_type": "markdown",
   "metadata": {},
   "source": [
    "时间序列提供了一些专门处理时间的方法"
   ]
  },
  {
   "cell_type": "code",
   "execution_count": 103,
   "metadata": {
    "collapsed": false
   },
   "outputs": [
    {
     "data": {
      "text/plain": [
       "2015-01-15 16:12:00    0\n",
       "2015-02-28 12:30:00    2\n",
       "2015-08-18 13:13:00    4\n",
       "dtype: int64"
      ]
     },
     "execution_count": 103,
     "metadata": {},
     "output_type": "execute_result"
    }
   ],
   "source": [
    "ts_series.between_time(\"9:00\", \"18:00\")\n",
    "#  between_time()返回所有位于指定时间范围内的数据"
   ]
  },
  {
   "cell_type": "code",
   "execution_count": 105,
   "metadata": {
    "collapsed": false
   },
   "outputs": [
    {
     "data": {
      "text/plain": [
       "2015-01-16 16:12:00    0\n",
       "2015-02-16 08:04:00    1\n",
       "2015-03-01 12:30:00    2\n",
       "2015-08-07 02:40:00    3\n",
       "2015-08-19 13:13:00    4\n",
       "dtype: int64"
      ]
     },
     "execution_count": 105,
     "metadata": {},
     "output_type": "execute_result"
    }
   ],
   "source": [
    "ts_series.tshift(1, freq=\"D\") \n",
    "#将索引移动一天"
   ]
  },
  {
   "cell_type": "markdown",
   "metadata": {},
   "source": [
    "PeriodIndex和TimedeltaIndex为索引的时间序列"
   ]
  },
  {
   "cell_type": "code",
   "execution_count": 106,
   "metadata": {
    "collapsed": false
   },
   "outputs": [
    {
     "name": "stdout",
     "output_type": "stream",
     "text": [
      " pd_series.tshift(1)   td_series.tshift(10, freq=\"H\")\n",
      "---------------------  ------------------------------\n",
      "2015-02    0           31 days 01:52:00     0        \n",
      "2015-03    1           13 days 14:26:00     1        \n",
      "2015-03    2           159 days 00:10:00    2        \n",
      "2015-09    3           12 days 20:33:00     3        \n",
      "2015-09    4           dtype: int64                  \n",
      "Freq: M, dtype: int64                                \n"
     ]
    }
   ],
   "source": [
    "pd_series = pd.Series(range(5), index=pd_index)\n",
    "td_series = pd.Series(range(4), index=td_index)\n",
    "%C pd_series.tshift(1); td_series.tshift(10, freq=\"H\")"
   ]
  },
  {
   "cell_type": "markdown",
   "metadata": {},
   "source": [
    "时间信息不仅可以做索引, 还可以做Series对象和DataFrame的列标签"
   ]
  },
  {
   "cell_type": "code",
   "execution_count": 107,
   "metadata": {
    "collapsed": false
   },
   "outputs": [
    {
     "name": "stdout",
     "output_type": "stream",
     "text": [
      "        ts_data             pd_data            td_data        \n",
      "-----------------------  -------------  ----------------------\n",
      "0   2015-01-15 16:12:00  0    2015-01   0    30 days 15:52:00 \n",
      "1   2015-02-15 08:04:00  1    2015-02   1    13 days 04:26:00 \n",
      "2   2015-02-28 12:30:00  2    2015-02   2   158 days 14:10:00 \n",
      "3   2015-08-06 02:40:00  3    2015-08   3    12 days 10:33:00 \n",
      "4   2015-08-18 13:13:00  4    2015-08   dtype: timedelta64[ns]\n",
      "dtype: datetime64[ns]    dtype: object                        \n"
     ]
    }
   ],
   "source": [
    "ts_data = pd.Series(ts_index)\n",
    "pd_data = pd.Series(pd_index)\n",
    "td_data = pd.Series(td_index)\n",
    "%C ts_data; pd_data; td_data"
   ]
  },
  {
   "cell_type": "markdown",
   "metadata": {},
   "source": [
    "序列的值为时间数据时, 可以通过名字空间对象df调用相关的属性和方法"
   ]
  },
  {
   "cell_type": "code",
   "execution_count": 108,
   "metadata": {
    "collapsed": false
   },
   "outputs": [
    {
     "name": "stdout",
     "output_type": "stream",
     "text": [
      "ts_data.dt.hour  pd_data.dt.month  td_data.dt.days\n",
      "---------------  ----------------  ---------------\n",
      "0    16          0    1            0     30       \n",
      "1     8          1    2            1     13       \n",
      "2    12          2    2            2    158       \n",
      "3     2          3    8            3     12       \n",
      "4    13          4    8            dtype: int64   \n",
      "dtype: int64     dtype: int64                     \n"
     ]
    }
   ],
   "source": [
    "%C ts_data.dt.hour; pd_data.dt.month; td_data.dt.days"
   ]
  }
 ],
 "metadata": {
  "kernelspec": {
   "display_name": "Python 2",
   "language": "python",
   "name": "python2"
  },
  "language_info": {
   "codemirror_mode": {
    "name": "ipython",
    "version": 2
   },
   "file_extension": ".py",
   "mimetype": "text/x-python",
   "name": "python",
   "nbconvert_exporter": "python",
   "pygments_lexer": "ipython2",
   "version": "2.7.9"
  }
 },
 "nbformat": 4,
 "nbformat_minor": 0
}

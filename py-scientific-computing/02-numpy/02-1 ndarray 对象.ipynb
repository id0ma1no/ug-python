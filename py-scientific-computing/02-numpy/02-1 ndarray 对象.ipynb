{
 "cells": [
  {
   "cell_type": "code",
   "execution_count": 2,
   "metadata": {},
   "outputs": [],
   "source": [
    "# @\n",
    "import numpy as np\n",
    "from brtoz import brmagic"
   ]
  },
  {
   "cell_type": "code",
   "execution_count": 173,
   "metadata": {},
   "outputs": [
    {
     "data": {
      "text/plain": [
       "'%.3f'"
      ]
     },
     "execution_count": 173,
     "metadata": {},
     "output_type": "execute_result"
    }
   ],
   "source": [
    "%precision 3"
   ]
  },
  {
   "cell_type": "markdown",
   "metadata": {},
   "source": [
    "## ndarray对象"
   ]
  },
  {
   "cell_type": "markdown",
   "metadata": {},
   "source": [
    "### 创建"
   ]
  },
  {
   "cell_type": "markdown",
   "metadata": {},
   "source": [
    "* np.array()  \n",
    "* ndarray.shape"
   ]
  },
  {
   "cell_type": "code",
   "execution_count": 136,
   "metadata": {},
   "outputs": [
    {
     "name": "stdout",
     "output_type": "stream",
     "text": [
      "        c           c.shape\n",
      "------------------  -------\n",
      "[[ 1,  2,  3,  4],  (3, 4) \n",
      " [ 4,  5,  6,  7],         \n",
      " [ 7,  8,  9, 10]]         \n"
     ]
    }
   ],
   "source": [
    "c = np.array([[1, 2, 3, 4], [4, 5, 6, 7], [7, 8, 9, 10]])\n",
    "%ap c; c.shape"
   ]
  },
  {
   "cell_type": "code",
   "execution_count": 137,
   "metadata": {},
   "outputs": [
    {
     "data": {
      "text/plain": [
       "array([[ 1,  2,  3],\n",
       "       [ 4,  4,  5],\n",
       "       [ 6,  7,  7],\n",
       "       [ 8,  9, 10]])"
      ]
     },
     "execution_count": 137,
     "metadata": {},
     "output_type": "execute_result"
    }
   ],
   "source": [
    "c.shape = 4, 3\n",
    "c"
   ]
  },
  {
   "cell_type": "code",
   "execution_count": 138,
   "metadata": {},
   "outputs": [
    {
     "data": {
      "text/plain": [
       "array([[ 1,  2,  3,  4,  4,  5],\n",
       "       [ 6,  7,  7,  8,  9, 10]])"
      ]
     },
     "execution_count": 138,
     "metadata": {},
     "output_type": "execute_result"
    }
   ],
   "source": [
    "c.shape = 2, -1\n",
    "c"
   ]
  },
  {
   "cell_type": "markdown",
   "metadata": {},
   "source": [
    "* ndarray.reshape()"
   ]
  },
  {
   "cell_type": "code",
   "execution_count": 141,
   "metadata": {},
   "outputs": [
    {
     "name": "stdout",
     "output_type": "stream",
     "text": [
      "     a           d    \n",
      "------------  --------\n",
      "[1, 2, 3, 4]  [[1, 2],\n",
      "               [3, 4]]\n"
     ]
    }
   ],
   "source": [
    "a = np.array([1,2,3,4])\n",
    "d = a.reshape(2,2)\n",
    "%ap a;d"
   ]
  },
  {
   "cell_type": "code",
   "execution_count": 144,
   "metadata": {},
   "outputs": [],
   "source": [
    "d[0,0] = 100 "
   ]
  },
  {
   "cell_type": "code",
   "execution_count": 145,
   "metadata": {},
   "outputs": [
    {
     "name": "stdout",
     "output_type": "stream",
     "text": [
      "         a                 d      \n",
      "--------------------  ------------\n",
      "[100,   2,   3,   4]  [[100,   2],\n",
      "                       [  3,   4]]\n"
     ]
    }
   ],
   "source": [
    "%ap a;d"
   ]
  },
  {
   "cell_type": "markdown",
   "metadata": {},
   "source": [
    "> shape对原始数组进行操作, reshape则产生新的数组;    \n",
    "> 虽然原始数组和结果数组形状不同, 但是共享数据存储空间;"
   ]
  },
  {
   "cell_type": "markdown",
   "metadata": {},
   "source": [
    "### 元素类型"
   ]
  },
  {
   "cell_type": "markdown",
   "metadata": {},
   "source": [
    "dtype做属性名:"
   ]
  },
  {
   "cell_type": "code",
   "execution_count": 146,
   "metadata": {},
   "outputs": [
    {
     "data": {
      "text/plain": [
       "dtype('int32')"
      ]
     },
     "execution_count": 146,
     "metadata": {},
     "output_type": "execute_result"
    }
   ],
   "source": [
    "c.dtype"
   ]
  },
  {
   "cell_type": "markdown",
   "metadata": {},
   "source": [
    "dtype做关键字参数:"
   ]
  },
  {
   "cell_type": "code",
   "execution_count": 153,
   "metadata": {},
   "outputs": [
    {
     "name": "stdout",
     "output_type": "stream",
     "text": [
      "  ai32.dtype        af.dtype            ac.dtype     \n",
      "--------------  ----------------  -------------------\n",
      "dtype('int32')  dtype('float64')  dtype('complex128')\n"
     ]
    }
   ],
   "source": [
    "ai32 = np.array([1, 2, 3, 4], dtype=np.int32)\n",
    "af = np.array([1, 2, 3, 4], dtype=float)\n",
    "ac = np.array([1, 2, 3, 4], dtype=complex)\n",
    "\n",
    "%ap ai32.dtype; af.dtype; ac.dtype"
   ]
  },
  {
   "cell_type": "markdown",
   "metadata": {},
   "source": [
    "dtype属性和type属性是不同的;"
   ]
  },
  {
   "cell_type": "code",
   "execution_count": 154,
   "metadata": {},
   "outputs": [
    {
     "name": "stdout",
     "output_type": "stream",
     "text": [
      "   c.dtype      c.dtype.type\n",
      "--------------  ------------\n",
      "dtype('int32')  numpy.int32 \n"
     ]
    }
   ],
   "source": [
    "%ap c.dtype; c.dtype.type"
   ]
  },
  {
   "cell_type": "markdown",
   "metadata": {},
   "source": [
    "输出numpy中所有的类型名:"
   ]
  },
  {
   "cell_type": "code",
   "execution_count": 155,
   "metadata": {},
   "outputs": [
    {
     "data": {
      "text/plain": [
       "{numpy.bool_,\n",
       " numpy.bytes_,\n",
       " numpy.complex128,\n",
       " numpy.complex128,\n",
       " numpy.complex64,\n",
       " numpy.datetime64,\n",
       " numpy.float16,\n",
       " numpy.float32,\n",
       " numpy.float64,\n",
       " numpy.float64,\n",
       " numpy.int16,\n",
       " numpy.int32,\n",
       " numpy.int32,\n",
       " numpy.int64,\n",
       " numpy.int8,\n",
       " numpy.object_,\n",
       " numpy.str_,\n",
       " numpy.timedelta64,\n",
       " numpy.uint16,\n",
       " numpy.uint32,\n",
       " numpy.uint32,\n",
       " numpy.uint64,\n",
       " numpy.uint8,\n",
       " numpy.void}"
      ]
     },
     "execution_count": 155,
     "metadata": {},
     "output_type": "execute_result"
    }
   ],
   "source": [
    "set(np.typeDict.values())"
   ]
  },
  {
   "cell_type": "markdown",
   "metadata": {},
   "source": [
    "输出np.float64的所有字符串表示:"
   ]
  },
  {
   "cell_type": "code",
   "execution_count": 194,
   "metadata": {},
   "outputs": [
    {
     "data": {
      "text/plain": [
       "['double', 'd', 12, 'float64', 'Float64', 'float_', 'float']"
      ]
     },
     "execution_count": 194,
     "metadata": {},
     "output_type": "execute_result"
    }
   ],
   "source": [
    "[key for key, value in np.typeDict.items() if value is np.float64]"
   ]
  },
  {
   "cell_type": "markdown",
   "metadata": {},
   "source": [
    "溢出:"
   ]
  },
  {
   "cell_type": "code",
   "execution_count": 188,
   "metadata": {
    "scrolled": true
   },
   "outputs": [
    {
     "data": {
      "text/plain": [
       "32767.000"
      ]
     },
     "execution_count": 188,
     "metadata": {},
     "output_type": "execute_result"
    }
   ],
   "source": [
    "2**16/2-1 #32767是可以表示的最大正数"
   ]
  },
  {
   "cell_type": "code",
   "execution_count": 189,
   "metadata": {},
   "outputs": [
    {
     "name": "stdout",
     "output_type": "stream",
     "text": [
      "np.int16(32768)  np.int16(-32768)\n",
      "---------------  ----------------\n",
      "-32768           -32768          \n"
     ]
    }
   ],
   "source": [
    "%ap np.int16(32768); np.int16(-32768) "
   ]
  },
  {
   "cell_type": "markdown",
   "metadata": {},
   "source": [
    ">16位的二进制数可以表示哪些整数?    \n",
    "* 无符号整数: 可以表示2**16=65536个整数: 0->65535;    \n",
    "* 有符号整数: 正数范围1->32767, 负数范围 -1 -> 32768, 0;"
   ]
  },
  {
   "cell_type": "markdown",
   "metadata": {},
   "source": [
    "单个numpy数值对象的运算速度比Py内置对象的运算速度慢:"
   ]
  },
  {
   "cell_type": "code",
   "execution_count": 190,
   "metadata": {},
   "outputs": [
    {
     "name": "stdout",
     "output_type": "stream",
     "text": [
      "71.5 ns ± 0.833 ns per loop (mean ± std. dev. of 7 runs, 10000000 loops each)\n",
      "127 ns ± 0.415 ns per loop (mean ± std. dev. of 7 runs, 10000000 loops each)\n"
     ]
    }
   ],
   "source": [
    "v1 = 3.14\n",
    "v2 = np.float64(v1)\n",
    "%timeit v1*v1\n",
    "%timeit v2*v2"
   ]
  },
  {
   "cell_type": "markdown",
   "metadata": {},
   "source": [
    "astype方法可以对数组的元素类型进行转换:"
   ]
  },
  {
   "cell_type": "code",
   "execution_count": 193,
   "metadata": {},
   "outputs": [
    {
     "name": "stdout",
     "output_type": "stream",
     "text": [
      "    t1.dtype            t2.dtype          t3.dtype          t4.dtype     \n",
      "----------------  -------------------  --------------  ------------------\n",
      "dtype('float64')  dtype('complex128')  dtype('int32')  dtype('complex64')\n"
     ]
    }
   ],
   "source": [
    "t1 = np.array([1, 2, 3, 4], dtype=np.float)\n",
    "t2 = np.array([1, 2, 3, 4], dtype=np.complex)\n",
    "t3 = t1.astype(np.int32)\n",
    "t4 = t2.astype(np.complex64)\n",
    "%ap t1.dtype; t2.dtype; t3.dtype; t4.dtype"
   ]
  },
  {
   "cell_type": "markdown",
   "metadata": {},
   "source": [
    "### 自动生成数组"
   ]
  },
  {
   "cell_type": "markdown",
   "metadata": {},
   "source": [
    "* np.arrange(): 通过初终步长创建等差数列;"
   ]
  },
  {
   "cell_type": "code",
   "execution_count": 195,
   "metadata": {},
   "outputs": [
    {
     "data": {
      "text/plain": [
       "array([0. , 0.1, 0.2, 0.3, 0.4, 0.5, 0.6, 0.7, 0.8, 0.9])"
      ]
     },
     "execution_count": 195,
     "metadata": {},
     "output_type": "execute_result"
    }
   ],
   "source": [
    "np.arange(0, 1, 0.1)"
   ]
  },
  {
   "cell_type": "markdown",
   "metadata": {},
   "source": [
    "* np.linespace: 通过初终总长创建等差数列;\n",
    "* **默认步长(包含终点)=长度/(个数-1)**;\n",
    "* 不包含终点时, 步长个数就是终点值;"
   ]
  },
  {
   "cell_type": "code",
   "execution_count": 196,
   "metadata": {},
   "outputs": [
    {
     "data": {
      "text/plain": [
       "array([0.   , 0.111, 0.222, 0.333, 0.444, 0.556, 0.667, 0.778, 0.889,\n",
       "       1.   ])"
      ]
     },
     "execution_count": 196,
     "metadata": {},
     "output_type": "execute_result"
    }
   ],
   "source": [
    "np.linspace(0, 1, 10) "
   ]
  },
  {
   "cell_type": "code",
   "execution_count": 197,
   "metadata": {},
   "outputs": [
    {
     "data": {
      "text/plain": [
       "array([0. , 0.1, 0.2, 0.3, 0.4, 0.5, 0.6, 0.7, 0.8, 0.9])"
      ]
     },
     "execution_count": 197,
     "metadata": {},
     "output_type": "execute_result"
    }
   ],
   "source": [
    "np.linspace(0, 1, 10, endpoint=False) # 步长为1/10"
   ]
  },
  {
   "cell_type": "markdown",
   "metadata": {},
   "source": [
    "logspace根据linspace创建的等差数列创建等比数列:"
   ]
  },
  {
   "cell_type": "code",
   "execution_count": 198,
   "metadata": {},
   "outputs": [
    {
     "data": {
      "text/plain": [
       "array([0. , 0.5, 1. , 1.5, 2. ])"
      ]
     },
     "execution_count": 198,
     "metadata": {},
     "output_type": "execute_result"
    }
   ],
   "source": [
    "np.linspace(0, 2, 5)"
   ]
  },
  {
   "cell_type": "code",
   "execution_count": 200,
   "metadata": {},
   "outputs": [
    {
     "data": {
      "text/plain": [
       "array([  1.   ,   3.162,  10.   ,  31.623, 100.   ])"
      ]
     },
     "execution_count": 200,
     "metadata": {},
     "output_type": "execute_result"
    }
   ],
   "source": [
    "np.logspace(0, 2, 5) # 上例的每个元素做10的幂次"
   ]
  },
  {
   "cell_type": "code",
   "execution_count": 202,
   "metadata": {},
   "outputs": [
    {
     "data": {
      "text/plain": [
       "array([1.   , 1.414, 2.   , 2.828, 4.   ])"
      ]
     },
     "execution_count": 202,
     "metadata": {},
     "output_type": "execute_result"
    }
   ],
   "source": [
    "np.logspace(0, 2, 5,base=2) # 上上例的每个元素做2的幂次"
   ]
  },
  {
   "cell_type": "markdown",
   "metadata": {},
   "source": [
    "创建指定形状特殊数组:    \n",
    "* ones(): 创建全1数组;     \n",
    "* zeros(): 创建全0数组;    \n",
    "* empty(): 创建空数组;"
   ]
  },
  {
   "cell_type": "code",
   "execution_count": 203,
   "metadata": {},
   "outputs": [
    {
     "data": {
      "text/plain": [
       "array([0.+0.j, 0.+0.j, 0.+0.j, 0.+0.j], dtype=complex64)"
      ]
     },
     "execution_count": 203,
     "metadata": {},
     "output_type": "execute_result"
    }
   ],
   "source": [
    "np.zeros(4, np.complex64)"
   ]
  },
  {
   "cell_type": "code",
   "execution_count": 204,
   "metadata": {},
   "outputs": [
    {
     "data": {
      "text/plain": [
       "array([1., 1., 1., 1.])"
      ]
     },
     "execution_count": 204,
     "metadata": {},
     "output_type": "execute_result"
    }
   ],
   "source": [
    "np.ones(4)"
   ]
  },
  {
   "cell_type": "code",
   "execution_count": 205,
   "metadata": {},
   "outputs": [
    {
     "data": {
      "text/plain": [
       "array([[         0, 1072168960,          0],\n",
       "       [1072168960,          0,          0]])"
      ]
     },
     "execution_count": 205,
     "metadata": {},
     "output_type": "execute_result"
    }
   ],
   "source": [
    "np.empty((2,3), np.int)"
   ]
  },
  {
   "cell_type": "markdown",
   "metadata": {},
   "source": [
    "* full(): 将数组初始化为指定的值;"
   ]
  },
  {
   "cell_type": "code",
   "execution_count": 206,
   "metadata": {},
   "outputs": [
    {
     "data": {
      "text/plain": [
       "array([[3.142, 3.142, 3.142, 3.142],\n",
       "       [3.142, 3.142, 3.142, 3.142],\n",
       "       [3.142, 3.142, 3.142, 3.142]])"
      ]
     },
     "execution_count": 206,
     "metadata": {},
     "output_type": "execute_result"
    }
   ],
   "source": [
    "np.full((3,4), np.pi)"
   ]
  },
  {
   "cell_type": "markdown",
   "metadata": {},
   "source": [
    "按参数数组的形状创建特殊数组:    \n",
    "* zeros_like(), ones_like(), empty_like(), full_like();"
   ]
  },
  {
   "cell_type": "code",
   "execution_count": 214,
   "metadata": {},
   "outputs": [
    {
     "data": {
      "text/plain": [
       "array([[0, 0, 0, 0],\n",
       "       [0, 0, 0, 0],\n",
       "       [0, 0, 0, 0]])"
      ]
     },
     "execution_count": 214,
     "metadata": {},
     "output_type": "execute_result"
    }
   ],
   "source": [
    "c = np.array([[1, 2, 3, 4], [4, 5, 6, 7], [7, 8, 9, 10]])\n",
    "np.zeros_like(c)"
   ]
  },
  {
   "cell_type": "markdown",
   "metadata": {},
   "source": [
    "从字节数列或者文件创建数组:    \n",
    "* frombuffer(), fromstring(), fromfile();"
   ]
  },
  {
   "cell_type": "code",
   "execution_count": 239,
   "metadata": {},
   "outputs": [],
   "source": [
    "s = 'abcdefgh'\n",
    "#一个字母相当于一个八位二进制数, 八个字母相当于一个float64的浮点数"
   ]
  },
  {
   "cell_type": "code",
   "execution_count": 240,
   "metadata": {},
   "outputs": [
    {
     "name": "stdout",
     "output_type": "stream",
     "text": [
      "np.fromstring(s, dtype=np.float64)\n",
      "----------------------------------\n",
      "[8.541e+194]                      \n",
      "\n",
      "    np.fromstring(s, dtype=np.int8)     \n",
      "----------------------------------------\n",
      "[ 97,  98,  99, 100, 101, 102, 103, 104]\n"
     ]
    },
    {
     "name": "stderr",
     "output_type": "stream",
     "text": [
      "C:\\Users\\tfliu\\Anaconda3\\lib\\site-packages\\ipykernel_launcher.py:1: DeprecationWarning: The binary mode of fromstring is deprecated, as it behaves surprisingly on unicode inputs. Use frombuffer instead\n",
      "  \"\"\"Entry point for launching an IPython kernel.\n"
     ]
    }
   ],
   "source": [
    "%ap np.fromstring(s, dtype=np.float64);;np.fromstring(s, dtype=np.int8)"
   ]
  },
  {
   "cell_type": "markdown",
   "metadata": {},
   "source": [
    "* fromfunction(func,size): 通过下标函数创建数组;"
   ]
  },
  {
   "cell_type": "code",
   "execution_count": 246,
   "metadata": {},
   "outputs": [
    {
     "data": {
      "text/plain": [
       "array([[ 1.,  2.,  3.,  4.],\n",
       "       [ 2.,  4.,  6.,  8.],\n",
       "       [ 3.,  6.,  9., 12.]])"
      ]
     },
     "execution_count": 246,
     "metadata": {},
     "output_type": "execute_result"
    }
   ],
   "source": [
    "def func(i,j):\n",
    "    return (i+1)*(j+1)\n",
    "np.fromfunction(func,(3,4))"
   ]
  },
  {
   "cell_type": "markdown",
   "metadata": {},
   "source": [
    "### 存取元素"
   ]
  },
  {
   "cell_type": "code",
   "execution_count": 292,
   "metadata": {},
   "outputs": [
    {
     "data": {
      "text/plain": [
       "array([0, 1, 2, 3, 4, 5, 6, 7, 8, 9])"
      ]
     },
     "execution_count": 292,
     "metadata": {},
     "output_type": "execute_result"
    }
   ],
   "source": [
    "a = np.arange(10)\n",
    "a"
   ]
  },
  {
   "cell_type": "markdown",
   "metadata": {},
   "source": [
    "整数下标:"
   ]
  },
  {
   "cell_type": "code",
   "execution_count": 293,
   "metadata": {},
   "outputs": [
    {
     "name": "stdout",
     "output_type": "stream",
     "text": [
      "a[0]  a[9]  a[-1]\n",
      "----  ----  -----\n",
      "0     9     9    \n"
     ]
    }
   ],
   "source": [
    "%ap a[0]; a[9]; a[-1]"
   ]
  },
  {
   "cell_type": "code",
   "execution_count": 294,
   "metadata": {},
   "outputs": [
    {
     "name": "stdout",
     "output_type": "stream",
     "text": [
      "index 10 is out of bounds for axis 0 with size 10\n"
     ]
    }
   ],
   "source": [
    "try:\n",
    "    a[10]\n",
    "except Exception as e:\n",
    "    print(e)"
   ]
  },
  {
   "cell_type": "markdown",
   "metadata": {},
   "source": [
    "切片下标: 切片中的 ':' 表示分隔符, 分割初,终,步长;"
   ]
  },
  {
   "cell_type": "code",
   "execution_count": 295,
   "metadata": {},
   "outputs": [
    {
     "name": "stdout",
     "output_type": "stream",
     "text": [
      "  a[:3]    a[8:9]  a[8:-1]               a[:]             \n",
      "---------  ------  -------  ------------------------------\n",
      "[0, 1, 2]  [8]     [8]      [0, 1, 2, 3, 4, 5, 6, 7, 8, 9]\n"
     ]
    }
   ],
   "source": [
    "# 不能取出切片末尾元素 \n",
    "%ap a[:3]; a[8:9]; a[8:-1]; a[:]"
   ]
  },
  {
   "cell_type": "code",
   "execution_count": 296,
   "metadata": {},
   "outputs": [
    {
     "name": "stdout",
     "output_type": "stream",
     "text": [
      " a[1:-1:2]    a[5:1:-2]             a[::-1]            \n",
      "------------  ---------  ------------------------------\n",
      "[1, 3, 5, 7]  [5, 3]     [9, 8, 7, 6, 5, 4, 3, 2, 1, 0]\n"
     ]
    }
   ],
   "source": [
    "# 如果步长为负, 开始下标必须大于结束下标\n",
    "%ap a[1:-1:2]; a[5:1:-2]; a[::-1]"
   ]
  },
  {
   "cell_type": "markdown",
   "metadata": {},
   "source": [
    "用下标可以用来修改元素的值:"
   ]
  },
  {
   "cell_type": "code",
   "execution_count": 297,
   "metadata": {},
   "outputs": [
    {
     "data": {
      "text/plain": [
       "array([ 0,  1, 20, 30,  4,  5,  6,  7,  8,  9])"
      ]
     },
     "execution_count": 297,
     "metadata": {},
     "output_type": "execute_result"
    }
   ],
   "source": [
    "a[2:4] = 20, 30\n",
    "a"
   ]
  },
  {
   "cell_type": "markdown",
   "metadata": {},
   "source": [
    "通过**切片下标**产生的新数组与原始数组**共享数据存储空间**:"
   ]
  },
  {
   "cell_type": "code",
   "execution_count": 362,
   "metadata": {},
   "outputs": [
    {
     "name": "stdout",
     "output_type": "stream",
     "text": [
      "        b                 a[:3]       \n",
      "------------------  ------------------\n",
      "[-100,   -1,    2]  [-100,   -1,    2]\n"
     ]
    }
   ],
   "source": [
    "b = a[:3]\n",
    "b[0] = -100 # 将b的第1个元素修改为-100,a的第一个元素也变为-100\n",
    "%ap b; a[:3]"
   ]
  },
  {
   "cell_type": "markdown",
   "metadata": {},
   "source": [
    "通过**整数序列**下标产生的新数组与原始数组**不共享存储空间**:"
   ]
  },
  {
   "cell_type": "code",
   "execution_count": 363,
   "metadata": {},
   "outputs": [
    {
     "name": "stdout",
     "output_type": "stream",
     "text": [
      "              x                      a      \n",
      "------------------------------  ------------\n",
      "[0, 1, 2, 3, 4, 5, 6, 7, 8, 9]  [0, 1, 2, 3]\n"
     ]
    }
   ],
   "source": [
    "x = np.arange(0,10)\n",
    "a = x[[0,1,2,3]]\n",
    "%ap x; a"
   ]
  },
  {
   "cell_type": "code",
   "execution_count": 364,
   "metadata": {},
   "outputs": [
    {
     "name": "stdout",
     "output_type": "stream",
     "text": [
      "              x                        a        \n",
      "------------------------------  ----------------\n",
      "[0, 1, 2, 3, 4, 5, 6, 7, 8, 9]  [ 0, -1,  2,  3]\n"
     ]
    }
   ],
   "source": [
    "a[1]=-1\n",
    "%ap x; a"
   ]
  },
  {
   "cell_type": "markdown",
   "metadata": {},
   "source": [
    "整数数组作为下标, 结果数组的形状要与下标数组的形状相同:"
   ]
  },
  {
   "cell_type": "code",
   "execution_count": 365,
   "metadata": {},
   "outputs": [
    {
     "data": {
      "text/plain": [
       "array([3, 3, 1, 8, 3, 3, 7, 8])"
      ]
     },
     "execution_count": 365,
     "metadata": {},
     "output_type": "execute_result"
    }
   ],
   "source": [
    "x[[3,3,1,8,3,3,-3,8]] # 下标数组是一维数组"
   ]
  },
  {
   "cell_type": "code",
   "execution_count": 366,
   "metadata": {},
   "outputs": [
    {
     "data": {
      "text/plain": [
       "array([[3, 3, 1, 8],\n",
       "       [3, 3, 7, 8]])"
      ]
     },
     "execution_count": 366,
     "metadata": {},
     "output_type": "execute_result"
    }
   ],
   "source": [
    "x[np.array([[3,3,1,8],[3,3,-3,8]])] # 下标数组是二维数组"
   ]
  },
  {
   "cell_type": "markdown",
   "metadata": {},
   "source": [
    "布尔数组做下标, 首先将布尔数组转化为整数数组**nonzero()**;"
   ]
  },
  {
   "cell_type": "code",
   "execution_count": 367,
   "metadata": {},
   "outputs": [
    {
     "name": "stdout",
     "output_type": "stream",
     "text": [
      "       b1                         ba                  b1[ba]\n",
      "---------------  -----------------------------------  ------\n",
      "[0, 1, 2, 3, 4]  [ True, False,  True, False, False]  [0, 2]\n",
      "\n",
      "         ba.nonzero()                  np.nonzero(ba)       \n",
      "-----------------------------  -----------------------------\n",
      "(array([0, 2], dtype=int64),)  (array([0, 2], dtype=int64),)\n"
     ]
    }
   ],
   "source": [
    "b1  = np.arange(0,5)\n",
    "ba = np.array([True, False, True, False, False])\n",
    "%ap b1;ba;b1[ba];; ba.nonzero();np.nonzero(ba)"
   ]
  },
  {
   "cell_type": "markdown",
   "metadata": {},
   "source": [
    "布尔列表等视为布尔数组:"
   ]
  },
  {
   "cell_type": "code",
   "execution_count": 368,
   "metadata": {},
   "outputs": [
    {
     "name": "stdout",
     "output_type": "stream",
     "text": [
      "b1[[True, False, True, False, False]]  b1[np.array([True, False, True, False, False])]\n",
      "-------------------------------------  -----------------------------------------------\n",
      "[0, 2]                                 [0, 2]                                         \n"
     ]
    }
   ],
   "source": [
    "%ap b1[[True, False, True, False, False]];\\\n",
    "                       b1[np.array([True, False, True, False, False])]"
   ]
  },
  {
   "cell_type": "markdown",
   "metadata": {},
   "source": [
    "01列表不可等视为布尔数组:"
   ]
  },
  {
   "cell_type": "code",
   "execution_count": 369,
   "metadata": {},
   "outputs": [
    {
     "data": {
      "text/plain": [
       "array([1, 0, 1, 0, 0])"
      ]
     },
     "execution_count": 369,
     "metadata": {},
     "output_type": "execute_result"
    }
   ],
   "source": [
    "b1[[1, 0, 1, 0, 0]] "
   ]
  },
  {
   "cell_type": "markdown",
   "metadata": {},
   "source": [
    "布尔数组下标可以用来修改元素值:"
   ]
  },
  {
   "cell_type": "code",
   "execution_count": 370,
   "metadata": {},
   "outputs": [
    {
     "data": {
      "text/plain": [
       "array([-1,  1, -2, -3,  4])"
      ]
     },
     "execution_count": 370,
     "metadata": {},
     "output_type": "execute_result"
    }
   ],
   "source": [
    "b1[[True, False, True, True,False]] = -1, -2, -3 \n",
    "b1"
   ]
  },
  {
   "cell_type": "markdown",
   "metadata": {},
   "source": [
    "**布尔数组下标**通常情况下是由ufunc函数产生的:"
   ]
  },
  {
   "cell_type": "code",
   "execution_count": 377,
   "metadata": {},
   "outputs": [
    {
     "name": "stdout",
     "output_type": "stream",
     "text": [
      "     x                 x>5            x[x>5]\n",
      "-----------  -----------------------  ------\n",
      "[[5, 0, 3],  [[False, False, False],  [7, 9]\n",
      " [3, 7, 9]]   [False,  True,  True]]        \n",
      "\n",
      "                    np.nonzero(x>5)                     \n",
      "--------------------------------------------------------\n",
      "(array([1, 1], dtype=int64), array([1, 2], dtype=int64))\n"
     ]
    }
   ],
   "source": [
    "np.random.seed(0)\n",
    "x = np.random.randint(0, 10, (2,3))\n",
    "%ap x; x>5; x[x>5];; np.nonzero(x>5)"
   ]
  },
  {
   "cell_type": "markdown",
   "metadata": {},
   "source": [
    "### 多维数组"
   ]
  },
  {
   "cell_type": "code",
   "execution_count": 390,
   "metadata": {},
   "outputs": [
    {
     "name": "stdout",
     "output_type": "stream",
     "text": [
      "  a             b                       c             \n",
      "------  ------------------  --------------------------\n",
      "[[ 0],  [0, 1, 2, 3, 4, 5]  [[ 0,  1,  2,  3,  4,  5],\n",
      " [10],                       [10, 11, 12, 13, 14, 15],\n",
      " [20],                       [20, 21, 22, 23, 24, 25],\n",
      " [30],                       [30, 31, 32, 33, 34, 35],\n",
      " [40],                       [40, 41, 42, 43, 44, 45],\n",
      " [50]]                       [50, 51, 52, 53, 54, 55]]\n"
     ]
    }
   ],
   "source": [
    "a = np.arange(0, 60, 10).reshape(-1, 1) \n",
    "b = np.arange(0, 6)\n",
    "c = a + b\n",
    "%ap a; b; c"
   ]
  },
  {
   "cell_type": "markdown",
   "metadata": {},
   "source": [
    "**下标元组的长度==多维数组的维数**:"
   ]
  },
  {
   "cell_type": "code",
   "execution_count": 391,
   "metadata": {},
   "outputs": [
    {
     "name": "stdout",
     "output_type": "stream",
     "text": [
      "c[0, 3:5]  c[4:, 4:]           c[:, 2]            c[2::2, ::2] \n",
      "---------  ----------  ------------------------  --------------\n",
      "[3, 4]     [[44, 45],  [ 2, 12, 22, 32, 42, 52]  [[20, 22, 24],\n",
      "            [54, 55]]                             [40, 42, 44]]\n"
     ]
    }
   ],
   "source": [
    "%ap c[0, 3:5]; c[4:, 4:]; c[:, 2]; c[2::2, ::2]"
   ]
  },
  {
   "cell_type": "markdown",
   "metadata": {},
   "source": [
    "通过切片联系的两个数组共享内存结构:"
   ]
  },
  {
   "cell_type": "code",
   "execution_count": null,
   "metadata": {},
   "outputs": [],
   "source": [
    "d = c[0,:]\n",
    "%ap c[0,:];d"
   ]
  },
  {
   "cell_type": "code",
   "execution_count": 394,
   "metadata": {},
   "outputs": [
    {
     "name": "stdout",
     "output_type": "stream",
     "text": [
      "            c[0,:]                            d               \n",
      "------------------------------  ------------------------------\n",
      "[  0, 100,   2,   3,   4,   5]  [  0, 100,   2,   3,   4,   5]\n"
     ]
    }
   ],
   "source": [
    "d[1]=100\n",
    "%ap c[0,:];d"
   ]
  },
  {
   "cell_type": "markdown",
   "metadata": {},
   "source": [
    "* np.s_: 可以创建切片对象的类    \n",
    "* slice(None,None,2): 创建切片对象的函数"
   ]
  },
  {
   "cell_type": "code",
   "execution_count": 399,
   "metadata": {},
   "outputs": [
    {
     "name": "stdout",
     "output_type": "stream",
     "text": [
      "                 idx_slice                       c[idx_slice]   \n",
      "--------------------------------------------  ------------------\n",
      "(slice(None, None, 2), slice(2, None, None))  [[ 2,  3,  4,  5],\n",
      "                                               [22, 23, 24, 25],\n",
      "                                               [42, 43, 44, 45]]\n"
     ]
    }
   ],
   "source": [
    "idx_slice = slice(None, None, 2), slice(2,None)\n",
    "%ap idx_slice; "
   ]
  },
  {
   "cell_type": "code",
   "execution_count": 401,
   "metadata": {},
   "outputs": [
    {
     "name": "stdout",
     "output_type": "stream",
     "text": [
      "                   idx_s                           c[idx_s]     \n",
      "--------------------------------------------  ------------------\n",
      "(slice(None, None, 2), slice(2, None, None))  [[ 2,  3,  4,  5],\n",
      "                                               [22, 23, 24, 25],\n",
      "                                               [42, 43, 44, 45]]\n"
     ]
    }
   ],
   "source": [
    "idx_s=np.s_[::2,2:]\n",
    "%ap idx_s; c[idx_s]"
   ]
  },
  {
   "cell_type": "markdown",
   "metadata": {},
   "source": [
    "整数元组或整数序列, 做多维数组的下标, 其长度必须相同:"
   ]
  },
  {
   "cell_type": "code",
   "execution_count": 425,
   "metadata": {},
   "outputs": [
    {
     "name": "stdout",
     "output_type": "stream",
     "text": [
      "c[(0,1,2,3),(1,2,3,4)]  c[[0,1,2,3],[1,2,3,4]]\n",
      "----------------------  ----------------------\n",
      "[100,  12,  23,  34]    [100,  12,  23,  34]  \n"
     ]
    }
   ],
   "source": [
    "%ap c[(0,1,2,3),(1,2,3,4)]; c[[0,1,2,3],[1,2,3,4]]"
   ]
  },
  {
   "cell_type": "markdown",
   "metadata": {},
   "source": [
    "切片和整数序列同时做下标元素长度可以不同:"
   ]
  },
  {
   "cell_type": "code",
   "execution_count": 426,
   "metadata": {},
   "outputs": [
    {
     "name": "stdout",
     "output_type": "stream",
     "text": [
      "c[2:, [0,2,5]]\n",
      "--------------\n",
      "[[20, 22, 25],\n",
      " [30, 32, 35],\n",
      " [40, 42, 45],\n",
      " [50, 52, 55]]\n"
     ]
    }
   ],
   "source": [
    "%ap c[2:, [0,2,5]]"
   ]
  },
  {
   "cell_type": "markdown",
   "metadata": {},
   "source": [
    "True, False序列可以当布尔数组, 但是0,1序列不可以当布尔数组;"
   ]
  },
  {
   "cell_type": "code",
   "execution_count": 427,
   "metadata": {},
   "outputs": [
    {
     "name": "stdout",
     "output_type": "stream",
     "text": [
      "c[mask_b,2]         c[mask_l,2]       \n",
      "------------  ------------------------\n",
      "[ 2, 22, 52]  [12,  2, 12,  2,  2, 12]\n"
     ]
    }
   ],
   "source": [
    "# [True,False,True,False,False,True]\n",
    "mask_b = np.array([1,0,1,0,0,1], dtype=np.bool) \n",
    "mask_l = np.array( [1,0,1,0,0,1] )\n",
    "%ap c[mask_b,2]; c[mask_l,2]"
   ]
  },
  {
   "cell_type": "markdown",
   "metadata": {},
   "source": [
    "下标元组的长度必须许等于原始数组的维数 (几维数组就应该有几个索引):"
   ]
  },
  {
   "cell_type": "code",
   "execution_count": 431,
   "metadata": {},
   "outputs": [
    {
     "name": "stdout",
     "output_type": "stream",
     "text": [
      "        c[[1,2],:]                   c[[1,2]]         \n",
      "--------------------------  --------------------------\n",
      "[[10, 11, 12, 13, 14, 15],  [[10, 11, 12, 13, 14, 15],\n",
      " [20, 21, 22, 23, 24, 25]]   [20, 21, 22, 23, 24, 25]]\n"
     ]
    }
   ],
   "source": [
    "%ap c[[1,2],:]; c[[1,2]]"
   ]
  },
  {
   "cell_type": "code",
   "execution_count": 433,
   "metadata": {},
   "outputs": [
    {
     "name": "stdout",
     "output_type": "stream",
     "text": [
      "   x          y         c[x,y]  \n",
      "--------  ----------  ----------\n",
      "[[0, 1],  [[-1, -2],  [[ 5, 14],\n",
      " [2, 3]]   [-3, -4]]   [23, 32]]\n"
     ]
    }
   ],
   "source": [
    "x = np.array([[0,1],[2,3]])\n",
    "y = np.array([[-1,-2],[-3,-4]])\n",
    "%ap x; y; c[x,y]"
   ]
  },
  {
   "cell_type": "markdown",
   "metadata": {},
   "source": [
    ">下标是一个长度为2的元组, 这个元组的每个元素都是一个二维数组, 并且这两个二维数组的形状相同;"
   ]
  },
  {
   "cell_type": "markdown",
   "metadata": {},
   "source": [
    "数组的下标运算可以扩展维度:"
   ]
  },
  {
   "cell_type": "code",
   "execution_count": 443,
   "metadata": {},
   "outputs": [
    {
     "name": "stdout",
     "output_type": "stream",
     "text": [
      "               c                     x                     c[x]               \n",
      "--------------------------------  --------  ----------------------------------\n",
      "[[  0, 100,   2,   3,   4,   5],  [[0, 1],  [[[  0, 100,   2,   3,   4,   5], \n",
      " [ 10,  11,  12,  13,  14,  15],   [2, 3]]    [ 10,  11,  12,  13,  14,  15]],\n",
      " [ 20,  21,  22,  23,  24,  25],                                              \n",
      " [ 30,  31,  32,  33,  34,  35],             [[ 20,  21,  22,  23,  24,  25], \n",
      " [ 40,  41,  42,  43,  44,  45],              [ 30,  31,  32,  33,  34,  35]]]\n",
      " [ 50,  51,  52,  53,  54,  55]]                                              \n"
     ]
    }
   ],
   "source": [
    "%ap c; x; c[x]"
   ]
  },
  {
   "cell_type": "markdown",
   "metadata": {},
   "source": [
    ">分析:\n",
    "    X是二维数组, 因此需要两个索引,下标元组的长度应该是2, 不足的长度由 : 代替;\n",
    "    下标元素既包含整数数组又包含切片时, 结果数组的形状为整数数组广播后的形状与切片形状的组合, 整数数组连续时, 进行原序组合, 不连续时, 将切片位放在最后;\n",
    "\n",
    ">    `a[x] 整数数组 x 的形状 (2,2), 切片的形状 (6,), 结果数组的形状(2,2,6). (2,2) 表示 a 的行选取方式有 4 种, (6,) 表示 a 的列选取方式有 6 种, 总共选取 a 的24个元素, 然后将其排列成 (2,2,6) 的形状. 也可以认为将整数数组 x 的每个元素换成 a 的 某一行;`"
   ]
  },
  {
   "cell_type": "markdown",
   "metadata": {},
   "source": [
    "对于 **a[idx]**的下标索引(a和idx都是二维数组)**, 只需将下标元组(第一个元素,二维数组)的每个元素换成原数组的一行即可;"
   ]
  },
  {
   "cell_type": "code",
   "execution_count": 448,
   "metadata": {},
   "outputs": [
    {
     "name": "stdout",
     "output_type": "stream",
     "text": [
      "     palette           image          palette[image]      palette[image,:] \n",
      "-----------------  --------------  -------------------  -------------------\n",
      "[[  0,   0,   0],  [[0, 1, 2, 0],  [[[  0,   0,   0],   [[[  0,   0,   0], \n",
      " [255,   0,   0],   [0, 3, 4, 0]]    [255,   0,   0],     [255,   0,   0], \n",
      " [  0, 255,   0],                    [  0, 255,   0],     [  0, 255,   0], \n",
      " [  0,   0, 255],                    [  0,   0,   0]],    [  0,   0,   0]],\n",
      " [255, 255, 255]]                                                          \n",
      "                                    [[  0,   0,   0],    [[  0,   0,   0], \n",
      "                                     [  0,   0, 255],     [  0,   0, 255], \n",
      "                                     [255, 255, 255],     [255, 255, 255], \n",
      "                                     [  0,   0,   0]]]    [  0,   0,   0]]]\n"
     ]
    }
   ],
   "source": [
    "palette = np.array( [[0,0,0],                \n",
    "                     [255,0,0],              \n",
    "                     [0,255,0],              \n",
    "                     [0,0,255],              \n",
    "                     [255,255,255]] )       \n",
    "image = np.array( [[ 0, 1, 2, 0 ],           \n",
    "                   [ 0, 3, 4, 0 ]] )\n",
    "%ap palette; image; palette[image];palette[image,:]"
   ]
  },
  {
   "cell_type": "markdown",
   "metadata": {},
   "source": [
    ">如何加速反应下标运算的结果?"
   ]
  },
  {
   "cell_type": "markdown",
   "metadata": {},
   "source": [
    "### 结构数组"
   ]
  },
  {
   "cell_type": "markdown",
   "metadata": {},
   "source": [
    "C语言的结构数组和numpy的结构数组可以互相转换:\n",
    "\n",
    "**dtype** 既可以做**关键字参数**, 又可以做**属性名**, 还可以定义**结构数组类**, 结构数组类传递给 numpy 的dtype关键字参数, 从而定义结构体数组;\n",
    "\n",
    "dtype定义\"结构数组类\"时用一个字典作为第一个参数, 字典的有两个键, 分别表示字段(names)和类型(formats);"
   ]
  },
  {
   "cell_type": "code",
   "execution_count": 5,
   "metadata": {},
   "outputs": [
    {
     "name": "stdout",
     "output_type": "stream",
     "text": [
      "                     a                               a[0]        \n",
      "-------------------------------------------  --------------------\n",
      "[(b'Zhang', 32, 75.5), (b'Wang', 24, 65.2)]  (b'Zhang', 32, 75.5)\n",
      "\n",
      "\n",
      "{'names':['name','age','weight'], 'formats':['S30','<i4','<f4'], 'offsets':[0,32,36], 'itemsize':40, 'aligned':True}\n",
      "{'names':['name','age','weight'], 'formats':['S30','<i4','<f4'], 'offsets':[0,32,36], 'itemsize':40, 'aligned':True}\n"
     ]
    }
   ],
   "source": [
    "persontype = np.dtype( {'names':['name', 'age', 'weight'],\n",
    "                        'formats':['S30','i', 'f']},align=True )\n",
    "a = np.array( [(\"Zhang\", 32, 75.5),(\"Wang\", 24, 65.2)],dtype=persontype )\n",
    "%ap a; a[0]\n",
    "print('\\n')\n",
    "print(a.dtype)\n",
    "print(a[0].dtype)"
   ]
  },
  {
   "cell_type": "markdown",
   "metadata": {},
   "source": [
    ">元素的值看上去是元组,实际上是结构;    \n",
    " 结构数组的类型由结构数组元素的类型决定;"
   ]
  },
  {
   "cell_type": "markdown",
   "metadata": {},
   "source": [
    "还可以用元组 (字段名,类型名) 列表来描述结构数组类:"
   ]
  },
  {
   "cell_type": "code",
   "execution_count": null,
   "metadata": {},
   "outputs": [],
   "source": [
    "np.dtype( [('name','|S30'),('age','<i4'),('weight','<f4')] )"
   ]
  },
  {
   "cell_type": "code",
   "execution_count": 16,
   "metadata": {},
   "outputs": [
    {
     "name": "stdout",
     "output_type": "stream",
     "text": [
      "0x3412->大端模式(0x3412): 13330\n",
      "0x3412->小端模式(0x1234): 4660\n"
     ]
    }
   ],
   "source": [
    "# 16进制数据: 0x3412 \n",
    "print( \"0x3412->大端模式(0x3412):\", 0x3412 )#按大端模式存储时表示的十进制数据\n",
    "print( \"0x3412->小端模式(0x1234):\", 0x1234 ) #按小端模式存储时表示的十进制数据"
   ]
  },
  {
   "cell_type": "markdown",
   "metadata": {},
   "source": [
    "> **字节顺序**: 字节在内存中的顺序;\n",
    "* 一般情况(大端模式), 左边字节位高于右边字节位, 左边地址编号小于右边地址编号;\n",
    "* **大端字节序**: 将高字节数据存放在内存低地址处, 低字节数据存放在高地址处;\n",
    "* 小端字节序: 将低字节数据存放在内存低地址处, 高字节数据存放在内存高地址处;   "
   ]
  },
  {
   "cell_type": "markdown",
   "metadata": {},
   "source": [
    "结构数组的存取方式和一般数组一样, 可把结构数组当成一张表, 下标相当于表的行列索引;"
   ]
  },
  {
   "cell_type": "code",
   "execution_count": 32,
   "metadata": {},
   "outputs": [
    {
     "name": "stdout",
     "output_type": "stream",
     "text": [
      "                     a                                  a[0]        \n",
      "-------------------------------------------     --------------------\n",
      "[(b'Zhang', 32, 75.5), (b'Wang', 24, 65.2)]     (b'Zhang', 32, 75.5)\n",
      "\n",
      "a[0][\"name\"]          a['name']     \n",
      "------------     -------------------\n",
      "b'Zhang'         [b'Zhang', b'Wang']\n",
      "\n",
      "[0]行索引,['name']列索引\n"
     ]
    }
   ],
   "source": [
    "%ap 5 a;a[0];; a[0][\"name\"];a['name']        \n",
    "print(\"\\n[0]行索引,['name']列索引\")"
   ]
  },
  {
   "cell_type": "markdown",
   "metadata": {},
   "source": [
    "> 可以用字段名获得对应的字段值, 这里的字段既可以是结构元素的字段, 也可以是结构数组的字段"
   ]
  },
  {
   "cell_type": "markdown",
   "metadata": {
    "collapsed": true
   },
   "source": [
    "a.tostring() 或 a.tofile() 方法 可以将数组 a 以二进制的方式转换成字符串或写入文件, 参数表示文件名, 文件名的后缀不能任意取"
   ]
  },
  {
   "cell_type": "code",
   "execution_count": 88,
   "metadata": {},
   "outputs": [],
   "source": [
    "a.tofile(\"test.bin\")"
   ]
  },
  {
   "cell_type": "markdown",
   "metadata": {},
   "source": [
    "执行C语言程序可以将test.bin文件中的数据读取出来"
   ]
  },
  {
   "cell_type": "code",
   "execution_count": 89,
   "metadata": {},
   "outputs": [
    {
     "name": "stdout",
     "output_type": "stream",
     "text": [
      "Overwriting read_struct_array.c\n"
     ]
    }
   ],
   "source": [
    "%%file read_struct_array.c\n",
    "#include <stdio.h>\n",
    "\n",
    "struct person \n",
    "{\n",
    "    char name[30];\n",
    "    int age;\n",
    "    float weight;\n",
    "};\n",
    "\n",
    "struct person p[3];\n",
    "\n",
    "void main ()\n",
    "{\n",
    "    FILE *fp;\n",
    "    int i;\n",
    "    fp=fopen(\"test.bin\",\"rb\");\n",
    "    fread(p, sizeof(struct person), 2, fp);\n",
    "    fclose(fp);\n",
    "    for(i=0;i<2;i++)\n",
    "    {\n",
    "        printf(\"%s %d %f\\n\", p[i].name, p[i].age, p[i].weight);\n",
    "    }\n",
    "}"
   ]
  },
  {
   "cell_type": "code",
   "execution_count": 90,
   "metadata": {},
   "outputs": [
    {
     "name": "stdout",
     "output_type": "stream",
     "text": [
      "Zhang 40 75.500000\n",
      "Li 24 65.199997\n"
     ]
    }
   ],
   "source": [
    "!gcc read_struct_array.c -o read_struct_array.exe\n",
    "!read_struct_array.exe"
   ]
  },
  {
   "cell_type": "markdown",
   "metadata": {},
   "source": [
    "结构类型可以包含其他的结构类型"
   ]
  },
  {
   "cell_type": "code",
   "execution_count": 92,
   "metadata": {},
   "outputs": [
    {
     "data": {
      "text/plain": [
       "dtype([('f1', [('f2', '<i2')])])"
      ]
     },
     "execution_count": 92,
     "metadata": {},
     "output_type": "execute_result"
    }
   ],
   "source": [
    "np.dtype([('f1', [('f2', np.int16)])])\n",
    "# 字段为 f1 的结构, "
   ]
  },
  {
   "cell_type": "markdown",
   "metadata": {},
   "source": [
    "    当某个字段为数组时,用元组的第三个元素表示形状"
   ]
  },
  {
   "cell_type": "code",
   "execution_count": 93,
   "metadata": {},
   "outputs": [
    {
     "data": {
      "text/plain": [
       "dtype([('f0', '<i4'), ('f1', '<f8', (2, 3))])"
      ]
     },
     "execution_count": 93,
     "metadata": {},
     "output_type": "execute_result"
    }
   ],
   "source": [
    "np.dtype([('f0', 'i4'), ('f1', 'f8', (2, 3))])"
   ]
  },
  {
   "cell_type": "markdown",
   "metadata": {},
   "source": [
    "用字节偏移量定义结构数组: \n",
    "\n",
    "surname 结构的字段名, 值为字段的类型描述, 类型描述的第二个值表示以字节为单位的偏移量"
   ]
  },
  {
   "cell_type": "code",
   "execution_count": 94,
   "metadata": {},
   "outputs": [
    {
     "data": {
      "text/plain": [
       "dtype([('surname', 'S25'), ('age', 'u1')])"
      ]
     },
     "execution_count": 94,
     "metadata": {},
     "output_type": "execute_result"
    }
   ],
   "source": [
    "np.dtype({'surname':('S25',0),'age':(np.uint8,25)})"
   ]
  },
  {
   "cell_type": "markdown",
   "metadata": {},
   "source": [
    "### 内存结构"
   ]
  },
  {
   "cell_type": "markdown",
   "metadata": {},
   "source": [
    "数组对象是如何在内存中存储的?\n",
    "\n",
    "**ndarray数据结构:**\n",
    "\n",
    "1. dtype: 描述元素类型\n",
    "1. data: 数据存储区域\n",
    "1. strides: 轴元素间隔\n",
    "1. dim count: 维数\n",
    "1. dimension: 维度"
   ]
  },
  {
   "cell_type": "code",
   "execution_count": 95,
   "metadata": {},
   "outputs": [
    {
     "data": {
      "text/plain": [
       "array([[0., 1., 2.],\n",
       "       [3., 4., 5.],\n",
       "       [6., 7., 8.]], dtype=float32)"
      ]
     },
     "execution_count": 95,
     "metadata": {},
     "output_type": "execute_result"
    }
   ],
   "source": [
    "a=np.array(np.arange(9).reshape(3,3),dtype=np.float32)\n",
    "a"
   ]
  },
  {
   "cell_type": "markdown",
   "metadata": {},
   "source": [
    "**stride 属性** 保存每个轴上相邻两个元素的地址差."
   ]
  },
  {
   "cell_type": "code",
   "execution_count": 96,
   "metadata": {},
   "outputs": [
    {
     "data": {
      "text/plain": [
       "(12, 4)"
      ]
     },
     "execution_count": 96,
     "metadata": {},
     "output_type": "execute_result"
    }
   ],
   "source": [
    "a.strides"
   ]
  },
  {
   "cell_type": "markdown",
   "metadata": {},
   "source": [
    "> \n",
    "一个单精度浮点数占4个字节,第0轴增加12个字节正好是3个单精度浮点数的总字节数,第一轴增加4个字节,正好是增加一个单精度浮点数"
   ]
  },
  {
   "cell_type": "code",
   "execution_count": 97,
   "metadata": {},
   "outputs": [
    {
     "data": {
      "text/plain": [
       "array([[0., 2.],\n",
       "       [3., 5.],\n",
       "       [6., 8.]], dtype=float32)"
      ]
     },
     "execution_count": 97,
     "metadata": {},
     "output_type": "execute_result"
    }
   ],
   "source": [
    "b=a[::,::2]\n",
    "b"
   ]
  },
  {
   "cell_type": "code",
   "execution_count": 98,
   "metadata": {},
   "outputs": [
    {
     "data": {
      "text/plain": [
       "(12, 8)"
      ]
     },
     "execution_count": 98,
     "metadata": {},
     "output_type": "execute_result"
    }
   ],
   "source": [
    "b.strides"
   ]
  },
  {
   "cell_type": "markdown",
   "metadata": {},
   "source": [
    "通过切片联系的数组a与数组b共享存储空间, 所以他们的strides属性保持着轴与轴的对应关系"
   ]
  },
  {
   "cell_type": "code",
   "execution_count": 99,
   "metadata": {},
   "outputs": [
    {
     "data": {
      "text/plain": [
       "array([[0., 1., 2.],\n",
       "       [3., 4., 5.]], dtype=float32)"
      ]
     },
     "execution_count": 99,
     "metadata": {},
     "output_type": "execute_result"
    }
   ],
   "source": [
    "c=a[[0,1]]\n",
    "c"
   ]
  },
  {
   "cell_type": "markdown",
   "metadata": {},
   "source": [
    "**元素的编址方式:**\n",
    "\n",
    "Fortran 格式按列给元素地址编号, C 语言格式按行给元素地址编号, MATLAB也是按列给元素地址编号"
   ]
  },
  {
   "cell_type": "code",
   "execution_count": 100,
   "metadata": {},
   "outputs": [
    {
     "data": {
      "text/plain": [
       "(4, 12)"
      ]
     },
     "execution_count": 100,
     "metadata": {},
     "output_type": "execute_result"
    }
   ],
   "source": [
    "a_for = np.array([[0,1,2],[3,4,5],[6,7,8]], dtype=np.float32, order=\"F\")\n",
    "a_for.strides"
   ]
  },
  {
   "cell_type": "markdown",
   "metadata": {},
   "source": [
    "数组的 flag 属性描述了其存储信息的一些属性"
   ]
  },
  {
   "cell_type": "code",
   "execution_count": 103,
   "metadata": {},
   "outputs": [
    {
     "name": "stdout",
     "output_type": "stream",
     "text": [
      "  C_CONTIGUOUS : True\n",
      "  F_CONTIGUOUS : False\n",
      "  OWNDATA : True\n",
      "  WRITEABLE : True\n",
      "  ALIGNED : True\n",
      "  WRITEBACKIFCOPY : False\n",
      "  UPDATEIFCOPY : False\n",
      "c_contiguous: True\n"
     ]
    }
   ],
   "source": [
    "print(a.flags)\n",
    "print( \"c_contiguous:\", a.flags.c_contiguous)\n",
    "# OWNDATA : 是否享有完整的存储区域, 视图没有 "
   ]
  },
  {
   "cell_type": "code",
   "execution_count": 104,
   "metadata": {},
   "outputs": [
    {
     "data": {
      "text/plain": [
       "  C_CONTIGUOUS : False\n",
       "  F_CONTIGUOUS : True\n",
       "  OWNDATA : False\n",
       "  WRITEABLE : True\n",
       "  ALIGNED : True\n",
       "  WRITEBACKIFCOPY : False\n",
       "  UPDATEIFCOPY : False"
      ]
     },
     "execution_count": 104,
     "metadata": {},
     "output_type": "execute_result"
    }
   ],
   "source": [
    "a.T.flags\n",
    "# 转置相当于改变了元素的编址方式"
   ]
  },
  {
   "cell_type": "code",
   "execution_count": 105,
   "metadata": {},
   "outputs": [
    {
     "data": {
      "text/plain": [
       "  C_CONTIGUOUS : False\n",
       "  F_CONTIGUOUS : False\n",
       "  OWNDATA : False\n",
       "  WRITEABLE : True\n",
       "  ALIGNED : True\n",
       "  WRITEBACKIFCOPY : False\n",
       "  UPDATEIFCOPY : False"
      ]
     },
     "execution_count": 105,
     "metadata": {},
     "output_type": "execute_result"
    }
   ],
   "source": [
    "b.flags\n",
    "# b 不享有完整的地址, 并且地址顺序不连续"
   ]
  },
  {
   "cell_type": "markdown",
   "metadata": {},
   "source": [
    "**base 属性** 可以获得视图数组的原始数组"
   ]
  },
  {
   "cell_type": "code",
   "execution_count": 106,
   "metadata": {},
   "outputs": [
    {
     "data": {
      "text/plain": [
       "(2625172091568, 2625172091568)"
      ]
     },
     "execution_count": 106,
     "metadata": {},
     "output_type": "execute_result"
    }
   ],
   "source": [
    " id(b.base), id(a)"
   ]
  },
  {
   "cell_type": "markdown",
   "metadata": {},
   "source": [
    "**view 方法** 可以从同一块二进制数据区, 创建不同 dtype 类型的数组对象 ( 01 组合不同, 结果也变得不同)"
   ]
  },
  {
   "cell_type": "code",
   "execution_count": 107,
   "metadata": {},
   "outputs": [],
   "source": [
    "a = np.array([[0, 1], [2, 3], [4, 5]], dtype=np.float32)\n",
    "b = a.view(np.uint32)\n",
    "c = a.view(np.uint8)"
   ]
  },
  {
   "cell_type": "code",
   "execution_count": 108,
   "metadata": {},
   "outputs": [
    {
     "data": {
      "text/plain": [
       "array([[         0, 1065353216],\n",
       "       [1073741824, 1077936128],\n",
       "       [1082130432, 1084227584]], dtype=uint32)"
      ]
     },
     "execution_count": 108,
     "metadata": {},
     "output_type": "execute_result"
    }
   ],
   "source": [
    "b"
   ]
  },
  {
   "cell_type": "code",
   "execution_count": 109,
   "metadata": {},
   "outputs": [
    {
     "data": {
      "text/plain": [
       "array([[  0,   0,   0,   0,   0,   0, 128,  63],\n",
       "       [  0,   0,   0,  64,   0,   0,  64,  64],\n",
       "       [  0,   0, 128,  64,   0,   0, 160,  64]], dtype=uint8)"
      ]
     },
     "execution_count": 109,
     "metadata": {},
     "output_type": "execute_result"
    }
   ],
   "source": [
    " c"
   ]
  },
  {
   "cell_type": "markdown",
   "metadata": {},
   "source": [
    "> http://zh.wikipedia.org/wiki/平方根倒数速算法\n",
    "\n",
    "> 维基百科关于雷神之锤中使用`0x5f3759df`计算平方根倒数算法的解释"
   ]
  },
  {
   "cell_type": "code",
   "execution_count": 110,
   "metadata": {},
   "outputs": [
    {
     "data": {
      "text/plain": [
       "0.005045614041059743"
      ]
     },
     "execution_count": 110,
     "metadata": {},
     "output_type": "execute_result"
    }
   ],
   "source": [
    "number = np.linspace(0.1, 10, 100)\n",
    "y = number.astype(np.float32)  \n",
    "x2 = y * 0.5\n",
    "i = y.view(np.int32)  #❷\n",
    "i[:] = 0x5f3759df - (i >> 1)  #❸\n",
    "y = y * (1.5 - x2 * y * y)  #❹\n",
    "np.max(np.abs(1 / np.sqrt(number) - y))  #❺"
   ]
  },
  {
   "cell_type": "code",
   "execution_count": 111,
   "metadata": {},
   "outputs": [],
   "source": [
    "#%figonly=雷神之锤中计算平方根倒数算法的绝对误差\n",
    "import pylab as pl\n",
    "pl.plot(number, 1/np.sqrt(number) - y, lw=2)\n",
    "pl.ylabel(u\"真实值与近似值的误差\");"
   ]
  },
  {
   "cell_type": "markdown",
   "metadata": {},
   "source": [
    "*** \n",
    "***"
   ]
  },
  {
   "cell_type": "markdown",
   "metadata": {},
   "source": [
    "**带重叠的分块** 可以从一位数组创建对称矩阵"
   ]
  },
  {
   "cell_type": "code",
   "execution_count": 112,
   "metadata": {},
   "outputs": [
    {
     "data": {
      "text/plain": [
       "array([0, 1, 2, 3, 4, 5])"
      ]
     },
     "execution_count": 112,
     "metadata": {},
     "output_type": "execute_result"
    }
   ],
   "source": [
    "from numpy.lib.stride_tricks import as_strided\n",
    "a = np.arange(6)\n",
    "b = as_strided(a, shape=(4, 3), strides=(4, 4))\n",
    "a"
   ]
  },
  {
   "cell_type": "code",
   "execution_count": 113,
   "metadata": {},
   "outputs": [
    {
     "data": {
      "text/plain": [
       "array([[0, 1, 2],\n",
       "       [1, 2, 3],\n",
       "       [2, 3, 4],\n",
       "       [3, 4, 5]])"
      ]
     },
     "execution_count": 113,
     "metadata": {},
     "output_type": "execute_result"
    }
   ],
   "source": [
    "b\n",
    "# 假设0,1,2,3,4,5 也表示内存地址的编号, b的第一个元素是0, 从上到下, 从左到右, 地址都会增加4\n",
    "# 数组 a 与 b 共享存储结构, 并且 b 中的前两行有两个元素是重合的"
   ]
  },
  {
   "cell_type": "code",
   "execution_count": 114,
   "metadata": {},
   "outputs": [
    {
     "data": {
      "text/plain": [
       "((4,), (4, 4))"
      ]
     },
     "execution_count": 114,
     "metadata": {},
     "output_type": "execute_result"
    }
   ],
   "source": [
    "a.strides, b.strides"
   ]
  },
  {
   "cell_type": "code",
   "execution_count": null,
   "metadata": {},
   "outputs": [],
   "source": []
  }
 ],
 "metadata": {
  "kernelspec": {
   "display_name": "Python 3",
   "language": "python",
   "name": "python3"
  },
  "language_info": {
   "codemirror_mode": {
    "name": "ipython",
    "version": 3
   },
   "file_extension": ".py",
   "mimetype": "text/x-python",
   "name": "python",
   "nbconvert_exporter": "python",
   "pygments_lexer": "ipython3",
   "version": "3.6.5"
  },
  "toc": {
   "base_numbering": "2.1",
   "nav_menu": {},
   "number_sections": true,
   "sideBar": true,
   "skip_h1_title": true,
   "title_cell": "Table of Contents",
   "title_sidebar": "Contents",
   "toc_cell": false,
   "toc_position": {
    "height": "calc(100% - 180px)",
    "left": "10px",
    "top": "150px",
    "width": "165px"
   },
   "toc_section_display": true,
   "toc_window_display": false
  }
 },
 "nbformat": 4,
 "nbformat_minor": 1
}

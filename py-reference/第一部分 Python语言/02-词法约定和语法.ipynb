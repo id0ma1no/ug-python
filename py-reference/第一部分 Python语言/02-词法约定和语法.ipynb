{
 "cells": [
  {
   "cell_type": "code",
   "execution_count": 1,
   "metadata": {},
   "outputs": [
    {
     "data": {
      "text/plain": [
       "'%.2f'"
      ]
     },
     "execution_count": 1,
     "metadata": {},
     "output_type": "execute_result"
    }
   ],
   "source": [
    "import numpy as np\n",
    "import brtoz.brmagic\n",
    "%precision 2"
   ]
  },
  {
   "cell_type": "markdown",
   "metadata": {},
   "source": [
    "# 词法约定和语法"
   ]
  },
  {
   "cell_type": "markdown",
   "metadata": {},
   "source": [
    "## 行结构和缩进"
   ]
  },
  {
   "cell_type": "markdown",
   "metadata": {},
   "source": [
    "续行符`\\`:"
   ]
  },
  {
   "cell_type": "code",
   "execution_count": 2,
   "metadata": {},
   "outputs": [
    {
     "data": {
      "text/plain": [
       "2"
      ]
     },
     "execution_count": 2,
     "metadata": {},
     "output_type": "execute_result"
    }
   ],
   "source": [
    "1+\\\n",
    "    1"
   ]
  },
  {
   "cell_type": "markdown",
   "metadata": {},
   "source": [
    "包含在圆括号`(...)`, 方括号`[...]`, 大括号`{...}`, 和三引号`'''...'''`中的内容可以随意换行;"
   ]
  },
  {
   "cell_type": "code",
   "execution_count": 3,
   "metadata": {},
   "outputs": [
    {
     "data": {
      "text/plain": [
       "[0, 1, 2, 3]"
      ]
     },
     "execution_count": 3,
     "metadata": {},
     "output_type": "execute_result"
    }
   ],
   "source": [
    "a = [0,1,\n",
    "     2,3,]\n",
    "a"
   ]
  },
  {
   "cell_type": "markdown",
   "metadata": {},
   "source": [
    "类和函数定义的主体要缩进四格;  \n",
    "if,for语句的主体如果只有一行,可以同if|for写在同一行;"
   ]
  },
  {
   "cell_type": "code",
   "execution_count": 4,
   "metadata": {},
   "outputs": [],
   "source": [
    "if a: pass"
   ]
  },
  {
   "cell_type": "markdown",
   "metadata": {},
   "source": [
    "## 标志符和保留字"
   ]
  },
  {
   "cell_type": "markdown",
   "metadata": {},
   "source": [
    "标识符是用来识别变量,函数,类和其他对象的名称;"
   ]
  },
  {
   "cell_type": "markdown",
   "metadata": {},
   "source": [
    "保留字作为特殊语句的标志, 不可用作标识符;"
   ]
  },
  {
   "cell_type": "markdown",
   "metadata": {},
   "source": [
    "## 数字字面量"
   ]
  },
  {
   "cell_type": "markdown",
   "metadata": {},
   "source": [
    "**字面**: 承载字符的平面叫做字面, 比如纸面,显示屏等;  \n",
    "\n",
    "**字面量**: 从`字面`上可以直接看出的内容叫做`字面量`, 比如纸面或显示屏所承载的内容;\n",
    "\n",
    "**内置的数字字面量**:  \n",
    "* 布尔值  \n",
    "* 整数  \n",
    "* 浮点数\n",
    "* 复数  "
   ]
  },
  {
   "cell_type": "markdown",
   "metadata": {},
   "source": [
    "建立布尔数组, 整数数组, 浮点数数组和复数数组:"
   ]
  },
  {
   "cell_type": "code",
   "execution_count": 5,
   "metadata": {},
   "outputs": [
    {
     "name": "stdout",
     "output_type": "stream",
     "text": [
      "     a                   a_bool           \n",
      "------------  ----------------------------\n",
      "[0, 1, 2, 3]  [False,  True,  True,  True]\n",
      "\n",
      "   a_int          a_float                  a_complex            \n",
      "------------  ----------------  --------------------------------\n",
      "[0, 1, 2, 3]  [0., 1., 2., 3.]  [0.+0.j, 1.+0.j, 2.+0.j, 3.+0.j]\n"
     ]
    }
   ],
   "source": [
    "a_bool = np.array(a,dtype=np.bool)\n",
    "a_int = np.array(a,dtype=np.int)\n",
    "a_float = np.array(a,dtype=np.float)\n",
    "a_complex = np.array(a,dtype=np.complex)\n",
    "%A 2 a; a_bool;; a_int; a_float; a_complex"
   ]
  },
  {
   "cell_type": "markdown",
   "metadata": {},
   "source": [
    "**整数进制标记**:\n",
    "如果使用八进制, 十六进制, 二进制指定整数, 需要在指定面前分别添加进制标记`0o`,`0x`,`0b`;"
   ]
  },
  {
   "cell_type": "markdown",
   "metadata": {},
   "source": [
    "将十进制数字110转化为其他进制:"
   ]
  },
  {
   "cell_type": "code",
   "execution_count": 6,
   "metadata": {},
   "outputs": [
    {
     "name": "stdout",
     "output_type": "stream",
     "text": [
      " b       b_0b       b_0o    b_0x \n",
      "---  -----------  -------  ------\n",
      "110  '0b1101110'  '0o156'  '0x6e'\n"
     ]
    }
   ],
   "source": [
    "b = 110\n",
    "\n",
    "# 二进制中的110\n",
    "b_0b = bin(b)\n",
    "\n",
    "# 八进制中的110\n",
    "b_0o = oct(b)\n",
    "\n",
    "# 十六进制中的110\n",
    "b_0x = hex(b)\n",
    "\n",
    "%A b; b_0b; b_0o; b_0x"
   ]
  },
  {
   "cell_type": "markdown",
   "metadata": {},
   "source": [
    "将其他进制的110转化成十进制数字:"
   ]
  },
  {
   "cell_type": "code",
   "execution_count": 7,
   "metadata": {},
   "outputs": [
    {
     "name": "stdout",
     "output_type": "stream",
     "text": [
      "110  0b110  0o110  0x110\n",
      "---  -----  -----  -----\n",
      "110  6      72     272  \n"
     ]
    }
   ],
   "source": [
    "%A 110; 0b110; 0o110; 0x110"
   ]
  },
  {
   "cell_type": "markdown",
   "metadata": {},
   "source": [
    "## 字符串字面量"
   ]
  },
  {
   "cell_type": "markdown",
   "metadata": {},
   "source": [
    "### 字符串拼接"
   ]
  },
  {
   "cell_type": "markdown",
   "metadata": {},
   "source": [
    "字符串的拼接方式有五种:   \n",
    "\n",
    "`+`, `%`, `join()`, `format()`, `string.Template()`;"
   ]
  },
  {
   "cell_type": "code",
   "execution_count": 8,
   "metadata": {},
   "outputs": [],
   "source": [
    "s1 = 'ice'; s2 = 'Br'; s3 = 'Boat'\n",
    "d = {'k1':s1,'k2':s2,'k3':s3}"
   ]
  },
  {
   "cell_type": "markdown",
   "metadata": {},
   "source": [
    "1. 使用`+`或者`空格`拼接字符串: "
   ]
  },
  {
   "cell_type": "code",
   "execution_count": 9,
   "metadata": {},
   "outputs": [
    {
     "name": "stdout",
     "output_type": "stream",
     "text": [
      "  str_plus       'ice' 'Br' \" \" 'Boat'\n",
      "------------     ---------------------\n",
      "'iceBr Boat'     'iceBr Boat'         \n"
     ]
    }
   ],
   "source": [
    "str_plus= s1 + s2 + ' ' + s3\n",
    "%A 5 str_plus; 'ice' 'Br' \" \" 'Boat'"
   ]
  },
  {
   "cell_type": "markdown",
   "metadata": {},
   "source": [
    "2. 用`%`拼接字符串:"
   ]
  },
  {
   "cell_type": "code",
   "execution_count": 10,
   "metadata": {},
   "outputs": [
    {
     "name": "stdout",
     "output_type": "stream",
     "text": [
      "str_percent      str_percent2\n",
      "------------     ------------\n",
      "'iceBr Boat'     'iceBr Boat'\n"
     ]
    }
   ],
   "source": [
    "str_percent = '%s%s %s' % (s1,s2,s3)\n",
    "str_percent2 = '%(k1)s%(k2)s %(k3)s' % d\n",
    "%A 5 str_percent; str_percent2"
   ]
  },
  {
   "cell_type": "markdown",
   "metadata": {},
   "source": [
    "> `% d`: d是一个字典;"
   ]
  },
  {
   "cell_type": "markdown",
   "metadata": {},
   "source": [
    "3. 使用join()方法拼接字符串:"
   ]
  },
  {
   "cell_type": "code",
   "execution_count": 11,
   "metadata": {},
   "outputs": [
    {
     "name": "stdout",
     "output_type": "stream",
     "text": [
      " ' '.join(t)        '<>'.join(t) \n",
      "-------------     ---------------\n",
      "'ice Br Boat'     'ice<>Br<>Boat'\n"
     ]
    }
   ],
   "source": [
    "t = [s1, s2, s3]\n",
    "%A 5 ' '.join(t); '<>'.join(t)"
   ]
  },
  {
   "cell_type": "markdown",
   "metadata": {},
   "source": [
    "4. 使用format()方法拼接字符串:"
   ]
  },
  {
   "cell_type": "code",
   "execution_count": 12,
   "metadata": {},
   "outputs": [
    {
     "name": "stdout",
     "output_type": "stream",
     "text": [
      " str_format      str_format2      str_format3 \n",
      "------------     ------------     ------------\n",
      "'iceBr Boat'     'Boat iceBr'     'iceBr Boat'\n"
     ]
    }
   ],
   "source": [
    "str_format = '{}{} {}'.format(s1,s2,s3)\n",
    "str_format2 = '{2} {0}{1}'.format(s1,s2,s3)\n",
    "str_format3 ='{a}{b} {c}'.format(a=s1,b=s2,c=s3)\n",
    "%A 5 str_format;str_format2;str_format3"
   ]
  },
  {
   "cell_type": "markdown",
   "metadata": {},
   "source": [
    "5. 使用Template对象拼接字符串:"
   ]
  },
  {
   "cell_type": "code",
   "execution_count": 13,
   "metadata": {},
   "outputs": [
    {
     "data": {
      "text/plain": [
       "'iceBr Boat'"
      ]
     },
     "execution_count": 13,
     "metadata": {},
     "output_type": "execute_result"
    }
   ],
   "source": [
    "from string import Template\n",
    "str_tp = Template('${p1}${p2} ${p3}') \n",
    "str_tp.safe_substitute(p1=s1,p2=s2,p3=s3) "
   ]
  },
  {
   "cell_type": "markdown",
   "metadata": {},
   "source": [
    "三引号字符串:  \n",
    "* 三引号字符串可以分布在多行;  \n",
    "* 三引号用于保证其内的字符串可以按原样输出, 而不用担心其中的单引号或者双引号是否匹配;   \n",
    "\n",
    "* 如果三引号内只有一种引号: 三引号的输出外层用另一种引号;  \n",
    "* 如果三引号内既有单引号又有双引号: 三引号的输出外层用单引号, 内层的双引号还用双引号, 内层的单引号写成转义字符的形式, 并且内层单双引号的位置不能动;  \n"
   ]
  },
  {
   "cell_type": "code",
   "execution_count": 14,
   "metadata": {},
   "outputs": [
    {
     "name": "stdout",
     "output_type": "stream",
     "text": [
      "         s1                    s2         \n",
      "-------------------  ---------------------\n",
      "\" 'hello' 'world' \"  ' \\'hello\\' \"world\" '\n"
     ]
    }
   ],
   "source": [
    "s1 = ''' 'hello' 'world' '''\n",
    "s2 = ''' 'hello' \"world\" '''\n",
    "%A 2 s1; s2"
   ]
  },
  {
   "cell_type": "markdown",
   "metadata": {},
   "source": [
    "### 转义字符"
   ]
  },
  {
   "cell_type": "markdown",
   "metadata": {},
   "source": [
    "`\\ooo`表示三位八进制数,最大值为`\\377`, 对应ASCII字符集中的字符:"
   ]
  },
  {
   "cell_type": "code",
   "execution_count": 15,
   "metadata": {},
   "outputs": [
    {
     "name": "stdout",
     "output_type": "stream",
     "text": [
      "'\\16'   '\\377'  oct(255)\n",
      "------  ------  --------\n",
      "'\\x0e'  'ÿ'     '0o377' \n"
     ]
    }
   ],
   "source": [
    "%A '\\16'; '\\377'; oct(255)"
   ]
  },
  {
   "cell_type": "markdown",
   "metadata": {},
   "source": [
    "`\\xhh`两位十六进制数, 最大值为`xff`, 对应ASCII字符集中的字符:"
   ]
  },
  {
   "cell_type": "code",
   "execution_count": 16,
   "metadata": {},
   "outputs": [
    {
     "name": "stdout",
     "output_type": "stream",
     "text": [
      "'\\xf1o'  hex(255)\n",
      "-------  --------\n",
      "'ño'     '0xff'  \n"
     ]
    }
   ],
   "source": [
    "%A '\\xf1o'; hex(255)"
   ]
  },
  {
   "cell_type": "markdown",
   "metadata": {},
   "source": [
    "`\\uxxxx`, `\\Uxxxxxxxx`表示四位和八位十六进制数, 对应Unicode字符集中的字符:"
   ]
  },
  {
   "cell_type": "code",
   "execution_count": 17,
   "metadata": {},
   "outputs": [
    {
     "name": "stdout",
     "output_type": "stream",
     "text": [
      "\"\\u1221\"  0xffff  0xffffffff\n",
      "--------  ------  ----------\n",
      "'ሡ'       65535   4294967295\n"
     ]
    }
   ],
   "source": [
    "%A \"\\u1221\"; 0xffff; 0xffffffff"
   ]
  },
  {
   "cell_type": "markdown",
   "metadata": {},
   "source": [
    "`\\N{unicode_name}`: 根据Unicode字符名创建Unicode字符;"
   ]
  },
  {
   "cell_type": "code",
   "execution_count": 18,
   "metadata": {},
   "outputs": [
    {
     "data": {
      "text/plain": [
       "'ñ'"
      ]
     },
     "execution_count": 18,
     "metadata": {},
     "output_type": "execute_result"
    }
   ],
   "source": [
    "'\\N{latin small letter n with tilde}'"
   ]
  },
  {
   "cell_type": "markdown",
   "metadata": {},
   "source": [
    "## 容器"
   ]
  },
  {
   "cell_type": "markdown",
   "metadata": {},
   "source": [
    "**容器**: 能容纳多个元素值的对象都叫做容器, 如元组(), 列表[], 字典{}等;  \n",
    "* 列表,元组和字典的字面量可以在`不使用续行符的情况下分布在多行`;    \n",
    "* 最后一项后面`允许跟一个逗号`;"
   ]
  },
  {
   "cell_type": "markdown",
   "metadata": {},
   "source": [
    "## 运算符,分隔符和特殊符号"
   ]
  },
  {
   "cell_type": "markdown",
   "metadata": {},
   "source": [
    "`from numpy impor *`: **\\***表示导入模块中的所有内容;"
   ]
  },
  {
   "cell_type": "markdown",
   "metadata": {},
   "source": []
  },
  {
   "cell_type": "markdown",
   "metadata": {},
   "source": [
    "## 文档字符串"
   ]
  },
  {
   "cell_type": "markdown",
   "metadata": {},
   "source": [
    "函数, 类, 或模块, 在定义时如果主体的第一条语句是字符串的话, 该字符串就叫做**文档字符串**;   \n",
    "* 文档字符串可以通过对象的`__doc__`属性访问;"
   ]
  },
  {
   "cell_type": "markdown",
   "metadata": {},
   "source": []
  },
  {
   "cell_type": "markdown",
   "metadata": {},
   "source": [
    "## 装饰器"
   ]
  },
  {
   "cell_type": "markdown",
   "metadata": {},
   "source": [
    "紧靠函数(方法或类)定义之上, 用@所标记的对象叫做**装饰器**;  \n",
    "* 装饰器的作用在于其可以规定函数的行为;  "
   ]
  },
  {
   "cell_type": "markdown",
   "metadata": {},
   "source": [
    "## 源代码编码"
   ]
  },
  {
   "cell_type": "markdown",
   "metadata": {},
   "source": [
    "如何改变程序的`字符编码方式`:  \n",
    "* 在程序的第一行或者第二行输入`# -*- coding: utf-8 -*-`\n"
   ]
  }
 ],
 "metadata": {
  "kernelspec": {
   "display_name": "Python 3",
   "language": "python",
   "name": "python3"
  },
  "language_info": {
   "codemirror_mode": {
    "name": "ipython",
    "version": 3
   },
   "file_extension": ".py",
   "mimetype": "text/x-python",
   "name": "python",
   "nbconvert_exporter": "python",
   "pygments_lexer": "ipython3",
   "version": "3.6.5"
  },
  "toc": {
   "base_numbering": "2",
   "nav_menu": {},
   "number_sections": true,
   "sideBar": true,
   "skip_h1_title": false,
   "title_cell": "Table of Contents",
   "title_sidebar": "Contents",
   "toc_cell": false,
   "toc_position": {
    "height": "calc(100% - 180px)",
    "left": "10px",
    "top": "150px",
    "width": "179px"
   },
   "toc_section_display": true,
   "toc_window_display": true
  }
 },
 "nbformat": 4,
 "nbformat_minor": 2
}

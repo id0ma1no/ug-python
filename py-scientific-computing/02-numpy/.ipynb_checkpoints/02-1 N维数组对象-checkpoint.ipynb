{
 "cells": [
  {
   "cell_type": "code",
   "execution_count": 1,
   "metadata": {},
   "outputs": [
    {
     "name": "stdout",
     "output_type": "stream",
     "text": [
      "^^^^^^^^^^^^^^^^^^^^^^^^^^^^^^^^^^^^^^^^^^^^^^!kk0:起始>^^^^^^^^^^^^^^^^^^^^^^^^^^^^^^^^^^^^^^^^^^^^^^\n"
     ]
    }
   ],
   "source": [
    "kk 0"
   ]
  },
  {
   "cell_type": "markdown",
   "metadata": {},
   "source": [
    "## N维数组对象"
   ]
  },
  {
   "cell_type": "markdown",
   "metadata": {},
   "source": [
    "### 创建"
   ]
  },
  {
   "cell_type": "markdown",
   "metadata": {},
   "source": [
    "* np.array()  \n",
    "* ndarray.shape"
   ]
  },
  {
   "cell_type": "code",
   "execution_count": 2,
   "metadata": {},
   "outputs": [
    {
     "name": "stdout",
     "output_type": "stream",
     "text": [
      "        c           c.shape\n",
      "------------------  -------\n",
      "[[ 1,  2,  3,  4],  (3, 4) \n",
      " [ 4,  5,  6,  7],         \n",
      " [ 7,  8,  9, 10]]         \n"
     ]
    }
   ],
   "source": [
    "c = np.array([[1, 2, 3, 4], [4, 5, 6, 7], [7, 8, 9, 10]])\n",
    "%C c; c.shape"
   ]
  },
  {
   "cell_type": "code",
   "execution_count": 3,
   "metadata": {},
   "outputs": [
    {
     "data": {
      "text/plain": [
       "array([[ 1,  2,  3],\n",
       "       [ 4,  4,  5],\n",
       "       [ 6,  7,  7],\n",
       "       [ 8,  9, 10]])"
      ]
     },
     "execution_count": 3,
     "metadata": {},
     "output_type": "execute_result"
    }
   ],
   "source": [
    "c.shape = 4, 3\n",
    "c"
   ]
  },
  {
   "cell_type": "code",
   "execution_count": 4,
   "metadata": {},
   "outputs": [
    {
     "data": {
      "text/plain": [
       "array([[ 1,  2,  3,  4,  4,  5],\n",
       "       [ 6,  7,  7,  8,  9, 10]])"
      ]
     },
     "execution_count": 4,
     "metadata": {},
     "output_type": "execute_result"
    }
   ],
   "source": [
    "c.shape = 2, -1\n",
    "c"
   ]
  },
  {
   "cell_type": "markdown",
   "metadata": {},
   "source": [
    "* ndarray.reshape()"
   ]
  },
  {
   "cell_type": "code",
   "execution_count": 5,
   "metadata": {},
   "outputs": [
    {
     "name": "stdout",
     "output_type": "stream",
     "text": [
      "     a           d    \n",
      "------------  --------\n",
      "[1, 2, 3, 4]  [[1, 2],\n",
      "               [3, 4]]\n"
     ]
    }
   ],
   "source": [
    "a = np.array([1,2,3,4])\n",
    "d = a.reshape(2,2)\n",
    "%C a;d"
   ]
  },
  {
   "cell_type": "code",
   "execution_count": 6,
   "metadata": {},
   "outputs": [
    {
     "name": "stdout",
     "output_type": "stream",
     "text": [
      "         a                 d      \n",
      "--------------------  ------------\n",
      "[100,   2,   3,   4]  [[100,   2],\n",
      "                       [  3,   4]]\n"
     ]
    }
   ],
   "source": [
    "d[0,0] = 100 \n",
    "%C a;d"
   ]
  },
  {
   "cell_type": "markdown",
   "metadata": {},
   "source": [
    "1. shape对原始数组进行操作, reshape则产生新的数组;    \n",
    "1. 原始数组和结果数组的形状虽然不同, 但是共享数据存储空间;  \n",
    "1. 通过reshape联系的两个变量(a,d), 本就是一个对象, 只是调用对象时把元素的排列方式变化了, 元素在内存中的排列顺序仍然未变;"
   ]
  },
  {
   "cell_type": "markdown",
   "metadata": {},
   "source": [
    "### 元素类型"
   ]
  },
  {
   "cell_type": "markdown",
   "metadata": {},
   "source": [
    "dtype做属性名: 描述数组中元素的类型"
   ]
  },
  {
   "cell_type": "code",
   "execution_count": 7,
   "metadata": {},
   "outputs": [
    {
     "data": {
      "text/plain": [
       "dtype('int32')"
      ]
     },
     "execution_count": 7,
     "metadata": {},
     "output_type": "execute_result"
    }
   ],
   "source": [
    "c.dtype"
   ]
  },
  {
   "cell_type": "markdown",
   "metadata": {},
   "source": [
    "dtype做关键字参数: 指定数组中元素的类型"
   ]
  },
  {
   "cell_type": "code",
   "execution_count": 8,
   "metadata": {},
   "outputs": [
    {
     "name": "stdout",
     "output_type": "stream",
     "text": [
      "  ai32.dtype        af.dtype            ac.dtype     \n",
      "--------------  ----------------  -------------------\n",
      "dtype('int32')  dtype('float64')  dtype('complex128')\n"
     ]
    }
   ],
   "source": [
    "ai32 = np.array([1, 2, 3, 4], dtype=np.int32)\n",
    "af = np.array([1, 2, 3, 4], dtype=float)\n",
    "ac = np.array([1, 2, 3, 4], dtype=complex)\n",
    "\n",
    "%C ai32.dtype; af.dtype; ac.dtype"
   ]
  },
  {
   "cell_type": "markdown",
   "metadata": {},
   "source": [
    "type()是一个内嵌的函数, 返回对象所属的类;  \n",
    "dtype是N维数组特有的一个属性(描述数据的类型);"
   ]
  },
  {
   "cell_type": "code",
   "execution_count": 9,
   "metadata": {},
   "outputs": [
    {
     "name": "stdout",
     "output_type": "stream",
     "text": [
      "   c.dtype         type(c)   \n",
      "--------------  -------------\n",
      "dtype('int32')  numpy.ndarray\n"
     ]
    }
   ],
   "source": [
    "%C c.dtype; type(c)"
   ]
  },
  {
   "cell_type": "markdown",
   "metadata": {},
   "source": [
    "查看N维数组可存放的所有元素类型:"
   ]
  },
  {
   "cell_type": "code",
   "execution_count": 10,
   "metadata": {},
   "outputs": [
    {
     "name": "stdout",
     "output_type": "stream",
     "text": [
      "<class 'numpy.complex64'>  |<class 'numpy.complex128'> |<class 'numpy.timedelta64'> |<class 'numpy.int32'>   |\n",
      "<class 'numpy.uint8'>      |<class 'numpy.float64'>    |<class 'numpy.void'>        |<class 'numpy.int64'>   |\n",
      "<class 'numpy.uint32'>     |<class 'numpy.object_'>    |<class 'numpy.int8'>        |<class 'numpy.int32'>   |\n",
      "<class 'numpy.uint64'>     |<class 'numpy.int16'>      |<class 'numpy.uint32'>      |<class 'numpy.str_'>    |\n",
      "<class 'numpy.datetime64'> |<class 'numpy.float32'>    |<class 'numpy.bool_'>       |<class 'numpy.float64'> |\n",
      "<class 'numpy.complex128'> |<class 'numpy.float16'>    |<class 'numpy.bytes_'>      |<class 'numpy.uint16'>  |\n",
      "\n"
     ]
    }
   ],
   "source": [
    "col 4 set(np.typeDict.values())"
   ]
  },
  {
   "cell_type": "markdown",
   "metadata": {},
   "source": [
    "与np.float64相对应的所有字符串表示:"
   ]
  },
  {
   "cell_type": "code",
   "execution_count": 11,
   "metadata": {},
   "outputs": [
    {
     "data": {
      "text/plain": [
       "['double', 'd', 12, 'float64', 'Float64', 'float_', 'float']"
      ]
     },
     "execution_count": 11,
     "metadata": {},
     "output_type": "execute_result"
    }
   ],
   "source": [
    "[key for key, value in np.typeDict.items() if value is np.float64]"
   ]
  },
  {
   "cell_type": "markdown",
   "metadata": {},
   "source": [
    "8位的二进制数可以表示哪些整数?    \n",
    "* 无符号整数: 可以表示2**8=256个整数: 0->255;    \n",
    "* 有符号整数: 正数范围1->127, 负数范围 -128 -> -1, 0; 无法表示整数128;"
   ]
  },
  {
   "cell_type": "code",
   "execution_count": 12,
   "metadata": {},
   "outputs": [
    {
     "name": "stdout",
     "output_type": "stream",
     "text": [
      "np.int8(127)  np.int8(-128)  np.int8(0)  np.int8(128)#溢出\n",
      "------------  -------------  ----------  ---------------\n",
      "127           -128           0           -128           \n"
     ]
    }
   ],
   "source": [
    "%C np.int8(127); np.int8(-128); np.int8(0); np.int8(128)#溢出"
   ]
  },
  {
   "cell_type": "markdown",
   "metadata": {},
   "source": [
    "单个numpy数值对象的运算速度比Py内置对象的运算速度慢:"
   ]
  },
  {
   "cell_type": "code",
   "execution_count": 13,
   "metadata": {},
   "outputs": [
    {
     "name": "stdout",
     "output_type": "stream",
     "text": [
      "74.1 ns ± 2.13 ns per loop (mean ± std. dev. of 7 runs, 10000000 loops each)\n",
      "128 ns ± 2.59 ns per loop (mean ± std. dev. of 7 runs, 10000000 loops each)\n"
     ]
    }
   ],
   "source": [
    "v1 = 3.14\n",
    "v2 = np.float64(v1)\n",
    "%timeit v1*v1\n",
    "%timeit v2*v2"
   ]
  },
  {
   "cell_type": "markdown",
   "metadata": {},
   "source": [
    "astype方法可以对数组的元素类型进行转换:"
   ]
  },
  {
   "cell_type": "code",
   "execution_count": 14,
   "metadata": {},
   "outputs": [
    {
     "name": "stdout",
     "output_type": "stream",
     "text": [
      "    t1.dtype            t2.dtype          t3.dtype          t4.dtype     \n",
      "----------------  -------------------  --------------  ------------------\n",
      "dtype('float64')  dtype('complex128')  dtype('int32')  dtype('complex64')\n"
     ]
    }
   ],
   "source": [
    "t1 = np.array([1, 2, 3, 4], dtype=np.float)\n",
    "t2 = np.array([1, 2, 3, 4], dtype=np.complex)\n",
    "t3 = t1.astype(np.int32)\n",
    "t4 = t2.astype(np.complex64)\n",
    "%C t1.dtype; t2.dtype; t3.dtype; t4.dtype"
   ]
  },
  {
   "cell_type": "markdown",
   "metadata": {},
   "source": [
    "### 自动生成数组"
   ]
  },
  {
   "cell_type": "markdown",
   "metadata": {},
   "source": [
    "* np.arrange(): 通过初终步长创建等差数列;"
   ]
  },
  {
   "cell_type": "code",
   "execution_count": 15,
   "metadata": {},
   "outputs": [
    {
     "data": {
      "text/plain": [
       "array([0. , 0.1, 0.2, 0.3, 0.4, 0.5, 0.6, 0.7, 0.8, 0.9])"
      ]
     },
     "execution_count": 15,
     "metadata": {},
     "output_type": "execute_result"
    }
   ],
   "source": [
    "np.arange(0, 1, 0.1)"
   ]
  },
  {
   "cell_type": "markdown",
   "metadata": {},
   "source": [
    "* np.linespace: 通过初终总长创建等差数列;\n",
    "* **默认步长(包含终点)=长度/(个数-1)**;"
   ]
  },
  {
   "cell_type": "code",
   "execution_count": 16,
   "metadata": {},
   "outputs": [
    {
     "data": {
      "text/plain": [
       "array([0.        , 0.11111111, 0.22222222, 0.33333333, 0.44444444,\n",
       "       0.55555556, 0.66666667, 0.77777778, 0.88888889, 1.        ])"
      ]
     },
     "execution_count": 16,
     "metadata": {},
     "output_type": "execute_result"
    }
   ],
   "source": [
    "np.linspace(0, 1, 10) "
   ]
  },
  {
   "cell_type": "code",
   "execution_count": 17,
   "metadata": {},
   "outputs": [
    {
     "data": {
      "text/plain": [
       "array([0. , 0.1, 0.2, 0.3, 0.4, 0.5, 0.6, 0.7, 0.8, 0.9])"
      ]
     },
     "execution_count": 17,
     "metadata": {},
     "output_type": "execute_result"
    }
   ],
   "source": [
    "np.linspace(0, 1, 10, endpoint=False) # 步长为1/10"
   ]
  },
  {
   "cell_type": "markdown",
   "metadata": {},
   "source": [
    "logspace根据linspace创建的等差数列创建等比数列:"
   ]
  },
  {
   "cell_type": "code",
   "execution_count": 18,
   "metadata": {},
   "outputs": [
    {
     "data": {
      "text/plain": [
       "array([0. , 0.5, 1. , 1.5, 2. ])"
      ]
     },
     "execution_count": 18,
     "metadata": {},
     "output_type": "execute_result"
    }
   ],
   "source": [
    "np.linspace(0, 2, 5)"
   ]
  },
  {
   "cell_type": "code",
   "execution_count": 19,
   "metadata": {},
   "outputs": [
    {
     "data": {
      "text/plain": [
       "array([  1.        ,   3.16227766,  10.        ,  31.6227766 ,\n",
       "       100.        ])"
      ]
     },
     "execution_count": 19,
     "metadata": {},
     "output_type": "execute_result"
    }
   ],
   "source": [
    "np.logspace(0, 2, 5) # 上例的每个元素做10的幂次"
   ]
  },
  {
   "cell_type": "code",
   "execution_count": 20,
   "metadata": {},
   "outputs": [
    {
     "data": {
      "text/plain": [
       "array([1.        , 1.41421356, 2.        , 2.82842712, 4.        ])"
      ]
     },
     "execution_count": 20,
     "metadata": {},
     "output_type": "execute_result"
    }
   ],
   "source": [
    "np.logspace(0, 2, 5,base=2) # 上上例的每个元素做2的幂次"
   ]
  },
  {
   "cell_type": "markdown",
   "metadata": {},
   "source": [
    "创建指定形状的特殊数组:    \n",
    "* ones(): 创建全1数组;     \n",
    "* zeros(): 创建全0数组;    \n",
    "* empty(): 创建空数组;"
   ]
  },
  {
   "cell_type": "code",
   "execution_count": 21,
   "metadata": {},
   "outputs": [
    {
     "data": {
      "text/plain": [
       "array([0.+0.j, 0.+0.j, 0.+0.j, 0.+0.j], dtype=complex64)"
      ]
     },
     "execution_count": 21,
     "metadata": {},
     "output_type": "execute_result"
    }
   ],
   "source": [
    "np.zeros(4, np.complex64)"
   ]
  },
  {
   "cell_type": "code",
   "execution_count": 22,
   "metadata": {},
   "outputs": [
    {
     "data": {
      "text/plain": [
       "array([[1., 1., 1.],\n",
       "       [1., 1., 1.],\n",
       "       [1., 1., 1.]])"
      ]
     },
     "execution_count": 22,
     "metadata": {},
     "output_type": "execute_result"
    }
   ],
   "source": [
    "np.ones((3,3))"
   ]
  },
  {
   "cell_type": "code",
   "execution_count": 23,
   "metadata": {},
   "outputs": [
    {
     "data": {
      "text/plain": [
       "array([[         0, 1072693248,          0],\n",
       "       [1073741824,          0, 1074266112]])"
      ]
     },
     "execution_count": 23,
     "metadata": {},
     "output_type": "execute_result"
    }
   ],
   "source": [
    "np.empty((2,3), np.int)"
   ]
  },
  {
   "cell_type": "markdown",
   "metadata": {},
   "source": [
    "* full(): 将数组初始化为指定的值;"
   ]
  },
  {
   "cell_type": "code",
   "execution_count": 24,
   "metadata": {},
   "outputs": [
    {
     "data": {
      "text/plain": [
       "array([[3.14159265, 3.14159265, 3.14159265],\n",
       "       [3.14159265, 3.14159265, 3.14159265],\n",
       "       [3.14159265, 3.14159265, 3.14159265]])"
      ]
     },
     "execution_count": 24,
     "metadata": {},
     "output_type": "execute_result"
    }
   ],
   "source": [
    "np.full((3,3), np.pi)"
   ]
  },
  {
   "cell_type": "markdown",
   "metadata": {},
   "source": [
    "按参数数组的形状创建特殊数组:    \n",
    "* zeros_like(), ones_like(), empty_like(), full_like();"
   ]
  },
  {
   "cell_type": "code",
   "execution_count": 25,
   "metadata": {},
   "outputs": [
    {
     "data": {
      "text/plain": [
       "array([[0, 0, 0, 0],\n",
       "       [0, 0, 0, 0],\n",
       "       [0, 0, 0, 0]])"
      ]
     },
     "execution_count": 25,
     "metadata": {},
     "output_type": "execute_result"
    }
   ],
   "source": [
    "c = np.array([[1, 2, 3, 4], [4, 5, 6, 7], [7, 8, 9, 10]])\n",
    "np.zeros_like(c)"
   ]
  },
  {
   "cell_type": "markdown",
   "metadata": {},
   "source": [
    "从字节序列(`b'xx'`)或者文件创建数组:    \n",
    "* frombuffer(), fromfile();"
   ]
  },
  {
   "cell_type": "code",
   "execution_count": 26,
   "metadata": {},
   "outputs": [
    {
     "name": "stdout",
     "output_type": "stream",
     "text": [
      "np.frombuffer(s, dtype=np.int8)  np.frombuffer(s, dtype=np.int16)\n",
      "-------------------------------  --------------------------------\n",
      "[97, 98]                         [25185]                         \n"
     ]
    }
   ],
   "source": [
    "s = b'ab'  #一个字母占八位二进制数, 可以表示一个int8, 两个字母可以表示一个int16\n",
    "%C np.frombuffer(s, dtype=np.int8); np.frombuffer(s, dtype=np.int16)"
   ]
  },
  {
   "cell_type": "code",
   "execution_count": 27,
   "metadata": {},
   "outputs": [
    {
     "name": "stdout",
     "output_type": "stream",
     "text": [
      "  二进制    八进制    十进制    十六进制    Unicode\n",
      "--------  --------  --------  ----------  ---------\n",
      " 1100001       141        97        0x61          a\n",
      " 1100010       142        98        0x62          b\n"
     ]
    }
   ],
   "source": [
    "box('ab')"
   ]
  },
  {
   "cell_type": "code",
   "execution_count": 28,
   "metadata": {},
   "outputs": [
    {
     "data": {
      "text/plain": [
       "'0b110001001100001'"
      ]
     },
     "execution_count": 28,
     "metadata": {},
     "output_type": "execute_result"
    }
   ],
   "source": [
    "bin(25185)"
   ]
  },
  {
   "cell_type": "markdown",
   "metadata": {},
   "source": [
    "* fromfunction(func,size): 通过下标函数创建数组;"
   ]
  },
  {
   "cell_type": "code",
   "execution_count": 29,
   "metadata": {},
   "outputs": [
    {
     "data": {
      "text/plain": [
       "array([[0., 0., 0., 0.],\n",
       "       [0., 1., 2., 3.],\n",
       "       [0., 2., 4., 6.]])"
      ]
     },
     "execution_count": 29,
     "metadata": {},
     "output_type": "execute_result"
    }
   ],
   "source": [
    "def func(i,j):\n",
    "    return i*j\n",
    "np.fromfunction(func,(3,4))"
   ]
  },
  {
   "cell_type": "markdown",
   "metadata": {},
   "source": [
    "自己创建特殊数组: 给定一个序列, 创建与范德蒙行列式相对应的矩阵"
   ]
  },
  {
   "cell_type": "code",
   "execution_count": 30,
   "metadata": {},
   "outputs": [],
   "source": [
    "def fdm(line2=range(5)):\n",
    "    \"\"\"根据范德蒙行列式的第二行得与范德蒙行列式相对应的矩阵\"\"\"\n",
    "    length = len(line2)\n",
    "    lines = []\n",
    "    for i in range(length):\n",
    "        line = []\n",
    "        for j in range(length):\n",
    "            line.append(line2[j]**i)\n",
    "        lines.append(line)\n",
    "    fdm = np.array(lines, dtype=np.int32)\n",
    "    return fdm"
   ]
  },
  {
   "cell_type": "markdown",
   "metadata": {},
   "source": [
    "scipy库中也有创建特殊数组的函数"
   ]
  },
  {
   "cell_type": "code",
   "execution_count": 31,
   "metadata": {},
   "outputs": [
    {
     "data": {
      "text/plain": [
       "array([[1.        , 0.5       , 0.33333333],\n",
       "       [0.5       , 0.33333333, 0.25      ],\n",
       "       [0.33333333, 0.25      , 0.2       ]])"
      ]
     },
     "execution_count": 31,
     "metadata": {},
     "output_type": "execute_result"
    }
   ],
   "source": [
    "sp.linalg.hilbert(3)"
   ]
  },
  {
   "cell_type": "markdown",
   "metadata": {},
   "source": [
    "### 存取元素"
   ]
  },
  {
   "cell_type": "code",
   "execution_count": 32,
   "metadata": {},
   "outputs": [
    {
     "data": {
      "text/plain": [
       "array([0, 1, 2, 3, 4, 5, 6, 7, 8, 9])"
      ]
     },
     "execution_count": 32,
     "metadata": {},
     "output_type": "execute_result"
    }
   ],
   "source": [
    "a = np.arange(10)\n",
    "a"
   ]
  },
  {
   "cell_type": "markdown",
   "metadata": {},
   "source": [
    "整数下标:"
   ]
  },
  {
   "cell_type": "code",
   "execution_count": 33,
   "metadata": {},
   "outputs": [
    {
     "name": "stdout",
     "output_type": "stream",
     "text": [
      "a[0]  a[9]  a[-1]\n",
      "----  ----  -----\n",
      "0     9     9    \n"
     ]
    }
   ],
   "source": [
    "%C a[0]; a[9]; a[-1]"
   ]
  },
  {
   "cell_type": "code",
   "execution_count": 34,
   "metadata": {},
   "outputs": [
    {
     "name": "stdout",
     "output_type": "stream",
     "text": [
      "index 10 is out of bounds for axis 0 with size 10\n"
     ]
    }
   ],
   "source": [
    "try:\n",
    "    a[10]\n",
    "except Exception as e:\n",
    "    print(e)"
   ]
  },
  {
   "cell_type": "markdown",
   "metadata": {},
   "source": [
    "切片下标: 切片中的 ':' 表示分隔符, 分割初,终,步长;"
   ]
  },
  {
   "cell_type": "code",
   "execution_count": 35,
   "metadata": {},
   "outputs": [
    {
     "name": "stdout",
     "output_type": "stream",
     "text": [
      "  a[:3]    a[8:9]  a[8:-1]               a[:]             \n",
      "---------  ------  -------  ------------------------------\n",
      "[0, 1, 2]  [8]     [8]      [0, 1, 2, 3, 4, 5, 6, 7, 8, 9]\n"
     ]
    }
   ],
   "source": [
    "# 不能取出切片末尾元素 \n",
    "%C a[:3]; a[8:9]; a[8:-1]; a[:]"
   ]
  },
  {
   "cell_type": "code",
   "execution_count": 36,
   "metadata": {},
   "outputs": [
    {
     "name": "stdout",
     "output_type": "stream",
     "text": [
      " a[1:-1:2]    a[5:1:-2]             a[::-1]            \n",
      "------------  ---------  ------------------------------\n",
      "[1, 3, 5, 7]  [5, 3]     [9, 8, 7, 6, 5, 4, 3, 2, 1, 0]\n"
     ]
    }
   ],
   "source": [
    "# 如果步长为负, 开始下标必须大于结束下标\n",
    "%C a[1:-1:2]; a[5:1:-2]; a[::-1]"
   ]
  },
  {
   "cell_type": "markdown",
   "metadata": {},
   "source": [
    "用下标可以用来修改元素的值:"
   ]
  },
  {
   "cell_type": "code",
   "execution_count": 37,
   "metadata": {},
   "outputs": [
    {
     "data": {
      "text/plain": [
       "array([ 0,  1, 20, 30,  4,  5,  6,  7,  8,  9])"
      ]
     },
     "execution_count": 37,
     "metadata": {},
     "output_type": "execute_result"
    }
   ],
   "source": [
    "a[2:4] = 20, 30\n",
    "a"
   ]
  },
  {
   "cell_type": "markdown",
   "metadata": {},
   "source": [
    "通过**切片下标**产生的新数组与原始数组**共享数据存储空间**:"
   ]
  },
  {
   "cell_type": "code",
   "execution_count": 38,
   "metadata": {},
   "outputs": [
    {
     "name": "stdout",
     "output_type": "stream",
     "text": [
      "        b                 a[:3]       \n",
      "------------------  ------------------\n",
      "[-100,    1,   20]  [-100,    1,   20]\n"
     ]
    }
   ],
   "source": [
    "b = a[:3]\n",
    "b[0] = -100 # 将b的第1个元素修改为-100,a的第一个元素也变为-100\n",
    "%C b; a[:3]"
   ]
  },
  {
   "cell_type": "markdown",
   "metadata": {},
   "source": [
    "通过**整数序列**下标产生的新数组与原始数组**不共享存储空间**;  "
   ]
  },
  {
   "cell_type": "code",
   "execution_count": 39,
   "metadata": {
    "scrolled": true
   },
   "outputs": [
    {
     "name": "stdout",
     "output_type": "stream",
     "text": [
      "              x                      a      \n",
      "------------------------------  ------------\n",
      "[0, 1, 2, 3, 4, 5, 6, 7, 8, 9]  [0, 1, 2, 3]\n"
     ]
    }
   ],
   "source": [
    "x = np.arange(0,10)\n",
    "a = x[[0,1,2,3]]\n",
    "%C x; a"
   ]
  },
  {
   "cell_type": "code",
   "execution_count": 40,
   "metadata": {},
   "outputs": [
    {
     "name": "stdout",
     "output_type": "stream",
     "text": [
      "              x                        a        \n",
      "------------------------------  ----------------\n",
      "[0, 1, 2, 3, 4, 5, 6, 7, 8, 9]  [ 0, -1,  2,  3]\n"
     ]
    }
   ],
   "source": [
    "a[1]=-1\n",
    "%C x; a"
   ]
  },
  {
   "cell_type": "markdown",
   "metadata": {},
   "source": [
    "整数数组作为下标, 结果数组的形状要与下标数组的形状相同;  \n",
    "**不管是什么东西做下标, 新数组的形状都要与下标数组的形状相同?**: 不是"
   ]
  },
  {
   "cell_type": "code",
   "execution_count": 41,
   "metadata": {},
   "outputs": [
    {
     "data": {
      "text/plain": [
       "array([3, 3, 1, 8, 3, 3, 7, 8])"
      ]
     },
     "execution_count": 41,
     "metadata": {},
     "output_type": "execute_result"
    }
   ],
   "source": [
    "x[[3,3,1,8,3,3,-3,8]] # 下标数组是一维数组"
   ]
  },
  {
   "cell_type": "code",
   "execution_count": 42,
   "metadata": {},
   "outputs": [
    {
     "data": {
      "text/plain": [
       "array([[3, 3, 1, 8],\n",
       "       [3, 3, 7, 8]])"
      ]
     },
     "execution_count": 42,
     "metadata": {},
     "output_type": "execute_result"
    }
   ],
   "source": [
    "x[np.array([[3,3,1,8],[3,3,-3,8]])] # 下标数组是二维数组"
   ]
  },
  {
   "cell_type": "markdown",
   "metadata": {},
   "source": [
    "布尔数组做下标(`是否选取对应位置的值`), 首先将布尔数组转化为整数数组**nonzero()**(`要选取的位置`);"
   ]
  },
  {
   "cell_type": "code",
   "execution_count": 43,
   "metadata": {},
   "outputs": [],
   "source": [
    "b  = np.arange(0,5)\n",
    "ba = np.array([True, False, True, False, False],dtype=np.bool)"
   ]
  },
  {
   "cell_type": "code",
   "execution_count": 44,
   "metadata": {},
   "outputs": [
    {
     "name": "stdout",
     "output_type": "stream",
     "text": [
      "       b                             ba                               ba.nonzero()          b[ba] \n",
      "---------------  ------------------------------------------  -----------------------------  ------\n",
      "[0, 1, 2, 3, 4]  array([ True, False,  True, False, False])  (array([0, 2], dtype=int64),)  [0, 2]\n"
     ]
    }
   ],
   "source": [
    "%C b; ba; ba.nonzero(); b[ba]"
   ]
  },
  {
   "cell_type": "markdown",
   "metadata": {},
   "source": [
    "布尔列表等视为布尔数组, 但是01列表不可等视为布尔数组:"
   ]
  },
  {
   "cell_type": "code",
   "execution_count": 45,
   "metadata": {
    "scrolled": true
   },
   "outputs": [
    {
     "name": "stdout",
     "output_type": "stream",
     "text": [
      "b[np.array([True, False, True, False, False])]  b[[True, False, True, False, False]]\n",
      "----------------------------------------------  ------------------------------------\n",
      "[0, 2]                                          [0, 2]                              \n",
      "b[[1, 0, 1, 0, 0]]  b[[True, False, True, False, 0]]\n",
      "------------------  --------------------------------\n",
      "[1, 0, 1, 0, 0]     [1, 0, 1, 0, 0]                 \n"
     ]
    }
   ],
   "source": [
    "%C b[np.array([True, False, True, False, False])]; b[[True, False, True, False, False]]\n",
    "%C b[[1, 0, 1, 0, 0]];                              b[[True, False, True, False, 0]]"
   ]
  },
  {
   "cell_type": "markdown",
   "metadata": {},
   "source": [
    "布尔数组下标可以用来修改元素值:"
   ]
  },
  {
   "cell_type": "code",
   "execution_count": 46,
   "metadata": {},
   "outputs": [
    {
     "data": {
      "text/plain": [
       "array([-1,  1, -2, -3,  4])"
      ]
     },
     "execution_count": 46,
     "metadata": {},
     "output_type": "execute_result"
    }
   ],
   "source": [
    "b[[True, False, True, True,False]] = -1, -2, -3 \n",
    "b"
   ]
  },
  {
   "cell_type": "markdown",
   "metadata": {},
   "source": [
    "**布尔数组下标**通常情况下是由ufunc函数产生的:"
   ]
  },
  {
   "cell_type": "code",
   "execution_count": 47,
   "metadata": {},
   "outputs": [
    {
     "name": "stdout",
     "output_type": "stream",
     "text": [
      "     x                    x>5                x[x>5]\n",
      "-----------  ------------------------------  ------\n",
      "[[5, 0, 3],  array([[False, False, False],   [7, 9]\n",
      " [3, 7, 9]]         [False,  True,  True]])        \n",
      "\n",
      "                    np.nonzero(x>5)                     \n",
      "--------------------------------------------------------\n",
      "(array([1, 1], dtype=int64), array([1, 2], dtype=int64))\n"
     ]
    }
   ],
   "source": [
    "np.random.seed(0)\n",
    "x = np.random.randint(0, 10, (2,3))\n",
    "%C x; x>5; x[x>5];; np.nonzero(x>5)"
   ]
  },
  {
   "cell_type": "markdown",
   "metadata": {},
   "source": [
    "### 多维数组的索引"
   ]
  },
  {
   "cell_type": "code",
   "execution_count": 48,
   "metadata": {},
   "outputs": [
    {
     "name": "stdout",
     "output_type": "stream",
     "text": [
      "  a             b                       c             \n",
      "------  ------------------  --------------------------\n",
      "[[ 0],  [0, 1, 2, 3, 4, 5]  [[ 0,  1,  2,  3,  4,  5],\n",
      " [10],                       [10, 11, 12, 13, 14, 15],\n",
      " [20],                       [20, 21, 22, 23, 24, 25],\n",
      " [30],                       [30, 31, 32, 33, 34, 35],\n",
      " [40],                       [40, 41, 42, 43, 44, 45],\n",
      " [50]]                       [50, 51, 52, 53, 54, 55]]\n"
     ]
    }
   ],
   "source": [
    "a = np.arange(0, 60, 10).reshape(-1, 1) #使用reshape将一维数组变为二维数组\n",
    "b = np.arange(0, 6)\n",
    "c = a + b #广播运算\n",
    "%C a; b; c"
   ]
  },
  {
   "cell_type": "markdown",
   "metadata": {},
   "source": [
    "#### 一维数组或者切片做多维数组的下标元组"
   ]
  },
  {
   "cell_type": "markdown",
   "metadata": {},
   "source": [
    "**下标元组的长度必须等于多维数组的维数**:   \n",
    "* 缘由: 几维数组就应该有几个索引;\n",
    "* 如果c是一个二维数组, c的下标必须是一个长度为2的元组;  \n",
    "* 即使是`扩维运算`, 下标元组的长度也必须等于多维数组的维数;"
   ]
  },
  {
   "cell_type": "code",
   "execution_count": 49,
   "metadata": {},
   "outputs": [
    {
     "name": "stdout",
     "output_type": "stream",
     "text": [
      "c[0, 3:5]  c[4:, 4:]           c[:, 2]            c[2::2, ::2] \n",
      "---------  ----------  ------------------------  --------------\n",
      "[3, 4]     [[44, 45],  [ 2, 12, 22, 32, 42, 52]  [[20, 22, 24],\n",
      "            [54, 55]]                             [40, 42, 44]]\n"
     ]
    }
   ],
   "source": [
    "%C c[0, 3:5]; c[4:, 4:]; c[:, 2]; c[2::2, ::2]"
   ]
  },
  {
   "cell_type": "markdown",
   "metadata": {},
   "source": [
    "通过切片联系的两个数组共享内存结构:"
   ]
  },
  {
   "cell_type": "code",
   "execution_count": 50,
   "metadata": {},
   "outputs": [
    {
     "name": "stdout",
     "output_type": "stream",
     "text": [
      "      c[0,:]                d         \n",
      "------------------  ------------------\n",
      "[0, 1, 2, 3, 4, 5]  [0, 1, 2, 3, 4, 5]\n"
     ]
    }
   ],
   "source": [
    "d = c[0,:]\n",
    "%C c[0,:];d"
   ]
  },
  {
   "cell_type": "code",
   "execution_count": 51,
   "metadata": {},
   "outputs": [
    {
     "name": "stdout",
     "output_type": "stream",
     "text": [
      "            c[0,:]                            d               \n",
      "------------------------------  ------------------------------\n",
      "[  0, 100,   2,   3,   4,   5]  [  0, 100,   2,   3,   4,   5]\n"
     ]
    }
   ],
   "source": [
    "d[1]=100\n",
    "%C c[0,:];d"
   ]
  },
  {
   "cell_type": "code",
   "execution_count": 52,
   "metadata": {},
   "outputs": [
    {
     "name": "stdout",
     "output_type": "stream",
     "text": [
      "      c[0,:]                d         \n",
      "------------------  ------------------\n",
      "[0, 1, 2, 3, 4, 5]  [0, 1, 2, 3, 4, 5]\n"
     ]
    }
   ],
   "source": [
    "c[0,1] = 1\n",
    "%C c[0,:];d"
   ]
  },
  {
   "cell_type": "markdown",
   "metadata": {},
   "source": [
    "创建切片对象:  \n",
    "* slice(None,None,2): 创建切片对象的函数;\n",
    "* np.s_: 可以创建切片对象的类;    "
   ]
  },
  {
   "cell_type": "code",
   "execution_count": 53,
   "metadata": {},
   "outputs": [
    {
     "name": "stdout",
     "output_type": "stream",
     "text": [
      "                    idx                                        idx_slice                  \n",
      "--------------------------------------------  --------------------------------------------\n",
      "(slice(None, None, 2), slice(2, None, None))  (slice(None, None, 2), slice(2, None, None))\n"
     ]
    }
   ],
   "source": [
    "idx=np.s_[::2,2:]\n",
    "idx_slice = slice(None, None, 2), slice(2,None)\n",
    "%C idx; idx_slice"
   ]
  },
  {
   "cell_type": "markdown",
   "metadata": {},
   "source": [
    "元组或列表做多维数组的下标, 其长度必须相同:"
   ]
  },
  {
   "cell_type": "code",
   "execution_count": 54,
   "metadata": {},
   "outputs": [
    {
     "name": "stdout",
     "output_type": "stream",
     "text": [
      "c[(0,1,2,3),(1,2,3,4)]  c[[0,1,2,3],[1,2,3,4]]\n",
      "----------------------  ----------------------\n",
      "[ 1, 12, 23, 34]        [ 1, 12, 23, 34]      \n"
     ]
    }
   ],
   "source": [
    "%C c[(0,1,2,3),(1,2,3,4)]; c[[0,1,2,3],[1,2,3,4]]"
   ]
  },
  {
   "cell_type": "markdown",
   "metadata": {},
   "source": [
    "切片和整数序列同时做下标元素长度可以不同:"
   ]
  },
  {
   "cell_type": "code",
   "execution_count": 55,
   "metadata": {},
   "outputs": [
    {
     "data": {
      "text/plain": [
       "array([[20, 22, 25],\n",
       "       [30, 32, 35],\n",
       "       [40, 42, 45],\n",
       "       [50, 52, 55]])"
      ]
     },
     "execution_count": 55,
     "metadata": {},
     "output_type": "execute_result"
    }
   ],
   "source": [
    "c[2:, [0,2,5]]"
   ]
  },
  {
   "cell_type": "markdown",
   "metadata": {},
   "source": [
    "True, False序列可以当布尔数组, 但是0,1序列不可以当布尔数组;"
   ]
  },
  {
   "cell_type": "code",
   "execution_count": 56,
   "metadata": {},
   "outputs": [
    {
     "name": "stdout",
     "output_type": "stream",
     "text": [
      " c[mask,2]               c[tup,2]        \n",
      "------------     ------------------------\n",
      "[ 2, 22, 52]     [12,  2, 12,  2,  2, 12]\n"
     ]
    }
   ],
   "source": [
    "# [True,False,True,False,False,True]\n",
    "mask = np.array([1,0,1,0,0,1], dtype=np.bool) \n",
    "tup = np.array( [1,0,1,0,0,1] )\n",
    "%C 5 c[mask,2]; c[tup,2]"
   ]
  },
  {
   "cell_type": "markdown",
   "metadata": {},
   "source": [
    "元组长度不足数组维数时, 剩余的维数用`:`补足:"
   ]
  },
  {
   "cell_type": "code",
   "execution_count": 57,
   "metadata": {},
   "outputs": [
    {
     "name": "stdout",
     "output_type": "stream",
     "text": [
      "         c[[1,2]]                   c[[1,2],:]        \n",
      "--------------------------  --------------------------\n",
      "[[10, 11, 12, 13, 14, 15],  [[10, 11, 12, 13, 14, 15],\n",
      " [20, 21, 22, 23, 24, 25]]   [20, 21, 22, 23, 24, 25]]\n"
     ]
    }
   ],
   "source": [
    "%C c[[1,2]]; c[[1,2],:]"
   ]
  },
  {
   "cell_type": "markdown",
   "metadata": {},
   "source": [
    "#### 二维数组或切片做多维数组的下标元组"
   ]
  },
  {
   "cell_type": "markdown",
   "metadata": {},
   "source": [
    "下标元组中每个数组元素的形状都相同时: 两个数组中的元素对应起来选取一个点;"
   ]
  },
  {
   "cell_type": "code",
   "execution_count": 58,
   "metadata": {},
   "outputs": [
    {
     "name": "stdout",
     "output_type": "stream",
     "text": [
      "   x          y         c[x,y]  \n",
      "--------  ----------  ----------\n",
      "[[0, 1],  [[-1, -2],  [[ 5, 14],\n",
      " [2, 3]]   [-3, -4]]   [23, 32]]\n"
     ]
    }
   ],
   "source": [
    "x = np.array([[0,1],[2,3]])\n",
    "y = np.array([[-1,-2],[-3,-4]])\n",
    "%C x; y; c[x,y]"
   ]
  },
  {
   "cell_type": "markdown",
   "metadata": {},
   "source": [
    "下标元素中二维数组和切片共存时要进行扩维运算:  \n",
    "1. 下标元组的长度必须等于数组的维数, 不足的长度由`:`代替;  \n",
    "2. 计算结果数组的形状:\n",
    "    1. 不含切片时: 将所有的数组元素进行广播处理, 广播数组的形状就是结果数组的形状;\n",
    "    1. 包含切片时: `数组的形状+切片形状`为结果数组的形状;"
   ]
  },
  {
   "cell_type": "code",
   "execution_count": 59,
   "metadata": {},
   "outputs": [
    {
     "name": "stdout",
     "output_type": "stream",
     "text": [
      "   x           y[0]       c[x,y[0]]                  c[x]                 c[x].shape\n",
      "--------     --------     ----------     ----------------------------     ----------\n",
      "[[0, 1],     [-1, -2]     [[ 5, 14],     [[[ 0,  1,  2,  3,  4,  5],      (2, 2, 6) \n",
      " [2, 3]]                   [25, 34]]       [10, 11, 12, 13, 14, 15]],               \n",
      "                                                                                    \n",
      "                                          [[20, 21, 22, 23, 24, 25],                \n",
      "                                           [30, 31, 32, 33, 34, 35]]]               \n"
     ]
    }
   ],
   "source": [
    "# x与y[0]需要进行广播 #x形状和切片形状进行组合\n",
    "%C 5 x; y[0]; c[x,y[0]]; c[x]; c[x].shape"
   ]
  },
  {
   "cell_type": "markdown",
   "metadata": {},
   "source": [
    ">分析:\n",
    "* 该例中, 下标元组只有一个整数数组元素, 需要添加一个切片元素`:`, 整数数组x的形状为(2,2), 切片的形状(6,), 结果数组的形状应该为(2,2,6);  \n",
    "* (2,2)表示行选取方式有4种, (6,)表示列选取方式有6种, 总共选取c的24个元素, 然后将其排列成(2,2,6)的形状, (2,2,6)表示一个三维数组, 含有两个二维数组, 每个二维数组的形状都是2x6;  \n",
    "* 相当于将整数数组x的每个元素换成原数组c的对应行;"
   ]
  },
  {
   "cell_type": "markdown",
   "metadata": {},
   "source": [
    "a,b都是二维数组, 对于切片在前的二维扩维索引**a[:,b]**:  \n",
    "* 观察`a[:,b]`结果中的二维数组, 从下开始, 依次往上重叠, 最终重叠后的数组的形状便是b的形状;   \n",
    "观察第一个重叠点, 从内向外依次是a第一列上的所有点;  \n",
    "* 将该过程倒过来, 便可以得到结果数组的索引过程: 用后面的二维数组替换前面的切片;  \n",
    "    * 根据索引的长度, 构建一个一维的空框数组;    \n",
    "    * 令x=0, 将其位置替换为一个与b一起决定的的二维数组;  \n",
    "    * 令x=1, 行索引为1, 列索引为b的二维数组; \n",
    "    * x = len(:)-1"
   ]
  },
  {
   "cell_type": "code",
   "execution_count": 60,
   "metadata": {},
   "outputs": [],
   "source": [
    "a = np.arange(0,15).reshape(5,-1)\n",
    "b = np.array([[ 0, 2, 1 ],           \n",
    "              [ 2, 1, 0 ]])"
   ]
  },
  {
   "cell_type": "code",
   "execution_count": 61,
   "metadata": {},
   "outputs": [
    {
     "name": "stdout",
     "output_type": "stream",
     "text": [
      "      a                 b               a[:,b]          a[:2,b]#部分行元素\n",
      "--------------     -----------     ----------------     -------------\n",
      "[[ 0,  1,  2],     [[0, 2, 1],     [[[ 0,  2,  1],      [[[0, 2, 1], \n",
      " [ 3,  4,  5],      [2, 1, 0]]       [ 2,  1,  0]],       [2, 1, 0]],\n",
      " [ 6,  7,  8],                                                       \n",
      " [ 9, 10, 11],                      [[ 3,  5,  4],       [[3, 5, 4], \n",
      " [12, 13, 14]]                       [ 5,  4,  3]],       [5, 4, 3]]]\n",
      "                                                                     \n",
      "                                    [[ 6,  8,  7],                   \n",
      "                                     [ 8,  7,  6]],                  \n",
      "                                                                     \n",
      "                                    [[ 9, 11, 10],                   \n",
      "                                     [11, 10,  9]],                  \n",
      "                                                                     \n",
      "                                    [[12, 14, 13],                   \n",
      "                                     [14, 13, 12]]]                  \n"
     ]
    }
   ],
   "source": [
    "%C 5 a; b; a[:,b]; a[:2,b]#部分行元素"
   ]
  },
  {
   "cell_type": "markdown",
   "metadata": {},
   "source": [
    "2. 切片在后:\n",
    "    * a[b,:], 将b中的每个元素换成a中的一行元素;  \n",
    "    * a[b,i;j]: 将b中的每个元素换成a中的部分行元素;"
   ]
  },
  {
   "cell_type": "code",
   "execution_count": 62,
   "metadata": {},
   "outputs": [
    {
     "name": "stdout",
     "output_type": "stream",
     "text": [
      "     palette              image             palette[image]       palette[image,::2]#部分行元素\n",
      "-----------------     --------------     -------------------     ------------------------\n",
      "[[  0,   0,   0],     [[0, 1, 2, 0],     [[[  0,   0,   0],      [[[  0,   0],           \n",
      " [255,   0,   0],      [0, 3, 4, 0]]       [255,   0,   0],        [255,   0],           \n",
      " [  0, 255,   0],                          [  0, 255,   0],        [  0,   0],           \n",
      " [  0,   0, 255],                          [  0,   0,   0]],       [  0,   0]],          \n",
      " [255, 255, 255]]                                                                        \n",
      "                                          [[  0,   0,   0],       [[  0,   0],           \n",
      "                                           [  0,   0, 255],        [  0, 255],           \n",
      "                                           [255, 255, 255],        [255, 255],           \n",
      "                                           [  0,   0,   0]]]       [  0,   0]]]          \n"
     ]
    }
   ],
   "source": [
    "palette = np.array( [[0,0,0],                \n",
    "                     [255,0,0],              \n",
    "                     [0,255,0],              \n",
    "                     [0,0,255],              \n",
    "                     [255,255,255]] )       \n",
    "image = np.array( [[ 0, 1, 2, 0 ],           \n",
    "                   [ 0, 3, 4, 0 ]] )\n",
    "%C 5 palette; image; palette[image];palette[image,::2]#部分行元素"
   ]
  },
  {
   "cell_type": "markdown",
   "metadata": {},
   "source": [
    "### 结构数组"
   ]
  },
  {
   "cell_type": "markdown",
   "metadata": {},
   "source": [
    "C语言的结构数组和numpy的结构数组可以互相转换:\n",
    "\n",
    "**dtype** 既可以做**关键字参数**, 又可以做**属性名**, 还可以定义**结构数组类**(结构体类型), 结构数组类传递给 numpy 的dtype关键字参数, 从而定义结构体数组;"
   ]
  },
  {
   "cell_type": "markdown",
   "metadata": {},
   "source": [
    "#### 字典式定义"
   ]
  },
  {
   "cell_type": "markdown",
   "metadata": {},
   "source": [
    "dtype定义\"结构数组类\"第一个参数: `{C结构数组的字段(names):[字段列表], C结构数组的类型(formats): [类型列表]}`;"
   ]
  },
  {
   "cell_type": "code",
   "execution_count": 63,
   "metadata": {},
   "outputs": [
    {
     "data": {
      "text/plain": [
       "dtype({'names':['name','age','weight'], 'formats':['S30','<i4','<f4'], 'offsets':[0,32,36], 'itemsize':40}, align=True)"
      ]
     },
     "execution_count": 63,
     "metadata": {},
     "output_type": "execute_result"
    }
   ],
   "source": [
    "persontype = np.dtype( {'names':['name', 'age', 'weight'],\n",
    "                        'formats':['S30','i', 'f']},align=True )\n",
    "persontype"
   ]
  },
  {
   "cell_type": "markdown",
   "metadata": {},
   "source": [
    "定义C语言结构数组: 元素的值看上去是元组,实际上是结构;   "
   ]
  },
  {
   "cell_type": "code",
   "execution_count": 64,
   "metadata": {},
   "outputs": [
    {
     "data": {
      "text/plain": [
       "array([(b'Zhang', 32, 75.5), (b'Wang', 24, 65.2)],\n",
       "      dtype={'names':['name','age','weight'], 'formats':['S30','<i4','<f4'], 'offsets':[0,32,36], 'itemsize':40, 'aligned':True})"
      ]
     },
     "execution_count": 64,
     "metadata": {},
     "output_type": "execute_result"
    }
   ],
   "source": [
    "a = np.array( [(\"Zhang\", 32, 75.5),(\"Wang\", 24, 65.2)],dtype=persontype )\n",
    "a"
   ]
  },
  {
   "cell_type": "code",
   "execution_count": 65,
   "metadata": {},
   "outputs": [
    {
     "data": {
      "text/plain": [
       "(b'Zhang', 32, 75.5)"
      ]
     },
     "execution_count": 65,
     "metadata": {},
     "output_type": "execute_result"
    }
   ],
   "source": [
    "a[0]"
   ]
  },
  {
   "cell_type": "markdown",
   "metadata": {},
   "source": [
    "结构数组的类型与结构数组元素的类型相同;"
   ]
  },
  {
   "cell_type": "code",
   "execution_count": 66,
   "metadata": {},
   "outputs": [
    {
     "name": "stdout",
     "output_type": "stream",
     "text": [
      "{'names':['name','age','weight'], 'formats':['S30','<i4','<f4'], 'offsets':[0,32,36], 'itemsize':40, 'aligned':True}\n",
      "{'names':['name','age','weight'], 'formats':['S30','<i4','<f4'], 'offsets':[0,32,36], 'itemsize':40, 'aligned':True}\n"
     ]
    }
   ],
   "source": [
    "print(a.dtype)\n",
    "print(a[0].dtype)"
   ]
  },
  {
   "cell_type": "markdown",
   "metadata": {},
   "source": [
    "#### 元组式定义"
   ]
  },
  {
   "cell_type": "markdown",
   "metadata": {},
   "source": [
    "用元组(字段名,类型名)描述结构数组类:"
   ]
  },
  {
   "cell_type": "code",
   "execution_count": 67,
   "metadata": {},
   "outputs": [
    {
     "data": {
      "text/plain": [
       "dtype([('name', 'S30'), ('age', '<i4'), ('weight', '<f4')])"
      ]
     },
     "execution_count": 67,
     "metadata": {},
     "output_type": "execute_result"
    }
   ],
   "source": [
    "np.dtype( [('name','|S30'),('age','<i4'),('weight','<f4')] )"
   ]
  },
  {
   "cell_type": "markdown",
   "metadata": {},
   "source": [
    "**字节顺序**: 字节在内存中的顺序;\n",
    "* 一般情况(大端模式), 左边字节位高于右边字节位, 左边地址编号小于右边地址编号;\n",
    "* **大端字节序**: 将高字节数据存放在内存低地址处, 低字节数据存放在高地址处;\n",
    "* 小端字节序: 将低字节数据存放在内存低地址处, 高字节数据存放在内存高地址处;   \n",
    "\n",
    "字段值的字节顺序:  \n",
    "* `|`: 忽略字节顺序;  \n",
    "* `<`:低位字节在前, 小端模式(little endian);  \n",
    "* `>`:高位字节在前, 大端模式(big endian);"
   ]
  },
  {
   "cell_type": "code",
   "execution_count": 68,
   "metadata": {},
   "outputs": [
    {
     "name": "stdout",
     "output_type": "stream",
     "text": [
      "0x3412->大端模式(0x3412): 0b11010000010010\n",
      "0x3412->小端模式(0x2134): 0b10000100110100\n"
     ]
    }
   ],
   "source": [
    "# 16进制数据: 0x3412 \n",
    "print( \"0x3412->大端模式(0x3412):\", bin(0x3412) ) #按大端模式存储时在内存中显示的的二进制数\n",
    "print( \"0x3412->小端模式(0x2134):\", bin(0x2134) ) #按小端模式存储时在内存中显示的的二进制数"
   ]
  },
  {
   "cell_type": "markdown",
   "metadata": {},
   "source": [
    "#### 结构数组的存取"
   ]
  },
  {
   "cell_type": "markdown",
   "metadata": {},
   "source": [
    "结构数组的存取方式和一般数组一样, 并且可以使用字段名作为索引:"
   ]
  },
  {
   "cell_type": "code",
   "execution_count": 69,
   "metadata": {},
   "outputs": [
    {
     "name": "stdout",
     "output_type": "stream",
     "text": [
      "        a[0]                  a[1]       \n",
      "--------------------  -------------------\n",
      "(b'Zhang', 32, 75.5)  (b'Wang', 24, 65.2)\n"
     ]
    }
   ],
   "source": [
    "# 查看结构数组中的行\n",
    "%C a[0]; a[1]"
   ]
  },
  {
   "cell_type": "code",
   "execution_count": 70,
   "metadata": {},
   "outputs": [
    {
     "name": "stdout",
     "output_type": "stream",
     "text": [
      "               a['name']                  a['age']  a['weight'] \n",
      "----------------------------------------  --------  ------------\n",
      "array([b'Zhang', b'Wang'], dtype='|S30')  [32, 24]  [75.5, 65.2]\n"
     ]
    }
   ],
   "source": [
    "# 查看结构数组中的列\n",
    "%C a['name']; a['age']; a['weight']"
   ]
  },
  {
   "cell_type": "markdown",
   "metadata": {},
   "source": [
    "字段既可以做结构元素的索引, 也可以做结构数组的索引"
   ]
  },
  {
   "cell_type": "code",
   "execution_count": 71,
   "metadata": {},
   "outputs": [
    {
     "name": "stdout",
     "output_type": "stream",
     "text": [
      "a[0]['name']  a[0]['age']  a[0]['weight']\n",
      "------------  -----------  --------------\n",
      "b'Zhang'      32           75.5          \n",
      "\n",
      "a['name'][0]  a['age'][0]  a['weight'][0]\n",
      "------------  -----------  --------------\n",
      "b'Zhang'      32           75.5          \n"
     ]
    }
   ],
   "source": [
    "# 查看表中的一个确定元素\n",
    "%C a[0]['name']; a[0]['age']; a[0]['weight'];;\\\n",
    "   a['name'][0]; a['age'][0]; a['weight'][0]"
   ]
  },
  {
   "cell_type": "markdown",
   "metadata": {
    "collapsed": true
   },
   "source": [
    "**a.tostring()**或**a.tofile()**方法可以将数组a以二进制的方式转换成字符串或写入文件, 文件名的后缀不能任意取;"
   ]
  },
  {
   "cell_type": "code",
   "execution_count": 72,
   "metadata": {},
   "outputs": [],
   "source": [
    "a.tofile(\"data/test.bin\")"
   ]
  },
  {
   "cell_type": "markdown",
   "metadata": {},
   "source": [
    "可以读取test.bin文件的C语言程序"
   ]
  },
  {
   "cell_type": "code",
   "execution_count": 73,
   "metadata": {},
   "outputs": [
    {
     "name": "stdout",
     "output_type": "stream",
     "text": [
      "已覆盖原文件!data/read_struct_array.c>\n"
     ]
    }
   ],
   "source": [
    "%%cell2file -o data/read_struct_array.c\n",
    "#include <stdio.h>\n",
    "\n",
    "struct person \n",
    "{\n",
    "    char name[30];\n",
    "    int age;\n",
    "    float weight;\n",
    "};\n",
    "\n",
    "struct person p[3];\n",
    "\n",
    "void main ()\n",
    "{\n",
    "    FILE *fp;\n",
    "    int i;\n",
    "    fp=fopen(\"test.bin\",\"rb\");\n",
    "    fread(p, sizeof(struct person), 2, fp);\n",
    "    fclose(fp);\n",
    "    for(i=0;i<2;i++)\n",
    "    {\n",
    "        printf(\"%s %d %f\\n\", p[i].name, p[i].age, p[i].weight);\n",
    "    }\n",
    "}"
   ]
  },
  {
   "cell_type": "markdown",
   "metadata": {},
   "source": [
    "使用gcc编译器编译C语言程序并执行"
   ]
  },
  {
   "cell_type": "code",
   "execution_count": 74,
   "metadata": {},
   "outputs": [],
   "source": [
    "%%disabled\n",
    "!gcc read_struct_array.c -o read_struct_array.exe\n",
    "!read_struct_array.exe"
   ]
  },
  {
   "cell_type": "markdown",
   "metadata": {},
   "source": [
    "#### 结构体类型可以包含其他的结构体类型"
   ]
  },
  {
   "cell_type": "code",
   "execution_count": 75,
   "metadata": {},
   "outputs": [
    {
     "name": "stdout",
     "output_type": "stream",
     "text": [
      "**********************************************!kk4:异常>**********************************************\n"
     ]
    }
   ],
   "source": [
    "kk 4"
   ]
  },
  {
   "cell_type": "code",
   "execution_count": 76,
   "metadata": {},
   "outputs": [
    {
     "data": {
      "text/plain": [
       "dtype([('f1', [('f2', '<i2')])])"
      ]
     },
     "execution_count": 76,
     "metadata": {},
     "output_type": "execute_result"
    }
   ],
   "source": [
    "np.dtype([('f1', [('f2', np.int16)])])"
   ]
  },
  {
   "cell_type": "markdown",
   "metadata": {},
   "source": [
    "当某个字段为结构数组时(将表格中的一个格子扩充成一张表), 用元组的第三个元素表示其形状;  "
   ]
  },
  {
   "cell_type": "code",
   "execution_count": 77,
   "metadata": {},
   "outputs": [
    {
     "data": {
      "text/plain": [
       "dtype([('f0', '<i4'), ('f1', '<f8', (2, 3))])"
      ]
     },
     "execution_count": 77,
     "metadata": {},
     "output_type": "execute_result"
    }
   ],
   "source": [
    "np.dtype([('f0', 'i4'), ('f1', 'f8', (2, 3))])"
   ]
  },
  {
   "cell_type": "markdown",
   "metadata": {},
   "source": [
    "surname结构的字段名, 值为字段的类型描述, 类型描述的第二个值表示以字节为单位的偏移量"
   ]
  },
  {
   "cell_type": "code",
   "execution_count": 78,
   "metadata": {},
   "outputs": [
    {
     "data": {
      "text/plain": [
       "dtype([('surname', 'S25'), ('age', 'u1')])"
      ]
     },
     "execution_count": 78,
     "metadata": {},
     "output_type": "execute_result"
    }
   ],
   "source": [
    "np.dtype({'surname':('S25',0),'age':(np.uint8,25)})"
   ]
  },
  {
   "cell_type": "markdown",
   "metadata": {},
   "source": [
    "### 内存结构"
   ]
  },
  {
   "cell_type": "markdown",
   "metadata": {},
   "source": [
    "N维数组对象的数据结构(数组对象是如何在内存中存储的?):\n",
    "1. 元素类型(dtype): 描述元素的类型, 是整数还是实数,字符串还是布尔值;  \n",
    "1. 数据存储区域(data): 保存着数组中所有元素的二进制数据;\n",
    "1. 维数和维度(dim-count,dimension): 维数表明数组是二维的还是三维的, 维度表明某个维数上的长度;  \n",
    "    * A(2,2,6): 数组A的维数是3, 每一维数的长度分别是2,2,6;\n",
    "1. 轴元素间隔(strides): 每个轴上相邻两个元素之间的地址差;"
   ]
  },
  {
   "cell_type": "code",
   "execution_count": 79,
   "metadata": {},
   "outputs": [
    {
     "data": {
      "text/plain": [
       "array([[0., 1., 2.],\n",
       "       [3., 4., 5.],\n",
       "       [6., 7., 8.]], dtype=float32)"
      ]
     },
     "execution_count": 79,
     "metadata": {},
     "output_type": "execute_result"
    }
   ],
   "source": [
    "A = np.array(np.arange(9).reshape(3,3),dtype=np.float32)\n",
    "A"
   ]
  },
  {
   "cell_type": "markdown",
   "metadata": {},
   "source": [
    "查看数组元素所占的字节数"
   ]
  },
  {
   "cell_type": "code",
   "execution_count": 80,
   "metadata": {},
   "outputs": [
    {
     "name": "stdout",
     "output_type": "stream",
     "text": [
      "    A.dtype          A.dtype.itemsize\n",
      "----------------     ----------------\n",
      "dtype('float32')     4               \n"
     ]
    }
   ],
   "source": [
    "%C 5 A.dtype; A.dtype.itemsize"
   ]
  },
  {
   "cell_type": "markdown",
   "metadata": {},
   "source": [
    "查看数组元素在数据存储区中的排列格式(Python坐标系: 0轴往下延伸, 1轴往右延伸):  \n",
    "1. Fortran格式(MATLAB): 按列给元素地址编号, `列邻位元素`的地址差小于`行邻位元素`的地址差;  \n",
    "1. C语言格式: 按行给元素地址编号, `行邻位元素`的地址差小于`列邻位`元素的地址差;  \n",
    "1. Numpy数组可以使用不同的排列格式;"
   ]
  },
  {
   "cell_type": "code",
   "execution_count": 81,
   "metadata": {},
   "outputs": [
    {
     "data": {
      "text/plain": [
       "True"
      ]
     },
     "execution_count": 81,
     "metadata": {},
     "output_type": "execute_result"
    }
   ],
   "source": [
    "# 将A元素的排列方式设为C语言格式\n",
    "A = np.array(A,dtype=np.float32, order=\"C\")\n",
    "A.flags.c_contiguous"
   ]
  },
  {
   "cell_type": "code",
   "execution_count": 82,
   "metadata": {},
   "outputs": [],
   "source": [
    "%%disabled\n",
    "# 将A元素的排列方式改为Fortran语言格式\n",
    "A = np.array(A,dtype=np.float32, order=\"F\")\n",
    "A.flags.f_contiguous"
   ]
  },
  {
   "cell_type": "markdown",
   "metadata": {},
   "source": [
    "flags描述了数据存储区域的一些属性:  \n",
    "* C_CONTIGUOUS: 是否按C语言的格式排列元素;  \n",
    "* OWNDATA: 该数组是否为内存对象的实际拥有者, 当一个数组是其他数组的视图时, 为不拥有;  \n",
    "* ALIGNED: 内存对齐, 为了内存寻址的方便, C语言的结构类型会自动添加一些填充用的字节;  "
   ]
  },
  {
   "cell_type": "code",
   "execution_count": 83,
   "metadata": {},
   "outputs": [
    {
     "name": "stdout",
     "output_type": "stream",
     "text": [
      "A.flags.owndata  A.T.flags.owndata #A.T只是内存对象的一个视图\n",
      "---------------  ---------------------------------\n",
      "True             False                            \n"
     ]
    }
   ],
   "source": [
    "%C A.flags.owndata; A.T.flags.owndata #A.T只是内存对象的一个视图"
   ]
  },
  {
   "cell_type": "markdown",
   "metadata": {},
   "source": [
    "**strides属性**保存每个轴上相邻两个元素的字节差(地址差):  \n",
    "一个float32占4个字节, 0轴邻位元素实际还间隔了两个行元素;"
   ]
  },
  {
   "cell_type": "code",
   "execution_count": 84,
   "metadata": {},
   "outputs": [
    {
     "data": {
      "text/plain": [
       "(12, 4)"
      ]
     },
     "execution_count": 84,
     "metadata": {},
     "output_type": "execute_result"
    }
   ],
   "source": [
    "A.strides #C格式, 4字节表示一个元素"
   ]
  },
  {
   "cell_type": "markdown",
   "metadata": {},
   "source": [
    "通过strides属性可以直接改变数组的排列方式, 不会放弃对内存的主权, 但会改变元素的排列格式"
   ]
  },
  {
   "cell_type": "code",
   "execution_count": 85,
   "metadata": {},
   "outputs": [
    {
     "name": "stdout",
     "output_type": "stream",
     "text": [
      "      A         A.flags.owndata  A.flags.c_contiguous\n",
      "--------------  ---------------  --------------------\n",
      "[[0., 3., 6.],  True             False               \n",
      " [1., 4., 7.],                                       \n",
      " [2., 5., 8.]]                                       \n"
     ]
    }
   ],
   "source": [
    "A.strides = 4,12\n",
    "%C A; A.flags.owndata; A.flags.c_contiguous"
   ]
  },
  {
   "cell_type": "code",
   "execution_count": 86,
   "metadata": {},
   "outputs": [
    {
     "data": {
      "text/plain": [
       "True"
      ]
     },
     "execution_count": 86,
     "metadata": {},
     "output_type": "execute_result"
    }
   ],
   "source": [
    "# 将A元素的排列方式设为C语言格式\n",
    "A = np.array(A,dtype=np.float32, order=\"C\")\n",
    "A.flags.c_contiguous"
   ]
  },
  {
   "cell_type": "markdown",
   "metadata": {},
   "source": [
    "解释下标取得数据时引用和复制的问题\n",
    "\n",
    "1. 切片做下标(单一整数): 无需改变数据元素在内存中的排列顺序, 调节数组属性即可实现新的表现形式(视图), 因此新数组只是内存对象的单纯引用;\n",
    "1. 序列和数组(包括布尔数组)做下表时, 不能保证所选取的数据在内存区域中是等间隔的, 不能调节数组属性得到所需的表现形式, 因此会创建新的数组对象;"
   ]
  },
  {
   "cell_type": "markdown",
   "metadata": {},
   "source": [
    "**base 属性** 可以获得视图数组的原始数组"
   ]
  },
  {
   "cell_type": "code",
   "execution_count": 87,
   "metadata": {},
   "outputs": [
    {
     "data": {
      "text/plain": [
       "array([[0., 3., 6.],\n",
       "       [1., 4., 7.],\n",
       "       [2., 5., 8.]], dtype=float32)"
      ]
     },
     "execution_count": 87,
     "metadata": {},
     "output_type": "execute_result"
    }
   ],
   "source": [
    "A.T.base"
   ]
  },
  {
   "cell_type": "markdown",
   "metadata": {},
   "source": [
    "**view方法**使用不同的数值类型查看同一段内存中的二进制数据(类似frombuffer的功能?)"
   ]
  },
  {
   "cell_type": "code",
   "execution_count": 88,
   "metadata": {},
   "outputs": [
    {
     "name": "stdout",
     "output_type": "stream",
     "text": [
      " A            B                      C            \n",
      "----     ------------     ------------------------\n",
      "[1.]     [1065353216]     [   0,    0, -128,   63]\n"
     ]
    }
   ],
   "source": [
    "A = np.array([1],dtype=np.float32)\n",
    "B = A.view(np.uint32)\n",
    "C = A.view(np.int8)\n",
    "%C 5 A; B; C"
   ]
  },
  {
   "cell_type": "markdown",
   "metadata": {},
   "source": [
    "@从一维数组创建重叠矩阵: **矩阵中的元素按某种规律重复出现**"
   ]
  },
  {
   "cell_type": "code",
   "execution_count": 89,
   "metadata": {},
   "outputs": [
    {
     "name": "stdout",
     "output_type": "stream",
     "text": [
      "a.flags.c_contiguous     a.dtype.itemsize\n",
      "--------------------     ----------------\n",
      "True                     4               \n",
      "\n",
      "              a                          A       \n",
      "------------------------------     --------------\n",
      "[0, 1, 2, 3, 4, 5, 6, 7, 8, 9]     [[0, 2, 4, 6],\n",
      "                                    [1, 3, 5, 7],\n",
      "                                    [2, 4, 6, 8]]\n"
     ]
    }
   ],
   "source": [
    "from numpy.lib.stride_tricks import as_strided\n",
    "a = np.arange(10)\n",
    "A = as_strided(a, shape=(3, 4), strides=(4,8)) \n",
    "%C 5 a.flags.c_contiguous; a.dtype.itemsize;; a; A"
   ]
  },
  {
   "cell_type": "markdown",
   "metadata": {},
   "source": [
    "将a中的元素选入A:  \n",
    "1. a中的第一个元素就是A的第一个元素;  \n",
    "1. strides[0]=4: A0轴上元素的字节差为4, 即A的列邻元素就是a中的邻元素, 由此填充A的列;\n",
    "1. strides[1]=8: A1轴上元素的字节差为8, 即A的行邻元素就是a中的隔一个元素的邻元素, 由此填充A的行;"
   ]
  },
  {
   "cell_type": "code",
   "execution_count": 90,
   "metadata": {},
   "outputs": [
    {
     "name": "stdout",
     "output_type": "stream",
     "text": [
      "$$$$$$$$$$$$$$$$$$$$$$$$$$$$$$$$$$$$$$$$$$$$$$!kk2:终止>$$$$$$$$$$$$$$$$$$$$$$$$$$$$$$$$$$$$$$$$$$$$$$\n"
     ]
    }
   ],
   "source": [
    "kk 2"
   ]
  }
 ],
 "metadata": {
  "kernelspec": {
   "display_name": "Python 3",
   "language": "python",
   "name": "python3"
  },
  "language_info": {
   "codemirror_mode": {
    "name": "ipython",
    "version": 3
   },
   "file_extension": ".py",
   "mimetype": "text/x-python",
   "name": "python",
   "nbconvert_exporter": "python",
   "pygments_lexer": "ipython3",
   "version": "3.6.5"
  },
  "toc": {
   "base_numbering": "2.1",
   "nav_menu": {},
   "number_sections": true,
   "sideBar": true,
   "skip_h1_title": true,
   "title_cell": "Table of Contents",
   "title_sidebar": "Contents",
   "toc_cell": false,
   "toc_position": {
    "height": "calc(100% - 180px)",
    "left": "10px",
    "top": "150px",
    "width": "165px"
   },
   "toc_section_display": true,
   "toc_window_display": false
  }
 },
 "nbformat": 4,
 "nbformat_minor": 1
}
